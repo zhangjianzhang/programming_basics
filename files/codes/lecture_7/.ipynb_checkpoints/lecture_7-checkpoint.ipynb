{
 "cells": [
  {
   "cell_type": "markdown",
   "metadata": {},
   "source": [
    "## 模块与包的定义"
   ]
  },
  {
   "cell_type": "markdown",
   "metadata": {},
   "source": [
    "Python 模块(Module)，是一个 Python 文件，以 .py 结尾，包含了 Python 对象定义和Python语句；\n",
    "\n",
    "模块让你能够有逻辑地组织你的 Python 代码段；\n",
    "\n",
    "把相关的代码分配到一个模块里能让你的代码更好用，更易懂；\n",
    "\n",
    "模块能定义函数，类和变量，模块里也能包含可执行的代码；\n",
    "\n",
    "当把一些相关的代码存放在**一个文件中**时，就创建了**一个模块**。**模块中的定义可以被导入到其他模块中从而被其他模块所使用**，这就使得我们可以在多个程序中使用已经编写好的函数而无需将函数复制到每个程序中。"
   ]
  },
  {
   "cell_type": "markdown",
   "metadata": {},
   "source": [
    "总的来说，模块就是包含Python定义和声明的文件，文件名就是模块名加上扩展名`.py`。"
   ]
  },
  {
   "cell_type": "markdown",
   "metadata": {},
   "source": [
    "模块有一些内置属性，用于存储模块的某些信息，如`__name__`，`__doc__`，等等，`__name__`属性用来取得模块的名称。"
   ]
  },
  {
   "cell_type": "markdown",
   "metadata": {},
   "source": [
    "我们来看看python3自带（内置）的`string`模块。"
   ]
  },
  {
   "cell_type": "code",
   "execution_count": 1,
   "metadata": {},
   "outputs": [],
   "source": [
    "import string"
   ]
  },
  {
   "cell_type": "code",
   "execution_count": 2,
   "metadata": {},
   "outputs": [
    {
     "data": {
      "text/plain": [
       "'string'"
      ]
     },
     "execution_count": 2,
     "metadata": {},
     "output_type": "execute_result"
    }
   ],
   "source": [
    "string.__name__"
   ]
  },
  {
   "cell_type": "code",
   "execution_count": 3,
   "metadata": {},
   "outputs": [
    {
     "data": {
      "text/plain": [
       "'A collection of string constants.\\n\\nPublic module variables:\\n\\nwhitespace -- a string containing all ASCII whitespace\\nascii_lowercase -- a string containing all ASCII lowercase letters\\nascii_uppercase -- a string containing all ASCII uppercase letters\\nascii_letters -- a string containing all ASCII letters\\ndigits -- a string containing all ASCII decimal digits\\nhexdigits -- a string containing all ASCII hexadecimal digits\\noctdigits -- a string containing all ASCII octal digits\\npunctuation -- a string containing all ASCII punctuation characters\\nprintable -- a string containing all ASCII characters considered printable\\n\\n'"
      ]
     },
     "execution_count": 3,
     "metadata": {},
     "output_type": "execute_result"
    }
   ],
   "source": [
    "string.__doc__"
   ]
  },
  {
   "cell_type": "markdown",
   "metadata": {},
   "source": [
    "下面的图片以`Ubuntu`系统为例，`Windows`系统和`Mac OS`系统是类似的：\n",
    "\n",
    "Python自带的模块位于`python3.7`文件夹中，"
   ]
  },
  {
   "cell_type": "markdown",
   "metadata": {},
   "source": [
    "<div align=center>\n",
    "<img width=\"750\" height=\"550\" src=\"https://github.com/zhangjianzhang/programming_basics/blob/master/files/codes/lecture_7/python_module.jpg?raw=true\">\n",
    "\n",
    "<p><center><font>python内置模块</font></center></p>\n",
    "</div>"
   ]
  },
  {
   "cell_type": "markdown",
   "metadata": {},
   "source": [
    "上图显示了文件夹`/usr/local/anaconda3/lib/python3.7`中的部分内容。总体上分为两部分：\n",
    "\n",
    "- 文件夹表示包（package），如`http`包，`email`包；\n",
    "\n",
    "- `.py`文件表示模块，如`calendar`模块，`string`模块。"
   ]
  },
  {
   "cell_type": "markdown",
   "metadata": {},
   "source": [
    "<div align=center>\n",
    "<img width=\"750\" height=\"550\" src=\"https://github.com/zhangjianzhang/programming_basics/blob/master/files/codes/lecture_7/string.jpg?raw=true\">\n",
    "\n",
    "<p><center><font>string模块</font></center></p>\n",
    "</div>"
   ]
  },
  {
   "cell_type": "markdown",
   "metadata": {},
   "source": [
    "打开`string.py`看看里面的内容："
   ]
  },
  {
   "cell_type": "markdown",
   "metadata": {},
   "source": [
    "<div align=center>\n",
    "<img width=\"750\" height=\"550\" src=\"https://github.com/zhangjianzhang/programming_basics/blob/master/files/codes/lecture_7/string_file_1.jpg?raw=true\">\n",
    "\n",
    "<p><center><font>string.py的内容</font></center></p>\n",
    "</div>"
   ]
  },
  {
   "cell_type": "markdown",
   "metadata": {},
   "source": [
    "从上图可以看到：\n",
    "\n",
    "- `string.__doc__`返回的内容就是`string.py`文件头部的说明性内容，介绍了该模块包含的内容和功能；\n",
    "\n",
    "- `string.__name__`就是模块的文件名。"
   ]
  },
  {
   "cell_type": "markdown",
   "metadata": {},
   "source": [
    "再往下看一看："
   ]
  },
  {
   "cell_type": "markdown",
   "metadata": {},
   "source": [
    "<div align=center>\n",
    "<img width=\"750\" height=\"550\" src=\"https://github.com/zhangjianzhang/programming_basics/blob/master/files/codes/lecture_7/string_file_2.jpg?raw=true\">\n",
    "\n",
    "<p><center><font>string.py的内容</font></center></p>\n",
    "</div>"
   ]
  },
  {
   "cell_type": "markdown",
   "metadata": {},
   "source": [
    "从上图可以看到，`string`模块里定义了函数、类（class），也有对其他包（package）和模块的导入：\n",
    "\n",
    "- 定义了`capwords`函数；\n",
    "\n",
    "- 定义了`Template`类；\n",
    "\n",
    "- 导入了正则表达式模块`re`；\n",
    "\n",
    "- 导入了`collection`包中的`ChainMap`类。"
   ]
  },
  {
   "cell_type": "markdown",
   "metadata": {},
   "source": [
    "下面，我们自己定义一个模块，命名为`demo_module.py`，内容如下："
   ]
  },
  {
   "cell_type": "code",
   "execution_count": 4,
   "metadata": {},
   "outputs": [],
   "source": [
    "'''\n",
    "This is a demo module\n",
    "'''\n",
    "\n",
    "import string\n",
    "\n",
    "\n",
    "def my_print(content):\n",
    "    '''\n",
    "    print alphabets characters vertically.\n",
    "    '''\n",
    "    alphanum_list = list(filter(lambda char:char in string.ascii_letters, content))\n",
    "    print('\\n'.join(alphanum_list))"
   ]
  },
  {
   "cell_type": "markdown",
   "metadata": {},
   "source": [
    "把上述代码保存在`demo_module.py`文件中，在相同的文件夹中新建一个py文件`test_demo_module.py`，内容如下："
   ]
  },
  {
   "cell_type": "code",
   "execution_count": 5,
   "metadata": {},
   "outputs": [
    {
     "name": "stdout",
     "output_type": "stream",
     "text": [
      "G\n",
      "o\n",
      "o\n",
      "d\n"
     ]
    }
   ],
   "source": [
    "import demo_module\n",
    "\n",
    "demo_module.my_print('G哈哈o滴滴o棒棒哒d×*%123')"
   ]
  },
  {
   "cell_type": "markdown",
   "metadata": {},
   "source": [
    "<b><font color=Chocolate>拓展学习：</font></b>\n",
    "\n",
    "- <a href=\"https://www.liaoxuefeng.com/wiki/1016959663602400/1017455068170048\" target=\"_blank\">使用模块</a>"
   ]
  },
  {
   "cell_type": "markdown",
   "metadata": {},
   "source": [
    "## 包管理"
   ]
  },
  {
   "cell_type": "markdown",
   "metadata": {},
   "source": [
    "pip：方便的包管理工具"
   ]
  },
  {
   "cell_type": "markdown",
   "metadata": {},
   "source": [
    "安装pip：\n",
    "\n",
    "- 下载`get-pip.py`，地址为：https://bootstrap.pypa.io/get-pip.py\n",
    "- 安装pip，打开命令行，进入到包含`get-pip.py`的文件夹，执行`py get-pip.py`"
   ]
  },
  {
   "cell_type": "markdown",
   "metadata": {},
   "source": [
    "Python 3.4+ 以上版本都自带pip工具，无需自己安装；\n",
    "\n",
    "Anaconda也自带了pip工具，无需自己安装。"
   ]
  },
  {
   "cell_type": "markdown",
   "metadata": {},
   "source": [
    "pip的几种常用方法：\n",
    "\n",
    "- pip install <PackageName>\t\t安装包\n",
    "    \n",
    "- pip show <PackageName>\t\t查看已安装的包信息\n",
    "    \n",
    "- pip list \t\t\t\t列出已安装的所有包\n",
    "\n",
    "- pip list --outdated\t\t\t列出需要更新的包\n",
    "\n",
    "- pip install --upgrade <PackageName> \t升级包\n",
    "    \n",
    "- pip uninstall <Package>\t\t卸载包"
   ]
  },
  {
   "cell_type": "markdown",
   "metadata": {},
   "source": [
    "pip工具是在命令行中使用，如Windows系统的CMD中，Linux和Mac OS的terminal中，下图显示了在Ubuntu 16.04系统中，成功安装中文分析工具包`jieba`。"
   ]
  },
  {
   "cell_type": "markdown",
   "metadata": {},
   "source": [
    "<div align=center>\n",
    "<img width=\"650\" height=\"350\" src=\"https://github.com/zhangjianzhang/programming_basics/blob/master/files/codes/lecture_7/pip_jieba.jpg?raw=true\">\n",
    "\n",
    "<p><center><font>使用pip命令安装中文分析工具包jieba</font></center></p>\n",
    "</div>"
   ]
  },
  {
   "cell_type": "markdown",
   "metadata": {},
   "source": [
    "部分同学的Windows用户名是中文名，导致jupyter-notebook无法正常运行，报错信息为`Bad file descriptor....`，最快捷的解决办法就是用pip命令降级一个名为`pyzmq`的软件包，如下两行命令即可："
   ]
  },
  {
   "cell_type": "markdown",
   "metadata": {},
   "source": [
    "卸载pyzmq高版本\n",
    "\n",
    "`pip uninstall pyzmq`\n",
    "\n",
    "安装低版本19.0.2版\n",
    "\n",
    "`pip install pyzmq==19.0.2 --user`"
   ]
  },
  {
   "cell_type": "markdown",
   "metadata": {},
   "source": [
    "<b><font color=Chocolate>拓展学习：</font></b>\n",
    "\n",
    "- <a href=\"https://www.runoob.com/w3cnote/pip-cn-mirror.html\" target=\"_blank\">pip 使用国内镜像源加快安装速度</a>"
   ]
  },
  {
   "cell_type": "markdown",
   "metadata": {},
   "source": [
    "<b><font color=red>思考题：</font></b>\n",
    "\n",
    "使用`pip`命令在自己的机器上安装中文分析工具包`jieba`。"
   ]
  },
  {
   "cell_type": "markdown",
   "metadata": {},
   "source": [
    "## 模块与包的使用"
   ]
  },
  {
   "cell_type": "markdown",
   "metadata": {},
   "source": [
    "Python以模块为单位来组织代码（一个个`.py`文件）；\n",
    "\n",
    "Python标准库自身就内置了许多标准模块，还有非常丰富的第三方模块以供用户使用；\n",
    "\n",
    "用户也可以自己编写模块（如上面的`demo_module.py`）。"
   ]
  },
  {
   "cell_type": "markdown",
   "metadata": {},
   "source": [
    "要在模块外部使用模块内定义的函数，首先要导入该模块：\n",
    "\n",
    "使用import语句可以导入一个模块，格式为`import 模块名 [as 别名]`。 "
   ]
  },
  {
   "cell_type": "code",
   "execution_count": 6,
   "metadata": {},
   "outputs": [],
   "source": [
    "# 导入第三方画图包matplotlib中的pyplot模块，并为其赋予一个别名plt\n",
    "import matplotlib.pyplot as plt"
   ]
  },
  {
   "cell_type": "code",
   "execution_count": 7,
   "metadata": {},
   "outputs": [
    {
     "name": "stdout",
     "output_type": "stream",
     "text": [
      "G\n",
      "o\n",
      "o\n",
      "d\n"
     ]
    }
   ],
   "source": [
    "# 导入自定义的模块，并赋予一个别名dm\n",
    "import demo_module as dm\n",
    "\n",
    "dm.my_print('G哈哈o滴滴o棒棒哒d×*%123')"
   ]
  },
  {
   "cell_type": "markdown",
   "metadata": {},
   "source": [
    "如果频繁地使用一个函数而不想总是带着模块名进行调用，则可以将其赋给一个本地变量。"
   ]
  },
  {
   "cell_type": "code",
   "execution_count": 8,
   "metadata": {},
   "outputs": [
    {
     "name": "stdout",
     "output_type": "stream",
     "text": [
      "G\n",
      "o\n",
      "o\n",
      "d\n"
     ]
    }
   ],
   "source": [
    "pfunc = dm.my_print\n",
    "\n",
    "pfunc('G哈哈o滴滴o棒棒哒d×*%123')"
   ]
  },
  {
   "cell_type": "markdown",
   "metadata": {},
   "source": [
    "在import后添加as子句来作为模块的别名，模块全名太长，起一个短的别名，敲起来快捷高效。"
   ]
  },
  {
   "cell_type": "markdown",
   "metadata": {},
   "source": [
    "Python还支持另外一种语法，即`from 模块名 import 对象名 [as 别名]`，使用这种格式仅导入明确指定的对象，可以减少访问速度，同时不需要使用模块名进行调用。"
   ]
  },
  {
   "cell_type": "code",
   "execution_count": 9,
   "metadata": {},
   "outputs": [],
   "source": [
    "# 从string模块中导入变量ascii_letters，并赋予一个别名aletters\n",
    "from string import ascii_letters as aletters"
   ]
  },
  {
   "cell_type": "code",
   "execution_count": 10,
   "metadata": {},
   "outputs": [
    {
     "data": {
      "text/plain": [
       "'abcdefghijklmnopqrstuvwxyzABCDEFGHIJKLMNOPQRSTUVWXYZ'"
      ]
     },
     "execution_count": 10,
     "metadata": {},
     "output_type": "execute_result"
    }
   ],
   "source": [
    "# 直接使用导入的对象名（或别名），不需要加上模块名\n",
    "aletters"
   ]
  },
  {
   "cell_type": "markdown",
   "metadata": {},
   "source": [
    "如果想要使用这一语法导入模块下的全部对象，则可以使用星号`*`来替代对象名。"
   ]
  },
  {
   "cell_type": "code",
   "execution_count": 11,
   "metadata": {},
   "outputs": [],
   "source": [
    "# string模块中的digits变量没有被导入，所以下面代码运行会出错\n",
    "# digits"
   ]
  },
  {
   "cell_type": "code",
   "execution_count": 12,
   "metadata": {},
   "outputs": [],
   "source": [
    "# 把string模块中定义的对象全部导入\n",
    "from string import *"
   ]
  },
  {
   "cell_type": "code",
   "execution_count": 13,
   "metadata": {},
   "outputs": [
    {
     "data": {
      "text/plain": [
       "'0123456789'"
      ]
     },
     "execution_count": 13,
     "metadata": {},
     "output_type": "execute_result"
    }
   ],
   "source": [
    "# string模块中定义的对象已全部导入，下面代码就不会出错了\n",
    "digits"
   ]
  },
  {
   "cell_type": "markdown",
   "metadata": {},
   "source": [
    "**包与包内引用**"
   ]
  },
  {
   "cell_type": "markdown",
   "metadata": {},
   "source": [
    "- 包（package）是一种用“点式模块名”构造 Python 模块命名空间的方法。例如，模块名 `A.B` 表示包 A 中名为 B 的子模块；\n",
    "\n",
    "- 可以将这些模块按照某种方式组织在一个目录下，构成一个包结构；\n",
    "\n",
    "- 用户可以从包中导入单独的模块或模块中的对象。"
   ]
  },
  {
   "cell_type": "markdown",
   "metadata": {},
   "source": [
    "<div align=center>\n",
    "<img width=\"350\" height=\"650\" src=\"https://github.com/zhangjianzhang/programming_basics/blob/master/files/codes/lecture_7/package.png?raw=true\">\n",
    "\n",
    "<p><center><font>包与模块的关系</font></center></p>\n",
    "</div>"
   ]
  },
  {
   "cell_type": "markdown",
   "metadata": {},
   "source": [
    "<div align=center>\n",
    "<img width=\"250\" height=\"550\" src=\"https://github.com/zhangjianzhang/programming_basics/blob/master/files/codes/lecture_7/package_struc.png?raw=true\">\n",
    "\n",
    "<p><center><font>一个简单的包结构</font></center></p>\n",
    "</div>"
   ]
  },
  {
   "cell_type": "markdown",
   "metadata": {},
   "source": [
    "Python3自带的包在`/usr/local/anaconda3/lib/python3.7`中（以Ubuntu系统中的Anaconda3为例，其他系统类似），第三方包在`/usr/local/anaconda3/lib/python3.7/site-packages`中"
   ]
  },
  {
   "cell_type": "markdown",
   "metadata": {},
   "source": [
    "下面以第三方包`jieba`为例说明包与模块的关系，`jieba`是一个流行的、开源的（popular and open source）中文分析包，源代码见：https://github.com/fxsjy/jieba"
   ]
  },
  {
   "cell_type": "markdown",
   "metadata": {},
   "source": [
    "jieba包的包结构如下：\n",
    "\n",
    "<div align=center>\n",
    "<img width=\"250\" height=\"650\" src=\"https://raw.githubusercontent.com/zhangjianzhang/programming_basics/master/files/codes/lecture_7/jieba.jpg\">\n",
    "\n",
    "<p><center><font>jieba包结构</font></center></p>\n",
    "</div>"
   ]
  },
  {
   "cell_type": "markdown",
   "metadata": {},
   "source": [
    "包是一个**分层次**的文件目录结构，它定义了一个由**模块**及**子包**，和**子包下的子包**等组成的Python的应用环境。\n",
    "\n",
    "简单来说，包就是**文件夹**，但该文件夹下必须存在 `__init__.py` 文件，该文件的内容可以为空。`__init__.py`，用于标识当前文件夹是一个包。"
   ]
  },
  {
   "cell_type": "markdown",
   "metadata": {},
   "source": [
    "如上图，包下面可以包括子包（文件夹，如`analyse`）和模块（`.py`文件，如`_compat.py`），子包下面可以包含子包（文件夹）和模块（`.py`文件）。"
   ]
  },
  {
   "cell_type": "code",
   "execution_count": 14,
   "metadata": {},
   "outputs": [],
   "source": [
    "# 下面代码要想运行，必须先安装jieba包"
   ]
  },
  {
   "cell_type": "code",
   "execution_count": 15,
   "metadata": {},
   "outputs": [
    {
     "name": "stderr",
     "output_type": "stream",
     "text": [
      "Building prefix dict from the default dictionary ...\n",
      "Dumping model to file cache /tmp/jieba.cache\n",
      "Loading model cost 0.828 seconds.\n",
      "Prefix dict has been built successfully.\n"
     ]
    },
    {
     "name": "stdout",
     "output_type": "stream",
     "text": [
      "我 r\n",
      "爱 v\n",
      "北京 ns\n",
      "天安门 ns\n"
     ]
    }
   ],
   "source": [
    "# 从jieba包中导入子包posseg，并赋予别名pseg\n",
    "import jieba.posseg as pseg\n",
    "# 调用posseg子包中的cut函数\n",
    "words = pseg.cut(\"我爱北京天安门\") \n",
    "for word, flag in words:\n",
    "\tprint('%s %s' % (word, flag))"
   ]
  },
  {
   "cell_type": "code",
   "execution_count": 16,
   "metadata": {},
   "outputs": [
    {
     "data": {
      "text/plain": [
       "'阿里巴巴'"
      ]
     },
     "execution_count": 16,
     "metadata": {},
     "output_type": "execute_result"
    }
   ],
   "source": [
    "# 从jieba包中导入_compat模块，并赋予别名ct\n",
    "from jieba import _compat as ct\n",
    "# 调用ct模块中定义的strdecode函数\n",
    "ct.strdecode('阿里巴巴')"
   ]
  },
  {
   "cell_type": "code",
   "execution_count": 17,
   "metadata": {},
   "outputs": [],
   "source": [
    "# 从jieba包的_compat模块中到如resolve_filename函数\n",
    "from jieba._compat import resolve_filename"
   ]
  },
  {
   "cell_type": "code",
   "execution_count": 18,
   "metadata": {},
   "outputs": [
    {
     "data": {
      "text/plain": [
       "\"<module 'jieba._compat' from '/usr/local/anaconda3/lib/python3.9/site-packages/jieba/_compat.py'>\""
      ]
     },
     "execution_count": 18,
     "metadata": {},
     "output_type": "execute_result"
    }
   ],
   "source": [
    "resolve_filename(ct)"
   ]
  },
  {
   "cell_type": "code",
   "execution_count": 19,
   "metadata": {},
   "outputs": [
    {
     "data": {
      "text/plain": [
       "\"<module 'jieba.posseg' from '/usr/local/anaconda3/lib/python3.9/site-packages/jieba/posseg/__init__.py'>\""
      ]
     },
     "execution_count": 19,
     "metadata": {},
     "output_type": "execute_result"
    }
   ],
   "source": [
    "resolve_filename(pseg)"
   ]
  },
  {
   "cell_type": "markdown",
   "metadata": {},
   "source": [
    "**包内引用**"
   ]
  },
  {
   "cell_type": "markdown",
   "metadata": {},
   "source": [
    "下面以下图中的“简单包结构”为例说明包内**模块之间的互相引用**。"
   ]
  },
  {
   "cell_type": "markdown",
   "metadata": {},
   "source": [
    "<div align=center>\n",
    "<img width=\"250\" height=\"550\" src=\"https://github.com/zhangjianzhang/programming_basics/blob/master/files/codes/lecture_7/package_struc.png?raw=true\">\n",
    "\n",
    "<p><center><font>一个简单的包结构</font></center></p>\n",
    "</div>"
   ]
  },
  {
   "cell_type": "markdown",
   "metadata": {},
   "source": [
    "**子模块之间同样需要互相引用**"
   ]
  },
  {
   "cell_type": "markdown",
   "metadata": {},
   "source": [
    "子包中含有多个模块时（与上图中的effects子包一样），可以使用**绝对导入**和**相对导入**引用当前包中的模块。\n",
    "\n",
    "例如，要在模块`video.effects.adjustContrast`中使用当前包的`sharpening`模块时：\n",
    "\n",
    "\n",
    "- 绝对导入，`from video.effects import sharpening`\n",
    "\n",
    "- 相对导入，`import sharpening`\n",
    "\n",
    "- 相对导入，`from . import sharpening`"
   ]
  },
  {
   "cell_type": "markdown",
   "metadata": {},
   "source": [
    "**不在当前子包内的模块互相引用**"
   ]
  },
  {
   "cell_type": "markdown",
   "metadata": {},
   "source": [
    "包中含有多个子包时（与上图中的`video`包一样），可以使用**绝对导入**和**相对导入**引用兄弟包中的子模块。\n",
    "\n",
    "例如，要在模块 `video.effects.adjustContrast`中使用`video.formats`包的`mkv`模块时：\n",
    "\n",
    "- 绝对导入，可以用`from video.formats import mkv`导入；\n",
    "\n",
    "- 相对导入，还可以用`import`语句的`from module import name`形式执行相对导入，这些导入语句使用前导句点表示相对导入中的当前包（`.`）和父包(`..`)，`from ..formats import mkv`。"
   ]
  },
  {
   "cell_type": "markdown",
   "metadata": {},
   "source": [
    "## 异常类型"
   ]
  },
  {
   "cell_type": "markdown",
   "metadata": {},
   "source": [
    "**异常的概念**"
   ]
  },
  {
   "cell_type": "markdown",
   "metadata": {},
   "source": [
    "**异常**：在程序运行时产生的例外、违例情况被称为异常，如果不能在异常发生时及时妥善地处理它们，程序将崩溃，无法继续运行下去。 "
   ]
  },
  {
   "cell_type": "markdown",
   "metadata": {},
   "source": [
    "在Python中，异常是以对象的形式实现的。\n",
    "\n",
    "`BaseException`类是所有异常类的基类，而其子类Exception类则是除了`SystemExit`、`GeneratorExit`和`KeybaordInterrupt`三个**系统级异常**之外所有**内置异常类**和**用户自定义异常类**的**基类**。 "
   ]
  },
  {
   "cell_type": "markdown",
   "metadata": {},
   "source": [
    "**异常的抛出**"
   ]
  },
  {
   "cell_type": "markdown",
   "metadata": {},
   "source": [
    "程序在运行过程中出现错误而无法正常运行时，会陷入异常；\n",
    "\n",
    "Python为用户提供了`raise`关键字以人为地抛出指定类型的异常。"
   ]
  },
  {
   "cell_type": "markdown",
   "metadata": {},
   "source": [
    "使用`raise`语句手动抛出异常在**程序调试**、**自定义异常**等场景下有诸多应用；\n",
    "\n",
    "Python不会自动引发自定义异常，这要求程序开发者为自定义的异常**编写合理的异常抛出代码**。"
   ]
  },
  {
   "cell_type": "markdown",
   "metadata": {},
   "source": [
    "常见异常列表如下："
   ]
  },
  {
   "cell_type": "markdown",
   "metadata": {},
   "source": [
    "<div align=center>\n",
    "<img width=\"750\" height=\"550\" src=\"https://github.com/zhangjianzhang/programming_basics/blob/master/files/codes/lecture_8/exception.jpg?raw=true\">\n",
    "</div>"
   ]
  },
  {
   "cell_type": "markdown",
   "metadata": {},
   "source": [
    "## 异常处理"
   ]
  },
  {
   "cell_type": "markdown",
   "metadata": {},
   "source": [
    "当异常发生时，就需要捕获并处理相应的异常。`try...except`语句是捕获处理异常的常用语句之一，其语法如下："
   ]
  },
  {
   "cell_type": "markdown",
   "metadata": {},
   "source": [
    "```\n",
    "try:\n",
    "\t<语句>\n",
    "except <异常类型>:\n",
    "\t<语句>\n",
    "```"
   ]
  },
  {
   "cell_type": "markdown",
   "metadata": {},
   "source": [
    "其中，`except`子句可以有多个，当try后的语句执行时发生异常，Python就**跳过**try代码段**余下的部分**，执行第一个匹配该异常的except子句，异常处理完毕，控制流就通过整个`try...except`语句（除非在处理异常时又引发新的异常）。 "
   ]
  },
  {
   "cell_type": "markdown",
   "metadata": {},
   "source": [
    "`except`后面可以放置**多个异常类型**（以逗号分割）以表明若多个异常中至少发生一个，则执行该部分异常处理代码，若**不放置任何异常类型**，则代表可匹配**所有**的异常类型。 "
   ]
  },
  {
   "cell_type": "markdown",
   "metadata": {},
   "source": [
    "Python还提供了`else`和`finally`两个子句，以用于`try…except`异常处理语句。其语法如下："
   ]
  },
  {
   "cell_type": "markdown",
   "metadata": {},
   "source": [
    "```\n",
    "try:\n",
    "    可能抛出异常的代码段\n",
    "except (Exception1, Exception2, ...) as e:\n",
    "    若发生以上多个异常中的一个，则执行这块代码\n",
    " e可以获取解释器传递而来的错误信息\n",
    " except可以写多个\n",
    "else:\n",
    "    若没有异常，则执行这块代码\n",
    "finally:\n",
    "    无论异常是否发生均执行该块代码\n",
    "```"
   ]
  },
  {
   "cell_type": "markdown",
   "metadata": {},
   "source": [
    "**自定义异常**"
   ]
  },
  {
   "cell_type": "markdown",
   "metadata": {},
   "source": [
    "Python如同很多高级程序设计语言一样**允许用户自定义异常**类型，用于描述Python异常体系中没有涉及的异常情况。\n",
    "\n",
    "通过前面的学习，可知除3个系统级异常外，其他异常类型均是Exception子类；而定义一个自定义异常也十分简单，只需要定义一个继承了Exception类的派生类即可。\n",
    "\n",
    "Python不会自动为用户抛出或处理任何自定义异常，因而用户需要使用`raise`语句在合理的场合手工触发异常。 "
   ]
  },
  {
   "cell_type": "code",
   "execution_count": 20,
   "metadata": {},
   "outputs": [],
   "source": [
    "# 自定义异常\n",
    "class CustomError(Exception):\n",
    "    def __init__(self, message, status):\n",
    "        super().__init__(message, status)\n",
    "        self.message = message\n",
    "        self.status = status"
   ]
  },
  {
   "cell_type": "code",
   "execution_count": 21,
   "metadata": {},
   "outputs": [],
   "source": [
    "# 主动抛出异常\n",
    "# raise CustomError('Connected Failed', 404)"
   ]
  },
  {
   "cell_type": "code",
   "execution_count": 22,
   "metadata": {},
   "outputs": [
    {
     "name": "stdout",
     "output_type": "stream",
     "text": [
      "404\n"
     ]
    }
   ],
   "source": [
    "# 捕获自定义异常\n",
    "try:\n",
    "    raise CustomError('It failed', 404)\n",
    "except CustomError as e:\n",
    "    print(e.status)"
   ]
  },
  {
   "cell_type": "markdown",
   "metadata": {},
   "source": [
    "在使用自定义异常类型时，经常需要在捕获异常的同时获取该异常的实例（例如，上例中的e），以获取存储在异常实例中的数据，这只需要在异常类型后放置一个实例名即可。"
   ]
  },
  {
   "cell_type": "markdown",
   "metadata": {},
   "source": [
    "## 断言"
   ]
  },
  {
   "cell_type": "markdown",
   "metadata": {},
   "source": [
    "在程序调试过程中，用户经常希望知道某个条件在运行时是否为真（例如，储蓄账户余额始终为正），并在条件不成立时提示编码者错误出现的位置。Python中提供了断言`assert`语句，以检测某个表达式是否为真，当表达式不成立时，会引发`AssertionError`异常。"
   ]
  },
  {
   "cell_type": "markdown",
   "metadata": {},
   "source": [
    "同时，还可以通过`assert`语句传递提示信息给`AsserttionError`异常，以提示编码者错误发生的部位和可能的原因。 "
   ]
  },
  {
   "cell_type": "markdown",
   "metadata": {},
   "source": [
    "## 更多代码实例"
   ]
  },
  {
   "cell_type": "markdown",
   "metadata": {},
   "source": [
    "作为 Python 初学者，在刚学习 Python 编程时，经常会看到一些报错信息，可以分为两类：\n",
    "\n",
    "- 语法错误（本质上也是一种异常）；\n",
    "\n",
    "- 异常。"
   ]
  },
  {
   "cell_type": "code",
   "execution_count": 23,
   "metadata": {},
   "outputs": [],
   "source": [
    "# 先来看看新手常犯的语法错误\n",
    "\n",
    "# 把下面代码解除注释运行时会报错\n",
    "# 语法分析器会指出 出错的一行，并且在最先找到的错误的位置标记了一个小小的箭头。\n",
    "# i = 0\n",
    "# while i<10 print('Hello world'); i+=1"
   ]
  },
  {
   "cell_type": "markdown",
   "metadata": {},
   "source": [
    "上面代码为什么出错，因为没做到冒号、缩进、对齐中的**冒号**，再次强调一下，在写**条件判断**，**循环语句**，**定义函数**等时候，一定记住**冒号，缩进，对齐**。\n",
    "\n",
    "学到这一讲了，如果遇到`SyntaxError: invalid syntax`，请自己解决，语法错误应该随着你使用python的熟练程度的增加而迅速消失。"
   ]
  },
  {
   "cell_type": "markdown",
   "metadata": {},
   "source": [
    "再来看几个常见的异常："
   ]
  },
  {
   "cell_type": "code",
   "execution_count": 24,
   "metadata": {},
   "outputs": [],
   "source": [
    "# ZeroDivisionError: division by zero\n",
    "# 10 * (1/0)"
   ]
  },
  {
   "cell_type": "code",
   "execution_count": 25,
   "metadata": {},
   "outputs": [],
   "source": [
    "# NameError: name 'spam' is not defined\n",
    "# 4 + spam*3"
   ]
  },
  {
   "cell_type": "code",
   "execution_count": 26,
   "metadata": {},
   "outputs": [],
   "source": [
    "# TypeError: can only concatenate str (not \"int\") to str\n",
    "# '2' + 2"
   ]
  },
  {
   "cell_type": "code",
   "execution_count": 27,
   "metadata": {},
   "outputs": [],
   "source": [
    "# ModuleNotFoundError: No module named 'kkkkk'\n",
    "# import kkkkk"
   ]
  },
  {
   "cell_type": "code",
   "execution_count": 28,
   "metadata": {},
   "outputs": [],
   "source": [
    "# KeyError: 'abc'\n",
    "# d = {}\n",
    "# d['abc']"
   ]
  },
  {
   "cell_type": "code",
   "execution_count": 29,
   "metadata": {},
   "outputs": [],
   "source": [
    "# IndexError: list index out of range\n",
    "# l = [1, 2, 3]\n",
    "# l[100]"
   ]
  },
  {
   "cell_type": "code",
   "execution_count": 30,
   "metadata": {},
   "outputs": [],
   "source": [
    "# AttributeError: 'str' object has no attribute 'llower'\n",
    "# s = 'kkk'\n",
    "# s.llower()"
   ]
  },
  {
   "cell_type": "markdown",
   "metadata": {},
   "source": [
    "使用`try...except`字句处理异常"
   ]
  },
  {
   "cell_type": "code",
   "execution_count": 31,
   "metadata": {},
   "outputs": [
    {
     "name": "stdin",
     "output_type": "stream",
     "text": [
      "请输入一个数字:  8\n"
     ]
    }
   ],
   "source": [
    "while True:\n",
    "    try:\n",
    "        x = int(input(\"请输入一个数字: \"))\n",
    "        99/x\n",
    "        break\n",
    "    except ValueError:\n",
    "        print(\"您输入的不是整数，请再次尝试输入！\")\n",
    "    except ZeroDivisionError:\n",
    "        print(\"0不能做除数，请输入非0整数！\")"
   ]
  },
  {
   "cell_type": "markdown",
   "metadata": {},
   "source": [
    "上面代码处理两种异常`ValueError`和`ZeroDivisionError`。"
   ]
  },
  {
   "cell_type": "markdown",
   "metadata": {},
   "source": [
    "下面，我们打印异常实例信息。"
   ]
  },
  {
   "cell_type": "code",
   "execution_count": 32,
   "metadata": {},
   "outputs": [
    {
     "name": "stdin",
     "output_type": "stream",
     "text": [
      "请输入一个数字:  8\n"
     ]
    }
   ],
   "source": [
    "while True:\n",
    "    try:\n",
    "        x = int(input(\"请输入一个数字: \"))\n",
    "        break\n",
    "    except ValueError as e:\n",
    "        print(\"您输入的不是整数，请再次尝试输入！\")\n",
    "        print(\"具体错误信息如下：{}\\n\".format(e))"
   ]
  },
  {
   "cell_type": "markdown",
   "metadata": {},
   "source": [
    "下面，我们使用`traceback`模块打印异常信息。"
   ]
  },
  {
   "cell_type": "code",
   "execution_count": 33,
   "metadata": {},
   "outputs": [
    {
     "name": "stdin",
     "output_type": "stream",
     "text": [
      "请输入一个数字:  8\n"
     ]
    }
   ],
   "source": [
    "import traceback\n",
    "while True:\n",
    "    try:\n",
    "        x = int(input(\"请输入一个数字: \"))\n",
    "        99/x\n",
    "        break\n",
    "    except ValueError:\n",
    "        err = traceback.format_exc()\n",
    "        print(\"您输入的不是整数，请再次尝试输入！\")\n",
    "        print(\"具体错误信息如下：{}\\n\".format(err))\n",
    "    except ZeroDivisionError:\n",
    "        err = traceback.format_exc()\n",
    "        print(\"0不能做除数，请输入非0整数！\")\n",
    "        print(\"具体错误信息如下：{}\\n\".format(err))"
   ]
  },
  {
   "cell_type": "code",
   "execution_count": 34,
   "metadata": {},
   "outputs": [
    {
     "name": "stdin",
     "output_type": "stream",
     "text": [
      "请输入一个数字:  8\n"
     ]
    }
   ],
   "source": [
    "while True:\n",
    "    try:\n",
    "        x = int(input(\"请输入一个数字: \"))\n",
    "        99/x\n",
    "        break\n",
    "    except (ValueError, ZeroDivisionError) as e:\n",
    "        print(\"错误信息为：{}\".format(e))"
   ]
  },
  {
   "cell_type": "markdown",
   "metadata": {},
   "source": [
    "上面代码使用一个`except`字句处理多个异常。"
   ]
  },
  {
   "cell_type": "code",
   "execution_count": 35,
   "metadata": {},
   "outputs": [
    {
     "name": "stdin",
     "output_type": "stream",
     "text": [
      "请输入一个数字:  8\n"
     ]
    },
    {
     "name": "stdout",
     "output_type": "stream",
     "text": [
      "你的输入为：8\n"
     ]
    }
   ],
   "source": [
    "i = 0\n",
    "while i < 3:\n",
    "    try:\n",
    "        x_input = input(\"请输入一个数字: \")\n",
    "        x_int = int(x_input)\n",
    "        break\n",
    "    except ValueError as e:\n",
    "        print(\"您输入的不是整数，请再次尝试输入！\")\n",
    "        print(\"具体错误信息如下：{}\\n\".format(e))\n",
    "        i += 1\n",
    "        if i == 3:\n",
    "            print('三次机会已经用完，明天再试吧.')\n",
    "    else:\n",
    "        print(\"恭喜你，输入正确！\")\n",
    "    finally:\n",
    "        print(\"你的输入为：{}\".format(x_input))"
   ]
  },
  {
   "cell_type": "markdown",
   "metadata": {},
   "source": [
    "看下图，辅助理解上面的代码。"
   ]
  },
  {
   "cell_type": "markdown",
   "metadata": {},
   "source": [
    "<div align=center>\n",
    "<img width=\"750\" height=\"550\" src=\"https://github.com/zhangjianzhang/programming_basics/blob/master/files/codes/lecture_8/try_except_else_finally.png?raw=true\">\n",
    "</div>"
   ]
  },
  {
   "cell_type": "markdown",
   "metadata": {},
   "source": [
    "下面我们练习一下抛出异常："
   ]
  },
  {
   "cell_type": "code",
   "execution_count": 36,
   "metadata": {},
   "outputs": [],
   "source": [
    "# x = 10\n",
    "# if x > 5:\n",
    "#     raise Exception('x 不能大于 5。x 的值为: {}'.format(x))"
   ]
  },
  {
   "cell_type": "code",
   "execution_count": 37,
   "metadata": {},
   "outputs": [],
   "source": [
    "# x = 9.0\n",
    "# if type(x) != int:\n",
    "#     raise ValueError('x必须是整数啊。x 的值为: {}'.format(x))"
   ]
  },
  {
   "cell_type": "markdown",
   "metadata": {},
   "source": [
    "再来试试用户自定义异常："
   ]
  },
  {
   "cell_type": "code",
   "execution_count": 38,
   "metadata": {},
   "outputs": [],
   "source": [
    "class MyEnameError(Exception):\n",
    "    def __init__(self, value):\n",
    "        self.value = value\n",
    "    def __str__(self):\n",
    "        return str('''English name can only include alphabet letters and space, your input is: {}'''.format(self.value))"
   ]
  },
  {
   "cell_type": "code",
   "execution_count": 39,
   "metadata": {},
   "outputs": [],
   "source": [
    "# raise MyEnameError('张三')"
   ]
  },
  {
   "cell_type": "code",
   "execution_count": 40,
   "metadata": {},
   "outputs": [
    {
     "name": "stdin",
     "output_type": "stream",
     "text": [
      "请输入你的英文名:  tom\n"
     ]
    }
   ],
   "source": [
    "import string\n",
    "i = 3\n",
    "while i > 0:\n",
    "    try:\n",
    "        ename = input(\"请输入你的英文名: \")\n",
    "        if set(ename) - set(string.ascii_letters + ' '):\n",
    "            raise MyEnameError(ename)\n",
    "        else:\n",
    "            break\n",
    "    except MyEnameError as e:\n",
    "        print(e)\n",
    "        i -= 1\n",
    "        print(\"你还有{}次输入机会\".format(i))"
   ]
  },
  {
   "cell_type": "markdown",
   "metadata": {},
   "source": [
    "最后，来看看`assert`的用法："
   ]
  },
  {
   "cell_type": "code",
   "execution_count": 41,
   "metadata": {},
   "outputs": [
    {
     "name": "stdout",
     "output_type": "stream",
     "text": [
      "继续\n"
     ]
    }
   ],
   "source": [
    "assert 1==1 # 条件为 true 正常执行\n",
    "print('继续')"
   ]
  },
  {
   "cell_type": "code",
   "execution_count": 42,
   "metadata": {},
   "outputs": [],
   "source": [
    "# assert False    # 条件为 false 触发异常\n",
    "# print('继续')"
   ]
  },
  {
   "cell_type": "code",
   "execution_count": 43,
   "metadata": {},
   "outputs": [],
   "source": [
    "# salary = -100\n",
    "# assert salary > 0, '工资只能为正数'"
   ]
  },
  {
   "cell_type": "markdown",
   "metadata": {},
   "source": [
    "上面的代码等价于下面的代码。"
   ]
  },
  {
   "cell_type": "code",
   "execution_count": 44,
   "metadata": {},
   "outputs": [],
   "source": [
    "# salary = -100\n",
    "# if not salary > 0:\n",
    "#     raise AssertionError('工资只能为正数')"
   ]
  },
  {
   "cell_type": "code",
   "execution_count": 45,
   "metadata": {},
   "outputs": [
    {
     "name": "stdout",
     "output_type": "stream",
     "text": [
      "END\n"
     ]
    }
   ],
   "source": [
    "print('END')"
   ]
  }
 ],
 "metadata": {
  "kernelspec": {
   "display_name": "Python 3 (ipykernel)",
   "language": "python",
   "name": "python3"
  },
  "language_info": {
   "codemirror_mode": {
    "name": "ipython",
    "version": 3
   },
   "file_extension": ".py",
   "mimetype": "text/x-python",
   "name": "python",
   "nbconvert_exporter": "python",
   "pygments_lexer": "ipython3",
   "version": "3.9.7"
  }
 },
 "nbformat": 4,
 "nbformat_minor": 4
}
