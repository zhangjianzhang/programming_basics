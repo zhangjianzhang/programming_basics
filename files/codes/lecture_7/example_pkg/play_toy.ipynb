{
 "cells": [
  {
   "cell_type": "code",
   "execution_count": 1,
   "id": "86d1e21e-8fda-48fe-aaf3-f9b7f6a52e1d",
   "metadata": {},
   "outputs": [],
   "source": [
    "import toy"
   ]
  },
  {
   "cell_type": "code",
   "execution_count": 2,
   "id": "8597c79a-89cb-4d7d-b08f-f035e5117a01",
   "metadata": {},
   "outputs": [
    {
     "data": {
      "text/plain": [
       "'area_dict.json'"
      ]
     },
     "execution_count": 2,
     "metadata": {},
     "output_type": "execute_result"
    }
   ],
   "source": [
    "toy.areas.AREA_DICT"
   ]
  },
  {
   "cell_type": "code",
   "execution_count": 3,
   "id": "ba5a1bfc-599c-4e05-a515-cc18ede63a39",
   "metadata": {},
   "outputs": [],
   "source": [
    "from toy import verifyid"
   ]
  },
  {
   "cell_type": "code",
   "execution_count": 4,
   "id": "36090672-3504-49b9-9a92-f1e4b4bb37ea",
   "metadata": {},
   "outputs": [
    {
     "name": "stdout",
     "output_type": "stream",
     "text": [
      "VALID\n"
     ]
    },
    {
     "data": {
      "text/plain": [
       "True"
      ]
     },
     "execution_count": 4,
     "metadata": {},
     "output_type": "execute_result"
    }
   ],
   "source": [
    "verifyid.verify_id('33028220020218410X')"
   ]
  },
  {
   "cell_type": "code",
   "execution_count": 5,
   "id": "d8cd1e41-f2b6-4888-860a-5fc716fde5d1",
   "metadata": {},
   "outputs": [
    {
     "name": "stdout",
     "output_type": "stream",
     "text": [
      "\n",
      "check if a ID number is valid.\n",
      "\n"
     ]
    }
   ],
   "source": [
    "print(verifyid.__doc__)"
   ]
  },
  {
   "cell_type": "code",
   "execution_count": 6,
   "id": "bf932f5a-2919-470e-bb54-29f89a1cf398",
   "metadata": {},
   "outputs": [
    {
     "name": "stdout",
     "output_type": "stream",
     "text": [
      "toy.verifyid\n"
     ]
    }
   ],
   "source": [
    "print(verifyid.__name__)"
   ]
  },
  {
   "cell_type": "code",
   "execution_count": 7,
   "id": "9fa27951-1267-4662-860a-f0a47c4c9de9",
   "metadata": {},
   "outputs": [
    {
     "name": "stdout",
     "output_type": "stream",
     "text": [
      "\n",
      "get the specific information of an valid ID number, including area, gender, age, and constellation.\n",
      "\n"
     ]
    }
   ],
   "source": [
    "print(toy.getidinfo.__doc__)"
   ]
  },
  {
   "cell_type": "code",
   "execution_count": 8,
   "id": "f8a6669a-e79e-4539-ac40-2698ea6a661f",
   "metadata": {},
   "outputs": [],
   "source": [
    "vi = verifyid.verify_id"
   ]
  },
  {
   "cell_type": "code",
   "execution_count": 9,
   "id": "71db4c1e-8587-494c-8a27-e89730428a5f",
   "metadata": {},
   "outputs": [
    {
     "name": "stdout",
     "output_type": "stream",
     "text": [
      "INVALID\n"
     ]
    },
    {
     "data": {
      "text/plain": [
       "False"
      ]
     },
     "execution_count": 9,
     "metadata": {},
     "output_type": "execute_result"
    }
   ],
   "source": [
    "vi('999')"
   ]
  },
  {
   "cell_type": "code",
   "execution_count": 10,
   "id": "b2e8a063-8194-47b5-9874-547629f97773",
   "metadata": {},
   "outputs": [],
   "source": [
    "from toy import *"
   ]
  },
  {
   "cell_type": "code",
   "execution_count": 11,
   "id": "6e9c7e25-20d5-412c-b28b-74c6d5124530",
   "metadata": {},
   "outputs": [],
   "source": [
    "from toy.verifyid import *"
   ]
  },
  {
   "cell_type": "code",
   "execution_count": 12,
   "id": "b9214767-d65a-4cd1-8f1e-65a8d1dd5cb1",
   "metadata": {},
   "outputs": [],
   "source": [
    "import toy as t"
   ]
  },
  {
   "cell_type": "code",
   "execution_count": 13,
   "id": "909c7a56-42c6-452a-b546-62b113b745eb",
   "metadata": {},
   "outputs": [],
   "source": [
    "from toy.verifyid import verify_id"
   ]
  },
  {
   "cell_type": "code",
   "execution_count": 14,
   "id": "9c2ec9cf-4bf0-4b40-b306-8344d91d369d",
   "metadata": {},
   "outputs": [],
   "source": [
    "from toy.getidinfo import getinfo"
   ]
  },
  {
   "cell_type": "code",
   "execution_count": 15,
   "id": "4db22b26-ecec-4519-b5cc-5e387df4cdf6",
   "metadata": {},
   "outputs": [
    {
     "name": "stdout",
     "output_type": "stream",
     "text": [
      "性别: 男\n",
      "年龄: 20\n",
      "星座: 射手\n",
      "地址: 湖南省株洲市天元区\n"
     ]
    }
   ],
   "source": [
    "getinfo('430211200112011537')"
   ]
  }
 ],
 "metadata": {
  "kernelspec": {
   "display_name": "Python 3 (ipykernel)",
   "language": "python",
   "name": "python3"
  },
  "language_info": {
   "codemirror_mode": {
    "name": "ipython",
    "version": 3
   },
   "file_extension": ".py",
   "mimetype": "text/x-python",
   "name": "python",
   "nbconvert_exporter": "python",
   "pygments_lexer": "ipython3",
   "version": "3.9.7"
  }
 },
 "nbformat": 4,
 "nbformat_minor": 5
}
