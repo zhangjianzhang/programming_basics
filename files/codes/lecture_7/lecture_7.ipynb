{
 "cells": [
  {
   "cell_type": "markdown",
   "metadata": {},
   "source": [
    "# 7 抽象与模块"
   ]
  },
  {
   "cell_type": "markdown",
   "metadata": {},
   "source": [
    "## 7.1 列表（元组）传参"
   ]
  },
  {
   "cell_type": "markdown",
   "metadata": {},
   "source": [
    "参考lecture_6.ipynb中的**可变长度参数**部分。下面我们再看几个小栗子："
   ]
  },
  {
   "cell_type": "code",
   "execution_count": 1,
   "metadata": {},
   "outputs": [],
   "source": [
    "# 打印参数元组中的每一个参数元素\n",
    "def my_print(*args):\n",
    "    for item in args:\n",
    "        print(item)"
   ]
  },
  {
   "cell_type": "code",
   "execution_count": 2,
   "metadata": {},
   "outputs": [
    {
     "name": "stdout",
     "output_type": "stream",
     "text": [
      "['a', 'b', 'c']\n",
      "123\n",
      "abc\n"
     ]
    }
   ],
   "source": [
    "list_1 = [\"a\",\"b\",\"c\"]\n",
    "\n",
    "# 此处，list_1，123，\"abc\"均为为参数元组中的元素\n",
    "my_print(list_1,123,\"abc\")"
   ]
  },
  {
   "cell_type": "code",
   "execution_count": 3,
   "metadata": {},
   "outputs": [],
   "source": [
    "list_2=[\"a\",\"b\",\"c\"]"
   ]
  },
  {
   "cell_type": "code",
   "execution_count": 4,
   "metadata": {},
   "outputs": [
    {
     "name": "stdout",
     "output_type": "stream",
     "text": [
      "['a', 'b', 'c']\n"
     ]
    }
   ],
   "source": [
    "# 此处，list_2是参数元组中的一个元素，参数元组中只包含一个元素\n",
    "my_print(list_2)"
   ]
  },
  {
   "cell_type": "code",
   "execution_count": 5,
   "metadata": {},
   "outputs": [
    {
     "name": "stdout",
     "output_type": "stream",
     "text": [
      "a\n",
      "b\n",
      "c\n"
     ]
    }
   ],
   "source": [
    "# 星号表示解包，此处，将list_2解包后，把list_2中的元素作为参数传入\n",
    "# 所以，list_2中的每个元素就变成了参数元组中的元素\n",
    "my_print(*list_2)"
   ]
  },
  {
   "cell_type": "code",
   "execution_count": 6,
   "metadata": {
    "scrolled": true
   },
   "outputs": [
    {
     "name": "stdout",
     "output_type": "stream",
     "text": [
      "a\n",
      "b\n",
      "c\n",
      "abc\n"
     ]
    }
   ],
   "source": [
    "my_print(*list_2, 'abc')"
   ]
  },
  {
   "cell_type": "code",
   "execution_count": 7,
   "metadata": {},
   "outputs": [
    {
     "name": "stdout",
     "output_type": "stream",
     "text": [
      "a\n",
      "b\n",
      "c\n",
      "abc\n"
     ]
    }
   ],
   "source": [
    "my_print(\"a\",\"b\",\"c\", 'abc')"
   ]
  },
  {
   "cell_type": "code",
   "execution_count": 8,
   "metadata": {},
   "outputs": [
    {
     "name": "stdout",
     "output_type": "stream",
     "text": [
      "abc\n",
      "a\n",
      "b\n",
      "c\n"
     ]
    }
   ],
   "source": [
    "my_print('abc',*list_2)"
   ]
  },
  {
   "cell_type": "code",
   "execution_count": 9,
   "metadata": {},
   "outputs": [
    {
     "name": "stdout",
     "output_type": "stream",
     "text": [
      "abc\n",
      "a\n",
      "b\n",
      "c\n"
     ]
    }
   ],
   "source": [
    "my_print('abc', \"a\",\"b\",\"c\")"
   ]
  },
  {
   "cell_type": "code",
   "execution_count": 10,
   "metadata": {},
   "outputs": [],
   "source": [
    "# 此处定义的函数有固定个数的参数\n",
    "# 在调用时，必须传入两个参数值才行哦\n",
    "def print_fixed_para(arg1, arg2):\n",
    "    print(\"{}-----{}\".format(arg1, arg2))"
   ]
  },
  {
   "cell_type": "code",
   "execution_count": 11,
   "metadata": {},
   "outputs": [
    {
     "name": "stdout",
     "output_type": "stream",
     "text": [
      "a-----b\n"
     ]
    }
   ],
   "source": [
    "print_fixed_para('a', 'b')"
   ]
  },
  {
   "cell_type": "code",
   "execution_count": 12,
   "metadata": {},
   "outputs": [],
   "source": [
    "list_3 = ['c', 'd']"
   ]
  },
  {
   "cell_type": "code",
   "execution_count": 13,
   "metadata": {},
   "outputs": [],
   "source": [
    "# 此处，按照位置传参，只传了一个参数，显然错误\n",
    "# print_fixed_para(list_3)"
   ]
  },
  {
   "cell_type": "code",
   "execution_count": 14,
   "metadata": {},
   "outputs": [
    {
     "name": "stdout",
     "output_type": "stream",
     "text": [
      "['c', 'd']-----['c', 'd']\n"
     ]
    }
   ],
   "source": [
    "# 此处按照位置传参，传了两个参数\n",
    "# 没问题，可以正常调用函数\n",
    "print_fixed_para(list_3, list_3)"
   ]
  },
  {
   "cell_type": "code",
   "execution_count": 15,
   "metadata": {},
   "outputs": [
    {
     "name": "stdout",
     "output_type": "stream",
     "text": [
      "c-----d\n"
     ]
    }
   ],
   "source": [
    "# 此处采用列表解包的形式，按位置传递了两个参数值\n",
    "# 当然可以正常调用函数\n",
    "print_fixed_para(*list_3)"
   ]
  },
  {
   "cell_type": "markdown",
   "metadata": {},
   "source": [
    "从上面的例子可以得出：在调用函数的时候，可以使用`*`对列表（或者元组）进行解包，解包的结果可以用于按位置传参。"
   ]
  },
  {
   "cell_type": "markdown",
   "metadata": {},
   "source": [
    "上面的例子，都是解包列表，解包元组同样可以，简单用下面小栗子演示一下："
   ]
  },
  {
   "cell_type": "code",
   "execution_count": 16,
   "metadata": {},
   "outputs": [
    {
     "name": "stdout",
     "output_type": "stream",
     "text": [
      "good\n",
      "boy\n"
     ]
    }
   ],
   "source": [
    "arg_tuple = ('good', 'boy')\n",
    "my_print(*arg_tuple)"
   ]
  },
  {
   "cell_type": "code",
   "execution_count": 17,
   "metadata": {},
   "outputs": [
    {
     "name": "stdout",
     "output_type": "stream",
     "text": [
      "good\n",
      "boy\n",
      "nice\n",
      "girl\n"
     ]
    }
   ],
   "source": [
    "my_print(*arg_tuple, 'nice', 'girl')# 'nice', 'girl'"
   ]
  },
  {
   "cell_type": "code",
   "execution_count": 18,
   "metadata": {},
   "outputs": [
    {
     "name": "stdout",
     "output_type": "stream",
     "text": [
      "nice\n",
      "girl\n",
      "good\n",
      "boy\n"
     ]
    }
   ],
   "source": [
    "my_print('nice', 'girl', *arg_tuple)"
   ]
  },
  {
   "cell_type": "code",
   "execution_count": 19,
   "metadata": {},
   "outputs": [
    {
     "name": "stdout",
     "output_type": "stream",
     "text": [
      "good-----boy\n"
     ]
    }
   ],
   "source": [
    "print_fixed_para(*arg_tuple)"
   ]
  },
  {
   "cell_type": "markdown",
   "metadata": {},
   "source": [
    "<b><font color=red>思考题：</font></b>下面代码的运行结果是什么\n",
    "\n",
    "`arg_set = {'good', 'boy'}`\n",
    "\n",
    "`print_fixed_para(*arg_set)`\n",
    "\n",
    "`my_print(*arg_set)`"
   ]
  },
  {
   "cell_type": "markdown",
   "metadata": {},
   "source": [
    "## 7.2 字典传参"
   ]
  },
  {
   "cell_type": "markdown",
   "metadata": {},
   "source": [
    "字典传参与列表（元组）传参非常类似，下面，直接看小栗子："
   ]
  },
  {
   "cell_type": "code",
   "execution_count": 20,
   "metadata": {},
   "outputs": [],
   "source": [
    "# 定义了一个具有固定个数参数的函数，用来求分数平均值\n",
    "def avg_grade(chinese = 80, math = 85):\n",
    "    return (chinese + math)/2"
   ]
  },
  {
   "cell_type": "code",
   "execution_count": 21,
   "metadata": {},
   "outputs": [
    {
     "data": {
      "text/plain": [
       "93.5"
      ]
     },
     "execution_count": 21,
     "metadata": {},
     "output_type": "execute_result"
    }
   ],
   "source": [
    "grade_dict = {'chinese':88,\n",
    "             'math':99}\n",
    "\n",
    "# 对字典进行解包后，按关键字进行参数传递，字典无序哦\n",
    "avg_grade(**grade_dict)"
   ]
  },
  {
   "cell_type": "markdown",
   "metadata": {},
   "source": [
    "上面的例子对字典解包后，按关键字传参，调用函数`avg_grade`，所以，grade_dict中的key必须，必须，必须，与函数定义中的参数关键字同名，一个字母也不能差。不信，你试试下面例子："
   ]
  },
  {
   "cell_type": "code",
   "execution_count": 22,
   "metadata": {},
   "outputs": [],
   "source": [
    "# 想一下，为什么下面代码运行出错\n",
    "# grade_dict = {' chinese':88,\n",
    "#              'math':99}\n",
    "\n",
    "# avg_grade(**grade_dict)"
   ]
  },
  {
   "cell_type": "code",
   "execution_count": 23,
   "metadata": {},
   "outputs": [],
   "source": [
    "# 定义了一个具有可变个数参数的函数，用来求分数平均值\n",
    "def avg_grade_mul(chinese = 80, math = 85, **kwargs):\n",
    "    return (chinese + math + sum(kwargs.values()))/(2+len(kwargs))"
   ]
  },
  {
   "cell_type": "code",
   "execution_count": 24,
   "metadata": {},
   "outputs": [
    {
     "data": {
      "text/plain": [
       "85.75"
      ]
     },
     "execution_count": 24,
     "metadata": {},
     "output_type": "execute_result"
    }
   ],
   "source": [
    "grade_dict = {'english':88,\n",
    "             'history':90}\n",
    "\n",
    "\n",
    "# 对字典解包后，按关键字参数调用函数\n",
    "# 此时的参数有四个，求四科成绩的平均值\n",
    "avg_grade_mul(**grade_dict)"
   ]
  },
  {
   "cell_type": "code",
   "execution_count": 25,
   "metadata": {},
   "outputs": [
    {
     "data": {
      "text/plain": [
       "93.5"
      ]
     },
     "execution_count": 25,
     "metadata": {},
     "output_type": "execute_result"
    }
   ],
   "source": [
    "grade_dict = {'chinese':88,\n",
    "             'math':99}\n",
    "\n",
    "# 对字典解包后，按关键字参数调用函数\n",
    "# 此时的参数有两个\n",
    "# 字典中的keys与函数的有默认值参数重名\n",
    "# 用解包后的结果，对默认参数值进行更新\n",
    "avg_grade_mul(**grade_dict)"
   ]
  },
  {
   "cell_type": "markdown",
   "metadata": {},
   "source": [
    "`*`是解包元组，`**`是解包字典。"
   ]
  },
  {
   "cell_type": "markdown",
   "metadata": {},
   "source": [
    "无论是列表（元组）传参还是字典传参，都可用于调用**有固定个数参数的函数**和**有可变个数参数的函数**，字典传参的时候，keys要与函数的参数名一样哦。"
   ]
  },
  {
   "cell_type": "markdown",
   "metadata": {},
   "source": [
    "## 7.2 不同类型参数定义顺序\n"
   ]
  },
  {
   "cell_type": "markdown",
   "metadata": {},
   "source": [
    "位置参数，默认值参数，可变参数，命名参数，可变命名参数。"
   ]
  },
  {
   "cell_type": "markdown",
   "metadata": {},
   "source": [
    "先看例子："
   ]
  },
  {
   "cell_type": "code",
   "execution_count": 26,
   "metadata": {},
   "outputs": [],
   "source": [
    "def my_func(a, b, c = 0, *args, d, **kwargs):\n",
    "    print('a:      {}'.format(a),\n",
    "          'b:      {}'.format(b),\n",
    "          'c:      {}'.format(c),\n",
    "          'args:   {}'.format(args),\n",
    "          'd:      {}'.format(d),\n",
    "          'kwargs: {}'.format(kwargs),\n",
    "          sep='\\n')"
   ]
  },
  {
   "cell_type": "code",
   "execution_count": 27,
   "metadata": {},
   "outputs": [
    {
     "name": "stdout",
     "output_type": "stream",
     "text": [
      "a:      a\n",
      "b:      b\n",
      "c:      88\n",
      "args:   (-1, -2, -3)\n",
      "d:      d\n",
      "kwargs: {'name': 'Tom', 'age': '18'}\n"
     ]
    }
   ],
   "source": [
    "my_func('a', 'b', 88, *[-1, -2, -3], d = 'd', **{'name':'Tom','age':'18'})"
   ]
  },
  {
   "cell_type": "markdown",
   "metadata": {},
   "source": [
    "`my_func(a, b, c = 0, *args, d, **kwargs)`中：\n",
    "\n",
    "- `a`，`b`是位置参数，位置参数一定是在最前面；\n",
    "\n",
    "- `c=0`是默认值参数，它有默认值，在调用时不是必须传参数值的；\n",
    "\n",
    "- `*args`是可变参数，可以通过解包元组（或列表）来按照位置传参；\n",
    "\n",
    "- `d`是命名参数，传参数时，必须带上参数名，你看上面的参数调用语句中`d = 'd'`；\n",
    "\n",
    "- `**kwargs`是可变命名参数，可以通过解包字典来按照关键字传参。"
   ]
  },
  {
   "cell_type": "markdown",
   "metadata": {},
   "source": [
    "自己运行下面的函数`my_func_1`至函数`my_func_5`的定义，根据运行结果加深对上述**参数定义顺序**的理解："
   ]
  },
  {
   "cell_type": "code",
   "execution_count": 28,
   "metadata": {},
   "outputs": [],
   "source": [
    "# def my_func_1(a, b, c = 0, d, *args,**kwargs):\n",
    "#     print('a:      {}'.format(a),\n",
    "#           'b:      {}'.format(b),\n",
    "#           'c:      {}'.format(c),\n",
    "#           'args:   {}'.format(args),\n",
    "#           'd:      {}'.format(d),\n",
    "#           'kwargs: {}'.format(kwargs),\n",
    "#           sep='\\n')"
   ]
  },
  {
   "cell_type": "code",
   "execution_count": 29,
   "metadata": {},
   "outputs": [],
   "source": [
    "# def my_func_2(a, b, c = 0, *args, **kwargs, d):\n",
    "#     print('a:      {}'.format(a),\n",
    "#           'b:      {}'.format(b),\n",
    "#           'c:      {}'.format(c),\n",
    "#           'args:   {}'.format(args),\n",
    "#           'd:      {}'.format(d),\n",
    "#           'kwargs: {}'.format(kwargs),\n",
    "#           sep='\\n')"
   ]
  },
  {
   "cell_type": "code",
   "execution_count": 30,
   "metadata": {},
   "outputs": [],
   "source": [
    "# def my_func_3(**kwargs, a, b, c = 0, *args, d):\n",
    "#     print('a:      {}'.format(a),\n",
    "#           'b:      {}'.format(b),\n",
    "#           'c:      {}'.format(c),\n",
    "#           'args:   {}'.format(args),\n",
    "#           'd:      {}'.format(d),\n",
    "#           'kwargs: {}'.format(kwargs),\n",
    "#           sep='\\n')"
   ]
  },
  {
   "cell_type": "code",
   "execution_count": 31,
   "metadata": {},
   "outputs": [],
   "source": [
    "# def my_func_4(a, b, c = 0, d, **kwargs, *args):\n",
    "#     print('a:      {}'.format(a),\n",
    "#           'b:      {}'.format(b),\n",
    "#           'c:      {}'.format(c),\n",
    "#           'args:   {}'.format(args),\n",
    "#           'd:      {}'.format(d),\n",
    "#           'kwargs: {}'.format(kwargs),\n",
    "#           sep='\\n')"
   ]
  },
  {
   "cell_type": "code",
   "execution_count": 32,
   "metadata": {},
   "outputs": [],
   "source": [
    "# def my_func_5(d, a, b, c = 0, *args, **kwargs):\n",
    "#     print('a:      {}'.format(a),\n",
    "#           'b:      {}'.format(b),\n",
    "#           'c:      {}'.format(c),\n",
    "#           'args:   {}'.format(args),\n",
    "#           'd:      {}'.format(d),\n",
    "#           'kwargs: {}'.format(kwargs),\n",
    "#           sep='\\n')"
   ]
  },
  {
   "cell_type": "code",
   "execution_count": 33,
   "metadata": {},
   "outputs": [],
   "source": [
    "# def my_func_6(*args, a, b, c = 0, d, **kwargs):\n",
    "#     print('a:      {}'.format(a),\n",
    "#           'b:      {}'.format(b),\n",
    "#           'c:      {}'.format(c),\n",
    "#           'args:   {}'.format(args),\n",
    "#           'd:      {}'.format(d),\n",
    "#           'kwargs: {}'.format(kwargs),\n",
    "#           sep='\\n')"
   ]
  },
  {
   "cell_type": "markdown",
   "metadata": {},
   "source": [
    "## 7.3 map函数"
   ]
  },
  {
   "cell_type": "markdown",
   "metadata": {},
   "source": [
    "`map`函数**遍历** **序列** **每个值**进行操作，返回一个**`map`对象**。"
   ]
  },
  {
   "cell_type": "markdown",
   "metadata": {},
   "source": [
    "语法：`map(function, sequence, ....)`"
   ]
  },
  {
   "cell_type": "markdown",
   "metadata": {},
   "source": [
    "- `function`：函数\n",
    "- `sequence`：序列"
   ]
  },
  {
   "cell_type": "code",
   "execution_count": 34,
   "metadata": {},
   "outputs": [],
   "source": [
    "def my_square(x):\n",
    "    return x**2"
   ]
  },
  {
   "cell_type": "code",
   "execution_count": 35,
   "metadata": {},
   "outputs": [],
   "source": [
    "list_6 = [1, 2, 3]\n",
    "list_7 = [4, 5, 6, 7]\n",
    "list_8 = [8, 9, 10, 11, 12]"
   ]
  },
  {
   "cell_type": "code",
   "execution_count": 36,
   "metadata": {},
   "outputs": [],
   "source": [
    "result = map(my_square, list_6)"
   ]
  },
  {
   "cell_type": "code",
   "execution_count": 37,
   "metadata": {},
   "outputs": [
    {
     "data": {
      "text/plain": [
       "map"
      ]
     },
     "execution_count": 37,
     "metadata": {},
     "output_type": "execute_result"
    }
   ],
   "source": [
    "type(result)"
   ]
  },
  {
   "cell_type": "code",
   "execution_count": 38,
   "metadata": {},
   "outputs": [
    {
     "data": {
      "text/plain": [
       "1"
      ]
     },
     "execution_count": 38,
     "metadata": {},
     "output_type": "execute_result"
    }
   ],
   "source": [
    "next(result)"
   ]
  },
  {
   "cell_type": "code",
   "execution_count": 39,
   "metadata": {},
   "outputs": [
    {
     "data": {
      "text/plain": [
       "4"
      ]
     },
     "execution_count": 39,
     "metadata": {},
     "output_type": "execute_result"
    }
   ],
   "source": [
    "next(result)"
   ]
  },
  {
   "cell_type": "code",
   "execution_count": 40,
   "metadata": {},
   "outputs": [
    {
     "data": {
      "text/plain": [
       "9"
      ]
     },
     "execution_count": 40,
     "metadata": {},
     "output_type": "execute_result"
    }
   ],
   "source": [
    "next(result)"
   ]
  },
  {
   "cell_type": "markdown",
   "metadata": {},
   "source": [
    "上面对一个序列进行map操作，并使用`next`方法逐个访问返回的`map`对象。下面使用`for`循环访问map结果。"
   ]
  },
  {
   "cell_type": "code",
   "execution_count": 41,
   "metadata": {},
   "outputs": [],
   "source": [
    "result = map(my_square, list_6)"
   ]
  },
  {
   "cell_type": "code",
   "execution_count": 42,
   "metadata": {},
   "outputs": [
    {
     "name": "stdout",
     "output_type": "stream",
     "text": [
      "1\n",
      "4\n",
      "9\n"
     ]
    }
   ],
   "source": [
    "for item in result:\n",
    "    print(item)"
   ]
  },
  {
   "cell_type": "code",
   "execution_count": 43,
   "metadata": {},
   "outputs": [],
   "source": [
    "result = map(lambda x,y:x*y, list_6, list_7)"
   ]
  },
  {
   "cell_type": "code",
   "execution_count": 44,
   "metadata": {},
   "outputs": [
    {
     "data": {
      "text/plain": [
       "map"
      ]
     },
     "execution_count": 44,
     "metadata": {},
     "output_type": "execute_result"
    }
   ],
   "source": [
    "type(result)"
   ]
  },
  {
   "cell_type": "code",
   "execution_count": 45,
   "metadata": {},
   "outputs": [
    {
     "data": {
      "text/plain": [
       "[4, 10, 18]"
      ]
     },
     "execution_count": 45,
     "metadata": {},
     "output_type": "execute_result"
    }
   ],
   "source": [
    "list(result)"
   ]
  },
  {
   "cell_type": "markdown",
   "metadata": {},
   "source": [
    "`len(list_6) < len(list_7)`，所以最终结果的长度是`min(len(list_6), len(list_7))`"
   ]
  },
  {
   "cell_type": "code",
   "execution_count": 46,
   "metadata": {},
   "outputs": [
    {
     "data": {
      "text/plain": [
       "[4, 10, 18]"
      ]
     },
     "execution_count": 46,
     "metadata": {},
     "output_type": "execute_result"
    }
   ],
   "source": [
    "list(map(lambda x,y,z:x*y, list_6, list_7, list_8))"
   ]
  },
  {
   "cell_type": "markdown",
   "metadata": {},
   "source": [
    "<b><font color=blue>注意</font></b>：`function`的参数个数，与后面的序列个数要一致哦。"
   ]
  },
  {
   "cell_type": "markdown",
   "metadata": {},
   "source": [
    "## 7.4 filter函数"
   ]
  },
  {
   "cell_type": "markdown",
   "metadata": {},
   "source": [
    "`filter`函数，过滤出序列中的元素。"
   ]
  },
  {
   "cell_type": "markdown",
   "metadata": {},
   "source": [
    "- 语法：`filter(function, iterable)`；\n",
    "\n",
    "- `function`，判断函数；\n",
    "\n",
    "- `iterable`，可迭代对象；\n",
    "\n",
    "- 返回filter对象。"
   ]
  },
  {
   "cell_type": "code",
   "execution_count": 47,
   "metadata": {},
   "outputs": [],
   "source": [
    "str_1 = 'aHbDkLuY'"
   ]
  },
  {
   "cell_type": "code",
   "execution_count": 48,
   "metadata": {},
   "outputs": [],
   "source": [
    "import string"
   ]
  },
  {
   "cell_type": "code",
   "execution_count": 49,
   "metadata": {},
   "outputs": [],
   "source": [
    "# 过滤出字符串中的大写字母\n",
    "result = filter(lambda char:char in string.ascii_uppercase, str_1)"
   ]
  },
  {
   "cell_type": "code",
   "execution_count": 50,
   "metadata": {},
   "outputs": [
    {
     "data": {
      "text/plain": [
       "filter"
      ]
     },
     "execution_count": 50,
     "metadata": {},
     "output_type": "execute_result"
    }
   ],
   "source": [
    "type(result)"
   ]
  },
  {
   "cell_type": "code",
   "execution_count": 51,
   "metadata": {},
   "outputs": [
    {
     "data": {
      "text/plain": [
       "['H', 'D', 'L', 'Y']"
      ]
     },
     "execution_count": 51,
     "metadata": {},
     "output_type": "execute_result"
    }
   ],
   "source": [
    "list(result)"
   ]
  },
  {
   "cell_type": "markdown",
   "metadata": {},
   "source": [
    "使得`function`返回True（或等价于True）的元素被取出来，看下面例子："
   ]
  },
  {
   "cell_type": "code",
   "execution_count": 52,
   "metadata": {},
   "outputs": [
    {
     "data": {
      "text/plain": [
       "[]"
      ]
     },
     "execution_count": 52,
     "metadata": {},
     "output_type": "execute_result"
    }
   ],
   "source": [
    "list(filter(lambda char:None, str_1))"
   ]
  },
  {
   "cell_type": "code",
   "execution_count": 53,
   "metadata": {},
   "outputs": [
    {
     "data": {
      "text/plain": [
       "['a', 'H', 'b', 'D', 'k', 'L', 'u', 'Y']"
      ]
     },
     "execution_count": 53,
     "metadata": {},
     "output_type": "execute_result"
    }
   ],
   "source": [
    "list(filter(lambda char:char, str_1))"
   ]
  },
  {
   "cell_type": "code",
   "execution_count": 54,
   "metadata": {},
   "outputs": [
    {
     "data": {
      "text/plain": [
       "[]"
      ]
     },
     "execution_count": 54,
     "metadata": {},
     "output_type": "execute_result"
    }
   ],
   "source": [
    "list(filter(lambda char:'', str_1))"
   ]
  },
  {
   "cell_type": "code",
   "execution_count": 55,
   "metadata": {},
   "outputs": [
    {
     "data": {
      "text/plain": [
       "[]"
      ]
     },
     "execution_count": 55,
     "metadata": {},
     "output_type": "execute_result"
    }
   ],
   "source": [
    "list(filter(lambda char:[], str_1))"
   ]
  },
  {
   "cell_type": "code",
   "execution_count": 56,
   "metadata": {},
   "outputs": [
    {
     "data": {
      "text/plain": [
       "['a', 'H', 'b', 'D', 'k', 'L', 'u', 'Y']"
      ]
     },
     "execution_count": 56,
     "metadata": {},
     "output_type": "execute_result"
    }
   ],
   "source": [
    "list(filter(lambda char:char.lower(), str_1))"
   ]
  },
  {
   "cell_type": "markdown",
   "metadata": {},
   "source": [
    "`function`最好是显示地定义返回布尔值。"
   ]
  },
  {
   "cell_type": "markdown",
   "metadata": {},
   "source": [
    "## 7.5 reduce函数"
   ]
  },
  {
   "cell_type": "markdown",
   "metadata": {},
   "source": [
    "`reduce`函数会对参数序列中元素进行**累积**，返回一个值。"
   ]
  },
  {
   "cell_type": "markdown",
   "metadata": {},
   "source": [
    "函数将一个数据对象（列表，元组等）中的所有数据进行下列操作：用传给 reduce 中的函数 function（有两个参数）先对集合中的第 1、2 个元素进行操作，得到的结果再与第三个数据用 function 函数运算，最后得到一个结果。"
   ]
  },
  {
   "cell_type": "markdown",
   "metadata": {},
   "source": [
    "语法：`reduce(function, iterable[, initializer])`"
   ]
  },
  {
   "cell_type": "markdown",
   "metadata": {},
   "source": [
    "参数：\n",
    "\n",
    "- function，函数，**有两个参数**；\n",
    "\n",
    "- iterable，可迭代对象；\n",
    "\n",
    "- initializer，可选，初始参数。"
   ]
  },
  {
   "cell_type": "code",
   "execution_count": 57,
   "metadata": {},
   "outputs": [],
   "source": [
    "from functools import reduce"
   ]
  },
  {
   "cell_type": "code",
   "execution_count": 58,
   "metadata": {},
   "outputs": [
    {
     "data": {
      "text/plain": [
       "15"
      ]
     },
     "execution_count": 58,
     "metadata": {},
     "output_type": "execute_result"
    }
   ],
   "source": [
    "reduce(lambda x, y: x + y, [1,2,3,4,5])"
   ]
  },
  {
   "cell_type": "code",
   "execution_count": 59,
   "metadata": {},
   "outputs": [
    {
     "data": {
      "text/plain": [
       "115"
      ]
     },
     "execution_count": 59,
     "metadata": {},
     "output_type": "execute_result"
    }
   ],
   "source": [
    "reduce(lambda x, y: x + y, [1,2,3,4,5], 100)"
   ]
  },
  {
   "cell_type": "code",
   "execution_count": 60,
   "metadata": {},
   "outputs": [],
   "source": [
    "kua_list = ['眉清目秀', '高大威猛', '英俊潇洒', '风流倜傥', '人见人爱', '花见花开', '车见车栽', '才高八斗', '学富五车']"
   ]
  },
  {
   "cell_type": "code",
   "execution_count": 61,
   "metadata": {},
   "outputs": [
    {
     "data": {
      "text/plain": [
       "['眉清目秀', '高大威猛', '英俊潇洒', '风流倜傥', '人见人爱', '花见花开', '车见车栽', '才高八斗', '学富五车']"
      ]
     },
     "execution_count": 61,
     "metadata": {},
     "output_type": "execute_result"
    }
   ],
   "source": [
    "kua_list"
   ]
  },
  {
   "cell_type": "code",
   "execution_count": 62,
   "metadata": {},
   "outputs": [
    {
     "data": {
      "text/plain": [
       "'你真是、眉清目秀、高大威猛、英俊潇洒、风流倜傥、人见人爱、花见花开、车见车栽、才高八斗、学富五车'"
      ]
     },
     "execution_count": 62,
     "metadata": {},
     "output_type": "execute_result"
    }
   ],
   "source": [
    "reduce(lambda x, y: x + '、'+ y, kua_list, '你真是')"
   ]
  },
  {
   "cell_type": "markdown",
   "metadata": {},
   "source": [
    "## 7.6 模块的创建"
   ]
  },
  {
   "cell_type": "markdown",
   "metadata": {},
   "source": [
    "Python 模块(Module)，是一个 Python 文件，以 .py 结尾，包含了 Python 对象定义和Python语句；\n",
    "\n",
    "模块让你能够有逻辑地组织你的 Python 代码段；\n",
    "\n",
    "把相关的代码分配到一个模块里能让你的代码更好用，更易懂；\n",
    "\n",
    "模块能定义函数，类和变量，模块里也能包含可执行的代码；\n",
    "\n",
    "当把一些相关的代码存放在**一个文件中**时，就创建了**一个模块**。**模块中的定义可以被导入到其他模块中从而被其他模块所使用**，这就使得我们可以在多个程序中使用已经编写好的函数而无需将函数复制到每个程序中。"
   ]
  },
  {
   "cell_type": "markdown",
   "metadata": {},
   "source": [
    "总的来说，模块就是包含Python定义和声明的文件，文件名就是模块名加上扩展名`.py`。"
   ]
  },
  {
   "cell_type": "markdown",
   "metadata": {},
   "source": [
    "模块有一些内置属性，用于存储模块的某些信息，如`__name__`，`__doc__`，等等，`__name__`属性用来取得模块的名称。"
   ]
  },
  {
   "cell_type": "markdown",
   "metadata": {},
   "source": [
    "我们来看看python3自带（内置）的`string`模块。"
   ]
  },
  {
   "cell_type": "code",
   "execution_count": 63,
   "metadata": {},
   "outputs": [
    {
     "data": {
      "text/plain": [
       "'string'"
      ]
     },
     "execution_count": 63,
     "metadata": {},
     "output_type": "execute_result"
    }
   ],
   "source": [
    "string.__name__"
   ]
  },
  {
   "cell_type": "code",
   "execution_count": 64,
   "metadata": {},
   "outputs": [
    {
     "data": {
      "text/plain": [
       "'A collection of string constants.\\n\\nPublic module variables:\\n\\nwhitespace -- a string containing all ASCII whitespace\\nascii_lowercase -- a string containing all ASCII lowercase letters\\nascii_uppercase -- a string containing all ASCII uppercase letters\\nascii_letters -- a string containing all ASCII letters\\ndigits -- a string containing all ASCII decimal digits\\nhexdigits -- a string containing all ASCII hexadecimal digits\\noctdigits -- a string containing all ASCII octal digits\\npunctuation -- a string containing all ASCII punctuation characters\\nprintable -- a string containing all ASCII characters considered printable\\n\\n'"
      ]
     },
     "execution_count": 64,
     "metadata": {},
     "output_type": "execute_result"
    }
   ],
   "source": [
    "string.__doc__"
   ]
  },
  {
   "cell_type": "markdown",
   "metadata": {},
   "source": [
    "下面的图片以`Ubuntu`系统为例，`Windows`系统和`Mac OS`系统是类似的：\n",
    "\n",
    "Python自带的模块位于`python3.7`文件夹中，"
   ]
  },
  {
   "cell_type": "markdown",
   "metadata": {},
   "source": [
    "<div align=center>\n",
    "<img width=\"750\" height=\"550\" src=\"https://github.com/zhangjianzhang/programming_basics/blob/master/files/codes/lecture_7/python_module.jpg?raw=true\">\n",
    "\n",
    "<p><center><font>python内置模块</font></center></p>\n",
    "</div>"
   ]
  },
  {
   "cell_type": "markdown",
   "metadata": {},
   "source": [
    "上图显示了文件夹`/usr/local/anaconda3/lib/python3.7`中的部分内容。总体上分为两部分：\n",
    "\n",
    "- 文件夹表示包（package），如`http`包，`email`包；\n",
    "\n",
    "- `.py`文件表示模块，如`calendar`模块，`string`模块。"
   ]
  },
  {
   "cell_type": "markdown",
   "metadata": {},
   "source": [
    "<div align=center>\n",
    "<img width=\"750\" height=\"550\" src=\"https://github.com/zhangjianzhang/programming_basics/blob/master/files/codes/lecture_7/string.jpg?raw=true\">\n",
    "\n",
    "<p><center><font>string模块</font></center></p>\n",
    "</div>"
   ]
  },
  {
   "cell_type": "markdown",
   "metadata": {},
   "source": [
    "打开`string.py`看看里面的内容："
   ]
  },
  {
   "cell_type": "markdown",
   "metadata": {},
   "source": [
    "<div align=center>\n",
    "<img width=\"750\" height=\"550\" src=\"https://github.com/zhangjianzhang/programming_basics/blob/master/files/codes/lecture_7/string.jpg?raw=true\">\n",
    "\n",
    "<p><center><font>string.py</font></center></p>\n",
    "</div>"
   ]
  }
 ],
 "metadata": {
  "kernelspec": {
   "display_name": "Python 3",
   "language": "python",
   "name": "python3"
  },
  "language_info": {
   "codemirror_mode": {
    "name": "ipython",
    "version": 3
   },
   "file_extension": ".py",
   "mimetype": "text/x-python",
   "name": "python",
   "nbconvert_exporter": "python",
   "pygments_lexer": "ipython3",
   "version": "3.7.1"
  }
 },
 "nbformat": 4,
 "nbformat_minor": 2
}
