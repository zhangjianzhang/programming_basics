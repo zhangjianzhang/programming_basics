{
 "cells": [
  {
   "cell_type": "markdown",
   "metadata": {},
   "source": [
    "## open函数\n",
    "\n",
    "\n",
    "Python的`open`函数用于打开一个文件，并返回文件对象，在对文件进行处理过程都需要使用到这个函数，如果该文件无法被打开，会抛出`OSError`。\n",
    "\n",
    "<b><font color=blue>注意：使用`open`函数一定要保证关闭文件对象，即使用完文件对象`f`后，一定要调用`close`函数。</font></b>\n",
    "\n",
    "open() 函数常用形式是接收两个参数：文件名(file)和模式(mode)。\n",
    "\n",
    "基本用法为`file_object = open(file, mode)`\n",
    "\n",
    " - `file`是参数必需指定，表示文件路径（**相对**或者**绝对**路径）；\n",
    " - `mode`是可选参数，表示文件打开模式，默认取值为r，表示只读模式。"
   ]
  },
  {
   "cell_type": "code",
   "execution_count": 1,
   "metadata": {},
   "outputs": [],
   "source": [
    "# 指定windows平台下Python运行时的默认编码类型为UTF-8\n",
    "import _locale\n",
    "_locale._getdefaultlocale = (lambda *args: ['zh_CN', 'utf8'])"
   ]
  },
  {
   "cell_type": "markdown",
   "metadata": {},
   "source": [
    "<b><font color=Chocolate>拓展学习：</font></b>\n",
    "\n",
    "<a href=\"https://blog.csdn.net/blmoistawinde/article/details/87717065\" target=\"_blank\">从根本解决python3 open的UnicodeDecodeError: 'gbk' codec问题</a>\n",
    "\n",
    "<a href=\"https://juejin.cn/post/6844903700079575047\" target=\"_blank\">解决Python在windows平台默认编码(encoding)为gbk所导致的open()函数报错及其他编码问题</a>"
   ]
  },
  {
   "cell_type": "code",
   "execution_count": 2,
   "metadata": {},
   "outputs": [],
   "source": [
    "# 打开和该jupyter notebook在同一文件夹下的文本文件，r表示以只读方式打开\n",
    "f = open('./text.txt','r')"
   ]
  },
  {
   "cell_type": "code",
   "execution_count": 3,
   "metadata": {},
   "outputs": [],
   "source": [
    "# 将文件中的内容全部读取并保存到变量content中\n",
    "content = f.read()"
   ]
  },
  {
   "cell_type": "code",
   "execution_count": 4,
   "metadata": {},
   "outputs": [],
   "source": [
    "# 将文件对象关闭\n",
    "f.close()"
   ]
  },
  {
   "cell_type": "code",
   "execution_count": 5,
   "metadata": {},
   "outputs": [
    {
     "data": {
      "text/plain": [
       "str"
      ]
     },
     "execution_count": 5,
     "metadata": {},
     "output_type": "execute_result"
    }
   ],
   "source": [
    "# 查看content的类型\n",
    "type(content)"
   ]
  },
  {
   "cell_type": "code",
   "execution_count": 6,
   "metadata": {},
   "outputs": [
    {
     "name": "stdout",
     "output_type": "stream",
     "text": [
      "从明天起，做一个幸福的人\n",
      "喂马、劈柴、周游世界\n",
      "从明天起，关心粮食和蔬菜\n",
      "我有一所房子，面朝大海，春暖花开\n",
      "\n",
      "从明天起，和每一个亲人通信\n",
      "告诉他们我的幸福\n",
      "那幸福的闪电告诉我的\n",
      "我将告诉每一个人\n",
      "\n",
      "给\n"
     ]
    }
   ],
   "source": [
    "# 打印输出字符串content的前100个字符\n",
    "print(content[:100])"
   ]
  },
  {
   "cell_type": "code",
   "execution_count": 7,
   "metadata": {},
   "outputs": [
    {
     "name": "stdout",
     "output_type": "stream",
     "text": [
      "们我的幸福\n",
      "那幸福的闪电告诉我的\n",
      "我将告诉每一个人\n",
      "\n",
      "给每一条河每一座山取一个温暖的名字\n",
      "陌生人，我也为你祝福\n",
      "愿你有一个灿烂的前程\n",
      "愿你有情人终成眷属\n",
      "愿你在尘世获得幸福\n",
      "我只愿面朝大海，春暖花开\n",
      "\n"
     ]
    }
   ],
   "source": [
    "# 打印输出字符串content的后100个字符\n",
    "print(content[-100:])"
   ]
  },
  {
   "cell_type": "markdown",
   "metadata": {},
   "source": [
    "**文件路径名**"
   ]
  },
  {
   "cell_type": "markdown",
   "metadata": {},
   "source": [
    "**绝对路径名**：是从盘符开始直到文件本身的文件名。\n",
    "\n",
    "例如，Windows操作系统下：\n",
    "\n",
    "```\n",
    "D:\\programming_basics\\index.html\n",
    "D:\\anaconda3\\LICENSE.txt\n",
    "```\n",
    "\n",
    "例如，Linux操作系统下：\n",
    "\n",
    "```\n",
    "/home/zjz/programming_basics/index.html\n",
    "/usr/local/anaconda3/LICENSE.txt\n",
    "```\n",
    "\n",
    "Mac操作系统与Linux操作系统类似。"
   ]
  },
  {
   "cell_type": "markdown",
   "metadata": {},
   "source": [
    "**相对路径名**：是从**当前目录**到文件本身的文件名。例如，当前目录是`lecture_9`，要打开的文件是这个目录下`lecture_9.ipynb`，则相对路径文件名就是`lecture_9.ipynb`。\n",
    "\n",
    "在表示相对路径时，`.`可以表示当前目录名，`..`可以表示当前目录的上一级目录名。\n",
    "\n",
    "例如，下面是`codes`文件夹的目录树，假如当前文件夹为`lecture_9`："
   ]
  },
  {
   "cell_type": "markdown",
   "metadata": {},
   "source": [
    "```\n",
    "├── lecture_1\n",
    "│   ├── BMI_calculation.ipynb\n",
    "│   ├── BMI_calculation.py\n",
    "│   ├── imgs\n",
    "│   │   ├── bit_byte.jpg\n",
    "│   │   ├── maiyouweng.jpg\n",
    "│   │   ├── while.gif\n",
    "│   │   └── while.jpg\n",
    "│   └── lecture_1.ipynb\n",
    "├── lecture_2\n",
    "│   └── lecture_2.ipynb\n",
    "└── lecture_9\n",
    "    ├── poems.txt\n",
    "    ├── lyrics.txt\n",
    "    └── lecture_9.ipynb\n",
    "\n",
    "4 directories, 11 files\n",
    "```"
   ]
  },
  {
   "cell_type": "markdown",
   "metadata": {},
   "source": [
    "文件`lecture_9.ipynb`的相对路径可以表示为`./lecture_9.ipynb`（Linux和Mac中）或者`.\\lecture_9.ipynb`（Windows中）。\n",
    "\n",
    "文件`lecture_2.ipynb`的相对路径可以表示为`../lecture_2/lecture_2.ipynb`（Linux和Mac中）或者`..\\lecture_2\\lecture_2.ipynb`（Windows中）。"
   ]
  },
  {
   "cell_type": "markdown",
   "metadata": {},
   "source": [
    "<b><font color=red>思考题：</font></b>根据上面的`codes`文件夹的目录树，思考一下，假如当前文件夹为`lecture_2`，文件`bit_byte.jpg`的相对路径如何表示。"
   ]
  },
  {
   "cell_type": "markdown",
   "metadata": {},
   "source": [
    "**打开模式**"
   ]
  },
  {
   "cell_type": "markdown",
   "metadata": {},
   "source": [
    "`mode`：表示打开文件的访问模式，常用的模式有只读`r`、写入`w`和追加`a`，其缺省值是只读`r`，更严谨地，其缺省值为`rt`。"
   ]
  },
  {
   "cell_type": "markdown",
   "metadata": {},
   "source": [
    "mode参数主要包括两个部分：**读写模式**,**文件格式**。`mode`参数取值完整列表如下："
   ]
  },
  {
   "cell_type": "markdown",
   "metadata": {},
   "source": [
    "<table>\n",
    "<tbody><tr><th style=\"width:10%\">文件格式</th><th>描述</th></tr>\n",
    "<tr><td>t</td><td>文本模式 (默认)。</td></tr>\n",
    "<tr><td>b</td><td>二进制模式。</td></tr>\n",
    "<tr><th style=\"width:10%\">读写模式</th><th>描述</th></tr>\n",
    "<tr><td>x</td><td>写模式，新建一个文件，如果该文件已存在则会报错。</td></tr>\n",
    "<tr><td>+</td><td>打开一个文件进行更新(可读可写)。</td></tr>\n",
    "<tr><td>U</td><td>通用换行模式（不推荐）。</td></tr>\n",
    "<tr><td>r</td><td>以只读方式打开文件。文件的指针将会放在文件的开头。这是默认模式。</td></tr>\n",
    "<tr><td>rb</td><td>以二进制格式打开一个文件用于只读。文件指针将会放在文件的开头。这是默认模式。一般用于非文本文件如图片等。</td></tr>\n",
    "<tr><td>r+</td><td>打开一个文件用于读写。文件指针将会放在文件的开头。</td></tr>\n",
    "<tr><td>rb+</td><td>以二进制格式打开一个文件用于读写。文件指针将会放在文件的开头。一般用于非文本文件如图片等。</td></tr>\n",
    "<tr><td>w</td><td>打开一个文件只用于写入。如果该文件已存在则打开文件，并从开头开始编辑，即原有内容会被删除。如果该文件不存在，创建新文件。</td></tr>\n",
    "<tr><td>wb</td><td>以二进制格式打开一个文件只用于写入。如果该文件已存在则打开文件，并从开头开始编辑，即原有内容会被删除。如果该文件不存在，创建新文件。一般用于非文本文件如图片等。</td></tr>\n",
    "<tr><td>w+</td><td>打开一个文件用于读写。如果该文件已存在则打开文件，并从开头开始编辑，即原有内容会被删除。如果该文件不存在，创建新文件。</td></tr> \n",
    "<tr><td>wb+</td><td>以二进制格式打开一个文件用于读写。如果该文件已存在则打开文件，并从开头开始编辑，即原有内容会被删除。如果该文件不存在，创建新文件。一般用于非文本文件如图片等。</td></tr>\n",
    "\n",
    "\n",
    "<tr><td>a</td><td>打开一个文件用于追加。如果该文件已存在，文件指针将会放在文件的结尾。也就是说，新的内容将会被写入到已有内容之后。如果该文件不存在，创建新文件进行写入。</td></tr> \n",
    "<tr><td>ab</td><td>以二进制格式打开一个文件用于追加。如果该文件已存在，文件指针将会放在文件的结尾。也就是说，新的内容将会被写入到已有内容之后。如果该文件不存在，创建新文件进行写入。</td></tr> \n",
    "<tr><td>a+</td><td>打开一个文件用于读写。如果该文件已存在，文件指针将会放在文件的结尾。文件打开时会是追加模式。如果该文件不存在，创建新文件用于读写。</td></tr> \n",
    "<tr><td>ab+</td><td>以二进制格式打开一个文件用于追加。如果该文件已存在，文件指针将会放在文件的结尾。如果该文件不存在，创建新文件用于读写。</td></tr>\n",
    "</tbody>\n",
    "</table>"
   ]
  },
  {
   "cell_type": "markdown",
   "metadata": {},
   "source": [
    "<b><font color=blue>注意：`mode`参数的默认文件格式为`t`，即文本模式，如果要以二进制模式打开，需要在读写模式后加上`b`</font></b>"
   ]
  },
  {
   "cell_type": "markdown",
   "metadata": {},
   "source": [
    "例如，下面打开文本文件`2020年12月四级真题第3套.txt`的两行代码是等价的：\n",
    "\n",
    "- `f = open('./text.txt','r')`\n",
    "- `f = open('./text.txt','rt')`"
   ]
  },
  {
   "cell_type": "markdown",
   "metadata": {},
   "source": [
    "<b><font color=blue>思考题：</font></b>\n",
    "\n",
    "下面两行代码等价吗：\n",
    "\n",
    "- `f = open('/home/zjz/programming_basics/files/codes/lecture_1/imgs/maiyouweng.jpg','r')`\n",
    "- `f = open('/home/zjz/programming_basics/files/codes/lecture_1/imgs/maiyouweng.jpg','rb')`"
   ]
  },
  {
   "cell_type": "markdown",
   "metadata": {},
   "source": [
    "<b><font color=Chocolate>拓展学习：</font></b>\n",
    "<a href=\"http://c.biancheng.net/view/2175.html\" target=\"_blank\">Python bytes类型及用法</a>"
   ]
  },
  {
   "cell_type": "markdown",
   "metadata": {},
   "source": [
    "**常用的文件打开模式**"
   ]
  },
  {
   "cell_type": "markdown",
   "metadata": {},
   "source": [
    "- `r`\t只读\n",
    "- `w`\t全新写入，文件不存在则创建\n",
    "- `a`\t追加，**文件不存在则创建**\n",
    "- `+`\t可读可写\n",
    "- `b`\t二进制格式，对于图片和视频需要设置`b`"
   ]
  },
  {
   "cell_type": "markdown",
   "metadata": {},
   "source": [
    "文件访问模式的组合：`r/w/a[b][+]`，`r`,`w`,`a`设定基本模式，读、写或是追加\n",
    "\n",
    "- `b`和`+`可选，`b`表示二进制文件格式，`+`表示在原有基础上可读可写"
   ]
  },
  {
   "cell_type": "markdown",
   "metadata": {},
   "source": [
    "例如：`rb+`表示以二进制打开一个文件，可读可写，若文件不存在不会创建，`wb+`，表示以二进制形式打开一个文件，可读可写，若文件不存在则创建一个。"
   ]
  },
  {
   "cell_type": "markdown",
   "metadata": {},
   "source": [
    "## 文件读写"
   ]
  },
  {
   "cell_type": "markdown",
   "metadata": {},
   "source": [
    "**读文件**\n",
    "\n",
    "- `read`方法用来直接读取字节到字符串中，最多读取给定数目个字节. 如果没有给定`size`参数(默认值为 -1)或者`size`值为负, 文件将被读取直至末尾；\n",
    "\n",
    "- `readline`方法读取打开文件的一行（读取下个行结束符之前的所有字节）， 然后，把整行内容（包括行结束符）作为字符串返回，和`read`类似, 它也有一个可选的`size`参数, 默认为-1，代表读至行结束符，如果提供了该参数，当size小于行的长度时，返回长度为size的内容，如果size大于行的长度，则返回一行的内容（包括行结束符）。\n",
    "\n",
    "- `readlines`方法并不像其它两个输入方法一样返回一个字符串，它会读取所有（剩余的）行然后把它们作为一个**字符串列表**返回，列表中每个元素对应文件中的一行内容。"
   ]
  },
  {
   "cell_type": "markdown",
   "metadata": {},
   "source": [
    "**写文件**\n",
    "\n",
    "- `write`方法、功能与`read`和`readline`相反，它把含有文本数据或二进制数据块的字符串写入到文件中去；\n",
    "\n",
    "- `writelines`提高效率，将列表元素拼接后写入文件；\n",
    "\n",
    "- 没有对应的`writeline`的函数。"
   ]
  },
  {
   "cell_type": "markdown",
   "metadata": {},
   "source": [
    "**读文件练习**"
   ]
  },
  {
   "cell_type": "markdown",
   "metadata": {},
   "source": [
    "下面以海子的抒情诗《面朝大海，春暖花开》为例，演示文件操作，当前文件夹中的文本文件`text.txt`保存诗歌文本。"
   ]
  },
  {
   "cell_type": "code",
   "execution_count": 8,
   "metadata": {},
   "outputs": [],
   "source": [
    "# 打开文本文件，全部读取并赋值给变量content\n",
    "f = open('./text.txt') # f = open('./text.txt','r') 或 f = open('./text.txt', 'rt')\n",
    "content = f.read()\n",
    "f.close()"
   ]
  },
  {
   "cell_type": "code",
   "execution_count": 9,
   "metadata": {},
   "outputs": [
    {
     "data": {
      "text/plain": [
       "str"
      ]
     },
     "execution_count": 9,
     "metadata": {},
     "output_type": "execute_result"
    }
   ],
   "source": [
    "# 查看content的类型\n",
    "type(content)"
   ]
  },
  {
   "cell_type": "code",
   "execution_count": 10,
   "metadata": {},
   "outputs": [
    {
     "name": "stdout",
     "output_type": "stream",
     "text": [
      "从明天起，做一个幸福的人\n",
      "喂马、劈柴、周游世界\n",
      "从明天起，关心粮食和蔬菜\n",
      "我有一所房子，面朝大海，春暖花开\n",
      "\n",
      "从明天起，和每一个亲人通信\n",
      "告诉他们我的幸福\n",
      "那幸福的闪电告诉我的\n",
      "我将告诉每一个人\n",
      "\n",
      "给每一条河每一座山取一个温暖的名字\n",
      "陌生人，我也为你祝福\n",
      "愿你有一个灿烂的前程\n",
      "愿你有情人终成眷属\n",
      "愿你在尘世获得幸福\n",
      "我只愿面朝大海，春暖花开\n",
      "\n"
     ]
    }
   ],
   "source": [
    "# 打印输出content的内容\n",
    "print(content)"
   ]
  },
  {
   "cell_type": "code",
   "execution_count": 11,
   "metadata": {},
   "outputs": [],
   "source": [
    "# 打开文本文件，读取指定长度的字符串，并赋值给变量content\n",
    "# 思考一下这里的size参数单位是什么\n",
    "f = open('./text.txt','r')\n",
    "content = f.read(10)\n",
    "f.close()"
   ]
  },
  {
   "cell_type": "code",
   "execution_count": 12,
   "metadata": {},
   "outputs": [
    {
     "data": {
      "text/plain": [
       "'从明天起，做一个幸福'"
      ]
     },
     "execution_count": 12,
     "metadata": {},
     "output_type": "execute_result"
    }
   ],
   "source": [
    "# 查看content的内容\n",
    "content"
   ]
  },
  {
   "cell_type": "code",
   "execution_count": 13,
   "metadata": {},
   "outputs": [
    {
     "data": {
      "text/plain": [
       "10"
      ]
     },
     "execution_count": 13,
     "metadata": {},
     "output_type": "execute_result"
    }
   ],
   "source": [
    "# 查看content的长度\n",
    "len(content)"
   ]
  },
  {
   "cell_type": "code",
   "execution_count": 14,
   "metadata": {},
   "outputs": [],
   "source": [
    "# 打开文本文件，读取指定大小的字节串（in bytes），并赋值给变量content\n",
    "f = open('./text.txt','rb')\n",
    "content = f.read(98)\n",
    "f.close()"
   ]
  },
  {
   "cell_type": "code",
   "execution_count": 15,
   "metadata": {},
   "outputs": [
    {
     "data": {
      "text/plain": [
       "b'\\xe4\\xbb\\x8e\\xe6\\x98\\x8e\\xe5\\xa4\\xa9\\xe8\\xb5\\xb7\\xef\\xbc\\x8c\\xe5\\x81\\x9a\\xe4\\xb8\\x80\\xe4\\xb8\\xaa\\xe5\\xb9\\xb8\\xe7\\xa6\\x8f\\xe7\\x9a\\x84\\xe4\\xba\\xba\\n\\xe5\\x96\\x82\\xe9\\xa9\\xac\\xe3\\x80\\x81\\xe5\\x8a\\x88\\xe6\\x9f\\xb4\\xe3\\x80\\x81\\xe5\\x91\\xa8\\xe6\\xb8\\xb8\\xe4\\xb8\\x96\\xe7\\x95\\x8c\\n\\xe4\\xbb\\x8e\\xe6\\x98\\x8e\\xe5\\xa4\\xa9\\xe8\\xb5\\xb7\\xef\\xbc\\x8c\\xe5\\x85\\xb3\\xe5\\xbf\\x83\\xe7\\xb2\\xae\\xe9\\xa3\\x9f\\xe5\\x92\\x8c'"
      ]
     },
     "execution_count": 15,
     "metadata": {},
     "output_type": "execute_result"
    }
   ],
   "source": [
    "# 查看content的内容\n",
    "content"
   ]
  },
  {
   "cell_type": "code",
   "execution_count": 16,
   "metadata": {},
   "outputs": [
    {
     "data": {
      "text/plain": [
       "bytes"
      ]
     },
     "execution_count": 16,
     "metadata": {},
     "output_type": "execute_result"
    }
   ],
   "source": [
    "# 查看content的类型\n",
    "type(content)"
   ]
  },
  {
   "cell_type": "markdown",
   "metadata": {},
   "source": [
    "上面的结果中`b`表示`bytes`类型，`\\x`表示十六进制。回忆一下，Python中十六进制数以什么符号开头。"
   ]
  },
  {
   "cell_type": "code",
   "execution_count": 17,
   "metadata": {},
   "outputs": [],
   "source": [
    "# 将字节串转换为字符串\n",
    "content_str = content.decode('UTF-8')"
   ]
  },
  {
   "cell_type": "code",
   "execution_count": 18,
   "metadata": {},
   "outputs": [
    {
     "data": {
      "text/plain": [
       "'从明天起，做一个幸福的人\\n喂马、劈柴、周游世界\\n从明天起，关心粮食和'"
      ]
     },
     "execution_count": 18,
     "metadata": {},
     "output_type": "execute_result"
    }
   ],
   "source": [
    "# 查看字符串content_str的内容\n",
    "content_str"
   ]
  },
  {
   "cell_type": "code",
   "execution_count": 19,
   "metadata": {},
   "outputs": [
    {
     "data": {
      "text/plain": [
       "str"
      ]
     },
     "execution_count": 19,
     "metadata": {},
     "output_type": "execute_result"
    }
   ],
   "source": [
    "# 查看字符串content_str的类型\n",
    "type(content_str)"
   ]
  },
  {
   "cell_type": "code",
   "execution_count": 20,
   "metadata": {},
   "outputs": [
    {
     "data": {
      "text/plain": [
       "34"
      ]
     },
     "execution_count": 20,
     "metadata": {},
     "output_type": "execute_result"
    }
   ],
   "source": [
    "# 查看字符串content_str的长度\n",
    "len(content_str)"
   ]
  },
  {
   "cell_type": "markdown",
   "metadata": {},
   "source": [
    "`UTF-8`规定英文字母系列用1个字节（byte）表示，汉字用3个字节。`content_str`中包含两个英文字符`\\n`,`\\n`和32个中文字符，因此，$32 \\times 3 + 2 = 98$，如果读取长度为100的字节串，则字节串转按照以`UTF-8`编码转化为字符串时会出错。执行如下代码试试："
   ]
  },
  {
   "cell_type": "markdown",
   "metadata": {},
   "source": [
    "`size`参数的单位取决于文件格式参数，文件格式为`t`则`size`的单位为字符，文件格式为`b`，`size`的单位是字节（bytes）"
   ]
  },
  {
   "cell_type": "code",
   "execution_count": 21,
   "metadata": {},
   "outputs": [],
   "source": [
    "# f = open('./text.txt','rb')\n",
    "# content = f.read(100)\n",
    "# f.close()\n",
    "# content_str = content.decode('UTF-8')"
   ]
  },
  {
   "cell_type": "code",
   "execution_count": 22,
   "metadata": {},
   "outputs": [
    {
     "data": {
      "text/plain": [
       "142"
      ]
     },
     "execution_count": 22,
     "metadata": {},
     "output_type": "execute_result"
    }
   ],
   "source": [
    "# 查看变量content_str占用内存空间的大小\n",
    "import sys\n",
    "sys.getsizeof(content_str)"
   ]
  },
  {
   "cell_type": "markdown",
   "metadata": {},
   "source": [
    "<b><font color=Chocolate>拓展学习：</font></b>\n",
    "<a href=\"https://blog.csdn.net/lyb3b3b/article/details/74993327\" target=\"_blank\">Python3中的bytes和str类型</a>"
   ]
  },
  {
   "cell_type": "markdown",
   "metadata": {},
   "source": [
    "回忆一下lecture_1中讲到的`sys.getsizeof`函数，它用于获取python对象占用内存空间的大小，注意区分：\n",
    "\n",
    "- 142 bytes是字符串变量`content_str`在内存中占用空间的大小；\n",
    "- 98 bytes是UTF-8编码的字符串`从明天起，做一个幸福的人\\n喂马、劈柴、周游世界\\n从明天起，关心粮食和`的大小。"
   ]
  },
  {
   "cell_type": "code",
   "execution_count": 23,
   "metadata": {},
   "outputs": [],
   "source": [
    "# 打开文本文件，读取一行并赋值给变量content\n",
    "f = open('./text.txt','r')\n",
    "content = f.readline()\n",
    "f.close()"
   ]
  },
  {
   "cell_type": "code",
   "execution_count": 24,
   "metadata": {},
   "outputs": [
    {
     "name": "stdout",
     "output_type": "stream",
     "text": [
      "从明天起，做一个幸福的人\n",
      "\n"
     ]
    }
   ],
   "source": [
    "# 打印输出content的内容\n",
    "print(content)"
   ]
  },
  {
   "cell_type": "code",
   "execution_count": 25,
   "metadata": {},
   "outputs": [
    {
     "data": {
      "text/plain": [
       "'从明天起，做一个幸福的人\\n'"
      ]
     },
     "execution_count": 25,
     "metadata": {},
     "output_type": "execute_result"
    }
   ],
   "source": [
    "# 注意content字符串包含换行符\\n\n",
    "content"
   ]
  },
  {
   "cell_type": "code",
   "execution_count": 26,
   "metadata": {},
   "outputs": [],
   "source": [
    "# 打开文本文件，读取一行内容（指定size参数值）并赋值给变量content\n",
    "f = open('./text.txt','r')\n",
    "# size值不超过行的长度\n",
    "content = f.readline(5)\n",
    "f.close()"
   ]
  },
  {
   "cell_type": "code",
   "execution_count": 27,
   "metadata": {},
   "outputs": [
    {
     "data": {
      "text/plain": [
       "'从明天起，'"
      ]
     },
     "execution_count": 27,
     "metadata": {},
     "output_type": "execute_result"
    }
   ],
   "source": [
    "# 查看content的内容\n",
    "content"
   ]
  },
  {
   "cell_type": "code",
   "execution_count": 28,
   "metadata": {},
   "outputs": [],
   "source": [
    "# 打开文本文件，读取一行内容（指定size参数值）并赋值给变量content\n",
    "f = open('./text.txt','r')\n",
    "# size值超过行的长度\n",
    "content = f.readline(500)\n",
    "f.close()"
   ]
  },
  {
   "cell_type": "code",
   "execution_count": 29,
   "metadata": {},
   "outputs": [
    {
     "data": {
      "text/plain": [
       "'从明天起，做一个幸福的人\\n'"
      ]
     },
     "execution_count": 29,
     "metadata": {},
     "output_type": "execute_result"
    }
   ],
   "source": [
    "content"
   ]
  },
  {
   "cell_type": "code",
   "execution_count": 30,
   "metadata": {},
   "outputs": [],
   "source": [
    "# 打开文本文件，读取全部内容，并以列表形式返回结果\n",
    "# 列表中的每一个元素表示文件中的一行\n",
    "# 将返回的列表赋值给变量content\n",
    "f = open('./text.txt','r')\n",
    "content = f.readlines()\n",
    "f.close()"
   ]
  },
  {
   "cell_type": "code",
   "execution_count": 31,
   "metadata": {},
   "outputs": [
    {
     "data": {
      "text/plain": [
       "list"
      ]
     },
     "execution_count": 31,
     "metadata": {},
     "output_type": "execute_result"
    }
   ],
   "source": [
    "type(content)"
   ]
  },
  {
   "cell_type": "code",
   "execution_count": 32,
   "metadata": {},
   "outputs": [
    {
     "data": {
      "text/plain": [
       "16"
      ]
     },
     "execution_count": 32,
     "metadata": {},
     "output_type": "execute_result"
    }
   ],
   "source": [
    "len(content)"
   ]
  },
  {
   "cell_type": "code",
   "execution_count": 33,
   "metadata": {},
   "outputs": [
    {
     "name": "stdout",
     "output_type": "stream",
     "text": [
      "从明天起，做一个幸福的人\n",
      "\n",
      "喂马、劈柴、周游世界\n",
      "\n",
      "从明天起，关心粮食和蔬菜\n",
      "\n",
      "我有一所房子，面朝大海，春暖花开\n",
      "\n",
      "\n",
      "\n",
      "从明天起，和每一个亲人通信\n",
      "\n",
      "告诉他们我的幸福\n",
      "\n",
      "那幸福的闪电告诉我的\n",
      "\n",
      "我将告诉每一个人\n",
      "\n",
      "\n",
      "\n",
      "给每一条河每一座山取一个温暖的名字\n",
      "\n",
      "陌生人，我也为你祝福\n",
      "\n",
      "愿你有一个灿烂的前程\n",
      "\n",
      "愿你有情人终成眷属\n",
      "\n",
      "愿你在尘世获得幸福\n",
      "\n",
      "我只愿面朝大海，春暖花开\n",
      "\n"
     ]
    }
   ],
   "source": [
    "# 遍历并打印出列表content中的全部内容\n",
    "for line in content:\n",
    "    print(line)"
   ]
  },
  {
   "cell_type": "markdown",
   "metadata": {},
   "source": [
    "↓↓↓↓↓↓↓↓↓↓<b><font color=red>以下内容了解即可</font></b>↓↓↓↓↓↓↓↓↓↓"
   ]
  },
  {
   "cell_type": "markdown",
   "metadata": {},
   "source": [
    "下面使用`open`函数读取图片、音频、视频文件，mode参数要加上`b`，以二进制格式读取文件内容，否则，以文本格式读取文件内容会出错，因为这些非文本格式的文件的二进制表示无法被正确地转换为任何一种有效的字符编码（如UTF-8，UTF-16，GBK等）。"
   ]
  },
  {
   "cell_type": "markdown",
   "metadata": {},
   "source": [
    "<b><font color=red>注意：</font></b>通常使用专门的包（package）处理（读取、写入、修改等）图片、音频、视频等文件，而不显式地直接使用`open`方法，下面使用`open`方法读取图片和音视频的代码仅用于深入理解`open`函数。"
   ]
  },
  {
   "cell_type": "code",
   "execution_count": 34,
   "metadata": {},
   "outputs": [],
   "source": [
    "# 读取图片文件\n",
    "f = open('./image.jpeg', 'rb')\n",
    "img_content = f.readline()\n",
    "f.close()\n",
    "# img_content"
   ]
  },
  {
   "cell_type": "code",
   "execution_count": 35,
   "metadata": {},
   "outputs": [
    {
     "data": {
      "text/plain": [
       "bytes"
      ]
     },
     "execution_count": 35,
     "metadata": {},
     "output_type": "execute_result"
    }
   ],
   "source": [
    "type(img_content)"
   ]
  },
  {
   "cell_type": "code",
   "execution_count": 36,
   "metadata": {},
   "outputs": [],
   "source": [
    "# 读取图片文件\n",
    "f = open('./image.jpeg', 'rb')\n",
    "img_content = f.readlines()\n",
    "f.close()\n",
    "# img_content"
   ]
  },
  {
   "cell_type": "code",
   "execution_count": 37,
   "metadata": {},
   "outputs": [],
   "source": [
    "# 读取图片文件\n",
    "f = open('./image.jpeg', 'rb')\n",
    "img_content = f.read()\n",
    "f.close()\n",
    "# img_content"
   ]
  },
  {
   "cell_type": "code",
   "execution_count": 38,
   "metadata": {},
   "outputs": [],
   "source": [
    "# 读取音频文件\n",
    "f = open('./audio.mp3', 'rb')\n",
    "audio_content = f.read()\n",
    "f.close()\n",
    "# audio_content"
   ]
  },
  {
   "cell_type": "code",
   "execution_count": 39,
   "metadata": {},
   "outputs": [],
   "source": [
    "# 读取音频文件\n",
    "f = open('./audio.mp3', 'rb')\n",
    "audio_content = f.readline()\n",
    "f.close()\n",
    "# audio_content"
   ]
  },
  {
   "cell_type": "code",
   "execution_count": 40,
   "metadata": {},
   "outputs": [],
   "source": [
    "# 读取音频文件\n",
    "f = open('./audio.mp3', 'rb')\n",
    "audio_content = f.readlines()\n",
    "f.close()\n",
    "# audio_content"
   ]
  },
  {
   "cell_type": "code",
   "execution_count": 41,
   "metadata": {},
   "outputs": [],
   "source": [
    "# 读取视频文件\n",
    "f = open('./video.mp4', 'rb')\n",
    "video_content = f.read()\n",
    "f.close()\n",
    "# video_content"
   ]
  },
  {
   "cell_type": "code",
   "execution_count": 42,
   "metadata": {},
   "outputs": [],
   "source": [
    "# 读取视频文件\n",
    "f = open('./video.mp4', 'rb')\n",
    "video_content = f.readline()\n",
    "f.close()\n",
    "# video_content"
   ]
  },
  {
   "cell_type": "code",
   "execution_count": 43,
   "metadata": {},
   "outputs": [],
   "source": [
    "# 读取视频文件\n",
    "f = open('./video.mp4', 'rb')\n",
    "video_content = f.readlines()\n",
    "f.close()\n",
    "# video_content"
   ]
  },
  {
   "cell_type": "markdown",
   "metadata": {},
   "source": [
    "**图像处理**：常用的处理图像的Python包有：`Pillow`，`Matplotlib`，`opencv-python`，`scikit-image`。有些包Anaconda中未包含，需要使用`pip`命令安装。"
   ]
  },
  {
   "cell_type": "code",
   "execution_count": 44,
   "metadata": {},
   "outputs": [
    {
     "data": {
      "text/plain": [
       "<matplotlib.image.AxesImage at 0x7f2d3c2edd60>"
      ]
     },
     "execution_count": 44,
     "metadata": {},
     "output_type": "execute_result"
    },
    {
     "data": {
      "image/png": "[encoded data removed]",
      "text/plain": [
       "<Figure size 432x288 with 1 Axes>"
      ]
     },
     "metadata": {
      "needs_background": "light"
     },
     "output_type": "display_data"
    }
   ],
   "source": [
    "# 使用matplotlib显示图像\n",
    "import matplotlib.pyplot as plt\n",
    "import matplotlib.image as mpimg\n",
    "import numpy as np\n",
    "I = mpimg.imread('./image.jpeg')\n",
    "plt.imshow(I)"
   ]
  },
  {
   "cell_type": "markdown",
   "metadata": {},
   "source": [
    "<b><font color=Chocolate>拓展学习：</font></b>\n",
    "<a href=\"https://blog.csdn.net/hjxu2016/article/details/79104607\" target=\"_blank\">python读取图像的几种方法</a>"
   ]
  },
  {
   "cell_type": "markdown",
   "metadata": {},
   "source": [
    "<b><font color=red>思考题</font></b>：通过查询网络资料，了解常用的图像、音频、视频处理Python包，了解其各个包的优缺点和应用领域，了解各个包的基本用法。"
   ]
  },
  {
   "cell_type": "markdown",
   "metadata": {},
   "source": [
    "**音频处理**：常用的处理音频的Python包有：`librosa`，`soundfile`，`wave`，`pydub`。有些包Anaconda中未包含，需要使用`pip`命令安装。"
   ]
  },
  {
   "cell_type": "markdown",
   "metadata": {},
   "source": [
    "<b><font color=Chocolate>拓展学习：</font></b>\n",
    "\n",
    "<a href=\"https://segmentfault.com/a/1190000020905581\" target=\"_blank\">Python3.7 读取 mp3 音频文件生成波形图</a>\n",
    "\n",
    "<a href=\"https://blog.csdn.net/lujian1989/article/details/110479941\" target=\"_blank\">python读写音频文件小结</a>"
   ]
  },
  {
   "cell_type": "markdown",
   "metadata": {},
   "source": [
    "**视频处理**：常用的处理音频的Python包有：`imageio`，`opencv-python`。有些包Anaconda中未包含，需要使用`pip`命令安装。"
   ]
  },
  {
   "cell_type": "markdown",
   "metadata": {},
   "source": [
    "<b><font color=Chocolate>拓展学习：</font></b>\n",
    "<a href=\"https://blog.csdn.net/aa846555831/article/details/52382173\" target=\"_blank\">Python: 读取视频的两种方法（imageio和cv2）</a>"
   ]
  },
  {
   "cell_type": "markdown",
   "metadata": {},
   "source": [
    "↑↑↑↑↑↑↑↑↑↑<b><font color=red>以上内容了解即可</font></b>↑↑↑↑↑↑↑↑↑↑"
   ]
  },
  {
   "cell_type": "markdown",
   "metadata": {},
   "source": [
    "**写文件练习**\n",
    "\n",
    "下面，以文本文件为例，练习文件的写入方法`write`和`writelines`"
   ]
  },
  {
   "cell_type": "markdown",
   "metadata": {},
   "source": [
    "<b><font color=red>`w`模式会覆盖掉文件中的已有内容，一旦成功运行，文件中的内容就没了，对于重要文件，采用`w`模式打开前一定备份，备份，备份！！！</font></b>"
   ]
  },
  {
   "cell_type": "code",
   "execution_count": 45,
   "metadata": {},
   "outputs": [],
   "source": [
    "# 使用haizi_intro变量保存海子生平简介\n",
    "haizi_intro = '''海子出生于安徽省怀宁县的高河镇查湾村。在农村度过了少年时代。1979年以15岁之龄进入北京大学法律系[1]，1983年毕业后任教于中国政法大学。在极其朴素的生活中坚持写诗，只有部分得以发表。海子最好的作品，大多是在死后才发表的。'''"
   ]
  },
  {
   "cell_type": "code",
   "execution_count": 46,
   "metadata": {},
   "outputs": [
    {
     "data": {
      "text/plain": [
       "'海子出生于安徽省怀宁县的高河镇查湾村。在农村度过了少年时代。1979年以15岁之龄进入北京大学法律系[1]，1983年毕业后任教于中国政法大学。在极其朴素的生活中坚持写诗，只有部分得以发表。海子最好的作品，大多是在死后才发表的。'"
      ]
     },
     "execution_count": 46,
     "metadata": {},
     "output_type": "execute_result"
    }
   ],
   "source": [
    "haizi_intro"
   ]
  },
  {
   "cell_type": "code",
   "execution_count": 47,
   "metadata": {},
   "outputs": [],
   "source": [
    "# w表示写入模式\n",
    "# 如果文件已经存在，新内容会覆盖文件中原有内容\n",
    "# 如果文件不存在，新建文件，并将内容写入\n",
    "\n",
    "# 将海子的生平简介写入新文件intro.txt\n",
    "f = open('./intro.txt','w')\n",
    "f.write(haizi_intro)\n",
    "f.close()"
   ]
  },
  {
   "cell_type": "code",
   "execution_count": 48,
   "metadata": {},
   "outputs": [],
   "source": [
    "# 使用列表poems保存海子的作品，每个元素表示一个作品，类型为字符串\n",
    "poems = [\n",
    "    '《小站》',\n",
    "    '《河流》',\n",
    "    '《麦地之瓮》',\n",
    "    '《海子诗全集》'\n",
    "]"
   ]
  },
  {
   "cell_type": "code",
   "execution_count": 49,
   "metadata": {},
   "outputs": [],
   "source": [
    "# 将海子的作品列表一次性写入新文件poems\n",
    "f = open('./poems.txt','a')\n",
    "f.writelines(poems) # 相当于 f.write(''.join(poems))\n",
    "f.close()"
   ]
  },
  {
   "cell_type": "code",
   "execution_count": 50,
   "metadata": {},
   "outputs": [],
   "source": [
    "lyrics = '''我怀念的是无话不说\n",
    "\n",
    "我怀念的是一起作梦\n",
    "\n",
    "我怀念的是争吵以后\n",
    "\n",
    "还是想要爱你的冲动'''"
   ]
  },
  {
   "cell_type": "code",
   "execution_count": 51,
   "metadata": {},
   "outputs": [
    {
     "data": {
      "text/plain": [
       "'我怀念的是无话不说\\n\\n我怀念的是一起作梦\\n\\n我怀念的是争吵以后\\n\\n还是想要爱你的冲动'"
      ]
     },
     "execution_count": 51,
     "metadata": {},
     "output_type": "execute_result"
    }
   ],
   "source": [
    "lyrics"
   ]
  },
  {
   "cell_type": "code",
   "execution_count": 52,
   "metadata": {},
   "outputs": [],
   "source": [
    "# a表示追加模式\n",
    "# 如果文件已经存在，新内容会追加在文件中已有内容之后\n",
    "# 如果文件不存在，新建文件，并将内容写入\n",
    "\n",
    "# 使用追加模式，将歌词lyrics写入文件lyrics.txt\n",
    "f = open('./lyrics.txt','a')\n",
    "f.write(lyrics)\n",
    "f.close()"
   ]
  },
  {
   "cell_type": "markdown",
   "metadata": {},
   "source": [
    "<b><font color=red>思考题</font></b>：在`lyrics.txt`中新加一行`姚若龙 作词`，代码怎么写。"
   ]
  },
  {
   "cell_type": "code",
   "execution_count": 53,
   "metadata": {},
   "outputs": [],
   "source": [
    "# 下面代码能正确运行吗\n",
    "# f = open('./lyrics.txt','r')\n",
    "# f.write(lyrics)\n",
    "# f.close()"
   ]
  },
  {
   "cell_type": "code",
   "execution_count": 54,
   "metadata": {},
   "outputs": [],
   "source": [
    "# 下面代码能正确运行吗\n",
    "# f = open('./new_lyrics.txt','r+')\n",
    "# f.write(lyrics)\n",
    "# f.close()"
   ]
  },
  {
   "cell_type": "code",
   "execution_count": 55,
   "metadata": {},
   "outputs": [],
   "source": [
    "# 下面代码能正确运行吗\n",
    "# f = open('./new_lyrics.txt','a+')\n",
    "# f.write(lyrics)\n",
    "# f.close()"
   ]
  },
  {
   "cell_type": "code",
   "execution_count": 56,
   "metadata": {},
   "outputs": [],
   "source": [
    "# 下面代码能正确运行吗\n",
    "# f = open('./new_lyrics.txt','r+')\n",
    "# f.write(lyrics)\n",
    "# f.close()"
   ]
  },
  {
   "cell_type": "code",
   "execution_count": 57,
   "metadata": {},
   "outputs": [],
   "source": [
    "# 下面代码能正确运行吗，new_lyrics.txt文件有变化吗\n",
    "# f = open('./new_lyrics.txt','w')\n",
    "# f.read()\n",
    "# f.close()"
   ]
  },
  {
   "cell_type": "code",
   "execution_count": 58,
   "metadata": {},
   "outputs": [],
   "source": [
    "# 下面代码能正确运行吗，new_lyrics.txt文件有变化吗\n",
    "# f = open('./new_lyrics.txt','a')\n",
    "# f.read()\n",
    "# f.close()"
   ]
  },
  {
   "cell_type": "markdown",
   "metadata": {},
   "source": [
    "`+`表示可读可写，`r`只读不能写，`w`、`a`只写不能读。"
   ]
  },
  {
   "cell_type": "markdown",
   "metadata": {},
   "source": [
    "**文件迭代**\n",
    "\n",
    "一行一行访问文件:\n",
    "\n",
    "```for eachLine in f:\n",
    "\tdo something```\n",
    "    \n",
    "在这个循环里，`eachLine` 代表文本文件的**一行**（包括末尾的行结束符），你可以使用它做任何想做的事情。"
   ]
  },
  {
   "cell_type": "code",
   "execution_count": 59,
   "metadata": {},
   "outputs": [
    {
     "name": "stdout",
     "output_type": "stream",
     "text": [
      "从明天起，做一个幸福的人\n",
      "\n",
      "喂马、劈柴、周游世界\n",
      "\n",
      "从明天起，关心粮食和蔬菜\n",
      "\n",
      "我有一所房子，面朝大海，春暖花开\n",
      "\n",
      "\n",
      "\n",
      "从明天起，和每一个亲人通信\n",
      "\n",
      "告诉他们我的幸福\n",
      "\n",
      "那幸福的闪电告诉我的\n",
      "\n",
      "我将告诉每一个人\n",
      "\n",
      "\n",
      "\n",
      "给每一条河每一座山取一个温暖的名字\n",
      "\n",
      "陌生人，我也为你祝福\n",
      "\n",
      "愿你有一个灿烂的前程\n",
      "\n",
      "愿你有情人终成眷属\n",
      "\n",
      "愿你在尘世获得幸福\n",
      "\n",
      "我只愿面朝大海，春暖花开\n",
      "\n"
     ]
    }
   ],
   "source": [
    "# 打开保存有《面朝大海，春暖花开》的文本文件./text.txt\n",
    "# 逐行访问，并打印输出\n",
    "f = open('./text.txt')\n",
    "for line in f:\n",
    "    print(line)\n",
    "f.close()"
   ]
  },
  {
   "cell_type": "markdown",
   "metadata": {},
   "source": [
    "<b><font color=red>\n",
    "对文件进行读写操作时，一定要在处理完之后关闭文件对象，即`f.close()`    \n",
    "</font></b>"
   ]
  },
  {
   "cell_type": "markdown",
   "metadata": {},
   "source": [
    "<b><font color=red>\n",
    "如果担心会忘记关闭文件对象，强烈建议，强烈建议，强烈建议，使用如下`with`语句打开文件，`with`中的语句执行完毕后会自动关闭文件对象，老师再也不用担心我忘记关闭文件对象了，^_^。\n",
    "</font></b>\n",
    "\n",
    "```\n",
    "with open(file, mode) as f:\n",
    "  do something\n",
    "```"
   ]
  },
  {
   "cell_type": "code",
   "execution_count": 60,
   "metadata": {},
   "outputs": [
    {
     "name": "stdout",
     "output_type": "stream",
     "text": [
      "从明天起，做一个幸福的人\n",
      "\n",
      "喂马、劈柴、周游世界\n",
      "\n",
      "从明天起，关心粮食和蔬菜\n",
      "\n",
      "我有一所房子，面朝大海，春暖花开\n",
      "\n",
      "\n",
      "\n",
      "从明天起，和每一个亲人通信\n",
      "\n",
      "告诉他们我的幸福\n",
      "\n",
      "那幸福的闪电告诉我的\n",
      "\n",
      "我将告诉每一个人\n",
      "\n",
      "\n",
      "\n",
      "给每一条河每一座山取一个温暖的名字\n",
      "\n",
      "陌生人，我也为你祝福\n",
      "\n",
      "愿你有一个灿烂的前程\n",
      "\n",
      "愿你有情人终成眷属\n",
      "\n",
      "愿你在尘世获得幸福\n",
      "\n",
      "我只愿面朝大海，春暖花开\n",
      "\n"
     ]
    }
   ],
   "source": [
    "# 使用with语句迭代打印文件中每行文本\n",
    "with open('./text.txt') as f:\n",
    "    for line in f:\n",
    "        print(line)"
   ]
  },
  {
   "cell_type": "markdown",
   "metadata": {},
   "source": [
    "<b><font color=red>思考题</font></b>：把上面使用`f = open(file, mode)`写的代码，全部用with语句重写一遍。"
   ]
  },
  {
   "cell_type": "markdown",
   "metadata": {},
   "source": [
    "## 文件内移动游标"
   ]
  },
  {
   "cell_type": "markdown",
   "metadata": {},
   "source": [
    "**获取读写位置**\n",
    "\n",
    "文件内游标移动以字节（byte）为单位，如果操作成功，则返回新的文件位置，如果操作失败，则函数返回-1。\n",
    "\n",
    "- `f.tell()`, 获取文件内读写位置\n",
    "- `f.seek(offset, [whence])`，文件内读写位置移动：\n",
    "  - `offset`：偏移量，也就是代表需要移动偏移的字节数；\n",
    "  - `whence`：给`offset`参数一个定义，表示要从哪个位置开始偏移；0代表从文件开头开始算起，1代表从当前位置开始算起，2代表从文件末尾算起。`whence`值默认为0。`t`模式时，只能为0，不能为1和2，`b`模式可以取0、1、2。"
   ]
  },
  {
   "cell_type": "code",
   "execution_count": 61,
   "metadata": {
    "scrolled": true
   },
   "outputs": [
    {
     "name": "stdout",
     "output_type": "stream",
     "text": [
      "从明天起，做一个幸福的人\n",
      " length: 13 offset: 37\n"
     ]
    }
   ],
   "source": [
    "# 使用with语句打开文本文件text.txt，读取一行\n",
    "# 打印输出这一行，这一行的长度，以及当前的游标位置\n",
    "with open('./text.txt') as f:\n",
    "    line1 = f.readline()\n",
    "    print(line1, 'length: {}'.format(len(line1)), 'offset: {}'.format(f.tell()))"
   ]
  },
  {
   "cell_type": "code",
   "execution_count": 62,
   "metadata": {},
   "outputs": [
    {
     "data": {
      "text/plain": [
       "'从明天起，做一个幸福的人\\n'"
      ]
     },
     "execution_count": 62,
     "metadata": {},
     "output_type": "execute_result"
    }
   ],
   "source": [
    "line1"
   ]
  },
  {
   "cell_type": "code",
   "execution_count": 63,
   "metadata": {},
   "outputs": [],
   "source": [
    "with open('./text.txt') as f:\n",
    "    content = f.read()"
   ]
  },
  {
   "cell_type": "code",
   "execution_count": 64,
   "metadata": {},
   "outputs": [
    {
     "data": {
      "text/plain": [
       "'从明天起，做一个幸福的人\\n'"
      ]
     },
     "execution_count": 64,
     "metadata": {},
     "output_type": "execute_result"
    }
   ],
   "source": [
    "content[:13]"
   ]
  },
  {
   "cell_type": "markdown",
   "metadata": {},
   "source": [
    "<b><font color=red>思考题</font></b>：为什么上面的代码中`line1`的长度（length）为13，但是`f.tell()`的值为37。"
   ]
  },
  {
   "cell_type": "code",
   "execution_count": 65,
   "metadata": {},
   "outputs": [],
   "source": [
    "# 使用二进制模式打开文本文件text.txt\n",
    "f = open('./text.txt', 'rb')"
   ]
  },
  {
   "cell_type": "code",
   "execution_count": 66,
   "metadata": {},
   "outputs": [
    {
     "data": {
      "text/plain": [
       "37"
      ]
     },
     "execution_count": 66,
     "metadata": {},
     "output_type": "execute_result"
    }
   ],
   "source": [
    "# 移动游标位置到第 37 byte\n",
    "f.seek(37)"
   ]
  },
  {
   "cell_type": "code",
   "execution_count": 67,
   "metadata": {},
   "outputs": [],
   "source": [
    "# 读取一行内容\n",
    "line1 = f.readline()"
   ]
  },
  {
   "cell_type": "code",
   "execution_count": 68,
   "metadata": {},
   "outputs": [
    {
     "data": {
      "text/plain": [
       "'喂马、劈柴、周游世界\\n'"
      ]
     },
     "execution_count": 68,
     "metadata": {},
     "output_type": "execute_result"
    }
   ],
   "source": [
    "# 使用UTF-8编码将这一行的bytes类型的内容解码为字符串，并查看其内容\n",
    "line1.decode('utf-8')"
   ]
  },
  {
   "cell_type": "code",
   "execution_count": 69,
   "metadata": {},
   "outputs": [
    {
     "data": {
      "text/plain": [
       "105"
      ]
     },
     "execution_count": 69,
     "metadata": {},
     "output_type": "execute_result"
    }
   ],
   "source": [
    "# 把游标从当前位置向前移动37 bytes\n",
    "f.seek(37, 1)"
   ]
  },
  {
   "cell_type": "code",
   "execution_count": 70,
   "metadata": {},
   "outputs": [
    {
     "data": {
      "text/plain": [
       "'我有一所房子，面朝大海，春暖花开\\n'"
      ]
     },
     "execution_count": 70,
     "metadata": {},
     "output_type": "execute_result"
    }
   ],
   "source": [
    "# 这一行的代码，运行结果是什么\n",
    "line2 = f.readline()\n",
    "line2.decode('utf-8')"
   ]
  },
  {
   "cell_type": "code",
   "execution_count": 71,
   "metadata": {},
   "outputs": [],
   "source": [
    "# 记得一定要关闭文件对象f哦\n",
    "f.close()"
   ]
  },
  {
   "cell_type": "code",
   "execution_count": 72,
   "metadata": {},
   "outputs": [
    {
     "data": {
      "text/plain": [
       "'喂马、劈柴、周游世界\\n'"
      ]
     },
     "execution_count": 72,
     "metadata": {},
     "output_type": "execute_result"
    }
   ],
   "source": [
    "# 不使用b模式，游标只能从文件头开始移动\n",
    "with open('./text.txt', 'r') as f:\n",
    "    f.seek(37)\n",
    "    line = f.readline()\n",
    "line    "
   ]
  },
  {
   "cell_type": "code",
   "execution_count": 73,
   "metadata": {},
   "outputs": [
    {
     "name": "stdout",
     "output_type": "stream",
     "text": [
      "b''\n"
     ]
    }
   ],
   "source": [
    "# 从文件头开始，移动100000 bytes\n",
    "with open('./text.txt', 'rb') as f:\n",
    "    f.seek(100000, 0)\n",
    "    print(f.read())"
   ]
  },
  {
   "cell_type": "code",
   "execution_count": 74,
   "metadata": {},
   "outputs": [
    {
     "name": "stdout",
     "output_type": "stream",
     "text": [
      "b''\n"
     ]
    }
   ],
   "source": [
    "# 从文件末开始，移动0 byte\n",
    "with open('./text.txt', 'rb') as f:\n",
    "    f.seek(0, 2)\n",
    "    print(f.read())"
   ]
  },
  {
   "cell_type": "code",
   "execution_count": 75,
   "metadata": {},
   "outputs": [
    {
     "name": "stdout",
     "output_type": "stream",
     "text": [
      "b''\n"
     ]
    }
   ],
   "source": [
    "# 从当前位置开始，移动100000 bytes\n",
    "with open('./text.txt', 'rb') as f:\n",
    "    f.seek(100000, 1)\n",
    "    print(f.read())"
   ]
  },
  {
   "cell_type": "code",
   "execution_count": 76,
   "metadata": {},
   "outputs": [
    {
     "data": {
      "text/plain": [
       "'从明天起，做一个幸福的人\\n'"
      ]
     },
     "execution_count": 76,
     "metadata": {},
     "output_type": "execute_result"
    }
   ],
   "source": [
    "# 从当前位置开始，移动0 bytes\n",
    "with open('./text.txt', 'rb') as f:\n",
    "    f.seek(0, 0)\n",
    "    content = f.readline()\n",
    "content.decode('utf-8')"
   ]
  },
  {
   "cell_type": "code",
   "execution_count": 77,
   "metadata": {},
   "outputs": [
    {
     "data": {
      "text/plain": [
       "'喂马、劈柴、周游世界\\n从明天起，关心粮食和蔬菜\\n我有一所房子，面朝大海，春暖花开\\n\\n从明天起，和每一个亲人通信\\n告诉他们我的幸福\\n那幸福的闪电告诉我的\\n我将告诉每一个人\\n\\n给每一条河每一座山取一个温暖的名字\\n陌生人，我也为你祝福\\n愿你有一个灿烂的前程\\n愿你有情人终成眷属\\n愿你在尘世获得幸福\\n我只愿面朝大海，春暖花开\\n'"
      ]
     },
     "execution_count": 77,
     "metadata": {},
     "output_type": "execute_result"
    }
   ],
   "source": [
    "# 从当前位置开始，移动0 bytes\n",
    "with open('./text.txt', 'r') as f:\n",
    "    f.seek(37)\n",
    "    content = f.read()\n",
    "content"
   ]
  },
  {
   "cell_type": "markdown",
   "metadata": {},
   "source": [
    "## 文件读写实例"
   ]
  },
  {
   "cell_type": "markdown",
   "metadata": {},
   "source": [
    "**将`print`的结果写入到文件**"
   ]
  },
  {
   "cell_type": "code",
   "execution_count": 78,
   "metadata": {},
   "outputs": [],
   "source": [
    "# 设定print函数的file参数为文件对象f\n",
    "# 将print的object参数值写入到文件，此时屏幕是不输出object的内容的\n",
    "with open('./wu.txt', 'w') as f:\n",
    "    print('为你写诗，为你静止，为你做不可能的事', file = f)"
   ]
  },
  {
   "cell_type": "code",
   "execution_count": 79,
   "metadata": {},
   "outputs": [],
   "source": [
    "with open('./wu.txt', 'r') as f:\n",
    "    content = f.read()"
   ]
  },
  {
   "cell_type": "code",
   "execution_count": 80,
   "metadata": {},
   "outputs": [
    {
     "data": {
      "text/plain": [
       "'为你写诗，为你静止，为你做不可能的事\\n'"
      ]
     },
     "execution_count": 80,
     "metadata": {},
     "output_type": "execute_result"
    }
   ],
   "source": [
    "content"
   ]
  },
  {
   "cell_type": "code",
   "execution_count": 81,
   "metadata": {},
   "outputs": [],
   "source": [
    "# 设定print的end参数值，用来设定以什么结尾。\n",
    "# end参数的默认值是换行符 \\n，我们可以换成其他字符，此处换为#结尾\n",
    "with open('./wu.txt', 'w') as f:\n",
    "    print('为你写诗，为你静止，为你做不可能的事', end = '#', file = f)"
   ]
  },
  {
   "cell_type": "code",
   "execution_count": 82,
   "metadata": {},
   "outputs": [],
   "source": [
    "with open('./wu.txt', 'r') as f:\n",
    "    content = f.read()"
   ]
  },
  {
   "cell_type": "code",
   "execution_count": 83,
   "metadata": {},
   "outputs": [
    {
     "data": {
      "text/plain": [
       "'为你写诗，为你静止，为你做不可能的事#'"
      ]
     },
     "execution_count": 83,
     "metadata": {},
     "output_type": "execute_result"
    }
   ],
   "source": [
    "content"
   ]
  },
  {
   "cell_type": "code",
   "execution_count": 84,
   "metadata": {},
   "outputs": [
    {
     "name": "stdout",
     "output_type": "stream",
     "text": [
      "为你写诗，为你静止，为你做不可能的事\n"
     ]
    }
   ],
   "source": [
    "print('为你写诗，为你静止，为你做不可能的事')"
   ]
  },
  {
   "cell_type": "code",
   "execution_count": 85,
   "metadata": {},
   "outputs": [
    {
     "name": "stdout",
     "output_type": "stream",
     "text": [
      "为你写诗，为你静止，为你做不可能的事#"
     ]
    }
   ],
   "source": [
    "print('为你写诗，为你静止，为你做不可能的事', end = '#')"
   ]
  },
  {
   "cell_type": "markdown",
   "metadata": {},
   "source": [
    "`end`参数用来设定以什么结尾。默认值是换行符`\\n`，我们可以换成其他字符串。文件中换行符是不可见的。"
   ]
  },
  {
   "cell_type": "markdown",
   "metadata": {},
   "source": [
    "**示例**：接收键盘输入，屏幕输出，并写入文件"
   ]
  },
  {
   "cell_type": "code",
   "execution_count": 86,
   "metadata": {},
   "outputs": [
    {
     "name": "stdin",
     "output_type": "stream",
     "text": [
      "上联是：南通州，北通州，南北通州通南北，请您赐下联： 东当铺，西当铺，东西当铺当东西\n"
     ]
    },
    {
     "name": "stdout",
     "output_type": "stream",
     "text": [
      "我的上联是：南通州，北通州，南北通州通南北\n",
      "您的下联是：东当铺，西当铺，东西当铺当东西\n"
     ]
    }
   ],
   "source": [
    "# 给出一个上联，使用input函数接收键盘输入下联，并将上下联写入文件duilian.txt\n",
    "left_text = '南通州，北通州，南北通州通南北' # 东当铺，西当铺，东西当铺当东西\n",
    "right_text = input('上联是：{}，请您赐下联：'.format(left_text))\n",
    "with open('./duilian.txt', 'w') as f:\n",
    "    print('我的上联是：{}'.format(left_text))\n",
    "    print(left_text, file = f)\n",
    "    print('您的下联是：{}'.format(right_text))\n",
    "    print(right_text, file = f)"
   ]
  },
  {
   "cell_type": "markdown",
   "metadata": {},
   "source": [
    "<b><font color=red>思考题</font></b>：修改上面代码，使得文件中的对联呈竖形，如下：\n",
    "\n",
    "![竖形对联](https://raw.githubusercontent.com/zhangjianzhang/programming_basics/master/files/codes/lecture_9/dui_lian.jpg)"
   ]
  },
  {
   "cell_type": "markdown",
   "metadata": {},
   "source": [
    "**文件内置属性**"
   ]
  },
  {
   "cell_type": "code",
   "execution_count": 87,
   "metadata": {},
   "outputs": [],
   "source": [
    "f = open('./text.txt') "
   ]
  },
  {
   "cell_type": "code",
   "execution_count": 88,
   "metadata": {},
   "outputs": [
    {
     "data": {
      "text/plain": [
       "False"
      ]
     },
     "execution_count": 88,
     "metadata": {},
     "output_type": "execute_result"
    }
   ],
   "source": [
    "# 是否关闭\n",
    "f.closed"
   ]
  },
  {
   "cell_type": "code",
   "execution_count": 89,
   "metadata": {},
   "outputs": [
    {
     "data": {
      "text/plain": [
       "'UTF-8'"
      ]
     },
     "execution_count": 89,
     "metadata": {},
     "output_type": "execute_result"
    }
   ],
   "source": [
    "# 编码方式\n",
    "f.encoding"
   ]
  },
  {
   "cell_type": "code",
   "execution_count": 90,
   "metadata": {},
   "outputs": [
    {
     "data": {
      "text/plain": [
       "'r'"
      ]
     },
     "execution_count": 90,
     "metadata": {},
     "output_type": "execute_result"
    }
   ],
   "source": [
    "# 打开模式\n",
    "f.mode"
   ]
  },
  {
   "cell_type": "code",
   "execution_count": 91,
   "metadata": {},
   "outputs": [
    {
     "data": {
      "text/plain": [
       "'./text.txt'"
      ]
     },
     "execution_count": 91,
     "metadata": {},
     "output_type": "execute_result"
    }
   ],
   "source": [
    "# 文件名\n",
    "f.name"
   ]
  },
  {
   "cell_type": "code",
   "execution_count": 92,
   "metadata": {},
   "outputs": [],
   "source": [
    "# 一定要记住关闭，关闭，关闭，文件对象\n",
    "f.close()"
   ]
  },
  {
   "cell_type": "markdown",
   "metadata": {},
   "source": [
    "<b><font color=red>思考题</font></b>：当前目录中的`grades.txt`文件中有如下各个同学的语文和数学成绩：\n",
    "\n",
    "<br>\n",
    "<div align=center>\n",
    "<img width=\"350\" height=\"550\" src=\"https://raw.githubusercontent.com/zhangjianzhang/programming_basics/master/files/codes/imgs/grade.png?raw=true\">\n",
    "\n",
    "<p><center><font>单科成绩单</font></center></p>\n",
    "</div>\n",
    "\n",
    "请编程计算各个同学的平均成绩并输入到当前目录的`average.txt`文件中，格式如下：\n",
    "\n",
    "<br>\n",
    "<div align=center>\n",
    "<img width=\"150\" height=\"250\" src=\"https://raw.githubusercontent.com/zhangjianzhang/programming_basics/master/files/codes/imgs/avg.jpg?raw=true\">\n",
    "\n",
    "<p><center><font>平均分成绩单</font></center></p>\n",
    "</div>\n"
   ]
  },
  {
   "cell_type": "code",
   "execution_count": 93,
   "metadata": {},
   "outputs": [],
   "source": [
    "# 1. 将grades.txt文件中的内容读取到列表lines中\n",
    "with open('./grades.txt') as f:\n",
    "    lines = f.readlines()\n",
    "\n",
    "# 另一种读取方式    \n",
    "# with open('./grades.txt') as f:\n",
    "#     lines = f.read().strip().split('\\n')"
   ]
  },
  {
   "cell_type": "code",
   "execution_count": 94,
   "metadata": {},
   "outputs": [
    {
     "data": {
      "text/plain": [
       "['姓名 语文 数学\\n',\n",
       " '张三 88 64\\n',\n",
       " '李四 90 78\\n',\n",
       " '王五 65 45\\n',\n",
       " '赵六 43 66\\n',\n",
       " '冯七 62 56\\n',\n",
       " '刘八 90 42\\n',\n",
       " '阮九 68 36\\n',\n",
       " '陆十 86 46\\n']"
      ]
     },
     "execution_count": 94,
     "metadata": {},
     "output_type": "execute_result"
    }
   ],
   "source": [
    "lines"
   ]
  },
  {
   "cell_type": "code",
   "execution_count": 95,
   "metadata": {},
   "outputs": [
    {
     "data": {
      "text/plain": [
       "[['张三', '88', '64'],\n",
       " ['李四', '90', '78'],\n",
       " ['王五', '65', '45'],\n",
       " ['赵六', '43', '66'],\n",
       " ['冯七', '62', '56'],\n",
       " ['刘八', '90', '42'],\n",
       " ['阮九', '68', '36'],\n",
       " ['陆十', '86', '46']]"
      ]
     },
     "execution_count": 95,
     "metadata": {},
     "output_type": "execute_result"
    }
   ],
   "source": [
    "# 2. 将成绩内容转换为list(list)\n",
    "score_list = []\n",
    "\n",
    "for line in lines[1:]:\n",
    "    score_list.append(line.strip().split())\n",
    "\n",
    "score_list"
   ]
  },
  {
   "cell_type": "code",
   "execution_count": 96,
   "metadata": {},
   "outputs": [
    {
     "data": {
      "text/plain": [
       "[['姓名', '平均分'],\n",
       " ['张三', '76.0'],\n",
       " ['李四', '84.0'],\n",
       " ['王五', '55.0'],\n",
       " ['赵六', '54.5'],\n",
       " ['冯七', '59.0'],\n",
       " ['刘八', '66.0'],\n",
       " ['阮九', '52.0'],\n",
       " ['陆十', '66.0']]"
      ]
     },
     "execution_count": 96,
     "metadata": {},
     "output_type": "execute_result"
    }
   ],
   "source": [
    "# 3. 计算平均分\n",
    "\n",
    "avg_list = []\n",
    "\n",
    "for line in score_list:\n",
    "    avg_line = [line[0], str(sum(map(float, line[1:]))/len(line[1:]))]\n",
    "    avg_list.append(avg_line)\n",
    "\n",
    "[['姓名', '平均分']] + avg_list"
   ]
  },
  {
   "cell_type": "code",
   "execution_count": 97,
   "metadata": {},
   "outputs": [],
   "source": [
    "# 4. 把avg_list写入文件average.txt中\n",
    "\n",
    "with open('./average.txt','w') as f:\n",
    "    result = '\\n'.join([' '.join(line) for line in [['姓名', '平均分']] + avg_list])\n",
    "    f.writelines(result)"
   ]
  },
  {
   "cell_type": "code",
   "execution_count": 98,
   "metadata": {},
   "outputs": [
    {
     "name": "stdout",
     "output_type": "stream",
     "text": [
      "END\n"
     ]
    }
   ],
   "source": [
    "print('END')"
   ]
  }
 ],
 "metadata": {
  "kernelspec": {
   "display_name": "Python 3 (ipykernel)",
   "language": "python",
   "name": "python3"
  },
  "language_info": {
   "codemirror_mode": {
    "name": "ipython",
    "version": 3
   },
   "file_extension": ".py",
   "mimetype": "text/x-python",
   "name": "python",
   "nbconvert_exporter": "python",
   "pygments_lexer": "ipython3",
   "version": "3.9.7"
  }
 },
 "nbformat": 4,
 "nbformat_minor": 4
}
