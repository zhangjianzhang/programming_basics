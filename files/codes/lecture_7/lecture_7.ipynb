{
 "cells": [
  {
   "cell_type": "markdown",
   "metadata": {},
   "source": [
    "# 7 抽象与模块"
   ]
  },
  {
   "cell_type": "markdown",
   "metadata": {},
   "source": [
    "## 7.1 列表（元组）传参"
   ]
  },
  {
   "cell_type": "markdown",
   "metadata": {},
   "source": [
    "参考lecture_6.ipynb中的**可变长度参数**部分。下面我们再看几个小栗子："
   ]
  },
  {
   "cell_type": "code",
   "execution_count": 1,
   "metadata": {},
   "outputs": [],
   "source": [
    "# 打印参数元组中的每一个参数元素\n",
    "def my_print(*args):\n",
    "    for item in args:\n",
    "        print(item)"
   ]
  },
  {
   "cell_type": "code",
   "execution_count": 2,
   "metadata": {},
   "outputs": [
    {
     "name": "stdout",
     "output_type": "stream",
     "text": [
      "['a', 'b', 'c']\n",
      "123\n",
      "abc\n"
     ]
    }
   ],
   "source": [
    "list_1 = [\"a\",\"b\",\"c\"]\n",
    "\n",
    "# 此处，list_1，123，\"abc\"均为为参数元组中的元素\n",
    "my_print(list_1,123,\"abc\")"
   ]
  },
  {
   "cell_type": "code",
   "execution_count": 3,
   "metadata": {},
   "outputs": [],
   "source": [
    "list_2=[\"a\",\"b\",\"c\"]"
   ]
  },
  {
   "cell_type": "code",
   "execution_count": 4,
   "metadata": {},
   "outputs": [
    {
     "name": "stdout",
     "output_type": "stream",
     "text": [
      "['a', 'b', 'c']\n"
     ]
    }
   ],
   "source": [
    "# 此处，list_2是参数元组中的一个元素，参数元组中只包含一个元素\n",
    "my_print(list_2)"
   ]
  },
  {
   "cell_type": "code",
   "execution_count": 5,
   "metadata": {},
   "outputs": [
    {
     "name": "stdout",
     "output_type": "stream",
     "text": [
      "a\n",
      "b\n",
      "c\n"
     ]
    }
   ],
   "source": [
    "# 星号表示解包，此处，将list_2解包后，把list_2中的元素作为参数传入\n",
    "# 所以，list_2中的每个元素就变成了参数元组中的元素\n",
    "my_print(*list_2)"
   ]
  },
  {
   "cell_type": "code",
   "execution_count": 6,
   "metadata": {
    "scrolled": true
   },
   "outputs": [
    {
     "name": "stdout",
     "output_type": "stream",
     "text": [
      "a\n",
      "b\n",
      "c\n",
      "abc\n"
     ]
    }
   ],
   "source": [
    "my_print(*list_2, 'abc')"
   ]
  },
  {
   "cell_type": "code",
   "execution_count": 7,
   "metadata": {},
   "outputs": [
    {
     "name": "stdout",
     "output_type": "stream",
     "text": [
      "a\n",
      "b\n",
      "c\n",
      "abc\n"
     ]
    }
   ],
   "source": [
    "my_print(\"a\",\"b\",\"c\", 'abc')"
   ]
  },
  {
   "cell_type": "code",
   "execution_count": 8,
   "metadata": {},
   "outputs": [
    {
     "name": "stdout",
     "output_type": "stream",
     "text": [
      "abc\n",
      "a\n",
      "b\n",
      "c\n"
     ]
    }
   ],
   "source": [
    "my_print('abc',*list_2)"
   ]
  },
  {
   "cell_type": "code",
   "execution_count": 9,
   "metadata": {},
   "outputs": [
    {
     "name": "stdout",
     "output_type": "stream",
     "text": [
      "abc\n",
      "a\n",
      "b\n",
      "c\n"
     ]
    }
   ],
   "source": [
    "my_print('abc', \"a\",\"b\",\"c\")"
   ]
  },
  {
   "cell_type": "code",
   "execution_count": 10,
   "metadata": {},
   "outputs": [],
   "source": [
    "# 此处定义的函数有固定个数的参数\n",
    "# 在调用时，必须传入两个参数值才行哦\n",
    "def print_fixed_para(arg1, arg2):\n",
    "    print(\"{}-----{}\".format(arg1, arg2))"
   ]
  },
  {
   "cell_type": "code",
   "execution_count": 11,
   "metadata": {},
   "outputs": [
    {
     "name": "stdout",
     "output_type": "stream",
     "text": [
      "a-----b\n"
     ]
    }
   ],
   "source": [
    "print_fixed_para('a', 'b')"
   ]
  },
  {
   "cell_type": "code",
   "execution_count": 12,
   "metadata": {},
   "outputs": [],
   "source": [
    "list_3 = ['c', 'd']"
   ]
  },
  {
   "cell_type": "code",
   "execution_count": 13,
   "metadata": {},
   "outputs": [],
   "source": [
    "# 此处，按照位置传参，只传了一个参数，显然错误\n",
    "# print_fixed_para(list_3)"
   ]
  },
  {
   "cell_type": "code",
   "execution_count": 14,
   "metadata": {},
   "outputs": [
    {
     "name": "stdout",
     "output_type": "stream",
     "text": [
      "['c', 'd']-----['c', 'd']\n"
     ]
    }
   ],
   "source": [
    "# 此处按照位置传参，传了两个参数\n",
    "# 没问题，可以正常调用函数\n",
    "print_fixed_para(list_3, list_3)"
   ]
  },
  {
   "cell_type": "code",
   "execution_count": 15,
   "metadata": {},
   "outputs": [
    {
     "name": "stdout",
     "output_type": "stream",
     "text": [
      "c-----d\n"
     ]
    }
   ],
   "source": [
    "# 此处采用列表解包的形式，按位置传递了两个参数值\n",
    "# 当然可以正常调用函数\n",
    "print_fixed_para(*list_3)"
   ]
  },
  {
   "cell_type": "markdown",
   "metadata": {},
   "source": [
    "从上面的例子可以得出：在调用函数的时候，可以使用`*`对列表（或者元组）进行解包，解包的结果可以用于按位置传参。"
   ]
  },
  {
   "cell_type": "markdown",
   "metadata": {},
   "source": [
    "上面的例子，都是解包列表，解包元组同样可以，简单用下面小栗子演示一下："
   ]
  },
  {
   "cell_type": "code",
   "execution_count": 16,
   "metadata": {},
   "outputs": [
    {
     "name": "stdout",
     "output_type": "stream",
     "text": [
      "good\n",
      "boy\n"
     ]
    }
   ],
   "source": [
    "arg_tuple = ('good', 'boy')\n",
    "my_print(*arg_tuple)"
   ]
  },
  {
   "cell_type": "code",
   "execution_count": 17,
   "metadata": {},
   "outputs": [
    {
     "name": "stdout",
     "output_type": "stream",
     "text": [
      "good\n",
      "boy\n",
      "nice\n",
      "girl\n"
     ]
    }
   ],
   "source": [
    "my_print(*arg_tuple, 'nice', 'girl')# 'nice', 'girl'"
   ]
  },
  {
   "cell_type": "code",
   "execution_count": 18,
   "metadata": {},
   "outputs": [
    {
     "name": "stdout",
     "output_type": "stream",
     "text": [
      "nice\n",
      "girl\n",
      "good\n",
      "boy\n"
     ]
    }
   ],
   "source": [
    "my_print('nice', 'girl', *arg_tuple)"
   ]
  },
  {
   "cell_type": "code",
   "execution_count": 19,
   "metadata": {},
   "outputs": [
    {
     "name": "stdout",
     "output_type": "stream",
     "text": [
      "good-----boy\n"
     ]
    }
   ],
   "source": [
    "print_fixed_para(*arg_tuple)"
   ]
  },
  {
   "cell_type": "markdown",
   "metadata": {},
   "source": [
    "<b><font color=red>思考题：</font></b>下面代码的运行结果是什么\n",
    "\n",
    "`arg_set = {'good', 'boy'}`\n",
    "\n",
    "`print_fixed_para(*arg_set)`\n",
    "\n",
    "`my_print(*arg_set)`"
   ]
  },
  {
   "cell_type": "markdown",
   "metadata": {},
   "source": [
    "## 7.2 字典传参"
   ]
  },
  {
   "cell_type": "markdown",
   "metadata": {},
   "source": [
    "字典传参与列表（元组）传参非常类似，下面，直接看小栗子："
   ]
  },
  {
   "cell_type": "code",
   "execution_count": 20,
   "metadata": {},
   "outputs": [],
   "source": [
    "# 定义了一个具有固定个数参数的函数，用来求分数平均值\n",
    "def avg_grade(chinese = 80, math = 85):\n",
    "    return (chinese + math)/2"
   ]
  },
  {
   "cell_type": "code",
   "execution_count": 21,
   "metadata": {},
   "outputs": [
    {
     "data": {
      "text/plain": [
       "93.5"
      ]
     },
     "execution_count": 21,
     "metadata": {},
     "output_type": "execute_result"
    }
   ],
   "source": [
    "grade_dict = {'chinese':88,\n",
    "             'math':99}\n",
    "\n",
    "# 对字典进行解包后，按关键字进行参数传递，字典无序哦\n",
    "avg_grade(**grade_dict)"
   ]
  },
  {
   "cell_type": "markdown",
   "metadata": {},
   "source": [
    "上面的例子对字典解包后，按关键字传参，调用函数`avg_grade`，所以，grade_dict中的key必须，必须，必须，与函数定义中的参数关键字同名，一个字母也不能差。不信，你试试下面例子："
   ]
  },
  {
   "cell_type": "code",
   "execution_count": 22,
   "metadata": {},
   "outputs": [],
   "source": [
    "# 想一下，为什么下面代码运行出错\n",
    "# grade_dict = {' chinese':88,\n",
    "#              'math':99}\n",
    "\n",
    "# avg_grade(**grade_dict)"
   ]
  },
  {
   "cell_type": "code",
   "execution_count": 23,
   "metadata": {},
   "outputs": [],
   "source": [
    "# 定义了一个具有可变个数参数的函数，用来求分数平均值\n",
    "def avg_grade_mul(chinese = 80, math = 85, **kwargs):\n",
    "    return (chinese + math + sum(kwargs.values()))/(2+len(kwargs))"
   ]
  },
  {
   "cell_type": "code",
   "execution_count": 24,
   "metadata": {},
   "outputs": [
    {
     "data": {
      "text/plain": [
       "85.75"
      ]
     },
     "execution_count": 24,
     "metadata": {},
     "output_type": "execute_result"
    }
   ],
   "source": [
    "grade_dict = {'english':88,'history':90}\n",
    "\n",
    "\n",
    "# 对字典解包后，按关键字参数调用函数\n",
    "# 此时的参数有四个，求四科成绩的平均值\n",
    "avg_grade_mul(**grade_dict)"
   ]
  },
  {
   "cell_type": "code",
   "execution_count": 25,
   "metadata": {},
   "outputs": [
    {
     "data": {
      "text/plain": [
       "93.5"
      ]
     },
     "execution_count": 25,
     "metadata": {},
     "output_type": "execute_result"
    }
   ],
   "source": [
    "grade_dict = {'chinese':88,\n",
    "             'math':99}\n",
    "\n",
    "# 对字典解包后，按关键字参数调用函数\n",
    "# 此时的参数有两个\n",
    "# 字典中的keys与函数的有默认值参数重名\n",
    "# 用解包后的结果，对默认参数值进行更新\n",
    "avg_grade_mul(**grade_dict)"
   ]
  },
  {
   "cell_type": "markdown",
   "metadata": {},
   "source": [
    "`*`是解包元组，`**`是解包字典。"
   ]
  },
  {
   "cell_type": "markdown",
   "metadata": {},
   "source": [
    "无论是列表（元组）传参还是字典传参，都可用于调用**有固定个数参数的函数**和**有可变个数参数的函数**，字典传参的时候，keys要与函数的参数名一样哦。"
   ]
  },
  {
   "cell_type": "markdown",
   "metadata": {},
   "source": [
    "## 7.2 不同类型参数定义顺序\n"
   ]
  },
  {
   "cell_type": "markdown",
   "metadata": {},
   "source": [
    "位置参数，默认值参数，可变参数，命名参数，可变命名参数。"
   ]
  },
  {
   "cell_type": "markdown",
   "metadata": {},
   "source": [
    "先看例子："
   ]
  },
  {
   "cell_type": "code",
   "execution_count": 1,
   "metadata": {},
   "outputs": [],
   "source": [
    "def my_func(a, b, c = 0, *args, d, **kwargs):\n",
    "    print('a:      {}'.format(a),\n",
    "          'b:      {}'.format(b),\n",
    "          'c:      {}'.format(c),\n",
    "          'args:   {}'.format(args),\n",
    "          'd:      {}'.format(d),\n",
    "          'kwargs: {}'.format(kwargs),\n",
    "          sep='\\n')"
   ]
  },
  {
   "cell_type": "code",
   "execution_count": 4,
   "metadata": {},
   "outputs": [
    {
     "name": "stdout",
     "output_type": "stream",
     "text": [
      "a:      a\n",
      "b:      b\n",
      "c:      88\n",
      "args:   (-1, -2, -3)\n",
      "d:      d\n",
      "kwargs: {'name': 'Tom', 'age': '18'}\n"
     ]
    }
   ],
   "source": [
    "my_func('a', 'b', 88, *[-1, -2, -3], d ='d', **{'name':'Tom','age':'18'})"
   ]
  },
  {
   "cell_type": "markdown",
   "metadata": {},
   "source": [
    "`my_func(a, b, c = 0, *args, d, **kwargs)`中：\n",
    "\n",
    "- `a`，`b`是位置参数，位置参数一定是在最前面；\n",
    "\n",
    "- `c=0`是默认值参数，它有默认值，在调用时不是必须传参数值的；\n",
    "\n",
    "- `*args`是可变参数，可以通过解包元组（或列表）来按照位置传参；\n",
    "\n",
    "- `d`是命名参数，传参数时，必须带上参数名，你看上面的参数调用语句中`d = 'd'`；\n",
    "\n",
    "- `**kwargs`是可变命名参数，可以通过解包字典来按照关键字传参。"
   ]
  },
  {
   "cell_type": "markdown",
   "metadata": {},
   "source": [
    "自己运行下面的函数`my_func_1`至函数`my_func_5`的定义，根据运行结果加深对上述**参数定义顺序**的理解："
   ]
  },
  {
   "cell_type": "code",
   "execution_count": 28,
   "metadata": {},
   "outputs": [],
   "source": [
    "# def my_func_1(a, b, c = 0, d, *args,**kwargs):\n",
    "#     print('a:      {}'.format(a),\n",
    "#           'b:      {}'.format(b),\n",
    "#           'c:      {}'.format(c),\n",
    "#           'args:   {}'.format(args),\n",
    "#           'd:      {}'.format(d),\n",
    "#           'kwargs: {}'.format(kwargs),\n",
    "#           sep='\\n')"
   ]
  },
  {
   "cell_type": "code",
   "execution_count": 8,
   "metadata": {},
   "outputs": [
    {
     "ename": "SyntaxError",
     "evalue": "invalid syntax (155951753.py, line 1)",
     "output_type": "error",
     "traceback": [
      "\u001b[0;36m  File \u001b[0;32m\"/tmp/ipykernel_10532/155951753.py\"\u001b[0;36m, line \u001b[0;32m1\u001b[0m\n\u001b[0;31m    def my_func_2(a, b, c = 0, *args, **kwargs, d):\u001b[0m\n\u001b[0m                                                ^\u001b[0m\n\u001b[0;31mSyntaxError\u001b[0m\u001b[0;31m:\u001b[0m invalid syntax\n"
     ]
    }
   ],
   "source": [
    "# def my_func_2(a, b, c = 0, *args, **kwargs, d):\n",
    "#     print('a:      {}'.format(a),\n",
    "#           'b:      {}'.format(b),\n",
    "#           'c:      {}'.format(c),\n",
    "#           'args:   {}'.format(args),\n",
    "#           'd:      {}'.format(d),\n",
    "#           'kwargs: {}'.format(kwargs),\n",
    "#           sep='\\n')"
   ]
  },
  {
   "cell_type": "code",
   "execution_count": 30,
   "metadata": {},
   "outputs": [],
   "source": [
    "# def my_func_3(**kwargs, a, b, c = 0, *args, d):\n",
    "#     print('a:      {}'.format(a),\n",
    "#           'b:      {}'.format(b),\n",
    "#           'c:      {}'.format(c),\n",
    "#           'args:   {}'.format(args),\n",
    "#           'd:      {}'.format(d),\n",
    "#           'kwargs: {}'.format(kwargs),\n",
    "#           sep='\\n')"
   ]
  },
  {
   "cell_type": "code",
   "execution_count": 31,
   "metadata": {},
   "outputs": [],
   "source": [
    "# def my_func_4(a, b, c = 0, d, **kwargs, *args):\n",
    "#     print('a:      {}'.format(a),\n",
    "#           'b:      {}'.format(b),\n",
    "#           'c:      {}'.format(c),\n",
    "#           'args:   {}'.format(args),\n",
    "#           'd:      {}'.format(d),\n",
    "#           'kwargs: {}'.format(kwargs),\n",
    "#           sep='\\n')"
   ]
  },
  {
   "cell_type": "code",
   "execution_count": null,
   "metadata": {},
   "outputs": [],
   "source": [
    "# def my_func_5(d, a, b, c = 0, *args, **kwargs):\n",
    "#     print('a:      {}'.format(a),\n",
    "#           'b:      {}'.format(b),\n",
    "#           'c:      {}'.format(c),\n",
    "#           'args:   {}'.format(args),\n",
    "#           'd:      {}'.format(d),\n",
    "#           'kwargs: {}'.format(kwargs),\n",
    "#           sep='\\n')"
   ]
  },
  {
   "cell_type": "code",
   "execution_count": 33,
   "metadata": {},
   "outputs": [],
   "source": [
    "# def my_func_6(*args, a, b, c = 0, d, **kwargs):\n",
    "#     print('a:      {}'.format(a),\n",
    "#           'b:      {}'.format(b),\n",
    "#           'c:      {}'.format(c),\n",
    "#           'args:   {}'.format(args),\n",
    "#           'd:      {}'.format(d),\n",
    "#           'kwargs: {}'.format(kwargs),\n",
    "#           sep='\\n')"
   ]
  },
  {
   "cell_type": "markdown",
   "metadata": {},
   "source": [
    "## 7.3 map函数"
   ]
  },
  {
   "cell_type": "markdown",
   "metadata": {},
   "source": [
    "`map`函数**遍历** **序列** **每个值**进行操作，返回一个**`map`对象**。"
   ]
  },
  {
   "cell_type": "markdown",
   "metadata": {},
   "source": [
    "语法：`map(function, sequence, ....)`"
   ]
  },
  {
   "cell_type": "markdown",
   "metadata": {},
   "source": [
    "- `function`：函数\n",
    "- `sequence`：序列"
   ]
  },
  {
   "cell_type": "code",
   "execution_count": 34,
   "metadata": {},
   "outputs": [],
   "source": [
    "def my_square(x):\n",
    "    return x**2"
   ]
  },
  {
   "cell_type": "code",
   "execution_count": 35,
   "metadata": {},
   "outputs": [],
   "source": [
    "list_6 = [1, 2, 3]\n",
    "list_7 = [4, 5, 6, 7]\n",
    "list_8 = [8, 9, 10, 11, 12]"
   ]
  },
  {
   "cell_type": "code",
   "execution_count": 36,
   "metadata": {},
   "outputs": [],
   "source": [
    "result = map(my_square, list_6)"
   ]
  },
  {
   "cell_type": "code",
   "execution_count": 37,
   "metadata": {},
   "outputs": [
    {
     "data": {
      "text/plain": [
       "map"
      ]
     },
     "execution_count": 37,
     "metadata": {},
     "output_type": "execute_result"
    }
   ],
   "source": [
    "type(result)"
   ]
  },
  {
   "cell_type": "code",
   "execution_count": 38,
   "metadata": {},
   "outputs": [
    {
     "data": {
      "text/plain": [
       "1"
      ]
     },
     "execution_count": 38,
     "metadata": {},
     "output_type": "execute_result"
    }
   ],
   "source": [
    "next(result)"
   ]
  },
  {
   "cell_type": "code",
   "execution_count": 39,
   "metadata": {},
   "outputs": [
    {
     "data": {
      "text/plain": [
       "4"
      ]
     },
     "execution_count": 39,
     "metadata": {},
     "output_type": "execute_result"
    }
   ],
   "source": [
    "next(result)"
   ]
  },
  {
   "cell_type": "code",
   "execution_count": 40,
   "metadata": {},
   "outputs": [
    {
     "data": {
      "text/plain": [
       "9"
      ]
     },
     "execution_count": 40,
     "metadata": {},
     "output_type": "execute_result"
    }
   ],
   "source": [
    "next(result)"
   ]
  },
  {
   "cell_type": "markdown",
   "metadata": {},
   "source": [
    "上面对一个序列进行map操作，并使用`next`方法逐个访问返回的`map`对象。下面使用`for`循环访问map结果。"
   ]
  },
  {
   "cell_type": "code",
   "execution_count": 41,
   "metadata": {},
   "outputs": [],
   "source": [
    "result = map(my_square, list_6)"
   ]
  },
  {
   "cell_type": "code",
   "execution_count": 42,
   "metadata": {},
   "outputs": [
    {
     "name": "stdout",
     "output_type": "stream",
     "text": [
      "1\n",
      "4\n",
      "9\n"
     ]
    }
   ],
   "source": [
    "for item in result:\n",
    "    print(item)"
   ]
  },
  {
   "cell_type": "code",
   "execution_count": 43,
   "metadata": {},
   "outputs": [],
   "source": [
    "result = map(lambda x,y:x*y, list_6, list_7)"
   ]
  },
  {
   "cell_type": "code",
   "execution_count": 44,
   "metadata": {},
   "outputs": [
    {
     "data": {
      "text/plain": [
       "map"
      ]
     },
     "execution_count": 44,
     "metadata": {},
     "output_type": "execute_result"
    }
   ],
   "source": [
    "type(result)"
   ]
  },
  {
   "cell_type": "code",
   "execution_count": 45,
   "metadata": {},
   "outputs": [
    {
     "data": {
      "text/plain": [
       "[4, 10, 18]"
      ]
     },
     "execution_count": 45,
     "metadata": {},
     "output_type": "execute_result"
    }
   ],
   "source": [
    "list(result)"
   ]
  },
  {
   "cell_type": "markdown",
   "metadata": {},
   "source": [
    "`len(list_6) < len(list_7)`，所以最终结果的长度是`min(len(list_6), len(list_7))`"
   ]
  },
  {
   "cell_type": "code",
   "execution_count": 46,
   "metadata": {},
   "outputs": [
    {
     "data": {
      "text/plain": [
       "[4, 10, 18]"
      ]
     },
     "execution_count": 46,
     "metadata": {},
     "output_type": "execute_result"
    }
   ],
   "source": [
    "list(map(lambda x,y,z:x*y, list_6, list_7, list_8))"
   ]
  },
  {
   "cell_type": "markdown",
   "metadata": {},
   "source": [
    "<b><font color=blue>注意</font></b>：`function`的参数个数，与后面的序列个数要一致哦。"
   ]
  },
  {
   "cell_type": "markdown",
   "metadata": {},
   "source": [
    "## 7.4 filter函数"
   ]
  },
  {
   "cell_type": "markdown",
   "metadata": {},
   "source": [
    "`filter`函数，过滤出序列中的元素。"
   ]
  },
  {
   "cell_type": "markdown",
   "metadata": {},
   "source": [
    "- 语法：`filter(function, iterable)`；\n",
    "\n",
    "- `function`，判断函数；\n",
    "\n",
    "- `iterable`，可迭代对象；\n",
    "\n",
    "- 返回filter对象。"
   ]
  },
  {
   "cell_type": "code",
   "execution_count": 47,
   "metadata": {},
   "outputs": [],
   "source": [
    "str_1 = 'aHbDkLuY'"
   ]
  },
  {
   "cell_type": "code",
   "execution_count": 48,
   "metadata": {},
   "outputs": [],
   "source": [
    "import string"
   ]
  },
  {
   "cell_type": "code",
   "execution_count": 49,
   "metadata": {},
   "outputs": [],
   "source": [
    "# 过滤出字符串中的大写字母\n",
    "result = filter(lambda char:char in string.ascii_uppercase, str_1)"
   ]
  },
  {
   "cell_type": "code",
   "execution_count": 50,
   "metadata": {},
   "outputs": [
    {
     "data": {
      "text/plain": [
       "filter"
      ]
     },
     "execution_count": 50,
     "metadata": {},
     "output_type": "execute_result"
    }
   ],
   "source": [
    "type(result)"
   ]
  },
  {
   "cell_type": "code",
   "execution_count": 51,
   "metadata": {},
   "outputs": [
    {
     "data": {
      "text/plain": [
       "['H', 'D', 'L', 'Y']"
      ]
     },
     "execution_count": 51,
     "metadata": {},
     "output_type": "execute_result"
    }
   ],
   "source": [
    "list(result)"
   ]
  },
  {
   "cell_type": "markdown",
   "metadata": {},
   "source": [
    "使得`function`返回True（或等价于True）的元素被取出来，看下面例子："
   ]
  },
  {
   "cell_type": "code",
   "execution_count": 52,
   "metadata": {},
   "outputs": [
    {
     "data": {
      "text/plain": [
       "[]"
      ]
     },
     "execution_count": 52,
     "metadata": {},
     "output_type": "execute_result"
    }
   ],
   "source": [
    "list(filter(lambda char:None, str_1))"
   ]
  },
  {
   "cell_type": "code",
   "execution_count": 53,
   "metadata": {},
   "outputs": [
    {
     "data": {
      "text/plain": [
       "['a', 'H', 'b', 'D', 'k', 'L', 'u', 'Y']"
      ]
     },
     "execution_count": 53,
     "metadata": {},
     "output_type": "execute_result"
    }
   ],
   "source": [
    "list(filter(lambda char:char, str_1))"
   ]
  },
  {
   "cell_type": "code",
   "execution_count": 54,
   "metadata": {},
   "outputs": [
    {
     "data": {
      "text/plain": [
       "[]"
      ]
     },
     "execution_count": 54,
     "metadata": {},
     "output_type": "execute_result"
    }
   ],
   "source": [
    "list(filter(lambda char:'', str_1))"
   ]
  },
  {
   "cell_type": "code",
   "execution_count": 55,
   "metadata": {},
   "outputs": [
    {
     "data": {
      "text/plain": [
       "[]"
      ]
     },
     "execution_count": 55,
     "metadata": {},
     "output_type": "execute_result"
    }
   ],
   "source": [
    "list(filter(lambda char:[], str_1))"
   ]
  },
  {
   "cell_type": "code",
   "execution_count": 56,
   "metadata": {},
   "outputs": [
    {
     "data": {
      "text/plain": [
       "['a', 'H', 'b', 'D', 'k', 'L', 'u', 'Y']"
      ]
     },
     "execution_count": 56,
     "metadata": {},
     "output_type": "execute_result"
    }
   ],
   "source": [
    "list(filter(lambda char:char.lower(), str_1))"
   ]
  },
  {
   "cell_type": "markdown",
   "metadata": {},
   "source": [
    "`function`最好是显示地定义返回布尔值。"
   ]
  },
  {
   "cell_type": "markdown",
   "metadata": {},
   "source": [
    "## 7.5 reduce函数"
   ]
  },
  {
   "cell_type": "markdown",
   "metadata": {},
   "source": [
    "`reduce`函数会对参数序列中元素进行**累积**，返回一个值。"
   ]
  },
  {
   "cell_type": "markdown",
   "metadata": {},
   "source": [
    "函数将一个数据对象（列表，元组等）中的所有数据进行下列操作：用传给 reduce 中的函数 function（有两个参数）先对集合中的第 1、2 个元素进行操作，得到的结果再与第三个数据用 function 函数运算，最后得到一个结果。"
   ]
  },
  {
   "cell_type": "markdown",
   "metadata": {},
   "source": [
    "语法：`reduce(function, iterable[, initializer])`"
   ]
  },
  {
   "cell_type": "markdown",
   "metadata": {},
   "source": [
    "参数：\n",
    "\n",
    "- function，函数，**有两个参数**；\n",
    "\n",
    "- iterable，可迭代对象；\n",
    "\n",
    "- initializer，可选，初始参数。"
   ]
  },
  {
   "cell_type": "code",
   "execution_count": 57,
   "metadata": {},
   "outputs": [],
   "source": [
    "from functools import reduce"
   ]
  },
  {
   "cell_type": "code",
   "execution_count": 58,
   "metadata": {},
   "outputs": [
    {
     "data": {
      "text/plain": [
       "15"
      ]
     },
     "execution_count": 58,
     "metadata": {},
     "output_type": "execute_result"
    }
   ],
   "source": [
    "reduce(lambda x, y: x + y, [1,2,3,4,5])"
   ]
  },
  {
   "cell_type": "code",
   "execution_count": 59,
   "metadata": {},
   "outputs": [
    {
     "data": {
      "text/plain": [
       "115"
      ]
     },
     "execution_count": 59,
     "metadata": {},
     "output_type": "execute_result"
    }
   ],
   "source": [
    "reduce(lambda x, y: x + y, [1,2,3,4,5], 100)"
   ]
  },
  {
   "cell_type": "code",
   "execution_count": 60,
   "metadata": {},
   "outputs": [],
   "source": [
    "kua_list = ['眉清目秀', '高大威猛', '英俊潇洒', '风流倜傥', '人见人爱', '花见花开', '车见车栽', '才高八斗', '学富五车']"
   ]
  },
  {
   "cell_type": "code",
   "execution_count": 61,
   "metadata": {},
   "outputs": [
    {
     "data": {
      "text/plain": [
       "['眉清目秀', '高大威猛', '英俊潇洒', '风流倜傥', '人见人爱', '花见花开', '车见车栽', '才高八斗', '学富五车']"
      ]
     },
     "execution_count": 61,
     "metadata": {},
     "output_type": "execute_result"
    }
   ],
   "source": [
    "kua_list"
   ]
  },
  {
   "cell_type": "code",
   "execution_count": 62,
   "metadata": {},
   "outputs": [
    {
     "data": {
      "text/plain": [
       "'你真是、眉清目秀、高大威猛、英俊潇洒、风流倜傥、人见人爱、花见花开、车见车栽、才高八斗、学富五车'"
      ]
     },
     "execution_count": 62,
     "metadata": {},
     "output_type": "execute_result"
    }
   ],
   "source": [
    "reduce(lambda x, y: x + '、'+ y, kua_list, '你真是')"
   ]
  },
  {
   "cell_type": "markdown",
   "metadata": {},
   "source": [
    "## 7.6 模块的创建"
   ]
  },
  {
   "cell_type": "markdown",
   "metadata": {},
   "source": [
    "Python 模块(Module)，是一个 Python 文件，以 .py 结尾，包含了 Python 对象定义和Python语句；\n",
    "\n",
    "模块让你能够有逻辑地组织你的 Python 代码段；\n",
    "\n",
    "把相关的代码分配到一个模块里能让你的代码更好用，更易懂；\n",
    "\n",
    "模块能定义函数，类和变量，模块里也能包含可执行的代码；\n",
    "\n",
    "当把一些相关的代码存放在**一个文件中**时，就创建了**一个模块**。**模块中的定义可以被导入到其他模块中从而被其他模块所使用**，这就使得我们可以在多个程序中使用已经编写好的函数而无需将函数复制到每个程序中。"
   ]
  },
  {
   "cell_type": "markdown",
   "metadata": {},
   "source": [
    "总的来说，模块就是包含Python定义和声明的文件，文件名就是模块名加上扩展名`.py`。"
   ]
  },
  {
   "cell_type": "markdown",
   "metadata": {},
   "source": [
    "模块有一些内置属性，用于存储模块的某些信息，如`__name__`，`__doc__`，等等，`__name__`属性用来取得模块的名称。"
   ]
  },
  {
   "cell_type": "markdown",
   "metadata": {},
   "source": [
    "我们来看看python3自带（内置）的`string`模块。"
   ]
  },
  {
   "cell_type": "code",
   "execution_count": 63,
   "metadata": {},
   "outputs": [
    {
     "data": {
      "text/plain": [
       "'string'"
      ]
     },
     "execution_count": 63,
     "metadata": {},
     "output_type": "execute_result"
    }
   ],
   "source": [
    "string.__name__"
   ]
  },
  {
   "cell_type": "code",
   "execution_count": 64,
   "metadata": {},
   "outputs": [
    {
     "data": {
      "text/plain": [
       "'A collection of string constants.\\n\\nPublic module variables:\\n\\nwhitespace -- a string containing all ASCII whitespace\\nascii_lowercase -- a string containing all ASCII lowercase letters\\nascii_uppercase -- a string containing all ASCII uppercase letters\\nascii_letters -- a string containing all ASCII letters\\ndigits -- a string containing all ASCII decimal digits\\nhexdigits -- a string containing all ASCII hexadecimal digits\\noctdigits -- a string containing all ASCII octal digits\\npunctuation -- a string containing all ASCII punctuation characters\\nprintable -- a string containing all ASCII characters considered printable\\n\\n'"
      ]
     },
     "execution_count": 64,
     "metadata": {},
     "output_type": "execute_result"
    }
   ],
   "source": [
    "string.__doc__"
   ]
  },
  {
   "cell_type": "markdown",
   "metadata": {},
   "source": [
    "下面的图片以`Ubuntu`系统为例，`Windows`系统和`Mac OS`系统是类似的：\n",
    "\n",
    "Python自带的模块位于`python3.7`文件夹中，"
   ]
  },
  {
   "cell_type": "markdown",
   "metadata": {},
   "source": [
    "<div align=center>\n",
    "<img width=\"750\" height=\"550\" src=\"https://github.com/zhangjianzhang/programming_basics/blob/master/files/codes/lecture_7/python_module.jpg?raw=true\">\n",
    "\n",
    "<p><center><font>python内置模块</font></center></p>\n",
    "</div>"
   ]
  },
  {
   "cell_type": "markdown",
   "metadata": {},
   "source": [
    "上图显示了文件夹`/usr/local/anaconda3/lib/python3.7`中的部分内容。总体上分为两部分：\n",
    "\n",
    "- 文件夹表示包（package），如`http`包，`email`包；\n",
    "\n",
    "- `.py`文件表示模块，如`calendar`模块，`string`模块。"
   ]
  },
  {
   "cell_type": "markdown",
   "metadata": {},
   "source": [
    "<div align=center>\n",
    "<img width=\"750\" height=\"550\" src=\"https://github.com/zhangjianzhang/programming_basics/blob/master/files/codes/lecture_7/string.jpg?raw=true\">\n",
    "\n",
    "<p><center><font>string模块</font></center></p>\n",
    "</div>"
   ]
  },
  {
   "cell_type": "markdown",
   "metadata": {},
   "source": [
    "打开`string.py`看看里面的内容："
   ]
  },
  {
   "cell_type": "markdown",
   "metadata": {},
   "source": [
    "<div align=center>\n",
    "<img width=\"750\" height=\"550\" src=\"https://github.com/zhangjianzhang/programming_basics/blob/master/files/codes/lecture_7/string_file_1.jpg?raw=true\">\n",
    "\n",
    "<p><center><font>string.py的内容</font></center></p>\n",
    "</div>"
   ]
  },
  {
   "cell_type": "markdown",
   "metadata": {},
   "source": [
    "从上图可以看到：\n",
    "\n",
    "- `string.__doc__`返回的内容就是`string.py`文件头部的说明性内容，介绍了该模块包含的内容和功能；\n",
    "\n",
    "- `string.__name__`就是模块的文件名。"
   ]
  },
  {
   "cell_type": "markdown",
   "metadata": {},
   "source": [
    "再往下看一看："
   ]
  },
  {
   "cell_type": "markdown",
   "metadata": {},
   "source": [
    "<div align=center>\n",
    "<img width=\"750\" height=\"550\" src=\"https://github.com/zhangjianzhang/programming_basics/blob/master/files/codes/lecture_7/string_file_2.jpg?raw=true\">\n",
    "\n",
    "<p><center><font>string.py的内容</font></center></p>\n",
    "</div>"
   ]
  },
  {
   "cell_type": "markdown",
   "metadata": {},
   "source": [
    "从上图可以看到，`string`模块里定义了函数、类（class），也有对其他包（package）和模块的导入：\n",
    "\n",
    "- 定义了`capwords`函数；\n",
    "\n",
    "- 定义了`Template`类；\n",
    "\n",
    "- 导入了正则表达式模块`re`；\n",
    "\n",
    "- 导入了`collection`包中的`ChainMap`类。"
   ]
  },
  {
   "cell_type": "markdown",
   "metadata": {},
   "source": [
    "下面，我们自己定义一个模块，命名为`demo_module.py`，内容如下："
   ]
  },
  {
   "cell_type": "code",
   "execution_count": 65,
   "metadata": {},
   "outputs": [],
   "source": [
    "'''\n",
    "This is a demo module\n",
    "'''\n",
    "\n",
    "import string\n",
    "\n",
    "\n",
    "def my_print(content):\n",
    "    '''\n",
    "    print alphabets characters vertically.\n",
    "    '''\n",
    "    alphanum_list = list(filter(lambda char:char in string.ascii_letters, content))\n",
    "    print('\\n'.join(alphanum_list))"
   ]
  },
  {
   "cell_type": "markdown",
   "metadata": {},
   "source": [
    "把上述代码保存在`demo_module.py`文件中，在相同的文件夹中新建一个py文件`test_demo_module.py`，内容如下："
   ]
  },
  {
   "cell_type": "code",
   "execution_count": 66,
   "metadata": {},
   "outputs": [
    {
     "name": "stdout",
     "output_type": "stream",
     "text": [
      "G\n",
      "o\n",
      "o\n",
      "d\n"
     ]
    }
   ],
   "source": [
    "import demo_module\n",
    "\n",
    "demo_module.my_print('G哈哈o滴滴o棒棒哒d×*%123')"
   ]
  },
  {
   "cell_type": "markdown",
   "metadata": {},
   "source": [
    "<b><font color=Chocolate>拓展学习：</font></b>\n",
    "\n",
    "- <a href=\"https://www.liaoxuefeng.com/wiki/1016959663602400/1017455068170048\" target=\"_blank\">使用模块</a>"
   ]
  },
  {
   "cell_type": "markdown",
   "metadata": {},
   "source": [
    "## 7.7 模块的导入"
   ]
  },
  {
   "cell_type": "markdown",
   "metadata": {},
   "source": [
    "Python以模块为单位来组织代码（一个个`.py`文件）；\n",
    "\n",
    "Python标准库自身就内置了许多标准模块，还有非常丰富的第三方模块以供用户使用；\n",
    "\n",
    "用户也可以自己编写模块（如上面的`demo_module.py`）。"
   ]
  },
  {
   "cell_type": "markdown",
   "metadata": {},
   "source": [
    "要在模块外部使用模块内定义的函数，首先要导入该模块：\n",
    "\n",
    "使用import语句可以导入一个模块，格式为`import 模块名 [as 别名]`。 "
   ]
  },
  {
   "cell_type": "code",
   "execution_count": 67,
   "metadata": {},
   "outputs": [],
   "source": [
    "# 导入第三方画图包matplotlib中的pyplot模块，并为其赋予一个别名plt\n",
    "import matplotlib.pyplot as plt"
   ]
  },
  {
   "cell_type": "code",
   "execution_count": 68,
   "metadata": {},
   "outputs": [
    {
     "name": "stdout",
     "output_type": "stream",
     "text": [
      "G\n",
      "o\n",
      "o\n",
      "d\n"
     ]
    }
   ],
   "source": [
    "# 导入自定义的模块，并赋予一个别名dm\n",
    "import demo_module as dm\n",
    "\n",
    "dm.my_print('G哈哈o滴滴o棒棒哒d×*%123')"
   ]
  },
  {
   "cell_type": "markdown",
   "metadata": {},
   "source": [
    "如果频繁地使用一个函数而不想总是带着模块名进行调用，则可以将其赋给一个本地变量。"
   ]
  },
  {
   "cell_type": "code",
   "execution_count": 69,
   "metadata": {},
   "outputs": [
    {
     "name": "stdout",
     "output_type": "stream",
     "text": [
      "G\n",
      "o\n",
      "o\n",
      "d\n"
     ]
    }
   ],
   "source": [
    "pfunc = dm.my_print\n",
    "\n",
    "pfunc('G哈哈o滴滴o棒棒哒d×*%123')"
   ]
  },
  {
   "cell_type": "markdown",
   "metadata": {},
   "source": [
    "在import后添加as子句来作为模块的别名，模块全名太长，起一个短的别名，敲起来快捷高效。"
   ]
  },
  {
   "cell_type": "markdown",
   "metadata": {},
   "source": [
    "Python还支持另外一种语法，即`from 模块名 import 对象名 [as 别名]`，使用这种格式仅导入明确指定的对象，可以减少访问速度，同时不需要使用模块名进行调用。"
   ]
  },
  {
   "cell_type": "code",
   "execution_count": 70,
   "metadata": {},
   "outputs": [],
   "source": [
    "# 从string模块中导入变量ascii_letters，并赋予一个别名aletters\n",
    "from string import ascii_letters as aletters"
   ]
  },
  {
   "cell_type": "code",
   "execution_count": 71,
   "metadata": {},
   "outputs": [
    {
     "data": {
      "text/plain": [
       "'abcdefghijklmnopqrstuvwxyzABCDEFGHIJKLMNOPQRSTUVWXYZ'"
      ]
     },
     "execution_count": 71,
     "metadata": {},
     "output_type": "execute_result"
    }
   ],
   "source": [
    "# 直接使用导入的对象名（或别名），不需要加上模块名\n",
    "aletters"
   ]
  },
  {
   "cell_type": "markdown",
   "metadata": {},
   "source": [
    "如果想要使用这一语法导入模块下的全部对象，则可以使用星号`*`来替代对象名。"
   ]
  },
  {
   "cell_type": "code",
   "execution_count": 72,
   "metadata": {},
   "outputs": [],
   "source": [
    "# string模块中的digits变量没有被导入，所以下面代码运行会出错\n",
    "# digits"
   ]
  },
  {
   "cell_type": "code",
   "execution_count": 73,
   "metadata": {},
   "outputs": [],
   "source": [
    "# 把string模块中定义的对象全部导入\n",
    "from string import *"
   ]
  },
  {
   "cell_type": "code",
   "execution_count": 74,
   "metadata": {},
   "outputs": [
    {
     "data": {
      "text/plain": [
       "'0123456789'"
      ]
     },
     "execution_count": 74,
     "metadata": {},
     "output_type": "execute_result"
    }
   ],
   "source": [
    "# string模块中定义的对象已全部导入，下面代码就不会出错了\n",
    "digits"
   ]
  },
  {
   "cell_type": "markdown",
   "metadata": {},
   "source": [
    "## 7.8 包与包内引用"
   ]
  },
  {
   "cell_type": "markdown",
   "metadata": {},
   "source": [
    "- 包（package）是一种用“点式模块名”构造 Python 模块命名空间的方法。例如，模块名 `A.B` 表示包 A 中名为 B 的子模块；\n",
    "\n",
    "- 可以将这些模块按照某种方式组织在一个目录下，构成一个包结构；\n",
    "\n",
    "- 用户可以从包中导入单独的模块或模块中的对象。"
   ]
  },
  {
   "cell_type": "markdown",
   "metadata": {},
   "source": [
    "<div align=center>\n",
    "<img width=\"350\" height=\"650\" src=\"https://github.com/zhangjianzhang/programming_basics/blob/master/files/codes/lecture_7/package.png?raw=true\">\n",
    "\n",
    "<p><center><font>包与模块的关系</font></center></p>\n",
    "</div>"
   ]
  },
  {
   "cell_type": "markdown",
   "metadata": {},
   "source": [
    "<div align=center>\n",
    "<img width=\"250\" height=\"550\" src=\"https://github.com/zhangjianzhang/programming_basics/blob/master/files/codes/lecture_7/package_struc.png?raw=true\">\n",
    "\n",
    "<p><center><font>一个简单的包结构</font></center></p>\n",
    "</div>"
   ]
  },
  {
   "cell_type": "markdown",
   "metadata": {},
   "source": [
    "Python3自带的包在`/usr/local/anaconda3/lib/python3.7`中（以Ubuntu系统中的Anaconda3为例，其他系统类似），第三方包在`/usr/local/anaconda3/lib/python3.7/site-packages`中"
   ]
  },
  {
   "cell_type": "markdown",
   "metadata": {},
   "source": [
    "下面以第三方包`jieba`为例说明包与模块的关系，`jieba`是一个流行的、开源的（popular and open source）中文分析包，源代码见：https://github.com/fxsjy/jieba"
   ]
  },
  {
   "cell_type": "markdown",
   "metadata": {},
   "source": [
    "jieba包的包结构如下：\n",
    "\n",
    "<div align=center>\n",
    "<img width=\"250\" height=\"650\" src=\"https://raw.githubusercontent.com/zhangjianzhang/programming_basics/master/files/codes/lecture_7/jieba.jpg\">\n",
    "\n",
    "<p><center><font>jieba包结构</font></center></p>\n",
    "</div>"
   ]
  },
  {
   "cell_type": "markdown",
   "metadata": {},
   "source": [
    "包是一个**分层次**的文件目录结构，它定义了一个由**模块**及**子包**，和**子包下的子包**等组成的Python的应用环境。\n",
    "\n",
    "简单来说，包就是**文件夹**，但该文件夹下必须存在 `__init__.py` 文件，该文件的内容可以为空。`__init__.py`，用于标识当前文件夹是一个包。"
   ]
  },
  {
   "cell_type": "markdown",
   "metadata": {},
   "source": [
    "如上图，包下面可以包括子包（文件夹，如`analyse`）和模块（`.py`文件，如`_compat.py`），子包下面可以包含子包（文件夹）和模块（`.py`文件）。"
   ]
  },
  {
   "cell_type": "code",
   "execution_count": 75,
   "metadata": {},
   "outputs": [],
   "source": [
    "# 下面代码要想运行，必须先安装jieba包"
   ]
  },
  {
   "cell_type": "code",
   "execution_count": 76,
   "metadata": {},
   "outputs": [
    {
     "name": "stderr",
     "output_type": "stream",
     "text": [
      "Building prefix dict from the default dictionary ...\n",
      "Loading model from cache /tmp/jieba.cache\n",
      "Loading model cost 0.624 seconds.\n",
      "Prefix dict has been built successfully.\n"
     ]
    },
    {
     "name": "stdout",
     "output_type": "stream",
     "text": [
      "我 r\n",
      "爱 v\n",
      "北京 ns\n",
      "天安门 ns\n"
     ]
    }
   ],
   "source": [
    "# 从jieba包中导入子包posseg，并赋予别名pseg\n",
    "import jieba.posseg as pseg\n",
    "# 调用posseg子包中的cut函数\n",
    "words = pseg.cut(\"我爱北京天安门\") \n",
    "for word, flag in words:\n",
    "\tprint('%s %s' % (word, flag))"
   ]
  },
  {
   "cell_type": "code",
   "execution_count": 77,
   "metadata": {},
   "outputs": [
    {
     "data": {
      "text/plain": [
       "'阿里巴巴'"
      ]
     },
     "execution_count": 77,
     "metadata": {},
     "output_type": "execute_result"
    }
   ],
   "source": [
    "# 从jieba包中导入_compat模块，并赋予别名ct\n",
    "from jieba import _compat as ct\n",
    "# 调用ct模块中定义的strdecode函数\n",
    "ct.strdecode('阿里巴巴')"
   ]
  },
  {
   "cell_type": "code",
   "execution_count": 78,
   "metadata": {},
   "outputs": [],
   "source": [
    "# 从jieba包的_compat模块中到如resolve_filename函数\n",
    "from jieba._compat import resolve_filename"
   ]
  },
  {
   "cell_type": "code",
   "execution_count": 79,
   "metadata": {},
   "outputs": [
    {
     "data": {
      "text/plain": [
       "\"<module 'jieba._compat' from '/usr/local/anaconda3/lib/python3.7/site-packages/jieba/_compat.py'>\""
      ]
     },
     "execution_count": 79,
     "metadata": {},
     "output_type": "execute_result"
    }
   ],
   "source": [
    "resolve_filename(ct)"
   ]
  },
  {
   "cell_type": "code",
   "execution_count": 80,
   "metadata": {},
   "outputs": [
    {
     "data": {
      "text/plain": [
       "\"<module 'jieba.posseg' from '/usr/local/anaconda3/lib/python3.7/site-packages/jieba/posseg/__init__.py'>\""
      ]
     },
     "execution_count": 80,
     "metadata": {},
     "output_type": "execute_result"
    }
   ],
   "source": [
    "resolve_filename(pseg)"
   ]
  },
  {
   "cell_type": "markdown",
   "metadata": {},
   "source": [
    "### 包内引用"
   ]
  },
  {
   "cell_type": "markdown",
   "metadata": {},
   "source": [
    "下面以下图中的“简单包结构”为例说明包内**模块之间的互相引用**。"
   ]
  },
  {
   "cell_type": "markdown",
   "metadata": {},
   "source": [
    "<div align=center>\n",
    "<img width=\"250\" height=\"550\" src=\"https://github.com/zhangjianzhang/programming_basics/blob/master/files/codes/lecture_7/package_struc.png?raw=true\">\n",
    "\n",
    "<p><center><font>一个简单的包结构</font></center></p>\n",
    "</div>"
   ]
  },
  {
   "cell_type": "markdown",
   "metadata": {},
   "source": [
    "#### 子模块之间同样需要互相引用"
   ]
  },
  {
   "cell_type": "markdown",
   "metadata": {},
   "source": [
    "子包中含有多个模块时（与上图中的effects子包一样），可以使用**绝对导入**和**相对导入**引用当前包中的模块。\n",
    "\n",
    "例如，要在模块`video.effects.adjustContrast`中使用当前包的`sharpening`模块时：\n",
    "\n",
    "\n",
    "- 绝对导入，`from video.effects import sharpening`\n",
    "\n",
    "- 相对导入，`import sharpening`\n",
    "\n",
    "- 相对导入，`from . import sharpening`"
   ]
  },
  {
   "cell_type": "markdown",
   "metadata": {},
   "source": [
    "#### 不在当前子包内的模块互相引用"
   ]
  },
  {
   "cell_type": "markdown",
   "metadata": {},
   "source": [
    "包中含有多个子包时（与上图中的`video`包一样），可以使用**绝对导入**和**相对导入**引用兄弟包中的子模块。\n",
    "\n",
    "例如，要在模块 `video.effects.adjustContrast`中使用`video.formats`包的`mkv`模块时：\n",
    "\n",
    "- 绝对导入，可以用`from video.formats import mkv`导入；\n",
    "\n",
    "- 相对导入，还可以用`import`语句的`from module import name`形式执行相对导入，这些导入语句使用前导句点表示相对导入中的当前包（`.`）和父包(`..`)，`from ..formats import mkv`。"
   ]
  },
  {
   "cell_type": "markdown",
   "metadata": {},
   "source": [
    "## 7.9 第三方包的安装"
   ]
  },
  {
   "cell_type": "markdown",
   "metadata": {},
   "source": [
    "pip：方便的包管理工具"
   ]
  },
  {
   "cell_type": "markdown",
   "metadata": {},
   "source": [
    "安装pip：\n",
    "\n",
    "- 下载`get-pip.py`，地址为：https://bootstrap.pypa.io/get-pip.py\n",
    "- 安装pip，打开命令行，进入到包含`get-pip.py`的文件夹，执行`py get-pip.py`"
   ]
  },
  {
   "cell_type": "markdown",
   "metadata": {},
   "source": [
    "Python 3.4+ 以上版本都自带pip工具，无需自己安装；\n",
    "\n",
    "Anaconda也自带了pip工具，无需自己安装。"
   ]
  },
  {
   "cell_type": "markdown",
   "metadata": {},
   "source": [
    "pip的几种常用方法：\n",
    "\n",
    "- pip install <PackageName>\t\t安装包\n",
    "    \n",
    "- pip show <PackageName>\t\t查看已安装的包信息\n",
    "    \n",
    "- pip list \t\t\t\t列出已安装的所有包\n",
    "\n",
    "- pip list --outdated\t\t\t列出需要更新的包\n",
    "\n",
    "- pip install --upgrade <PackageName> \t升级包\n",
    "    \n",
    "- pip uninstall <Package>\t\t卸载包"
   ]
  },
  {
   "cell_type": "markdown",
   "metadata": {},
   "source": [
    "pip工具是在命令行中使用，如Windows系统的CMD中，Linux和Mac OS的terminal中，下图显示了在Ubuntu 16.04系统中，成功安装中文分析工具包`jieba`。"
   ]
  },
  {
   "cell_type": "markdown",
   "metadata": {},
   "source": [
    "<div align=center>\n",
    "<img width=\"650\" height=\"350\" src=\"https://github.com/zhangjianzhang/programming_basics/blob/master/files/codes/lecture_7/pip_jieba.jpg?raw=true\">\n",
    "\n",
    "<p><center><font>使用pip命令安装中文分析工具包jieba</font></center></p>\n",
    "</div>"
   ]
  },
  {
   "cell_type": "markdown",
   "metadata": {},
   "source": [
    "部分同学的Windows用户名是中文名，导致jupyter-notebook无法正常运行，报错信息为`Bad file descriptor....`，最快捷的解决办法就是用pip命令降级一个名为`pyzmq`的软件包，如下两行命令即可："
   ]
  },
  {
   "cell_type": "markdown",
   "metadata": {},
   "source": [
    "卸载pyzmq高版本\n",
    "\n",
    "`pip uninstall pyzmq`\n",
    "\n",
    "安装低版本19.0.2版\n",
    "\n",
    "`pip install pyzmq==19.0.2 --user`"
   ]
  },
  {
   "cell_type": "markdown",
   "metadata": {},
   "source": [
    "<b><font color=Chocolate>拓展学习：</font></b>\n",
    "\n",
    "- <a href=\"https://www.runoob.com/w3cnote/pip-cn-mirror.html\" target=\"_blank\">pip 使用国内镜像源加快安装速度</a>"
   ]
  },
  {
   "cell_type": "markdown",
   "metadata": {},
   "source": [
    "<b><font color=red>思考题：</font></b>\n",
    "\n",
    "使用`pip`命令在自己的机器上安装中文分析工具包`jieba`。"
   ]
  },
  {
   "cell_type": "code",
   "execution_count": 81,
   "metadata": {},
   "outputs": [
    {
     "name": "stdout",
     "output_type": "stream",
     "text": [
      "END\n"
     ]
    }
   ],
   "source": [
    "print('END')"
   ]
  }
 ],
 "metadata": {
  "kernelspec": {
   "display_name": "Python 3 (ipykernel)",
   "language": "python",
   "name": "python3"
  },
  "language_info": {
   "codemirror_mode": {
    "name": "ipython",
    "version": 3
   },
   "file_extension": ".py",
   "mimetype": "text/x-python",
   "name": "python",
   "nbconvert_exporter": "python",
   "pygments_lexer": "ipython3",
   "version": "3.9.7"
  }
 },
 "nbformat": 4,
 "nbformat_minor": 4
}
