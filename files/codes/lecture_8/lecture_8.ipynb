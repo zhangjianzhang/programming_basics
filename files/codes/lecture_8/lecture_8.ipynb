{
 "cells": [
  {
   "cell_type": "markdown",
   "metadata": {},
   "source": [
    "# 8 异常处理"
   ]
  },
  {
   "cell_type": "markdown",
   "metadata": {},
   "source": [
    "## 8.1 异常的概念"
   ]
  },
  {
   "cell_type": "markdown",
   "metadata": {},
   "source": [
    "**异常**：在程序运行时产生的例外、违例情况被称为异常，如果不能在异常发生时及时妥善地处理它们，程序将崩溃，无法继续运行下去。 "
   ]
  },
  {
   "cell_type": "markdown",
   "metadata": {},
   "source": [
    "在Python中，异常是以对象的形式实现的。\n",
    "\n",
    "`BaseException`类是所有异常类的基类，而其子类Exception类则是除了`SystemExit`、`GeneratorExit`和`KeybaordInterrupt`三个**系统级异常**之外所有**内置异常类**和**用户自定义异常类**的**基类**。 "
   ]
  },
  {
   "cell_type": "markdown",
   "metadata": {},
   "source": [
    "## 8.2 异常的抛出"
   ]
  },
  {
   "cell_type": "markdown",
   "metadata": {},
   "source": [
    "程序在运行过程中出现错误而无法正常运行时，会陷入异常；\n",
    "\n",
    "Python为用户提供了`raise`关键字以人为地抛出指定类型的异常。"
   ]
  },
  {
   "cell_type": "markdown",
   "metadata": {},
   "source": [
    "使用`raise`语句手动抛出异常在**程序调试**、**自定义异常**等场景下有诸多应用；\n",
    "\n",
    "Python不会自动引发自定义异常，这要求程序开发者为自定义的异常**编写合理的异常抛出代码**。"
   ]
  },
  {
   "cell_type": "code",
   "execution_count": null,
   "metadata": {},
   "outputs": [],
   "source": []
  }
 ],
 "metadata": {
  "kernelspec": {
   "display_name": "Python 3",
   "language": "python",
   "name": "python3"
  },
  "language_info": {
   "codemirror_mode": {
    "name": "ipython",
    "version": 3
   },
   "file_extension": ".py",
   "mimetype": "text/x-python",
   "name": "python",
   "nbconvert_exporter": "python",
   "pygments_lexer": "ipython3",
   "version": "3.7.1"
  }
 },
 "nbformat": 4,
 "nbformat_minor": 2
}
