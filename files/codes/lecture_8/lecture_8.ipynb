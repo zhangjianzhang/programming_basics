{
 "cells": [
  {
   "cell_type": "markdown",
   "metadata": {},
   "source": [
    "# 8 异常处理"
   ]
  },
  {
   "cell_type": "markdown",
   "metadata": {},
   "source": [
    "## 8.1 异常的概念"
   ]
  },
  {
   "cell_type": "markdown",
   "metadata": {},
   "source": [
    "**异常**：在程序运行时产生的例外、违例情况被称为异常，如果不能在异常发生时及时妥善地处理它们，程序将崩溃，无法继续运行下去。 "
   ]
  },
  {
   "cell_type": "markdown",
   "metadata": {},
   "source": [
    "在Python中，异常是以对象的形式实现的。\n",
    "\n",
    "`BaseException`类是所有异常类的基类，而其子类Exception类则是除了`SystemExit`、`GeneratorExit`和`KeybaordInterrupt`三个**系统级异常**之外所有**内置异常类**和**用户自定义异常类**的**基类**。 "
   ]
  },
  {
   "cell_type": "markdown",
   "metadata": {},
   "source": [
    "## 8.2 异常的抛出"
   ]
  },
  {
   "cell_type": "markdown",
   "metadata": {},
   "source": [
    "程序在运行过程中出现错误而无法正常运行时，会陷入异常；\n",
    "\n",
    "Python为用户提供了`raise`关键字以人为地抛出指定类型的异常。"
   ]
  },
  {
   "cell_type": "markdown",
   "metadata": {},
   "source": [
    "使用`raise`语句手动抛出异常在**程序调试**、**自定义异常**等场景下有诸多应用；\n",
    "\n",
    "Python不会自动引发自定义异常，这要求程序开发者为自定义的异常**编写合理的异常抛出代码**。"
   ]
  },
  {
   "cell_type": "markdown",
   "metadata": {},
   "source": [
    "常见异常列表如下："
   ]
  },
  {
   "cell_type": "markdown",
   "metadata": {},
   "source": [
    "<div align=center>\n",
    "<img width=\"750\" height=\"550\" src=\"https://github.com/zhangjianzhang/programming_basics/blob/master/files/codes/lecture_8/exception.jpg?raw=true\">\n",
    "</div>"
   ]
  },
  {
   "cell_type": "markdown",
   "metadata": {},
   "source": [
    "## 8.3 异常的捕获\n"
   ]
  },
  {
   "cell_type": "markdown",
   "metadata": {},
   "source": [
    "当异常发生时，就需要捕获并处理相应的异常。`try...except`语句是捕获处理异常的常用语句之一，其语法如下："
   ]
  },
  {
   "cell_type": "markdown",
   "metadata": {},
   "source": [
    "```\n",
    "try:\n",
    "\t<语句>\n",
    "except <异常类型>:\n",
    "\t<语句>\n",
    "```"
   ]
  },
  {
   "cell_type": "markdown",
   "metadata": {},
   "source": [
    "其中，`except`子句可以有多个，当try后的语句执行时发生异常，Python就**跳过**try代码段**余下的部分**，执行第一个匹配该异常的except子句，异常处理完毕，控制流就通过整个`try...except`语句（除非在处理异常时又引发新的异常）。 "
   ]
  },
  {
   "cell_type": "markdown",
   "metadata": {},
   "source": [
    "`except`后面可以放置**多个异常类型**（以逗号分割）以表明若多个异常中至少发生一个，则执行该部分异常处理代码，若**不放置任何异常类型**，则代表可匹配**所有**的异常类型。 "
   ]
  },
  {
   "cell_type": "markdown",
   "metadata": {},
   "source": [
    "## 8.4 异常的处理"
   ]
  },
  {
   "cell_type": "markdown",
   "metadata": {},
   "source": [
    "Python还提供了`else`和`finally`两个子句，以用于`try…except`异常处理语句。其语法如下："
   ]
  },
  {
   "cell_type": "markdown",
   "metadata": {},
   "source": [
    "```\n",
    "try:\n",
    "    可能抛出异常的代码段\n",
    "except (Exception1, Exception2, ...) as e:\n",
    "    若发生以上多个异常中的一个，则执行这块代码\n",
    " e可以获取解释器传递而来的错误信息\n",
    " except可以写多个\n",
    "else:\n",
    "    若没有异常，则执行这块代码\n",
    "finally:\n",
    "    无论异常是否发生均执行该块代码\n",
    "```"
   ]
  },
  {
   "cell_type": "markdown",
   "metadata": {},
   "source": [
    "## 8.5 自定义异常"
   ]
  },
  {
   "cell_type": "markdown",
   "metadata": {},
   "source": [
    "Python如同很多高级程序设计语言一样**允许用户自定义异常**类型，用于描述Python异常体系中没有涉及的异常情况。\n",
    "\n",
    "通过前面的学习，可知除3个系统级异常外，其他异常类型均是Exception子类；而定义一个自定义异常也十分简单，只需要定义一个继承了Exception类的派生类即可。\n",
    "\n",
    "Python不会自动为用户抛出或处理任何自定义异常，因而用户需要使用`raise`语句在合理的场合手工触发异常。 "
   ]
  },
  {
   "cell_type": "markdown",
   "metadata": {},
   "source": [
    "在使用自定义异常类型时，经常需要在捕获异常的同时获取该异常的实例（例如，上例中的e），以获取存储在异常实例中的数据，这只需要在异常类型后放置一个实例名即可。"
   ]
  },
  {
   "cell_type": "markdown",
   "metadata": {},
   "source": [
    "## 8.6 使用断言"
   ]
  },
  {
   "cell_type": "markdown",
   "metadata": {},
   "source": [
    "在程序调试过程中，用户经常希望知道某个条件在运行时是否为真（例如，储蓄账户余额始终为正），并在条件不成立时提示编码者错误出现的位置。Python中提供了断言`assert`语句，以检测某个表达式是否为真，当表达式不成立时，会引发`AssertionError`异常。"
   ]
  },
  {
   "cell_type": "markdown",
   "metadata": {},
   "source": [
    "同时，还可以通过`assert`语句传递提示信息给`AsserttionError`异常，以提示编码者错误发生的部位和可能的原因。 "
   ]
  },
  {
   "cell_type": "markdown",
   "metadata": {},
   "source": [
    "### 下面我们通过一些代码示例来加深对上述理论内容的理解"
   ]
  },
  {
   "cell_type": "markdown",
   "metadata": {},
   "source": [
    "作为 Python 初学者，在刚学习 Python 编程时，经常会看到一些报错信息，可以分为两类：\n",
    "\n",
    "- 语法错误（本质上也是一种异常）；\n",
    "\n",
    "- 异常。"
   ]
  },
  {
   "cell_type": "code",
   "execution_count": 1,
   "metadata": {},
   "outputs": [],
   "source": [
    "# 先来看看新手常犯的语法错误\n",
    "\n",
    "# 把下面代码解除注释运行时会报错\n",
    "# 语法分析器会指出 出错的一行，并且在最先找到的错误的位置标记了一个小小的箭头。\n",
    "# i = 0\n",
    "# while i<10 print('Hello world'); i+=1"
   ]
  },
  {
   "cell_type": "markdown",
   "metadata": {},
   "source": [
    "上面代码为什么出错，因为没做到冒号、缩进、对齐中的**冒号**，再次强调一下，在写**条件判断**，**循环语句**，**定义函数**等时候，一定记住**冒号，缩进，对齐**。\n",
    "\n",
    "学到这一讲了，如果遇到`SyntaxError: invalid syntax`，请自己解决，语法错误应该随着你使用python的熟练程度的增加而迅速消失。"
   ]
  },
  {
   "cell_type": "markdown",
   "metadata": {},
   "source": [
    "再来看几个常见的异常："
   ]
  },
  {
   "cell_type": "code",
   "execution_count": 2,
   "metadata": {},
   "outputs": [],
   "source": [
    "# ZeroDivisionError: division by zero\n",
    "# 10 * (1/0)"
   ]
  },
  {
   "cell_type": "code",
   "execution_count": 3,
   "metadata": {},
   "outputs": [],
   "source": [
    "# NameError: name 'spam' is not defined\n",
    "# 4 + spam*3"
   ]
  },
  {
   "cell_type": "code",
   "execution_count": 4,
   "metadata": {},
   "outputs": [],
   "source": [
    "# TypeError: can only concatenate str (not \"int\") to str\n",
    "# '2' + 2"
   ]
  },
  {
   "cell_type": "code",
   "execution_count": 5,
   "metadata": {},
   "outputs": [],
   "source": [
    "# ModuleNotFoundError: No module named 'kkkkk'\n",
    "# import kkkkk"
   ]
  },
  {
   "cell_type": "code",
   "execution_count": 6,
   "metadata": {},
   "outputs": [],
   "source": [
    "# KeyError: 'abc'\n",
    "# d = {}\n",
    "# d['abc']"
   ]
  },
  {
   "cell_type": "code",
   "execution_count": 7,
   "metadata": {},
   "outputs": [],
   "source": [
    "# IndexError: list index out of range\n",
    "# l = [1, 2, 3]\n",
    "# l[100]"
   ]
  },
  {
   "cell_type": "code",
   "execution_count": 8,
   "metadata": {},
   "outputs": [],
   "source": [
    "# AttributeError: 'str' object has no attribute 'llower'\n",
    "# s = 'kkk'\n",
    "# s.llower()"
   ]
  },
  {
   "cell_type": "markdown",
   "metadata": {},
   "source": [
    "使用`try...except`字句处理异常"
   ]
  },
  {
   "cell_type": "code",
   "execution_count": 9,
   "metadata": {},
   "outputs": [
    {
     "name": "stdout",
     "output_type": "stream",
     "text": [
      "请输入一个数字: 9\n"
     ]
    }
   ],
   "source": [
    "while True:\n",
    "    try:\n",
    "        x = int(input(\"请输入一个数字: \"))\n",
    "        99/x\n",
    "        break\n",
    "    except ValueError:\n",
    "        print(\"您输入的不是整数，请再次尝试输入！\")\n",
    "    except ZeroDivisionError:\n",
    "        print(\"0不能做除数，请输入非0整数！\")"
   ]
  },
  {
   "cell_type": "markdown",
   "metadata": {},
   "source": [
    "上面代码处理两种异常`ValueError`和`ZeroDivisionError`。"
   ]
  },
  {
   "cell_type": "markdown",
   "metadata": {},
   "source": [
    "下面，我们打印异常实例信息。"
   ]
  },
  {
   "cell_type": "code",
   "execution_count": 10,
   "metadata": {},
   "outputs": [
    {
     "name": "stdout",
     "output_type": "stream",
     "text": [
      "请输入一个数字: 9\n"
     ]
    }
   ],
   "source": [
    "while True:\n",
    "    try:\n",
    "        x = int(input(\"请输入一个数字: \"))\n",
    "        break\n",
    "    except ValueError as e:\n",
    "        print(\"您输入的不是整数，请再次尝试输入！\")\n",
    "        print(\"具体错误信息如下：{}\\n\".format(e))"
   ]
  },
  {
   "cell_type": "markdown",
   "metadata": {},
   "source": [
    "下面，我们使用`traceback`模块打印异常信息。"
   ]
  },
  {
   "cell_type": "code",
   "execution_count": 11,
   "metadata": {},
   "outputs": [
    {
     "name": "stdout",
     "output_type": "stream",
     "text": [
      "请输入一个数字: 9\n"
     ]
    }
   ],
   "source": [
    "import traceback\n",
    "while True:\n",
    "    try:\n",
    "        x = int(input(\"请输入一个数字: \"))\n",
    "        99/x\n",
    "        break\n",
    "    except ValueError:\n",
    "        err = traceback.format_exc()\n",
    "        print(\"您输入的不是整数，请再次尝试输入！\")\n",
    "        print(\"具体错误信息如下：{}\\n\".format(err))\n",
    "    except ZeroDivisionError:\n",
    "        err = traceback.format_exc()\n",
    "        print(\"0不能做除数，请输入非0整数！\")\n",
    "        print(\"具体错误信息如下：{}\\n\".format(err))"
   ]
  },
  {
   "cell_type": "code",
   "execution_count": 14,
   "metadata": {},
   "outputs": [
    {
     "name": "stdout",
     "output_type": "stream",
     "text": [
      "请输入一个数字: k\n",
      "错误信息为：invalid literal for int() with base 10: 'k'\n",
      "请输入一个数字: 9\n"
     ]
    }
   ],
   "source": [
    "while True:\n",
    "    try:\n",
    "        x = int(input(\"请输入一个数字: \"))\n",
    "        99/x\n",
    "        break\n",
    "    except (ValueError, ZeroDivisionError) as e:\n",
    "        print(\"错误信息为：{}\".format(e))"
   ]
  },
  {
   "cell_type": "markdown",
   "metadata": {},
   "source": [
    "上面代码使用一个`except`字句处理多个异常。"
   ]
  },
  {
   "cell_type": "code",
   "execution_count": 18,
   "metadata": {},
   "outputs": [
    {
     "name": "stdout",
     "output_type": "stream",
     "text": [
      "请输入一个数字: k\n",
      "您输入的不是整数，请再次尝试输入！\n",
      "具体错误信息如下：invalid literal for int() with base 10: 'k'\n",
      "\n",
      "你的输入为：k\n",
      "请输入一个数字: 0\n",
      "你的输入为：0\n"
     ]
    }
   ],
   "source": [
    "while True:\n",
    "    try:\n",
    "        x_input = input(\"请输入一个数字: \")\n",
    "        x_int = int(x_input)\n",
    "        break\n",
    "    except ValueError as e:\n",
    "        print(\"您输入的不是整数，请再次尝试输入！\")\n",
    "        print(\"具体错误信息如下：{}\\n\".format(e))\n",
    "    else:\n",
    "        print(\"恭喜你，输入正确！\")\n",
    "    finally:\n",
    "        print(\"你的输入为：{}\".format(x_input))"
   ]
  },
  {
   "cell_type": "code",
   "execution_count": null,
   "metadata": {},
   "outputs": [],
   "source": []
  }
 ],
 "metadata": {
  "kernelspec": {
   "display_name": "Python 3",
   "language": "python",
   "name": "python3"
  },
  "language_info": {
   "codemirror_mode": {
    "name": "ipython",
    "version": 3
   },
   "file_extension": ".py",
   "mimetype": "text/x-python",
   "name": "python",
   "nbconvert_exporter": "python",
   "pygments_lexer": "ipython3",
   "version": "3.7.1"
  }
 },
 "nbformat": 4,
 "nbformat_minor": 2
}
