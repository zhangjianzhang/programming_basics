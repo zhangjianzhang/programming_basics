{
 "cells": [
  {
   "cell_type": "code",
   "execution_count": 1,
   "metadata": {},
   "outputs": [],
   "source": [
    "# 计算BMI指数"
   ]
  },
  {
   "cell_type": "code",
   "execution_count": 2,
   "metadata": {},
   "outputs": [
    {
     "name": "stdin",
     "output_type": "stream",
     "text": [
      "请输入身高(m):  1.71\n"
     ]
    }
   ],
   "source": [
    "Height = float(input(\"请输入身高(m): \"))"
   ]
  },
  {
   "cell_type": "code",
   "execution_count": 3,
   "metadata": {},
   "outputs": [
    {
     "name": "stdin",
     "output_type": "stream",
     "text": [
      "请输入体重(kg):  65\n"
     ]
    }
   ],
   "source": [
    "Weight = float(input(\"请输入体重(kg): \"))"
   ]
  },
  {
   "cell_type": "code",
   "execution_count": 4,
   "metadata": {},
   "outputs": [],
   "source": [
    "BMI = round(Weight/Height**2, 2)"
   ]
  },
  {
   "cell_type": "code",
   "execution_count": 5,
   "metadata": {},
   "outputs": [
    {
     "name": "stdout",
     "output_type": "stream",
     "text": [
      "BMI指数为 22.23 正常\n"
     ]
    }
   ],
   "source": [
    "if BMI>=23.9:\n",
    "    print(\"BMI指数为\", BMI, \"体质偏重\")\n",
    "elif BMI<=18.5:\n",
    "    print(\"BMI指数为\", BMI, \"体质偏轻\")\n",
    "else:\n",
    "    print(\"BMI指数为\", BMI, \"正常\")"
   ]
  }
 ],
 "metadata": {
  "kernelspec": {
   "display_name": "Python 3 (ipykernel)",
   "language": "python",
   "name": "python3"
  },
  "language_info": {
   "codemirror_mode": {
    "name": "ipython",
    "version": 3
   },
   "file_extension": ".py",
   "mimetype": "text/x-python",
   "name": "python",
   "nbconvert_exporter": "python",
   "pygments_lexer": "ipython3",
   "version": "3.11.7"
  }
 },
 "nbformat": 4,
 "nbformat_minor": 4
}
