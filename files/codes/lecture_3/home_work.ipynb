{
 "cells": [
  {
   "cell_type": "code",
   "execution_count": 1,
   "metadata": {},
   "outputs": [],
   "source": [
    "# 导入os模块\n",
    "import os"
   ]
  },
  {
   "cell_type": "code",
   "execution_count": 2,
   "metadata": {},
   "outputs": [],
   "source": [
    "# 使用相对路径指定文件夹路径\n",
    "data_dir = './cet-4-txt/'"
   ]
  },
  {
   "cell_type": "code",
   "execution_count": 3,
   "metadata": {},
   "outputs": [],
   "source": [
    "# 使用os模块的listdir函数返回文件夹中的所有文件\n",
    "files = os.listdir(data_dir)"
   ]
  },
  {
   "cell_type": "code",
   "execution_count": 4,
   "metadata": {},
   "outputs": [
    {
     "data": {
      "text/plain": [
       "['2020年09月四级真题第1套.txt',\n",
       " '2017年06月四级真题第2套.txt',\n",
       " '2015年12月四级真题第1套.txt',\n",
       " '2017年12月四级真题第3套.txt',\n",
       " '2020年09月四级真题第3套.txt',\n",
       " '2018年12月四级真题第3套.txt',\n",
       " '2019年6月四级真题第2套.txt',\n",
       " '2017年06月四级真题第3套.txt',\n",
       " '2016年06月四级真题第2套.txt',\n",
       " '2018年06月四级真题第3套.txt',\n",
       " '2020年12月四级真题第2套.txt',\n",
       " '2016年12月四级真题第2套.txt',\n",
       " '2019年12月四级真题第3套.txt',\n",
       " '2018年06月四级真题第1套.txt',\n",
       " '2019年6月四级真题第1套.txt',\n",
       " '2015年12月四级真题第3套.txt',\n",
       " '2018年12月四级真题第1套.txt',\n",
       " '2016年12月四级真题第1套.txt',\n",
       " '2016年12月四级真题第3套.txt',\n",
       " '2020年07月四级真题全1套.txt',\n",
       " '2015年06月四级真题第2套.txt',\n",
       " '2016年06月四级真题第1套.txt',\n",
       " '2016年06月四级真题第3套.txt',\n",
       " '2019年6月四级真题第3套.txt',\n",
       " '2017年06月四级真题第1套.txt',\n",
       " '2015年06月四级真题第3套.txt',\n",
       " '2020年09月四级真题第2套.txt',\n",
       " '2015年06月四级真题第1套.txt',\n",
       " '2019年12月四级真题第2套.txt',\n",
       " '2018年06月四级真题第2套.txt',\n",
       " '2019年12月四级真题第1套.txt',\n",
       " '2018年12月四级真题第2套.txt',\n",
       " '2017年12月四级真题第2套.txt',\n",
       " '2020年12月四级真题第3套.txt',\n",
       " '2020年12月四级真题第1套.txt',\n",
       " '2017年12月四级真题第1套.txt',\n",
       " '2015年12月四级真题第2套.txt']"
      ]
     },
     "execution_count": 4,
     "metadata": {},
     "output_type": "execute_result"
    }
   ],
   "source": [
    "files"
   ]
  },
  {
   "cell_type": "code",
   "execution_count": 5,
   "metadata": {},
   "outputs": [
    {
     "data": {
      "text/plain": [
       "'2020年09月四级真题第1套.txt'"
      ]
     },
     "execution_count": 5,
     "metadata": {},
     "output_type": "execute_result"
    }
   ],
   "source": [
    "files[0]"
   ]
  },
  {
   "cell_type": "code",
   "execution_count": 6,
   "metadata": {},
   "outputs": [],
   "source": [
    "# 指定文件路径\n",
    "file_path = data_dir + files[0]"
   ]
  },
  {
   "cell_type": "code",
   "execution_count": 7,
   "metadata": {},
   "outputs": [
    {
     "data": {
      "text/plain": [
       "'./cet-4-txt/2020年09月四级真题第1套.txt'"
      ]
     },
     "execution_count": 7,
     "metadata": {},
     "output_type": "execute_result"
    }
   ],
   "source": [
    "file_path"
   ]
  },
  {
   "cell_type": "code",
   "execution_count": 8,
   "metadata": {},
   "outputs": [],
   "source": [
    "# 使用open函数打开文本文件，r表示以阅读模式打开\n",
    "f = open(file_path, 'r')"
   ]
  },
  {
   "cell_type": "code",
   "execution_count": 9,
   "metadata": {},
   "outputs": [],
   "source": [
    "# 调用read方法读取文件中的全部内容\n",
    "content = f.read()"
   ]
  },
  {
   "cell_type": "code",
   "execution_count": 10,
   "metadata": {},
   "outputs": [],
   "source": [
    "# 关闭文本文件\n",
    "f.close()"
   ]
  },
  {
   "cell_type": "code",
   "execution_count": 11,
   "metadata": {},
   "outputs": [
    {
     "data": {
      "text/plain": [
       "str"
      ]
     },
     "execution_count": 11,
     "metadata": {},
     "output_type": "execute_result"
    }
   ],
   "source": [
    "type(content)"
   ]
  },
  {
   "cell_type": "code",
   "execution_count": 12,
   "metadata": {},
   "outputs": [
    {
     "data": {
      "text/plain": [
       "'机密*启用前\\n大 学 英 语 四 级 考 试\\nCOLLEGE ENGLISH TEST\\n—Band Four—\\n(2020年9月第1套)\\n试 题 册\\n\\n敬 告 考 生\\n\\n一、在答题前，请认真完成以下内容:\\n1. 请检查试题册背面条形码粘贴条、答题卡的印刷质量，如有问题及时向监考员反映，确认无误后完成以下两点要求。\\n2. 请将试题册背面条形码粘贴条揭下后粘贴在答题卡1的条形码粘贴框内，并将姓名和准考证号填写在试题册背面相应位置。\\n3. 请在答题卡1和答题卡2指定位置用黑色签字笔填写准考证号、姓名和学校名称，并用HB-2B铅笔将对应准考证号的信息点涂黑。\\n二、在考试过程中，请注意以下内容:\\n1. 所有题目必须在答题卡上规定位置作答，在试题册上或答题卡上非规定位置的作答一律无效。\\n2. 请在规定时间内在答题卡指定位置依次完成作文、听力、阅读、翻译各部分考试，作答作文期间不得翻阅该试题册。听力录音播放完毕后，请立即停止作答，监考员将立即收回答题卡1，得到监考员指令后方可继续作答。\\n3. 作文题内容印在试题册背面，作文题及其他主观题必须用黑色签字笔在答题卡指定区域内作答。\\n4. 选择题均为单选题'"
      ]
     },
     "execution_count": 12,
     "metadata": {},
     "output_type": "execute_result"
    }
   ],
   "source": [
    "# 查看文本内容的前500个字符\n",
    "content[:500]"
   ]
  },
  {
   "cell_type": "code",
   "execution_count": 13,
   "metadata": {},
   "outputs": [
    {
     "data": {
      "text/plain": [
       "'the boiling water immediately gave off pleasant fragrance. He drank a little water, feeling very refreshed. Therefore, tea was found in this way. Since then, tea has begun to be popular in China. Tea gardens spread all over the country, and tea merchants became rich. Expensive and elegant tea sets have become a symbol of social status. Today, tea is not only a healthy drink, but also a part of Chinese culture. More and more international tourists learn about Chinese culture when they drink tea.\\n'"
      ]
     },
     "execution_count": 13,
     "metadata": {},
     "output_type": "execute_result"
    }
   ],
   "source": [
    "# 查看文本内容的后500个字符\n",
    "content[-500:]"
   ]
  },
  {
   "cell_type": "code",
   "execution_count": 14,
   "metadata": {},
   "outputs": [
    {
     "name": "stdout",
     "output_type": "stream",
     "text": [
      "机密*启用前\n",
      "大 学 英 语 四 级 考 试\n",
      "COLLEGE ENGLISH TEST\n",
      "—Band Four—\n",
      "(2020年9月第1套)\n",
      "试 题 册\n",
      "\n",
      "敬 告 考 生\n",
      "\n",
      "一、在答题前，请认真完成以下内容:\n",
      "1. 请检查试题册背面条形码粘贴条、答题卡的印刷质量，如有问题及时向监考员反映，确认无误后完成以下两点要求。\n",
      "2. 请将试题册背面条形码粘贴条揭下后粘贴在答题卡1的条形码粘贴框内，并将姓名和准考证号填写在试题册背面相应位置。\n",
      "3. 请在答题卡1和答题卡2指定位置用黑色签字笔填写准考证号、姓名和学校名称，并用HB-2B铅笔将对应准考证号的信息点涂黑。\n",
      "二、在考试过程中，请注意以下内容:\n",
      "1. 所有题目必须在答题卡上规定位置作答，在试题册上或答题卡上非规定位置的作答一律无效。\n",
      "2. 请在规定时间内在答题卡指定位置依次完成作文、听力、阅读、翻译各部分考试，作答作文期间不得翻阅该试题册。听力录音播放完毕后，请立即停止作答，监考员将立即收回答题卡1，得到监考员指令后方可继续作答。\n",
      "3. 作文题内容印在试题册背面，作文题及其他主观题必须用黑色签字笔在答题卡指定区域内作答。\n",
      "4. 选择题均为单选题，错选、不选或多选将不得分，作答时必须使用HB-2B铅笔在答题卡上相应位置填涂，修改时须用橡皮擦净。\n",
      "三、以下情况按违规处理:\n",
      "1. 未正确填写(涂)个人信息，错贴、不贴、毁损条形码粘贴条。\n",
      "2. 未按规定翻阅试题册、提前阅读试题、提前或在收答题卡期间作答。\n",
      "3. 未用所规定的笔作答、折叠成毁损答题卡导致无法评卷。\n",
      "4. 考试期间在非听力考试时间佩戴耳机。\n",
      "\n",
      "\n",
      "全国大学英语四、六级考试委员会\n",
      "\n",
      "Part I   Writing                           (30 minutes)\n",
      "\n",
      "Directions: For this part, you are allowed 30 minutes to write an essay on the use of PowerPoint in class. You can start your essay with the sentence “The use of PowerPoint is becoming increasingly popular in class.” You should write at least 120 words but no more than 180 words.\n",
      "\n",
      "Part II   Listening Comprehension          (25 minutes)\n",
      "\n",
      "Section A\n",
      "Directions: In this section, you will hear three news reports. At the end of each news report, you will hear two or three questions. Both the news report and the questions will be spoken only once. After you hear a question, you must choose the best answer from the four choices marked A), B),C) and D). Then mark the corresponding letter on Answer Sheet 1 with a single line through the center.\n",
      "\n",
      "Questions 1 and 2 are based on the news report you have just heard.\n",
      "\n",
      "1.   A) Ship traffic in the Atlantic.\t     B) Warm currents in the ocean.\n",
      "C) Exhaust from cars in Europe.\t     D) Particles emitted by power plants.\n",
      "2.  A) They need to be taken seriously.\n",
      "B) They have a huge effect on fishery.\n",
      "C) They might be causing trouble to air flights.\n",
      "D) They may be affecting the world’s climate.\n",
      "\n",
      "Questions 3 and 4 are based on the news report you have just heard.\n",
      "\n",
      "A) To appeal for higher wages.\n",
      "B) To demand better health care.\n",
      "C) To call for a permanent security guard.\n",
      "D) To dismiss the bad-tempered supervisor.\n",
      "4.  A) It had already taken strong action.\n",
      "B) It would put customers' needs first.\n",
      "C) It would take their appeal seriously.\n",
      "D) It was seeking help from the police.\n",
      "\n",
      "Questions 5 to 7 are based on the news report you have just heard.\n",
      "\n",
      "5.  A) The road was flooded.\n",
      "B) The road was blocked.\n",
      "C) The road was frozen with snow.\n",
      "D) The road was covered with spilled gas.\n",
      "6.  A) A truck plunged into a pool of liquid chocolate.\n",
      "B) The heavy snow made driving very difficult.\n",
      "C) The truck driver dozed off while driving.\n",
      "D) A truck hit a barrier and overturned.\n",
      "7.  A) It was a long time before the cleanup was finished.\n",
      "B) It was a hard task to remove the spilled substance.\n",
      "C) It was fortunate that no passenger got injured.\n",
      "D) It was difficult to contact the manufacturer.\n",
      "\n",
      "Section B\n",
      "Directions: In this section, you will hear two long conversations. At the end of each conversation,you will hear four questions. Both the conversations and the questions will be spoken only once. After you hear a question, you must choose the best answer from the four choices marked A), B), C) and D). Then mark the corresponding letter on Answer Sheet 1 with a single line through the center.\n",
      "\n",
      "Questions 8 to 11 are based on the conversation you have just heard.\n",
      "\n",
      "A) She wanted to save for a new phone.\n",
      "B) She found it much safer to use cash.\n",
      "C) She could enjoy discount with cash.\n",
      "D) She had been cheated using phone apps.\n",
      "9.  A) They can save a lot more time and trouble.\n",
      "B) They find it less difficult to make purchases.\n",
      "C) They derive greater pleasure from buying things.\n",
      "D) They are less aware of the value of their money.\n",
      "10.  A) More valuable items.\n",
      "B) More non-essential things.\n",
      "C) Everyday necessities.\n",
      "D) Electronic devices.\n",
      "11.  A) It can improve shopping efficiency.\n",
      "B) It is altering the way of shopping.\n",
      "C) It may lead to excessive spending.\n",
      "D) It appeals more to younger people.\n",
      "\n",
      "Questions 12 to 15 are based on the conversation you have just heard.\n",
      "\n",
      "A) He wanted to order some wooden furniture.\n",
      "B) He had to change the furniture delivery time.\n",
      "C) He had a problem with the furniture delivered.\n",
      "D) He wanted the furniture store to give him a refund.\n",
      "13.  A) Send the furniture back to the store.\n",
      "B) Describe the furniture he received.\n",
      "C) Collect the furniture he ordered.\n",
      "D) Buy another brand of furniture.\n",
      "14.  A) Correct their mistake.                 B) Improve their service.\n",
      "C) Apologize to his wife.                 D) Give the money back.\n",
      "15.\tA) She recommended a new style.\n",
      "B) She offered some gift to the man.\n",
      "C) She apologized to the man once more.\n",
      "D) She checked all the items with the man.\n",
      "\n",
      "Section C\n",
      "Directions: In this section, you will hear three passages. At the end of each passage, you will hear three or four questions. Both the passages and the questions will be spoken only once. After you hear a question, you must choose the best answer from the four choices marked A), B), C) and D). Then mark the corresponding letter on Answer Sheet 1 with a single line through the center.\n",
      "Questions 16 to 18 are based on the passage you have just heard.\n",
      "\n",
      "A) Reading books of wisdom.               B) Tidying up one’s home.\n",
      "Sharing with others.                    D) Donating to charity.\n",
      "17.\tA) Things that make one happy.\n",
      "B) Things that are becoming rare.\n",
      "C) Things that occupy little space.\n",
      "D) Things that cost a lot of money.\n",
      "18. A) It joined the city’s clean-up campaign.\n",
      "B) It sold as many as fifty boxes of books.\n",
      "C) It received an incredibly large number of donated books.\n",
      "D) It did little business because of the unusual cold weather.\n",
      "\n",
      "Questions 19 to 21 are based on the passage you have just heard.\n",
      "\n",
      "A) Give free meals to the homeless.\n",
      "B) Provide shelter for the homeless.\n",
      "C) Help the vulnerable to cook lunches.\n",
      "D) Call for change in the local government.\n",
      "20.  A) Strengthen co-operation.\n",
      "B) Promote understanding.\n",
      "C) Win national support.\n",
      "D) Following his example.\n",
      "21.\t A) Spreading news of his deeds.\n",
      "B) Writing him thank-you notes.\n",
      "C) Following the example he sets.\n",
      "D) Sending him hand-made bags.\n",
      "\n",
      "Questions 22 to 25 are based on the passage you have just heard.\n",
      "\n",
      "A) To solve word search puzzles.\n",
      "B) To send smartphone messages.\n",
      "C) To test their eyesight using a phone app.\n",
      "D) To install some audio equipment in a lab.\n",
      "23.  A) They could not go on until the ringing stopped.\n",
      "B) They could no longer concentrate on their task.\n",
      "C) They grabbed the phone and called back right away.\n",
      "D) They asked their experimenter to hang up the phone.\n",
      "24.  A) A rise in emotional problems.\n",
      "B) A decline in sports activities.\n",
      "C) A reduction in the amount of sleep.\n",
      "D) A decline in academic performance.\n",
      "25.  A) Protect the eyesight of the younger generation.\n",
      "B) Take effective measures to raise productivity.\n",
      "C) Realize the disruptive effects of technology.\n",
      "D) Ensure they have sufficient sleep every day.\n",
      "\n",
      "Part Ⅲ    Reading Comprehension      (40 minutes)\n",
      "\n",
      "Section A\n",
      "Directions：In this section, there is a passage with ten blanks. You are required to select one word for each blank from a list of choices given in a word bank following the passage. Read the passage through carefully before making your choices. Each choice in the bank is identified by a letter. Please mark the corresponding letter for each item on Answer Sheet 2 with a single line through the centre. You may not use any of the words in the bank more than once.\n",
      "\n",
      "There’re three main types of financial stress people encounter. The first type is apparent in people being stressed about the 26 ups and downs of investment markets—actually not so much the ups, but 27 the downs. These people are usually unable or unprepared to endure the long haul.\n",
      "The next common type of financial stress is that caused by debt. In a 28 percentage of cases of debt-induced financial stress, credit cards and loans will be a central element. Often there’ll be a car loan and perhaps a mortgage, but credit cards often seem to be the gateway to debt-related financial difficulties for many.\n",
      "The third type of stress and 29 the least known is inherited financial stress, which is the most destructive. It is experienced by those who have grown up in households where their parents regularly 30 and fought about money. Money therefore becomes a stressful topic, and so the thought of sitting down and planning is an unattractive 31.\n",
      "Those suffering inherited financial anxiety 32 to follow one of two patterns. Either they put their head in the sand: they would 33 examining their financial statements, budgeting and discussing financial matters with those closest to them. Alternatively, they would go to the other 34, and micro-analyze everything, to the point of complete 35. They are convinced that whatever decision they make will be the wrong one.\n",
      "\n",
      "Section B\n",
      "Directions：In this section, you are going to read a passage with ten statements attached to it. Each statement contains information given in one of the paragraphs. Identify the paragraph from which the information is derived. You may choose a paragraph more than once. Each paragraph is marked with a letter. Answer the questions by making the corresponding letter on Answer Sheet 2.\n",
      "\n",
      "Doctor’s Orders: Let Children Just Play\n",
      "[A] Imagine a drug that could enhance a child’s creativity and critical thinking. Imagine that this drug were simple to make, safe to take, and could be had for free. The nation’s leading pediatricians（儿科医生）say this miracle compound exists. In a new clinical report, they are urging doctors to prescribe it liberally to the children in their care.\n",
      "\n",
      "[B] “This may seem old-fashioned, but there are skills to be learned when kids aren’t told what to do,” said Dr. Michael Yogman, a Harvard Medical School pediatrician who led the drafting of the call to arms. Whether it’s rough physical play, outdoor play or social or pretend play, kids derive important lessons from the chance to make things up as they go, he said.\n",
      "\n",
      "[C] The advice, issued Monday by the American Academy of Pediatrics, may come as a shock to some parents. After spending years fretting（烦恼）over which toys to buy, which apps to download and which skill-building programs to send their kids to after school, letting them simply play—or better yet, playing with them—could seem like a step backward. The pediatricians insist that it’s not. The academy’s guidance does not include specific recommendations for the dosing of play. Instead, it asks doctors to advise parents before their babies turn two that play is essential to healthy development.\n",
      "\n",
      "[D] “Play is not silly behavior,” the academy’s report declares. It fosters children’s creativity, cooperation and problem-solving skills—all of which are critical for a 21st-century workforce. When parents engage in play with their children, it builds a wall against the harmful effects of all kinds of stress, including poverty, the academy says. In the pediatricians’ view, essentially every life skill that’s valued in adults can be built up with play. “Collaboration, negotiation, decision-making, creativity, leadership, and increased physical activity are just some of the skills and benefits children gain through play,” they wrote. The pediatricians’ appeal comes as kids are being squeezed by increasing academic demands at school and the constant invasion of digital media.\n",
      "\n",
      "[E] The trends have been a long time coming. Between 1981 and 1997, detailed time-use studies showed that the time children spent at play declined by 25 percent. Since the adoption of sweeping education reforms in 2001, public schools have steadily increased the amount of time devoted to preparing for standardized tests. The focus on academic “skills and drills” has cut deeply into recess（课间休息）and other time for free play.\n",
      "\n",
      "[F] By 2009, a study of Los Angeles kindergarten classrooms found that five-year-olds were so burdened with academic requirements that they were down to an average of just 19 minutes per day of “choice time,” when they were permitted to play freely with blocks, toys or other children. One in four Los Angeles teachers reported there was no time at all for “free play.” Increased academic pressures have left 30 percent of U.S. kindergarten classes without any recess. Such findings prompted the American Academy of Pediatrics to issue a policy statement in 2013 on the “crucial role of recess in school.”\n",
      "\n",
      "[G] Pediatricians aren’t the only ones who have noticed. In a report titled “Crisis in the Kindergarten,” a group of educators, health professionals and child advocates called the loss of play in early childhood “a tragedy, both for the children themselves and for our nation and world.” Kids in play-based kindergartens “end up equally good or better at reading and other intellectual skills, and they are more likely to become well-adjusted healthy people,” the Alliance for Childhood said in 2009. Indeed, new research demonstrates why playing with blocks might have been time better spent, Yogman said. The trial assessed the effectiveness of an early mathematics intervention（干预）aimed at preschoolers. The results showed almost no gains in math achievement.\n",
      "\n",
      "[H] Another playtime thief: the growing proportion of kids’ time spent in front of screens and digital devices, even among preschoolers. Last year, Common Sense Media reported that children up through age eight spent an average of two hours and 19 minutes in front of screens each day, including an average of 42 minutes a day for those under two. This increase of digital use comes with rising risks of obesity, sleep deprivation and cognitive（认知的）, language and social-emotional delays, the American Academy of Pediatrics warned in 2016.\n",
      "\n",
      "[I] “I respect that parents have busy lives and it’s easy to hand a child an iPhone,” Yogman said. “But there’s a cost to that. For young children, it’s much too passive. And kids really learn better when they’re actively engaged and have to really discover things.”\n",
      "\n",
      "[J] The decline of play is a special hazard for the roughly 1 in 5 children in the United States who live in poverty. These 14 million children most urgently need to develop the resilience（韧劲）that is cultivated with play. Instead, Yogman said, they are disproportionately affected by some of the trends that are making play scarce: academic pressures at schools that need to improve test scores, outside play areas that are limited or unsafe, and parents who lack the time or energy to share in playtime.\n",
      "\n",
      "[K] Yogman also worries about the pressures that squeeze playtime for more affluent kids. “The notion that as parents we need to schedule every minute of their time is not doing them a great service,” he said. Even well-meaning parents may be “robbing them of the opportunity to have that joy of discovery and curiosity—the opportunity to find things out on their own.”\n",
      "\n",
      "Play may not be a hard sell to kids. But UCLA pediatrician Carlos Lerner acknowledged that the pediatricians’ new prescription may meet with skepticism（怀疑） from parents, who are anxious for advice on how to give their kids a leg up in the world. They should welcome the simplicity of the message, Lerner said. “It’s liberating to be able to offer them this advice: that you spending time with your child and letting him play is one of the most valuable things you can do,” he said. “It doesn’t have to involve spending a lot of money or time, or joining a parenting group. It’s something we can offer that’s achievable. They just don’t recognize it right now as particularly valuable.”\n",
      "\n",
      "36. Increased use of digital devices steals away children’s playtime.\n",
      "\n",
      "37. Since the beginning of this century, an increasing amount of time has been shifted in public schools from recess to academic activities.\n",
      "\n",
      "38. It has been acknowledged that while kids may welcome pediatrician’s recommendation, their parents may doubt its feasibility.\n",
      "\n",
      "39. According to some professionals, deprivation of young children’s playtime will do harm not only to children themselves but to the country and the world.\n",
      "\n",
      "40. By playing with children, parents can prevent them from being harmed by stress.\n",
      "\n",
      "41. Playing with digital device discourages kids from active discovery, according to pediatrician Dr. Michael Yogman.\n",
      "\n",
      "42. The suggestion of letting children simply play may sound like going backwards to parents who want to help build their children’s skills.\n",
      "\n",
      "43. Dr. Michael Yogman believes the idea that parents should carefully schedule children’s time may not be helpful to their growth.\n",
      "\n",
      "44. One quarter of teachers in an American city said that children in kindergartens had no time for playing freely.\n",
      "\n",
      "45. According to a pediatrician, no matter what kind of play children engage in, they are learning how to create things.\n",
      "\n",
      "Section C\n",
      "Directions：There are 2 passages in this section. Each passage is followed by some questions or unfinished statements. For each of them there are four choices marked A), B), C) and D) .You should decide on the best choice and mark the corresponding letter on Answer Sheet 2 with a single line through the centre.\n",
      "\n",
      "Passage One\n",
      "Questions 46 to 50 are based on the following passage.\n",
      "Americans spend billions of dollars each year trying to change our weight with diets, gym memberships and plastic surgery.\n",
      "Trying to live up to the images of “perfect” models and movie heroes has a dark side: anxiety and depression, as well as unhealthy strategies for weight loss or muscle gain. It also has a financial cost. Having an eating disorder boosts annual health care costs by nearly US$2,000 per person.\n",
      "Why is there both external and internal pressure to look “perfect”? One reason is that society rewards people who are thin and healthy looking. Researchers have shown that body mass index is related to wages and income. Especially for women, there is a clear penalty at work for being overweight or obese. Some studies have also found an impact for men, though a less noticeable one.\n",
      "While the research literature is clear that labor market success is partly based on how employers and customers perceive your body image, no one had explored the other side of question. Does a person's own perception of body image matter to earnings and other indicators of success in the workplace?\n",
      "Our recently published study answered this question by tracking a large national random sample of Americans over a critical time period when bodies change from teenage shape into adult form and when people build their identities.\n",
      "As in other research, women in our sample tend to over-perceive their weight—they think they're heavier than they are—while men tend to under-perceive theirs.\n",
      "We found no relationship between the average person's self- perception of weight and labor market outcomes, although self-perceived weight can influence self-esteem（自尊心）, mental health and health behaviors.\n",
      "While the continued gender penalty in the labor market is frustrating, our finding that misperceived weight does not harm workers is more heartening.\n",
      "Since employers’ perception of weight is what matters in the labor market, changing discrimination laws to include body type as a category would also help. Michigan is the only state that prohibits discrimination on the basis of weight and height. We believe expanding such protections would make the labor market more fair and efficient.\n",
      "\n",
      "46. What does the author say may have an adverse impact on people?\n",
      "A) Undergoing plastic surgeries in pursuit of beauty.\n",
      "B) Imitating the lifestyles of heroes and role models.\n",
      "C) Striving to achieve perfection regardless of financial cost.\n",
      "D) Attempting to meet society’s expectation of appearance.\n",
      "\n",
      "47. What have researchers found out about people’s earnings?\n",
      "A) They are closely related to people’s social status.\n",
      "B) They have to do with people’s body weight and shape.\n",
      "C) They seem to matter much less to men than to women.\n",
      "D) They may not be equal to people’s contributions.\n",
      "\n",
      "48. What does the author’s recent study focus on?\n",
      "A) Previous literature on indicators of competitiveness in the workplace.\n",
      "B) Traits that matter most in one’s pursuit of success in the labor market.\n",
      "C) Whether self-perception of body image impacts one’s workplace success.\n",
      "D) How bosses’ perception of body image impacts employees’ advancement.\n",
      "\n",
      "49. What is the finding of the author’s recent research?\n",
      "A) Being overweight actually does not do much harm to the overall well-being of employees.\n",
      "B) People are not adversely affected in the workplace by false self-perception of body weight.\n",
      "C) Self-esteem helps to combat gender inequality in the workplace.\n",
      "D) Gender inequality continues to frustrate a lot of female employees.\n",
      "\n",
      "50. What does the author think would help improve the condition in the labor market?\n",
      "A) Banning discrimination on the basis of employees’ body image.\n",
      "B) Expanding protection of women against gender discrimination.\n",
      "C) Helping employees change their own perception of beauty.\n",
      "D) Excluding body shape as a category in the labor contract.\n",
      "\n",
      "Passage Two\n",
      "Questions 51 to 55 are based on the following passage.\n",
      "\n",
      "The work-life balance is dead. By this, I'm not advocating that you should give up your pursuit of having a fulfilling career and a thriving personal life, and I’m definitely not saying that you have to give up one to have the other. I also acknowledge that we have a work-life problem, but I'm arguing that the concept of balance has never been helpful, because it's too limiting. You see, our language makes a difference, and how we refer to things matters because it affects our thinking and therefore our actions.\n",
      "At the minimum, most of us work because we want to be able to support ourselves, our families, and the people around us. In the ideal world, we're all doing work that we're proud of and that provides meaning and purpose to us. But even if your job doesn't give you shivers of joy each new day, working is a part of what each of us does and the contribution we make to society. When you separate work and life, it’s a little bit harder to make that connection. But when you think of work as part of a full life and a complete experience, it becomes easier to see that success in one aspect often supports another.\n",
      "Losing your balance and falling isn’t pleasant. A goal to balance suggests that things could quickly get off the balance, and that causes terrible outcomes. It’s more constructive to think of solutions that continue to evolve over shifts in life and work. Rather than falling or failing, you may have good days or better days or not-so-good days. These variations are normal, and it’s more useful to think of life as something that is ever evolving and changing, rather than a high-risk enterprise where things could go wrong with one misstep.\n",
      "How we talk to ourselves matters, and how we talk about issues makes a difference. Let’s bury “work-life balance” and think bigger and better about work-life fulfillment to do a little less balancing and a lot more living.\n",
      "\n",
      "51. What does the author suggest by saying “The work-life balance is dead”?\n",
      "A) The hope of achieving a thriving life is impossible to realize.\n",
      "B) The pursuit of a fulfilling career involves personal sacrifice.\n",
      "C) The imbalance between work and life simply doesn’t exist anymore\n",
      "D) The concept of work-life balance contributes little to a fulfilling life.\n",
      "52. What does the author say about our use of language?\n",
      "A) It impacts how we think and behave.\n",
      "B) It changes with the passage of time.\n",
      "C) It reflects how we communicate.\n",
      "D) It differs from person to person.\n",
      "53. What does the author say we do in an ideal world?\n",
      "A) We do work that betters the lives of our families and friends.\n",
      "B) We do work that gives us bursts of joy each new day.\n",
      "C) We do meaningful work that contributes to society.\n",
      "D) We do demanding work that brings our capacity into full play.\n",
      "54. What does the author say about life?\n",
      "A) It is cyclical.\n",
      "B) It is dynamic.\n",
      "C) It is fulfilling.\n",
      "D) It is risky.\n",
      "What does the author advise us to do?\n",
      "A) Make life as simple as possible.\n",
      "B) Talk about balance in simpler terms.\n",
      "C) Balance life and work in a new way.\n",
      "D) Strive for a more filling life.\n",
      "\n",
      "Part IV   Translation                  (30 minutes)\n",
      "Directions: For this part, you are allowed 30 minutes to translate a passage from Chinese into English. You should write your answer on Answer Sheet 2.\n",
      "\n",
      "茶拥有5000年的历史。传说，神农氏（Shen Nong）喝开水时，几片野树叶子落进壶里开水顿时散发出宜人的香味。他喝了几口，觉得很提神。茶就这样发现了。自此，茶在中国开始流行。茶园遍布全国，茶商变得富有。昂贵、雅致的茶具成了地位的象征。今天，茶不仅是一种健康的饮品，而且是中国文化的一个组成部分。越来越多的国际游客一边品茶，一边了解中国文化。\n",
      "\n",
      "\n",
      "\n",
      "\n",
      "\n",
      "\n",
      "\n",
      "\n",
      "\n",
      "\n",
      "参 考 答 案\n",
      "\n",
      "Part Ⅰ  Writing\n",
      "The use of PowerPoint is becoming increasingly popular in class, especially in the past few decades. From my personal perspective, the importance of the above-mentioned trend is beyond question.\n",
      "My reasons are listed below. For one thing, using PowerPoint instead of the traditional blackboard to illustrate the content of the lecture is a much more effective method for students to learn. Since now students can take the whole PowerPoint back after class, they can completely concentrate on the lecture instead of listening and taking notes at the same time. For another thing, using PowerPoint in class can also benefit the lecturer greatly. It has been long proved that the traditional way to use chalks to write on the blackboard has a negative effect on teachers’ lungs, and PowerPoint solves the issue.\n",
      "In a word, the importance of using PowerPoint in education should be recognized by all of us, and I sincerely hope that the rising popularity of this trend will lead to a more effective and healthier learning environment.\n",
      "\n",
      "Part II   Listening Comprehension\n",
      "Section A\n",
      "1-2 AD\n",
      "3-4 CA\n",
      "5-7 BDB\n",
      "Section B\n",
      "8-11 ADBC\n",
      "12-15 CBAC\n",
      "Section C\n",
      "16-18 BAC\n",
      "19-21 ADC\n",
      "22-25 ABCC\n",
      "\n",
      "Part III   Reading Comprehension\n",
      "Section A\n",
      "I) normal\n",
      "E) definitely\n",
      "D) considerable\n",
      "J) possibly\n",
      "B) argued\n",
      "K) proposition\n",
      "N) tend\n",
      "C) avoid\n",
      "F) extreme\n",
      "G) inaction\n",
      "\n",
      "Section B\n",
      "H)\n",
      "E)\n",
      "L)\n",
      "G)\n",
      "D)\n",
      "I)\n",
      "C)\n",
      "K)\n",
      "F)\n",
      "B)\n",
      "\n",
      "Section C\n",
      "46-50 DBCBA\n",
      "51-55 DACBD\n",
      "\n",
      "Part IV   Translation\n",
      "Tea has a history of 5,000 years. There is a legend that when Shen Nong was about to drink boiling water, a few wild tree leaves fell into the kettle and the boiling water immediately gave off pleasant fragrance. He drank a little water, feeling very refreshed. Therefore, tea was found in this way. Since then, tea has begun to be popular in China. Tea gardens spread all over the country, and tea merchants became rich. Expensive and elegant tea sets have become a symbol of social status. Today, tea is not only a healthy drink, but also a part of Chinese culture. More and more international tourists learn about Chinese culture when they drink tea.\n",
      "\n"
     ]
    }
   ],
   "source": [
    "# 打印输出文本的全部内容\n",
    "print(content)"
   ]
  },
  {
   "cell_type": "code",
   "execution_count": 15,
   "metadata": {},
   "outputs": [],
   "source": [
    "# 遍历文件夹中的全部英语四级试题文件，读取其中的文本内容，以字符串形式赋值给变量cet4_text\n",
    "cet4_text = ''\n",
    "for txt_file in files:\n",
    "    txt_path = data_dir + txt_file\n",
    "    f = open(txt_path, 'r')\n",
    "    txt_str = f.read()\n",
    "    f.close()\n",
    "    cet4_text += txt_str + '\\n'"
   ]
  },
  {
   "cell_type": "code",
   "execution_count": 16,
   "metadata": {},
   "outputs": [
    {
     "data": {
      "text/plain": [
       "str"
      ]
     },
     "execution_count": 16,
     "metadata": {},
     "output_type": "execute_result"
    }
   ],
   "source": [
    "type(cet4_text)"
   ]
  },
  {
   "cell_type": "code",
   "execution_count": 17,
   "metadata": {},
   "outputs": [
    {
     "data": {
      "text/plain": [
       "842360"
      ]
     },
     "execution_count": 17,
     "metadata": {},
     "output_type": "execute_result"
    }
   ],
   "source": [
    "# 查看一下全部试题文本的字符长度\n",
    "len(cet4_text)"
   ]
  },
  {
   "cell_type": "code",
   "execution_count": 18,
   "metadata": {},
   "outputs": [],
   "source": [
    "# 从stopwords文件中读取英语中的停用词，赋值给列表变量stopwords_list\n",
    "f = open('./stopwords.txt')\n",
    "stopwords_str = f.read()\n",
    "stopwords_list = eval(stopwords_str)\n",
    "f.close()"
   ]
  },
  {
   "cell_type": "code",
   "execution_count": 19,
   "metadata": {},
   "outputs": [
    {
     "data": {
      "text/plain": [
       "list"
      ]
     },
     "execution_count": 19,
     "metadata": {},
     "output_type": "execute_result"
    }
   ],
   "source": [
    "type(stopwords_list)"
   ]
  },
  {
   "cell_type": "code",
   "execution_count": 20,
   "metadata": {
    "scrolled": true
   },
   "outputs": [
    {
     "data": {
      "text/plain": [
       "179"
      ]
     },
     "execution_count": 20,
     "metadata": {},
     "output_type": "execute_result"
    }
   ],
   "source": [
    "len(stopwords_list)"
   ]
  },
  {
   "cell_type": "markdown",
   "metadata": {},
   "source": [
    "**停用词**：语言中包含的功能词，这些功能词极其普遍，与其他词相比，功能词没有什么实际含义，如系动词、助动词、介词、代词等。"
   ]
  },
  {
   "cell_type": "code",
   "execution_count": 21,
   "metadata": {},
   "outputs": [
    {
     "data": {
      "text/plain": [
       "['i',\n",
       " 'me',\n",
       " 'my',\n",
       " 'myself',\n",
       " 'we',\n",
       " 'our',\n",
       " 'ours',\n",
       " 'ourselves',\n",
       " 'you',\n",
       " \"you're\",\n",
       " \"you've\",\n",
       " \"you'll\",\n",
       " \"you'd\",\n",
       " 'your',\n",
       " 'yours',\n",
       " 'yourself',\n",
       " 'yourselves',\n",
       " 'he',\n",
       " 'him',\n",
       " 'his',\n",
       " 'himself',\n",
       " 'she',\n",
       " \"she's\",\n",
       " 'her',\n",
       " 'hers',\n",
       " 'herself',\n",
       " 'it',\n",
       " \"it's\",\n",
       " 'its',\n",
       " 'itself',\n",
       " 'they',\n",
       " 'them',\n",
       " 'their',\n",
       " 'theirs',\n",
       " 'themselves',\n",
       " 'what',\n",
       " 'which',\n",
       " 'who',\n",
       " 'whom',\n",
       " 'this',\n",
       " 'that',\n",
       " \"that'll\",\n",
       " 'these',\n",
       " 'those',\n",
       " 'am',\n",
       " 'is',\n",
       " 'are',\n",
       " 'was',\n",
       " 'were',\n",
       " 'be',\n",
       " 'been',\n",
       " 'being',\n",
       " 'have',\n",
       " 'has',\n",
       " 'had',\n",
       " 'having',\n",
       " 'do',\n",
       " 'does',\n",
       " 'did',\n",
       " 'doing',\n",
       " 'a',\n",
       " 'an',\n",
       " 'the',\n",
       " 'and',\n",
       " 'but',\n",
       " 'if',\n",
       " 'or',\n",
       " 'because',\n",
       " 'as',\n",
       " 'until',\n",
       " 'while',\n",
       " 'of',\n",
       " 'at',\n",
       " 'by',\n",
       " 'for',\n",
       " 'with',\n",
       " 'about',\n",
       " 'against',\n",
       " 'between',\n",
       " 'into',\n",
       " 'through',\n",
       " 'during',\n",
       " 'before',\n",
       " 'after',\n",
       " 'above',\n",
       " 'below',\n",
       " 'to',\n",
       " 'from',\n",
       " 'up',\n",
       " 'down',\n",
       " 'in',\n",
       " 'out',\n",
       " 'on',\n",
       " 'off',\n",
       " 'over',\n",
       " 'under',\n",
       " 'again',\n",
       " 'further',\n",
       " 'then',\n",
       " 'once',\n",
       " 'here',\n",
       " 'there',\n",
       " 'when',\n",
       " 'where',\n",
       " 'why',\n",
       " 'how',\n",
       " 'all',\n",
       " 'any',\n",
       " 'both',\n",
       " 'each',\n",
       " 'few',\n",
       " 'more',\n",
       " 'most',\n",
       " 'other',\n",
       " 'some',\n",
       " 'such',\n",
       " 'no',\n",
       " 'nor',\n",
       " 'not',\n",
       " 'only',\n",
       " 'own',\n",
       " 'same',\n",
       " 'so',\n",
       " 'than',\n",
       " 'too',\n",
       " 'very',\n",
       " 's',\n",
       " 't',\n",
       " 'can',\n",
       " 'will',\n",
       " 'just',\n",
       " 'don',\n",
       " \"don't\",\n",
       " 'should',\n",
       " \"should've\",\n",
       " 'now',\n",
       " 'd',\n",
       " 'll',\n",
       " 'm',\n",
       " 'o',\n",
       " 're',\n",
       " 've',\n",
       " 'y',\n",
       " 'ain',\n",
       " 'aren',\n",
       " \"aren't\",\n",
       " 'couldn',\n",
       " \"couldn't\",\n",
       " 'didn',\n",
       " \"didn't\",\n",
       " 'doesn',\n",
       " \"doesn't\",\n",
       " 'hadn',\n",
       " \"hadn't\",\n",
       " 'hasn',\n",
       " \"hasn't\",\n",
       " 'haven',\n",
       " \"haven't\",\n",
       " 'isn',\n",
       " \"isn't\",\n",
       " 'ma',\n",
       " 'mightn',\n",
       " \"mightn't\",\n",
       " 'mustn',\n",
       " \"mustn't\",\n",
       " 'needn',\n",
       " \"needn't\",\n",
       " 'shan',\n",
       " \"shan't\",\n",
       " 'shouldn',\n",
       " \"shouldn't\",\n",
       " 'wasn',\n",
       " \"wasn't\",\n",
       " 'weren',\n",
       " \"weren't\",\n",
       " 'won',\n",
       " \"won't\",\n",
       " 'wouldn',\n",
       " \"wouldn't\"]"
      ]
     },
     "execution_count": 21,
     "metadata": {},
     "output_type": "execute_result"
    }
   ],
   "source": [
    "# 看一下停用词表包含哪些词语\n",
    "stopwords_list"
   ]
  },
  {
   "cell_type": "markdown",
   "metadata": {},
   "source": [
    "### 题目要求\n",
    "\n",
    "应用所学知识，从2015年6月-2020年12月的大学英语四级考试真题中找出前300个高频英文单词，上面代码已经把试题文本保存在变量`cet4_text`中，请你在变量`cet4_text`的基础上进行后续操作。\n",
    "\n",
    "<b><font color=red>注意</font></b>：\n",
    "\n",
    "- 就在该jupyter文件内作答；\n",
    "- 可以使用课上未讲授过的python知识，如python的字典数据类型\n",
    "- 不要把全部代码写在一个cell里；\n",
    "- 为你的代码添加适当的注释；\n",
    "- 最后的高频词表里不能包含停用词；\n",
    "- 最后的高频词表既要给出单词，也要给出该单词的出现频率；\n",
    "- 最后结果以列表形式呈现，如，`freq_300 = [(word_1, frequency_1), (word_1, frequency_1), ...]`。"
   ]
  }
 ],
 "metadata": {
  "kernelspec": {
   "display_name": "Python 3",
   "language": "python",
   "name": "python3"
  },
  "language_info": {
   "codemirror_mode": {
    "name": "ipython",
    "version": 3
   },
   "file_extension": ".py",
   "mimetype": "text/x-python",
   "name": "python",
   "nbconvert_exporter": "python",
   "pygments_lexer": "ipython3",
   "version": "3.7.1"
  }
 },
 "nbformat": 4,
 "nbformat_minor": 2
}
