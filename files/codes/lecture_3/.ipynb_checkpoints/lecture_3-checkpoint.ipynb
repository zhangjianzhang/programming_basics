{
 "cells": [
  {
   "cell_type": "markdown",
   "metadata": {},
   "source": [
    "# 字符串和集合"
   ]
  },
  {
   "cell_type": "markdown",
   "metadata": {},
   "source": [
    "## 3.1 字符串操作\n",
    "\n",
    "标准**序列操作**适用于字符串\n",
    "\n",
    "- 索引，分片\n",
    "- 乘法，加法\n",
    "- 成员资格判断\n",
    "- 求长度，最大值，最小值\n",
    "\n",
    "字符串**不可变**，因此**分片赋值**或**单独赋值**是不合法的"
   ]
  },
  {
   "cell_type": "markdown",
   "metadata": {},
   "source": [
    "<b><font color=blue>在某种程度上，可以把字符串看做一个字符列表</font></b>"
   ]
  },
  {
   "cell_type": "markdown",
   "metadata": {},
   "source": [
    "下列示例字符串选自由孙燕姿演唱的歌曲《我怀念的》，姚若龙 作词，<a href=\"https://haokan.baidu.com/v?pd=wisenatural&vid=17839537695557762039\" target=\"_blank\">戳我观看MV</a>\n",
    "\n",
    "\n",
    "\n",
    "我怀念的是无话不说\n",
    "\n",
    "我怀念的是一起作梦\n",
    "\n",
    "我怀念的是争吵以后\n",
    "\n",
    "还是想要爱你的冲动"
   ]
  },
  {
   "cell_type": "markdown",
   "metadata": {},
   "source": [
    "下列示例字符串选自由伍佰&杨乃文演唱的歌曲《最初的地方》，余光中 作词，<a href=\"https://haokan.baidu.com/v?pd=wisenatural&vid=17625666463385835341\" target=\"_blank\">戳我观看现场视频</a>\n",
    "\n",
    "回到最初我们来的地方\n",
    "\n",
    "好多的天真被我们遗忘\n",
    "\n",
    "你说过快乐就在这路上\n",
    "\n",
    "从不在乎结果究竟会怎样"
   ]
  },
  {
   "cell_type": "code",
   "execution_count": 1,
   "metadata": {},
   "outputs": [],
   "source": [
    "lyrics_1 = \"我怀念的是无话不说\""
   ]
  },
  {
   "cell_type": "code",
   "execution_count": 2,
   "metadata": {},
   "outputs": [
    {
     "data": {
      "text/plain": [
       "'念'"
      ]
     },
     "execution_count": 2,
     "metadata": {},
     "output_type": "execute_result"
    }
   ],
   "source": [
    "# 按索引访问\n",
    "lyrics_1[2]"
   ]
  },
  {
   "cell_type": "code",
   "execution_count": 3,
   "metadata": {},
   "outputs": [
    {
     "data": {
      "text/plain": [
       "'无话不说'"
      ]
     },
     "execution_count": 3,
     "metadata": {},
     "output_type": "execute_result"
    }
   ],
   "source": [
    "# 分片\n",
    "lyrics_1[-4:]"
   ]
  },
  {
   "cell_type": "code",
   "execution_count": 4,
   "metadata": {},
   "outputs": [
    {
     "data": {
      "text/plain": [
       "True"
      ]
     },
     "execution_count": 4,
     "metadata": {},
     "output_type": "execute_result"
    }
   ],
   "source": [
    "# 成员判断\n",
    "'我' in lyrics_1"
   ]
  },
  {
   "cell_type": "code",
   "execution_count": 5,
   "metadata": {},
   "outputs": [
    {
     "data": {
      "text/plain": [
       "'说不话无是的念怀我'"
      ]
     },
     "execution_count": 5,
     "metadata": {},
     "output_type": "execute_result"
    }
   ],
   "source": [
    "# 倒序\n",
    "lyrics_1[::-1]"
   ]
  },
  {
   "cell_type": "code",
   "execution_count": 6,
   "metadata": {},
   "outputs": [
    {
     "data": {
      "text/plain": [
       "'我怀念的是无话不说我怀念的是无话不说'"
      ]
     },
     "execution_count": 6,
     "metadata": {},
     "output_type": "execute_result"
    }
   ],
   "source": [
    "# 乘法\n",
    "\n",
    "lyrics_1 * 2"
   ]
  },
  {
   "cell_type": "code",
   "execution_count": 7,
   "metadata": {},
   "outputs": [
    {
     "data": {
      "text/plain": [
       "'我怀念的是无话不说，我怀念的是一起作梦'"
      ]
     },
     "execution_count": 7,
     "metadata": {},
     "output_type": "execute_result"
    }
   ],
   "source": [
    "# 加法\n",
    "\n",
    "lyrics_1 + '，' +\"我怀念的是一起作梦\""
   ]
  },
  {
   "cell_type": "code",
   "execution_count": 8,
   "metadata": {},
   "outputs": [
    {
     "data": {
      "text/plain": [
       "'我怀念的，我怀念的，是无话不说'"
      ]
     },
     "execution_count": 8,
     "metadata": {},
     "output_type": "execute_result"
    }
   ],
   "source": [
    "# 重复和扩展（乘法和加法）\n",
    "\n",
    "'我怀念的，' * 2 + '是无话不说'"
   ]
  },
  {
   "cell_type": "code",
   "execution_count": 9,
   "metadata": {},
   "outputs": [
    {
     "data": {
      "text/plain": [
       "9"
      ]
     },
     "execution_count": 9,
     "metadata": {},
     "output_type": "execute_result"
    }
   ],
   "source": [
    "# 求长度\n",
    "\n",
    "len(lyrics_1)"
   ]
  },
  {
   "cell_type": "code",
   "execution_count": 10,
   "metadata": {},
   "outputs": [
    {
     "data": {
      "text/plain": [
       "'说'"
      ]
     },
     "execution_count": 10,
     "metadata": {},
     "output_type": "execute_result"
    }
   ],
   "source": [
    "# 最大值\n",
    "\n",
    "max(lyrics_1)"
   ]
  },
  {
   "cell_type": "code",
   "execution_count": 11,
   "metadata": {},
   "outputs": [
    {
     "data": {
      "text/plain": [
       "'不'"
      ]
     },
     "execution_count": 11,
     "metadata": {},
     "output_type": "execute_result"
    }
   ],
   "source": [
    "# 最小值\n",
    "\n",
    "min(lyrics_1)"
   ]
  },
  {
   "cell_type": "markdown",
   "metadata": {},
   "source": [
    "<b><font color=red>思考题：</font></b>请**用代码**解释`max(lyrics_1)`和`min(lyrics_1)`的执行过程"
   ]
  },
  {
   "cell_type": "code",
   "execution_count": 12,
   "metadata": {},
   "outputs": [],
   "source": [
    "# 字符串不可变，单独赋值不行，不行，不行\n",
    "# lyrics_1[0] = '你'"
   ]
  },
  {
   "cell_type": "code",
   "execution_count": 13,
   "metadata": {},
   "outputs": [],
   "source": [
    "# 字符串不可变，切片赋值不行，不行，不行\n",
    "# lyrics_1[1:3] = '想念' "
   ]
  },
  {
   "cell_type": "markdown",
   "metadata": {},
   "source": [
    "## 3.2 字符串格式化\n",
    "\n",
    "\n",
    "### 第一种方法：使用%\n",
    "替代：用元组内的元素按照预设格式替代字符串中的内容。\n",
    "\n",
    "转换：`%s`称为转换说明符，标记了需要插入的转换值的位置。`s`表示会被格式化为字符串—如果不是字符串会自动转换为字符串。"
   ]
  },
  {
   "cell_type": "code",
   "execution_count": 14,
   "metadata": {},
   "outputs": [
    {
     "data": {
      "text/plain": [
       "'《最初的地方》由余光中作词，伍佰&杨乃文演唱'"
      ]
     },
     "execution_count": 14,
     "metadata": {},
     "output_type": "execute_result"
    }
   ],
   "source": [
    "\"《最初的地方》由%s作词，%s&%s演唱\"%('余光中','伍佰','杨乃文')"
   ]
  },
  {
   "cell_type": "code",
   "execution_count": 15,
   "metadata": {},
   "outputs": [
    {
     "data": {
      "text/plain": [
       "'《最初的地方》有  2位演唱者'"
      ]
     },
     "execution_count": 15,
     "metadata": {},
     "output_type": "execute_result"
    }
   ],
   "source": [
    "# d表示十进制整数，3表示长度为3\n",
    "\"《最初的地方》有%3d位演唱者\"%(2.76076)"
   ]
  },
  {
   "cell_type": "code",
   "execution_count": 16,
   "metadata": {},
   "outputs": [
    {
     "data": {
      "text/plain": [
       "0.08166666666666667"
      ]
     },
     "execution_count": 16,
     "metadata": {},
     "output_type": "execute_result"
    }
   ],
   "source": [
    "# 把《我怀念的》的MV时长换算成小时\n",
    "(240 + 54)/3600.0"
   ]
  },
  {
   "cell_type": "code",
   "execution_count": 17,
   "metadata": {
    "scrolled": true
   },
   "outputs": [
    {
     "data": {
      "text/plain": [
       "'歌曲《我怀念的》的MV时长为0.081667小时'"
      ]
     },
     "execution_count": 17,
     "metadata": {},
     "output_type": "execute_result"
    }
   ],
   "source": [
    "# 设置浮点数的格式时，默认在小数点后面显示6位小数\n",
    "\"歌曲《我怀念的》的MV时长为%f小时\"%(0.08166666)"
   ]
  },
  {
   "cell_type": "code",
   "execution_count": 18,
   "metadata": {},
   "outputs": [
    {
     "data": {
      "text/plain": [
       "'歌曲《我怀念的》的MV时长为0.08小时'"
      ]
     },
     "execution_count": 18,
     "metadata": {},
     "output_type": "execute_result"
    }
   ],
   "source": [
    "# 长度为4，保留两位小数\n",
    "\"歌曲《我怀念的》的MV时长为%4.2f小时\"%(0.08166666)"
   ]
  },
  {
   "cell_type": "markdown",
   "metadata": {},
   "source": [
    "除`s`之外的其他类型说明符，参见教材表3-1。"
   ]
  },
  {
   "cell_type": "markdown",
   "metadata": {},
   "source": [
    "### 第二种方法：使用`format`函数与`{}`\n",
    "\n",
    "#### 1. `{}`字段可以通过默认顺序进行替换 ：从左至由"
   ]
  },
  {
   "cell_type": "code",
   "execution_count": 19,
   "metadata": {},
   "outputs": [],
   "source": [
    "singer_info = \"{}出生于{}年，身高{}m，代表作品有《{}》\""
   ]
  },
  {
   "cell_type": "code",
   "execution_count": 20,
   "metadata": {},
   "outputs": [
    {
     "data": {
      "text/plain": [
       "'孙燕姿出生于1978年，身高1.62m，代表作品有《天黑黑》'"
      ]
     },
     "execution_count": 20,
     "metadata": {},
     "output_type": "execute_result"
    }
   ],
   "source": [
    "singer_info.format('孙燕姿', 1978, 1.62, '天黑黑')"
   ]
  },
  {
   "cell_type": "code",
   "execution_count": 21,
   "metadata": {},
   "outputs": [
    {
     "data": {
      "text/plain": [
       "'伍佰出生于1968年，身高1.75m，代表作品有《挪威的森林》'"
      ]
     },
     "execution_count": 21,
     "metadata": {},
     "output_type": "execute_result"
    }
   ],
   "source": [
    "singer_info.format('伍佰', 1968, 1.75, '挪威的森林')"
   ]
  },
  {
   "cell_type": "markdown",
   "metadata": {},
   "source": [
    "#### 2. `{}`字段可以通过手工索引进行替换 ：按照`{}`内的索引"
   ]
  },
  {
   "cell_type": "code",
   "execution_count": 22,
   "metadata": {},
   "outputs": [],
   "source": [
    "singer_info = \"{3}出生于{0}年，身高{1}m，代表作品有《{2}》\""
   ]
  },
  {
   "cell_type": "code",
   "execution_count": 23,
   "metadata": {},
   "outputs": [
    {
     "data": {
      "text/plain": [
       "'孙燕姿出生于1978年，身高1.62m，代表作品有《天黑黑》'"
      ]
     },
     "execution_count": 23,
     "metadata": {},
     "output_type": "execute_result"
    }
   ],
   "source": [
    "singer_info.format(1978, 1.62, '天黑黑', '孙燕姿')"
   ]
  },
  {
   "cell_type": "markdown",
   "metadata": {},
   "source": [
    "#### 3. `{}`字段可以按照字段名替换"
   ]
  },
  {
   "cell_type": "code",
   "execution_count": 24,
   "metadata": {},
   "outputs": [],
   "source": [
    "singer_info = \"伍佰本名{true_name}，配偶为{couple}，现隶属唱片公司{company}\""
   ]
  },
  {
   "cell_type": "code",
   "execution_count": 25,
   "metadata": {},
   "outputs": [
    {
     "data": {
      "text/plain": [
       "'伍佰本名陈文珮，配偶为吴俊霖，现隶属唱片公司环球音乐'"
      ]
     },
     "execution_count": 25,
     "metadata": {},
     "output_type": "execute_result"
    }
   ],
   "source": [
    "singer_info.format(true_name = '陈文珮', couple = '吴俊霖', company = '环球音乐')"
   ]
  },
  {
   "cell_type": "markdown",
   "metadata": {},
   "source": [
    "#### 4. {}字段名和{}字段索引可以混用, 位置参数在前，关键字参数在后"
   ]
  },
  {
   "cell_type": "code",
   "execution_count": 26,
   "metadata": {},
   "outputs": [],
   "source": [
    "singer_info = \"{name}出生于{1}年，身高{0}m，代表作品有《{song}》\""
   ]
  },
  {
   "cell_type": "code",
   "execution_count": 27,
   "metadata": {},
   "outputs": [
    {
     "data": {
      "text/plain": [
       "'孙燕姿出生于1978年，身高1.62m，代表作品有《天黑黑》'"
      ]
     },
     "execution_count": 27,
     "metadata": {},
     "output_type": "execute_result"
    }
   ],
   "source": [
    "singer_info.format(1.62, 1978, song = '天黑黑', name = '孙燕姿')"
   ]
  },
  {
   "cell_type": "code",
   "execution_count": null,
   "metadata": {},
   "outputs": [],
   "source": []
  }
 ],
 "metadata": {
  "kernelspec": {
   "display_name": "Python 3",
   "language": "python",
   "name": "python3"
  },
  "language_info": {
   "codemirror_mode": {
    "name": "ipython",
    "version": 3
   },
   "file_extension": ".py",
   "mimetype": "text/x-python",
   "name": "python",
   "nbconvert_exporter": "python",
   "pygments_lexer": "ipython3",
   "version": "3.7.1"
  }
 },
 "nbformat": 4,
 "nbformat_minor": 2
}
