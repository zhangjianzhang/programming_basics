{
 "cells": [
  {
   "cell_type": "markdown",
   "metadata": {},
   "source": [
    "## 三种基本控制结构\n",
    "\n",
    "- 顺序结构：按照书写顺序依次解释执行\n",
    "- 选择结构：按照**一个条件**去选择其中一个分支执行\n",
    "- 循环结构：满足**某些条件**时**反复执行**某些操作"
   ]
  },
  {
   "cell_type": "markdown",
   "metadata": {},
   "source": [
    "## 选择结构"
   ]
  },
  {
   "cell_type": "markdown",
   "metadata": {},
   "source": [
    "### 单选结构"
   ]
  },
  {
   "cell_type": "markdown",
   "metadata": {},
   "source": [
    "```\n",
    "if <条件>:\n",
    "    <语句块>\n",
    "```"
   ]
  },
  {
   "cell_type": "markdown",
   "metadata": {},
   "source": [
    "**语法**：通过关系运算和逻辑运算的结果（`True`或者`False`）决定是否执行语句块，当条件为真（`True`）则**执行**语句块，当条件为假（`False`）则**跳过**语句块。"
   ]
  },
  {
   "cell_type": "markdown",
   "metadata": {},
   "source": [
    "<div align=center>\n",
    "<img width=\"200\" height=\"350\" src=\"https://raw.githubusercontent.com/zhangjianzhang/programming_basics/master/files/codes/imgs/danxuan.png?raw=true\">\n",
    "\n",
    "<p><center><font><b>单选结构流程</b></font></center></p>\n",
    "</div>"
   ]
  },
  {
   "cell_type": "markdown",
   "metadata": {},
   "source": [
    "<b><font color=blue>牢记“冒号”，“缩进”，“对齐” 三原则！</font></b>"
   ]
  },
  {
   "cell_type": "markdown",
   "metadata": {},
   "source": [
    "**小栗子🌰**：要求用户输入两个数字，按照升序（小在前，大在后）将这两个数字输出。"
   ]
  },
  {
   "cell_type": "code",
   "execution_count": 1,
   "metadata": {},
   "outputs": [],
   "source": [
    "# a = int(input(\"Please input the first integer: \"))\n",
    "# b = int(input(\"Please input the second integer: \"))\n",
    "# print('Before exchange:', a, b)\n",
    "# if a > b: # 条件\n",
    "#     a, b = b, a # 语句块\n",
    "# print('After exchange:', a, b) # 单选结构外的语句"
   ]
  },
  {
   "cell_type": "markdown",
   "metadata": {},
   "source": [
    "语句`a, b = b, a`可以实现变量a和变量b数值的交换。"
   ]
  },
  {
   "cell_type": "markdown",
   "metadata": {},
   "source": [
    "<b><font color=red>思考题：</font></b>\n",
    "\n",
    "已知：`a = 1; b = 2`，请互换变量a和变量b的数值"
   ]
  },
  {
   "cell_type": "markdown",
   "metadata": {},
   "source": [
    "<b><font color=red>思考题：</font></b>\n",
    "\n",
    "已知：`a = 3; b = 9; c = 8`，请互换变量a、变量b、变量c的数值，使a、b、c按照升序（从小到大）排列。\n",
    "\n",
    "测试例子`(3, 9, 2)`, `(9, 2, 1)`"
   ]
  },
  {
   "cell_type": "code",
   "execution_count": 2,
   "metadata": {},
   "outputs": [
    {
     "name": "stdout",
     "output_type": "stream",
     "text": [
      "未通过测试\n",
      "未通过测试\n",
      "未通过测试\n",
      "未通过测试\n",
      "未通过测试\n"
     ]
    }
   ],
   "source": [
    "items = [2, 5, 7]\n",
    "from itertools import permutations\n",
    "\n",
    "test_cases = [case for case in permutations(items)]\n",
    "\n",
    "for case in test_cases:\n",
    "    a, b, c = case\n",
    "    \n",
    "    # 此处写答案\n",
    "    \n",
    "    if [a, b, c] != [2, 5, 7]:\n",
    "        print('未通过测试')"
   ]
  },
  {
   "cell_type": "markdown",
   "metadata": {},
   "source": [
    "### 双选结构"
   ]
  },
  {
   "cell_type": "markdown",
   "metadata": {},
   "source": [
    "```python\n",
    "if <条件>:\n",
    "   <语句块1>\n",
    "else:\n",
    "   <语句块2>\n",
    "```"
   ]
  },
  {
   "cell_type": "markdown",
   "metadata": {},
   "source": [
    "**语法**：当条件为真（True）时执行语句块1，否则执行语句块2。"
   ]
  },
  {
   "cell_type": "markdown",
   "metadata": {},
   "source": [
    "<div align=center>\n",
    "<img width=\"300\" height=\"550\" src=\"https://raw.githubusercontent.com/zhangjianzhang/programming_basics/master/files/codes/imgs/shuangxuan.png?raw=true\">\n",
    "\n",
    "<p><center><font><b>双选结构流程</b></font></center></p>\n",
    "</div>"
   ]
  },
  {
   "cell_type": "markdown",
   "metadata": {},
   "source": [
    "**小栗子🌰**：要求用户输入一个数字，判断该数字的奇偶性。"
   ]
  },
  {
   "cell_type": "code",
   "execution_count": 3,
   "metadata": {},
   "outputs": [],
   "source": [
    "# number = int(input(\"Please input an integer: \"))\n",
    "# if number % 2 == 0: # 条件\n",
    "#     print('{} is even'.format(number)) # 语句块1\n",
    "# else:\n",
    "#     print('{} is odd'.format(number)) # 语句块2"
   ]
  },
  {
   "cell_type": "markdown",
   "metadata": {},
   "source": [
    "### 多选结构"
   ]
  },
  {
   "cell_type": "markdown",
   "metadata": {},
   "source": [
    "```python\n",
    "if <条件1>:\n",
    "   <语句块1>\n",
    "elif <条件2>:\n",
    "   <语句块2>\n",
    "elif <条件3>:\n",
    "   <语句块3>\n",
    "   ......\n",
    "   ......\n",
    "elif <条件n-1>:\n",
    "   <语句块n-1> \n",
    "else:\n",
    "   <语句块n>\n",
    "```"
   ]
  },
  {
   "cell_type": "markdown",
   "metadata": {},
   "source": [
    "**语法**：当**条件1为真**则执行**语句块1**，当**条件2为真**则执行**语句块2**，......，当**前n-1个条件都假**则执行**语句块n**。"
   ]
  },
  {
   "cell_type": "markdown",
   "metadata": {},
   "source": [
    "<div align=center>\n",
    "<img width=\"650\" height=\"550\" src=\"https://raw.githubusercontent.com/zhangjianzhang/programming_basics/master/files/codes/imgs/duoxuan.png?raw=true\">\n",
    "\n",
    "<p><center><font><b>多选结构流程</b></font></center></p>\n",
    "</div>"
   ]
  },
  {
   "cell_type": "markdown",
   "metadata": {},
   "source": [
    "**小栗子🌰**：将百分制的成绩转换成绩点`{[90~100] : 4, [80~90) : 3, [70~80) : 2, [60~70) : 1, [0~60) : 0}`"
   ]
  },
  {
   "cell_type": "code",
   "execution_count": 4,
   "metadata": {},
   "outputs": [],
   "source": [
    "# score = float(input(\"Please input your score: \"))\n",
    "# if score < 0.0 or score > 100.0:\n",
    "#     gpa = -1\n",
    "# elif score >= 90:\n",
    "#     gpa = 4\n",
    "# elif score >= 80:\n",
    "#     gpa = 3\n",
    "# elif score >= 70:\n",
    "#     gpa = 2\n",
    "# elif score >= 60:\n",
    "#     gpa = 1\n",
    "# else:\n",
    "#     gpa\n",
    "# print(\"Your GPA is {}\".format(gpa))"
   ]
  },
  {
   "cell_type": "code",
   "execution_count": 5,
   "metadata": {},
   "outputs": [],
   "source": [
    "# salary = int(input('输入你工资：'))\n",
    "# if salary >= 30000:\n",
    "#     print('有钱任性')\n",
    "# elif salary >= 20000:\n",
    "#     print('有钱真好')\n",
    "# elif salary >= 10000:\n",
    "#     print('哥也月薪过万了')\n",
    "# elif salary >= 5000:\n",
    "#     print('工资还过的去')\n",
    "# elif salary >= 2000:\n",
    "#     print('活不了了')\n",
    "# else:\n",
    "#     print('吃土吧！')"
   ]
  },
  {
   "cell_type": "markdown",
   "metadata": {},
   "source": [
    "### 选择结构的嵌套"
   ]
  },
  {
   "cell_type": "markdown",
   "metadata": {},
   "source": [
    "```python\n",
    "if <条件>:\n",
    "   if <条件>:\n",
    "      <语句1>\n",
    "   elif <条件>:\n",
    "      <语句2>\n",
    "else:\n",
    "   <语句3>\n",
    "```"
   ]
  },
  {
   "cell_type": "markdown",
   "metadata": {},
   "source": [
    "在**选择结构**的**语句块**中包含**另一个选择结构**。"
   ]
  },
  {
   "cell_type": "markdown",
   "metadata": {},
   "source": [
    " `if`、`if else`和`if elif else`，这3种条件语句之间可以**相互嵌套**。在开发程序时，需要根据场景需要，选择合适的嵌套方案，在相互嵌套时，一定要**严格遵守**不同级别代码块的**缩进规范**。"
   ]
  },
  {
   "cell_type": "markdown",
   "metadata": {},
   "source": [
    "**小栗子🌰**：如果规定，车辆驾驶员的血液酒精含量小于20mg/100ml不构成酒驾；酒精含量大于或等于20mg/100ml为酒驾；酒精含量大于或等于 80mg/100ml 为醉驾。编写Python程序判断是否为酒后驾车。"
   ]
  },
  {
   "cell_type": "code",
   "execution_count": 6,
   "metadata": {},
   "outputs": [],
   "source": [
    "# amount = int(input(\"输入驾驶员每100ml血液酒精的含量(mg)：\"))\n",
    "# if amount < 20:\n",
    "#     print(\"驾驶员不构成酒驾\")\n",
    "# else:\n",
    "#     if amount < 80:\n",
    "#         print(\"驾驶员已构成酒驾\")\n",
    "#     else:\n",
    "#         print(\"驾驶员已构成醉驾\")"
   ]
  },
  {
   "cell_type": "markdown",
   "metadata": {},
   "source": [
    "**小栗子🌰**：用户输入三角形的边长，判断能否组成三角形；如果能够组成三角形则输出三角形的面积，并判断三角形满足哪个类型（直角，钝角，锐角三角形）。"
   ]
  },
  {
   "cell_type": "markdown",
   "metadata": {},
   "source": [
    "<div align=center>\n",
    "<img width=\"350\" height=\"250\" src=\"https://raw.githubusercontent.com/zhangjianzhang/programming_basics/master/files/codes/imgs/hailun.jpg?raw=true\">\n",
    "</div>"
   ]
  },
  {
   "cell_type": "markdown",
   "metadata": {},
   "source": [
    "<div align=center>\n",
    "<img width=\"250\" height=\"350\" src=\"https://raw.githubusercontent.com/zhangjianzhang/programming_basics/master/files/codes/imgs/cos_theorem.png?raw=true\">\n",
    "\n",
    "<p><center><font><b>余弦定理</b></font></center></p>\n",
    "</div>"
   ]
  },
  {
   "cell_type": "markdown",
   "metadata": {},
   "source": [
    "<div align=center>\n",
    "<img width=\"550\" height=\"350\" src=\"https://raw.githubusercontent.com/zhangjianzhang/programming_basics/master/files/codes/imgs/cosine-graph.gif?raw=true\">\n",
    "\n",
    "<p><center><font><b>余弦图像</b></font></center></p>\n",
    "</div>"
   ]
  },
  {
   "cell_type": "code",
   "execution_count": 7,
   "metadata": {},
   "outputs": [],
   "source": [
    "a = 3; b = 12; c = 10"
   ]
  },
  {
   "cell_type": "code",
   "execution_count": 8,
   "metadata": {},
   "outputs": [],
   "source": [
    "# 将三个边的长度按照升序排列---方法1\n",
    "a,b,c = sorted([a,b,c])"
   ]
  },
  {
   "cell_type": "code",
   "execution_count": 9,
   "metadata": {},
   "outputs": [
    {
     "name": "stdout",
     "output_type": "stream",
     "text": [
      "3 10 12\n"
     ]
    }
   ],
   "source": [
    "print(a,b,c)"
   ]
  },
  {
   "cell_type": "code",
   "execution_count": 10,
   "metadata": {},
   "outputs": [
    {
     "name": "stdout",
     "output_type": "stream",
     "text": [
      "3 10 12\n"
     ]
    }
   ],
   "source": [
    "# 将三个边的长度按照升序排列---方法2\n",
    "\n",
    "# 结果是a<b\n",
    "if a > b:\n",
    "    a, b = b, a\n",
    "    \n",
    "# 结果是a<c\n",
    "if a > c:\n",
    "    a, c = c, a\n",
    "\n",
    "# 结果是b<c\n",
    "if b > c:\n",
    "    b, c = c, b\n",
    "\n",
    "# 最终结果为a<b<c\n",
    "\n",
    "print(a,b,c)"
   ]
  },
  {
   "cell_type": "code",
   "execution_count": 11,
   "metadata": {},
   "outputs": [
    {
     "name": "stdout",
     "output_type": "stream",
     "text": [
      "The area of triangle is 12.18\n",
      "Obtuse triangle\n"
     ]
    }
   ],
   "source": [
    "# 任意两边之和大于第三边（a<b<c），因此构成三角形\n",
    "if a > 0 and (a + b) > c:\n",
    "    # 下面用海伦公式用三边求三角形面积\n",
    "    s = (a + b + c)/2\n",
    "    area = float((s*(s-a)*(s-b)*(s-c))**(1/2))\n",
    "    print(\"The area of triangle is {:.2f}\".format(area))\n",
    "    # 根据“同一个三角形内，长边对大角”，以及余弦定理，计算最大角的余弦值\n",
    "    cos_C = (a**2 + b**2 - c**2)/(2*a*b)\n",
    "    if cos_C == 0:\n",
    "        print(\"Right triangle\") # 直角\n",
    "    elif cos_C < 0:\n",
    "        print(\"Obtuse triangle\") # 钝角\n",
    "    else:\n",
    "        print(\"Acute triangle\") # 锐角\n",
    "else:\n",
    "    print(\"Invalid lengths\")"
   ]
  },
  {
   "cell_type": "markdown",
   "metadata": {},
   "source": [
    "<b><font color=red>思考题：</font></b>\n",
    "\n",
    "编程实现以下所得税计算流程\n",
    "<div align=center>\n",
    "<img width=\"450\" height=\"750\" src=\"https://raw.githubusercontent.com/zhangjianzhang/programming_basics/master/files/codes/imgs/text_exercise.png?raw=true\">\n",
    "\n",
    "<p><center><font><b>所得税计算流程</b></font></center></p>\n",
    "</div>"
   ]
  },
  {
   "cell_type": "markdown",
   "metadata": {},
   "source": [
    "## 循环结构\n",
    "\n",
    "循环结构是控制**一个语句块重复执行**的结构。\n",
    "\n",
    "`while`循环：通过**条件真假**来控制循环；\n",
    "\n",
    "`for`循环 ：将循环内的语句块重复执行**特定次数**来控制循环。"
   ]
  },
  {
   "cell_type": "markdown",
   "metadata": {},
   "source": [
    "### While循环"
   ]
  },
  {
   "cell_type": "markdown",
   "metadata": {},
   "source": [
    "Python 中 while 语句的一般形式：\n",
    "\n",
    "```python\n",
    "while 判断条件(condition)：\n",
    "    执行语句(statements)……\n",
    "```"
   ]
  },
  {
   "cell_type": "markdown",
   "metadata": {},
   "source": [
    "<div align=center>\n",
    "<img width=\"450\" height=\"650\" src=\"https://raw.githubusercontent.com/zhangjianzhang/programming_basics/master/files/codes/imgs/while.jpg?raw=true\">\n",
    "\n",
    "<p><center><font><b>while循环执行流程图</b></font></center></p>\n",
    "</div>"
   ]
  },
  {
   "cell_type": "code",
   "execution_count": 12,
   "metadata": {},
   "outputs": [
    {
     "name": "stdout",
     "output_type": "stream",
     "text": [
      "1\n",
      "3\n",
      "5\n",
      "7\n",
      "9\n",
      "我就是与while对齐的后续代码^_^\n"
     ]
    }
   ],
   "source": [
    "a = 1\n",
    "while a < 10:\n",
    "    print(a)\n",
    "    a += 2\n",
    "print('我就是与while对齐的后续代码^_^')"
   ]
  },
  {
   "cell_type": "markdown",
   "metadata": {},
   "source": [
    "<div align=center>\n",
    "<img width=\"450\" height=\"450\" src=\"https://raw.githubusercontent.com/zhangjianzhang/programming_basics/master/files/codes/imgs/while.gif?raw=true\">\n",
    "\n",
    "<p><center><font><b>上述代码的执行过程</b></font></center></p>\n",
    "</div>"
   ]
  },
  {
   "cell_type": "markdown",
   "metadata": {},
   "source": [
    "**语法**：`while`为关键字，后边的表达式将返回一个**布尔值**或返回**能转换为布尔值**的对象。程序首先计算该表达式的值，如果表达式返回`True`，则执行语句块，然后程序**跳转回**while语句的第一行**重新计算表达式**的值，直到表达式返回`False`时跳出while循环，执行后面的语句。语句体每执行一次被称为这个循环的一次迭代。"
   ]
  },
  {
   "cell_type": "markdown",
   "metadata": {},
   "source": [
    "**小栗子🌰**：打印1~10的所有整数"
   ]
  },
  {
   "cell_type": "code",
   "execution_count": 13,
   "metadata": {},
   "outputs": [
    {
     "name": "stdout",
     "output_type": "stream",
     "text": [
      "1\n",
      "2\n",
      "3\n",
      "4\n",
      "5\n",
      "6\n",
      "7\n",
      "8\n",
      "9\n",
      "10\n"
     ]
    }
   ],
   "source": [
    "number = 1\n",
    "while number < 11:\n",
    "    print(number)\n",
    "    number += 1"
   ]
  },
  {
   "cell_type": "markdown",
   "metadata": {},
   "source": [
    "**小栗子🌰**：计算1+2+3+…+98+99+100"
   ]
  },
  {
   "cell_type": "code",
   "execution_count": 14,
   "metadata": {},
   "outputs": [
    {
     "name": "stdout",
     "output_type": "stream",
     "text": [
      "5050\n"
     ]
    }
   ],
   "source": [
    "sum = 0\n",
    "number = 1\n",
    "while number < 101:\n",
    "    sum += number\n",
    "    number += 1\n",
    "print(sum)"
   ]
  },
  {
   "cell_type": "markdown",
   "metadata": {},
   "source": [
    "### for循环"
   ]
  },
  {
   "cell_type": "markdown",
   "metadata": {},
   "source": [
    "Python`for`循环可以遍历任何**可迭代对象**，如一个列表或者一个字符串。\n",
    "\n",
    "`for`循环的一般格式如下：\n",
    "\n",
    "```python\n",
    "for <variable> in <sequence>:\n",
    "    <statements>\n",
    "else:\n",
    "    <statements>\n",
    "```"
   ]
  },
  {
   "cell_type": "markdown",
   "metadata": {},
   "source": [
    "- 计数器循环，使用一个**控制变量**统计执行次数的循环（可改写为`range函数`的形式）\n",
    "\n",
    "- 遍历循环，`for 变量 in 序列:语句块`；\n",
    "\n",
    "- `range`函数创建范围区间，`for i in range(initial_value, end_value):语句块`\n"
   ]
  },
  {
   "cell_type": "markdown",
   "metadata": {},
   "source": [
    "<div align=center>\n",
    "<img width=\"450\" height=\"650\" src=\"https://raw.githubusercontent.com/zhangjianzhang/programming_basics/master/files/codes/imgs/for.jpg?raw=true\">\n",
    "\n",
    "<p><center><font><b>for循环执行流程图</b></font></center></p>\n",
    "</div>"
   ]
  },
  {
   "cell_type": "code",
   "execution_count": 15,
   "metadata": {},
   "outputs": [
    {
     "data": {
      "text/plain": [
       "range(1, 4)"
      ]
     },
     "execution_count": 15,
     "metadata": {},
     "output_type": "execute_result"
    }
   ],
   "source": [
    "range(1,4)"
   ]
  },
  {
   "cell_type": "code",
   "execution_count": 16,
   "metadata": {},
   "outputs": [
    {
     "data": {
      "text/plain": [
       "range"
      ]
     },
     "execution_count": 16,
     "metadata": {},
     "output_type": "execute_result"
    }
   ],
   "source": [
    "type(range(1,4))"
   ]
  },
  {
   "cell_type": "code",
   "execution_count": 17,
   "metadata": {},
   "outputs": [
    {
     "data": {
      "text/plain": [
       "[1, 2, 3]"
      ]
     },
     "execution_count": 17,
     "metadata": {},
     "output_type": "execute_result"
    }
   ],
   "source": [
    "list(range(1,4))"
   ]
  },
  {
   "cell_type": "code",
   "execution_count": 18,
   "metadata": {},
   "outputs": [],
   "source": [
    "r = range(1,1000)"
   ]
  },
  {
   "cell_type": "code",
   "execution_count": 19,
   "metadata": {},
   "outputs": [],
   "source": [
    "l = list(range(1,1000))"
   ]
  },
  {
   "cell_type": "code",
   "execution_count": 20,
   "metadata": {},
   "outputs": [],
   "source": [
    "import sys"
   ]
  },
  {
   "cell_type": "code",
   "execution_count": 21,
   "metadata": {},
   "outputs": [
    {
     "data": {
      "text/plain": [
       "48"
      ]
     },
     "execution_count": 21,
     "metadata": {},
     "output_type": "execute_result"
    }
   ],
   "source": [
    "sys.getsizeof(r)"
   ]
  },
  {
   "cell_type": "code",
   "execution_count": 22,
   "metadata": {
    "scrolled": true
   },
   "outputs": [
    {
     "data": {
      "text/plain": [
       "8048"
      ]
     },
     "execution_count": 22,
     "metadata": {},
     "output_type": "execute_result"
    }
   ],
   "source": [
    "sys.getsizeof(l)"
   ]
  },
  {
   "cell_type": "code",
   "execution_count": 23,
   "metadata": {},
   "outputs": [
    {
     "name": "stdout",
     "output_type": "stream",
     "text": [
      "0\n",
      "3\n",
      "6\n",
      "9\n"
     ]
    }
   ],
   "source": [
    "# 除了指定初始值和结束值，还可以指定步长\n",
    "for i in range(0, 10, 3) :\n",
    "    print(i)"
   ]
  },
  {
   "cell_type": "code",
   "execution_count": 24,
   "metadata": {},
   "outputs": [
    {
     "name": "stdout",
     "output_type": "stream",
     "text": [
      "-10\n",
      "-40\n",
      "-70\n"
     ]
    }
   ],
   "source": [
    "# start > end，step为负数，从右往左取数\n",
    "for i in range(-10, -100, -30) :\n",
    "    print(i)"
   ]
  },
  {
   "cell_type": "markdown",
   "metadata": {},
   "source": [
    "<b><font color=blue>注意：</font></b>Python3 `range()`函数返回的是一个可迭代对象，而不是列表，所以打印的时候不会打印列表。Python3 `list()`函数是对象迭代器，可以把`range()`返回的可迭代对象转为一个列表，返回的变量类型为列表。"
   ]
  },
  {
   "cell_type": "markdown",
   "metadata": {},
   "source": [
    "**小栗子🌰**：打印1~10的所有整数"
   ]
  },
  {
   "cell_type": "code",
   "execution_count": 25,
   "metadata": {},
   "outputs": [
    {
     "name": "stdout",
     "output_type": "stream",
     "text": [
      "1\n",
      "2\n",
      "3\n",
      "4\n",
      "5\n",
      "6\n",
      "7\n",
      "8\n",
      "9\n",
      "10\n"
     ]
    }
   ],
   "source": [
    "for i in range(1,11):\n",
    "    print(i)"
   ]
  },
  {
   "cell_type": "markdown",
   "metadata": {},
   "source": [
    "**小栗子🌰**：计算1+2+3+…+98+99+100"
   ]
  },
  {
   "cell_type": "code",
   "execution_count": 26,
   "metadata": {},
   "outputs": [
    {
     "name": "stdout",
     "output_type": "stream",
     "text": [
      "5050\n"
     ]
    }
   ],
   "source": [
    "sum = 0\n",
    "for i in range(101):\n",
    "    sum += i\n",
    "print(sum)"
   ]
  },
  {
   "cell_type": "markdown",
   "metadata": {},
   "source": [
    "<b><font color=red>思考题：</font></b>计算1~1000范围内3的倍数和7的倍数的数字之和"
   ]
  },
  {
   "cell_type": "markdown",
   "metadata": {},
   "source": [
    "<b><font color=red>思考题：</font></b>水仙花数是一个3位数，它的每个位上的数字的3次幂之和等于它本身(如: $1^3 + 5^3+ 3^3 = 153$)。求所有水仙花数"
   ]
  },
  {
   "cell_type": "markdown",
   "metadata": {},
   "source": [
    "## `break`，`continue`，`pass`，嵌套"
   ]
  },
  {
   "cell_type": "markdown",
   "metadata": {},
   "source": [
    "- `break`，只能出现在**`while`循环或`for`循环**中。当程序执行到break语句时，将**跳出**整个循环结构而继续执行后面的语句；\n",
    "\n",
    "- `continue`，只能出现在**`while`循环或`for`循环**中。当程序执行到`continue`语句时，将立即**终止当前**迭代，**开始下一次**迭代；\n",
    "\n",
    "- `pass`，什么都不做，保证代码格式的规范和完整性。"
   ]
  },
  {
   "cell_type": "markdown",
   "metadata": {},
   "source": [
    "**循环结构的嵌套**\n",
    "\n",
    "嵌套的含义是在循环结构中的语句块中仍然有循环。当break语句和continue语句出现在嵌套的循环结构中时，将只作用于最内层循环。\n",
    "\n",
    "需要注意的是，循环嵌套所进行的指令数量是乘法上升的，这也意味着计算机运行该程序的时间也是乘法上升的。"
   ]
  },
  {
   "cell_type": "markdown",
   "metadata": {},
   "source": [
    "<div align=center>\n",
    "<img width=\"450\" height=\"650\" src=\"https://raw.githubusercontent.com/zhangjianzhang/programming_basics/master/files/codes/imgs/break.jpg?raw=true\">\n",
    "\n",
    "<p><center><font><b>break示意图</b></font></center></p>\n",
    "</div>"
   ]
  },
  {
   "cell_type": "markdown",
   "metadata": {},
   "source": [
    "<div align=center>\n",
    "<img width=\"450\" height=\"650\" src=\"https://raw.githubusercontent.com/zhangjianzhang/programming_basics/master/files/codes/imgs/continue.jpg?raw=true\">\n",
    "\n",
    "<p><center><font><b>continue示意图</b></font></center></p>\n",
    "</div>"
   ]
  },
  {
   "cell_type": "markdown",
   "metadata": {},
   "source": [
    "<div align=center>\n",
    "<img width=\"450\" height=\"650\" src=\"https://raw.githubusercontent.com/zhangjianzhang/programming_basics/master/files/codes/imgs/for-continue.png?raw=true\">\n",
    "\n",
    "<p><center><font><b>for-break-continue示例</b></font></center></p>\n",
    "</div>"
   ]
  },
  {
   "cell_type": "markdown",
   "metadata": {},
   "source": [
    "<div align=center>\n",
    "<img width=\"350\" height=\"550\" src=\"https://raw.githubusercontent.com/zhangjianzhang/programming_basics/master/files/codes/imgs/while-break.webp\">\n",
    "\n",
    "<p><center><font><b>while-break-continue示例</b></font></center></p>\n",
    "</div>"
   ]
  },
  {
   "cell_type": "markdown",
   "metadata": {},
   "source": [
    "**小栗子🌰**：求最大公约数（够整除多个整数的最大正整数，而多个整数不能都为零）"
   ]
  },
  {
   "cell_type": "code",
   "execution_count": 27,
   "metadata": {},
   "outputs": [],
   "source": [
    "a = 9 # 54\n",
    "b = 28 # 24"
   ]
  },
  {
   "cell_type": "code",
   "execution_count": 28,
   "metadata": {},
   "outputs": [],
   "source": [
    "# 也可以使用min(a,b)\n",
    "if a > b:\n",
    "    a,b = b,a"
   ]
  },
  {
   "cell_type": "code",
   "execution_count": 29,
   "metadata": {},
   "outputs": [
    {
     "name": "stdout",
     "output_type": "stream",
     "text": [
      "9和28是互素数\n"
     ]
    }
   ],
   "source": [
    "for i in range(a, 1,-1):\n",
    "    if a%i == 0 and b%i == 0:\n",
    "        print(\"{}和{}的最大公约数是{}\".format(a,b,i))\n",
    "        break\n",
    "else:\n",
    "    print(\"{}和{}是互素数\".format(a,b))"
   ]
  },
  {
   "cell_type": "markdown",
   "metadata": {},
   "source": [
    "**小栗子🌰**：密码登陆，只有3次机会"
   ]
  },
  {
   "cell_type": "code",
   "execution_count": 30,
   "metadata": {},
   "outputs": [],
   "source": [
    "# PASSWORD=\"123456\"\n",
    "# max_times = 3\n",
    "# flag = False\n",
    "# for i in range(3):\n",
    "#     pwd = input(\"Please input the password: \")\n",
    "#     if pwd == PASSWORD:\n",
    "#         flag = True\n",
    "#         break\n",
    "#     else:\n",
    "#         print(\"Come on baby, try again, {} times left.\".format(max_times - i - 1))\n",
    "# if flag:\n",
    "#     print(\"Great, Baby!\")\n",
    "# else:\n",
    "#     print(\"Sorry, Baby, See you again\")"
   ]
  },
  {
   "cell_type": "markdown",
   "metadata": {},
   "source": [
    "<b><font color=red>思考题：</font></b>使用`while`循环实现上面小栗子。"
   ]
  },
  {
   "cell_type": "markdown",
   "metadata": {},
   "source": [
    "**小栗子🌰**：1-100间不是7的倍数的数字之和"
   ]
  },
  {
   "cell_type": "code",
   "execution_count": 31,
   "metadata": {},
   "outputs": [
    {
     "name": "stdout",
     "output_type": "stream",
     "text": [
      "4315\n"
     ]
    }
   ],
   "source": [
    "sum = 0\n",
    "for i in range(1, 101):\n",
    "    if i%7 == 0:\n",
    "        continue\n",
    "    else:\n",
    "        sum += i\n",
    "print(sum)"
   ]
  },
  {
   "cell_type": "markdown",
   "metadata": {},
   "source": [
    "<b><font color=red>思考题：</font></b>下面代码的执行结果是什么。\n",
    "\n",
    "```python\n",
    "i = 0\n",
    "sum = 0\n",
    "while i < 5:\n",
    "    i += 1\n",
    "    if i == 3:\n",
    "        continue\n",
    "    sum += i\n",
    "print(sum)\n",
    "```"
   ]
  },
  {
   "cell_type": "markdown",
   "metadata": {},
   "source": [
    "小栗子🌰：输出字符串中的每个字符，h除外"
   ]
  },
  {
   "cell_type": "code",
   "execution_count": 32,
   "metadata": {},
   "outputs": [
    {
     "name": "stdout",
     "output_type": "stream",
     "text": [
      "Current letter is P\n",
      "Current letter is y\n",
      "Current letter is t\n",
      "Current letter is o\n",
      "Current letter is n\n"
     ]
    }
   ],
   "source": [
    "for letter in 'Python':\n",
    "    if letter == 'h':\n",
    "        pass\n",
    "    else:\n",
    "        print('Current letter is {}'.format(letter))"
   ]
  },
  {
   "cell_type": "markdown",
   "metadata": {},
   "source": [
    "## 循环与else子句的搭配"
   ]
  },
  {
   "cell_type": "markdown",
   "metadata": {},
   "source": [
    "在循环未经`break`打断的情况下，整个循环完成时执行`else`子句下的语句块，但循环被`break`终止时不执行。"
   ]
  },
  {
   "cell_type": "markdown",
   "metadata": {},
   "source": [
    "小栗子🌰：找出`[2, 100]`中的素数\n",
    "\n",
    "素数，指在大于1的自然数中，除了1和该数自身外，无法被其他自然数整除的数"
   ]
  },
  {
   "cell_type": "code",
   "execution_count": 33,
   "metadata": {},
   "outputs": [
    {
     "name": "stdout",
     "output_type": "stream",
     "text": [
      "2  是素数\n",
      "3  是素数\n",
      "5  是素数\n",
      "7  是素数\n",
      "11  是素数\n",
      "13  是素数\n",
      "17  是素数\n",
      "19  是素数\n",
      "23  是素数\n",
      "29  是素数\n",
      "31  是素数\n",
      "37  是素数\n",
      "41  是素数\n",
      "43  是素数\n",
      "47  是素数\n",
      "53  是素数\n",
      "59  是素数\n",
      "61  是素数\n",
      "67  是素数\n",
      "71  是素数\n",
      "73  是素数\n",
      "79  是素数\n",
      "83  是素数\n",
      "89  是素数\n",
      "97  是素数\n"
     ]
    }
   ],
   "source": [
    "for i in range(2, 100):\n",
    "    for j in range(2, i):\n",
    "        if i % j == 0:\n",
    "            break\n",
    "    else:\n",
    "        print(i, ' 是素数')"
   ]
  },
  {
   "cell_type": "code",
   "execution_count": 34,
   "metadata": {},
   "outputs": [
    {
     "name": "stdout",
     "output_type": "stream",
     "text": [
      "0  小于 5\n",
      "1  小于 5\n",
      "2  小于 5\n",
      "3  小于 5\n",
      "4  小于 5\n",
      "5  大于或等于 5\n"
     ]
    }
   ],
   "source": [
    "# 在循环未经break打断的情况下，整个循环完成时执行else子句下的语句块\n",
    "count = 0\n",
    "while count < 5:\n",
    "    print (count, \" 小于 5\")\n",
    "    count = count + 1\n",
    "else:\n",
    "    print (count, \" 大于或等于 5\")"
   ]
  },
  {
   "cell_type": "code",
   "execution_count": 35,
   "metadata": {},
   "outputs": [
    {
     "name": "stdout",
     "output_type": "stream",
     "text": [
      "0  小于 5\n",
      "1  小于 5\n",
      "2  小于 5\n"
     ]
    }
   ],
   "source": [
    "# 但循环被break终止时不执行else字句\n",
    "count = 0\n",
    "while count < 5:\n",
    "    print (count, \" 小于 5\")\n",
    "    count = count + 1\n",
    "    if count == 3:\n",
    "        break\n",
    "else:\n",
    "    print (count, \" 大于或等于 5\")"
   ]
  },
  {
   "cell_type": "markdown",
   "metadata": {},
   "source": [
    "## 课堂实训与课后练习"
   ]
  },
  {
   "cell_type": "markdown",
   "metadata": {},
   "source": [
    "<b><font color=red>思考题：</font></b>输出九九乘法表，如下。\n",
    "\n",
    "提示：`print()`函数`end`关键字参数默认为`\\n`，修改为`\\t`"
   ]
  },
  {
   "cell_type": "markdown",
   "metadata": {},
   "source": [
    "<div align=center>\n",
    "<img width=\"750\" height=\"250\" src=\"https://raw.githubusercontent.com/zhangjianzhang/programming_basics/master/files/codes/imgs/chengfa.jpg?raw=true\">\n",
    "\n",
    "<p><center><font><b>九九乘法表</b></font></center></p>\n",
    "</div>"
   ]
  },
  {
   "cell_type": "markdown",
   "metadata": {},
   "source": [
    "<b><font color=red>思考题：</font></b>输出高度为10（行）的等边三角形，如下。"
   ]
  },
  {
   "cell_type": "markdown",
   "metadata": {},
   "source": [
    "3<div align=center>\n",
    "<img width=\"250\" height=\"250\" src=\"https://raw.githubusercontent.com/zhangjianzhang/programming_basics/master/files/codes/imgs/dengbian.jpg?raw=true\">\n",
    "\n",
    "<p><center><font><b>等边三角形</b></font></center></p>\n",
    "</div>"
   ]
  },
  {
   "cell_type": "markdown",
   "metadata": {},
   "source": [
    "<b><font color=red>思考题：</font></b>计算圆周率pi的近似值（蒙特卡罗法）"
   ]
  },
  {
   "cell_type": "markdown",
   "metadata": {},
   "source": [
    "**蒙特卡罗方法**是指用随机数通过求解概率而获得近似值的方法，圆周率也可通过此法求解。"
   ]
  },
  {
   "cell_type": "markdown",
   "metadata": {},
   "source": [
    "<div align=center>\n",
    "<img width=\"450\" height=\"450\" src=\"https://raw.githubusercontent.com/zhangjianzhang/programming_basics/master/files/codes/imgs/circle.jpg?raw=true\">\n",
    "\n",
    "<p><center><font><b>圆</b></font></center></p>\n",
    "</div>"
   ]
  },
  {
   "cell_type": "markdown",
   "metadata": {},
   "source": [
    "假设有一个圆，\n",
    "\n",
    "半径： $r$\n",
    "\n",
    "圆的面积： $S_{circle} = \\pi r^2$\n",
    "\n",
    "外接正方形的面积： $S_{square} = {(2r)}^2 = 4r^{2}$ \n",
    "\n",
    "那么，对外接正方形里的任一一个点，它落在圆里的概率为：\n",
    "\n",
    "\\begin{equation}\n",
    "P(in \\ circle) = \\frac{\\;S_{circle}\\;}{\\;S_{square}\\;} = \\frac{\\pi}{4}\n",
    "\\end{equation}"
   ]
  },
  {
   "cell_type": "markdown",
   "metadata": {},
   "source": [
    "通过上述公式，转换得：\n",
    "\n",
    "\\begin{equation}\n",
    "\\pi = 4 \\times P(in \\ circle) \\approx 4 \\times \\frac{m}{n}\n",
    "\\end{equation}"
   ]
  },
  {
   "cell_type": "markdown",
   "metadata": {},
   "source": [
    "其中，\n",
    "\n",
    "$m$表示落在圆内的点的个数；\n",
    "\n",
    "$n$表示从外接正方形中采样的点的个数\n",
    "\n",
    "使用频率近似概率，从外接正方形中采样$n$次，其中有$m$次，点落在了圆内。\n",
    "\n",
    "判断点是否落在圆内，可通过如下公式：\n",
    "\n",
    "\\begin{equation*}\n",
    "(x-x_{0})^2 + (y - y_{0})^2 <= r^2, (x_{0}, y_{0})\\text{为圆心坐标}\n",
    "\\end{equation*}\n",
    "\n",
    "\n",
    "下面进行实验时，我们设定$r = 1$，圆心坐标为(0, 0)"
   ]
  },
  {
   "cell_type": "code",
   "execution_count": 36,
   "metadata": {},
   "outputs": [
    {
     "name": "stdout",
     "output_type": "stream",
     "text": [
      "math.pi is                     3.14159265\n",
      "The estimated one is           3.14344800\n"
     ]
    }
   ],
   "source": [
    "import math\n",
    "import random\n",
    "hit = 0 # 点落在圆内的次数\n",
    "number_of_trials = 1000000 # 实验次数\n",
    "for i in range(number_of_trials):\n",
    "    # 从外接正方形中随机选择一个点\n",
    "    x = random.uniform(-1.0,1.0) # 按照均匀分布取横坐标值\n",
    "    y = random.uniform(-1.0,1.0) # 按照均匀分布取纵坐标值\n",
    "    # 如果点落在圆内，增加一次计数\n",
    "    if x**2 + y**2 <= 1:\n",
    "        hit += 1\n",
    "print('math.pi is {:>30.8f}'.format(math.pi))\n",
    "print('The estimated one is {:>20.8f}'.format(4*(hit/number_of_trials)))"
   ]
  },
  {
   "cell_type": "markdown",
   "metadata": {},
   "source": [
    "<b><font color=red>思考题：</font></b>微积分：用微元法计算$f(x)=x^2$ 从0到1的积分，即$\\int_{0}^{1} x^2 dx$。\n",
    "\n",
    "将图中曲线下面的部分看做多个小矩形的面积之和（即，分割、近似、求和）"
   ]
  },
  {
   "cell_type": "markdown",
   "metadata": {},
   "source": [
    "<div align=center>\n",
    "<img width=\"450\" height=\"450\" src=\"https://raw.githubusercontent.com/zhangjianzhang/programming_basics/master/files/codes/imgs/integral.png?raw=true\">\n",
    "\n",
    "<p><center><font><b>微元法</b></font></center></p>\n",
    "</div>"
   ]
  },
  {
   "cell_type": "code",
   "execution_count": 40,
   "metadata": {},
   "outputs": [
    {
     "name": "stdout",
     "output_type": "stream",
     "text": [
      "0.3333338333334962\n"
     ]
    }
   ],
   "source": [
    "import math\n",
    "\n",
    "N = 1000000 # 分割为1000000个小矩形\n",
    "\n",
    "sum_of_area = 0\n",
    "i = 1\n",
    "while i <= N:\n",
    "    small_area =  (1/N) * (i/N)**2 # 宽×高，求小面积\n",
    "    sum_of_area += small_area # 小面积累加\n",
    "    i += 1\n",
    "print(sum_of_area)"
   ]
  },
  {
   "cell_type": "code",
   "execution_count": 38,
   "metadata": {},
   "outputs": [
    {
     "name": "stdout",
     "output_type": "stream",
     "text": [
      "END\n"
     ]
    }
   ],
   "source": [
    "print('END')"
   ]
  }
 ],
 "metadata": {
  "kernelspec": {
   "display_name": "Python 3 (ipykernel)",
   "language": "python",
   "name": "python3"
  },
  "language_info": {
   "codemirror_mode": {
    "name": "ipython",
    "version": 3
   },
   "file_extension": ".py",
   "mimetype": "text/x-python",
   "name": "python",
   "nbconvert_exporter": "python",
   "pygments_lexer": "ipython3",
   "version": "3.9.7"
  }
 },
 "nbformat": 4,
 "nbformat_minor": 4
}
