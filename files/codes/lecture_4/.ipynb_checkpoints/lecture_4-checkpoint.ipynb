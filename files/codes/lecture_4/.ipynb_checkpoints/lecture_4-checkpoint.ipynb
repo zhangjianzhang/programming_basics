{
 "cells": [
  {
   "cell_type": "markdown",
   "metadata": {},
   "source": [
    "# 4 字典"
   ]
  },
  {
   "cell_type": "markdown",
   "metadata": {},
   "source": [
    "### 来个有趣的小栗子"
   ]
  },
  {
   "cell_type": "markdown",
   "metadata": {},
   "source": [
    "假如，假如，假如，你跟室友之间为了省通讯费，采用电报机进行沟通，今天，《程序设计课》，张老师点名了，你要用电报机通知在宿舍睡懒觉的室友，你们用的电报机只能发出两种声音，“滴”和“嗒”。\n",
    "\n",
    "用本门课程已学知识来制作这样一个虚拟的电报机，输出你室友听到的电报机声音滴答声，该声音表示的意思是“张老师点名了”。"
   ]
  },
  {
   "cell_type": "markdown",
   "metadata": {},
   "source": [
    "<div align=center>\n",
    "<img width=\"350\" height=\"550\" src=\"https://github.com/zhangjianzhang/programming_basics/blob/master/files/codes/lecture_4/telegraph.jpg?raw=true\">\n",
    "\n",
    "<p><center><font>嘀嗒电报机</font></center></p>\n",
    "</div>"
   ]
  },
  {
   "cell_type": "markdown",
   "metadata": {},
   "source": [
    "#### 第一步，定义一些实现嘀嗒电报机所需的组件"
   ]
  },
  {
   "cell_type": "code",
   "execution_count": 1,
   "metadata": {},
   "outputs": [],
   "source": [
    "char_list = list(set(list('张老师今天点名呢吃饭李老了师上课程序设计课')))"
   ]
  },
  {
   "cell_type": "code",
   "execution_count": 2,
   "metadata": {},
   "outputs": [],
   "source": [
    "import random\n",
    "random.seed(10)"
   ]
  },
  {
   "cell_type": "code",
   "execution_count": 3,
   "metadata": {},
   "outputs": [],
   "source": [
    "idx_list = list(range(0, len(char_list)))"
   ]
  },
  {
   "cell_type": "code",
   "execution_count": 4,
   "metadata": {},
   "outputs": [],
   "source": [
    "random.shuffle(idx_list)"
   ]
  },
  {
   "cell_type": "code",
   "execution_count": 5,
   "metadata": {},
   "outputs": [],
   "source": [
    "char_dict = dict(zip(char_list, idx_list))"
   ]
  },
  {
   "cell_type": "code",
   "execution_count": 6,
   "metadata": {},
   "outputs": [
    {
     "data": {
      "text/plain": [
       "{'了': 6,\n",
       " '师': 17,\n",
       " '序': 5,\n",
       " '老': 10,\n",
       " '名': 8,\n",
       " '呢': 12,\n",
       " '点': 14,\n",
       " '今': 16,\n",
       " '饭': 2,\n",
       " '程': 4,\n",
       " '设': 11,\n",
       " '天': 7,\n",
       " '课': 3,\n",
       " '李': 0,\n",
       " '上': 9,\n",
       " '计': 15,\n",
       " '张': 13,\n",
       " '吃': 1}"
      ]
     },
     "execution_count": 6,
     "metadata": {},
     "output_type": "execute_result"
    }
   ],
   "source": [
    "char_dict"
   ]
  },
  {
   "cell_type": "code",
   "execution_count": 7,
   "metadata": {},
   "outputs": [],
   "source": [
    "sound_dict = {'1':'嗒', '0':'嘀'} "
   ]
  },
  {
   "cell_type": "code",
   "execution_count": 8,
   "metadata": {},
   "outputs": [
    {
     "data": {
      "text/plain": [
       "{'1': '嗒', '0': '嘀'}"
      ]
     },
     "execution_count": 8,
     "metadata": {},
     "output_type": "execute_result"
    }
   ],
   "source": [
    "sound_dict"
   ]
  },
  {
   "cell_type": "code",
   "execution_count": 9,
   "metadata": {},
   "outputs": [],
   "source": [
    "sound_dict_reversed = dict(zip(sound_dict.values(),sound_dict.keys()))\n",
    "char_dict_reversed = dict(zip(char_dict.values(),char_dict.keys()))"
   ]
  },
  {
   "cell_type": "code",
   "execution_count": 10,
   "metadata": {},
   "outputs": [
    {
     "data": {
      "text/plain": [
       "{'嗒': '1', '嘀': '0'}"
      ]
     },
     "execution_count": 10,
     "metadata": {},
     "output_type": "execute_result"
    }
   ],
   "source": [
    "sound_dict_reversed"
   ]
  },
  {
   "cell_type": "code",
   "execution_count": 11,
   "metadata": {},
   "outputs": [
    {
     "data": {
      "text/plain": [
       "{6: '了',\n",
       " 17: '师',\n",
       " 5: '序',\n",
       " 10: '老',\n",
       " 8: '名',\n",
       " 12: '呢',\n",
       " 14: '点',\n",
       " 16: '今',\n",
       " 2: '饭',\n",
       " 4: '程',\n",
       " 11: '设',\n",
       " 7: '天',\n",
       " 3: '课',\n",
       " 0: '李',\n",
       " 9: '上',\n",
       " 15: '计',\n",
       " 13: '张',\n",
       " 1: '吃'}"
      ]
     },
     "execution_count": 11,
     "metadata": {},
     "output_type": "execute_result"
    }
   ],
   "source": [
    "char_dict_reversed"
   ]
  },
  {
   "cell_type": "markdown",
   "metadata": {},
   "source": [
    "#### 第二步，将文字信息转换为电报机的嘀嗒声"
   ]
  },
  {
   "cell_type": "code",
   "execution_count": 12,
   "metadata": {},
   "outputs": [],
   "source": [
    "info = '张老师点名了'"
   ]
  },
  {
   "cell_type": "code",
   "execution_count": 13,
   "metadata": {},
   "outputs": [],
   "source": [
    "# 把文字信息转换为电报机的声音\n",
    "sound_list = []\n",
    "for char in info:\n",
    "    idx = char_dict[char]\n",
    "    binary_idx = bin(idx)\n",
    "    for number in binary_idx[2:]:\n",
    "        sound = sound_dict[number]\n",
    "        sound_list.append(sound)\n",
    "    sound_list.append(' ')\n",
    "telegram_sound = ''.join(sound_list).strip()"
   ]
  },
  {
   "cell_type": "markdown",
   "metadata": {},
   "source": [
    "#### 你室友听到的电报机声音如下"
   ]
  },
  {
   "cell_type": "code",
   "execution_count": 14,
   "metadata": {},
   "outputs": [
    {
     "name": "stdout",
     "output_type": "stream",
     "text": [
      "嗒嗒嘀嗒 嗒嘀嗒嘀 嗒嘀嘀嘀嗒 嗒嗒嗒嘀 嗒嘀嘀嘀 嗒嗒嘀\n"
     ]
    }
   ],
   "source": [
    "# 你室友听到的电报机声音如下\n",
    "print(telegram_sound)"
   ]
  },
  {
   "cell_type": "markdown",
   "metadata": {},
   "source": [
    "#### 第三步，你室友把电报机声音翻译为文字信息"
   ]
  },
  {
   "cell_type": "code",
   "execution_count": 15,
   "metadata": {},
   "outputs": [],
   "source": [
    "info_list = []\n",
    "for sounds in telegram_sound.split(' '):\n",
    "    bin_list = [sound_dict_reversed[sound_char] for sound_char in sounds]\n",
    "    char_idx = int(''.join(bin_list), 2)\n",
    "    info_list.append(char_dict_reversed[char_idx])"
   ]
  },
  {
   "cell_type": "code",
   "execution_count": 16,
   "metadata": {
    "scrolled": true
   },
   "outputs": [
    {
     "name": "stdout",
     "output_type": "stream",
     "text": [
      "张老师点名了\n"
     ]
    }
   ],
   "source": [
    "# 输出文字信息\n",
    "print(''.join(info_list))"
   ]
  },
  {
   "cell_type": "markdown",
   "metadata": {},
   "source": [
    "#### 第四步，你室友对此信息做出反应"
   ]
  },
  {
   "cell_type": "markdown",
   "metadata": {},
   "source": [
    "## 4.1 字典\n",
    "\n",
    "- 字典是一个存储**键值对集合**的Python容器。它通过使用**关键字**来快速**获取**、**删除**和**更新**值。\n",
    "\n",
    "- 一个字典对象中**无序地**存储了若干个条目，用一对花括号（`{` `}`）括起来。每个条目都是一个**键值对（key-value pair）**，由类似`关键字:对应值`的结构组成，即**一个关键字**和**一个对应值**。关键字在字典中是**唯一的**，每个关键字唯一地匹配一个值。\n",
    "\n",
    "- 字典类型通过Python的内置类`dict`来定义，因此使用`dict`函数也可以创建一个字典。"
   ]
  },
  {
   "cell_type": "code",
   "execution_count": 17,
   "metadata": {},
   "outputs": [],
   "source": [
    "# 使用花括号来创建一个新的字典film_dict\n",
    "# 回忆一下，使用什么来创建列表、元组、集合、字符串\n",
    "# film_dict中的key是电影在豆瓣上对应的网址id\n",
    "# 例如，https://movie.douban.com/subject/1292722/，是电影《泰坦尼克号》的豆瓣网址\n",
    "# 这里魔门就把网址中的数字1292722作为该部电影在字典中的key\n",
    "film_dict = {\n",
    "    '1292052':'肖申克的救赎',\n",
    "    '1291546':'霸王别姬',\n",
    "    '1292720':'阿甘正传',\n",
    "    '1295644':'这个杀手不太冷',\n",
    "    '1292722':'泰坦尼克号',\n",
    "    '1441801':'局内人',\n",
    "    '1295399':'七武士',\n",
    "    '1460911':'七武士'\n",
    "}"
   ]
  },
  {
   "cell_type": "code",
   "execution_count": 18,
   "metadata": {},
   "outputs": [
    {
     "data": {
      "text/plain": [
       "dict_keys(['1292052', '1291546', '1292720', '1295644', '1292722', '1441801', '1295399', '1460911'])"
      ]
     },
     "execution_count": 18,
     "metadata": {},
     "output_type": "execute_result"
    }
   ],
   "source": [
    "# 查看一下film_dict中有哪些key\n",
    "film_dict.keys()"
   ]
  },
  {
   "cell_type": "code",
   "execution_count": 19,
   "metadata": {},
   "outputs": [],
   "source": [
    "keys = film_dict.keys()"
   ]
  },
  {
   "cell_type": "code",
   "execution_count": 20,
   "metadata": {},
   "outputs": [
    {
     "data": {
      "text/plain": [
       "dict_keys"
      ]
     },
     "execution_count": 20,
     "metadata": {},
     "output_type": "execute_result"
    }
   ],
   "source": [
    "type(keys)"
   ]
  },
  {
   "cell_type": "code",
   "execution_count": 21,
   "metadata": {},
   "outputs": [
    {
     "data": {
      "text/plain": [
       "dict_values(['肖申克的救赎', '霸王别姬', '阿甘正传', '这个杀手不太冷', '泰坦尼克号', '局内人', '七武士', '七武士'])"
      ]
     },
     "execution_count": 21,
     "metadata": {},
     "output_type": "execute_result"
    }
   ],
   "source": [
    "# 查看一下film_dict中有哪些key\n",
    "film_dict.values()"
   ]
  },
  {
   "cell_type": "code",
   "execution_count": 22,
   "metadata": {},
   "outputs": [],
   "source": [
    "values = film_dict.values()"
   ]
  },
  {
   "cell_type": "code",
   "execution_count": 23,
   "metadata": {},
   "outputs": [
    {
     "data": {
      "text/plain": [
       "dict_values"
      ]
     },
     "execution_count": 23,
     "metadata": {},
     "output_type": "execute_result"
    }
   ],
   "source": [
    "type(values)"
   ]
  },
  {
   "cell_type": "code",
   "execution_count": 24,
   "metadata": {},
   "outputs": [
    {
     "data": {
      "text/plain": [
       "8"
      ]
     },
     "execution_count": 24,
     "metadata": {},
     "output_type": "execute_result"
    }
   ],
   "source": [
    "# 查看一下keys的长度\n",
    "len(keys)"
   ]
  },
  {
   "cell_type": "code",
   "execution_count": 25,
   "metadata": {},
   "outputs": [
    {
     "data": {
      "text/plain": [
       "8"
      ]
     },
     "execution_count": 25,
     "metadata": {},
     "output_type": "execute_result"
    }
   ],
   "source": [
    "# 查看一下values的长度\n",
    "len(values)"
   ]
  },
  {
   "cell_type": "code",
   "execution_count": 26,
   "metadata": {},
   "outputs": [],
   "source": [
    "# 使用list函数把kyes变为列表，对values也可以进行类似操作\n",
    "key_list = list(keys)"
   ]
  },
  {
   "cell_type": "code",
   "execution_count": 27,
   "metadata": {},
   "outputs": [
    {
     "data": {
      "text/plain": [
       "['1292052',\n",
       " '1291546',\n",
       " '1292720',\n",
       " '1295644',\n",
       " '1292722',\n",
       " '1441801',\n",
       " '1295399',\n",
       " '1460911']"
      ]
     },
     "execution_count": 27,
     "metadata": {},
     "output_type": "execute_result"
    }
   ],
   "source": [
    "key_list"
   ]
  },
  {
   "cell_type": "code",
   "execution_count": 28,
   "metadata": {},
   "outputs": [],
   "source": [
    "value_list = list(values)"
   ]
  },
  {
   "cell_type": "code",
   "execution_count": 29,
   "metadata": {},
   "outputs": [
    {
     "data": {
      "text/plain": [
       "['肖申克的救赎', '霸王别姬', '阿甘正传', '这个杀手不太冷', '泰坦尼克号', '局内人', '七武士', '七武士']"
      ]
     },
     "execution_count": 29,
     "metadata": {},
     "output_type": "execute_result"
    }
   ],
   "source": [
    "value_list"
   ]
  },
  {
   "cell_type": "code",
   "execution_count": 30,
   "metadata": {},
   "outputs": [],
   "source": [
    "# 使用tuple函数把kyes变为元组，对values也可以进行类似操作\n",
    "key_tuple = tuple(keys)"
   ]
  },
  {
   "cell_type": "code",
   "execution_count": 31,
   "metadata": {},
   "outputs": [
    {
     "data": {
      "text/plain": [
       "('1292052',\n",
       " '1291546',\n",
       " '1292720',\n",
       " '1295644',\n",
       " '1292722',\n",
       " '1441801',\n",
       " '1295399',\n",
       " '1460911')"
      ]
     },
     "execution_count": 31,
     "metadata": {},
     "output_type": "execute_result"
    }
   ],
   "source": [
    "key_tuple"
   ]
  },
  {
   "cell_type": "code",
   "execution_count": 32,
   "metadata": {},
   "outputs": [],
   "source": [
    "# 获取film_dic的key-value pair\n",
    "items = film_dict.items()"
   ]
  },
  {
   "cell_type": "code",
   "execution_count": 33,
   "metadata": {
    "scrolled": true
   },
   "outputs": [
    {
     "data": {
      "text/plain": [
       "dict_items([('1292052', '肖申克的救赎'), ('1291546', '霸王别姬'), ('1292720', '阿甘正传'), ('1295644', '这个杀手不太冷'), ('1292722', '泰坦尼克号'), ('1441801', '局内人'), ('1295399', '七武士'), ('1460911', '七武士')])"
      ]
     },
     "execution_count": 33,
     "metadata": {},
     "output_type": "execute_result"
    }
   ],
   "source": [
    "items"
   ]
  },
  {
   "cell_type": "code",
   "execution_count": 34,
   "metadata": {
    "scrolled": true
   },
   "outputs": [
    {
     "data": {
      "text/plain": [
       "dict_items"
      ]
     },
     "execution_count": 34,
     "metadata": {},
     "output_type": "execute_result"
    }
   ],
   "source": [
    "type(items)"
   ]
  },
  {
   "cell_type": "code",
   "execution_count": 35,
   "metadata": {},
   "outputs": [],
   "source": [
    "# 定义一个字符串格式化表达式\n",
    "douban_url = 'https://movie.douban.com/subject/'"
   ]
  },
  {
   "cell_type": "code",
   "execution_count": 36,
   "metadata": {},
   "outputs": [
    {
     "name": "stdout",
     "output_type": "stream",
     "text": [
      "肖申克的救赎         https://movie.douban.com/subject/1292052\n",
      "霸王别姬           https://movie.douban.com/subject/1291546\n",
      "阿甘正传           https://movie.douban.com/subject/1292720\n",
      "这个杀手不太冷        https://movie.douban.com/subject/1295644\n",
      "泰坦尼克号          https://movie.douban.com/subject/1292722\n",
      "局内人            https://movie.douban.com/subject/1441801\n",
      "七武士            https://movie.douban.com/subject/1295399\n",
      "七武士            https://movie.douban.com/subject/1460911\n"
     ]
    }
   ],
   "source": [
    "# 格式化输出电影名字和豆瓣链接\n",
    "for k, v in items:\n",
    "    film_url = douban_url + k\n",
    "    print('{name:<10}{url:>45}'.format(url = film_url, name = v))"
   ]
  },
  {
   "cell_type": "markdown",
   "metadata": {},
   "source": [
    "<b><font color=red>思考题</font></b>：\n",
    "\n",
    "中文空格可以用`chr(12288)`表示，请问如何整齐地输出电影名（左对齐）和对应的超链接（右对齐），像下面这样\n",
    "\n",
    "肖申克的救赎　　　　     https://movie.douban.com/subject/1292052<br>\n",
    "霸王别姬　　　　　　     https://movie.douban.com/subject/1291546<br>\n",
    "阿甘正传　　　　　　     https://movie.douban.com/subject/1292720<br>\n",
    "这个杀手不太冷　　　     https://movie.douban.com/subject/1295644<br>\n",
    "泰坦尼克号　　　　　     https://movie.douban.com/subject/1292722<br>\n",
    "局内人　　　　　　　     https://movie.douban.com/subject/1441801<br>\n",
    "七武士　　　　　　　     https://movie.douban.com/subject/1295399<br>\n",
    "七武士　　　　　　　     https://movie.douban.com/subject/1460911<br>\n",
    "\n",
    "请用lecture_3中所学的字符串格式化知识实现。"
   ]
  },
  {
   "cell_type": "code",
   "execution_count": 37,
   "metadata": {},
   "outputs": [],
   "source": [
    "# 使用list函数把键值对转换为列表\n",
    "item_list = list(items)"
   ]
  },
  {
   "cell_type": "code",
   "execution_count": 38,
   "metadata": {},
   "outputs": [
    {
     "data": {
      "text/plain": [
       "[('1292052', '肖申克的救赎'),\n",
       " ('1291546', '霸王别姬'),\n",
       " ('1292720', '阿甘正传'),\n",
       " ('1295644', '这个杀手不太冷'),\n",
       " ('1292722', '泰坦尼克号'),\n",
       " ('1441801', '局内人'),\n",
       " ('1295399', '七武士'),\n",
       " ('1460911', '七武士')]"
      ]
     },
     "execution_count": 38,
     "metadata": {},
     "output_type": "execute_result"
    }
   ],
   "source": [
    "item_list"
   ]
  },
  {
   "cell_type": "markdown",
   "metadata": {},
   "source": [
    "<b><font color=blue>字典中没有重复的键值对</font></b>"
   ]
  },
  {
   "cell_type": "code",
   "execution_count": 39,
   "metadata": {},
   "outputs": [
    {
     "data": {
      "text/plain": [
       "{'1292052': '肖申克的救赎',\n",
       " '1291546': '霸王别姬',\n",
       " '1292720': '阿甘正传',\n",
       " '1295644': '这个杀手不太冷',\n",
       " '1292722': '泰坦尼克号',\n",
       " '1441801': '局内人',\n",
       " '1295399': '七武士',\n",
       " '1460911': '七武士'}"
      ]
     },
     "execution_count": 39,
     "metadata": {},
     "output_type": "execute_result"
    }
   ],
   "source": [
    "film_dict"
   ]
  },
  {
   "cell_type": "code",
   "execution_count": 40,
   "metadata": {},
   "outputs": [
    {
     "data": {
      "text/plain": [
       "'肖申克的救赎'"
      ]
     },
     "execution_count": 40,
     "metadata": {},
     "output_type": "execute_result"
    }
   ],
   "source": [
    "# 根据key来获取对应的value值\n",
    "film_dict['1292052']"
   ]
  },
  {
   "cell_type": "code",
   "execution_count": 41,
   "metadata": {},
   "outputs": [],
   "source": [
    "# # 根据key来获取对应的value值，这样对吗，为什么\n",
    "# film_dict[1292052]"
   ]
  },
  {
   "cell_type": "code",
   "execution_count": 42,
   "metadata": {},
   "outputs": [],
   "source": [
    "# 根据key来更新对应的value值\n",
    "# 《肖申克的救赎》在香港被译为《月黑高飞》\n",
    "film_dict['1292052'] = '月黑高飞'"
   ]
  },
  {
   "cell_type": "code",
   "execution_count": 43,
   "metadata": {},
   "outputs": [
    {
     "data": {
      "text/plain": [
       "{'1292052': '月黑高飞',\n",
       " '1291546': '霸王别姬',\n",
       " '1292720': '阿甘正传',\n",
       " '1295644': '这个杀手不太冷',\n",
       " '1292722': '泰坦尼克号',\n",
       " '1441801': '局内人',\n",
       " '1295399': '七武士',\n",
       " '1460911': '七武士'}"
      ]
     },
     "execution_count": 43,
     "metadata": {},
     "output_type": "execute_result"
    }
   ],
   "source": [
    "film_dict"
   ]
  },
  {
   "cell_type": "code",
   "execution_count": 44,
   "metadata": {},
   "outputs": [
    {
     "data": {
      "text/plain": [
       "'霸王别姬'"
      ]
     },
     "execution_count": 44,
     "metadata": {},
     "output_type": "execute_result"
    }
   ],
   "source": [
    "# 根据key来删除 key-value pair\n",
    "# 删除了《霸王别姬》对应的key-value pair\n",
    "film_dict.pop('1291546')"
   ]
  },
  {
   "cell_type": "code",
   "execution_count": 45,
   "metadata": {},
   "outputs": [
    {
     "data": {
      "text/plain": [
       "{'1292052': '月黑高飞',\n",
       " '1292720': '阿甘正传',\n",
       " '1295644': '这个杀手不太冷',\n",
       " '1292722': '泰坦尼克号',\n",
       " '1441801': '局内人',\n",
       " '1295399': '七武士',\n",
       " '1460911': '七武士'}"
      ]
     },
     "execution_count": 45,
     "metadata": {},
     "output_type": "execute_result"
    }
   ],
   "source": [
    "film_dict"
   ]
  },
  {
   "cell_type": "markdown",
   "metadata": {},
   "source": [
    "<b><font color=red>思考题</font></b>：之前还有那种数据类型可以使用`pop`方法删除元素"
   ]
  },
  {
   "cell_type": "markdown",
   "metadata": {},
   "source": [
    "<b><font color=red>思考题</font></b>：`film_dic.pop()`这行代码的执行结果是什么"
   ]
  },
  {
   "cell_type": "code",
   "execution_count": 46,
   "metadata": {},
   "outputs": [
    {
     "data": {
      "text/plain": [
       "[('1292052', '肖申克的救赎'),\n",
       " ('1291546', '霸王别姬'),\n",
       " ('1292720', '阿甘正传'),\n",
       " ('1295644', '这个杀手不太冷'),\n",
       " ('1292722', '泰坦尼克号'),\n",
       " ('1441801', '局内人'),\n",
       " ('1295399', '七武士'),\n",
       " ('1460911', '七武士')]"
      ]
     },
     "execution_count": 46,
     "metadata": {},
     "output_type": "execute_result"
    }
   ],
   "source": [
    "item_list"
   ]
  },
  {
   "cell_type": "code",
   "execution_count": 47,
   "metadata": {},
   "outputs": [],
   "source": [
    "# 使用dict函数创建一个空字典\n",
    "empty_dict = dict()"
   ]
  },
  {
   "cell_type": "code",
   "execution_count": 48,
   "metadata": {
    "scrolled": true
   },
   "outputs": [
    {
     "data": {
      "text/plain": [
       "{}"
      ]
     },
     "execution_count": 48,
     "metadata": {},
     "output_type": "execute_result"
    }
   ],
   "source": [
    "empty_dict"
   ]
  },
  {
   "cell_type": "code",
   "execution_count": 49,
   "metadata": {},
   "outputs": [],
   "source": [
    "# 使用dict函数创建一个空字典\n",
    "small_film_dict = dict(a='肖申克的救赎',b='霸王别姬',c='阿甘正传')"
   ]
  },
  {
   "cell_type": "code",
   "execution_count": 50,
   "metadata": {},
   "outputs": [],
   "source": [
    "# 这样是不行的\n",
    "# small_film_dict = dict('1292052'='肖申克的救赎', '1291546'='霸王别姬', '1292720'='阿甘正传',)"
   ]
  },
  {
   "cell_type": "code",
   "execution_count": 51,
   "metadata": {},
   "outputs": [
    {
     "data": {
      "text/plain": [
       "{'a': '肖申克的救赎', 'b': '霸王别姬', 'c': '阿甘正传'}"
      ]
     },
     "execution_count": 51,
     "metadata": {},
     "output_type": "execute_result"
    }
   ],
   "source": [
    "small_film_dict"
   ]
  },
  {
   "cell_type": "code",
   "execution_count": 52,
   "metadata": {},
   "outputs": [],
   "source": [
    "# 使用dict函数创建一个字典\n",
    "film_dict_from_list = dict(item_list)"
   ]
  },
  {
   "cell_type": "code",
   "execution_count": 53,
   "metadata": {},
   "outputs": [
    {
     "data": {
      "text/plain": [
       "{'1292052': '肖申克的救赎',\n",
       " '1291546': '霸王别姬',\n",
       " '1292720': '阿甘正传',\n",
       " '1295644': '这个杀手不太冷',\n",
       " '1292722': '泰坦尼克号',\n",
       " '1441801': '局内人',\n",
       " '1295399': '七武士',\n",
       " '1460911': '七武士'}"
      ]
     },
     "execution_count": 53,
     "metadata": {},
     "output_type": "execute_result"
    }
   ],
   "source": [
    "film_dict_from_list"
   ]
  },
  {
   "cell_type": "markdown",
   "metadata": {},
   "source": [
    "<b><font color=red>思考题</font></b>：\n",
    "\n",
    " - `item_list`是哪里来的，\n",
    " - 如果下面运行代码`film_dict_from_list = film_dict`，结果是什么\n",
    " - 如果下面运行代码`film_dict_from_list == film_dict`，结果是什么\n",
    " - 如果下面运行代码`film_dict_from_list is film_dict`，结果是什么"
   ]
  },
  {
   "cell_type": "code",
   "execution_count": 54,
   "metadata": {},
   "outputs": [],
   "source": [
    "# 使用dict函数创建一个字典\n",
    "film_dict_from_zip = dict(zip(key_list, value_list))"
   ]
  },
  {
   "cell_type": "code",
   "execution_count": 55,
   "metadata": {},
   "outputs": [
    {
     "data": {
      "text/plain": [
       "{'1292052': '肖申克的救赎',\n",
       " '1291546': '霸王别姬',\n",
       " '1292720': '阿甘正传',\n",
       " '1295644': '这个杀手不太冷',\n",
       " '1292722': '泰坦尼克号',\n",
       " '1441801': '局内人',\n",
       " '1295399': '七武士',\n",
       " '1460911': '七武士'}"
      ]
     },
     "execution_count": 55,
     "metadata": {},
     "output_type": "execute_result"
    }
   ],
   "source": [
    "film_dict_from_zip"
   ]
  },
  {
   "cell_type": "code",
   "execution_count": 56,
   "metadata": {},
   "outputs": [
    {
     "data": {
      "text/plain": [
       "['1292052',\n",
       " '1291546',\n",
       " '1292720',\n",
       " '1295644',\n",
       " '1292722',\n",
       " '1441801',\n",
       " '1295399',\n",
       " '1460911']"
      ]
     },
     "execution_count": 56,
     "metadata": {},
     "output_type": "execute_result"
    }
   ],
   "source": [
    "key_list"
   ]
  },
  {
   "cell_type": "code",
   "execution_count": 57,
   "metadata": {},
   "outputs": [
    {
     "data": {
      "text/plain": [
       "['肖申克的救赎', '霸王别姬', '阿甘正传', '这个杀手不太冷', '泰坦尼克号', '局内人', '七武士', '七武士']"
      ]
     },
     "execution_count": 57,
     "metadata": {},
     "output_type": "execute_result"
    }
   ],
   "source": [
    "value_list"
   ]
  },
  {
   "cell_type": "code",
   "execution_count": 58,
   "metadata": {},
   "outputs": [
    {
     "data": {
      "text/plain": [
       "<zip at 0x7f66bc34e688>"
      ]
     },
     "execution_count": 58,
     "metadata": {},
     "output_type": "execute_result"
    }
   ],
   "source": [
    "zip(key_list, value_list)"
   ]
  },
  {
   "cell_type": "code",
   "execution_count": 59,
   "metadata": {},
   "outputs": [
    {
     "data": {
      "text/plain": [
       "zip"
      ]
     },
     "execution_count": 59,
     "metadata": {},
     "output_type": "execute_result"
    }
   ],
   "source": [
    "type(zip(key_list, value_list))"
   ]
  },
  {
   "cell_type": "code",
   "execution_count": 60,
   "metadata": {},
   "outputs": [
    {
     "data": {
      "text/plain": [
       "[('1292052', '肖申克的救赎'),\n",
       " ('1291546', '霸王别姬'),\n",
       " ('1292720', '阿甘正传'),\n",
       " ('1295644', '这个杀手不太冷'),\n",
       " ('1292722', '泰坦尼克号'),\n",
       " ('1441801', '局内人'),\n",
       " ('1295399', '七武士'),\n",
       " ('1460911', '七武士')]"
      ]
     },
     "execution_count": 60,
     "metadata": {},
     "output_type": "execute_result"
    }
   ],
   "source": [
    "list(zip(key_list, value_list))"
   ]
  },
  {
   "cell_type": "markdown",
   "metadata": {},
   "source": [
    "<b><font color=red>思考题</font></b>：\n",
    "\n",
    " - 如果下面运行代码`item_list.append(item_list[2]); new_dict = dict(item_list)`，结果是什么\n",
    " - 如果下面运行代码`item_list.append(('1292052', '月黑风高')); new_dict = dict(item_list)`，结果是什么"
   ]
  },
  {
   "cell_type": "markdown",
   "metadata": {},
   "source": [
    "字典的key必须是**不可变对象**"
   ]
  },
  {
   "cell_type": "code",
   "execution_count": 61,
   "metadata": {},
   "outputs": [],
   "source": [
    "# 列表是可变的，所以不能作为字典的key，下面代码会报错\n",
    "# dict_1 = {[]:9}"
   ]
  },
  {
   "cell_type": "markdown",
   "metadata": {},
   "source": [
    "字典的key如果有重复，**只会保留一个**"
   ]
  },
  {
   "cell_type": "code",
   "execution_count": 62,
   "metadata": {},
   "outputs": [],
   "source": [
    "dict_2 = {1:1, 1:2, 1:3, 1:4}"
   ]
  },
  {
   "cell_type": "code",
   "execution_count": 63,
   "metadata": {},
   "outputs": [
    {
     "data": {
      "text/plain": [
       "{1: 4}"
      ]
     },
     "execution_count": 63,
     "metadata": {},
     "output_type": "execute_result"
    }
   ],
   "source": [
    "dict_2"
   ]
  },
  {
   "cell_type": "markdown",
   "metadata": {},
   "source": [
    "## 4.2 字典的基本操作"
   ]
  },
  {
   "cell_type": "markdown",
   "metadata": {},
   "source": [
    "### 添加、修改、获取、删除条目"
   ]
  },
  {
   "cell_type": "markdown",
   "metadata": {},
   "source": [
    "- 关键字（键）在字典中的作用相当于列表中的下标。通过类似`字典对象名[关键字]`的语法可以读或写字典中的条目。\n",
    "\n",
    "- 要从字典中删除一个条目，可使用`del`关键字进行删除。"
   ]
  },
  {
   "cell_type": "code",
   "execution_count": 64,
   "metadata": {},
   "outputs": [
    {
     "data": {
      "text/plain": [
       "{'1292052': '月黑高飞',\n",
       " '1292720': '阿甘正传',\n",
       " '1295644': '这个杀手不太冷',\n",
       " '1292722': '泰坦尼克号',\n",
       " '1441801': '局内人',\n",
       " '1295399': '七武士',\n",
       " '1460911': '七武士'}"
      ]
     },
     "execution_count": 64,
     "metadata": {},
     "output_type": "execute_result"
    }
   ],
   "source": [
    "film_dict"
   ]
  },
  {
   "cell_type": "code",
   "execution_count": 65,
   "metadata": {},
   "outputs": [
    {
     "data": {
      "text/plain": [
       "'月黑高飞'"
      ]
     },
     "execution_count": 65,
     "metadata": {},
     "output_type": "execute_result"
    }
   ],
   "source": [
    "# 根据key获取字典中的value\n",
    "\n",
    "film_dict['1292052']"
   ]
  },
  {
   "cell_type": "code",
   "execution_count": 66,
   "metadata": {},
   "outputs": [],
   "source": [
    "# '1292063'这个key在film_dict中不存在，所以下面的获取方式会报错 KeyError\n",
    "# film_dict['1292063']"
   ]
  },
  {
   "cell_type": "code",
   "execution_count": 67,
   "metadata": {},
   "outputs": [],
   "source": [
    "# 使用get方法根据key获取value\n",
    "# 如果key在字典中存在，返回值\n",
    "# 如果key在字典中不存在，不返回结果\n",
    "film_dict.get('1292063')"
   ]
  },
  {
   "cell_type": "code",
   "execution_count": 68,
   "metadata": {},
   "outputs": [
    {
     "data": {
      "text/plain": [
       "'美丽人生'"
      ]
     },
     "execution_count": 68,
     "metadata": {},
     "output_type": "execute_result"
    }
   ],
   "source": [
    "# 如果key不存在，则返回'美丽人生'\n",
    "film_dict.get('1292063', '美丽人生')"
   ]
  },
  {
   "cell_type": "code",
   "execution_count": 69,
   "metadata": {},
   "outputs": [
    {
     "data": {
      "text/plain": [
       "{'1292052': '月黑高飞',\n",
       " '1292720': '阿甘正传',\n",
       " '1295644': '这个杀手不太冷',\n",
       " '1292722': '泰坦尼克号',\n",
       " '1441801': '局内人',\n",
       " '1295399': '七武士',\n",
       " '1460911': '七武士'}"
      ]
     },
     "execution_count": 69,
     "metadata": {},
     "output_type": "execute_result"
    }
   ],
   "source": [
    "# 此时，字典并未发生变化哦\n",
    "film_dict"
   ]
  },
  {
   "cell_type": "code",
   "execution_count": 70,
   "metadata": {},
   "outputs": [
    {
     "data": {
      "text/plain": [
       "'月黑高飞'"
      ]
     },
     "execution_count": 70,
     "metadata": {},
     "output_type": "execute_result"
    }
   ],
   "source": [
    "# 如果key存在，则返回对应的value\n",
    "film_dict.get('1292052', '美丽人生')"
   ]
  },
  {
   "cell_type": "code",
   "execution_count": 71,
   "metadata": {},
   "outputs": [],
   "source": [
    "# 往字典film_dict中新增一个key-value pair\n",
    "film_dict['1292063'] = '美丽人生'"
   ]
  },
  {
   "cell_type": "code",
   "execution_count": 72,
   "metadata": {},
   "outputs": [
    {
     "data": {
      "text/plain": [
       "{'1292052': '月黑高飞',\n",
       " '1292720': '阿甘正传',\n",
       " '1295644': '这个杀手不太冷',\n",
       " '1292722': '泰坦尼克号',\n",
       " '1441801': '局内人',\n",
       " '1295399': '七武士',\n",
       " '1460911': '七武士',\n",
       " '1292063': '美丽人生'}"
      ]
     },
     "execution_count": 72,
     "metadata": {},
     "output_type": "execute_result"
    }
   ],
   "source": [
    "film_dict"
   ]
  },
  {
   "cell_type": "code",
   "execution_count": 73,
   "metadata": {},
   "outputs": [],
   "source": [
    "# 使用del删除一个key-value pair\n",
    "# 要用key指定删除哪一个哦\n",
    "del film_dict['1295399']"
   ]
  },
  {
   "cell_type": "code",
   "execution_count": 74,
   "metadata": {},
   "outputs": [
    {
     "data": {
      "text/plain": [
       "{'1292052': '月黑高飞',\n",
       " '1292720': '阿甘正传',\n",
       " '1295644': '这个杀手不太冷',\n",
       " '1292722': '泰坦尼克号',\n",
       " '1441801': '局内人',\n",
       " '1460911': '七武士',\n",
       " '1292063': '美丽人生'}"
      ]
     },
     "execution_count": 74,
     "metadata": {},
     "output_type": "execute_result"
    }
   ],
   "source": [
    "film_dict"
   ]
  },
  {
   "cell_type": "code",
   "execution_count": 75,
   "metadata": {},
   "outputs": [],
   "source": [
    "film_dict_backup = dict(film_dict.items())"
   ]
  },
  {
   "cell_type": "code",
   "execution_count": 76,
   "metadata": {},
   "outputs": [
    {
     "data": {
      "text/plain": [
       "{'1292052': '月黑高飞',\n",
       " '1292720': '阿甘正传',\n",
       " '1295644': '这个杀手不太冷',\n",
       " '1292722': '泰坦尼克号',\n",
       " '1441801': '局内人',\n",
       " '1460911': '七武士',\n",
       " '1292063': '美丽人生'}"
      ]
     },
     "execution_count": 76,
     "metadata": {},
     "output_type": "execute_result"
    }
   ],
   "source": [
    "film_dict_backup"
   ]
  },
  {
   "cell_type": "code",
   "execution_count": 77,
   "metadata": {},
   "outputs": [
    {
     "data": {
      "text/plain": [
       "True"
      ]
     },
     "execution_count": 77,
     "metadata": {},
     "output_type": "execute_result"
    }
   ],
   "source": [
    "film_dict_backup == film_dict"
   ]
  },
  {
   "cell_type": "code",
   "execution_count": 78,
   "metadata": {},
   "outputs": [
    {
     "data": {
      "text/plain": [
       "False"
      ]
     },
     "execution_count": 78,
     "metadata": {},
     "output_type": "execute_result"
    }
   ],
   "source": [
    "film_dict_backup is film_dict"
   ]
  },
  {
   "cell_type": "code",
   "execution_count": 79,
   "metadata": {},
   "outputs": [
    {
     "data": {
      "text/plain": [
       "{'1292052': '月黑高飞',\n",
       " '1292720': '阿甘正传',\n",
       " '1295644': '这个杀手不太冷',\n",
       " '1292722': '泰坦尼克号',\n",
       " '1441801': '局内人',\n",
       " '1460911': '七武士',\n",
       " '1292063': '美丽人生'}"
      ]
     },
     "execution_count": 79,
     "metadata": {},
     "output_type": "execute_result"
    }
   ],
   "source": [
    "film_dict_backup"
   ]
  },
  {
   "cell_type": "code",
   "execution_count": 80,
   "metadata": {},
   "outputs": [],
   "source": [
    "# 删除film_dict_backup这个字典\n",
    "del film_dict_backup"
   ]
  },
  {
   "cell_type": "code",
   "execution_count": 81,
   "metadata": {},
   "outputs": [],
   "source": [
    "# 因为film_dict_backup被删除了，所以无法访问了，下面会报错哦\n",
    "# film_dict_backup"
   ]
  },
  {
   "cell_type": "code",
   "execution_count": 82,
   "metadata": {},
   "outputs": [],
   "source": [
    "a = [1, 2, 3]; b = (1, 2, 3); c = '123'"
   ]
  },
  {
   "cell_type": "code",
   "execution_count": 83,
   "metadata": {},
   "outputs": [
    {
     "data": {
      "text/plain": [
       "([1, 2, 3], (1, 2, 3), '123')"
      ]
     },
     "execution_count": 83,
     "metadata": {},
     "output_type": "execute_result"
    }
   ],
   "source": [
    "a, b, c"
   ]
  },
  {
   "cell_type": "code",
   "execution_count": 84,
   "metadata": {},
   "outputs": [],
   "source": [
    "del a, b, c"
   ]
  },
  {
   "cell_type": "code",
   "execution_count": 85,
   "metadata": {},
   "outputs": [],
   "source": [
    "# a, b, c均被删除，所以无法访问了哦\n",
    "# a, b, c"
   ]
  },
  {
   "cell_type": "code",
   "execution_count": 86,
   "metadata": {},
   "outputs": [],
   "source": [
    "a = [1, 2, 3]; b = (1, 2, 3); c = '123'"
   ]
  },
  {
   "cell_type": "code",
   "execution_count": 87,
   "metadata": {},
   "outputs": [],
   "source": [
    "del a[0]"
   ]
  },
  {
   "cell_type": "code",
   "execution_count": 88,
   "metadata": {},
   "outputs": [
    {
     "data": {
      "text/plain": [
       "[2, 3]"
      ]
     },
     "execution_count": 88,
     "metadata": {},
     "output_type": "execute_result"
    }
   ],
   "source": [
    "a"
   ]
  },
  {
   "cell_type": "markdown",
   "metadata": {},
   "source": [
    "<b><font color=red>思考题</font></b>：\n",
    "\n",
    " - 如果下面运行代码`del b[1]`，结果是什么\n",
    " - 如果下面运行代码`del c[2]`，结果是什么"
   ]
  },
  {
   "cell_type": "markdown",
   "metadata": {},
   "source": [
    "### 字典推导式"
   ]
  },
  {
   "cell_type": "markdown",
   "metadata": {},
   "source": [
    "与列表和集合相似，字典同样支持推导式生成。不同的是，字典推导式起始位置的表达式应该是`键:值`格式的。"
   ]
  },
  {
   "cell_type": "code",
   "execution_count": 89,
   "metadata": {},
   "outputs": [],
   "source": [
    "dict_2 = {\"a\":1, \"b\":2, \"c\":3, \"d\":4}"
   ]
  },
  {
   "cell_type": "code",
   "execution_count": 90,
   "metadata": {},
   "outputs": [],
   "source": [
    "# 利用字典推导式快速对调key value值\n",
    "dict_3 = {v:k for k, v in dict_2.items()}"
   ]
  },
  {
   "cell_type": "code",
   "execution_count": 91,
   "metadata": {},
   "outputs": [
    {
     "data": {
      "text/plain": [
       "{1: 'a', 2: 'b', 3: 'c', 4: 'd'}"
      ]
     },
     "execution_count": 91,
     "metadata": {},
     "output_type": "execute_result"
    }
   ],
   "source": [
    "dict_3"
   ]
  },
  {
   "cell_type": "markdown",
   "metadata": {},
   "source": [
    "<b><font color=red>思考题</font></b>：\n",
    "\n",
    " - 如果下面运行代码`dict_2 = {\"a\":1, \"b\":1, \"c\":2, \"d\":2, \"e\":3};{v:k for k, v in dict_2.items()}`，结果是什么"
   ]
  },
  {
   "cell_type": "markdown",
   "metadata": {},
   "source": [
    "### 列表，集合推导式"
   ]
  },
  {
   "cell_type": "code",
   "execution_count": 92,
   "metadata": {},
   "outputs": [],
   "source": [
    "# 从[0,9)中取偶数的平方\n",
    "list_1 = [i*2 for i in range(10) if i % 2 == 0]"
   ]
  },
  {
   "cell_type": "code",
   "execution_count": 93,
   "metadata": {},
   "outputs": [
    {
     "data": {
      "text/plain": [
       "[0, 4, 8, 12, 16]"
      ]
     },
     "execution_count": 93,
     "metadata": {},
     "output_type": "execute_result"
    }
   ],
   "source": [
    "list_1"
   ]
  },
  {
   "cell_type": "code",
   "execution_count": 94,
   "metadata": {},
   "outputs": [],
   "source": [
    "# 从[0,9)中取偶数的平方，取奇数的三次方\n",
    "list_2 = [i*2 if i % 2 == 0 else i*3 for i in range(10)]"
   ]
  },
  {
   "cell_type": "code",
   "execution_count": 95,
   "metadata": {},
   "outputs": [
    {
     "data": {
      "text/plain": [
       "[0, 3, 4, 9, 8, 15, 12, 21, 16, 27]"
      ]
     },
     "execution_count": 95,
     "metadata": {},
     "output_type": "execute_result"
    }
   ],
   "source": [
    "list_2"
   ]
  },
  {
   "cell_type": "code",
   "execution_count": 96,
   "metadata": {},
   "outputs": [],
   "source": [
    "# exp_gener不是一个元组推导式，生成器表达式(generator expression)\n",
    "exp_gener = (i*2 if i % 2 == 0 else i*3 for i in range(10))"
   ]
  },
  {
   "cell_type": "code",
   "execution_count": 97,
   "metadata": {},
   "outputs": [
    {
     "data": {
      "text/plain": [
       "<generator object <genexpr> at 0x7f66bc2fb5e8>"
      ]
     },
     "execution_count": 97,
     "metadata": {},
     "output_type": "execute_result"
    }
   ],
   "source": [
    "exp_gener"
   ]
  },
  {
   "cell_type": "code",
   "execution_count": 98,
   "metadata": {},
   "outputs": [
    {
     "name": "stdout",
     "output_type": "stream",
     "text": [
      "0\n",
      "3\n",
      "4\n",
      "9\n",
      "8\n",
      "15\n",
      "12\n",
      "21\n",
      "16\n",
      "27\n"
     ]
    }
   ],
   "source": [
    "for item in exp_gener:print(item)"
   ]
  },
  {
   "cell_type": "code",
   "execution_count": 99,
   "metadata": {},
   "outputs": [],
   "source": [
    "import sys"
   ]
  },
  {
   "cell_type": "code",
   "execution_count": 100,
   "metadata": {},
   "outputs": [
    {
     "data": {
      "text/plain": [
       "120"
      ]
     },
     "execution_count": 100,
     "metadata": {},
     "output_type": "execute_result"
    }
   ],
   "source": [
    "sys.getsizeof(exp_gener)"
   ]
  },
  {
   "cell_type": "code",
   "execution_count": 101,
   "metadata": {},
   "outputs": [
    {
     "data": {
      "text/plain": [
       "192"
      ]
     },
     "execution_count": 101,
     "metadata": {},
     "output_type": "execute_result"
    }
   ],
   "source": [
    "sys.getsizeof(list_2)"
   ]
  },
  {
   "cell_type": "code",
   "execution_count": 102,
   "metadata": {},
   "outputs": [],
   "source": [
    "big_exp_gener = (i*2 if i % 2 == 0 else i*3 for i in range(10000))"
   ]
  },
  {
   "cell_type": "code",
   "execution_count": 103,
   "metadata": {},
   "outputs": [
    {
     "data": {
      "text/plain": [
       "120"
      ]
     },
     "execution_count": 103,
     "metadata": {},
     "output_type": "execute_result"
    }
   ],
   "source": [
    "sys.getsizeof(big_exp_gener)"
   ]
  },
  {
   "cell_type": "code",
   "execution_count": 104,
   "metadata": {},
   "outputs": [],
   "source": [
    "big_list = [i*2 if i % 2 == 0 else i*3 for i in range(10000)]"
   ]
  },
  {
   "cell_type": "code",
   "execution_count": 105,
   "metadata": {},
   "outputs": [
    {
     "data": {
      "text/plain": [
       "87624"
      ]
     },
     "execution_count": 105,
     "metadata": {},
     "output_type": "execute_result"
    }
   ],
   "source": [
    "sys.getsizeof(big_list)"
   ]
  },
  {
   "cell_type": "markdown",
   "metadata": {},
   "source": [
    "<b><font color=blue>相比推导式，生成式有助于节约内存空间</font></b>\n",
    "\n",
    "<b><font color=Chocolate>拓展学习</font></b>：<a href=\"https://blog.csdn.net/qq_36523839/article/details/79807866\" target=\"_blank\">Python列表推导式和生成器表达式的异同</a>"
   ]
  },
  {
   "cell_type": "code",
   "execution_count": 106,
   "metadata": {},
   "outputs": [],
   "source": [
    "set_1 = {i%5 for i in range(100)}"
   ]
  },
  {
   "cell_type": "code",
   "execution_count": 107,
   "metadata": {},
   "outputs": [
    {
     "data": {
      "text/plain": [
       "{0, 1, 2, 3, 4}"
      ]
     },
     "execution_count": 107,
     "metadata": {},
     "output_type": "execute_result"
    }
   ],
   "source": [
    "set_1"
   ]
  },
  {
   "cell_type": "markdown",
   "metadata": {},
   "source": [
    "<b><font color=blue>总结一下推导式</font></b>\n",
    "\n",
    "四个重要部分：\n",
    "\n",
    "- 边界符号（中括号是列表推导式，花括号是集合推导式）\n",
    "- `for`关键词，用来遍历一个可迭代对象\n",
    "- `if...else..`用来做条件判断\n",
    "- 表达式，用来计算结果序列中每一个元素的值\n",
    "\n",
    "一定记住，推导式中只使用`if` 和 推导式中使用`if else` 两者写法的区别：\n",
    "\n",
    "- `[判断条件为真时要执行的表达式 for item in 可迭代对象 if 判断条件]`\n",
    "- `[判断条件为真时要执行的表达式  if 判断条件 else 判断条件为假时要执行的表达式 for item in 可迭代对象]`"
   ]
  },
  {
   "cell_type": "markdown",
   "metadata": {},
   "source": [
    "### 4.3 字典的基本操作\n",
    "\n",
    "#### in/not in运算符\n",
    "\n",
    "- 使用`in`或`not in`运算符可以用来判断一个**关键字**是否在字典中。\n",
    "\n",
    "#### 比较运算符\n",
    "\n",
    "- 可以使用运算符`==`和`!=`来检测两个字典中的条目是否相同。\n",
    "\n",
    "#### 字典也是无序对象"
   ]
  },
  {
   "cell_type": "code",
   "execution_count": 108,
   "metadata": {},
   "outputs": [],
   "source": [
    "film2id_dict = {v:k for k, v in film_dict.items()}"
   ]
  },
  {
   "cell_type": "code",
   "execution_count": 109,
   "metadata": {},
   "outputs": [
    {
     "data": {
      "text/plain": [
       "{'月黑高飞': '1292052',\n",
       " '阿甘正传': '1292720',\n",
       " '这个杀手不太冷': '1295644',\n",
       " '泰坦尼克号': '1292722',\n",
       " '局内人': '1441801',\n",
       " '七武士': '1460911',\n",
       " '美丽人生': '1292063'}"
      ]
     },
     "execution_count": 109,
     "metadata": {},
     "output_type": "execute_result"
    }
   ],
   "source": [
    "film2id_dict"
   ]
  },
  {
   "cell_type": "code",
   "execution_count": 110,
   "metadata": {},
   "outputs": [
    {
     "data": {
      "text/plain": [
       "False"
      ]
     },
     "execution_count": 110,
     "metadata": {},
     "output_type": "execute_result"
    }
   ],
   "source": [
    "# in/not in只能判断key，key，key是否在字典中存在\n",
    "'肖申克的救赎' in film2id_dict"
   ]
  },
  {
   "cell_type": "code",
   "execution_count": 111,
   "metadata": {},
   "outputs": [
    {
     "data": {
      "text/plain": [
       "True"
      ]
     },
     "execution_count": 111,
     "metadata": {},
     "output_type": "execute_result"
    }
   ],
   "source": [
    "'阿甘正传' in film2id_dict"
   ]
  },
  {
   "cell_type": "code",
   "execution_count": 112,
   "metadata": {},
   "outputs": [
    {
     "data": {
      "text/plain": [
       "False"
      ]
     },
     "execution_count": 112,
     "metadata": {},
     "output_type": "execute_result"
    }
   ],
   "source": [
    "'阿甘正传' not in film2id_dict"
   ]
  },
  {
   "cell_type": "code",
   "execution_count": 113,
   "metadata": {},
   "outputs": [
    {
     "data": {
      "text/plain": [
       "False"
      ]
     },
     "execution_count": 113,
     "metadata": {},
     "output_type": "execute_result"
    }
   ],
   "source": [
    "# '1292052'在字典的values里，但是不在keys里\n",
    "'1292052' in film2id_dict"
   ]
  },
  {
   "cell_type": "code",
   "execution_count": 114,
   "metadata": {},
   "outputs": [
    {
     "data": {
      "text/plain": [
       "True"
      ]
     },
     "execution_count": 114,
     "metadata": {},
     "output_type": "execute_result"
    }
   ],
   "source": [
    "# 字典无序\n",
    "{1:'a', 2:'b', 3:'c'} == {2:'b',3:'c',1:'a'}"
   ]
  },
  {
   "cell_type": "code",
   "execution_count": 115,
   "metadata": {},
   "outputs": [
    {
     "data": {
      "text/plain": [
       "False"
      ]
     },
     "execution_count": 115,
     "metadata": {},
     "output_type": "execute_result"
    }
   ],
   "source": [
    "# 列表有序\n",
    "[1,2,3] == [2,3,1]"
   ]
  },
  {
   "cell_type": "markdown",
   "metadata": {},
   "source": [
    "## 4.4 字典相关的函数和方法\n",
    "\n",
    "- `keys()`\n",
    "- `values()`\n",
    "- `items()`\n",
    "- `get(key[, default])`\n",
    "- `pop(key[, default])`\n",
    "- `popitem()`\n",
    "- `copy()`\n",
    "- `setdefault(key[, default])`\n",
    "- `update([other])`\n",
    "- `clear()`"
   ]
  },
  {
   "cell_type": "code",
   "execution_count": 116,
   "metadata": {
    "scrolled": true
   },
   "outputs": [
    {
     "data": {
      "text/plain": [
       "{'月黑高飞': '1292052',\n",
       " '阿甘正传': '1292720',\n",
       " '这个杀手不太冷': '1295644',\n",
       " '泰坦尼克号': '1292722',\n",
       " '局内人': '1441801',\n",
       " '七武士': '1460911',\n",
       " '美丽人生': '1292063'}"
      ]
     },
     "execution_count": 116,
     "metadata": {},
     "output_type": "execute_result"
    }
   ],
   "source": [
    "film2id_dict"
   ]
  },
  {
   "cell_type": "code",
   "execution_count": 117,
   "metadata": {},
   "outputs": [],
   "source": [
    "# 删除不存在的key会报错哦\n",
    "# film2id_dict.pop('肖申克的救赎')"
   ]
  },
  {
   "cell_type": "code",
   "execution_count": 118,
   "metadata": {},
   "outputs": [
    {
     "data": {
      "text/plain": [
       "'注意：字典中不存在该电影！！！'"
      ]
     },
     "execution_count": 118,
     "metadata": {},
     "output_type": "execute_result"
    }
   ],
   "source": [
    "# 如果key不存在则返回指定的值\n",
    "# 此处指定如果不存在key，则返回”注意：字典中不存在该电影！！！“\n",
    "film2id_dict.pop('肖申克的救赎','注意：字典中不存在该电影！！！')"
   ]
  },
  {
   "cell_type": "code",
   "execution_count": 119,
   "metadata": {},
   "outputs": [
    {
     "name": "stdout",
     "output_type": "stream",
     "text": [
      "D.popitem() -> (k, v), remove and return some (key, value) pair as a\n",
      "2-tuple; but raise KeyError if D is empty.\n"
     ]
    }
   ],
   "source": [
    "# 看看popitem的用法\n",
    "print(dict.popitem.__doc__)"
   ]
  },
  {
   "cell_type": "code",
   "execution_count": 120,
   "metadata": {},
   "outputs": [
    {
     "data": {
      "text/plain": [
       "('美丽人生', '1292063')"
      ]
     },
     "execution_count": 120,
     "metadata": {},
     "output_type": "execute_result"
    }
   ],
   "source": [
    "# 删除某个，某个，某个，key-value pair，并以2元组的形式返回被删除的key-value pair\n",
    "film2id_dict.popitem()"
   ]
  },
  {
   "cell_type": "code",
   "execution_count": 121,
   "metadata": {},
   "outputs": [
    {
     "name": "stdout",
     "output_type": "stream",
     "text": [
      "D.copy() -> a shallow copy of D\n"
     ]
    }
   ],
   "source": [
    "# 字典的一个浅复制\n",
    "print(dict.copy.__doc__)"
   ]
  },
  {
   "cell_type": "markdown",
   "metadata": {},
   "source": [
    "### 直接赋值、浅复制、深复制的区别"
   ]
  },
  {
   "cell_type": "markdown",
   "metadata": {},
   "source": [
    "以下“复制”和“拷贝”两词均表达相同意思（即copy），会互换着使用。"
   ]
  },
  {
   "cell_type": "markdown",
   "metadata": {},
   "source": [
    "- 直接赋值：其实就是对象的引用（别名）。\n",
    "\n",
    "- 浅拷贝(copy)：拷贝父对象，不会拷贝对象的内部的子对象。\n",
    "\n",
    "- 深拷贝(deepcopy)： copy 模块的 deepcopy 方法，完全拷贝了父对象及其子对象。"
   ]
  },
  {
   "cell_type": "code",
   "execution_count": 122,
   "metadata": {},
   "outputs": [],
   "source": [
    "a = {1: [1,2,3]}"
   ]
  },
  {
   "cell_type": "code",
   "execution_count": 123,
   "metadata": {},
   "outputs": [],
   "source": [
    "# 直接赋值\n",
    "b = a"
   ]
  },
  {
   "cell_type": "markdown",
   "metadata": {},
   "source": [
    "`b = a`: 赋值引用，a 和 b 都指向同一个对象。\n",
    "\n",
    "<div align=center>\n",
    "<img width=\"350\" height=\"550\" src=\"https://github.com/zhangjianzhang/programming_basics/blob/master/files/codes/lecture_4/fuzhi.png?raw=true\">\n",
    "\n",
    "<p><center><font>直接赋值</font></center></p>\n",
    "</div>"
   ]
  },
  {
   "cell_type": "code",
   "execution_count": 124,
   "metadata": {},
   "outputs": [],
   "source": [
    "# 浅拷贝\n",
    "b = a.copy()"
   ]
  },
  {
   "attachments": {},
   "cell_type": "markdown",
   "metadata": {},
   "source": [
    "`b = a.copy()`: 浅拷贝, a 和 b 是一个独立的对象，但他们的子对象还是指向统一对象（是引用）。\n",
    "\n",
    "<div align=center>\n",
    "<img width=\"350\" height=\"550\" src=\"https://github.com/zhangjianzhang/programming_basics/blob/master/files/codes/lecture_4/qian.png?raw=true\">\n",
    "\n",
    "<p><center><font>浅拷贝</font></center></p>\n",
    "</div>"
   ]
  },
  {
   "cell_type": "code",
   "execution_count": 125,
   "metadata": {},
   "outputs": [
    {
     "data": {
      "text/plain": [
       "({1: [1, 2, 3]}, {1: [1, 2, 3]})"
      ]
     },
     "execution_count": 125,
     "metadata": {},
     "output_type": "execute_result"
    }
   ],
   "source": [
    "a, b"
   ]
  },
  {
   "cell_type": "code",
   "execution_count": 126,
   "metadata": {},
   "outputs": [],
   "source": [
    "a[1].append(4)"
   ]
  },
  {
   "cell_type": "code",
   "execution_count": 127,
   "metadata": {},
   "outputs": [
    {
     "data": {
      "text/plain": [
       "({1: [1, 2, 3, 4]}, {1: [1, 2, 3, 4]})"
      ]
     },
     "execution_count": 127,
     "metadata": {},
     "output_type": "execute_result"
    }
   ],
   "source": [
    "a, b"
   ]
  },
  {
   "cell_type": "code",
   "execution_count": 128,
   "metadata": {},
   "outputs": [],
   "source": [
    "# 深拷贝\n",
    "import copy\n",
    "c = copy.deepcopy(a)"
   ]
  },
  {
   "attachments": {},
   "cell_type": "markdown",
   "metadata": {},
   "source": [
    "`b = copy.deepcopy(a)`: 深度拷贝, a 和 b 完全拷贝了父对象及其子对象，两者是完全独立的。\n",
    "\n",
    "<div align=center>\n",
    "<img width=\"350\" height=\"550\" src=\"https://github.com/zhangjianzhang/programming_basics/blob/master/files/codes/lecture_4/shen.png?raw=true\">\n",
    "\n",
    "<p><center><font>深拷贝</font></center></p>\n",
    "</div>"
   ]
  },
  {
   "cell_type": "code",
   "execution_count": 129,
   "metadata": {},
   "outputs": [
    {
     "data": {
      "text/plain": [
       "({1: [1, 2, 3, 4]}, {1: [1, 2, 3, 4]})"
      ]
     },
     "execution_count": 129,
     "metadata": {},
     "output_type": "execute_result"
    }
   ],
   "source": [
    "a, c"
   ]
  },
  {
   "cell_type": "code",
   "execution_count": 130,
   "metadata": {},
   "outputs": [],
   "source": [
    "a[1].append(4)"
   ]
  },
  {
   "cell_type": "code",
   "execution_count": 131,
   "metadata": {},
   "outputs": [
    {
     "data": {
      "text/plain": [
       "({1: [1, 2, 3, 4, 4]}, {1: [1, 2, 3, 4]})"
      ]
     },
     "execution_count": 131,
     "metadata": {},
     "output_type": "execute_result"
    }
   ],
   "source": [
    "a, c"
   ]
  },
  {
   "cell_type": "markdown",
   "metadata": {},
   "source": [
    "<b><font color=blue>对于列表：切片和列表迭代得到也是浅复制。</font></b>"
   ]
  },
  {
   "cell_type": "code",
   "execution_count": 132,
   "metadata": {},
   "outputs": [],
   "source": [
    "list_5 = [1, [1,2,3], 4]"
   ]
  },
  {
   "cell_type": "code",
   "execution_count": 133,
   "metadata": {},
   "outputs": [],
   "source": [
    "# 切片得到列表list_6，是浅复制\n",
    "list_6 = list_5[:]"
   ]
  },
  {
   "cell_type": "code",
   "execution_count": 134,
   "metadata": {},
   "outputs": [],
   "source": [
    "list_5[1].append(0)"
   ]
  },
  {
   "cell_type": "code",
   "execution_count": 135,
   "metadata": {
    "scrolled": true
   },
   "outputs": [
    {
     "data": {
      "text/plain": [
       "[1, [1, 2, 3, 0], 4]"
      ]
     },
     "execution_count": 135,
     "metadata": {},
     "output_type": "execute_result"
    }
   ],
   "source": [
    "list_5"
   ]
  },
  {
   "cell_type": "code",
   "execution_count": 136,
   "metadata": {},
   "outputs": [
    {
     "data": {
      "text/plain": [
       "[1, [1, 2, 3, 0], 4]"
      ]
     },
     "execution_count": 136,
     "metadata": {},
     "output_type": "execute_result"
    }
   ],
   "source": [
    "list_6"
   ]
  },
  {
   "cell_type": "code",
   "execution_count": 137,
   "metadata": {},
   "outputs": [],
   "source": [
    "# 迭代得到列表list_7，是浅复制\n",
    "list_7 = [item for item in list_5]"
   ]
  },
  {
   "cell_type": "code",
   "execution_count": 138,
   "metadata": {},
   "outputs": [
    {
     "data": {
      "text/plain": [
       "([1, [1, 2, 3, 0], 4], [1, [1, 2, 3, 0], 4])"
      ]
     },
     "execution_count": 138,
     "metadata": {},
     "output_type": "execute_result"
    }
   ],
   "source": [
    "list_5, list_7"
   ]
  },
  {
   "cell_type": "code",
   "execution_count": 139,
   "metadata": {},
   "outputs": [],
   "source": [
    "list_5[1].append(-1)"
   ]
  },
  {
   "cell_type": "code",
   "execution_count": 140,
   "metadata": {
    "scrolled": true
   },
   "outputs": [
    {
     "data": {
      "text/plain": [
       "([1, [1, 2, 3, 0, -1], 4], [1, [1, 2, 3, 0, -1], 4])"
      ]
     },
     "execution_count": 140,
     "metadata": {},
     "output_type": "execute_result"
    }
   ],
   "source": [
    "list_5, list_7"
   ]
  },
  {
   "cell_type": "code",
   "execution_count": 141,
   "metadata": {},
   "outputs": [],
   "source": [
    "list_5.append(-100)"
   ]
  },
  {
   "cell_type": "code",
   "execution_count": 142,
   "metadata": {
    "scrolled": false
   },
   "outputs": [
    {
     "data": {
      "text/plain": [
       "([1, [1, 2, 3, 0, -1], 4, -100], [1, [1, 2, 3, 0, -1], 4])"
      ]
     },
     "execution_count": 142,
     "metadata": {},
     "output_type": "execute_result"
    }
   ],
   "source": [
    "list_5, list_7"
   ]
  },
  {
   "cell_type": "code",
   "execution_count": 143,
   "metadata": {
    "scrolled": true
   },
   "outputs": [
    {
     "data": {
      "text/plain": [
       "[1, [1, 2, 3, 0, -1], 4, -100]"
      ]
     },
     "execution_count": 143,
     "metadata": {},
     "output_type": "execute_result"
    }
   ],
   "source": [
    "list_5"
   ]
  },
  {
   "cell_type": "code",
   "execution_count": 144,
   "metadata": {},
   "outputs": [],
   "source": [
    "list_8 = list_5.copy()"
   ]
  },
  {
   "cell_type": "code",
   "execution_count": 145,
   "metadata": {
    "scrolled": true
   },
   "outputs": [
    {
     "data": {
      "text/plain": [
       "[1, [1, 2, 3, 0, -1], 4, -100]"
      ]
     },
     "execution_count": 145,
     "metadata": {},
     "output_type": "execute_result"
    }
   ],
   "source": [
    "list_8"
   ]
  },
  {
   "cell_type": "code",
   "execution_count": 146,
   "metadata": {},
   "outputs": [],
   "source": [
    "list_5[1].append(-2)"
   ]
  },
  {
   "cell_type": "code",
   "execution_count": 147,
   "metadata": {
    "scrolled": true
   },
   "outputs": [
    {
     "data": {
      "text/plain": [
       "([1, [1, 2, 3, 0, -1, -2], 4, -100], [1, [1, 2, 3, 0, -1, -2], 4, -100])"
      ]
     },
     "execution_count": 147,
     "metadata": {},
     "output_type": "execute_result"
    }
   ],
   "source": [
    "list_5, list_8"
   ]
  },
  {
   "cell_type": "code",
   "execution_count": 148,
   "metadata": {},
   "outputs": [],
   "source": [
    "del list_5, list_6"
   ]
  },
  {
   "cell_type": "code",
   "execution_count": 149,
   "metadata": {},
   "outputs": [],
   "source": [
    "list_5 = [1, set([1,2,3]), 4]"
   ]
  },
  {
   "cell_type": "code",
   "execution_count": 150,
   "metadata": {},
   "outputs": [
    {
     "data": {
      "text/plain": [
       "[1, {1, 2, 3}, 4]"
      ]
     },
     "execution_count": 150,
     "metadata": {},
     "output_type": "execute_result"
    }
   ],
   "source": [
    "list_5"
   ]
  },
  {
   "cell_type": "code",
   "execution_count": 151,
   "metadata": {},
   "outputs": [],
   "source": [
    "list_6 = list_5[:]"
   ]
  },
  {
   "cell_type": "code",
   "execution_count": 152,
   "metadata": {},
   "outputs": [
    {
     "data": {
      "text/plain": [
       "[1, {1, 2, 3}, 4]"
      ]
     },
     "execution_count": 152,
     "metadata": {},
     "output_type": "execute_result"
    }
   ],
   "source": [
    "list_6"
   ]
  },
  {
   "cell_type": "code",
   "execution_count": 153,
   "metadata": {},
   "outputs": [
    {
     "data": {
      "text/plain": [
       "1"
      ]
     },
     "execution_count": 153,
     "metadata": {},
     "output_type": "execute_result"
    }
   ],
   "source": [
    "list_5[1].pop()"
   ]
  },
  {
   "cell_type": "code",
   "execution_count": 154,
   "metadata": {
    "scrolled": true
   },
   "outputs": [
    {
     "data": {
      "text/plain": [
       "([1, {2, 3}, 4], [1, {2, 3}, 4])"
      ]
     },
     "execution_count": 154,
     "metadata": {},
     "output_type": "execute_result"
    }
   ],
   "source": [
    "list_5, list_6"
   ]
  },
  {
   "cell_type": "markdown",
   "metadata": {},
   "source": [
    "<b><font color=blue>无论是字典还是列表，`copy`方法都是浅复制，浅复制只复制最外面一层。</font></b>"
   ]
  },
  {
   "cell_type": "markdown",
   "metadata": {},
   "source": [
    "<b><font color=blue>如果想要对原对象做备份，必须使用深复制，使用浅复制和直接赋值非常可能改变原对象，因为浅复制和直接赋值没有实现对原对象的完全复制。</font></b>"
   ]
  },
  {
   "cell_type": "markdown",
   "metadata": {},
   "source": [
    "<b><font color=red>思考题</font></b>：\n",
    " - 如果下面运行代码`list_5 is list_6`，结果是什么"
   ]
  },
  {
   "cell_type": "markdown",
   "metadata": {},
   "source": [
    "<b><font color=red>思考题</font></b>：\n",
    "\n",
    "先执行如下两行代码<br>\n",
    "`d1 = {'a':1, 'b':[1,2,3], 'c':set([4,5,6]), 'd':7}`<br>\n",
    "`d2 = {k:v for k,v in d1.items()}`\n",
    "\n",
    "如果继续执行`d1['b'].append(100)`，`d2`会如何变化<br>\n",
    "如果继续执行`d1['c'].pop()`，`d2`会如何变化<br>\n",
    "如果继续执行`d1['d'] = '阿里巴巴'`，`d2`会如何变化<br>"
   ]
  },
  {
   "cell_type": "markdown",
   "metadata": {},
   "source": [
    "`setdefault(key[, default])`如果 key 在字典中，返回对应的值。如果key不在字典中，那就插入一个新的key-value pair，value值如果没有指定，则默认为None，插入后，返回value值。"
   ]
  },
  {
   "cell_type": "code",
   "execution_count": 155,
   "metadata": {},
   "outputs": [
    {
     "data": {
      "text/plain": [
       "{'月黑高飞': '1292052',\n",
       " '阿甘正传': '1292720',\n",
       " '这个杀手不太冷': '1295644',\n",
       " '泰坦尼克号': '1292722',\n",
       " '局内人': '1441801',\n",
       " '七武士': '1460911'}"
      ]
     },
     "execution_count": 155,
     "metadata": {},
     "output_type": "execute_result"
    }
   ],
   "source": [
    "film2id_dict"
   ]
  },
  {
   "cell_type": "code",
   "execution_count": 156,
   "metadata": {},
   "outputs": [
    {
     "data": {
      "text/plain": [
       "'1292052'"
      ]
     },
     "execution_count": 156,
     "metadata": {},
     "output_type": "execute_result"
    }
   ],
   "source": [
    "# key 在字典中，返回对应的value\n",
    "film2id_dict.setdefault('月黑高飞')"
   ]
  },
  {
   "cell_type": "code",
   "execution_count": 157,
   "metadata": {},
   "outputs": [
    {
     "data": {
      "text/plain": [
       "{'月黑高飞': '1292052',\n",
       " '阿甘正传': '1292720',\n",
       " '这个杀手不太冷': '1295644',\n",
       " '泰坦尼克号': '1292722',\n",
       " '局内人': '1441801',\n",
       " '七武士': '1460911'}"
      ]
     },
     "execution_count": 157,
     "metadata": {},
     "output_type": "execute_result"
    }
   ],
   "source": [
    "film2id_dict"
   ]
  },
  {
   "cell_type": "code",
   "execution_count": 158,
   "metadata": {},
   "outputs": [
    {
     "data": {
      "text/plain": [
       "'1291561'"
      ]
     },
     "execution_count": 158,
     "metadata": {},
     "output_type": "execute_result"
    }
   ],
   "source": [
    "# key不在字典中，那就插入一个新的key-value pair\n",
    "# value值如果没有指定，则默认为None\n",
    "film2id_dict.setdefault('千与千寻', '1291561')"
   ]
  },
  {
   "cell_type": "code",
   "execution_count": 159,
   "metadata": {},
   "outputs": [],
   "source": [
    "# 《三体3D MAX》目前还没有出来，那value值就取默认的None吧\n",
    "film2id_dict.setdefault('三体3D MAX')"
   ]
  },
  {
   "cell_type": "code",
   "execution_count": 160,
   "metadata": {},
   "outputs": [
    {
     "data": {
      "text/plain": [
       "{'月黑高飞': '1292052',\n",
       " '阿甘正传': '1292720',\n",
       " '这个杀手不太冷': '1295644',\n",
       " '泰坦尼克号': '1292722',\n",
       " '局内人': '1441801',\n",
       " '七武士': '1460911',\n",
       " '千与千寻': '1291561',\n",
       " '三体3D MAX': None}"
      ]
     },
     "execution_count": 160,
     "metadata": {},
     "output_type": "execute_result"
    }
   ],
   "source": [
    "film2id_dict"
   ]
  },
  {
   "cell_type": "code",
   "execution_count": 161,
   "metadata": {},
   "outputs": [
    {
     "name": "stdout",
     "output_type": "stream",
     "text": [
      "D.update([E, ]**F) -> None.  Update D from dict/iterable E and F.\n",
      "If E is present and has a .keys() method, then does:  for k in E: D[k] = E[k]\n",
      "If E is present and lacks a .keys() method, then does:  for k, v in E: D[k] = v\n",
      "In either case, this is followed by: for k in F:  D[k] = F[k]\n"
     ]
    }
   ],
   "source": [
    "print(dict.update.__doc__)"
   ]
  },
  {
   "cell_type": "code",
   "execution_count": 162,
   "metadata": {},
   "outputs": [],
   "source": [
    "dict_3 = {'盗梦空间':'3541415', '忠犬八公的故事':'3011091'}"
   ]
  },
  {
   "cell_type": "code",
   "execution_count": 163,
   "metadata": {},
   "outputs": [],
   "source": [
    "dict_4 = {'星际穿越':'1889243', '楚门的世界':'1292064', \n",
    "          '海上钢琴师':'1292001', '三傻大闹宝莱坞':'3793023'}"
   ]
  },
  {
   "cell_type": "code",
   "execution_count": 164,
   "metadata": {},
   "outputs": [],
   "source": [
    "list_4 = list(dict_4.items())"
   ]
  },
  {
   "cell_type": "code",
   "execution_count": 165,
   "metadata": {},
   "outputs": [],
   "source": [
    "# 基本用法，使用一个字典（此处为dict3）对已有字典进行更新（此处为film2id_dict）\n",
    "film2id_dict.update(dict_3)"
   ]
  },
  {
   "cell_type": "code",
   "execution_count": 166,
   "metadata": {},
   "outputs": [
    {
     "data": {
      "text/plain": [
       "{'月黑高飞': '1292052',\n",
       " '阿甘正传': '1292720',\n",
       " '这个杀手不太冷': '1295644',\n",
       " '泰坦尼克号': '1292722',\n",
       " '局内人': '1441801',\n",
       " '七武士': '1460911',\n",
       " '千与千寻': '1291561',\n",
       " '三体3D MAX': None,\n",
       " '盗梦空间': '3541415',\n",
       " '忠犬八公的故事': '3011091'}"
      ]
     },
     "execution_count": 166,
     "metadata": {},
     "output_type": "execute_result"
    }
   ],
   "source": [
    "film2id_dict"
   ]
  },
  {
   "cell_type": "code",
   "execution_count": 167,
   "metadata": {},
   "outputs": [],
   "source": [
    "# 使用list(2-tuple)，二元组列表，对已有字典进行更新\n",
    "# 此处的二元组列表为list_4\n",
    "film2id_dict.update(list_4)"
   ]
  },
  {
   "cell_type": "code",
   "execution_count": 168,
   "metadata": {},
   "outputs": [
    {
     "data": {
      "text/plain": [
       "{'月黑高飞': '1292052',\n",
       " '阿甘正传': '1292720',\n",
       " '这个杀手不太冷': '1295644',\n",
       " '泰坦尼克号': '1292722',\n",
       " '局内人': '1441801',\n",
       " '七武士': '1460911',\n",
       " '千与千寻': '1291561',\n",
       " '三体3D MAX': None,\n",
       " '盗梦空间': '3541415',\n",
       " '忠犬八公的故事': '3011091',\n",
       " '星际穿越': '1889243',\n",
       " '楚门的世界': '1292064',\n",
       " '海上钢琴师': '1292001',\n",
       " '三傻大闹宝莱坞': '3793023'}"
      ]
     },
     "execution_count": 168,
     "metadata": {},
     "output_type": "execute_result"
    }
   ],
   "source": [
    "film2id_dict"
   ]
  },
  {
   "cell_type": "code",
   "execution_count": 169,
   "metadata": {},
   "outputs": [
    {
     "name": "stdout",
     "output_type": "stream",
     "text": [
      "D.clear() -> None.  Remove all items from D.\n"
     ]
    }
   ],
   "source": [
    "print(dict.clear.__doc__)"
   ]
  },
  {
   "cell_type": "code",
   "execution_count": 170,
   "metadata": {},
   "outputs": [],
   "source": [
    "# 清空列表\n",
    "film2id_dict.clear()"
   ]
  },
  {
   "cell_type": "markdown",
   "metadata": {},
   "source": [
    "<b><font color=red>思考题</font></b>：下面两行代码有什么区别\n",
    "\n",
    "- `film2id_dict.clear()`\n",
    "- `del film2id_dict`"
   ]
  },
  {
   "cell_type": "code",
   "execution_count": 171,
   "metadata": {},
   "outputs": [],
   "source": [
    "# film2id_dict"
   ]
  },
  {
   "cell_type": "markdown",
   "metadata": {},
   "source": [
    "## 4.6 有关Python 数据的补充说明"
   ]
  },
  {
   "cell_type": "markdown",
   "metadata": {},
   "source": [
    "- `str()`函数：将值转化为适于人阅读的**字符串**的形式；\n",
    "\n",
    "- `repr()`函数：将值转化为供解释器读取的**字符串**形式；\n",
    "\n",
    "- `eval()`函数：执行一个字符串表达式，并返回表达式的值。\n",
    "\n",
    "<b><font color=Chocolate>拓展学习</font></b>：<a href=\"https://blog.csdn.net/kongsuhongbaby/article/details/87398394\" target=\"_blank\">python3编程基础：str()、repr()的区别</a>"
   ]
  },
  {
   "cell_type": "code",
   "execution_count": 172,
   "metadata": {},
   "outputs": [],
   "source": [
    "x = 123"
   ]
  },
  {
   "cell_type": "code",
   "execution_count": 173,
   "metadata": {},
   "outputs": [],
   "source": [
    "x_str = str(x)"
   ]
  },
  {
   "cell_type": "code",
   "execution_count": 174,
   "metadata": {},
   "outputs": [
    {
     "data": {
      "text/plain": [
       "'123'"
      ]
     },
     "execution_count": 174,
     "metadata": {},
     "output_type": "execute_result"
    }
   ],
   "source": [
    "x_str"
   ]
  },
  {
   "cell_type": "code",
   "execution_count": 175,
   "metadata": {},
   "outputs": [
    {
     "data": {
      "text/plain": [
       "str"
      ]
     },
     "execution_count": 175,
     "metadata": {},
     "output_type": "execute_result"
    }
   ],
   "source": [
    "type(x_str)"
   ]
  },
  {
   "cell_type": "code",
   "execution_count": 176,
   "metadata": {},
   "outputs": [],
   "source": [
    "x_repr = repr(x)"
   ]
  },
  {
   "cell_type": "code",
   "execution_count": 177,
   "metadata": {},
   "outputs": [
    {
     "data": {
      "text/plain": [
       "'123'"
      ]
     },
     "execution_count": 177,
     "metadata": {},
     "output_type": "execute_result"
    }
   ],
   "source": [
    "x_repr"
   ]
  },
  {
   "cell_type": "code",
   "execution_count": 178,
   "metadata": {},
   "outputs": [
    {
     "data": {
      "text/plain": [
       "str"
      ]
     },
     "execution_count": 178,
     "metadata": {},
     "output_type": "execute_result"
    }
   ],
   "source": [
    "type(x_repr)"
   ]
  },
  {
   "cell_type": "code",
   "execution_count": 179,
   "metadata": {},
   "outputs": [
    {
     "data": {
      "text/plain": [
       "123"
      ]
     },
     "execution_count": 179,
     "metadata": {},
     "output_type": "execute_result"
    }
   ],
   "source": [
    "# 执行一个字符串表达式\n",
    "eval(x_str)"
   ]
  },
  {
   "cell_type": "code",
   "execution_count": 180,
   "metadata": {},
   "outputs": [
    {
     "data": {
      "text/plain": [
       "123"
      ]
     },
     "execution_count": 180,
     "metadata": {},
     "output_type": "execute_result"
    }
   ],
   "source": [
    "# 执行一个字符串表达式\n",
    "eval(x_repr)"
   ]
  },
  {
   "cell_type": "code",
   "execution_count": 181,
   "metadata": {},
   "outputs": [
    {
     "data": {
      "text/plain": [
       "int"
      ]
     },
     "execution_count": 181,
     "metadata": {},
     "output_type": "execute_result"
    }
   ],
   "source": [
    "type(eval(x_str))"
   ]
  },
  {
   "cell_type": "code",
   "execution_count": 182,
   "metadata": {},
   "outputs": [
    {
     "data": {
      "text/plain": [
       "int"
      ]
     },
     "execution_count": 182,
     "metadata": {},
     "output_type": "execute_result"
    }
   ],
   "source": [
    "type(eval(x_repr))"
   ]
  },
  {
   "cell_type": "code",
   "execution_count": 183,
   "metadata": {},
   "outputs": [],
   "source": [
    "y = '123'"
   ]
  },
  {
   "cell_type": "code",
   "execution_count": 184,
   "metadata": {},
   "outputs": [],
   "source": [
    "y_str = str(y)"
   ]
  },
  {
   "cell_type": "code",
   "execution_count": 185,
   "metadata": {},
   "outputs": [
    {
     "data": {
      "text/plain": [
       "'123'"
      ]
     },
     "execution_count": 185,
     "metadata": {},
     "output_type": "execute_result"
    }
   ],
   "source": [
    "y_str"
   ]
  },
  {
   "cell_type": "code",
   "execution_count": 186,
   "metadata": {},
   "outputs": [],
   "source": [
    "y_repr = repr(y)"
   ]
  },
  {
   "cell_type": "code",
   "execution_count": 187,
   "metadata": {
    "scrolled": true
   },
   "outputs": [
    {
     "data": {
      "text/plain": [
       "\"'123'\""
      ]
     },
     "execution_count": 187,
     "metadata": {},
     "output_type": "execute_result"
    }
   ],
   "source": [
    "y_repr"
   ]
  },
  {
   "cell_type": "markdown",
   "metadata": {},
   "source": [
    "`str()`和`repr()`都可以把出传入的对象转换为字符串，当传入对象为字符串类型时，`repr()`会再加一层引号；\n",
    "\n",
    "`eval()`函数接收**字符串**，先把字符串的**引号去掉**，再把字符串引号里的内容当做表达式执行，并返回执行结果。"
   ]
  },
  {
   "cell_type": "code",
   "execution_count": 188,
   "metadata": {},
   "outputs": [
    {
     "data": {
      "text/plain": [
       "str"
      ]
     },
     "execution_count": 188,
     "metadata": {},
     "output_type": "execute_result"
    }
   ],
   "source": [
    "type(eval(y_repr))"
   ]
  },
  {
   "cell_type": "code",
   "execution_count": 189,
   "metadata": {},
   "outputs": [
    {
     "data": {
      "text/plain": [
       "int"
      ]
     },
     "execution_count": 189,
     "metadata": {},
     "output_type": "execute_result"
    }
   ],
   "source": [
    "type(eval(y_str))"
   ]
  },
  {
   "cell_type": "code",
   "execution_count": 190,
   "metadata": {},
   "outputs": [],
   "source": [
    "exp_1 = '+'.join('1234')"
   ]
  },
  {
   "cell_type": "code",
   "execution_count": 191,
   "metadata": {},
   "outputs": [
    {
     "data": {
      "text/plain": [
       "'1+2+3+4'"
      ]
     },
     "execution_count": 191,
     "metadata": {},
     "output_type": "execute_result"
    }
   ],
   "source": [
    "exp_1"
   ]
  },
  {
   "cell_type": "code",
   "execution_count": 192,
   "metadata": {},
   "outputs": [
    {
     "data": {
      "text/plain": [
       "str"
      ]
     },
     "execution_count": 192,
     "metadata": {},
     "output_type": "execute_result"
    }
   ],
   "source": [
    "type(exp_1)"
   ]
  },
  {
   "cell_type": "code",
   "execution_count": 193,
   "metadata": {},
   "outputs": [
    {
     "data": {
      "text/plain": [
       "'1+2+3+4'"
      ]
     },
     "execution_count": 193,
     "metadata": {},
     "output_type": "execute_result"
    }
   ],
   "source": [
    "str(exp_1)"
   ]
  },
  {
   "cell_type": "code",
   "execution_count": 194,
   "metadata": {},
   "outputs": [
    {
     "data": {
      "text/plain": [
       "\"'1+2+3+4'\""
      ]
     },
     "execution_count": 194,
     "metadata": {},
     "output_type": "execute_result"
    }
   ],
   "source": [
    "repr(exp_1)"
   ]
  },
  {
   "cell_type": "markdown",
   "metadata": {},
   "source": [
    "<b><font color=red>思考题</font></b>：\n",
    "\n",
    " - 如果下面运行代码`eval(str(exp_1))`，结果是什么\n",
    " - 如果下面运行代码`eval(repr(exp_1))`，结果是什么"
   ]
  },
  {
   "cell_type": "markdown",
   "metadata": {},
   "source": [
    "## 4.7 转义字符"
   ]
  },
  {
   "cell_type": "markdown",
   "metadata": {},
   "source": [
    "有些字符**无法直接输出**，可以通过`\\`转义**其它字符**实现。你可以把下表理解为，在Python中表示**特殊字符**的汇总表。"
   ]
  },
  {
   "cell_type": "markdown",
   "metadata": {},
   "source": [
    "<div align=center>\n",
    "<img width=\"550\" height=\"350\" src=\"https://github.com/zhangjianzhang/programming_basics/blob/master/files/codes/lecture_4/zhuanyi.jpg?raw=true\">\n",
    "\n",
    "<p><center><font>转义字符表</font></center></p>\n",
    "</div>"
   ]
  },
  {
   "cell_type": "code",
   "execution_count": 195,
   "metadata": {},
   "outputs": [
    {
     "name": "stdout",
     "output_type": "stream",
     "text": [
      "line1\n",
      "line2\n",
      "line3\n"
     ]
    }
   ],
   "source": [
    "print('''line1\n",
    "line2\n",
    "line3''')"
   ]
  },
  {
   "cell_type": "code",
   "execution_count": 196,
   "metadata": {},
   "outputs": [
    {
     "name": "stdout",
     "output_type": "stream",
     "text": [
      "line1line2line3\n"
     ]
    }
   ],
   "source": [
    "print('''line1\\\n",
    "line2\\\n",
    "line3''')"
   ]
  },
  {
   "cell_type": "code",
   "execution_count": 197,
   "metadata": {},
   "outputs": [],
   "source": [
    "# 这样无法输出\\\n",
    "# print('\\')"
   ]
  },
  {
   "cell_type": "code",
   "execution_count": 198,
   "metadata": {},
   "outputs": [
    {
     "name": "stdout",
     "output_type": "stream",
     "text": [
      "\\\n"
     ]
    }
   ],
   "source": [
    "print('\\\\')"
   ]
  },
  {
   "cell_type": "code",
   "execution_count": 199,
   "metadata": {},
   "outputs": [
    {
     "name": "stdout",
     "output_type": "stream",
     "text": [
      "'\n"
     ]
    }
   ],
   "source": [
    "print(\"'\")"
   ]
  },
  {
   "cell_type": "code",
   "execution_count": 200,
   "metadata": {},
   "outputs": [
    {
     "name": "stdout",
     "output_type": "stream",
     "text": [
      "'\n"
     ]
    }
   ],
   "source": [
    "print('\\'')"
   ]
  },
  {
   "cell_type": "code",
   "execution_count": 201,
   "metadata": {},
   "outputs": [
    {
     "name": "stdout",
     "output_type": "stream",
     "text": [
      "\u0007\n"
     ]
    }
   ],
   "source": [
    "# 在python自带的IDE会响铃，在其他第三方IDE可能会不响\n",
    "# 即使在Python自带的IDE也可能会不响铃，响铃与否也跟电脑的设置有关\n",
    "# 这个\\a表示响铃，了解即可\n",
    "print('\\a')"
   ]
  },
  {
   "cell_type": "code",
   "execution_count": 202,
   "metadata": {},
   "outputs": [
    {
     "name": "stdout",
     "output_type": "stream",
     "text": [
      "Hello\b World!\n"
     ]
    }
   ],
   "source": [
    "# 退格就是键盘上的Backspace，在o后面有个退格，相当于敲了一下键盘上的Backspace键\n",
    "# 这下你能理解结果了吧\n",
    "print(\"Hello\\b World!\")"
   ]
  },
  {
   "cell_type": "code",
   "execution_count": 203,
   "metadata": {},
   "outputs": [
    {
     "name": "stdout",
     "output_type": "stream",
     "text": [
      "Hello\r",
      "Worlddddd!\n"
     ]
    }
   ],
   "source": [
    "# 回车，将\\r后面的内容移到字符串开头，\n",
    "# 并逐一替换开头部分的字符，直至将\\r后面的内容完全替换完成\n",
    "print(\"Hello\\rWorlddddd!\")"
   ]
  },
  {
   "cell_type": "code",
   "execution_count": 204,
   "metadata": {},
   "outputs": [
    {
     "name": "stdout",
     "output_type": "stream",
     "text": [
      "Hello\r",
      "Wo\n"
     ]
    }
   ],
   "source": [
    "print(\"Hello\\rWo\")"
   ]
  },
  {
   "cell_type": "code",
   "execution_count": 205,
   "metadata": {},
   "outputs": [
    {
     "name": "stdout",
     "output_type": "stream",
     "text": [
      "Hello\r\n"
     ]
    }
   ],
   "source": [
    "print(\"Hello\\r\")"
   ]
  },
  {
   "cell_type": "code",
   "execution_count": 206,
   "metadata": {},
   "outputs": [
    {
     "name": "stdout",
     "output_type": "stream",
     "text": [
      "Hello \f",
      " World!\n"
     ]
    }
   ],
   "source": [
    "# 换页，将当前位置移到下页开头\n",
    "print(\"Hello \\f World!\")"
   ]
  },
  {
   "cell_type": "code",
   "execution_count": 207,
   "metadata": {},
   "outputs": [
    {
     "name": "stdout",
     "output_type": "stream",
     "text": [
      "\u0000\n"
     ]
    }
   ],
   "source": [
    "# 空\n",
    "print(\"\\000\")"
   ]
  },
  {
   "cell_type": "code",
   "execution_count": 208,
   "metadata": {},
   "outputs": [
    {
     "name": "stdout",
     "output_type": "stream",
     "text": [
      "Hello\tWorld!\n"
     ]
    }
   ],
   "source": [
    "# 横向制表符\n",
    "print(\"Hello\\tWorld!\")"
   ]
  },
  {
   "cell_type": "code",
   "execution_count": 209,
   "metadata": {},
   "outputs": [
    {
     "name": "stdout",
     "output_type": "stream",
     "text": [
      "Hello\n",
      "World!\n"
     ]
    }
   ],
   "source": [
    "# 将当前位置移到下一行开头\n",
    "print(\"Hello\\nWorld!\")"
   ]
  },
  {
   "cell_type": "markdown",
   "metadata": {},
   "source": [
    "很抱歉，关于`\\other`，我没有找到合适的例子"
   ]
  },
  {
   "cell_type": "markdown",
   "metadata": {},
   "source": [
    "在字符串前加上r可以消除字符中的转义，语法:`r\"带转义字符的字符串\"`"
   ]
  },
  {
   "cell_type": "code",
   "execution_count": 210,
   "metadata": {},
   "outputs": [
    {
     "name": "stdout",
     "output_type": "stream",
     "text": [
      "Hello\\nWorld!\n"
     ]
    }
   ],
   "source": [
    "print(r\"Hello\\nWorld!\")"
   ]
  }
 ],
 "metadata": {
  "kernelspec": {
   "display_name": "Python 3",
   "language": "python",
   "name": "python3"
  },
  "language_info": {
   "codemirror_mode": {
    "name": "ipython",
    "version": 3
   },
   "file_extension": ".py",
   "mimetype": "text/x-python",
   "name": "python",
   "nbconvert_exporter": "python",
   "pygments_lexer": "ipython3",
   "version": "3.7.1"
  }
 },
 "nbformat": 4,
 "nbformat_minor": 2
}
