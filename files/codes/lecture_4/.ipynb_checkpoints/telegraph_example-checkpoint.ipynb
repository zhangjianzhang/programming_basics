{
 "cells": [
  {
   "cell_type": "markdown",
   "metadata": {},
   "source": [
    "## 来个有趣的自制电报机小栗子"
   ]
  },
  {
   "cell_type": "markdown",
   "metadata": {},
   "source": [
    "假如，假如，假如，你跟室友之间为了省通讯费，采用电报机进行沟通，今天，《程序设计课》，张老师点名了，你要用电报机通知在宿舍睡懒觉的室友，你们用的电报机只能发出两种声音，“滴”和“嗒”。\n",
    "\n",
    "用本门课程已学知识来制作这样一个虚拟的电报机，输出你室友听到的电报机声音滴答声，该声音表示的意思是“张老师点名了”。"
   ]
  },
  {
   "cell_type": "markdown",
   "metadata": {},
   "source": [
    "<div align=center>\n",
    "<img width=\"350\" height=\"550\" src=\"https://github.com/zhangjianzhang/programming_basics/blob/master/files/codes/lecture_4/telegraph.jpg?raw=true\">\n",
    "\n",
    "<p><center><font>嘀嗒电报机</font></center></p>\n",
    "</div>"
   ]
  },
  {
   "cell_type": "markdown",
   "metadata": {},
   "source": [
    "#### 第一步，定义一些实现嘀嗒电报机所需的组件"
   ]
  },
  {
   "cell_type": "code",
   "execution_count": 1,
   "metadata": {},
   "outputs": [],
   "source": [
    "char_list = list(set(list('张老师今天点名呢吃饭李老了师上课程序设计课')))"
   ]
  },
  {
   "cell_type": "code",
   "execution_count": 2,
   "metadata": {},
   "outputs": [],
   "source": [
    "import random\n",
    "random.seed(10)"
   ]
  },
  {
   "cell_type": "code",
   "execution_count": 3,
   "metadata": {},
   "outputs": [],
   "source": [
    "idx_list = list(range(0, len(char_list)))"
   ]
  },
  {
   "cell_type": "code",
   "execution_count": 4,
   "metadata": {},
   "outputs": [],
   "source": [
    "random.shuffle(idx_list)"
   ]
  },
  {
   "cell_type": "code",
   "execution_count": 5,
   "metadata": {},
   "outputs": [],
   "source": [
    "char_dict = dict(zip(char_list, idx_list))"
   ]
  },
  {
   "cell_type": "code",
   "execution_count": 6,
   "metadata": {},
   "outputs": [
    {
     "data": {
      "text/plain": [
       "{'师': 6,\n",
       " '点': 17,\n",
       " '名': 5,\n",
       " '上': 10,\n",
       " '序': 8,\n",
       " '天': 12,\n",
       " '饭': 14,\n",
       " '程': 16,\n",
       " '吃': 2,\n",
       " '计': 4,\n",
       " '设': 11,\n",
       " '课': 7,\n",
       " '李': 3,\n",
       " '了': 0,\n",
       " '今': 9,\n",
       " '张': 15,\n",
       " '呢': 13,\n",
       " '老': 1}"
      ]
     },
     "execution_count": 6,
     "metadata": {},
     "output_type": "execute_result"
    }
   ],
   "source": [
    "char_dict"
   ]
  },
  {
   "cell_type": "code",
   "execution_count": 7,
   "metadata": {},
   "outputs": [],
   "source": [
    "sound_dict = {'1':'嗒', '0':'嘀'}"
   ]
  },
  {
   "cell_type": "code",
   "execution_count": 8,
   "metadata": {},
   "outputs": [
    {
     "data": {
      "text/plain": [
       "{'1': '嗒', '0': '嘀'}"
      ]
     },
     "execution_count": 8,
     "metadata": {},
     "output_type": "execute_result"
    }
   ],
   "source": [
    "sound_dict"
   ]
  },
  {
   "cell_type": "code",
   "execution_count": 9,
   "metadata": {},
   "outputs": [],
   "source": [
    "sound_dict_reversed = dict(zip(sound_dict.values(),sound_dict.keys()))\n",
    "char_dict_reversed = dict(zip(char_dict.values(),char_dict.keys()))"
   ]
  },
  {
   "cell_type": "code",
   "execution_count": 10,
   "metadata": {},
   "outputs": [
    {
     "data": {
      "text/plain": [
       "{'嗒': '1', '嘀': '0'}"
      ]
     },
     "execution_count": 10,
     "metadata": {},
     "output_type": "execute_result"
    }
   ],
   "source": [
    "sound_dict_reversed"
   ]
  },
  {
   "cell_type": "code",
   "execution_count": 11,
   "metadata": {},
   "outputs": [
    {
     "data": {
      "text/plain": [
       "{6: '师',\n",
       " 17: '点',\n",
       " 5: '名',\n",
       " 10: '上',\n",
       " 8: '序',\n",
       " 12: '天',\n",
       " 14: '饭',\n",
       " 16: '程',\n",
       " 2: '吃',\n",
       " 4: '计',\n",
       " 11: '设',\n",
       " 7: '课',\n",
       " 3: '李',\n",
       " 0: '了',\n",
       " 9: '今',\n",
       " 15: '张',\n",
       " 13: '呢',\n",
       " 1: '老'}"
      ]
     },
     "execution_count": 11,
     "metadata": {},
     "output_type": "execute_result"
    }
   ],
   "source": [
    "char_dict_reversed"
   ]
  },
  {
   "cell_type": "markdown",
   "metadata": {},
   "source": [
    "#### 第二步，将文字信息转换为电报机的嘀嗒声"
   ]
  },
  {
   "cell_type": "code",
   "execution_count": 12,
   "metadata": {},
   "outputs": [],
   "source": [
    "info = '张老师点名了'"
   ]
  },
  {
   "cell_type": "code",
   "execution_count": 13,
   "metadata": {},
   "outputs": [],
   "source": [
    "# 把文字信息转换为电报机的声音\n",
    "sound_list = []\n",
    "for char in info:\n",
    "    idx = char_dict[char]\n",
    "    binary_idx = bin(idx)\n",
    "    for number in binary_idx[2:]:\n",
    "        sound = sound_dict[number]\n",
    "        sound_list.append(sound)\n",
    "    sound_list.append(' ')\n",
    "telegram_sound = ''.join(sound_list).strip()"
   ]
  },
  {
   "cell_type": "markdown",
   "metadata": {},
   "source": [
    "#### 你室友听到的电报机声音如下"
   ]
  },
  {
   "cell_type": "code",
   "execution_count": 14,
   "metadata": {},
   "outputs": [
    {
     "name": "stdout",
     "output_type": "stream",
     "text": [
      "嗒嗒嗒嗒 嗒 嗒嗒嘀 嗒嘀嘀嘀嗒 嗒嘀嗒 嘀\n"
     ]
    }
   ],
   "source": [
    "# 你室友听到的电报机声音如下\n",
    "print(telegram_sound)"
   ]
  },
  {
   "cell_type": "markdown",
   "metadata": {},
   "source": [
    "#### 第三步，你室友把电报机声音翻译为文字信息"
   ]
  },
  {
   "cell_type": "code",
   "execution_count": 15,
   "metadata": {},
   "outputs": [],
   "source": [
    "info_list = []\n",
    "for sounds in telegram_sound.split(' '):\n",
    "    bin_list = [sound_dict_reversed[sound_char] for sound_char in sounds]\n",
    "    char_idx = int(''.join(bin_list), 2)\n",
    "    info_list.append(char_dict_reversed[char_idx])"
   ]
  },
  {
   "cell_type": "code",
   "execution_count": 16,
   "metadata": {},
   "outputs": [
    {
     "name": "stdout",
     "output_type": "stream",
     "text": [
      "张老师点名了\n"
     ]
    }
   ],
   "source": [
    "# 输出文字信息\n",
    "print(''.join(info_list))"
   ]
  },
  {
   "cell_type": "markdown",
   "metadata": {},
   "source": [
    "#### 第四步，你室友对此信息做出反应"
   ]
  }
 ],
 "metadata": {
  "kernelspec": {
   "display_name": "Python 3",
   "language": "python",
   "name": "python3"
  },
  "language_info": {
   "codemirror_mode": {
    "name": "ipython",
    "version": 3
   },
   "file_extension": ".py",
   "mimetype": "text/x-python",
   "name": "python",
   "nbconvert_exporter": "python",
   "pygments_lexer": "ipython3",
   "version": "3.7.1"
  }
 },
 "nbformat": 4,
 "nbformat_minor": 2
}
