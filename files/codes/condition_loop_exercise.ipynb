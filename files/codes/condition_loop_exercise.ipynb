{
 "cells": [
  {
   "cell_type": "markdown",
   "id": "39ec37a6-79e2-4ff7-9ff1-212c72a55c84",
   "metadata": {},
   "source": [
    "<center><font size=3 style=\"color:#BA4A00\"><strong>练习题</strong></font></center>"
   ]
  },
  {
   "cell_type": "markdown",
   "id": "72da5e1f-a6c0-4850-b2c9-1921f842adc3",
   "metadata": {},
   "source": [
    "### 1. 给定一个整数，计算其阶乘。"
   ]
  },
  {
   "cell_type": "markdown",
   "id": "94845b52-6a83-478e-922c-ee4daca59062",
   "metadata": {},
   "source": [
    "### 2. 计算斐波那契数列中的前n个值（第一个值为0）\n",
    "\n",
    "斐波那契数列是这样的数列：\n",
    "\n",
    "0、1、1、2、3、5, 8、13、21、34 ……\n",
    "\n",
    "下一项是上两项的和。"
   ]
  },
  {
   "cell_type": "markdown",
   "id": "21b34076-4643-499a-8194-329ef3496062",
   "metadata": {},
   "source": [
    "### 3. 编写一个 Python 程序，将两个数字 m（行数）和 n（列数）作为输入，并生成一个二维列表，二维列表的第 i 行第 j 列的元素值应该是 i*j，i = 0,1.., m-1；j = 0,1, n-1。"
   ]
  },
  {
   "cell_type": "markdown",
   "id": "9f050652-482d-4dfd-841e-baab190fa2ef",
   "metadata": {},
   "source": [
    "<div align=center>\n",
    "<img width=\"350\" height=\"350\" src=\"https://www.w3resource.com/w3r_images/python-conditional-image-exercise-11.png\">\n",
    "<br>\n",
    "</div>"
   ]
  },
  {
   "cell_type": "markdown",
   "id": "e52e34e6-7253-45ee-a6e7-4960b754db8f",
   "metadata": {},
   "source": [
    "### 4. 编写一个 Python 程序来显示给定出生日期的星座"
   ]
  },
  {
   "cell_type": "markdown",
   "id": "88900519-8e15-4b19-a05a-1f964bf72760",
   "metadata": {},
   "source": [
    "<div align=center>\n",
    "<img width=\"550\" height=\"550\" src=\"https://p.d1xz.net/2014/5/22/145051935193.jpg_art\">\n",
    "<br>\n",
    "</div>"
   ]
  },
  {
   "cell_type": "markdown",
   "id": "c638584a-595f-4e6d-a065-341563976ad8",
   "metadata": {},
   "source": [
    "### 5. 编写Python程序检查用户输入密码的有效性，要求如下:"
   ]
  },
  {
   "cell_type": "markdown",
   "id": "06eb063c-854c-4d3c-ab98-3caa6c304d53",
   "metadata": {},
   "source": [
    "- 至少包含一个大写字母；\n",
    "\n",
    "- 至少包含一个小写字母；\n",
    "\n",
    "- 至少包含一个数字；\n",
    "\n",
    "- 至少包含一个标点符号`!\"#$%&\\'()*+,-./:;<=>?@[\\\\]^_`{|}~；\n",
    "\n",
    "- 不能包含空格\n",
    "\n",
    "- 长度不小于6；\n",
    "\n",
    "- 长度不大于16。"
   ]
  }
 ],
 "metadata": {
  "kernelspec": {
   "display_name": "Python 3 (ipykernel)",
   "language": "python",
   "name": "python3"
  },
  "language_info": {
   "codemirror_mode": {
    "name": "ipython",
    "version": 3
   },
   "file_extension": ".py",
   "mimetype": "text/x-python",
   "name": "python",
   "nbconvert_exporter": "python",
   "pygments_lexer": "ipython3",
   "version": "3.9.7"
  }
 },
 "nbformat": 4,
 "nbformat_minor": 5
}
