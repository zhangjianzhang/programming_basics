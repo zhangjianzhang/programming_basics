{
 "cells": [
  {
   "cell_type": "markdown",
   "id": "39ec37a6-79e2-4ff7-9ff1-212c72a55c84",
   "metadata": {},
   "source": [
    "<center><font size=3 style=\"color:#BA4A00\"><strong>练习题</strong></font></center>"
   ]
  },
  {
   "cell_type": "markdown",
   "id": "72da5e1f-a6c0-4850-b2c9-1921f842adc3",
   "metadata": {},
   "source": [
    "1. 请回答下面两段代码的返回值：\n",
    "\n",
    "- `[1,2] in [1,2,3]`;\n",
    "- `'喜欢' in '喜欢看你紧紧皱眉'`;"
   ]
  },
  {
   "cell_type": "markdown",
   "id": "94845b52-6a83-478e-922c-ee4daca59062",
   "metadata": {},
   "source": [
    "2. 已知`s = set([1,2])`请分别回答下面两段代码运行后变量s的值：\n",
    "\n",
    "- `s.add((1,2))`;\n",
    "\n",
    "- `s.add([1,2])`;"
   ]
  },
  {
   "cell_type": "markdown",
   "id": "1ad5ce63-6a83-4876-8ef8-1120a48f0e11",
   "metadata": {},
   "source": [
    "3. 已知`l = list('programming')`，请回答下面代码的运行结果：\n",
    "\n",
    "- `l[-3:2:-2]`\n",
    "\n",
    "- `l[2:-3:2]`\n",
    "\n",
    "- `l[2:-3:-2]`"
   ]
  },
  {
   "cell_type": "markdown",
   "id": "9fe6ffb3-4fee-4a63-9efb-f95feaa1156a",
   "metadata": {},
   "source": [
    "4. 已知`x = [1,2,3]`，`y = x`，`z = y[:]`，请回答下面代码的运行结果：\n",
    "\n",
    "- `x is y`;\n",
    "\n",
    "- `x is z`;\n",
    "\n",
    "- `y == z`;\n",
    "\n",
    "- `(id(x) == id(y)) and (x is y)`"
   ]
  },
  {
   "cell_type": "markdown",
   "id": "38f96fc4-ec20-4501-9716-37a9a9db7566",
   "metadata": {},
   "source": [
    "5. 已知\n",
    "\n",
    "```\n",
    "lyrics = \"Near far wherever you are I believe that the heart does go on Once more you open the door And you are here in my heart And my heart will go on and on\"\n",
    "```\n",
    "\n",
    "请结合列表和字符串相关方法和操作，统计`lyrics`中长度大于3个字符的单词，返回结果中不包含重复单词，且要求返回的单词首字母大写。"
   ]
  },
  {
   "cell_type": "markdown",
   "id": "8ff78ada-faf2-4e56-822b-6fc147a64e0d",
   "metadata": {},
   "source": [
    "6. 找出 1-100中所有能被 7 整除的数，请使用列表推导式。"
   ]
  },
  {
   "cell_type": "markdown",
   "id": "9092cfa0-d53d-48ad-89f0-078f18de44a1",
   "metadata": {},
   "source": [
    "7. 找出 1-100 中包含 3 的所有数字，请使用列表推导式。"
   ]
  },
  {
   "cell_type": "markdown",
   "id": "06a24f9e-8fd3-44f8-8818-b41644cd6a7f",
   "metadata": {},
   "source": [
    "8. 抽取出字符串s中的所有辅音字母，`s=\"Yellow Yaks like yelling and yawning and yesturday they yodled while eating yuky yams\"`"
   ]
  },
  {
   "cell_type": "markdown",
   "id": "e453e41d-e776-466f-9349-326fbbcfda22",
   "metadata": {},
   "source": [
    "9. 已知`l = ['hi', 4, 8.99, 'apple', ('t,b','n')].`请书写代码以元组形式`(0, 'hi')`返回该列表中的元素和对应的索引。"
   ]
  },
  {
   "cell_type": "markdown",
   "id": "c6adb91c-5627-4c9c-b6f3-e378dbc3066a",
   "metadata": {},
   "source": [
    "10. 将字符串s中的数字抽取出来，`s=\"In 1984 there were 13 instances of a protest with over 1000 people attending\"`"
   ]
  },
  {
   "cell_type": "markdown",
   "id": "06645db3-031b-4680-afc5-c8cf2588e7eb",
   "metadata": {},
   "source": [
    "11. 下面代码会生成一个包含10个1-30之间随机整数的列表`randomlist`，请写列表推导式生成一个与`randomlist`长度一样的列表，使得生成的列表只包含'even'和'odd'两种元素，要求`randomlist`中偶数在新列表中对应'even'，奇数对应'odd'"
   ]
  },
  {
   "cell_type": "markdown",
   "id": "3dd08b21-2183-4eb1-8153-b9801a2ce99e",
   "metadata": {},
   "source": [
    "```python\n",
    "import random\n",
    "randomlist = random.sample(range(1, 30), 5)\n",
    "print(randomlist)\n",
    "```"
   ]
  },
  {
   "cell_type": "markdown",
   "id": "e31496f2-489a-4ef3-ac24-1b0b5d249bc4",
   "metadata": {},
   "source": [
    "例如，`randomlist = [27, 18, 9, 22, 4]`，则生成的新列表应该是`['odd','even','odd','even','even']`"
   ]
  },
  {
   "cell_type": "markdown",
   "id": "66fb9d00-01c1-4416-89cf-195d5aaefefa",
   "metadata": {},
   "source": [
    "12. 使用嵌套列表推导式查找 1-100中所有单个数字(1除外，即能被2-9中的一个数字整除)整除的数。"
   ]
  },
  {
   "cell_type": "markdown",
   "id": "0ac4ba29-6fd2-4789-aed4-851698e88806",
   "metadata": {},
   "source": [
    "13. 编写一个Python程序来替换列表中元组的最后一个值，例如：\n",
    "\n",
    "输入：`[(10, 20, 40), (40, 50, 60), (70, 80, 90)]`；\n",
    "\n",
    "输出：`[(10, 20, 100), (40, 50, 100), (70, 80, 100)]`；"
   ]
  },
  {
   "cell_type": "markdown",
   "id": "b54fc0b9-48bd-4c16-a68d-49015a01c685",
   "metadata": {},
   "source": [
    "14. 编写一个 Python 程序，通过其浮点元素对元组进行排序。\n",
    "\n",
    "示例输入: `[('item1', '12.20'), ('item2', '15.10'), ('item3', '24.5')]`\n",
    "\n",
    "示例输出: `[('item3', '24.5'), ('item2', '15.10'), ('item1', '12.20')]`"
   ]
  },
  {
   "cell_type": "markdown",
   "id": "8e3c2331-ec5a-4780-82f0-f7c49407581a",
   "metadata": {},
   "source": [
    "15. 编写一个 Python 程序计算乘积，将给定元组的所有数字相乘。\n",
    "\n",
    "示例输入：`(4, 3, 2, 2, -1, 18)`\n",
    "\n",
    "示例输出: `-864`"
   ]
  },
  {
   "cell_type": "markdown",
   "id": "5d144c4e-dda2-4401-86f0-8704be1e7aff",
   "metadata": {},
   "source": [
    "16. 编写一个 Python 程序，将字符串值的元组转换为整数值的元组。\n",
    "\n",
    "示例输入: `(('333', '33'), ('1416', '55'))`\n",
    "\n",
    "示例输出: `((333, 33), (1416, 55))`"
   ]
  },
  {
   "cell_type": "markdown",
   "id": "4b4813bb-f3bd-4197-be20-6655e2c0d853",
   "metadata": {},
   "source": [
    "17. 已知列表`l = list('Python Programming')`，请回答`l[:7][-1]`的结果是什么。"
   ]
  },
  {
   "cell_type": "markdown",
   "id": "c71868f9-008d-4539-8bb7-f056f6cd051f",
   "metadata": {},
   "source": [
    "18. 已知元组`t = tuple('Python')`，请回答`t[:100]`的结果是什么，请回答`t[:-2]`的结果是什么，请回答`t[-100:]`的结果是什么。"
   ]
  },
  {
   "cell_type": "markdown",
   "id": "da8b7cb4-57f0-473f-a430-12115c75d164",
   "metadata": {},
   "source": [
    "19. 已知字符串`s=\"僧游云隐寺\"`，请写程序将该字符串倒过来，即输出`\"寺隐云游僧\"`"
   ]
  },
  {
   "cell_type": "markdown",
   "id": "eb0da590-e42d-4e8c-b0cd-fa31c2092b63",
   "metadata": {},
   "source": [
    "20. 已知字符串`s=\"鸟宿池边树，僧推月下门\"`，请写程序将该字符串中的“推”字换为“敲”字。"
   ]
  },
  {
   "cell_type": "markdown",
   "id": "fe3b0729-5f0b-47d9-87e8-5dbe6035ee8b",
   "metadata": {},
   "source": [
    "21. 请使用字符串格式化打印输出一副对联，要求上联在左，下联在右，竖版输出显示。\n",
    "\n",
    "上联：星河层里星河转\n",
    "\n",
    "下联：日月楼中日月长\n",
    "\n",
    "——丰子恺自题联"
   ]
  },
  {
   "cell_type": "markdown",
   "id": "5d82d272-d2bb-4008-b8ab-7307c74b51a0",
   "metadata": {},
   "source": [
    "22. 请回答下面语句的返回结果：\n",
    "\n",
    "`list(\"python\") > list(\"pythoner\")`"
   ]
  },
  {
   "cell_type": "markdown",
   "id": "ace7a7df-bccf-4e85-bb4b-3e701b355492",
   "metadata": {},
   "source": [
    "23. 请回答下面语句的返回结果：\n",
    "\n",
    "`'Alibaba' > 'Tencent'`"
   ]
  },
  {
   "cell_type": "markdown",
   "id": "f881b581-7659-4064-a3ba-bb7a554038c1",
   "metadata": {},
   "source": [
    "24. 已知列表`l = list('王中王')`，请回答下面语句的最终运行结果：\n",
    "\n",
    "```python\n",
    "l1 = list(reversed(l))\n",
    "l2 = l[::-1]\n",
    "id(l1) == id(l2)\n",
    "```"
   ]
  },
  {
   "cell_type": "markdown",
   "id": "65d3e253-2c21-43d3-8ffa-d5046155968a",
   "metadata": {},
   "source": [
    "25. 请回答下面语句的最终运行结果：\n",
    "\n",
    "```python\n",
    "mylist = [0, 1, 1]\n",
    "x = all(mylist)\n",
    "print(x)\n",
    "```"
   ]
  },
  {
   "cell_type": "markdown",
   "id": "a2a0862d-489b-4a6c-971d-b3b6206efbf3",
   "metadata": {},
   "source": [
    "26. 请回答下面语句的最终运行结果：\n",
    "\n",
    "```python\n",
    "mydict = {1 : \"Apple\", '' : \"Orange\"}\n",
    "x = all(mydict)\n",
    "print(x)\n",
    "```"
   ]
  },
  {
   "cell_type": "markdown",
   "id": "9069d34c-20e4-4c4c-bdad-56be11ab349f",
   "metadata": {},
   "source": [
    "27. 请回答下面语句的最终运行结果：\n",
    "\n",
    "```python\n",
    "any([None,'',0,False]) # 第二个元素是空字符串\n",
    "```"
   ]
  },
  {
   "cell_type": "markdown",
   "id": "33eecfd1-c2ff-4305-bf39-00c4bb749113",
   "metadata": {},
   "source": [
    "28. 请回答下面语句的最终运行结果：\n",
    "\n",
    "```python\n",
    "any([None,' ',0,False]) # 第二个元素是一个空格\n",
    "```"
   ]
  },
  {
   "cell_type": "markdown",
   "id": "b3fefbe6-2b36-471c-9f7f-7a9609a9bbd9",
   "metadata": {},
   "source": [
    "29. 请回答下面语句的最终运行结果：\n",
    "\n",
    "```python\n",
    "l = list('Python'*2)\n",
    "l[3:3] = list('good')\n",
    "l.index('g')\n",
    "```"
   ]
  },
  {
   "cell_type": "markdown",
   "id": "6bdd0c77-425a-470d-a1bd-c2087bd19a43",
   "metadata": {},
   "source": [
    "30. 请回答下面语句的最终运行结果：\n",
    "\n",
    "```python\n",
    "l = list('Python'*2)\n",
    "l.extend(['good'])\n",
    "len(l)\n",
    "```"
   ]
  },
  {
   "cell_type": "markdown",
   "id": "720a8741-c061-4f09-b3ec-33389c7bec2c",
   "metadata": {},
   "source": [
    "31. 请回答下面语句的最终运行结果：\n",
    "\n",
    "```python\n",
    "l = list('Python'*2)\n",
    "l.insert(-2,'g')\n",
    "l.index('g')\n",
    "```"
   ]
  },
  {
   "cell_type": "markdown",
   "id": "349084cb-f473-44e5-b9fc-d4a871f48dec",
   "metadata": {},
   "source": [
    "31. 请回答下面语句的最终运行结果：\n",
    "\n",
    "```python\n",
    "l = list('Python'*2)\n",
    "l.reverse()\n",
    "l.remove('t')\n",
    "l.count(l[4].lower())\n",
    "```"
   ]
  },
  {
   "cell_type": "markdown",
   "id": "1a5a23ef-e43e-4b32-b10b-75b884bcc9f9",
   "metadata": {},
   "source": [
    "32. 请回答下面语句的最终运行结果：\n",
    "\n",
    "```python\n",
    "tuple4 = tuple([1,2] + [list('Python')] + ['Python'])\n",
    "len(tuple4)\n",
    "```"
   ]
  },
  {
   "cell_type": "code",
   "execution_count": 1,
   "id": "c5ad2bea-f630-4683-ade8-1ca12fb1c995",
   "metadata": {},
   "outputs": [
    {
     "name": "stdout",
     "output_type": "stream",
     "text": [
      "未完待续！！！\n"
     ]
    }
   ],
   "source": [
    "print('未完待续！！！')"
   ]
  }
 ],
 "metadata": {
  "kernelspec": {
   "display_name": "Python 3 (ipykernel)",
   "language": "python",
   "name": "python3"
  },
  "language_info": {
   "codemirror_mode": {
    "name": "ipython",
    "version": 3
   },
   "file_extension": ".py",
   "mimetype": "text/x-python",
   "name": "python",
   "nbconvert_exporter": "python",
   "pygments_lexer": "ipython3",
   "version": "3.9.7"
  }
 },
 "nbformat": 4,
 "nbformat_minor": 5
}
