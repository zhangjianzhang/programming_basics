{
 "cells": [
  {
   "cell_type": "code",
   "execution_count": 1,
   "id": "c9e78761-43fb-4c57-9c32-f90264607333",
   "metadata": {},
   "outputs": [],
   "source": [
    "s = '111111111111111111'"
   ]
  },
  {
   "cell_type": "code",
   "execution_count": 2,
   "id": "b509cf7b-cc49-4019-9d12-be0af69c34c8",
   "metadata": {},
   "outputs": [
    {
     "data": {
      "text/plain": [
       "18"
      ]
     },
     "execution_count": 2,
     "metadata": {},
     "output_type": "execute_result"
    }
   ],
   "source": [
    "len(s)"
   ]
  },
  {
   "cell_type": "code",
   "execution_count": 3,
   "id": "f38b709b-8a72-45ad-aa3a-506f2febdca2",
   "metadata": {},
   "outputs": [
    {
     "data": {
      "text/plain": [
       "111111111111111111"
      ]
     },
     "execution_count": 3,
     "metadata": {},
     "output_type": "execute_result"
    }
   ],
   "source": [
    "int(s)"
   ]
  },
  {
   "cell_type": "code",
   "execution_count": 4,
   "id": "23f5846e-ff90-4d48-8168-b6afc01e8686",
   "metadata": {},
   "outputs": [
    {
     "data": {
      "text/plain": [
       "True"
      ]
     },
     "execution_count": 4,
     "metadata": {},
     "output_type": "execute_result"
    }
   ],
   "source": [
    "s.isdigit()"
   ]
  },
  {
   "cell_type": "code",
   "execution_count": 6,
   "id": "8b6b03ad-51a1-4062-a11d-bbf3cb333e2c",
   "metadata": {},
   "outputs": [
    {
     "name": "stdin",
     "output_type": "stream",
     "text": [
      "ID:  158458499625485621\n"
     ]
    },
    {
     "name": "stdout",
     "output_type": "stream",
     "text": [
      "正在与公安系统联网核验......, 请稍后\n"
     ]
    }
   ],
   "source": [
    "while True:\n",
    "    id_num = input(\"ID: \")\n",
    "    if id_num.isdigit() and len(id_num) == 18:\n",
    "        print('正在与公安系统联网核验......, 请稍后')\n",
    "        break\n",
    "    else:\n",
    "        continue"
   ]
  },
  {
   "cell_type": "markdown",
   "id": "e1d5c56f-a3b8-4c10-9c6c-edd6348450a2",
   "metadata": {},
   "source": [
    "**作业题目**: 校验合法身份证号"
   ]
  },
  {
   "cell_type": "code",
   "execution_count": 9,
   "id": "c692dc13-6dad-4d5d-badf-5ea375b0c487",
   "metadata": {},
   "outputs": [
    {
     "name": "stdin",
     "output_type": "stream",
     "text": [
      "Please input your height(cm):  144\n"
     ]
    },
    {
     "name": "stdout",
     "output_type": "stream",
     "text": [
      "Sorry, you are a good boy, but you know...\n"
     ]
    }
   ],
   "source": [
    "height = input(\"Please input your height(cm): \")\n",
    "if float(height) < 180:\n",
    "    print(\"Sorry, you are a good boy, but you know ...\")"
   ]
  },
  {
   "cell_type": "code",
   "execution_count": 13,
   "id": "e4169f46-a832-446d-b272-775f16fef45a",
   "metadata": {},
   "outputs": [
    {
     "name": "stdin",
     "output_type": "stream",
     "text": [
      "Please input the last four number of your ID:  4856\n"
     ]
    },
    {
     "name": "stdout",
     "output_type": "stream",
     "text": [
      "Male\n"
     ]
    }
   ],
   "source": [
    "last_four = input(\"Please input the last four number of your ID: \")\n",
    "\n",
    "num = int(last_four[:-1])\n",
    "if num % 2:\n",
    "    print('Male')\n",
    "else:\n",
    "    print('Female')"
   ]
  },
  {
   "cell_type": "code",
   "execution_count": 1,
   "id": "ff7c2ec0-d11f-491d-8fe4-860d58bed9c7",
   "metadata": {},
   "outputs": [],
   "source": [
    "from utils.fileUtils import *"
   ]
  },
  {
   "cell_type": "code",
   "execution_count": 2,
   "id": "09a59d60-eeca-4091-82c7-bda672dd65ca",
   "metadata": {},
   "outputs": [],
   "source": [
    "# 2020年11月中华人民共和国县以上行政区划代码\n",
    "# https://www.mca.gov.cn/article/sj/xzqh/2020/2020/202101041104.html\n",
    "lines = readExcelToList('./codes.xlsx')"
   ]
  },
  {
   "cell_type": "code",
   "execution_count": 17,
   "id": "9774e03a-1cb0-4976-ba0f-1d00bbec86de",
   "metadata": {},
   "outputs": [],
   "source": [
    "area_dict = {}\n",
    "for line in lines[1:]:\n",
    "    idx, area = line\n",
    "    if str(idx).endswith('0000'):\n",
    "        area_dict[str(idx)[:2]] = area"
   ]
  },
  {
   "cell_type": "code",
   "execution_count": 18,
   "id": "7127cc50-1c91-4c43-8c07-7eed8858cba3",
   "metadata": {},
   "outputs": [
    {
     "name": "stdout",
     "output_type": "stream",
     "text": [
      "{'11': '北京市', '12': '天津市', '13': '河北省', '14': '山西省', '15': '内蒙古自治区', '21': '辽宁省', '22': '吉林省', '23': '黑龙江省', '31': '上海市', '32': '江苏省', '33': '浙江省', '34': '安徽省', '35': '福建省', '36': '江西省', '37': '山东省', '41': '河南省', '42': '湖北省', '43': '湖南省', '44': '广东省', '45': '广西壮族自治区', '46': '海南省', '50': '重庆市', '51': '四川省', '52': '贵州省', '53': '云南省', '54': '西藏自治区', '61': '陕西省', '62': '甘肃省', '63': '青海省', '64': '宁夏回族自治区', '65': '新疆维吾尔自治区', '71': '台湾省', '81': '香港特别行政区', '82': '澳门特别行政区'}\n"
     ]
    }
   ],
   "source": [
    "print(area_dict)"
   ]
  },
  {
   "cell_type": "code",
   "execution_count": 19,
   "id": "1d1d233d-67b8-4ea7-8678-0681cbb8254f",
   "metadata": {},
   "outputs": [
    {
     "data": {
      "text/plain": [
       "34"
      ]
     },
     "execution_count": 19,
     "metadata": {},
     "output_type": "execute_result"
    }
   ],
   "source": [
    "len(area_dict.keys())"
   ]
  },
  {
   "cell_type": "code",
   "execution_count": 15,
   "id": "0e9f6918-de26-41d2-aeb3-b1b4ab5213f3",
   "metadata": {},
   "outputs": [
    {
     "name": "stdin",
     "output_type": "stream",
     "text": [
      "Please input your final score:  68\n"
     ]
    },
    {
     "name": "stdout",
     "output_type": "stream",
     "text": [
      "Dangerous!\n"
     ]
    }
   ],
   "source": [
    "score = float(input(\"Please input your final score: \"))\n",
    "\n",
    "if 90 <= score < 100:\n",
    "    print('Great!')\n",
    "elif 80 <= score < 90:\n",
    "    print('Good!')\n",
    "elif 70 <= score < 80:\n",
    "    print('You could be better!')\n",
    "elif 60 <= score < 70:\n",
    "    print('Dangerous!')\n",
    "elif 0<= score < 60:\n",
    "    print(\"It's a pity!\")\n",
    "else:\n",
    "    print('The score is invalid')"
   ]
  },
  {
   "cell_type": "markdown",
   "id": "425cf045-ce52-4197-9d0b-d0ff024b804b",
   "metadata": {},
   "source": [
    "**题目要求**: \n",
    "\n",
    "https://www.woshipm.com/pmd/350196.html\n",
    "\n",
    "https://juejin.cn/post/6925438445871431688\n",
    "\n",
    "https://www.mca.gov.cn/article/sj/xzqh/2020/2020/202101041104.html\n",
    "\n",
    "\n",
    "1. 接收键盘输入的身份证号；\n",
    "\n",
    "2. 校验身份证号是否合法；\n",
    "\n",
    "3. 如果合法，请根据合法的身份证号信息输出以下信息：\n",
    " \n",
    "  - 地址，必须包含省-市-区或县三级行政区划，直辖市除外，如，浙江省杭州市上城区，北京市西城区；\n",
    "  - 年龄，周岁年龄，婴儿出生时记为零岁，以后每过一个公历的生日，周岁便增加一岁，生日当天周岁不增加，假定程序执行当天为2022年10月25日；\n",
    "  - 性别；\n",
    "  - 星座，星座日期表如下图：\n",
    "  \n",
    "     <div align=center>\n",
    "    <img width=\"550\" height=\"350\" src=\"https://img.chulian.cn/uploads/allimg/20180608/1528452222151213.png\">\n",
    "    <br>\n",
    "    <center><em><strong>星座日期表</strong></em></center>\n",
    "    </div>"
   ]
  },
  {
   "cell_type": "code",
   "execution_count": 23,
   "id": "ab7557f0-8970-4cd3-8e0c-bddccdd45fff",
   "metadata": {},
   "outputs": [
    {
     "data": {
      "text/plain": [
       "range"
      ]
     },
     "execution_count": 23,
     "metadata": {},
     "output_type": "execute_result"
    }
   ],
   "source": [
    "type(range(1,11))"
   ]
  },
  {
   "cell_type": "code",
   "execution_count": 26,
   "id": "c630a88b-d139-4601-91c5-a81c3638e1a6",
   "metadata": {},
   "outputs": [
    {
     "data": {
      "text/plain": [
       "enumerate"
      ]
     },
     "execution_count": 26,
     "metadata": {},
     "output_type": "execute_result"
    }
   ],
   "source": [
    "type(enumerate(range(48,59)))"
   ]
  },
  {
   "cell_type": "code",
   "execution_count": 28,
   "id": "0ed4216b-02ad-4052-931f-9aed8fe65fa2",
   "metadata": {},
   "outputs": [
    {
     "data": {
      "text/plain": [
       "<enumerate at 0x7f105bb0f240>"
      ]
     },
     "execution_count": 28,
     "metadata": {},
     "output_type": "execute_result"
    }
   ],
   "source": [
    "enumerate(set([1,2]))"
   ]
  },
  {
   "cell_type": "code",
   "execution_count": 36,
   "id": "b660ffcf-5d49-419f-bf63-af3df0785156",
   "metadata": {},
   "outputs": [
    {
     "name": "stdout",
     "output_type": "stream",
     "text": [
      "The qck brwn fx jmps ovr the lzy dg\n"
     ]
    }
   ],
   "source": [
    "vowel = 'aeiou'\n",
    "sent = 'The quick brown fox jumps over the lazy dog'\n",
    "word_list = []\n",
    "for word in sent.strip().split():\n",
    "    char_list = []\n",
    "    for idx,char in enumerate(word):\n",
    "        if char in vowel and idx not in [0, len(word) -1]:\n",
    "            pass\n",
    "        else:\n",
    "            char_list.append(char)\n",
    "    word_list.append(''.join(char_list))\n",
    "print(' '.join(word_list))"
   ]
  },
  {
   "cell_type": "code",
   "execution_count": 47,
   "id": "95e22dc7-5e66-4b0f-8dd8-ad6aae450de3",
   "metadata": {},
   "outputs": [
    {
     "name": "stdin",
     "output_type": "stream",
     "text": [
      "Please input a integer bigger than 1:  8\n"
     ]
    },
    {
     "name": "stdout",
     "output_type": "stream",
     "text": [
      "The biggest factor is 4\n"
     ]
    }
   ],
   "source": [
    "x = int(input('Please input a integer bigger than 1: '))\n",
    "\n",
    "for num in range(x-1,1,-1):\n",
    "    if x % num:\n",
    "        continue\n",
    "    else:\n",
    "        print('The biggest factor is {}'.format(num))\n",
    "        break\n",
    "else:\n",
    "    print('{} is a prime number'.format(x))"
   ]
  },
  {
   "cell_type": "code",
   "execution_count": 48,
   "id": "c5b5e57c-51a2-4f9a-b00a-363bbd1d3356",
   "metadata": {},
   "outputs": [
    {
     "name": "stdout",
     "output_type": "stream",
     "text": [
      "2, 3, 5, 7, 11, 13, 17, 19, 23, 29\n",
      "31, 37, 41, 43, 47, 53, 59, 61, 67, 71\n"
     ]
    }
   ],
   "source": [
    "tmp_list = []\n",
    "for i in range(2, 100):\n",
    "    for j in range(2, i):\n",
    "        if i % j == 0:\n",
    "            break\n",
    "    else:\n",
    "        tmp_list.append(str(i))\n",
    "    if len(tmp_list) == 10:\n",
    "        print(', '.join(tmp_list))\n",
    "        tmp_list.clear()"
   ]
  },
  {
   "cell_type": "code",
   "execution_count": 49,
   "id": "a0d5d270-a8c6-4661-ab1c-f891d9932af3",
   "metadata": {},
   "outputs": [
    {
     "name": "stdout",
     "output_type": "stream",
     "text": [
      "1x1=1\t\n",
      "1x2=2\t2x2=4\t\n",
      "1x3=3\t2x3=6\t3x3=9\t\n",
      "1x4=4\t2x4=8\t3x4=12\t4x4=16\t\n",
      "1x5=5\t2x5=10\t3x5=15\t4x5=20\t5x5=25\t\n",
      "1x6=6\t2x6=12\t3x6=18\t4x6=24\t5x6=30\t6x6=36\t\n",
      "1x7=7\t2x7=14\t3x7=21\t4x7=28\t5x7=35\t6x7=42\t7x7=49\t\n",
      "1x8=8\t2x8=16\t3x8=24\t4x8=32\t5x8=40\t6x8=48\t7x8=56\t8x8=64\t\n",
      "1x9=9\t2x9=18\t3x9=27\t4x9=36\t5x9=45\t6x9=54\t7x9=63\t8x9=72\t9x9=81\t\n"
     ]
    }
   ],
   "source": [
    "for i in range(1, 10):\n",
    "    for j in range(1, i+1):\n",
    "        print('{}x{}={}\\t'.format(j, i, i*j), end='')\n",
    "    print()"
   ]
  },
  {
   "cell_type": "code",
   "execution_count": 50,
   "id": "536b5b43-e3f0-4cf2-8c38-a6aa887338a3",
   "metadata": {},
   "outputs": [
    {
     "name": "stdout",
     "output_type": "stream",
     "text": [
      "12\n"
     ]
    }
   ],
   "source": [
    "i = 0\n",
    "sum = 0\n",
    "while i < 5:\n",
    "    i += 1\n",
    "    if i == 3:\n",
    "        continue\n",
    "    sum += i\n",
    "print(sum)"
   ]
  },
  {
   "cell_type": "code",
   "execution_count": 51,
   "id": "e888de03-a9d4-4fa2-bb62-940f0b9d6cc3",
   "metadata": {},
   "outputs": [
    {
     "name": "stdout",
     "output_type": "stream",
     "text": [
      "         *\n",
      "        ***\n",
      "       *****\n",
      "      *******\n",
      "     *********\n",
      "    ***********\n",
      "   *************\n",
      "  ***************\n",
      " *****************\n",
      "*******************\n"
     ]
    }
   ],
   "source": [
    "row = 10\n",
    "for i in range(row):\n",
    "    for _ in range(row - i - 1):\n",
    "        print(' ', end='')\n",
    "    for _ in range(2 * i + 1):\n",
    "        print('*', end='')\n",
    "    print()"
   ]
  },
  {
   "cell_type": "code",
   "execution_count": 52,
   "id": "ff785712-a9da-4956-9591-c305a35d3be5",
   "metadata": {},
   "outputs": [
    {
     "data": {
      "text/plain": [
       "19"
      ]
     },
     "execution_count": 52,
     "metadata": {},
     "output_type": "execute_result"
    }
   ],
   "source": [
    "len('*******************')"
   ]
  },
  {
   "cell_type": "code",
   "execution_count": null,
   "id": "16e40081-cbeb-495d-b0c6-3984dda45414",
   "metadata": {},
   "outputs": [],
   "source": []
  }
 ],
 "metadata": {
  "kernelspec": {
   "display_name": "Python 3 (ipykernel)",
   "language": "python",
   "name": "python3"
  },
  "language_info": {
   "codemirror_mode": {
    "name": "ipython",
    "version": 3
   },
   "file_extension": ".py",
   "mimetype": "text/x-python",
   "name": "python",
   "nbconvert_exporter": "python",
   "pygments_lexer": "ipython3",
   "version": "3.9.7"
  }
 },
 "nbformat": 4,
 "nbformat_minor": 5
}
