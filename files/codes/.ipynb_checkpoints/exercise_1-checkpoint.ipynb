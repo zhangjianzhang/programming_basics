{
 "cells": [
  {
   "cell_type": "markdown",
   "id": "39ec37a6-79e2-4ff7-9ff1-212c72a55c84",
   "metadata": {},
   "source": [
    "<center><font size=3 style=\"color:#BA4A00\"><strong>练习题</strong></font></center>"
   ]
  },
  {
   "cell_type": "markdown",
   "id": "72da5e1f-a6c0-4850-b2c9-1921f842adc3",
   "metadata": {},
   "source": [
    "1. 请回答下面两段代码的返回值：\n",
    "\n",
    "- `[1,2] in [1,2,3]`;\n",
    "- `'喜欢' in '喜欢看你紧紧皱眉'`;"
   ]
  },
  {
   "cell_type": "markdown",
   "id": "94845b52-6a83-478e-922c-ee4daca59062",
   "metadata": {},
   "source": [
    "2. 已知`s = set([1,2])`请回答下面两段代码的返回值：\n",
    "\n",
    "- `s.add((1,2))`;\n",
    "\n",
    "- `s.add([1,2])`;"
   ]
  },
  {
   "cell_type": "markdown",
   "id": "1ad5ce63-6a83-4876-8ef8-1120a48f0e11",
   "metadata": {},
   "source": [
    "3. 已知`l = list('programming')`，请回答下面代码的运行结果：\n",
    "\n",
    "- `l[-3:2:-2]`\n",
    "\n",
    "- `l[2:-3:2]`\n",
    "\n",
    "- `l[2:-3:-2]`"
   ]
  },
  {
   "cell_type": "markdown",
   "id": "9fe6ffb3-4fee-4a63-9efb-f95feaa1156a",
   "metadata": {},
   "source": [
    "4. 已知`x = [1,2,3]`，`y = x`，`z = y[:]`，请回答下面代码的运行结果：\n",
    "\n",
    "- `x is y`;\n",
    "\n",
    "- `x is z`;\n",
    "\n",
    "- `y == z`;\n",
    "\n",
    "- `(id(x) == id(y)) and (x is y)`"
   ]
  },
  {
   "cell_type": "markdown",
   "id": "38f96fc4-ec20-4501-9716-37a9a9db7566",
   "metadata": {},
   "source": [
    "5. 已知\n",
    "\n",
    "```\n",
    "lyrics = \"Near far wherever you are I believe that the heart does go on Once more you open the door And you are here in my heart And my heart will go on and on\"\n",
    "```\n",
    "\n",
    "请结合列表和字符串相关方法和操作，统计`lyrics`中长度大于3个字符的单词，返回结果中不包含重复单词，且要求返回的单词首字母大写。"
   ]
  }
 ],
 "metadata": {
  "kernelspec": {
   "display_name": "Python 3 (ipykernel)",
   "language": "python",
   "name": "python3"
  },
  "language_info": {
   "codemirror_mode": {
    "name": "ipython",
    "version": 3
   },
   "file_extension": ".py",
   "mimetype": "text/x-python",
   "name": "python",
   "nbconvert_exporter": "python",
   "pygments_lexer": "ipython3",
   "version": "3.9.7"
  }
 },
 "nbformat": 4,
 "nbformat_minor": 5
}
