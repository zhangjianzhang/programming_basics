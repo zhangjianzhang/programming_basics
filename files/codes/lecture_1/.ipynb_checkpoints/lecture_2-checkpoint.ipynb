{
 "cells": [
  {
   "cell_type": "markdown",
   "metadata": {},
   "source": [
    "## 1.3 基本数据类型"
   ]
  },
  {
   "cell_type": "markdown",
   "metadata": {},
   "source": [
    "### 整数"
   ]
  },
  {
   "cell_type": "markdown",
   "metadata": {},
   "source": [
    "Python支持不同进制类型的整数，默认是十进制（Decimal）。\n",
    "\n",
    "二进制（Binary）数字以**0b**或者**oB**开头。现代的计算机和依赖计算机的设备里都用到二进制。\n",
    "\n",
    "八进制（Octal）数字以**0o**或者**0O**开头。常见应用场景有计算机主板中的寄存器和触发器。\n",
    "\n",
    "十六进制（Hexadecimal）数字以**0x**或者**0X**开头。常见应用场景有电脑MAC地址、颜色代码等，例如，在markdown语法中可以使用“#FF0000”表示红色字体，<font color=#FF0000>我是红色字体</font>。"
   ]
  },
  {
   "cell_type": "code",
   "execution_count": 1,
   "metadata": {},
   "outputs": [
    {
     "data": {
      "text/plain": [
       "156"
      ]
     },
     "execution_count": 1,
     "metadata": {},
     "output_type": "execute_result"
    }
   ],
   "source": [
    "# 十进制\n",
    "156"
   ]
  },
  {
   "cell_type": "code",
   "execution_count": 2,
   "metadata": {},
   "outputs": [
    {
     "data": {
      "text/plain": [
       "156"
      ]
     },
     "execution_count": 2,
     "metadata": {},
     "output_type": "execute_result"
    }
   ],
   "source": [
    "# 二进制\n",
    "0b10011100"
   ]
  },
  {
   "cell_type": "code",
   "execution_count": 3,
   "metadata": {},
   "outputs": [
    {
     "data": {
      "text/plain": [
       "156"
      ]
     },
     "execution_count": 3,
     "metadata": {},
     "output_type": "execute_result"
    }
   ],
   "source": [
    "# 二进制\n",
    "0B10011100"
   ]
  },
  {
   "cell_type": "code",
   "execution_count": 4,
   "metadata": {},
   "outputs": [
    {
     "data": {
      "text/plain": [
       "156"
      ]
     },
     "execution_count": 4,
     "metadata": {},
     "output_type": "execute_result"
    }
   ],
   "source": [
    "# 八进制\n",
    "0o234"
   ]
  },
  {
   "cell_type": "code",
   "execution_count": 5,
   "metadata": {},
   "outputs": [
    {
     "data": {
      "text/plain": [
       "156"
      ]
     },
     "execution_count": 5,
     "metadata": {},
     "output_type": "execute_result"
    }
   ],
   "source": [
    "# 十六进制\n",
    "0x9c"
   ]
  },
  {
   "cell_type": "markdown",
   "metadata": {},
   "source": [
    "python 3.7.X中可以表示任意大小整数，例如下面输出 $123^{123}$ 的结果"
   ]
  },
  {
   "cell_type": "code",
   "execution_count": 6,
   "metadata": {},
   "outputs": [
    {
     "data": {
      "text/plain": [
       "114374367934617190099880295228066276746218078451850229775887975052369504785666896446606568365201542169649974727730628842345343196581134895919942820874449837212099476648958359023796078549041949007807220625356526926729664064846685758382803707100766740220839267"
      ]
     },
     "execution_count": 6,
     "metadata": {},
     "output_type": "execute_result"
    }
   ],
   "source": [
    "123**123"
   ]
  },
  {
   "cell_type": "markdown",
   "metadata": {},
   "source": [
    "#### 不同进制整数之间的转换"
   ]
  },
  {
   "cell_type": "markdown",
   "metadata": {},
   "source": [
    "可以通过内置函数**bin**,**oct**,**hex**实现10进制与其他进制的转换；通过内置函数**int**函数实现其他进制转十进制。"
   ]
  },
  {
   "cell_type": "markdown",
   "metadata": {},
   "source": [
    "**例题：**将十进制数43转换为二进制数"
   ]
  },
  {
   "cell_type": "code",
   "execution_count": 7,
   "metadata": {},
   "outputs": [
    {
     "data": {
      "text/plain": [
       "'0b101011'"
      ]
     },
     "execution_count": 7,
     "metadata": {},
     "output_type": "execute_result"
    }
   ],
   "source": [
    "bin(43)"
   ]
  },
  {
   "cell_type": "markdown",
   "metadata": {},
   "source": [
    "**例题：**将十进制数796转换为八进制数"
   ]
  },
  {
   "cell_type": "code",
   "execution_count": 8,
   "metadata": {},
   "outputs": [
    {
     "data": {
      "text/plain": [
       "'0o1434'"
      ]
     },
     "execution_count": 8,
     "metadata": {},
     "output_type": "execute_result"
    }
   ],
   "source": [
    "oct(796)"
   ]
  },
  {
   "cell_type": "markdown",
   "metadata": {},
   "source": [
    "**例题：**将十进制数796转换为十六进制数"
   ]
  },
  {
   "cell_type": "code",
   "execution_count": 9,
   "metadata": {},
   "outputs": [
    {
     "data": {
      "text/plain": [
       "'0x31c'"
      ]
     },
     "execution_count": 9,
     "metadata": {},
     "output_type": "execute_result"
    }
   ],
   "source": [
    "hex(796)"
   ]
  },
  {
   "cell_type": "markdown",
   "metadata": {},
   "source": [
    "**例题：**将二进制数101011转换为十进制数"
   ]
  },
  {
   "cell_type": "code",
   "execution_count": 10,
   "metadata": {},
   "outputs": [
    {
     "data": {
      "text/plain": [
       "43"
      ]
     },
     "execution_count": 10,
     "metadata": {},
     "output_type": "execute_result"
    }
   ],
   "source": [
    "int('101011',2)"
   ]
  },
  {
   "cell_type": "markdown",
   "metadata": {},
   "source": [
    "**例题：**将八进制数53转换为十进制数"
   ]
  },
  {
   "cell_type": "code",
   "execution_count": 11,
   "metadata": {},
   "outputs": [
    {
     "data": {
      "text/plain": [
       "43"
      ]
     },
     "execution_count": 11,
     "metadata": {},
     "output_type": "execute_result"
    }
   ],
   "source": [
    "int('53', 8)"
   ]
  },
  {
   "cell_type": "markdown",
   "metadata": {},
   "source": [
    "**例题：**将十六进制数2B转换为十进制数"
   ]
  },
  {
   "cell_type": "code",
   "execution_count": 12,
   "metadata": {},
   "outputs": [
    {
     "data": {
      "text/plain": [
       "43"
      ]
     },
     "execution_count": 12,
     "metadata": {},
     "output_type": "execute_result"
    }
   ],
   "source": [
    "int('2B', 16)"
   ]
  },
  {
   "cell_type": "markdown",
   "metadata": {},
   "source": [
    "### 浮点数"
   ]
  },
  {
   "cell_type": "markdown",
   "metadata": {},
   "source": [
    "普通计数法和科学计数法，科学计数法中，用**e**或者**E**表示10"
   ]
  },
  {
   "cell_type": "code",
   "execution_count": 13,
   "metadata": {},
   "outputs": [
    {
     "data": {
      "text/plain": [
       "0.1233333445"
      ]
     },
     "execution_count": 13,
     "metadata": {},
     "output_type": "execute_result"
    }
   ],
   "source": [
    "0.1233333445"
   ]
  },
  {
   "cell_type": "code",
   "execution_count": 14,
   "metadata": {},
   "outputs": [
    {
     "data": {
      "text/plain": [
       "0.001"
      ]
     },
     "execution_count": 14,
     "metadata": {},
     "output_type": "execute_result"
    }
   ],
   "source": [
    "1E-3"
   ]
  },
  {
   "cell_type": "code",
   "execution_count": 15,
   "metadata": {},
   "outputs": [
    {
     "data": {
      "text/plain": [
       "0.001"
      ]
     },
     "execution_count": 15,
     "metadata": {},
     "output_type": "execute_result"
    }
   ],
   "source": [
    "1e-3"
   ]
  },
  {
   "cell_type": "code",
   "execution_count": 16,
   "metadata": {},
   "outputs": [
    {
     "data": {
      "text/plain": [
       "12000.0"
      ]
     },
     "execution_count": 16,
     "metadata": {},
     "output_type": "execute_result"
    }
   ],
   "source": [
    "12e3"
   ]
  },
  {
   "cell_type": "code",
   "execution_count": 17,
   "metadata": {},
   "outputs": [
    {
     "data": {
      "text/plain": [
       "12000.0"
      ]
     },
     "execution_count": 17,
     "metadata": {},
     "output_type": "execute_result"
    }
   ],
   "source": [
    "12E3"
   ]
  },
  {
   "cell_type": "markdown",
   "metadata": {},
   "source": [
    "存在不定尾数，有些浮点数无法精确表达"
   ]
  },
  {
   "cell_type": "code",
   "execution_count": 18,
   "metadata": {},
   "outputs": [
    {
     "data": {
      "text/plain": [
       "0.5"
      ]
     },
     "execution_count": 18,
     "metadata": {},
     "output_type": "execute_result"
    }
   ],
   "source": [
    "0.2 + 0.3"
   ]
  },
  {
   "cell_type": "code",
   "execution_count": 19,
   "metadata": {},
   "outputs": [
    {
     "data": {
      "text/plain": [
       "0.30000000000000004"
      ]
     },
     "execution_count": 19,
     "metadata": {},
     "output_type": "execute_result"
    }
   ],
   "source": [
    "0.1 + 0.2"
   ]
  },
  {
   "cell_type": "code",
   "execution_count": 20,
   "metadata": {},
   "outputs": [
    {
     "data": {
      "text/plain": [
       "1.7999999999999998"
      ]
     },
     "execution_count": 20,
     "metadata": {},
     "output_type": "execute_result"
    }
   ],
   "source": [
    "0.6 + 1.2"
   ]
  },
  {
   "cell_type": "markdown",
   "metadata": {},
   "source": [
    "### 复数"
   ]
  },
  {
   "cell_type": "markdown",
   "metadata": {},
   "source": [
    "把形如$z = a + bi$（a、b均为实数）的数称为复数。 其中，$a$称为实部，$b$称为虚部，$i$称为虚数单位。\n",
    "\n",
    "实数可以被认为是虚部为零的复数；就是说实数$a$等价于复数$a + 0i$，如 $5 = 5 + 0i$；\n",
    "\n",
    "实部为零且虚部不为零的复数也被称作“纯虚数”，如，$2i$\n",
    "\n",
    "而实部不为零且虚部也不为零的复数也被称作“非纯虚数”或“杂虚数”，如$3 + 2i$。"
   ]
  },
  {
   "cell_type": "markdown",
   "metadata": {},
   "source": [
    "<b><font color=blue>不同于常见的数学表达式，Python中用字母$j$来表示虚数单位$i$。</font></b>"
   ]
  },
  {
   "cell_type": "code",
   "execution_count": 21,
   "metadata": {},
   "outputs": [
    {
     "data": {
      "text/plain": [
       "(3+2j)"
      ]
     },
     "execution_count": 21,
     "metadata": {},
     "output_type": "execute_result"
    }
   ],
   "source": [
    "3+2j"
   ]
  },
  {
   "cell_type": "code",
   "execution_count": 22,
   "metadata": {},
   "outputs": [
    {
     "data": {
      "text/plain": [
       "2j"
      ]
     },
     "execution_count": 22,
     "metadata": {},
     "output_type": "execute_result"
    }
   ],
   "source": [
    "2j"
   ]
  },
  {
   "cell_type": "markdown",
   "metadata": {},
   "source": [
    "判断一下$5$和$5 + 0i$是否相等"
   ]
  },
  {
   "cell_type": "code",
   "execution_count": 23,
   "metadata": {},
   "outputs": [
    {
     "data": {
      "text/plain": [
       "True"
      ]
     },
     "execution_count": 23,
     "metadata": {},
     "output_type": "execute_result"
    }
   ],
   "source": [
    "5 == 5 + 0j"
   ]
  },
  {
   "cell_type": "markdown",
   "metadata": {},
   "source": [
    "<b><font color=blue>注意：python中虚部为1时，1不可以省略</font></b>"
   ]
  },
  {
   "cell_type": "code",
   "execution_count": 24,
   "metadata": {},
   "outputs": [],
   "source": [
    "# 下面代码省略了虚部的1，会报错\n",
    "# 1 + j "
   ]
  },
  {
   "cell_type": "code",
   "execution_count": 25,
   "metadata": {},
   "outputs": [
    {
     "data": {
      "text/plain": [
       "(1+1j)"
      ]
     },
     "execution_count": 25,
     "metadata": {},
     "output_type": "execute_result"
    }
   ],
   "source": [
    "1 + 1j"
   ]
  },
  {
   "cell_type": "markdown",
   "metadata": {},
   "source": [
    "### 字符串"
   ]
  },
  {
   "cell_type": "markdown",
   "metadata": {},
   "source": [
    "字符串必须包含在单引号或者双引号中，如'Alibaba'，\"Alibaba\"；\n",
    "\n",
    "<b><font color=blue>绝大多数编程语言都是在英文输入法状态下使用</font></b>，所以此处说的单引号和双引号，均是英文标点。"
   ]
  },
  {
   "cell_type": "code",
   "execution_count": 26,
   "metadata": {},
   "outputs": [
    {
     "data": {
      "text/plain": [
       "'Great Company'"
      ]
     },
     "execution_count": 26,
     "metadata": {},
     "output_type": "execute_result"
    }
   ],
   "source": [
    "'Great Company'"
   ]
  },
  {
   "cell_type": "code",
   "execution_count": 27,
   "metadata": {},
   "outputs": [
    {
     "data": {
      "text/plain": [
       "'Great Company'"
      ]
     },
     "execution_count": 27,
     "metadata": {},
     "output_type": "execute_result"
    }
   ],
   "source": [
    "\"Great Company\""
   ]
  },
  {
   "cell_type": "markdown",
   "metadata": {},
   "source": [
    "用中文的单（双）引号会报错"
   ]
  },
  {
   "cell_type": "code",
   "execution_count": 28,
   "metadata": {},
   "outputs": [],
   "source": [
    "# 用中文的引号会报错\n",
    "# ‘Great Company’"
   ]
  },
  {
   "cell_type": "code",
   "execution_count": 29,
   "metadata": {},
   "outputs": [],
   "source": [
    "# 用中文的双引号会报错\n",
    "# “Great Company”"
   ]
  },
  {
   "cell_type": "code",
   "execution_count": 30,
   "metadata": {},
   "outputs": [
    {
     "data": {
      "text/plain": [
       "'好公司'"
      ]
     },
     "execution_count": 30,
     "metadata": {},
     "output_type": "execute_result"
    }
   ],
   "source": [
    "'好公司'"
   ]
  },
  {
   "cell_type": "code",
   "execution_count": 31,
   "metadata": {},
   "outputs": [
    {
     "data": {
      "text/plain": [
       "'好公司'"
      ]
     },
     "execution_count": 31,
     "metadata": {},
     "output_type": "execute_result"
    }
   ],
   "source": [
    "\"好公司\""
   ]
  },
  {
   "cell_type": "code",
   "execution_count": 32,
   "metadata": {},
   "outputs": [
    {
     "data": {
      "text/plain": [
       "'gute Firma'"
      ]
     },
     "execution_count": 32,
     "metadata": {},
     "output_type": "execute_result"
    }
   ],
   "source": [
    "# 德语\n",
    "'gute Firma'"
   ]
  },
  {
   "cell_type": "code",
   "execution_count": 33,
   "metadata": {},
   "outputs": [
    {
     "data": {
      "text/plain": [
       "'良い会社'"
      ]
     },
     "execution_count": 33,
     "metadata": {},
     "output_type": "execute_result"
    }
   ],
   "source": [
    "# 日语\n",
    "'良い会社'"
   ]
  },
  {
   "cell_type": "code",
   "execution_count": 34,
   "metadata": {},
   "outputs": [
    {
     "data": {
      "text/plain": [
       "'Хорошая компания'"
      ]
     },
     "execution_count": 34,
     "metadata": {},
     "output_type": "execute_result"
    }
   ],
   "source": [
    "# 俄语\n",
    "'Хорошая компания'"
   ]
  },
  {
   "cell_type": "code",
   "execution_count": 35,
   "metadata": {},
   "outputs": [
    {
     "data": {
      "text/plain": [
       "'شركة جيدة'"
      ]
     },
     "execution_count": 35,
     "metadata": {},
     "output_type": "execute_result"
    }
   ],
   "source": [
    "# 阿拉伯语\n",
    "'شركة جيدة'"
   ]
  },
  {
   "cell_type": "markdown",
   "metadata": {},
   "source": [
    "**空字符串**就是引号之间什么也没有，空格也没有"
   ]
  },
  {
   "cell_type": "code",
   "execution_count": 36,
   "metadata": {},
   "outputs": [
    {
     "data": {
      "text/plain": [
       "''"
      ]
     },
     "execution_count": 36,
     "metadata": {},
     "output_type": "execute_result"
    }
   ],
   "source": [
    "''"
   ]
  },
  {
   "cell_type": "code",
   "execution_count": 37,
   "metadata": {},
   "outputs": [
    {
     "data": {
      "text/plain": [
       "''"
      ]
     },
     "execution_count": 37,
     "metadata": {},
     "output_type": "execute_result"
    }
   ],
   "source": [
    "\"\""
   ]
  },
  {
   "cell_type": "markdown",
   "metadata": {},
   "source": [
    "<b><font color=blue>如果字符串中包含单引号或者双引号，可以使用转义字符右斜线 **\\** ，或者包含单引号的字符串用双引号括起来，包含双引号的字符串用单引号括起来。</font></b>"
   ]
  },
  {
   "cell_type": "code",
   "execution_count": 38,
   "metadata": {},
   "outputs": [
    {
     "data": {
      "text/plain": [
       "\"Alibaba's co-founders\""
      ]
     },
     "execution_count": 38,
     "metadata": {},
     "output_type": "execute_result"
    }
   ],
   "source": [
    "'Alibaba\\'s co-founders'"
   ]
  },
  {
   "cell_type": "code",
   "execution_count": 39,
   "metadata": {},
   "outputs": [
    {
     "data": {
      "text/plain": [
       "'\"是英文标点双引号'"
      ]
     },
     "execution_count": 39,
     "metadata": {},
     "output_type": "execute_result"
    }
   ],
   "source": [
    "'\"是英文标点双引号'"
   ]
  },
  {
   "cell_type": "markdown",
   "metadata": {},
   "source": [
    "如果字符串里既有单引号，又有双引号，那就用转义字符右斜线 **\\**"
   ]
  },
  {
   "cell_type": "code",
   "execution_count": 40,
   "metadata": {},
   "outputs": [
    {
     "data": {
      "text/plain": [
       "'\\'是单引号，\"是双引号'"
      ]
     },
     "execution_count": 40,
     "metadata": {},
     "output_type": "execute_result"
    }
   ],
   "source": [
    "'\\'是单引号，\"是双引号'"
   ]
  },
  {
   "cell_type": "code",
   "execution_count": 41,
   "metadata": {},
   "outputs": [
    {
     "data": {
      "text/plain": [
       "'\\'是单引号，\"是双引号'"
      ]
     },
     "execution_count": 41,
     "metadata": {},
     "output_type": "execute_result"
    }
   ],
   "source": [
    "\"'是单引号，\\\"是双引号\""
   ]
  },
  {
   "cell_type": "markdown",
   "metadata": {},
   "source": [
    "### 布尔值"
   ]
  },
  {
   "cell_type": "markdown",
   "metadata": {},
   "source": [
    "布尔值（Boolean value）包括两个值：\n",
    "\n",
    "- 真，可以用True、1、非空值表示\n",
    "\n",
    "- 假，可以用False、0、空值表示"
   ]
  },
  {
   "cell_type": "code",
   "execution_count": 42,
   "metadata": {},
   "outputs": [
    {
     "data": {
      "text/plain": [
       "True"
      ]
     },
     "execution_count": 42,
     "metadata": {},
     "output_type": "execute_result"
    }
   ],
   "source": [
    "True"
   ]
  },
  {
   "cell_type": "markdown",
   "metadata": {},
   "source": [
    "注意True和False的首字母大写"
   ]
  },
  {
   "cell_type": "code",
   "execution_count": 43,
   "metadata": {},
   "outputs": [],
   "source": [
    "# True首字母不大写会报错\n",
    "# true"
   ]
  },
  {
   "cell_type": "code",
   "execution_count": 44,
   "metadata": {},
   "outputs": [
    {
     "data": {
      "text/plain": [
       "False"
      ]
     },
     "execution_count": 44,
     "metadata": {},
     "output_type": "execute_result"
    }
   ],
   "source": [
    "False"
   ]
  },
  {
   "cell_type": "code",
   "execution_count": 45,
   "metadata": {},
   "outputs": [],
   "source": [
    "# False首字母不大写会报错\n",
    "# false"
   ]
  },
  {
   "cell_type": "markdown",
   "metadata": {},
   "source": [
    "布尔值可以直接参与数学运算，True相当于1，False相当于0"
   ]
  },
  {
   "cell_type": "code",
   "execution_count": 46,
   "metadata": {},
   "outputs": [
    {
     "data": {
      "text/plain": [
       "True"
      ]
     },
     "execution_count": 46,
     "metadata": {},
     "output_type": "execute_result"
    }
   ],
   "source": [
    "1 == True"
   ]
  },
  {
   "cell_type": "code",
   "execution_count": 47,
   "metadata": {},
   "outputs": [
    {
     "data": {
      "text/plain": [
       "True"
      ]
     },
     "execution_count": 47,
     "metadata": {},
     "output_type": "execute_result"
    }
   ],
   "source": [
    "0 == False"
   ]
  },
  {
   "cell_type": "code",
   "execution_count": 48,
   "metadata": {},
   "outputs": [
    {
     "data": {
      "text/plain": [
       "2"
      ]
     },
     "execution_count": 48,
     "metadata": {},
     "output_type": "execute_result"
    }
   ],
   "source": [
    "1 + True"
   ]
  },
  {
   "cell_type": "code",
   "execution_count": 49,
   "metadata": {},
   "outputs": [
    {
     "data": {
      "text/plain": [
       "19"
      ]
     },
     "execution_count": 49,
     "metadata": {},
     "output_type": "execute_result"
    }
   ],
   "source": [
    "18 + True"
   ]
  },
  {
   "cell_type": "code",
   "execution_count": 50,
   "metadata": {},
   "outputs": [
    {
     "data": {
      "text/plain": [
       "-1"
      ]
     },
     "execution_count": 50,
     "metadata": {},
     "output_type": "execute_result"
    }
   ],
   "source": [
    "0 - True"
   ]
  },
  {
   "cell_type": "code",
   "execution_count": 51,
   "metadata": {},
   "outputs": [
    {
     "data": {
      "text/plain": [
       "1"
      ]
     },
     "execution_count": 51,
     "metadata": {},
     "output_type": "execute_result"
    }
   ],
   "source": [
    "3**False"
   ]
  },
  {
   "cell_type": "code",
   "execution_count": 52,
   "metadata": {},
   "outputs": [
    {
     "data": {
      "text/plain": [
       "-3"
      ]
     },
     "execution_count": 52,
     "metadata": {},
     "output_type": "execute_result"
    }
   ],
   "source": [
    "False - 3"
   ]
  },
  {
   "cell_type": "markdown",
   "metadata": {},
   "source": [
    "### 空值"
   ]
  },
  {
   "cell_type": "markdown",
   "metadata": {},
   "source": [
    "空值用None表示，它不能直接参与运算"
   ]
  },
  {
   "cell_type": "code",
   "execution_count": 53,
   "metadata": {},
   "outputs": [],
   "source": [
    "# None参与运算会报错\n",
    "# 3 + None"
   ]
  },
  {
   "cell_type": "code",
   "execution_count": 54,
   "metadata": {},
   "outputs": [
    {
     "data": {
      "text/plain": [
       "False"
      ]
     },
     "execution_count": 54,
     "metadata": {},
     "output_type": "execute_result"
    }
   ],
   "source": [
    "None == False"
   ]
  },
  {
   "cell_type": "markdown",
   "metadata": {},
   "source": [
    "### 变量的创建"
   ]
  },
  {
   "cell_type": "markdown",
   "metadata": {},
   "source": [
    "一个数据在计算机内需要一个对应的内存空间，每个内存空间存在一个地址，通过地址程序可以访问内存中的数据。"
   ]
  },
  {
   "cell_type": "code",
   "execution_count": 55,
   "metadata": {},
   "outputs": [],
   "source": [
    "# 给变量p赋值\n",
    "p = 'Alibaba'"
   ]
  },
  {
   "cell_type": "markdown",
   "metadata": {},
   "source": [
    "用内置函数`id`查看变量在内存中的地址，返回结果以十进制表示"
   ]
  },
  {
   "cell_type": "code",
   "execution_count": 56,
   "metadata": {},
   "outputs": [
    {
     "data": {
      "text/plain": [
       "140674143162976"
      ]
     },
     "execution_count": 56,
     "metadata": {},
     "output_type": "execute_result"
    }
   ],
   "source": [
    "id(p)"
   ]
  },
  {
   "cell_type": "markdown",
   "metadata": {},
   "source": [
    "用内置函数`type`查看变量的类型"
   ]
  },
  {
   "cell_type": "code",
   "execution_count": 57,
   "metadata": {},
   "outputs": [
    {
     "data": {
      "text/plain": [
       "str"
      ]
     },
     "execution_count": 57,
     "metadata": {},
     "output_type": "execute_result"
    }
   ],
   "source": [
    "type(p)"
   ]
  },
  {
   "cell_type": "markdown",
   "metadata": {},
   "source": [
    "用`sys`模块的`getsizeof`函数查看变量在内存中所占字节（byte）大小"
   ]
  },
  {
   "cell_type": "code",
   "execution_count": 58,
   "metadata": {},
   "outputs": [
    {
     "data": {
      "text/plain": [
       "56"
      ]
     },
     "execution_count": 58,
     "metadata": {},
     "output_type": "execute_result"
    }
   ],
   "source": [
    "import sys\n",
    "sys.getsizeof(p)"
   ]
  },
  {
   "cell_type": "code",
   "execution_count": 59,
   "metadata": {},
   "outputs": [],
   "source": [
    "q = \"Alibaba Group Holding Limited, also known as Alibaba Group and Alibaba.com, is a Chinese multinational technology company specializing in e-commerce, retail, Internet, and technology.\""
   ]
  },
  {
   "cell_type": "code",
   "execution_count": 60,
   "metadata": {},
   "outputs": [
    {
     "data": {
      "text/plain": [
       "232"
      ]
     },
     "execution_count": 60,
     "metadata": {},
     "output_type": "execute_result"
    }
   ],
   "source": [
    "sys.getsizeof(q)"
   ]
  },
  {
   "cell_type": "markdown",
   "metadata": {},
   "source": [
    "计算机内的存储单位换算关系如下：\n",
    "\n",
    "<br>\n",
    "<div align=center>\n",
    "<img src=\"https://pic1.zhimg.com/80/v2-64f63dbd4cf0389696a383c6ffa6d0c0_720w.jpg\">\n",
    "</div>"
   ]
  },
  {
   "cell_type": "markdown",
   "metadata": {},
   "source": [
    "变量名和变量的地址进行关联，从而可以通过变量名来访问数据。"
   ]
  },
  {
   "cell_type": "code",
   "execution_count": 61,
   "metadata": {},
   "outputs": [
    {
     "data": {
      "text/plain": [
       "'Alibaba'"
      ]
     },
     "execution_count": 61,
     "metadata": {},
     "output_type": "execute_result"
    }
   ],
   "source": [
    "p"
   ]
  },
  {
   "cell_type": "code",
   "execution_count": 62,
   "metadata": {},
   "outputs": [
    {
     "data": {
      "text/plain": [
       "'Alibaba Group Holding Limited, also known as Alibaba Group and Alibaba.com, is a Chinese multinational technology company specializing in e-commerce, retail, Internet, and technology.'"
      ]
     },
     "execution_count": 62,
     "metadata": {},
     "output_type": "execute_result"
    }
   ],
   "source": [
    "q"
   ]
  },
  {
   "cell_type": "markdown",
   "metadata": {},
   "source": [
    "## 1.4 变量"
   ]
  },
  {
   "cell_type": "markdown",
   "metadata": {},
   "source": [
    "Python中变量的命名规则：\n",
    "\n",
    "- 只能包含字母，数字和下划线\n",
    "- 不能以数字开头\n",
    "- 不能与python关键字重复\n",
    "- 大小写敏感"
   ]
  },
  {
   "cell_type": "markdown",
   "metadata": {},
   "source": [
    "Python有一组关键字，这些关键字是保留字，**不能用作变量名、函数名或任何其他标识符**："
   ]
  },
  {
   "cell_type": "markdown",
   "metadata": {},
   "source": [
    "<table>\n",
    "<tr>\n",
    "<th>关键字</th>\n",
    "<th>描述</th>\n",
    "</tr>\n",
    "\n",
    "<tr>\n",
    "<td>and</td>\n",
    "<td>逻辑运算符</td>\n",
    "</tr>\n",
    "\n",
    "<tr>\n",
    "<td>as</td>\n",
    "<td>创建别名</td>\n",
    "</tr>\n",
    "\n",
    "<tr>\n",
    "<td>assert</td>\n",
    "<td>用于调试</td>\n",
    "</tr>\n",
    "\n",
    "<tr>\n",
    "<td>break</td>\n",
    "<td>跳出循环</td>\n",
    "</tr>\n",
    "\n",
    "<tr>\n",
    "<td>class</td>\n",
    "<td>定义类</td>\n",
    "</tr>\n",
    "\n",
    "<tr>\n",
    "<td>continue</td>\n",
    "<td>继续循环的下一个迭代</td>\n",
    "</tr>\n",
    "\n",
    "<tr>\n",
    "<td>def</td>\n",
    "<td>定义函数</td>\n",
    "</tr>\n",
    "\n",
    "<tr>\n",
    "<td>del</td>\n",
    "<td>删除对象</td>\n",
    "</tr>\n",
    "\n",
    "<tr>\n",
    "<td>elif</td>\n",
    "<td>在条件语句中使用，等同于 else if</td>\n",
    "</tr>\n",
    "\n",
    "<tr>\n",
    "<td>else</td>\n",
    "<td>用于条件语句</td>\n",
    "</tr>\n",
    "\n",
    "<tr>\n",
    "<td>except</td>\n",
    "<td>处理异常，发生异常时如何执行</td>\n",
    "</tr>\n",
    "\n",
    "<tr>\n",
    "<td>False</td>\n",
    "<td>布尔值，比较运算的结果</td>\n",
    "</tr>\n",
    "\n",
    "<tr>\n",
    "<td>finally</td>\n",
    "<td>处理异常，无论是否存在异常，都将执行一段代码</td>\n",
    "</tr>\n",
    "\n",
    "<tr>\n",
    "<td>for</td>\n",
    "<td>创建 for 循环</td>\n",
    "</tr>\n",
    "\n",
    "<tr>\n",
    "<td>from</td>\n",
    "<td>导入模块的特定部分</td>\n",
    "</tr>\n",
    "\n",
    "<tr>\n",
    "<td>global</td>\n",
    "<td>声明全局变量</td>\n",
    "</tr>\n",
    "\n",
    "<tr>\n",
    "<td>if</td>\n",
    "<td>写一个条件语句</td>\n",
    "</tr>\n",
    "\n",
    "<tr>\n",
    "<td>import</td>\n",
    "<td>导入模块</td>\n",
    "</tr>\n",
    "\n",
    "<tr>\n",
    "<td>in</td>\n",
    "<td>检查列表、元组等集合中是否存在某个值</td>\n",
    "</tr>\n",
    "\n",
    "<tr>\n",
    "<td>is</td>\n",
    "<td>测试两个变量是否相等</td>\n",
    "</tr>\n",
    "\n",
    "<tr>\n",
    "<td>lambda</td>\n",
    "<td>创建匿名函数</td>\n",
    "</tr>\n",
    "\n",
    "<tr>\n",
    "<td>None</td>\n",
    "<td>表示 null 值</td>\n",
    "</tr>\n",
    "\n",
    "<tr>\n",
    "<td>nonlocal</td>\n",
    "<td>声明非局部变量</td>\n",
    "</tr>\n",
    "\n",
    "<tr>\n",
    "<td>not</td>\n",
    "<td>逻辑运算符</td>\n",
    "</tr>\n",
    "\n",
    "<tr>\n",
    "<td>or</td>\n",
    "<td>逻辑运算符</td>\n",
    "</tr>\n",
    "\n",
    "<tr>\n",
    "<td>pass</td>\n",
    "<td>null 语句，一条什么都不做的语句</td>\n",
    "</tr>\n",
    "\n",
    "<tr>\n",
    "<td>raise</td>\n",
    "<td>产生异常</td>\n",
    "</tr>\n",
    "\n",
    "<tr>\n",
    "<td>return</td>\n",
    "<td>退出函数并返回值</td>\n",
    "</tr>\n",
    "\n",
    "<tr>\n",
    "<td>True</td>\n",
    "<td>布尔值，比较运算的结果</td>\n",
    "</tr>\n",
    "\n",
    "<tr>\n",
    "<td>try</td>\n",
    "<td>编写 try...except 语句</td>\n",
    "</tr>\n",
    "\n",
    "<tr>\n",
    "<td>while</td>\n",
    "<td>创建 while 循环</td>\n",
    "</tr>\n",
    "\n",
    "<tr>\n",
    "<td>with</td>\n",
    "<td>用于简化异常处理</td>\n",
    "</tr>\n",
    "\n",
    "<tr>\n",
    "<td>yield</td>\n",
    "<td>结束函数，返回生成器</td>\n",
    "</tr>\n",
    "</table>"
   ]
  },
  {
   "cell_type": "markdown",
   "metadata": {},
   "source": [
    "## 1.5 操作符"
   ]
  },
  {
   "cell_type": "markdown",
   "metadata": {},
   "source": [
    "### 运算操作符"
   ]
  },
  {
   "cell_type": "markdown",
   "metadata": {},
   "source": [
    "<p>以下假设变量：<strong> a=10，b=20</strong>：</p>"
   ]
  },
  {
   "cell_type": "markdown",
   "metadata": {},
   "source": [
    "<table class=\"table\">\n",
    "<tbody><tr>\n",
    "<th>运算符</th><th>描述</th><th>实例</th>\n",
    "</tr>\n",
    "<tr>\n",
    "<td>+</td><td>加 - 两个对象相加</td><td> a + b 输出结果 30</td>\n",
    "</tr>\n",
    "<tr>\n",
    "<td>-</td><td>减 - 得到负数或是一个数减去另一个数</td><td> a - b 输出结果 -10</td>\n",
    "</tr>\n",
    "<tr>\n",
    "<td>*</td><td>乘 - 两个数相乘或是返回一个被重复若干次的字符串</td><td> a * b 输出结果 200</td>\n",
    "</tr>\n",
    "<tr>\n",
    "<td>/</td><td>除 - x除以y</td><td> b / a 输出结果 2</td>\n",
    "</tr>\n",
    "<tr>\n",
    "<td>%</td><td>取模 - 返回除法的余数</td><td> b % a 输出结果 0</td>\n",
    "</tr>\n",
    "<tr>\n",
    "<td>**</td><td>幂 - 返回x的y次幂</td><td> a**b 为10的20次方， 输出结果 100000000000000000000</td>\n",
    "</tr>\n",
    "<tr>\n",
    "<td>//</td><td>取整除 - 返回商的整数部分（<strong>向下取整</strong>）</td><td> \n",
    "<pre class=\"prettyprint prettyprinted\" style=\"\"><span class=\"pun\">&gt;&gt;&gt;</span><span class=\"pln\"> </span><span class=\"lit\">9</span><span class=\"com\">//2</span><span class=\"pln\">\n",
    "</span><span class=\"lit\">4</span><span class=\"pln\">\n",
    "</span><span class=\"pun\">&gt;&gt;&gt;</span><span class=\"pln\"> </span><span class=\"pun\">-</span><span class=\"lit\">9</span><span class=\"com\">//2</span><span class=\"pln\">\n",
    "</span><span class=\"pun\">-</span><span class=\"lit\">5</span></pre></td>\n",
    "</tr>\n",
    "</tbody></table>"
   ]
  },
  {
   "cell_type": "code",
   "execution_count": 63,
   "metadata": {},
   "outputs": [],
   "source": [
    "a = 10\n",
    "b = 20"
   ]
  },
  {
   "cell_type": "code",
   "execution_count": 64,
   "metadata": {},
   "outputs": [
    {
     "data": {
      "text/plain": [
       "0.5"
      ]
     },
     "execution_count": 64,
     "metadata": {},
     "output_type": "execute_result"
    }
   ],
   "source": [
    "a/b"
   ]
  },
  {
   "cell_type": "code",
   "execution_count": 65,
   "metadata": {},
   "outputs": [
    {
     "data": {
      "text/plain": [
       "0"
      ]
     },
     "execution_count": 65,
     "metadata": {},
     "output_type": "execute_result"
    }
   ],
   "source": [
    "a//b"
   ]
  },
  {
   "cell_type": "code",
   "execution_count": 66,
   "metadata": {},
   "outputs": [
    {
     "data": {
      "text/plain": [
       "1024"
      ]
     },
     "execution_count": 66,
     "metadata": {},
     "output_type": "execute_result"
    }
   ],
   "source": [
    "2**10"
   ]
  },
  {
   "cell_type": "code",
   "execution_count": 67,
   "metadata": {},
   "outputs": [
    {
     "data": {
      "text/plain": [
       "1"
      ]
     },
     "execution_count": 67,
     "metadata": {},
     "output_type": "execute_result"
    }
   ],
   "source": [
    "21%4"
   ]
  },
  {
   "cell_type": "markdown",
   "metadata": {},
   "source": [
    "### 比较操作符"
   ]
  },
  {
   "cell_type": "markdown",
   "metadata": {},
   "source": [
    "<tbody><tr>\n",
    "<th width=\"10%\">运算符</th><th>描述</th><th>实例</th>\n",
    "</tr>\n",
    "<tr>\n",
    "<td>==</td><td> 等于 - 比较对象是否相等</td><td> (a == b) 返回 False </td>\n",
    "</tr>\n",
    "<tr>\n",
    "<td>!=</td><td> 不等于 - 比较两个对象是否不相等</td><td> (a != b) 返回 True </td>\n",
    "</tr>\n",
    "<tr>\n",
    "<td>&gt;</td><td> 大于 - 返回x是否大于y</td><td> (a &gt; b) 返回 False</td>\n",
    "</tr>\n",
    "<tr>\n",
    "<td>&lt;</td><td> 小于 - 返回x是否小于y所有比较运算符返回1表示真，返回0表示假这分别与特殊的变量True和False等价</td><td> (a &lt; b) 返回 true </td>\n",
    "</tr>\n",
    "<tr>\n",
    "<td>&gt;=</td><td> 大于等于\t- 返回x是否大于等于y</td><td> (a &gt;= b) 返回 False</td>\n",
    "\n",
    "</tr>\n",
    "<tr>\n",
    "<td>&lt;=</td><td> 小于等于 -\t返回x是否小于等于y</td><td> (a &lt;= b) 返回 true </td>\n",
    "</tr>\n",
    "</tbody>"
   ]
  },
  {
   "cell_type": "code",
   "execution_count": 68,
   "metadata": {},
   "outputs": [
    {
     "data": {
      "text/plain": [
       "False"
      ]
     },
     "execution_count": 68,
     "metadata": {},
     "output_type": "execute_result"
    }
   ],
   "source": [
    "a == b"
   ]
  },
  {
   "cell_type": "code",
   "execution_count": 69,
   "metadata": {},
   "outputs": [
    {
     "data": {
      "text/plain": [
       "True"
      ]
     },
     "execution_count": 69,
     "metadata": {},
     "output_type": "execute_result"
    }
   ],
   "source": [
    "a != b"
   ]
  },
  {
   "cell_type": "code",
   "execution_count": 70,
   "metadata": {},
   "outputs": [
    {
     "data": {
      "text/plain": [
       "True"
      ]
     },
     "execution_count": 70,
     "metadata": {},
     "output_type": "execute_result"
    }
   ],
   "source": [
    "a <= b"
   ]
  },
  {
   "cell_type": "markdown",
   "metadata": {},
   "source": [
    "### 逻辑运算符"
   ]
  },
  {
   "cell_type": "markdown",
   "metadata": {},
   "source": [
    "<table class=\"reference\">\n",
    "<tbody><tr>\n",
    "<th>运算符</th><th>逻辑表达式</th><th>描述</th><th>实例</th>\n",
    "</tr>\n",
    "<tr>\n",
    "<td>and</td><td>x and y</td><td> 布尔\"与\" - 如果 x 为 False，x and y 返回 False，否则它返回 y 的计算值\t</td><td> (a and b) 返回 20</td>\n",
    "</tr>\n",
    "<tr>\n",
    "<td>or</td><td>x or y</td><td>布尔\"或\"\t- 如果 x 是非0，它返回 x 的计算值，否则它返回 y 的计算值</td><td> (a or b) 返回 10</td>\n",
    "</tr>\n",
    "<tr><td>not</td><td>not x</td><td>布尔\"非\" - 如果 x 为 True，返回 False 如果 x 为 False，它返回 True</td><td> not(a and b) 返回 False </td>\n",
    "</tr>\n",
    "</tbody></table>"
   ]
  },
  {
   "cell_type": "code",
   "execution_count": 71,
   "metadata": {},
   "outputs": [
    {
     "data": {
      "text/plain": [
       "20"
      ]
     },
     "execution_count": 71,
     "metadata": {},
     "output_type": "execute_result"
    }
   ],
   "source": [
    "a and b"
   ]
  },
  {
   "cell_type": "code",
   "execution_count": 72,
   "metadata": {},
   "outputs": [
    {
     "data": {
      "text/plain": [
       "False"
      ]
     },
     "execution_count": 72,
     "metadata": {},
     "output_type": "execute_result"
    }
   ],
   "source": [
    "5 < 2 and 5 > 3"
   ]
  },
  {
   "cell_type": "code",
   "execution_count": 73,
   "metadata": {},
   "outputs": [
    {
     "data": {
      "text/plain": [
       "10"
      ]
     },
     "execution_count": 73,
     "metadata": {},
     "output_type": "execute_result"
    }
   ],
   "source": [
    "a or b"
   ]
  },
  {
   "cell_type": "code",
   "execution_count": 74,
   "metadata": {},
   "outputs": [
    {
     "data": {
      "text/plain": [
       "False"
      ]
     },
     "execution_count": 74,
     "metadata": {},
     "output_type": "execute_result"
    }
   ],
   "source": [
    "5 < 2 and 5 > 3"
   ]
  },
  {
   "cell_type": "code",
   "execution_count": 75,
   "metadata": {},
   "outputs": [
    {
     "data": {
      "text/plain": [
       "100"
      ]
     },
     "execution_count": 75,
     "metadata": {},
     "output_type": "execute_result"
    }
   ],
   "source": [
    "0 or 100"
   ]
  },
  {
   "cell_type": "code",
   "execution_count": 76,
   "metadata": {},
   "outputs": [
    {
     "data": {
      "text/plain": [
       "-1"
      ]
     },
     "execution_count": 76,
     "metadata": {},
     "output_type": "execute_result"
    }
   ],
   "source": [
    "-1 or 100"
   ]
  },
  {
   "cell_type": "code",
   "execution_count": 77,
   "metadata": {},
   "outputs": [
    {
     "data": {
      "text/plain": [
       "100"
      ]
     },
     "execution_count": 77,
     "metadata": {},
     "output_type": "execute_result"
    }
   ],
   "source": [
    "False or 100"
   ]
  },
  {
   "cell_type": "code",
   "execution_count": 78,
   "metadata": {},
   "outputs": [
    {
     "data": {
      "text/plain": [
       "True"
      ]
     },
     "execution_count": 78,
     "metadata": {},
     "output_type": "execute_result"
    }
   ],
   "source": [
    "True or 100"
   ]
  },
  {
   "cell_type": "code",
   "execution_count": 79,
   "metadata": {},
   "outputs": [
    {
     "data": {
      "text/plain": [
       "False"
      ]
     },
     "execution_count": 79,
     "metadata": {},
     "output_type": "execute_result"
    }
   ],
   "source": [
    "not 100"
   ]
  },
  {
   "cell_type": "code",
   "execution_count": 80,
   "metadata": {},
   "outputs": [
    {
     "data": {
      "text/plain": [
       "True"
      ]
     },
     "execution_count": 80,
     "metadata": {},
     "output_type": "execute_result"
    }
   ],
   "source": [
    "not None"
   ]
  },
  {
   "cell_type": "code",
   "execution_count": 81,
   "metadata": {},
   "outputs": [
    {
     "data": {
      "text/plain": [
       "True"
      ]
     },
     "execution_count": 81,
     "metadata": {},
     "output_type": "execute_result"
    }
   ],
   "source": [
    "not False"
   ]
  },
  {
   "cell_type": "code",
   "execution_count": 82,
   "metadata": {},
   "outputs": [
    {
     "data": {
      "text/plain": [
       "False"
      ]
     },
     "execution_count": 82,
     "metadata": {},
     "output_type": "execute_result"
    }
   ],
   "source": [
    "not a"
   ]
  },
  {
   "cell_type": "markdown",
   "metadata": {},
   "source": [
    "### 成员运算符"
   ]
  },
  {
   "cell_type": "markdown",
   "metadata": {},
   "source": [
    "<tbody><tr>\n",
    "<th>运算符</th><th>描述</th><th>实例</th>\n",
    "</tr>\n",
    "<tr>\n",
    "<td>in</td><td>\n",
    "如果在指定的序列中找到值返回 True，否则返回 False。</td>\n",
    "<td> x 在 y 序列中 , 如果 x 在 y 序列中返回 True。</td>\n",
    "</tr>\n",
    "<tr>\n",
    "<td>not in</td><td>如果在指定的序列中没有找到值返回 True，否则返回 False。</td>\n",
    "<td>x 不在 y 序列中 , 如果 x 不在 y 序列中返回 True。</td>\n",
    "</tr>\n",
    "</tbody>"
   ]
  },
  {
   "cell_type": "code",
   "execution_count": 83,
   "metadata": {},
   "outputs": [
    {
     "data": {
      "text/plain": [
       "True"
      ]
     },
     "execution_count": 83,
     "metadata": {},
     "output_type": "execute_result"
    }
   ],
   "source": [
    "'AB' in 'abcAbABd'"
   ]
  },
  {
   "cell_type": "code",
   "execution_count": 84,
   "metadata": {},
   "outputs": [
    {
     "data": {
      "text/plain": [
       "False"
      ]
     },
     "execution_count": 84,
     "metadata": {},
     "output_type": "execute_result"
    }
   ],
   "source": [
    "'c' not in 'abcAbABd'"
   ]
  },
  {
   "cell_type": "markdown",
   "metadata": {},
   "source": [
    "### 身份运算符"
   ]
  },
  {
   "cell_type": "markdown",
   "metadata": {},
   "source": [
    "<table class=\"reference\">\n",
    "<tbody><tr>\n",
    "<th width=\"10%\">运算符</th><th>描述</th><th>实例</th>\n",
    "</tr>\n",
    "<tr>\n",
    "<td>is</td><td>\n",
    "is 是判断两个标识符是不是引用自一个对象</td><td> <strong>x is y</strong>, 类似 <strong>id(x) == id(y)</strong> , 如果引用的是同一个对象则返回 True，否则返回 False</td>\n",
    "</tr>\n",
    "<tr>\n",
    "<td>is not</td><td>is not 是判断两个标识符是不是引用自不同对象</td><td><strong> x is not y</strong> ， 类似 <strong>id(a) != id(b)</strong>。如果引用的不是同一个对象则返回结果 True，否则返回 False</td>\n",
    "</tr>\n",
    "</tbody></table>"
   ]
  },
  {
   "cell_type": "code",
   "execution_count": 85,
   "metadata": {},
   "outputs": [],
   "source": [
    "x = 1"
   ]
  },
  {
   "cell_type": "code",
   "execution_count": 86,
   "metadata": {},
   "outputs": [],
   "source": [
    "y = 1"
   ]
  },
  {
   "cell_type": "code",
   "execution_count": 87,
   "metadata": {},
   "outputs": [
    {
     "data": {
      "text/plain": [
       "True"
      ]
     },
     "execution_count": 87,
     "metadata": {},
     "output_type": "execute_result"
    }
   ],
   "source": [
    "x is y"
   ]
  },
  {
   "cell_type": "code",
   "execution_count": 88,
   "metadata": {},
   "outputs": [
    {
     "data": {
      "text/plain": [
       "94218038817664"
      ]
     },
     "execution_count": 88,
     "metadata": {},
     "output_type": "execute_result"
    }
   ],
   "source": [
    "id(x)"
   ]
  },
  {
   "cell_type": "code",
   "execution_count": 89,
   "metadata": {},
   "outputs": [
    {
     "data": {
      "text/plain": [
       "94218038817664"
      ]
     },
     "execution_count": 89,
     "metadata": {},
     "output_type": "execute_result"
    }
   ],
   "source": [
    "id(y)"
   ]
  },
  {
   "cell_type": "code",
   "execution_count": 90,
   "metadata": {},
   "outputs": [],
   "source": [
    "x = 'drug'"
   ]
  },
  {
   "cell_type": "code",
   "execution_count": 91,
   "metadata": {},
   "outputs": [],
   "source": [
    "y = 'drug'"
   ]
  },
  {
   "cell_type": "code",
   "execution_count": 92,
   "metadata": {},
   "outputs": [
    {
     "data": {
      "text/plain": [
       "True"
      ]
     },
     "execution_count": 92,
     "metadata": {},
     "output_type": "execute_result"
    }
   ],
   "source": [
    "x is y"
   ]
  },
  {
   "cell_type": "code",
   "execution_count": 93,
   "metadata": {},
   "outputs": [
    {
     "data": {
      "text/plain": [
       "False"
      ]
     },
     "execution_count": 93,
     "metadata": {},
     "output_type": "execute_result"
    }
   ],
   "source": [
    "x is not y"
   ]
  },
  {
   "cell_type": "markdown",
   "metadata": {},
   "source": [
    "<b><font color=blue>is 与 == 区别：</font></b>\n",
    "\n",
    "is 用于判断两个变量引用对象是否为同一个(同一块内存空间)， == 用于判断引用变量的值是否相等。"
   ]
  },
  {
   "cell_type": "code",
   "execution_count": 94,
   "metadata": {},
   "outputs": [],
   "source": [
    "x = 1"
   ]
  },
  {
   "cell_type": "code",
   "execution_count": 95,
   "metadata": {},
   "outputs": [],
   "source": [
    "y = x"
   ]
  },
  {
   "cell_type": "code",
   "execution_count": 96,
   "metadata": {},
   "outputs": [
    {
     "data": {
      "text/plain": [
       "1"
      ]
     },
     "execution_count": 96,
     "metadata": {},
     "output_type": "execute_result"
    }
   ],
   "source": [
    "y"
   ]
  },
  {
   "cell_type": "code",
   "execution_count": 97,
   "metadata": {},
   "outputs": [
    {
     "data": {
      "text/plain": [
       "True"
      ]
     },
     "execution_count": 97,
     "metadata": {},
     "output_type": "execute_result"
    }
   ],
   "source": [
    "x is y"
   ]
  },
  {
   "cell_type": "code",
   "execution_count": 98,
   "metadata": {},
   "outputs": [],
   "source": [
    "x = x + 1"
   ]
  },
  {
   "cell_type": "code",
   "execution_count": 99,
   "metadata": {},
   "outputs": [
    {
     "data": {
      "text/plain": [
       "1"
      ]
     },
     "execution_count": 99,
     "metadata": {},
     "output_type": "execute_result"
    }
   ],
   "source": [
    "y"
   ]
  },
  {
   "cell_type": "code",
   "execution_count": 100,
   "metadata": {},
   "outputs": [
    {
     "data": {
      "text/plain": [
       "94218038817696"
      ]
     },
     "execution_count": 100,
     "metadata": {},
     "output_type": "execute_result"
    }
   ],
   "source": [
    "id(x)"
   ]
  },
  {
   "cell_type": "code",
   "execution_count": 101,
   "metadata": {},
   "outputs": [
    {
     "data": {
      "text/plain": [
       "94218038817664"
      ]
     },
     "execution_count": 101,
     "metadata": {},
     "output_type": "execute_result"
    }
   ],
   "source": [
    "id(y)"
   ]
  },
  {
   "cell_type": "code",
   "execution_count": 102,
   "metadata": {},
   "outputs": [
    {
     "data": {
      "text/plain": [
       "2"
      ]
     },
     "execution_count": 102,
     "metadata": {},
     "output_type": "execute_result"
    }
   ],
   "source": [
    "x"
   ]
  },
  {
   "cell_type": "code",
   "execution_count": 103,
   "metadata": {},
   "outputs": [],
   "source": [
    "z = 2"
   ]
  },
  {
   "cell_type": "code",
   "execution_count": 104,
   "metadata": {},
   "outputs": [
    {
     "data": {
      "text/plain": [
       "True"
      ]
     },
     "execution_count": 104,
     "metadata": {},
     "output_type": "execute_result"
    }
   ],
   "source": [
    "x is z"
   ]
  },
  {
   "cell_type": "code",
   "execution_count": 105,
   "metadata": {},
   "outputs": [
    {
     "data": {
      "text/plain": [
       "True"
      ]
     },
     "execution_count": 105,
     "metadata": {},
     "output_type": "execute_result"
    }
   ],
   "source": [
    "x == z"
   ]
  },
  {
   "cell_type": "markdown",
   "metadata": {},
   "source": [
    "### 运算符优先级"
   ]
  },
  {
   "cell_type": "markdown",
   "metadata": {},
   "source": [
    "以下表格列出了从最高到最低优先级的所有运算符：\n",
    "\n",
    "<table class=\"reference\">\n",
    "<tbody><tr><th>运算符</th><th>描述</th></tr>\n",
    "<tr>\n",
    "<td>**</td>\n",
    "<td>指数 (最高优先级)</td>\n",
    "</tr><tr>\n",
    "<td>~ + -</td>\n",
    "<td>按位翻转, 一元加号和减号 (最后两个的方法名为 +@ 和 -@)</td>\n",
    "</tr><tr>\n",
    "<td>* / % //</td>\n",
    "<td>乘，除，取模和取整除</td>\n",
    "</tr><tr>\n",
    "<td>+ -</td>\n",
    "<td>加法减法</td>\n",
    "</tr><tr>\n",
    "<td>&gt;&gt; &lt;&lt;</td>\n",
    "<td>右移，左移运算符</td>\n",
    "</tr><tr>\n",
    "<td>&amp;</td>\n",
    "<td>位 'AND'</td>\n",
    "</tr><tr>\n",
    "<td>^ |</td>\n",
    "<td>位运算符</td>\n",
    "</tr><tr>\n",
    "<td>&lt;= &lt; &gt; &gt;=</td>\n",
    "<td>比较运算符</td>\n",
    "</tr><tr>\n",
    "<td>&lt;&gt; == !=</td>\n",
    "<td>等于运算符</td>\n",
    "</tr>\n",
    "<tr>\n",
    "<td>= %= /= //= -= += *= **=</td>\n",
    "<td>赋值运算符</td>\n",
    "</tr>\n",
    "<tr>\n",
    "<td>is is not</td>\n",
    "<td>身份运算符</td>\n",
    "</tr>\n",
    "<tr>\n",
    "<td>in not in</td>\n",
    "<td>成员运算符</td>\n",
    "</tr><tr>\n",
    "<td>not and or</td>\n",
    "<td>逻辑运算符</td>\n",
    "</tr>\n",
    "</tbody></table>"
   ]
  },
  {
   "cell_type": "markdown",
   "metadata": {},
   "source": [
    "### 语句和表达式"
   ]
  },
  {
   "cell_type": "markdown",
   "metadata": {},
   "source": [
    "表达式是某事，而语句就是做某事。"
   ]
  },
  {
   "cell_type": "code",
   "execution_count": 106,
   "metadata": {},
   "outputs": [
    {
     "data": {
      "text/plain": [
       "4"
      ]
     },
     "execution_count": 106,
     "metadata": {},
     "output_type": "execute_result"
    }
   ],
   "source": [
    "# 表达式\n",
    "2 + 2"
   ]
  },
  {
   "cell_type": "markdown",
   "metadata": {},
   "source": [
    "交互解释器会把所有表达式的值输出。"
   ]
  },
  {
   "cell_type": "code",
   "execution_count": 107,
   "metadata": {},
   "outputs": [],
   "source": [
    "# 语句\n",
    "z = 2 + 2"
   ]
  },
  {
   "cell_type": "markdown",
   "metadata": {},
   "source": [
    "语句改变了事物，但没有返回值，也不会有输出。"
   ]
  },
  {
   "cell_type": "code",
   "execution_count": 108,
   "metadata": {},
   "outputs": [],
   "source": [
    "x = 2"
   ]
  },
  {
   "cell_type": "code",
   "execution_count": 109,
   "metadata": {},
   "outputs": [],
   "source": [
    "y = 3"
   ]
  },
  {
   "cell_type": "markdown",
   "metadata": {},
   "source": [
    "### 算数表达式"
   ]
  },
  {
   "cell_type": "markdown",
   "metadata": {},
   "source": [
    "包含各种算数运算符的计算表达式"
   ]
  },
  {
   "cell_type": "code",
   "execution_count": 110,
   "metadata": {},
   "outputs": [
    {
     "data": {
      "text/plain": [
       "5"
      ]
     },
     "execution_count": 110,
     "metadata": {},
     "output_type": "execute_result"
    }
   ],
   "source": [
    "2 + 3 * 5 ** 2 % 4"
   ]
  },
  {
   "cell_type": "code",
   "execution_count": 111,
   "metadata": {},
   "outputs": [
    {
     "data": {
      "text/plain": [
       "5"
      ]
     },
     "execution_count": 111,
     "metadata": {},
     "output_type": "execute_result"
    }
   ],
   "source": [
    "(2 + ((3 * (5 ** 2)) % 4))"
   ]
  },
  {
   "cell_type": "markdown",
   "metadata": {},
   "source": [
    "赋值运算符 **=**\n",
    "\n",
    "增强赋值运算符： 部分位运算符\\[不包含取反\\]和全部算数运算符加 =，之间不能有空格，如**+=**，**/=**\n",
    "\n",
    "以加法为例，x += 5就是x = x + 5"
   ]
  },
  {
   "cell_type": "code",
   "execution_count": 112,
   "metadata": {},
   "outputs": [],
   "source": [
    "# 为变量x赋值\n",
    "\n",
    "x = 5\n",
    "y = 5"
   ]
  },
  {
   "cell_type": "code",
   "execution_count": 113,
   "metadata": {},
   "outputs": [
    {
     "data": {
      "text/plain": [
       "5"
      ]
     },
     "execution_count": 113,
     "metadata": {},
     "output_type": "execute_result"
    }
   ],
   "source": [
    "x"
   ]
  },
  {
   "cell_type": "code",
   "execution_count": 114,
   "metadata": {},
   "outputs": [
    {
     "data": {
      "text/plain": [
       "5"
      ]
     },
     "execution_count": 114,
     "metadata": {},
     "output_type": "execute_result"
    }
   ],
   "source": [
    "y"
   ]
  },
  {
   "cell_type": "code",
   "execution_count": 115,
   "metadata": {},
   "outputs": [],
   "source": [
    "# 使用增强赋值运算符为x赋值\n",
    "\n",
    "x += 5"
   ]
  },
  {
   "cell_type": "code",
   "execution_count": 116,
   "metadata": {},
   "outputs": [
    {
     "data": {
      "text/plain": [
       "10"
      ]
     },
     "execution_count": 116,
     "metadata": {},
     "output_type": "execute_result"
    }
   ],
   "source": [
    "x"
   ]
  },
  {
   "cell_type": "code",
   "execution_count": 117,
   "metadata": {},
   "outputs": [
    {
     "data": {
      "text/plain": [
       "5"
      ]
     },
     "execution_count": 117,
     "metadata": {},
     "output_type": "execute_result"
    }
   ],
   "source": [
    "y"
   ]
  },
  {
   "cell_type": "code",
   "execution_count": 118,
   "metadata": {},
   "outputs": [],
   "source": [
    "y = y + 5"
   ]
  },
  {
   "cell_type": "code",
   "execution_count": 119,
   "metadata": {},
   "outputs": [
    {
     "data": {
      "text/plain": [
       "10"
      ]
     },
     "execution_count": 119,
     "metadata": {},
     "output_type": "execute_result"
    }
   ],
   "source": [
    "y"
   ]
  },
  {
   "cell_type": "markdown",
   "metadata": {},
   "source": [
    "### 函数"
   ]
  },
  {
   "cell_type": "markdown",
   "metadata": {},
   "source": [
    "函数就好像就可以用来实现特定功能的小程序一样；\n",
    "\n",
    "**使用函数的方式叫做调用，调用的时候需要提供参数；**\n",
    "\n",
    "函数的调用可以看成另外一种表达式。"
   ]
  },
  {
   "cell_type": "code",
   "execution_count": 120,
   "metadata": {},
   "outputs": [
    {
     "data": {
      "text/plain": [
       "8"
      ]
     },
     "execution_count": 120,
     "metadata": {},
     "output_type": "execute_result"
    }
   ],
   "source": [
    "# 表达式\n",
    "2 ** 3"
   ]
  },
  {
   "cell_type": "code",
   "execution_count": 121,
   "metadata": {},
   "outputs": [
    {
     "data": {
      "text/plain": [
       "8"
      ]
     },
     "execution_count": 121,
     "metadata": {},
     "output_type": "execute_result"
    }
   ],
   "source": [
    "# 调用内置的指数函数\n",
    "pow(2, 3)"
   ]
  },
  {
   "cell_type": "markdown",
   "metadata": {},
   "source": [
    "`pow(a, b)`就是计算 $a^b$"
   ]
  },
  {
   "cell_type": "code",
   "execution_count": 122,
   "metadata": {},
   "outputs": [
    {
     "data": {
      "text/plain": [
       "3"
      ]
     },
     "execution_count": 122,
     "metadata": {},
     "output_type": "execute_result"
    }
   ],
   "source": [
    "2 ** 3 % 5"
   ]
  },
  {
   "cell_type": "code",
   "execution_count": 123,
   "metadata": {},
   "outputs": [
    {
     "data": {
      "text/plain": [
       "3"
      ]
     },
     "execution_count": 123,
     "metadata": {},
     "output_type": "execute_result"
    }
   ],
   "source": [
    "pow(2, 3, 5)"
   ]
  },
  {
   "cell_type": "code",
   "execution_count": 124,
   "metadata": {},
   "outputs": [
    {
     "data": {
      "text/plain": [
       "5"
      ]
     },
     "execution_count": 124,
     "metadata": {},
     "output_type": "execute_result"
    }
   ],
   "source": [
    "# 绝对值函数\n",
    "\n",
    "abs(-5)"
   ]
  },
  {
   "cell_type": "code",
   "execution_count": 125,
   "metadata": {},
   "outputs": [
    {
     "data": {
      "text/plain": [
       "5.0"
      ]
     },
     "execution_count": 125,
     "metadata": {},
     "output_type": "execute_result"
    }
   ],
   "source": [
    "# 绝对值函数应用到复数上\n",
    "\n",
    "abs(3 + 4j)"
   ]
  },
  {
   "cell_type": "code",
   "execution_count": 126,
   "metadata": {},
   "outputs": [
    {
     "data": {
      "text/plain": [
       "5.0"
      ]
     },
     "execution_count": 126,
     "metadata": {},
     "output_type": "execute_result"
    }
   ],
   "source": [
    "abs(4 + 3j)"
   ]
  },
  {
   "cell_type": "markdown",
   "metadata": {},
   "source": [
    "复数$a + bi$的绝对值（模）是$\\sqrt{a^2 + b^2}$"
   ]
  },
  {
   "cell_type": "code",
   "execution_count": 127,
   "metadata": {},
   "outputs": [
    {
     "data": {
      "text/plain": [
       "3.14"
      ]
     },
     "execution_count": 127,
     "metadata": {},
     "output_type": "execute_result"
    }
   ],
   "source": [
    "# 四舍五入函数\n",
    "round(3.1415926, 2)"
   ]
  },
  {
   "cell_type": "code",
   "execution_count": 128,
   "metadata": {},
   "outputs": [
    {
     "data": {
      "text/plain": [
       "3.14159"
      ]
     },
     "execution_count": 128,
     "metadata": {},
     "output_type": "execute_result"
    }
   ],
   "source": [
    "round(3.1415926, 5)"
   ]
  },
  {
   "cell_type": "markdown",
   "metadata": {},
   "source": [
    "### 常用内置函数"
   ]
  },
  {
   "cell_type": "markdown",
   "metadata": {},
   "source": [
    "- `bool`表示转成布尔值\n",
    "- `complex`表示转成复数，包含类似 ‘1+2j’的字符串\n",
    "- `float`，`int`分别表示转成浮点数或整数\n",
    "- `str`表示转成字符串\n",
    "- `chr`表示ASCII值转控制字符\n",
    "- `ord`表示控制字符转ASCII值"
   ]
  },
  {
   "cell_type": "code",
   "execution_count": 129,
   "metadata": {},
   "outputs": [
    {
     "data": {
      "text/plain": [
       "False"
      ]
     },
     "execution_count": 129,
     "metadata": {},
     "output_type": "execute_result"
    }
   ],
   "source": [
    "bool(0)"
   ]
  },
  {
   "cell_type": "code",
   "execution_count": 130,
   "metadata": {},
   "outputs": [
    {
     "data": {
      "text/plain": [
       "True"
      ]
     },
     "execution_count": 130,
     "metadata": {},
     "output_type": "execute_result"
    }
   ],
   "source": [
    "bool(1)"
   ]
  },
  {
   "cell_type": "code",
   "execution_count": 131,
   "metadata": {},
   "outputs": [
    {
     "data": {
      "text/plain": [
       "False"
      ]
     },
     "execution_count": 131,
     "metadata": {},
     "output_type": "execute_result"
    }
   ],
   "source": [
    "bool(None)"
   ]
  },
  {
   "cell_type": "code",
   "execution_count": 132,
   "metadata": {},
   "outputs": [
    {
     "data": {
      "text/plain": [
       "False"
      ]
     },
     "execution_count": 132,
     "metadata": {},
     "output_type": "execute_result"
    }
   ],
   "source": [
    "bool('')"
   ]
  },
  {
   "cell_type": "code",
   "execution_count": 133,
   "metadata": {},
   "outputs": [
    {
     "data": {
      "text/plain": [
       "True"
      ]
     },
     "execution_count": 133,
     "metadata": {},
     "output_type": "execute_result"
    }
   ],
   "source": [
    "bool('goooood')"
   ]
  },
  {
   "cell_type": "code",
   "execution_count": 134,
   "metadata": {},
   "outputs": [
    {
     "data": {
      "text/plain": [
       "(5+0j)"
      ]
     },
     "execution_count": 134,
     "metadata": {},
     "output_type": "execute_result"
    }
   ],
   "source": [
    "# 把实数转为复数\n",
    "complex(5)"
   ]
  },
  {
   "cell_type": "code",
   "execution_count": 135,
   "metadata": {},
   "outputs": [
    {
     "data": {
      "text/plain": [
       "(5.5+0j)"
      ]
     },
     "execution_count": 135,
     "metadata": {},
     "output_type": "execute_result"
    }
   ],
   "source": [
    "complex(5.5)"
   ]
  },
  {
   "cell_type": "code",
   "execution_count": 136,
   "metadata": {},
   "outputs": [
    {
     "data": {
      "text/plain": [
       "(5.5+0j)"
      ]
     },
     "execution_count": 136,
     "metadata": {},
     "output_type": "execute_result"
    }
   ],
   "source": [
    "# 把字符串形式的数字转为复数\n",
    "complex('5.5')"
   ]
  },
  {
   "cell_type": "code",
   "execution_count": 137,
   "metadata": {},
   "outputs": [
    {
     "data": {
      "text/plain": [
       "(3+4j)"
      ]
     },
     "execution_count": 137,
     "metadata": {},
     "output_type": "execute_result"
    }
   ],
   "source": [
    "complex('3+4j')"
   ]
  },
  {
   "cell_type": "code",
   "execution_count": 138,
   "metadata": {},
   "outputs": [
    {
     "data": {
      "text/plain": [
       "3.0"
      ]
     },
     "execution_count": 138,
     "metadata": {},
     "output_type": "execute_result"
    }
   ],
   "source": [
    "float(3)"
   ]
  },
  {
   "cell_type": "code",
   "execution_count": 139,
   "metadata": {},
   "outputs": [
    {
     "data": {
      "text/plain": [
       "3"
      ]
     },
     "execution_count": 139,
     "metadata": {},
     "output_type": "execute_result"
    }
   ],
   "source": [
    "# int是取整数部分\n",
    "int(3.18)"
   ]
  },
  {
   "cell_type": "code",
   "execution_count": 140,
   "metadata": {},
   "outputs": [
    {
     "data": {
      "text/plain": [
       "3"
      ]
     },
     "execution_count": 140,
     "metadata": {},
     "output_type": "execute_result"
    }
   ],
   "source": [
    "int(3.14)"
   ]
  },
  {
   "cell_type": "code",
   "execution_count": 141,
   "metadata": {},
   "outputs": [
    {
     "data": {
      "text/plain": [
       "3"
      ]
     },
     "execution_count": 141,
     "metadata": {},
     "output_type": "execute_result"
    }
   ],
   "source": [
    "# 将字符串形式的数字转为整数\n",
    "int('3')"
   ]
  },
  {
   "cell_type": "code",
   "execution_count": 142,
   "metadata": {},
   "outputs": [],
   "source": [
    "# int接收字符串形式的浮点数会报错\n",
    "# int('3.88')"
   ]
  },
  {
   "cell_type": "code",
   "execution_count": 143,
   "metadata": {},
   "outputs": [
    {
     "data": {
      "text/plain": [
       "'88'"
      ]
     },
     "execution_count": 143,
     "metadata": {},
     "output_type": "execute_result"
    }
   ],
   "source": [
    "str(88)"
   ]
  },
  {
   "cell_type": "code",
   "execution_count": 144,
   "metadata": {},
   "outputs": [
    {
     "data": {
      "text/plain": [
       "'True'"
      ]
     },
     "execution_count": 144,
     "metadata": {},
     "output_type": "execute_result"
    }
   ],
   "source": [
    "str(True)"
   ]
  },
  {
   "cell_type": "code",
   "execution_count": 145,
   "metadata": {},
   "outputs": [
    {
     "data": {
      "text/plain": [
       "'Alibaba'"
      ]
     },
     "execution_count": 145,
     "metadata": {},
     "output_type": "execute_result"
    }
   ],
   "source": [
    "str('Alibaba')"
   ]
  },
  {
   "cell_type": "code",
   "execution_count": 146,
   "metadata": {},
   "outputs": [
    {
     "data": {
      "text/plain": [
       "'None'"
      ]
     },
     "execution_count": 146,
     "metadata": {},
     "output_type": "execute_result"
    }
   ],
   "source": [
    "str(None)"
   ]
  },
  {
   "cell_type": "markdown",
   "metadata": {},
   "source": [
    "ASCII（American Standard Code for Information Interchange，美国信息交换标准代码）是基于拉丁字母的一套电脑编码系统，它主要用于显示现代英语。"
   ]
  },
  {
   "cell_type": "markdown",
   "metadata": {},
   "source": [
    "<table class=\"toolTable table\" width=\"100%\" cellspacing=\"0\" cellpadding=\"0\">\n",
    "\t\t\t\t<tbody><tr>\n",
    "\t\t\t\t\t<th class=\"separateColor\">ASCII值</th>\n",
    "\t\t\t\t\t<th>控制字符</th>\n",
    "\t\t\t\t\t<th class=\"separateColor\">ASCII值</th>\n",
    "\t\t\t\t\t<th>控制字符</th>\n",
    "\t\t\t\t\t<th class=\"separateColor\">ASCII值</th>\n",
    "\t\t\t\t\t<th>控制字符</th>\n",
    "\t\t\t\t\t<th class=\"separateColor\">ASCII值</th>\n",
    "\t\t\t\t\t<th>控制字符</th>\n",
    "\t\t\t\t</tr>\n",
    "\t\t\t\t<tr>\n",
    "\t\t\t\t\t<td class=\"separateColor\">0</td>\n",
    "\t\t\t\t\t<td>NUT</td>\n",
    "\t\t\t\t\t<td class=\"separateColor\">32</td>\n",
    "\t\t\t\t\t<td>(space)</td>\n",
    "\t\t\t\t\t<td class=\"separateColor\">64</td>\n",
    "\t\t\t\t\t<td>@</td>\n",
    "\t\t\t\t\t<td class=\"separateColor\">96</td>\n",
    "\t\t\t\t\t<td>、</td>\n",
    "\t\t\t\t</tr>\n",
    "\t\t\t\t<tr>\n",
    "\t\t\t\t\t<td class=\"separateColor\">1</td>\n",
    "\t\t\t\t\t<td>SOH</td>\n",
    "\t\t\t\t\t<td class=\"separateColor\">33</td>\n",
    "\t\t\t\t\t<td>!</td>\n",
    "\t\t\t\t\t<td class=\"separateColor\">65</td>\n",
    "\t\t\t\t\t<td>A</td>\n",
    "\t\t\t\t\t<td class=\"separateColor\">97</td>\n",
    "\t\t\t\t\t<td>a</td>\n",
    "\t\t\t\t</tr>\n",
    "\t\t\t\t<tr>\n",
    "\t\t\t\t\t<td class=\"separateColor\">2</td>\n",
    "\t\t\t\t\t<td>STX</td>\n",
    "\t\t\t\t\t<td class=\"separateColor\">34</td>\n",
    "\t\t\t\t\t<td>\"</td>\n",
    "\t\t\t\t\t<td class=\"separateColor\">66</td>\n",
    "\t\t\t\t\t<td>B</td>\n",
    "\t\t\t\t\t<td class=\"separateColor\">98</td>\n",
    "\t\t\t\t\t<td>b</td>\n",
    "\t\t\t\t</tr>\n",
    "\t\t\t\t<tr>\n",
    "\t\t\t\t\t<td class=\"separateColor\">3</td>\n",
    "\t\t\t\t\t<td>ETX</td>\n",
    "\t\t\t\t\t<td class=\"separateColor\">35</td>\n",
    "\t\t\t\t\t<td>#</td>\n",
    "\t\t\t\t\t<td class=\"separateColor\">67</td>\n",
    "\t\t\t\t\t<td>C</td>\n",
    "\t\t\t\t\t<td class=\"separateColor\">99</td>\n",
    "\t\t\t\t\t<td>c</td>\n",
    "\t\t\t\t</tr>\n",
    "\t\t\t\t<tr>\n",
    "\t\t\t\t\t<td class=\"separateColor\">4</td>\n",
    "\t\t\t\t\t<td>EOT</td>\n",
    "\t\t\t\t\t<td class=\"separateColor\">36</td>\n",
    "\t\t\t\t\t<td>$</td>\n",
    "\t\t\t\t\t<td class=\"separateColor\">68</td>\n",
    "\t\t\t\t\t<td>D</td>\n",
    "\t\t\t\t\t<td class=\"separateColor\">100</td>\n",
    "\t\t\t\t\t<td>d</td>\n",
    "\t\t\t\t</tr>\n",
    "\t\t\t\t<tr>\n",
    "\t\t\t\t\t<td class=\"separateColor\">5</td>\n",
    "\t\t\t\t\t<td>ENQ</td>\n",
    "\t\t\t\t\t<td class=\"separateColor\">37</td>\n",
    "\t\t\t\t\t<td>%</td>\n",
    "\t\t\t\t\t<td class=\"separateColor\">69</td>\n",
    "\t\t\t\t\t<td>E</td>\n",
    "\t\t\t\t\t<td class=\"separateColor\">101</td>\n",
    "\t\t\t\t\t<td>e</td>\n",
    "\t\t\t\t</tr>\n",
    "\t\t\t\t<tr>\n",
    "\t\t\t\t\t<td class=\"separateColor\">6</td>\n",
    "\t\t\t\t\t<td>ACK</td>\n",
    "\t\t\t\t\t<td class=\"separateColor\">38</td>\n",
    "\t\t\t\t\t<td>&amp;</td>\n",
    "\t\t\t\t\t<td class=\"separateColor\">70</td>\n",
    "\t\t\t\t\t<td>F</td>\n",
    "\t\t\t\t\t<td class=\"separateColor\">102</td>\n",
    "\t\t\t\t\t<td>f</td>\n",
    "\t\t\t\t</tr>\n",
    "\t\t\t\t<tr>\n",
    "\t\t\t\t\t<td class=\"separateColor\">7</td>\n",
    "\t\t\t\t\t<td>BEL</td>\n",
    "\t\t\t\t\t<td class=\"separateColor\">39</td>\n",
    "\t\t\t\t\t<td>,</td>\n",
    "\t\t\t\t\t<td class=\"separateColor\">71</td>\n",
    "\t\t\t\t\t<td>G</td>\n",
    "\t\t\t\t\t<td class=\"separateColor\">103</td>\n",
    "\t\t\t\t\t<td>g</td>\n",
    "\t\t\t\t</tr>\n",
    "\t\t\t\t<tr>\n",
    "\t\t\t\t\t<td class=\"separateColor\">8</td>\n",
    "\t\t\t\t\t<td>BS</td>\n",
    "\t\t\t\t\t<td class=\"separateColor\">40</td>\n",
    "\t\t\t\t\t<td>(</td>\n",
    "\t\t\t\t\t<td class=\"separateColor\">72</td>\n",
    "\t\t\t\t\t<td>H</td>\n",
    "\t\t\t\t\t<td class=\"separateColor\">104</td>\n",
    "\t\t\t\t\t<td>h</td>\n",
    "\t\t\t\t</tr>\n",
    "\t\t\t\t<tr>\n",
    "\t\t\t\t\t<td class=\"separateColor\">9</td>\n",
    "\t\t\t\t\t<td>HT</td>\n",
    "\t\t\t\t\t<td class=\"separateColor\">41</td>\n",
    "\t\t\t\t\t<td>)</td>\n",
    "\t\t\t\t\t<td class=\"separateColor\">73</td>\n",
    "\t\t\t\t\t<td>I</td>\n",
    "\t\t\t\t\t<td class=\"separateColor\">105</td>\n",
    "\t\t\t\t\t<td>i</td>\n",
    "\t\t\t\t</tr>\n",
    "\t\t\t\t<tr>\n",
    "\t\t\t\t\t<td class=\"separateColor\">10</td>\n",
    "\t\t\t\t\t<td>LF</td>\n",
    "\t\t\t\t\t<td class=\"separateColor\">42</td>\n",
    "\t\t\t\t\t<td>*</td>\n",
    "\t\t\t\t\t<td class=\"separateColor\">74</td>\n",
    "\t\t\t\t\t<td>J</td>\n",
    "\t\t\t\t\t<td class=\"separateColor\">106</td>\n",
    "\t\t\t\t\t<td>j</td>\n",
    "\t\t\t\t</tr>\n",
    "\t\t\t\t<tr>\n",
    "\t\t\t\t\t<td class=\"separateColor\">11</td>\n",
    "\t\t\t\t\t<td>VT</td>\n",
    "\t\t\t\t\t<td class=\"separateColor\">43</td>\n",
    "\t\t\t\t\t<td>+</td>\n",
    "\t\t\t\t\t<td class=\"separateColor\">75</td>\n",
    "\t\t\t\t\t<td>K</td>\n",
    "\t\t\t\t\t<td class=\"separateColor\">107</td>\n",
    "\t\t\t\t\t<td>k</td>\n",
    "\t\t\t\t</tr>\n",
    "\t\t\t\t<tr>\n",
    "\t\t\t\t\t<td class=\"separateColor\">12</td>\n",
    "\t\t\t\t\t<td>FF</td>\n",
    "\t\t\t\t\t<td class=\"separateColor\">44</td>\n",
    "\t\t\t\t\t<td>,</td>\n",
    "\t\t\t\t\t<td class=\"separateColor\">76</td>\n",
    "\t\t\t\t\t<td>L</td>\n",
    "\t\t\t\t\t<td class=\"separateColor\">108</td>\n",
    "\t\t\t\t\t<td>l</td>\n",
    "\t\t\t\t</tr>\n",
    "\t\t\t\t<tr>\n",
    "\t\t\t\t\t<td class=\"separateColor\">13</td>\n",
    "\t\t\t\t\t<td>CR</td>\n",
    "\t\t\t\t\t<td class=\"separateColor\">45</td>\n",
    "\t\t\t\t\t<td>-</td>\n",
    "\t\t\t\t\t<td class=\"separateColor\">77</td>\n",
    "\t\t\t\t\t<td>M</td>\n",
    "\t\t\t\t\t<td class=\"separateColor\">109</td>\n",
    "\t\t\t\t\t<td>m</td>\n",
    "\t\t\t\t</tr>\n",
    "\t\t\t\t<tr>\n",
    "\t\t\t\t\t<td class=\"separateColor\">14</td>\n",
    "\t\t\t\t\t<td>SO</td>\n",
    "\t\t\t\t\t<td class=\"separateColor\">46</td>\n",
    "\t\t\t\t\t<td>.</td>\n",
    "\t\t\t\t\t<td class=\"separateColor\">78</td>\n",
    "\t\t\t\t\t<td>N</td>\n",
    "\t\t\t\t\t<td class=\"separateColor\">110</td>\n",
    "\t\t\t\t\t<td>n</td>\n",
    "\t\t\t\t</tr>\n",
    "\t\t\t\t<tr>\n",
    "\t\t\t\t\t<td class=\"separateColor\">15</td>\n",
    "\t\t\t\t\t<td>SI</td>\n",
    "\t\t\t\t\t<td class=\"separateColor\">47</td>\n",
    "\t\t\t\t\t<td>/</td>\n",
    "\t\t\t\t\t<td class=\"separateColor\">79</td>\n",
    "\t\t\t\t\t<td>O</td>\n",
    "\t\t\t\t\t<td class=\"separateColor\">111</td>\n",
    "\t\t\t\t\t<td>o</td>\n",
    "\t\t\t\t</tr>\n",
    "\t\t\t\t<tr>\n",
    "\t\t\t\t\t<td class=\"separateColor\">16</td>\n",
    "\t\t\t\t\t<td>DLE</td>\n",
    "\t\t\t\t\t<td class=\"separateColor\">48</td>\n",
    "\t\t\t\t\t<td>0</td>\n",
    "\t\t\t\t\t<td class=\"separateColor\">80</td>\n",
    "\t\t\t\t\t<td>P</td>\n",
    "\t\t\t\t\t<td class=\"separateColor\">112</td>\n",
    "\t\t\t\t\t<td>p</td>\n",
    "\t\t\t\t</tr>\n",
    "\t\t\t\t<tr>\n",
    "\t\t\t\t\t<td class=\"separateColor\">17</td>\n",
    "\t\t\t\t\t<td>DCI</td>\n",
    "\t\t\t\t\t<td class=\"separateColor\">49</td>\n",
    "\t\t\t\t\t<td>1</td>\n",
    "\t\t\t\t\t<td class=\"separateColor\">81</td>\n",
    "\t\t\t\t\t<td>Q</td>\n",
    "\t\t\t\t\t<td class=\"separateColor\">113</td>\n",
    "\t\t\t\t\t<td>q</td>\n",
    "\t\t\t\t</tr>\n",
    "\t\t\t\t<tr>\n",
    "\t\t\t\t\t<td class=\"separateColor\">18</td>\n",
    "\t\t\t\t\t<td>DC2</td>\n",
    "\t\t\t\t\t<td class=\"separateColor\">50</td>\n",
    "\t\t\t\t\t<td>2</td>\n",
    "\t\t\t\t\t<td class=\"separateColor\">82</td>\n",
    "\t\t\t\t\t<td>R</td>\n",
    "\t\t\t\t\t<td class=\"separateColor\">114</td>\n",
    "\t\t\t\t\t<td>r</td>\n",
    "\t\t\t\t</tr>\n",
    "\t\t\t\t<tr>\n",
    "\t\t\t\t\t<td class=\"separateColor\">19</td>\n",
    "\t\t\t\t\t<td>DC3</td>\n",
    "\t\t\t\t\t<td class=\"separateColor\">51</td>\n",
    "\t\t\t\t\t<td>3</td>\n",
    "\t\t\t\t\t<td class=\"separateColor\">83</td>\n",
    "\t\t\t\t\t<td>S</td>\n",
    "\t\t\t\t\t<td class=\"separateColor\">115</td>\n",
    "\t\t\t\t\t<td>s</td>\n",
    "\t\t\t\t</tr>\n",
    "\t\t\t\t<tr>\n",
    "\t\t\t\t\t<td class=\"separateColor\">20</td>\n",
    "\t\t\t\t\t<td>DC4</td>\n",
    "\t\t\t\t\t<td class=\"separateColor\">52</td>\n",
    "\t\t\t\t\t<td>4</td>\n",
    "\t\t\t\t\t<td class=\"separateColor\">84</td>\n",
    "\t\t\t\t\t<td>T</td>\n",
    "\t\t\t\t\t<td class=\"separateColor\">116</td>\n",
    "\t\t\t\t\t<td>t</td>\n",
    "\t\t\t\t</tr>\n",
    "\t\t\t\t<tr>\n",
    "\t\t\t\t\t<td class=\"separateColor\">21</td>\n",
    "\t\t\t\t\t<td>NAK</td>\n",
    "\t\t\t\t\t<td class=\"separateColor\">53</td>\n",
    "\t\t\t\t\t<td>5</td>\n",
    "\t\t\t\t\t<td class=\"separateColor\">85</td>\n",
    "\t\t\t\t\t<td>U</td>\n",
    "\t\t\t\t\t<td class=\"separateColor\">117</td>\n",
    "\t\t\t\t\t<td>u</td>\n",
    "\t\t\t\t</tr>\n",
    "\t\t\t\t<tr>\n",
    "\t\t\t\t\t<td class=\"separateColor\">22</td>\n",
    "\t\t\t\t\t<td>SYN</td>\n",
    "\t\t\t\t\t<td class=\"separateColor\">54</td>\n",
    "\t\t\t\t\t<td>6</td>\n",
    "\t\t\t\t\t<td class=\"separateColor\">86</td>\n",
    "\t\t\t\t\t<td>V</td>\n",
    "\t\t\t\t\t<td class=\"separateColor\">118</td>\n",
    "\t\t\t\t\t<td>v</td>\n",
    "\t\t\t\t</tr>\n",
    "\t\t\t\t<tr>\n",
    "\t\t\t\t\t<td class=\"separateColor\">23</td>\n",
    "\t\t\t\t\t<td>TB</td>\n",
    "\t\t\t\t\t<td class=\"separateColor\">55</td>\n",
    "\t\t\t\t\t<td>7</td>\n",
    "\t\t\t\t\t<td class=\"separateColor\">87</td>\n",
    "\t\t\t\t\t<td>W</td>\n",
    "\t\t\t\t\t<td class=\"separateColor\">119</td>\n",
    "\t\t\t\t\t<td>w</td>\n",
    "\t\t\t\t</tr>\n",
    "\t\t\t\t<tr>\n",
    "\t\t\t\t\t<td class=\"separateColor\">24</td>\n",
    "\t\t\t\t\t<td>CAN</td>\n",
    "\t\t\t\t\t<td class=\"separateColor\">56</td>\n",
    "\t\t\t\t\t<td>8</td>\n",
    "\t\t\t\t\t<td class=\"separateColor\">88</td>\n",
    "\t\t\t\t\t<td>X</td>\n",
    "\t\t\t\t\t<td class=\"separateColor\">120</td>\n",
    "\t\t\t\t\t<td>x</td>\n",
    "\t\t\t\t</tr>\n",
    "\t\t\t\t<tr>\n",
    "\t\t\t\t\t<td class=\"separateColor\">25</td>\n",
    "\t\t\t\t\t<td>EM</td>\n",
    "\t\t\t\t\t<td class=\"separateColor\">57</td>\n",
    "\t\t\t\t\t<td>9</td>\n",
    "\t\t\t\t\t<td class=\"separateColor\">89</td>\n",
    "\t\t\t\t\t<td>Y</td>\n",
    "\t\t\t\t\t<td class=\"separateColor\">121</td>\n",
    "\t\t\t\t\t<td>y</td>\n",
    "\t\t\t\t</tr>\n",
    "\t\t\t\t<tr>\n",
    "\t\t\t\t\t<td class=\"separateColor\">26</td>\n",
    "\t\t\t\t\t<td>SUB</td>\n",
    "\t\t\t\t\t<td class=\"separateColor\">58</td>\n",
    "\t\t\t\t\t<td>:</td>\n",
    "\t\t\t\t\t<td class=\"separateColor\">90</td>\n",
    "\t\t\t\t\t<td>Z</td>\n",
    "\t\t\t\t\t<td class=\"separateColor\">122</td>\n",
    "\t\t\t\t\t<td>z</td>\n",
    "\t\t\t\t</tr>\n",
    "\t\t\t\t<tr>\n",
    "\t\t\t\t\t<td class=\"separateColor\">27</td>\n",
    "\t\t\t\t\t<td>ESC</td>\n",
    "\t\t\t\t\t<td class=\"separateColor\">59</td>\n",
    "\t\t\t\t\t<td>;</td>\n",
    "\t\t\t\t\t<td class=\"separateColor\">91</td>\n",
    "\t\t\t\t\t<td>[</td>\t\n",
    "\t\t\t\t\t<td class=\"separateColor\">123</td>\n",
    "\t\t\t\t\t<td>{</td>\n",
    "\t\t\t\t</tr>\n",
    "\t\t\t\t<tr>\n",
    "\t\t\t\t\t<td class=\"separateColor\">28</td>\n",
    "\t\t\t\t\t<td>FS</td>\n",
    "\t\t\t\t\t<td class=\"separateColor\">60</td>\n",
    "\t\t\t\t\t<td>&lt;</td>\n",
    "\t\t\t\t\t<td class=\"separateColor\">92</td>\n",
    "\t\t\t\t\t<td>/</td>\t\n",
    "\t\t\t\t\t<td class=\"separateColor\">124</td>\n",
    "\t\t\t\t\t<td>|</td>\n",
    "\t\t\t\t</tr>\n",
    "\t\t\t\t<tr>\n",
    "\t\t\t\t\t<td class=\"separateColor\">29</td>\n",
    "\t\t\t\t\t<td>GS</td>\n",
    "\t\t\t\t\t<td class=\"separateColor\">61</td>\n",
    "\t\t\t\t\t<td>=</td>\n",
    "\t\t\t\t\t<td class=\"separateColor\">93</td>\n",
    "\t\t\t\t\t<td>]</td>\n",
    "\t\t\t\t\t<td class=\"separateColor\">125</td>\n",
    "\t\t\t\t\t<td>}</td>\n",
    "\t\t\t\t</tr>\n",
    "\t\t\t\t<tr>\n",
    "\t\t\t\t\t<td class=\"separateColor\">30</td>\n",
    "\t\t\t\t\t<td>RS</td>\n",
    "\t\t\t\t\t<td class=\"separateColor\">62</td>\n",
    "\t\t\t\t\t<td>&gt;</td>\n",
    "\t\t\t\t\t<td class=\"separateColor\">94</td>\n",
    "\t\t\t\t\t<td>^</td>\n",
    "\t\t\t\t\t<td class=\"separateColor\">126</td>\n",
    "\t\t\t\t\t<td>`</td>\n",
    "\t\t\t\t</tr>\n",
    "\t\t\t\t<tr>\n",
    "\t\t\t\t\t<td class=\"separateColor\">31</td>\n",
    "\t\t\t\t\t<td>US</td>\n",
    "\t\t\t\t\t<td class=\"separateColor\">63</td>\n",
    "\t\t\t\t\t<td>?</td>\n",
    "\t\t\t\t\t<td class=\"separateColor\">95</td>\n",
    "\t\t\t\t\t<td>_</td>\n",
    "\t\t\t\t\t<td class=\"separateColor\">127</td>\n",
    "\t\t\t\t\t<td>DEL</td>\n",
    "\t\t\t\t</tr>\n",
    "\t\t\t</tbody></table>"
   ]
  },
  {
   "cell_type": "markdown",
   "metadata": {},
   "source": [
    "ASCII特殊字符解释"
   ]
  },
  {
   "cell_type": "markdown",
   "metadata": {},
   "source": [
    "<tbody><tr>\n",
    "\t\t\t\t\t<th>NUL空</th>\n",
    "\t\t\t\t\t<th>VT 垂直制表</th>\n",
    "\t\t\t\t\t<th>SYN 空转同步</th>\n",
    "\t\t\t\t</tr>\n",
    "\t\t\t\t<tr>\n",
    "\t\t\t\t\t<td>STX  正文开始</td>\n",
    "\t\t\t\t\t<td>CR   回车</td>\n",
    "\t\t\t\t\t<td>CAN  作废</td>\n",
    "\t\t\t\t</tr>\n",
    "\t\t\t\t\t<tr>\n",
    "\t\t\t\t\t<td>ETX  正文结束</td>\n",
    "\t\t\t\t\t<td>SO   移位输出</td>\n",
    "\t\t\t\t\t<td>EM   纸尽</td>\n",
    "\t\t\t\t</tr>\n",
    "\t\t\t\t\t<tr>\n",
    "\t\t\t\t\t<td>EOY  传输结束</td>\n",
    "\t\t\t\t\t<td>SI    移位输入</td>\n",
    "\t\t\t\t\t<td>SUB  换置</td>\n",
    "\t\t\t\t</tr>\n",
    "\t\t\t\t\t<tr>\n",
    "\t\t\t\t\t<td>ENQ  询问字符</td>\n",
    "\t\t\t\t\t<td>DLE  空格</td>\n",
    "\t\t\t\t\t<td>ESC  换码</td>\n",
    "\t\t\t\t</tr>\n",
    "\t\t\t\t\t<tr>\n",
    "\t\t\t\t\t<td>ACK  承认</td>\n",
    "\t\t\t\t\t<td>DC1  设备控制1</td>\n",
    "\t\t\t\t\t<td>FS   文字分隔符</td>\n",
    "\t\t\t\t</tr>\n",
    "\t\t\t\t\t<tr>\n",
    "\t\t\t\t\t<td>BEL  报警</td>\n",
    "\t\t\t\t\t<td>DC2  设备控制2</td>\n",
    "\t\t\t\t\t<td>GS   组分隔符</td>\n",
    "\t\t\t\t</tr>\n",
    "\t\t\t\t\t<tr>\n",
    "\t\t\t\t\t<td>BS   退一格</td>\n",
    "\t\t\t\t\t<td>DC3  设备控制3</td>\n",
    "\t\t\t\t\t<td>RS   记录分隔符</td>\n",
    "\t\t\t\t</tr>\n",
    "\t\t\t\t\t<tr>\n",
    "\t\t\t\t\t<td>HT   横向列表</td>\n",
    "\t\t\t\t\t<td>DC4  设备控制4</td>\n",
    "\t\t\t\t\t<td>US   单元分隔符</td>\n",
    "\t\t\t\t</tr>\n",
    "\t\t\t\t\t<tr>\n",
    "\t\t\t\t\t<td>LF   换行</td>\n",
    "\t\t\t\t\t<td>NAK  否定</td>\n",
    "\t\t\t\t\t<td>DEL  删除</td>\n",
    "\t\t\t\t</tr>\n",
    "\t\t\t</tbody>"
   ]
  },
  {
   "cell_type": "code",
   "execution_count": 147,
   "metadata": {},
   "outputs": [
    {
     "data": {
      "text/plain": [
       "'_'"
      ]
     },
     "execution_count": 147,
     "metadata": {},
     "output_type": "execute_result"
    }
   ],
   "source": [
    "chr(95)"
   ]
  },
  {
   "cell_type": "code",
   "execution_count": 148,
   "metadata": {},
   "outputs": [
    {
     "data": {
      "text/plain": [
       "58"
      ]
     },
     "execution_count": 148,
     "metadata": {},
     "output_type": "execute_result"
    }
   ],
   "source": [
    "ord(':')"
   ]
  },
  {
   "cell_type": "markdown",
   "metadata": {},
   "source": [
    "## 1.8 简单输入与输出"
   ]
  },
  {
   "cell_type": "markdown",
   "metadata": {},
   "source": [
    "有时候程序需要输出结果(print)，有时候也需要获取数据(input)"
   ]
  },
  {
   "cell_type": "markdown",
   "metadata": {},
   "source": [
    "`print`函数将参数值打印出来，可选参数end表示结束标志符"
   ]
  },
  {
   "cell_type": "code",
   "execution_count": 149,
   "metadata": {},
   "outputs": [
    {
     "name": "stdout",
     "output_type": "stream",
     "text": [
      "你瞅啥！！！"
     ]
    }
   ],
   "source": [
    "print(\"你瞅啥\", end=\"！！！\")"
   ]
  },
  {
   "cell_type": "markdown",
   "metadata": {},
   "source": [
    "`input`获取用户输入，并转换为**字符串**返回。"
   ]
  },
  {
   "cell_type": "code",
   "execution_count": 150,
   "metadata": {},
   "outputs": [
    {
     "name": "stdout",
     "output_type": "stream",
     "text": [
      "请输入一个数字：123\n"
     ]
    }
   ],
   "source": [
    "x = input('请输入一个数字：')"
   ]
  },
  {
   "cell_type": "code",
   "execution_count": 151,
   "metadata": {},
   "outputs": [
    {
     "data": {
      "text/plain": [
       "'123'"
      ]
     },
     "execution_count": 151,
     "metadata": {},
     "output_type": "execute_result"
    }
   ],
   "source": [
    "x"
   ]
  },
  {
   "cell_type": "code",
   "execution_count": 152,
   "metadata": {},
   "outputs": [
    {
     "name": "stdout",
     "output_type": "stream",
     "text": [
      "请输入一个字符串：好好学习\n"
     ]
    }
   ],
   "source": [
    "y = input('请输入一个字符串：')"
   ]
  },
  {
   "cell_type": "code",
   "execution_count": 153,
   "metadata": {},
   "outputs": [
    {
     "data": {
      "text/plain": [
       "'好好学习'"
      ]
     },
     "execution_count": 153,
     "metadata": {},
     "output_type": "execute_result"
    }
   ],
   "source": [
    "y"
   ]
  },
  {
   "cell_type": "code",
   "execution_count": 154,
   "metadata": {},
   "outputs": [
    {
     "name": "stdout",
     "output_type": "stream",
     "text": [
      "请问你幸福吗：我姓曾\n"
     ]
    }
   ],
   "source": [
    "answer = input(\"请问你幸福吗：\")"
   ]
  },
  {
   "cell_type": "code",
   "execution_count": 155,
   "metadata": {},
   "outputs": [
    {
     "data": {
      "text/plain": [
       "'我姓曾'"
      ]
     },
     "execution_count": 155,
     "metadata": {},
     "output_type": "execute_result"
    }
   ],
   "source": [
    "answer"
   ]
  },
  {
   "cell_type": "markdown",
   "metadata": {},
   "source": [
    "## 1.9 模块（module）"
   ]
  },
  {
   "cell_type": "markdown",
   "metadata": {},
   "source": [
    "使用`import`语句导入模块，形如`import module_name`"
   ]
  },
  {
   "cell_type": "code",
   "execution_count": 156,
   "metadata": {},
   "outputs": [],
   "source": [
    "import math"
   ]
  },
  {
   "cell_type": "markdown",
   "metadata": {},
   "source": [
    "访问模块的变量"
   ]
  },
  {
   "cell_type": "code",
   "execution_count": 157,
   "metadata": {},
   "outputs": [
    {
     "data": {
      "text/plain": [
       "3.141592653589793"
      ]
     },
     "execution_count": 157,
     "metadata": {},
     "output_type": "execute_result"
    }
   ],
   "source": [
    "math.pi"
   ]
  },
  {
   "cell_type": "markdown",
   "metadata": {},
   "source": [
    "访问模块的函数"
   ]
  },
  {
   "cell_type": "code",
   "execution_count": 158,
   "metadata": {},
   "outputs": [
    {
     "data": {
      "text/plain": [
       "0.8939966636005579"
      ]
     },
     "execution_count": 158,
     "metadata": {},
     "output_type": "execute_result"
    }
   ],
   "source": [
    "# 计算弧度的正弦值\n",
    "math.sin(90)"
   ]
  },
  {
   "cell_type": "code",
   "execution_count": 159,
   "metadata": {},
   "outputs": [
    {
     "data": {
      "text/plain": [
       "1.2246467991473532e-16"
      ]
     },
     "execution_count": 159,
     "metadata": {},
     "output_type": "execute_result"
    }
   ],
   "source": [
    "# 浮点数精度受限，计算结果并非是0，可能存在不确定尾数\n",
    "math.sin(math.pi)"
   ]
  },
  {
   "cell_type": "code",
   "execution_count": 160,
   "metadata": {},
   "outputs": [
    {
     "data": {
      "text/plain": [
       "1.0"
      ]
     },
     "execution_count": 160,
     "metadata": {},
     "output_type": "execute_result"
    }
   ],
   "source": [
    "math.sin(0.5*math.pi)"
   ]
  },
  {
   "cell_type": "code",
   "execution_count": 161,
   "metadata": {},
   "outputs": [
    {
     "data": {
      "text/plain": [
       "1.0000000000000002"
      ]
     },
     "execution_count": 161,
     "metadata": {},
     "output_type": "execute_result"
    }
   ],
   "source": [
    "math.sin(math.pi) + 1"
   ]
  },
  {
   "cell_type": "code",
   "execution_count": 162,
   "metadata": {},
   "outputs": [
    {
     "data": {
      "text/plain": [
       "0.9999999999999998"
      ]
     },
     "execution_count": 162,
     "metadata": {},
     "output_type": "execute_result"
    }
   ],
   "source": [
    "math.sin(2*math.pi) + 1"
   ]
  },
  {
   "cell_type": "markdown",
   "metadata": {},
   "source": [
    "访问模块变量和模块函数的另一种方式"
   ]
  },
  {
   "cell_type": "code",
   "execution_count": 163,
   "metadata": {},
   "outputs": [],
   "source": [
    "from math import pi, sin"
   ]
  },
  {
   "cell_type": "code",
   "execution_count": 164,
   "metadata": {},
   "outputs": [
    {
     "data": {
      "text/plain": [
       "3.141592653589793"
      ]
     },
     "execution_count": 164,
     "metadata": {},
     "output_type": "execute_result"
    }
   ],
   "source": [
    "pi"
   ]
  },
  {
   "cell_type": "code",
   "execution_count": 165,
   "metadata": {},
   "outputs": [
    {
     "data": {
      "text/plain": [
       "-0.5440211108893698"
      ]
     },
     "execution_count": 165,
     "metadata": {},
     "output_type": "execute_result"
    }
   ],
   "source": [
    "sin(10)"
   ]
  },
  {
   "cell_type": "markdown",
   "metadata": {},
   "source": [
    "## 1.10 简单条件语句"
   ]
  },
  {
   "cell_type": "markdown",
   "metadata": {},
   "source": [
    "判断某种条件是否成立；\n",
    "\n",
    "牢记<b><font color=blue>冒号，缩进，对齐</font></b>三原则"
   ]
  },
  {
   "cell_type": "code",
   "execution_count": 166,
   "metadata": {},
   "outputs": [],
   "source": [
    "# 为变量score赋值\n",
    "score = 85"
   ]
  },
  {
   "cell_type": "code",
   "execution_count": 167,
   "metadata": {},
   "outputs": [
    {
     "name": "stdout",
     "output_type": "stream",
     "text": [
      "及格\n"
     ]
    }
   ],
   "source": [
    "# 判断成绩是否及格\n",
    "\n",
    "if score >= 60 and score <= 100:\n",
    "    print('及格')\n",
    "else:\n",
    "    print('不及格')"
   ]
  },
  {
   "cell_type": "markdown",
   "metadata": {},
   "source": [
    "## 1.11 简单循环语句"
   ]
  },
  {
   "cell_type": "markdown",
   "metadata": {},
   "source": [
    "### while 循环"
   ]
  },
  {
   "cell_type": "markdown",
   "metadata": {},
   "source": [
    "`while 判断条件(condition)：\n",
    "    执行语句(statements)……\n",
    "`"
   ]
  },
  {
   "cell_type": "markdown",
   "metadata": {},
   "source": [
    "执行语句可以是单个语句或语句块。判断条件可以是任何表达式，任何非零、或非空（null）的值均为true。\n",
    "\n",
    "当判断条件假 false 时，循环结束。执行流程图如下："
   ]
  },
  {
   "cell_type": "markdown",
   "metadata": {},
   "source": [
    "<br>\n",
    "<div align=center>\n",
    "<img src=\"https://www.runoob.com/wp-content/uploads/2013/11/886A6E10-58F1-4A9B-8640-02DBEFF0EF9A.jpg\">\n",
    "</div>"
   ]
  },
  {
   "cell_type": "code",
   "execution_count": 168,
   "metadata": {},
   "outputs": [
    {
     "name": "stdout",
     "output_type": "stream",
     "text": [
      "1\n",
      "3\n",
      "5\n",
      "7\n",
      "9\n"
     ]
    }
   ],
   "source": [
    "a = 1\n",
    "while a < 10:\n",
    "    print(a)\n",
    "    a += 2"
   ]
  },
  {
   "cell_type": "markdown",
   "metadata": {},
   "source": [
    "上述代码额执行流程图如下："
   ]
  },
  {
   "cell_type": "markdown",
   "metadata": {},
   "source": [
    "<br>\n",
    "<div align=center>\n",
    "<img src=\"https://www.runoob.com/wp-content/uploads/2014/05/006faQNTgw1f5wnm06h3ug30ci08cake.gif\">\n",
    "</div>"
   ]
  },
  {
   "cell_type": "markdown",
   "metadata": {},
   "source": [
    "牢记<b><font color=blue>冒号，缩进，对齐</font></b>三原则"
   ]
  },
  {
   "cell_type": "markdown",
   "metadata": {},
   "source": [
    "## 1.14写程序注意事项"
   ]
  },
  {
   "cell_type": "markdown",
   "metadata": {},
   "source": [
    "写程序基本建议--**认真！多写**。几点具体避坑建议：\n",
    "\n",
    "- 避免拼错标志符，如变量名，函数，语句等\n",
    "\n",
    "- 避免使用中文符号，如引号，逗号，括号等\n",
    "\n",
    "- 左边一个引号和右边的引号一定有对应的匹配（括号也一样）\n",
    "\n",
    "- 注意书写格式（冒号，缩进，对齐）\n"
   ]
  },
  {
   "cell_type": "markdown",
   "metadata": {},
   "source": [
    "<br>\n",
    "<div align=center>\n",
    "<img width=\"350\" height=\"550\" src=\"https://p1-tt.byteimg.com/origin/pgc-image/15d1b9dda9904fb1bdbf39d380155b16.png?from=pc\">\n",
    "\n",
    "<p><center><font size=4>无他，唯手熟尔</font></center></p>\n",
    "</div>"
   ]
  },
  {
   "cell_type": "code",
   "execution_count": 1,
   "metadata": {},
   "outputs": [
    {
     "name": "stdout",
     "output_type": "stream",
     "text": [
      "End\n"
     ]
    }
   ],
   "source": [
    "print(\"End\")"
   ]
  }
 ],
 "metadata": {
  "kernelspec": {
   "display_name": "Python 3",
   "language": "python",
   "name": "python3"
  },
  "language_info": {
   "codemirror_mode": {
    "name": "ipython",
    "version": 3
   },
   "file_extension": ".py",
   "mimetype": "text/x-python",
   "name": "python",
   "nbconvert_exporter": "python",
   "pygments_lexer": "ipython3",
   "version": "3.7.1"
  }
 },
 "nbformat": 4,
 "nbformat_minor": 2
}
