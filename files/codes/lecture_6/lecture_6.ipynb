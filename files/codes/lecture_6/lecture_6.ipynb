{
 "cells": [
  {
   "cell_type": "markdown",
   "metadata": {},
   "source": [
    "# 6. 函数"
   ]
  },
  {
   "cell_type": "markdown",
   "metadata": {},
   "source": [
    "## 6.1 什么是函数"
   ]
  },
  {
   "cell_type": "markdown",
   "metadata": {},
   "source": [
    "**定义**：为实现一个操作或特定功能而集合在一起的语句集。\n",
    "\n",
    "**好处**：避免代码复制带来的错误或漏洞，不仅可以实现代码的复用，还可以保证代码的一致性。"
   ]
  },
  {
   "cell_type": "markdown",
   "metadata": {},
   "source": [
    "## 6.2 如何定义函数"
   ]
  },
  {
   "cell_type": "markdown",
   "metadata": {},
   "source": [
    "<div align=center>\n",
    "<img width=\"550\" height=\"550\" src=\"https://github.com/zhangjianzhang/programming_basics/blob/master/files/codes/lecture_6/function.png?raw=true\">\n",
    "</div>"
   ]
  },
  {
   "cell_type": "markdown",
   "metadata": {},
   "source": [
    "定义函数：函数头，函数体\n",
    "\n",
    "- 函数头为`def max(a, b)`\n",
    "\n",
    "- 函数体为：\n",
    "\n",
    "`\n",
    "if a > b:\n",
    "  return a\n",
    "else:\n",
    "  return b\n",
    "`"
   ]
  },
  {
   "cell_type": "markdown",
   "metadata": {},
   "source": [
    "函数头：函数名，参数列表\n",
    "\n",
    "- 函数名为`max`\n",
    "\n",
    "- 参数列表为`(a, b)`"
   ]
  },
  {
   "cell_type": "markdown",
   "metadata": {},
   "source": [
    "函数体：缩进语句块，返回值（return）\n",
    "\n",
    "- 缩进语句块，缩进正确才能对齐\n",
    "\n",
    "- 返回值为`a`或`b`"
   ]
  },
  {
   "cell_type": "markdown",
   "metadata": {},
   "source": [
    "<b><font color=blue>注意：</font></b>\n",
    "\n",
    "- 即使函数没有参数，也要保留括号；\n",
    "\n",
    "- 没有`return`语句，则默认返回空值`None`；\n",
    "\n",
    "- 注意**冒号**，**缩进**，**对齐**三原则"
   ]
  },
  {
   "cell_type": "markdown",
   "metadata": {},
   "source": [
    "## 6.3 调用函数"
   ]
  },
  {
   "cell_type": "markdown",
   "metadata": {},
   "source": [
    "对于一个函数，可以通过`函数名(参数列表)`这样的语法来调用函数；\n",
    "\n",
    "如果函数有返回值，则可以在函数调用的同时将返回值传递出来，此时这个函数调用可以当作一个值来处理；\n",
    "\n",
    "函数也可以通过一条语句调用而不接收任何值，这种情况一般应用于无返回值的函数，实际上，如果函数有返回值，也可以当作语句被调用，此时函数返回值会被忽略；\n",
    "\n",
    "`main`函数：一般作为程序的入口函数。"
   ]
  },
  {
   "cell_type": "markdown",
   "metadata": {},
   "source": [
    "<b><font color=Chocolate>拓展学习：</font></b>\n",
    "\n",
    "<a href=\"https://www.liaoxuefeng.com/wiki/1016959663602400/1017455068170048\" target=\"_blank\">使用模块</a>"
   ]
  },
  {
   "cell_type": "code",
   "execution_count": 1,
   "metadata": {},
   "outputs": [],
   "source": [
    "# 定义一个求矩形面积的函数\n",
    "\n",
    "def compute_area(width, height):\n",
    "    area = width * height\n",
    "    return area"
   ]
  },
  {
   "cell_type": "code",
   "execution_count": 2,
   "metadata": {},
   "outputs": [],
   "source": [
    "# 定义main函数\n",
    "\n",
    "def main():\n",
    "    width = 3\n",
    "    height = 9\n",
    "    # 调用compute_area函数\n",
    "    # compute_area函数有返回值\n",
    "    # 调用该函数时，会将其返回值传递出来\n",
    "    # 此处我们把其返回值赋值给变量area\n",
    "    area = compute_area(3, 9)\n",
    "    print(\"The area of the square is {}\".format(area))"
   ]
  },
  {
   "cell_type": "code",
   "execution_count": 3,
   "metadata": {},
   "outputs": [
    {
     "name": "stdout",
     "output_type": "stream",
     "text": [
      "The area of the square is 27\n"
     ]
    }
   ],
   "source": [
    "# 调用main函数\n",
    "\n",
    "# 函数也可以通过一条语句调用而不接收任何值\n",
    "# 通常函数没有返回值的时候\n",
    "# 我们会像下面一样调用函数\n",
    "# 即使有返回值（就是函数里面有return语句）\n",
    "# 如果你接下来不用它的返回值\n",
    "# 你也可以这样调用哦\n",
    "main()"
   ]
  },
  {
   "cell_type": "markdown",
   "metadata": {},
   "source": [
    "## 6.4 变量的作用域"
   ]
  },
  {
   "cell_type": "markdown",
   "metadata": {},
   "source": [
    "**局部变量**：在函数内部定义的变量称为局部变量，局部变量只能在函数内部被访问，其作用域从**创建变量的地方开始**，到包含该局部变量的**函数结束为止**。"
   ]
  },
  {
   "cell_type": "markdown",
   "metadata": {},
   "source": [
    "函数`compute_area`和函数`main`中的变量`area`就是局部变量，除了其作用域，该变量便不可被调用。"
   ]
  },
  {
   "cell_type": "code",
   "execution_count": 4,
   "metadata": {},
   "outputs": [],
   "source": [
    "# 在局部变量的作用域外调用，会出错哦\n",
    "# print(area)"
   ]
  },
  {
   "cell_type": "markdown",
   "metadata": {},
   "source": [
    "**全局变量**：在所有函数之外创建的变量被称为全局变量，可以被所有函数访问，全局变量可以在程序的任意位置访问，而如果试图在作用域外访问局部变量就会造成错误。"
   ]
  },
  {
   "cell_type": "code",
   "execution_count": 5,
   "metadata": {},
   "outputs": [],
   "source": [
    "# 此处定义的a就是一个全局变量\n",
    "a = 0"
   ]
  },
  {
   "cell_type": "code",
   "execution_count": 6,
   "metadata": {},
   "outputs": [],
   "source": [
    "# 定义一个函数cool\n",
    "def cool():\n",
    "    global a  # call a，就是“呼叫”全局变量\n",
    "    a += 1\n",
    "    return a"
   ]
  },
  {
   "cell_type": "code",
   "execution_count": 7,
   "metadata": {},
   "outputs": [
    {
     "name": "stdout",
     "output_type": "stream",
     "text": [
      "1\n",
      "2\n",
      "3\n",
      "4\n",
      "5\n",
      "6\n",
      "7\n",
      "8\n",
      "9\n",
      "10\n"
     ]
    }
   ],
   "source": [
    "for i in range(10):\n",
    "    print(cool())"
   ]
  },
  {
   "cell_type": "code",
   "execution_count": 8,
   "metadata": {},
   "outputs": [],
   "source": [
    "# 定义一个函数not_cool\n",
    "def not_cool():\n",
    "    # 此处要修改全局变量a，但是没有“呼叫”，调用该函数会出错哦\n",
    "    # 因为此时会把a作为一个局部变量处理\n",
    "    # 那么a作为一个局部变量，被创建了吗，没有吧\n",
    "    # 所以会报错local variable 'a' referenced before assignment\n",
    "    a += 1\n",
    "    return a"
   ]
  },
  {
   "cell_type": "code",
   "execution_count": 9,
   "metadata": {},
   "outputs": [],
   "source": [
    "# 函数内修改全局变量，但是没有“呼叫”，所以会出错哦\n",
    "# for i in range(10):\n",
    "#     print(not_cool())"
   ]
  },
  {
   "cell_type": "code",
   "execution_count": 10,
   "metadata": {},
   "outputs": [],
   "source": [
    "# 定义一个函数cool\n",
    "def another_cool():\n",
    "    # 此处没“呼叫”全局变量，那么默认会把a作为一个局部变量对待\n",
    "    # 所以此处创建了一个局部变量a\n",
    "    a = 100\n",
    "    a += 1\n",
    "    return a"
   ]
  },
  {
   "cell_type": "code",
   "execution_count": 11,
   "metadata": {},
   "outputs": [
    {
     "name": "stdout",
     "output_type": "stream",
     "text": [
      "101\n",
      "101\n",
      "101\n",
      "101\n",
      "101\n",
      "101\n",
      "101\n",
      "101\n",
      "101\n",
      "101\n"
     ]
    }
   ],
   "source": [
    "# 局部变量的作用域是 创建处-至-函数结束处\n",
    "# 所以调用10次，每次都是打印101\n",
    "for i in range(10):\n",
    "    print(another_cool())"
   ]
  },
  {
   "cell_type": "code",
   "execution_count": 12,
   "metadata": {},
   "outputs": [],
   "source": [
    "# 调用一下全局变量看看\n",
    "# 上面我们呼叫过一次全局变量a\n",
    "# 然后对它进行了修改\n",
    "# 你觉得此处的a的值是什么\n",
    "\n",
    "# a"
   ]
  },
  {
   "cell_type": "markdown",
   "metadata": {},
   "source": [
    "通过上面的小栗子，可以看出局部变量和全局变量是可以重名的，但是<b><font color=blue>全局变量和局部变量尽量，不要，不要，不要，重名</font></b>"
   ]
  },
  {
   "cell_type": "code",
   "execution_count": null,
   "metadata": {},
   "outputs": [],
   "source": []
  }
 ],
 "metadata": {
  "kernelspec": {
   "display_name": "Python 3",
   "language": "python",
   "name": "python3"
  },
  "language_info": {
   "codemirror_mode": {
    "name": "ipython",
    "version": 3
   },
   "file_extension": ".py",
   "mimetype": "text/x-python",
   "name": "python",
   "nbconvert_exporter": "python",
   "pygments_lexer": "ipython3",
   "version": "3.7.1"
  }
 },
 "nbformat": 4,
 "nbformat_minor": 2
}
