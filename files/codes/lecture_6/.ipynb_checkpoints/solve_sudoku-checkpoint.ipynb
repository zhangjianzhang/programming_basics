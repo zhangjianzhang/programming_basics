{
 "cells": [
  {
   "cell_type": "markdown",
   "metadata": {},
   "source": [
    "## 第一题"
   ]
  },
  {
   "cell_type": "markdown",
   "metadata": {},
   "source": [
    "编写一个程序，通过填充下图中的空格，以使得图中网格同时满足下面<font color=red>三个条件</font>：\n",
    "\n",
    "1. 字母A-D在每一行只能出现一次。\n",
    "2. 字母A-D在每一列只能出现一次。\n",
    "3. 字母A-D在每一个以粗实线分隔的 2x2 宫内只能出现一次。\n",
    "\n",
    "网格部分空格内已填入了字母，空白格用空字符串`''`表示。"
   ]
  },
  {
   "cell_type": "markdown",
   "metadata": {},
   "source": [
    "<div align=center>\n",
    "<img width=\"250\" height=\"250\" src=\"https://github.com/zhangjianzhang/programming_basics/blob/master/files/codes/lecture_6/input_exp.jpg?raw=true\">\n",
    "\n",
    "<p><center><font>示例输入</font></center></p>\n",
    "</div>"
   ]
  },
  {
   "cell_type": "markdown",
   "metadata": {},
   "source": [
    "<div align=center>\n",
    "<img width=\"250\" height=\"250\" src=\"https://github.com/zhangjianzhang/programming_basics/blob/master/files/codes/lecture_6/output_exp.jpg?raw=true\">\n",
    "\n",
    "<p><center><font>示例输出</font></center></p>\n",
    "</div>"
   ]
  },
  {
   "cell_type": "code",
   "execution_count": 1,
   "metadata": {},
   "outputs": [],
   "source": [
    "# 示例输入\n",
    "exer_1_input = [[' ',' ','B',' '],\n",
    "                [' ',' ',' ',' '],\n",
    "                ['A',' ',' ',' '],\n",
    "                [' ','D',' ','C']]"
   ]
  },
  {
   "cell_type": "code",
   "execution_count": 2,
   "metadata": {},
   "outputs": [],
   "source": [
    "# 示例输出\n",
    "exer_1_output = [['C','A','B','D'],\n",
    "                 ['D','B','C','A'],\n",
    "                 ['A','C','D','B'],\n",
    "                 ['B','D','A','C']]"
   ]
  },
  {
   "cell_type": "markdown",
   "metadata": {},
   "source": [
    "<b><font color=red>要求</font></b> 编写程序实现如下功能：\n",
    "\n",
    "1. 输入格式同上面示例输入，输出格式同上面示例输出；\n",
    "\n",
    "2. 上面只是一个输入示例，我会随机生成其他示例校验你的程序；\n",
    "\n",
    "3. 请在该cell下方插入新的cell，写你的代码"
   ]
  },
  {
   "cell_type": "code",
   "execution_count": 3,
   "metadata": {},
   "outputs": [
    {
     "name": "stdout",
     "output_type": "stream",
     "text": [
      "[0, 0, 2, 0]\n",
      "[0, 0, 0, 0]\n",
      "[1, 0, 0, 0]\n",
      "[0, 4, 0, 3]\n"
     ]
    }
   ],
   "source": [
    "# 请在此处作答，可以新增cell\n",
    "\n",
    "# 为便于操作将字母替换为数字，空格替换为数字0，ord('A') = 65\n",
    "# 新的输入保存在列表exer_1_board中\n",
    "\n",
    "exer_1_board = []\n",
    "exp = lambda char:ord(char)-64 if char!= ' ' else 0\n",
    "for idx in range(len(exer_1_input)):\n",
    "    exer_1_board.append(list(map(exp, exer_1_input[idx])))\n",
    "\n",
    "# 查看一下变换后的输出\n",
    "for row in exer_1_board:\n",
    "    print(row)"
   ]
  },
  {
   "cell_type": "markdown",
   "metadata": {},
   "source": [
    "## 第二题"
   ]
  },
  {
   "cell_type": "markdown",
   "metadata": {},
   "source": [
    "编写一个程序，通过填充下图中的空格，以使得图中网格同时满足下面<font color=red>三个条件</font>：\n",
    "\n",
    "1. 数字1-6在每一行只能出现一次。\n",
    "2. 数字1-6在每一列只能出现一次。\n",
    "3. 数字1-6在每一个以粗实线分隔的 3x2 宫内只能出现一次。\n",
    "\n",
    "网格部分空格内已填入了数字，空白格用数字`0`表示。"
   ]
  },
  {
   "cell_type": "markdown",
   "metadata": {},
   "source": [
    "<div align=center>\n",
    "<img width=\"250\" height=\"250\" src=\"https://github.com/zhangjianzhang/programming_basics/blob/master/files/codes/lecture_6/6_input.jpg?raw=true\">\n",
    "\n",
    "<p><center><font>示例输入</font></center></p>\n",
    "</div>"
   ]
  },
  {
   "cell_type": "markdown",
   "metadata": {},
   "source": [
    "<div align=center>\n",
    "<img width=\"250\" height=\"250\" src=\"https://github.com/zhangjianzhang/programming_basics/blob/master/files/codes/lecture_6/6_output.jpg?raw=true\">\n",
    "\n",
    "<p><center><font>示例输出</font></center></p>\n",
    "</div>"
   ]
  },
  {
   "cell_type": "code",
   "execution_count": 4,
   "metadata": {},
   "outputs": [],
   "source": [
    "# 示例输入\n",
    "exer_2_input = [[2,0,0,0,0,1],\n",
    "                [0,1,0,0,2,0],\n",
    "                [0,0,6,1,0,0],\n",
    "                [0,0,5,2,0,0],\n",
    "                [0,4,0,0,6,0],\n",
    "                [3,0,0,0,0,5]]"
   ]
  },
  {
   "cell_type": "code",
   "execution_count": 5,
   "metadata": {},
   "outputs": [],
   "source": [
    "# 示例输出\n",
    "exer_2_output = [[2,5,4,6,3,1],\n",
    "                 [6,1,3,5,2,4],\n",
    "                 [4,2,6,1,5,3],\n",
    "                 [1,3,5,2,4,6],\n",
    "                 [5,4,1,3,6,2],\n",
    "                 [3,6,2,4,1,5]]"
   ]
  },
  {
   "cell_type": "markdown",
   "metadata": {},
   "source": [
    "<b><font color=red>要求</font></b> 编写程序实现如下功能：\n",
    "\n",
    "1. 输入格式同上面示例输入，输出格式同上面示例输出；\n",
    "\n",
    "2. 上面只是一个输入示例，我会随机生成其他示例校验你的程序；\n",
    "\n",
    "3. 请在该cell下方插入新的cell，写你的代码"
   ]
  },
  {
   "cell_type": "code",
   "execution_count": 6,
   "metadata": {},
   "outputs": [
    {
     "name": "stdout",
     "output_type": "stream",
     "text": [
      "[2, 0, 0, 0, 0, 1]\n",
      "[0, 1, 0, 0, 2, 0]\n",
      "[0, 0, 6, 1, 0, 0]\n",
      "[0, 0, 5, 2, 0, 0]\n",
      "[0, 4, 0, 0, 6, 0]\n",
      "[3, 0, 0, 0, 0, 5]\n"
     ]
    }
   ],
   "source": [
    "# 请在此处作答，可以新增cell\n",
    "\n",
    "# 对exer_2_input深复制一份，存到列表exer_2_board中\n",
    "import copy\n",
    "\n",
    "exer_2_board = copy.deepcopy(exer_2_input)\n",
    "\n",
    "# 查看一下深复制的内容\n",
    "for row in exer_2_board:\n",
    "    print(row)"
   ]
  },
  {
   "cell_type": "markdown",
   "metadata": {},
   "source": [
    "<b><font color=red>参考答案</font></b>：第一题和第二题的求解思路是完全一样的，本质上都是在解<a href=\"https://baike.baidu.com/item/%E6%95%B0%E7%8B%AC/74847\" target=\"_blank\">数独</a>，可以使用递归和深度优先搜索求解。"
   ]
  },
  {
   "cell_type": "code",
   "execution_count": 7,
   "metadata": {},
   "outputs": [],
   "source": [
    "# 1. 定义三个列表，存储每一行、每一列、每一个小矩形中是否已经存在某个数字\n",
    "\n",
    "max_num = 6\n",
    "width = 3\n",
    "height = 2\n",
    "row = [[False] * max_num for _ in range(max_num)]\n",
    "column = [[False] * max_num for _ in range(max_num)]\n",
    "block = [[[False] * max_num for _i in range(height)] for _j in range(width)]"
   ]
  },
  {
   "cell_type": "code",
   "execution_count": 8,
   "metadata": {},
   "outputs": [
    {
     "data": {
      "text/plain": [
       "[[False, False, False, False, False, False],\n",
       " [False, False, False, False, False, False],\n",
       " [False, False, False, False, False, False],\n",
       " [False, False, False, False, False, False],\n",
       " [False, False, False, False, False, False],\n",
       " [False, False, False, False, False, False]]"
      ]
     },
     "execution_count": 8,
     "metadata": {},
     "output_type": "execute_result"
    }
   ],
   "source": [
    "row"
   ]
  },
  {
   "cell_type": "code",
   "execution_count": 9,
   "metadata": {},
   "outputs": [
    {
     "data": {
      "text/plain": [
       "[[False, False, False, False, False, False],\n",
       " [False, False, False, False, False, False],\n",
       " [False, False, False, False, False, False],\n",
       " [False, False, False, False, False, False],\n",
       " [False, False, False, False, False, False],\n",
       " [False, False, False, False, False, False]]"
      ]
     },
     "execution_count": 9,
     "metadata": {},
     "output_type": "execute_result"
    }
   ],
   "source": [
    "column"
   ]
  },
  {
   "cell_type": "code",
   "execution_count": 10,
   "metadata": {},
   "outputs": [
    {
     "data": {
      "text/plain": [
       "[[[False, False, False, False, False, False],\n",
       "  [False, False, False, False, False, False]],\n",
       " [[False, False, False, False, False, False],\n",
       "  [False, False, False, False, False, False]],\n",
       " [[False, False, False, False, False, False],\n",
       "  [False, False, False, False, False, False]]]"
      ]
     },
     "execution_count": 10,
     "metadata": {},
     "output_type": "execute_result"
    }
   ],
   "source": [
    "block"
   ]
  },
  {
   "cell_type": "markdown",
   "metadata": {},
   "source": [
    "- `row[i][num]`表示数字`num + 1`是否已经在第`i`行出现；\n",
    "\n",
    "- `column[j][num]`表示数字`num + 1`是否已经在第`j`列出现；\n",
    "\n",
    "- `block[i][j][num]`表示数字`num + 1`是否已经在第`[i][j]`个小矩形中；"
   ]
  },
  {
   "cell_type": "code",
   "execution_count": 11,
   "metadata": {},
   "outputs": [],
   "source": [
    "# 2. 根据已知输入，修改上面三个列表中的值\n",
    "# 并使用列表space存储空格子的坐标值\n",
    "\n",
    "space = []\n",
    "for i in range(max_num):\n",
    "    for j in range(max_num):\n",
    "        num = exer_2_board[i][j]\n",
    "        if num != 0:\n",
    "            row[i][num-1] = True\n",
    "            column[j][num-1] = True\n",
    "            b_i = i//height\n",
    "            b_j = j//width\n",
    "            block[b_i][b_j][num-1] = True\n",
    "        else:\n",
    "            space.append((i, j))"
   ]
  },
  {
   "cell_type": "code",
   "execution_count": 12,
   "metadata": {},
   "outputs": [
    {
     "data": {
      "text/plain": [
       "[[True, True, False, False, False, False],\n",
       " [True, True, False, False, False, False],\n",
       " [True, False, False, False, False, True],\n",
       " [False, True, False, False, True, False],\n",
       " [False, False, False, True, False, True],\n",
       " [False, False, True, False, True, False]]"
      ]
     },
     "execution_count": 12,
     "metadata": {},
     "output_type": "execute_result"
    }
   ],
   "source": [
    "row"
   ]
  },
  {
   "cell_type": "code",
   "execution_count": 13,
   "metadata": {
    "scrolled": true
   },
   "outputs": [
    {
     "data": {
      "text/plain": [
       "[[False, True, True, False, False, False],\n",
       " [True, False, False, True, False, False],\n",
       " [False, False, False, False, True, True],\n",
       " [True, True, False, False, False, False],\n",
       " [False, True, False, False, False, True],\n",
       " [True, False, False, False, True, False]]"
      ]
     },
     "execution_count": 13,
     "metadata": {},
     "output_type": "execute_result"
    }
   ],
   "source": [
    "column"
   ]
  },
  {
   "cell_type": "code",
   "execution_count": 14,
   "metadata": {},
   "outputs": [
    {
     "data": {
      "text/plain": [
       "[[[True, True, False, False, False, False],\n",
       "  [True, True, False, False, False, False]],\n",
       " [[False, False, False, False, True, True],\n",
       "  [True, True, False, False, False, False]],\n",
       " [[False, False, True, True, False, False],\n",
       "  [False, False, False, False, True, True]]]"
      ]
     },
     "execution_count": 14,
     "metadata": {},
     "output_type": "execute_result"
    }
   ],
   "source": [
    "block"
   ]
  },
  {
   "cell_type": "code",
   "execution_count": 15,
   "metadata": {
    "scrolled": true
   },
   "outputs": [
    {
     "data": {
      "text/plain": [
       "[(0, 1),\n",
       " (0, 2),\n",
       " (0, 3),\n",
       " (0, 4),\n",
       " (1, 0),\n",
       " (1, 2),\n",
       " (1, 3),\n",
       " (1, 5),\n",
       " (2, 0),\n",
       " (2, 1),\n",
       " (2, 4),\n",
       " (2, 5),\n",
       " (3, 0),\n",
       " (3, 1),\n",
       " (3, 4),\n",
       " (3, 5),\n",
       " (4, 0),\n",
       " (4, 2),\n",
       " (4, 3),\n",
       " (4, 5),\n",
       " (5, 1),\n",
       " (5, 2),\n",
       " (5, 3),\n",
       " (5, 4)]"
      ]
     },
     "execution_count": 15,
     "metadata": {},
     "output_type": "execute_result"
    }
   ],
   "source": [
    "space"
   ]
  },
  {
   "cell_type": "code",
   "execution_count": 16,
   "metadata": {},
   "outputs": [],
   "source": [
    "def dfs(pos):\n",
    "\tglobal valid\n",
    "\tif pos == len(space):\n",
    "\t\tvalid = True\n",
    "\t\treturn\n",
    "\ti, j = space[pos]\n",
    "\tfor num in range(max_num):\n",
    "\t\tif row[i][num] == column[j][num] == block[i//height][j//width][num] == False:\n",
    "\t\t\trow[i][num] = column[j][num] = block[i//height][j//width][num] = True\n",
    "\t\t\texer_2_board[i][j] = num + 1\n",
    "\t\t\tdfs(pos + 1)\n",
    "\t\t\trow[i][num] = column[j][num] = block[i//height][j//width][num] = False\n",
    "\t\tif valid:\n",
    "\t\t\treturn"
   ]
  },
  {
   "cell_type": "code",
   "execution_count": 17,
   "metadata": {
    "scrolled": true
   },
   "outputs": [
    {
     "data": {
      "text/plain": [
       "[[2, 5, 4, 6, 3, 1],\n",
       " [6, 1, 3, 5, 2, 4],\n",
       " [4, 2, 6, 1, 5, 3],\n",
       " [1, 3, 5, 2, 4, 6],\n",
       " [5, 4, 1, 3, 6, 2],\n",
       " [3, 6, 2, 4, 1, 5]]"
      ]
     },
     "execution_count": 17,
     "metadata": {},
     "output_type": "execute_result"
    }
   ],
   "source": [
    "valid = False\n",
    "dfs(0)\n",
    "exer_2_board"
   ]
  },
  {
   "cell_type": "code",
   "execution_count": 18,
   "metadata": {},
   "outputs": [],
   "source": [
    "# 1. 定义三个列表，存储每一行、每一列、每一个小矩形中是否已经存在某个数字\n",
    "\n",
    "max_num = 4\n",
    "width = 2\n",
    "height = 2\n",
    "\n",
    "row = [[False] * max_num for _ in range(max_num)]\n",
    "column = [[False] * max_num for _ in range(max_num)]\n",
    "block = [[[False] * max_num for _i in range(height)] for _j in range(width)]"
   ]
  },
  {
   "cell_type": "code",
   "execution_count": 19,
   "metadata": {},
   "outputs": [
    {
     "data": {
      "text/plain": [
       "[[False, False, False, False],\n",
       " [False, False, False, False],\n",
       " [False, False, False, False],\n",
       " [False, False, False, False]]"
      ]
     },
     "execution_count": 19,
     "metadata": {},
     "output_type": "execute_result"
    }
   ],
   "source": [
    "row"
   ]
  },
  {
   "cell_type": "code",
   "execution_count": 20,
   "metadata": {},
   "outputs": [
    {
     "data": {
      "text/plain": [
       "[[False, False, False, False],\n",
       " [False, False, False, False],\n",
       " [False, False, False, False],\n",
       " [False, False, False, False]]"
      ]
     },
     "execution_count": 20,
     "metadata": {},
     "output_type": "execute_result"
    }
   ],
   "source": [
    "column"
   ]
  },
  {
   "cell_type": "code",
   "execution_count": 21,
   "metadata": {},
   "outputs": [
    {
     "data": {
      "text/plain": [
       "[[[False, False, False, False], [False, False, False, False]],\n",
       " [[False, False, False, False], [False, False, False, False]]]"
      ]
     },
     "execution_count": 21,
     "metadata": {},
     "output_type": "execute_result"
    }
   ],
   "source": [
    "block"
   ]
  },
  {
   "cell_type": "code",
   "execution_count": 22,
   "metadata": {},
   "outputs": [],
   "source": [
    "# 2. 根据已知输入，修改上面三个列表中的值\n",
    "# 并使用列表space存储空格子的坐标值\n",
    "\n",
    "space = []\n",
    "for i in range(max_num):\n",
    "    for j in range(max_num):\n",
    "        num = exer_1_board[i][j]\n",
    "        if num != 0:\n",
    "            row[i][num-1] = True\n",
    "            column[j][num-1] = True\n",
    "            b_i = i//height\n",
    "            b_j = j//width\n",
    "            block[b_i][b_j][num-1] = True\n",
    "        else:\n",
    "            space.append((i, j))"
   ]
  },
  {
   "cell_type": "code",
   "execution_count": 23,
   "metadata": {},
   "outputs": [
    {
     "data": {
      "text/plain": [
       "[(0, 0),\n",
       " (0, 1),\n",
       " (0, 3),\n",
       " (1, 0),\n",
       " (1, 1),\n",
       " (1, 2),\n",
       " (1, 3),\n",
       " (2, 1),\n",
       " (2, 2),\n",
       " (2, 3),\n",
       " (3, 0),\n",
       " (3, 2)]"
      ]
     },
     "execution_count": 23,
     "metadata": {},
     "output_type": "execute_result"
    }
   ],
   "source": [
    "space"
   ]
  },
  {
   "cell_type": "code",
   "execution_count": 24,
   "metadata": {},
   "outputs": [
    {
     "data": {
      "text/plain": [
       "[[False, True, False, False],\n",
       " [False, False, False, False],\n",
       " [True, False, False, False],\n",
       " [False, False, True, True]]"
      ]
     },
     "execution_count": 24,
     "metadata": {},
     "output_type": "execute_result"
    }
   ],
   "source": [
    "row"
   ]
  },
  {
   "cell_type": "code",
   "execution_count": 25,
   "metadata": {},
   "outputs": [
    {
     "data": {
      "text/plain": [
       "[[True, False, False, False],\n",
       " [False, False, False, True],\n",
       " [False, True, False, False],\n",
       " [False, False, True, False]]"
      ]
     },
     "execution_count": 25,
     "metadata": {},
     "output_type": "execute_result"
    }
   ],
   "source": [
    "column"
   ]
  },
  {
   "cell_type": "code",
   "execution_count": 26,
   "metadata": {},
   "outputs": [
    {
     "data": {
      "text/plain": [
       "[[[False, False, False, False], [False, True, False, False]],\n",
       " [[True, False, False, True], [False, False, True, False]]]"
      ]
     },
     "execution_count": 26,
     "metadata": {},
     "output_type": "execute_result"
    }
   ],
   "source": [
    "block"
   ]
  },
  {
   "cell_type": "code",
   "execution_count": 27,
   "metadata": {},
   "outputs": [],
   "source": [
    "def dfs(pos):\n",
    "\tglobal valid\n",
    "\tif pos == len(space):\n",
    "\t\tvalid = True\n",
    "\t\treturn\n",
    "\ti, j = space[pos]\n",
    "\tfor num in range(max_num):\n",
    "\t\tif row[i][num] == column[j][num] == block[i//height][j//width][num] == False:\n",
    "\t\t\trow[i][num] = column[j][num] = block[i//height][j//width][num] = True\n",
    "\t\t\texer_1_board[i][j] = num + 1\n",
    "\t\t\tdfs(pos + 1)\n",
    "\t\t\trow[i][num] = column[j][num] = block[i//height][j//width][num] = False\n",
    "\t\tif valid:\n",
    "\t\t\treturn"
   ]
  },
  {
   "cell_type": "code",
   "execution_count": 28,
   "metadata": {},
   "outputs": [
    {
     "data": {
      "text/plain": [
       "[[3, 1, 2, 4], [4, 2, 3, 1], [1, 3, 4, 2], [2, 4, 1, 3]]"
      ]
     },
     "execution_count": 28,
     "metadata": {},
     "output_type": "execute_result"
    }
   ],
   "source": [
    "valid = False\n",
    "dfs(0)\n",
    "exer_1_board"
   ]
  },
  {
   "cell_type": "code",
   "execution_count": 29,
   "metadata": {},
   "outputs": [
    {
     "name": "stdout",
     "output_type": "stream",
     "text": [
      "['C', 'A', 'B', 'D']\n",
      "['D', 'B', 'C', 'A']\n",
      "['A', 'C', 'D', 'B']\n",
      "['B', 'D', 'A', 'C']\n"
     ]
    }
   ],
   "source": [
    "# 将数字替换回字母并打印计算结果\n",
    "# ord('A') = 65\n",
    "exp = lambda char_idx:chr(64 + char_idx)\n",
    "for line in exer_1_board:\n",
    "    print(list(map(exp,line)))"
   ]
  },
  {
   "cell_type": "markdown",
   "metadata": {},
   "source": [
    "## 第三题"
   ]
  },
  {
   "cell_type": "markdown",
   "metadata": {},
   "source": [
    "<b><font color=red>要求</font></b> 编写程序实现如下**功能**：\n",
    "\n",
    "1. 从数独游戏网站（例如，<a href=\"https://www.conceptispuzzles.com/zh/index.aspx?uri=puzzle/sudoku\" target=\"_blank\">Conceptis puzzles</a>，其他网站也可以）上找其他尺寸的数独，用上述代码进行求解（只需要改动几个参数即可哦）;"
   ]
  },
  {
   "cell_type": "code",
   "execution_count": 30,
   "metadata": {},
   "outputs": [],
   "source": [
    "# 请在此处作答，可以新增cell\n"
   ]
  }
 ],
 "metadata": {
  "kernelspec": {
   "display_name": "Python 3 (ipykernel)",
   "language": "python",
   "name": "python3"
  },
  "language_info": {
   "codemirror_mode": {
    "name": "ipython",
    "version": 3
   },
   "file_extension": ".py",
   "mimetype": "text/x-python",
   "name": "python",
   "nbconvert_exporter": "python",
   "pygments_lexer": "ipython3",
   "version": "3.9.7"
  }
 },
 "nbformat": 4,
 "nbformat_minor": 4
}
