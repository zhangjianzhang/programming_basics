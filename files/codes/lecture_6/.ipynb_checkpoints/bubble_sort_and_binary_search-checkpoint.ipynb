{
 "cells": [
  {
   "cell_type": "markdown",
   "metadata": {},
   "source": [
    "## 冒泡排序"
   ]
  },
  {
   "cell_type": "markdown",
   "metadata": {},
   "source": [
    "冒泡排序（Bubble Sort）也是一种简单直观的排序算法。它重复地走访过要排序的数列，一次比较两个元素，如果他们的顺序错误就把他们交换过来。走访数列的工作是重复地进行直到没有再需要交换，也就是说该数列已经排序完成。这个算法的名字由来是因为越小的元素会经由交换慢慢\"浮\"到数列的顶端。对于长度为N的序列，最多查找$log_{2}^{N}$次"
   ]
  },
  {
   "cell_type": "markdown",
   "metadata": {},
   "source": [
    "<div align=center>\n",
    "<img width=\"700\" height=\"550\" src=\"https://github.com/zhangjianzhang/programming_basics/blob/master/files/codes/lecture_5/bubbleSort.gif?raw=true\">\n",
    "\n",
    "<p><center><font><b>冒泡排序</b></font></center></p>\n",
    "</div>"
   ]
  },
  {
   "cell_type": "markdown",
   "metadata": {},
   "source": [
    "<b><font color=red>课堂测验：</font></b>\n",
    "请在下面注释处书写你的代码，实现冒泡排序："
   ]
  },
  {
   "cell_type": "code",
   "execution_count": 1,
   "metadata": {},
   "outputs": [
    {
     "name": "stdout",
     "output_type": "stream",
     "text": [
      "测试不通过：[21, 60, 84, 52, 7, 88, 59, 43, 78, 85, 47, 58, 17, 60]\n"
     ]
    }
   ],
   "source": [
    "import random\n",
    "# 生成测试用例\n",
    "test_cases = []\n",
    "answers = []\n",
    "\n",
    "for i in range(1000):\n",
    "    case = []\n",
    "    length = random.randint(5, 15)\n",
    "    while len(case) < length:\n",
    "        case.append(random.randint(0, 100))\n",
    "    test_cases.append(case)\n",
    "    answers.append(sorted(case))\n",
    "\n",
    "flag = False\n",
    "for idx, case in enumerate(test_cases):\n",
    "    \n",
    "    N = len(case)\n",
    "    \n",
    "    # 在这里写你的代码\n",
    "    # 在这里写你的代码\n",
    "    # 在这里写你的代码\n",
    "    \n",
    "    if case != answers[idx]:\n",
    "        print(\"测试不通过：{}\".format(case))\n",
    "        flag = False\n",
    "        break\n",
    "    flag = True\n",
    "\n",
    "if flag == True:\n",
    "    print(\"非常地棒，测试通过！！！\")"
   ]
  },
  {
   "cell_type": "markdown",
   "metadata": {},
   "source": [
    "## 二分查找"
   ]
  },
  {
   "cell_type": "markdown",
   "metadata": {},
   "source": [
    "二分搜索是一种在有序数组中查找某一特定元素的搜索算法。搜索过程从数组的中间元素开始，如果中间元素正好是要查找的元素，则搜索过程结束；如果某一特定元素大于或者小于中间元素，则在数组大于或小于中间元素的那一半中查找，而且跟开始一样从中间元素开始比较。如果在某一步骤数组为空，则代表找不到。这种搜索算法每一次比较都使搜索范围缩小一半。"
   ]
  },
  {
   "cell_type": "markdown",
   "metadata": {},
   "source": [
    "<div align=center>\n",
    "<img width=\"550\" height=\"350\" src=\"https://github.com/zhangjianzhang/programming_basics/blob/master/files/codes/lecture_5/Binary_search_into_array.png?raw=true\">\n",
    "\n",
    "<p><center><font><b>二分查找</b></font></center></p>\n",
    "</div>"
   ]
  },
  {
   "cell_type": "markdown",
   "metadata": {},
   "source": [
    "## 生成1000个测试用例"
   ]
  },
  {
   "cell_type": "code",
   "execution_count": 2,
   "metadata": {},
   "outputs": [],
   "source": [
    "import random\n",
    "\n",
    "test_cases = []\n",
    "answers = []\n",
    "\n",
    "for i in range(10000):\n",
    "    case = []\n",
    "    length = random.randint(1, 20)\n",
    "    while len(case) < length:\n",
    "        number = random.randint(0, 100)\n",
    "        if number not in case:\n",
    "            case.append(number)\n",
    "            \n",
    "    case.sort()\n",
    "    idx = random.randint(0, length-1)\n",
    "    answers.append(idx)\n",
    "    test_cases.append((case[idx],case))"
   ]
  },
  {
   "cell_type": "markdown",
   "metadata": {},
   "source": [
    "## 使用递归方式实现二分查找"
   ]
  },
  {
   "cell_type": "code",
   "execution_count": 3,
   "metadata": {},
   "outputs": [],
   "source": [
    "def binary_search_recursive(target, case, start, end):\n",
    "    middle = (start + end)//2\n",
    "    if target == case[middle]:\n",
    "        return middle\n",
    "    elif target > case[middle]:\n",
    "        return binary_search_recursive(target, case, middle + 1, end)\n",
    "    else:\n",
    "        return binary_search_recursive(target, case, start, middle - 1)"
   ]
  },
  {
   "cell_type": "markdown",
   "metadata": {},
   "source": [
    "## 使用循环方式实现二分查找"
   ]
  },
  {
   "cell_type": "code",
   "execution_count": 4,
   "metadata": {},
   "outputs": [],
   "source": [
    "import math\n",
    "\n",
    "def binary_search_loop(target, case):\n",
    "    start = 0\n",
    "    end = len(case)\n",
    "    answer = None\n",
    "    for i in range(int(math.log(len(case),2)) + 1):\n",
    "        middle = (start + end)//2\n",
    "        if target == case[middle]:\n",
    "            answer = middle\n",
    "            break\n",
    "        elif target > case[middle]:\n",
    "            start = middle + 1\n",
    "            continue\n",
    "        else:\n",
    "            end = middle - 1\n",
    "            continue\n",
    "    return answer"
   ]
  },
  {
   "cell_type": "markdown",
   "metadata": {},
   "source": [
    "## 测试递归方式的实现"
   ]
  },
  {
   "cell_type": "code",
   "execution_count": 5,
   "metadata": {},
   "outputs": [],
   "source": [
    "for idx, item in enumerate(test_cases):\n",
    "    target, case = item\n",
    "    answer = binary_search_recursive(target, case, 0, len(case))\n",
    "    \n",
    "    if answer != answers[idx]:\n",
    "        print(\"测试不通过：{}\".format(case))\n",
    "        break"
   ]
  },
  {
   "cell_type": "markdown",
   "metadata": {},
   "source": [
    "## 测试循环方式的实现"
   ]
  },
  {
   "cell_type": "code",
   "execution_count": 6,
   "metadata": {},
   "outputs": [],
   "source": [
    "for idx, item in enumerate(test_cases):\n",
    "    target, case = item\n",
    "    answer = binary_search_loop(target, case)\n",
    "    \n",
    "    if answer != answers[idx]:\n",
    "        print(\"测试不通过：{}\".format(case))\n",
    "        break"
   ]
  }
 ],
 "metadata": {
  "kernelspec": {
   "display_name": "Python 3",
   "language": "python",
   "name": "python3"
  },
  "language_info": {
   "codemirror_mode": {
    "name": "ipython",
    "version": 3
   },
   "file_extension": ".py",
   "mimetype": "text/x-python",
   "name": "python",
   "nbconvert_exporter": "python",
   "pygments_lexer": "ipython3",
   "version": "3.7.1"
  }
 },
 "nbformat": 4,
 "nbformat_minor": 2
}
