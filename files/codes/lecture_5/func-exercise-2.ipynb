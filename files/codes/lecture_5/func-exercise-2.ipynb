{
 "cells": [
  {
   "cell_type": "markdown",
   "metadata": {},
   "source": [
    "## 1. 冒泡排序"
   ]
  },
  {
   "cell_type": "markdown",
   "metadata": {},
   "source": [
    "冒泡排序（Bubble Sort）也是一种简单直观的排序算法。它重复地走访过要排序的数列，一次比较两个元素，如果他们的顺序错误就把他们交换过来。走访数列的工作是重复地进行直到没有再需要交换，也就是说该数列已经排序完成。这个算法的名字由来是因为越小的元素会经由交换慢慢\"浮\"到数列的顶端。对于长度为N的序列，最多查找$log_{2}^{N}$次"
   ]
  },
  {
   "cell_type": "markdown",
   "metadata": {},
   "source": [
    "<div align=center>\n",
    "<img width=\"700\" height=\"550\" src=\"https://raw.githubusercontent.com/zhangjianzhang/programming_basics/master/files/codes/imgs/bubbleSort.gif?raw=true\">\n",
    "\n",
    "<p><center><font><b>冒泡排序</b></font></center></p>\n",
    "</div>"
   ]
  },
  {
   "cell_type": "markdown",
   "metadata": {},
   "source": [
    "<b><font color=red>课堂测验：</font></b>\n",
    "请在下面注释处书写你的代码，实现冒泡排序："
   ]
  },
  {
   "cell_type": "code",
   "execution_count": 1,
   "metadata": {},
   "outputs": [
    {
     "name": "stdout",
     "output_type": "stream",
     "text": [
      "测试不通过：[60, 2, 39, 78, 60, 37, 47, 35, 63, 37, 69, 89, 19, 32]\n"
     ]
    }
   ],
   "source": [
    "import random\n",
    "# 生成测试用例\n",
    "test_cases = []\n",
    "answers = []\n",
    "\n",
    "for i in range(1000):\n",
    "    case = []\n",
    "    length = random.randint(5, 15)\n",
    "    while len(case) < length:\n",
    "        case.append(random.randint(0, 100))\n",
    "    test_cases.append(case)\n",
    "    answers.append(sorted(case))\n",
    "\n",
    "flag = False\n",
    "for idx, case in enumerate(test_cases):\n",
    "    \n",
    "    N = len(case)\n",
    "    \n",
    "    # 在这里写你的代码\n",
    "    # 在这里写你的代码\n",
    "    # 在这里写你的代码\n",
    "    \n",
    "    if case != answers[idx]:\n",
    "        print(\"测试不通过：{}\".format(case))\n",
    "        flag = False\n",
    "        break\n",
    "    flag = True\n",
    "\n",
    "if flag == True:\n",
    "    print(\"非常地棒，测试通过！！！\")"
   ]
  },
  {
   "cell_type": "markdown",
   "metadata": {},
   "source": [
    "## 2. 二分查找"
   ]
  },
  {
   "cell_type": "markdown",
   "metadata": {},
   "source": [
    "二分搜索是一种在有序数组中查找某一特定元素的搜索算法。搜索过程从数组的中间元素开始，如果中间元素正好是要查找的元素，则搜索过程结束；如果某一特定元素大于或者小于中间元素，则在数组大于或小于中间元素的那一半中查找，而且跟开始一样从中间元素开始比较。如果在某一步骤数组为空，则代表找不到。这种搜索算法每一次比较都使搜索范围缩小一半。"
   ]
  },
  {
   "cell_type": "markdown",
   "metadata": {},
   "source": [
    "<div align=center>\n",
    "<img width=\"550\" height=\"350\" src=\"https://raw.githubusercontent.com/zhangjianzhang/programming_basics/master/files/codes/imgs/Binary_search_into_array.png?raw=true\">\n",
    "\n",
    "<p><center><font><b>二分查找</b></font></center></p>\n",
    "</div>"
   ]
  },
  {
   "cell_type": "markdown",
   "metadata": {},
   "source": [
    "## 生成1000个测试用例"
   ]
  },
  {
   "cell_type": "code",
   "execution_count": 2,
   "metadata": {},
   "outputs": [],
   "source": [
    "import random\n",
    "\n",
    "test_cases = []\n",
    "answers = []\n",
    "\n",
    "for i in range(10000):\n",
    "    case = []\n",
    "    length = random.randint(1, 20)\n",
    "    while len(case) < length:\n",
    "        number = random.randint(0, 100)\n",
    "        if number not in case:\n",
    "            case.append(number)\n",
    "            \n",
    "    case.sort()\n",
    "    idx = random.randint(0, length-1)\n",
    "    answers.append(idx)\n",
    "    test_cases.append((case[idx],case))"
   ]
  },
  {
   "cell_type": "markdown",
   "metadata": {},
   "source": [
    "## 使用递归方式实现二分查找"
   ]
  },
  {
   "cell_type": "code",
   "execution_count": 3,
   "metadata": {},
   "outputs": [],
   "source": [
    "def binary_search_recursive(target, case, start, end):\n",
    "    middle = (start + end)//2\n",
    "    if target == case[middle]:\n",
    "        return middle\n",
    "    elif target > case[middle]:\n",
    "        return binary_search_recursive(target, case, middle + 1, end)\n",
    "    else:\n",
    "        return binary_search_recursive(target, case, start, middle - 1)"
   ]
  },
  {
   "cell_type": "markdown",
   "metadata": {},
   "source": [
    "## 使用循环方式实现二分查找"
   ]
  },
  {
   "cell_type": "code",
   "execution_count": 4,
   "metadata": {},
   "outputs": [],
   "source": [
    "import math\n",
    "\n",
    "def binary_search_loop(target, case):\n",
    "    start = 0\n",
    "    end = len(case)\n",
    "    answer = None\n",
    "    for i in range(int(math.log(len(case),2)) + 1):\n",
    "        middle = (start + end)//2\n",
    "        if target == case[middle]:\n",
    "            answer = middle\n",
    "            break\n",
    "        elif target > case[middle]:\n",
    "            start = middle + 1\n",
    "            continue\n",
    "        else:\n",
    "            end = middle - 1\n",
    "            continue\n",
    "    return answer"
   ]
  },
  {
   "cell_type": "markdown",
   "metadata": {},
   "source": [
    "## 测试递归方式的实现"
   ]
  },
  {
   "cell_type": "code",
   "execution_count": 5,
   "metadata": {},
   "outputs": [],
   "source": [
    "for idx, item in enumerate(test_cases):\n",
    "    target, case = item\n",
    "    answer = binary_search_recursive(target, case, 0, len(case))\n",
    "    \n",
    "    if answer != answers[idx]:\n",
    "        print(\"测试不通过：{}\".format(case))\n",
    "        break"
   ]
  },
  {
   "cell_type": "markdown",
   "metadata": {},
   "source": [
    "## 测试循环方式的实现"
   ]
  },
  {
   "cell_type": "code",
   "execution_count": 6,
   "metadata": {},
   "outputs": [],
   "source": [
    "for idx, item in enumerate(test_cases):\n",
    "    target, case = item\n",
    "    answer = binary_search_loop(target, case)\n",
    "    \n",
    "    if answer != answers[idx]:\n",
    "        print(\"测试不通过：{}\".format(case))\n",
    "        break"
   ]
  },
  {
   "cell_type": "markdown",
   "metadata": {},
   "source": [
    "## 3. 数独第一题"
   ]
  },
  {
   "cell_type": "markdown",
   "metadata": {},
   "source": [
    "编写一个程序，通过填充下图中的空格，以使得图中网格同时满足下面<font color=red>三个条件</font>：\n",
    "\n",
    "1. 字母A-D在每一行只能出现一次。\n",
    "2. 字母A-D在每一列只能出现一次。\n",
    "3. 字母A-D在每一个以粗实线分隔的 2x2 宫内只能出现一次。\n",
    "\n",
    "网格部分空格内已填入了字母，空白格用空字符串`''`表示。"
   ]
  },
  {
   "cell_type": "markdown",
   "metadata": {},
   "source": [
    "<div align=center>\n",
    "<img width=\"250\" height=\"250\" src=\"https://raw.githubusercontent.com/zhangjianzhang/programming_basics/master/files/codes/imgs/input_exp.jpg?raw=true\">\n",
    "\n",
    "<p><center><font>示例输入</font></center></p>\n",
    "</div>"
   ]
  },
  {
   "cell_type": "markdown",
   "metadata": {},
   "source": [
    "<div align=center>\n",
    "<img width=\"250\" height=\"250\" src=\"https://raw.githubusercontent.com/zhangjianzhang/programming_basics/master/files/codes/imgs/output_exp.jpg?raw=true\">\n",
    "\n",
    "<p><center><font>示例输出</font></center></p>\n",
    "</div>"
   ]
  },
  {
   "cell_type": "code",
   "execution_count": 1,
   "metadata": {},
   "outputs": [],
   "source": [
    "# 示例输入\n",
    "exer_1_input = [[' ',' ','B',' '],\n",
    "                [' ',' ',' ',' '],\n",
    "                ['A',' ',' ',' '],\n",
    "                [' ','D',' ','C']]"
   ]
  },
  {
   "cell_type": "code",
   "execution_count": 2,
   "metadata": {},
   "outputs": [],
   "source": [
    "# 示例输出\n",
    "exer_1_output = [['C','A','B','D'],\n",
    "                 ['D','B','C','A'],\n",
    "                 ['A','C','D','B'],\n",
    "                 ['B','D','A','C']]"
   ]
  },
  {
   "cell_type": "markdown",
   "metadata": {},
   "source": [
    "<b><font color=red>要求</font></b> 编写程序实现如下功能：\n",
    "\n",
    "1. 输入格式同上面示例输入，输出格式同上面示例输出；\n",
    "\n",
    "2. 上面只是一个输入示例，我会随机生成其他示例校验你的程序；\n",
    "\n",
    "3. 请在该cell下方插入新的cell，写你的代码"
   ]
  },
  {
   "cell_type": "code",
   "execution_count": 3,
   "metadata": {},
   "outputs": [
    {
     "name": "stdout",
     "output_type": "stream",
     "text": [
      "[0, 0, 2, 0]\n",
      "[0, 0, 0, 0]\n",
      "[1, 0, 0, 0]\n",
      "[0, 4, 0, 3]\n"
     ]
    }
   ],
   "source": [
    "# 请在此处作答，可以新增cell\n",
    "\n",
    "# 为便于操作将字母替换为数字，空格替换为数字0，ord('A') = 65\n",
    "# 新的输入保存在列表exer_1_board中\n",
    "\n",
    "exer_1_board = []\n",
    "exp = lambda char:ord(char)-64 if char!= ' ' else 0\n",
    "for idx in range(len(exer_1_input)):\n",
    "    exer_1_board.append(list(map(exp, exer_1_input[idx])))\n",
    "\n",
    "# 查看一下变换后的输出\n",
    "for row in exer_1_board:\n",
    "    print(row)"
   ]
  },
  {
   "cell_type": "markdown",
   "metadata": {},
   "source": [
    "## 4. 数独第二题"
   ]
  },
  {
   "cell_type": "markdown",
   "metadata": {},
   "source": [
    "编写一个程序，通过填充下图中的空格，以使得图中网格同时满足下面<font color=red>三个条件</font>：\n",
    "\n",
    "1. 数字1-6在每一行只能出现一次。\n",
    "2. 数字1-6在每一列只能出现一次。\n",
    "3. 数字1-6在每一个以粗实线分隔的 3x2 宫内只能出现一次。\n",
    "\n",
    "网格部分空格内已填入了数字，空白格用数字`0`表示。"
   ]
  },
  {
   "cell_type": "markdown",
   "metadata": {},
   "source": [
    "<div align=center>\n",
    "<img width=\"250\" height=\"250\" src=\"https://raw.githubusercontent.com/zhangjianzhang/programming_basics/master/files/codes/imgs/6_input.jpg?raw=true\">\n",
    "\n",
    "<p><center><font>示例输入</font></center></p>\n",
    "</div>"
   ]
  },
  {
   "cell_type": "markdown",
   "metadata": {},
   "source": [
    "<div align=center>\n",
    "<img width=\"250\" height=\"250\" src=\"https://raw.githubusercontent.com/zhangjianzhang/programming_basics/master/files/codes/imgs/6_output.jpg?raw=true\">\n",
    "\n",
    "<p><center><font>示例输出</font></center></p>\n",
    "</div>"
   ]
  },
  {
   "cell_type": "code",
   "execution_count": 4,
   "metadata": {},
   "outputs": [],
   "source": [
    "# 示例输入\n",
    "exer_2_input = [[2,0,0,0,0,1],\n",
    "                [0,1,0,0,2,0],\n",
    "                [0,0,6,1,0,0],\n",
    "                [0,0,5,2,0,0],\n",
    "                [0,4,0,0,6,0],\n",
    "                [3,0,0,0,0,5]]"
   ]
  },
  {
   "cell_type": "code",
   "execution_count": 5,
   "metadata": {},
   "outputs": [],
   "source": [
    "# 示例输出\n",
    "exer_2_output = [[2,5,4,6,3,1],\n",
    "                 [6,1,3,5,2,4],\n",
    "                 [4,2,6,1,5,3],\n",
    "                 [1,3,5,2,4,6],\n",
    "                 [5,4,1,3,6,2],\n",
    "                 [3,6,2,4,1,5]]"
   ]
  },
  {
   "cell_type": "markdown",
   "metadata": {},
   "source": [
    "<b><font color=red>要求</font></b> 编写程序实现如下功能：\n",
    "\n",
    "1. 输入格式同上面示例输入，输出格式同上面示例输出；\n",
    "\n",
    "2. 上面只是一个输入示例，我会随机生成其他示例校验你的程序；\n",
    "\n",
    "3. 请在该cell下方插入新的cell，写你的代码"
   ]
  },
  {
   "cell_type": "code",
   "execution_count": 6,
   "metadata": {},
   "outputs": [
    {
     "name": "stdout",
     "output_type": "stream",
     "text": [
      "[2, 0, 0, 0, 0, 1]\n",
      "[0, 1, 0, 0, 2, 0]\n",
      "[0, 0, 6, 1, 0, 0]\n",
      "[0, 0, 5, 2, 0, 0]\n",
      "[0, 4, 0, 0, 6, 0]\n",
      "[3, 0, 0, 0, 0, 5]\n"
     ]
    }
   ],
   "source": [
    "# 请在此处作答，可以新增cell\n",
    "\n",
    "# 对exer_2_input深复制一份，存到列表exer_2_board中\n",
    "import copy\n",
    "\n",
    "exer_2_board = copy.deepcopy(exer_2_input)\n",
    "\n",
    "# 查看一下深复制的内容\n",
    "for row in exer_2_board:\n",
    "    print(row)"
   ]
  },
  {
   "cell_type": "markdown",
   "metadata": {},
   "source": [
    "<b><font color=red>参考答案</font></b>：第一题和第二题的求解思路是完全一样的，本质上都是在解<a href=\"https://baike.baidu.com/item/%E6%95%B0%E7%8B%AC/74847\" target=\"_blank\">数独</a>，可以使用递归和深度优先搜索求解。"
   ]
  },
  {
   "cell_type": "code",
   "execution_count": 7,
   "metadata": {},
   "outputs": [],
   "source": [
    "# 1. 定义三个列表，存储每一行、每一列、每一个小矩形中是否已经存在某个数字\n",
    "\n",
    "max_num = 6\n",
    "width = 3\n",
    "height = 2\n",
    "row = [[False] * max_num for _ in range(max_num)]\n",
    "column = [[False] * max_num for _ in range(max_num)]\n",
    "block = [[[False] * max_num for _i in range(height)] for _j in range(width)]"
   ]
  },
  {
   "cell_type": "code",
   "execution_count": 8,
   "metadata": {},
   "outputs": [
    {
     "data": {
      "text/plain": [
       "[[False, False, False, False, False, False],\n",
       " [False, False, False, False, False, False],\n",
       " [False, False, False, False, False, False],\n",
       " [False, False, False, False, False, False],\n",
       " [False, False, False, False, False, False],\n",
       " [False, False, False, False, False, False]]"
      ]
     },
     "execution_count": 8,
     "metadata": {},
     "output_type": "execute_result"
    }
   ],
   "source": [
    "row"
   ]
  },
  {
   "cell_type": "code",
   "execution_count": 9,
   "metadata": {},
   "outputs": [
    {
     "data": {
      "text/plain": [
       "[[False, False, False, False, False, False],\n",
       " [False, False, False, False, False, False],\n",
       " [False, False, False, False, False, False],\n",
       " [False, False, False, False, False, False],\n",
       " [False, False, False, False, False, False],\n",
       " [False, False, False, False, False, False]]"
      ]
     },
     "execution_count": 9,
     "metadata": {},
     "output_type": "execute_result"
    }
   ],
   "source": [
    "column"
   ]
  },
  {
   "cell_type": "code",
   "execution_count": 10,
   "metadata": {},
   "outputs": [
    {
     "data": {
      "text/plain": [
       "[[[False, False, False, False, False, False],\n",
       "  [False, False, False, False, False, False]],\n",
       " [[False, False, False, False, False, False],\n",
       "  [False, False, False, False, False, False]],\n",
       " [[False, False, False, False, False, False],\n",
       "  [False, False, False, False, False, False]]]"
      ]
     },
     "execution_count": 10,
     "metadata": {},
     "output_type": "execute_result"
    }
   ],
   "source": [
    "block"
   ]
  },
  {
   "cell_type": "markdown",
   "metadata": {},
   "source": [
    "- `row[i][num]`表示数字`num + 1`是否已经在第`i`行出现；\n",
    "\n",
    "- `column[j][num]`表示数字`num + 1`是否已经在第`j`列出现；\n",
    "\n",
    "- `block[i][j][num]`表示数字`num + 1`是否已经在第`[i][j]`个小矩形中；"
   ]
  },
  {
   "cell_type": "code",
   "execution_count": 11,
   "metadata": {},
   "outputs": [],
   "source": [
    "# 2. 根据已知输入，修改上面三个列表中的值\n",
    "# 并使用列表space存储空格子的坐标值\n",
    "\n",
    "space = []\n",
    "for i in range(max_num):\n",
    "    for j in range(max_num):\n",
    "        num = exer_2_board[i][j]\n",
    "        if num != 0:\n",
    "            row[i][num-1] = True\n",
    "            column[j][num-1] = True\n",
    "            b_i = i//height\n",
    "            b_j = j//width\n",
    "            block[b_i][b_j][num-1] = True\n",
    "        else:\n",
    "            space.append((i, j))"
   ]
  },
  {
   "cell_type": "code",
   "execution_count": 12,
   "metadata": {},
   "outputs": [
    {
     "data": {
      "text/plain": [
       "[[True, True, False, False, False, False],\n",
       " [True, True, False, False, False, False],\n",
       " [True, False, False, False, False, True],\n",
       " [False, True, False, False, True, False],\n",
       " [False, False, False, True, False, True],\n",
       " [False, False, True, False, True, False]]"
      ]
     },
     "execution_count": 12,
     "metadata": {},
     "output_type": "execute_result"
    }
   ],
   "source": [
    "row"
   ]
  },
  {
   "cell_type": "code",
   "execution_count": 13,
   "metadata": {
    "scrolled": true
   },
   "outputs": [
    {
     "data": {
      "text/plain": [
       "[[False, True, True, False, False, False],\n",
       " [True, False, False, True, False, False],\n",
       " [False, False, False, False, True, True],\n",
       " [True, True, False, False, False, False],\n",
       " [False, True, False, False, False, True],\n",
       " [True, False, False, False, True, False]]"
      ]
     },
     "execution_count": 13,
     "metadata": {},
     "output_type": "execute_result"
    }
   ],
   "source": [
    "column"
   ]
  },
  {
   "cell_type": "code",
   "execution_count": 14,
   "metadata": {},
   "outputs": [
    {
     "data": {
      "text/plain": [
       "[[[True, True, False, False, False, False],\n",
       "  [True, True, False, False, False, False]],\n",
       " [[False, False, False, False, True, True],\n",
       "  [True, True, False, False, False, False]],\n",
       " [[False, False, True, True, False, False],\n",
       "  [False, False, False, False, True, True]]]"
      ]
     },
     "execution_count": 14,
     "metadata": {},
     "output_type": "execute_result"
    }
   ],
   "source": [
    "block"
   ]
  },
  {
   "cell_type": "code",
   "execution_count": 15,
   "metadata": {
    "scrolled": true
   },
   "outputs": [
    {
     "data": {
      "text/plain": [
       "[(0, 1),\n",
       " (0, 2),\n",
       " (0, 3),\n",
       " (0, 4),\n",
       " (1, 0),\n",
       " (1, 2),\n",
       " (1, 3),\n",
       " (1, 5),\n",
       " (2, 0),\n",
       " (2, 1),\n",
       " (2, 4),\n",
       " (2, 5),\n",
       " (3, 0),\n",
       " (3, 1),\n",
       " (3, 4),\n",
       " (3, 5),\n",
       " (4, 0),\n",
       " (4, 2),\n",
       " (4, 3),\n",
       " (4, 5),\n",
       " (5, 1),\n",
       " (5, 2),\n",
       " (5, 3),\n",
       " (5, 4)]"
      ]
     },
     "execution_count": 15,
     "metadata": {},
     "output_type": "execute_result"
    }
   ],
   "source": [
    "space"
   ]
  },
  {
   "cell_type": "code",
   "execution_count": 16,
   "metadata": {},
   "outputs": [],
   "source": [
    "def dfs(pos):\n",
    "\tglobal valid\n",
    "\tif pos == len(space):\n",
    "\t\tvalid = True\n",
    "\t\treturn\n",
    "\ti, j = space[pos]\n",
    "\tfor num in range(max_num):\n",
    "\t\tif row[i][num] == column[j][num] == block[i//height][j//width][num] == False:\n",
    "\t\t\trow[i][num] = column[j][num] = block[i//height][j//width][num] = True\n",
    "\t\t\texer_2_board[i][j] = num + 1\n",
    "\t\t\tdfs(pos + 1)\n",
    "\t\t\trow[i][num] = column[j][num] = block[i//height][j//width][num] = False\n",
    "\t\tif valid:\n",
    "\t\t\treturn"
   ]
  },
  {
   "cell_type": "code",
   "execution_count": 17,
   "metadata": {
    "scrolled": true
   },
   "outputs": [
    {
     "data": {
      "text/plain": [
       "[[2, 5, 4, 6, 3, 1],\n",
       " [6, 1, 3, 5, 2, 4],\n",
       " [4, 2, 6, 1, 5, 3],\n",
       " [1, 3, 5, 2, 4, 6],\n",
       " [5, 4, 1, 3, 6, 2],\n",
       " [3, 6, 2, 4, 1, 5]]"
      ]
     },
     "execution_count": 17,
     "metadata": {},
     "output_type": "execute_result"
    }
   ],
   "source": [
    "valid = False\n",
    "dfs(0)\n",
    "exer_2_board"
   ]
  },
  {
   "cell_type": "code",
   "execution_count": 18,
   "metadata": {},
   "outputs": [],
   "source": [
    "# 1. 定义三个列表，存储每一行、每一列、每一个小矩形中是否已经存在某个数字\n",
    "\n",
    "max_num = 4\n",
    "width = 2\n",
    "height = 2\n",
    "\n",
    "row = [[False] * max_num for _ in range(max_num)]\n",
    "column = [[False] * max_num for _ in range(max_num)]\n",
    "block = [[[False] * max_num for _i in range(height)] for _j in range(width)]"
   ]
  },
  {
   "cell_type": "code",
   "execution_count": 19,
   "metadata": {},
   "outputs": [
    {
     "data": {
      "text/plain": [
       "[[False, False, False, False],\n",
       " [False, False, False, False],\n",
       " [False, False, False, False],\n",
       " [False, False, False, False]]"
      ]
     },
     "execution_count": 19,
     "metadata": {},
     "output_type": "execute_result"
    }
   ],
   "source": [
    "row"
   ]
  },
  {
   "cell_type": "code",
   "execution_count": 20,
   "metadata": {},
   "outputs": [
    {
     "data": {
      "text/plain": [
       "[[False, False, False, False],\n",
       " [False, False, False, False],\n",
       " [False, False, False, False],\n",
       " [False, False, False, False]]"
      ]
     },
     "execution_count": 20,
     "metadata": {},
     "output_type": "execute_result"
    }
   ],
   "source": [
    "column"
   ]
  },
  {
   "cell_type": "code",
   "execution_count": 21,
   "metadata": {},
   "outputs": [
    {
     "data": {
      "text/plain": [
       "[[[False, False, False, False], [False, False, False, False]],\n",
       " [[False, False, False, False], [False, False, False, False]]]"
      ]
     },
     "execution_count": 21,
     "metadata": {},
     "output_type": "execute_result"
    }
   ],
   "source": [
    "block"
   ]
  },
  {
   "cell_type": "code",
   "execution_count": 22,
   "metadata": {},
   "outputs": [],
   "source": [
    "# 2. 根据已知输入，修改上面三个列表中的值\n",
    "# 并使用列表space存储空格子的坐标值\n",
    "\n",
    "space = []\n",
    "for i in range(max_num):\n",
    "    for j in range(max_num):\n",
    "        num = exer_1_board[i][j]\n",
    "        if num != 0:\n",
    "            row[i][num-1] = True\n",
    "            column[j][num-1] = True\n",
    "            b_i = i//height\n",
    "            b_j = j//width\n",
    "            block[b_i][b_j][num-1] = True\n",
    "        else:\n",
    "            space.append((i, j))"
   ]
  },
  {
   "cell_type": "code",
   "execution_count": 23,
   "metadata": {},
   "outputs": [
    {
     "data": {
      "text/plain": [
       "[(0, 0),\n",
       " (0, 1),\n",
       " (0, 3),\n",
       " (1, 0),\n",
       " (1, 1),\n",
       " (1, 2),\n",
       " (1, 3),\n",
       " (2, 1),\n",
       " (2, 2),\n",
       " (2, 3),\n",
       " (3, 0),\n",
       " (3, 2)]"
      ]
     },
     "execution_count": 23,
     "metadata": {},
     "output_type": "execute_result"
    }
   ],
   "source": [
    "space"
   ]
  },
  {
   "cell_type": "code",
   "execution_count": 24,
   "metadata": {},
   "outputs": [
    {
     "data": {
      "text/plain": [
       "[[False, True, False, False],\n",
       " [False, False, False, False],\n",
       " [True, False, False, False],\n",
       " [False, False, True, True]]"
      ]
     },
     "execution_count": 24,
     "metadata": {},
     "output_type": "execute_result"
    }
   ],
   "source": [
    "row"
   ]
  },
  {
   "cell_type": "code",
   "execution_count": 25,
   "metadata": {},
   "outputs": [
    {
     "data": {
      "text/plain": [
       "[[True, False, False, False],\n",
       " [False, False, False, True],\n",
       " [False, True, False, False],\n",
       " [False, False, True, False]]"
      ]
     },
     "execution_count": 25,
     "metadata": {},
     "output_type": "execute_result"
    }
   ],
   "source": [
    "column"
   ]
  },
  {
   "cell_type": "code",
   "execution_count": 26,
   "metadata": {},
   "outputs": [
    {
     "data": {
      "text/plain": [
       "[[[False, False, False, False], [False, True, False, False]],\n",
       " [[True, False, False, True], [False, False, True, False]]]"
      ]
     },
     "execution_count": 26,
     "metadata": {},
     "output_type": "execute_result"
    }
   ],
   "source": [
    "block"
   ]
  },
  {
   "cell_type": "code",
   "execution_count": 27,
   "metadata": {},
   "outputs": [],
   "source": [
    "def dfs(pos):\n",
    "\tglobal valid\n",
    "\tif pos == len(space):\n",
    "\t\tvalid = True\n",
    "\t\treturn\n",
    "\ti, j = space[pos]\n",
    "\tfor num in range(max_num):\n",
    "\t\tif row[i][num] == column[j][num] == block[i//height][j//width][num] == False:\n",
    "\t\t\trow[i][num] = column[j][num] = block[i//height][j//width][num] = True\n",
    "\t\t\texer_1_board[i][j] = num + 1\n",
    "\t\t\tdfs(pos + 1)\n",
    "\t\t\trow[i][num] = column[j][num] = block[i//height][j//width][num] = False\n",
    "\t\tif valid:\n",
    "\t\t\treturn"
   ]
  },
  {
   "cell_type": "code",
   "execution_count": 28,
   "metadata": {},
   "outputs": [
    {
     "data": {
      "text/plain": [
       "[[3, 1, 2, 4], [4, 2, 3, 1], [1, 3, 4, 2], [2, 4, 1, 3]]"
      ]
     },
     "execution_count": 28,
     "metadata": {},
     "output_type": "execute_result"
    }
   ],
   "source": [
    "valid = False\n",
    "dfs(0)\n",
    "exer_1_board"
   ]
  },
  {
   "cell_type": "code",
   "execution_count": 29,
   "metadata": {},
   "outputs": [
    {
     "name": "stdout",
     "output_type": "stream",
     "text": [
      "['C', 'A', 'B', 'D']\n",
      "['D', 'B', 'C', 'A']\n",
      "['A', 'C', 'D', 'B']\n",
      "['B', 'D', 'A', 'C']\n"
     ]
    }
   ],
   "source": [
    "# 将数字替换回字母并打印计算结果\n",
    "# ord('A') = 65\n",
    "exp = lambda char_idx:chr(64 + char_idx)\n",
    "for line in exer_1_board:\n",
    "    print(list(map(exp,line)))"
   ]
  },
  {
   "cell_type": "markdown",
   "metadata": {},
   "source": [
    "## 5. 数独第三题"
   ]
  },
  {
   "cell_type": "markdown",
   "metadata": {},
   "source": [
    "<b><font color=red>要求</font></b> 编写程序实现如下**功能**：\n",
    "\n",
    "1. 从数独游戏网站（例如，<a href=\"https://www.conceptispuzzles.com/zh/index.aspx?uri=puzzle/sudoku\" target=\"_blank\">Conceptis puzzles</a>，其他网站也可以）上找其他尺寸的数独，用上述代码进行求解（只需要改动几个参数即可哦）;"
   ]
  },
  {
   "cell_type": "code",
   "execution_count": 30,
   "metadata": {},
   "outputs": [],
   "source": [
    "# 请在此处作答，可以新增cell\n"
   ]
  },
  {
   "cell_type": "markdown",
   "metadata": {},
   "source": [
    "## 6. 汉诺塔"
   ]
  },
  {
   "cell_type": "markdown",
   "metadata": {},
   "source": [
    "<div align=center>\n",
    "<img width=\"550\" height=\"750\" src=\"https://raw.githubusercontent.com/zhangjianzhang/programming_basics/master/files/codes/imgs/hannuo_wiki.jpeg?raw=true\">\n",
    "\n",
    "<p><center><font>汉诺塔</font></center></p>\n",
    "</div>"
   ]
  },
  {
   "cell_type": "markdown",
   "metadata": {},
   "source": [
    "汉诺塔（Tower of Hanoi）是根据一个传说形成的数学问题：\n",
    "\n",
    "有三根杆子A，B，C。A杆上有 N 个 (N>1) 穿孔圆盘，盘的尺寸由下到上依次变小。要求按下列规则将所有圆盘移至 C 杆：\n",
    "\n",
    "每次只能移动一个圆盘；\n",
    "大盘不能叠在小盘上面。\n",
    "提示：可将圆盘临时置于 B 杆，也可将从 A 杆移出的圆盘重新移回 A 杆，但都必须遵循上述两条规则。\n",
    "\n",
    "**问**：如何移？最少要移动多少次？"
   ]
  },
  {
   "cell_type": "markdown",
   "metadata": {},
   "source": [
    "**答**：\n",
    "\n",
    "**采用递归思想去移动**：先把 A 塔顶部的 N-1 块盘移动到 B 塔，再把 A 塔剩下的大盘移到 C，最后把 B 塔的 N-1 块盘移到 C。\n",
    "\n",
    "**最少移动**：$2^N - 1$次；\n",
    "\n",
    "如果N=15，最少需移动$32767$次；这就是说，如果一个人从 3 岁到 99 岁，每天移动一块圆盘，他最多仅能移动 15 块；\n",
    "\n",
    "如果 N=20，最少需移动 $1048575$ 次，即超过了一百万次；\n",
    "\n",
    "如果 N=64，最少需移动 $2^{64}−1$ 次。即如果一秒钟能移动一块圆盘，仍将需 5849.42 亿年。目前按照宇宙大爆炸理论的推测，宇宙的年龄仅为 137 亿年。\n",
    "\n",
    "在真实玩具中，一般 N=8，最少需移动 255 次。"
   ]
  },
  {
   "cell_type": "markdown",
   "metadata": {},
   "source": [
    "<div align=center>\n",
    "<img width=\"750\" height=\"550\" src=\"https://raw.githubusercontent.com/zhangjianzhang/programming_basics/master/files/codes/imgs/hanno_3.gif?raw=true\">\n",
    "\n",
    "<p><center><font>汉诺塔（N=3）</font></center></p>\n",
    "</div>"
   ]
  },
  {
   "cell_type": "markdown",
   "metadata": {},
   "source": [
    "当N =1时，移动路径为A->C"
   ]
  },
  {
   "cell_type": "markdown",
   "metadata": {},
   "source": [
    "当N =2时，移动路径为A->B，A->C，B->C"
   ]
  },
  {
   "cell_type": "markdown",
   "metadata": {},
   "source": [
    "当N=3时候：\n",
    "\n",
    "- 先把A柱上的2个移动到B柱上；（N = 2）\n",
    "\n",
    "- 再把A柱上的最后（最大）的一个盘移到C柱上；\n",
    "\n",
    "- 最后把B柱上的2个移动到C柱上。（N = 2）"
   ]
  },
  {
   "cell_type": "markdown",
   "metadata": {},
   "source": [
    "当N=4时候：\n",
    "\n",
    "- 先把A柱上的3个移动到B柱上；（N = 3）\n",
    "\n",
    "- 再把A柱上的最后（最大）的一个盘移到C柱上；\n",
    "\n",
    "- 最后把B柱上的3个移动到C柱上。（N = 3）"
   ]
  },
  {
   "cell_type": "markdown",
   "metadata": {},
   "source": [
    "......"
   ]
  },
  {
   "cell_type": "markdown",
   "metadata": {},
   "source": [
    "当有N个盘子：\n",
    "\n",
    "- 先把A柱上的N-1个移动到B柱上；（N-1）\n",
    "\n",
    "- 再把A柱上的最后（最大）的一个盘移到C柱上；\n",
    "\n",
    "- 最后把B柱上的N-1个移动到C柱上。（N-1）"
   ]
  },
  {
   "cell_type": "code",
   "execution_count": 1,
   "metadata": {},
   "outputs": [],
   "source": [
    "def hanoi(n, L, C, R):\n",
    "    if n == 1:\n",
    "        print('{} ---> {}'.format(L, R))\n",
    "    elif n == 2:\n",
    "        print('{} ---> {}'.format(L, C))\n",
    "        print('{} ---> {}'.format(L, R))\n",
    "        print('{} ---> {}'.format(C, R))\n",
    "    else:\n",
    "        hanoi(n-1, L, R, C)\n",
    "        print('A ---> C')\n",
    "        hanoi(n-1, C, L, R)"
   ]
  },
  {
   "cell_type": "code",
   "execution_count": 2,
   "metadata": {},
   "outputs": [
    {
     "name": "stdout",
     "output_type": "stream",
     "text": [
      "A ---> B\n",
      "A ---> C\n",
      "B ---> C\n"
     ]
    }
   ],
   "source": [
    "hanoi(2, L='A', C='B', R='C')"
   ]
  },
  {
   "cell_type": "code",
   "execution_count": 3,
   "metadata": {},
   "outputs": [
    {
     "name": "stdout",
     "output_type": "stream",
     "text": [
      "A ---> C\n"
     ]
    }
   ],
   "source": [
    "hanoi(1, L='A', C='B', R='C')"
   ]
  },
  {
   "cell_type": "code",
   "execution_count": 4,
   "metadata": {},
   "outputs": [
    {
     "name": "stdout",
     "output_type": "stream",
     "text": [
      "A ---> C\n",
      "A ---> B\n",
      "C ---> B\n",
      "A ---> C\n",
      "B ---> A\n",
      "B ---> C\n",
      "A ---> C\n"
     ]
    }
   ],
   "source": [
    "hanoi(3, L='A', C='B', R='C')"
   ]
  },
  {
   "cell_type": "code",
   "execution_count": 5,
   "metadata": {},
   "outputs": [
    {
     "name": "stdout",
     "output_type": "stream",
     "text": [
      "A ---> B\n",
      "A ---> C\n",
      "B ---> C\n",
      "A ---> C\n",
      "C ---> A\n",
      "C ---> B\n",
      "A ---> B\n",
      "A ---> C\n",
      "B ---> C\n",
      "B ---> A\n",
      "C ---> A\n",
      "A ---> C\n",
      "A ---> B\n",
      "A ---> C\n",
      "B ---> C\n"
     ]
    }
   ],
   "source": [
    "hanoi(4, L='A', C='B', R='C')"
   ]
  },
  {
   "cell_type": "markdown",
   "metadata": {},
   "source": [
    "<div align=center>\n",
    "<img width=\"750\" height=\"550\" src=\"https://raw.githubusercontent.com/zhangjianzhang/programming_basics/master/files/codes/imgs/hannuo_4.gif?raw=true\">\n",
    "\n",
    "<p><center><font>汉诺塔（N=4）</font></center></p>\n",
    "</div>"
   ]
  },
  {
   "cell_type": "code",
   "execution_count": 6,
   "metadata": {},
   "outputs": [
    {
     "name": "stdout",
     "output_type": "stream",
     "text": [
      "A ---> B\n",
      "A ---> C\n",
      "B ---> C\n",
      "A ---> C\n",
      "C ---> A\n",
      "C ---> B\n",
      "A ---> B\n",
      "A ---> C\n",
      "B ---> C\n",
      "B ---> A\n",
      "C ---> A\n",
      "A ---> C\n",
      "A ---> B\n",
      "A ---> C\n",
      "B ---> C\n",
      "A ---> C\n",
      "C ---> A\n",
      "C ---> B\n",
      "A ---> B\n",
      "A ---> C\n",
      "B ---> C\n",
      "B ---> A\n",
      "C ---> A\n",
      "A ---> C\n",
      "A ---> B\n",
      "A ---> C\n",
      "B ---> C\n",
      "A ---> C\n",
      "C ---> A\n",
      "C ---> B\n",
      "A ---> B\n",
      "A ---> C\n",
      "B ---> C\n",
      "B ---> A\n",
      "C ---> A\n",
      "A ---> C\n",
      "A ---> B\n",
      "A ---> C\n",
      "B ---> C\n",
      "A ---> C\n",
      "C ---> A\n",
      "C ---> B\n",
      "A ---> B\n",
      "A ---> C\n",
      "B ---> C\n",
      "B ---> A\n",
      "C ---> A\n",
      "A ---> C\n",
      "A ---> B\n",
      "A ---> C\n",
      "B ---> C\n",
      "A ---> C\n",
      "C ---> A\n",
      "C ---> B\n",
      "A ---> B\n",
      "A ---> C\n",
      "B ---> C\n",
      "B ---> A\n",
      "C ---> A\n",
      "A ---> C\n",
      "A ---> B\n",
      "A ---> C\n",
      "B ---> C\n",
      "A ---> C\n",
      "C ---> A\n",
      "C ---> B\n",
      "A ---> B\n",
      "A ---> C\n",
      "B ---> C\n",
      "B ---> A\n",
      "C ---> A\n",
      "A ---> C\n",
      "A ---> B\n",
      "A ---> C\n",
      "B ---> C\n",
      "A ---> C\n",
      "C ---> A\n",
      "C ---> B\n",
      "A ---> B\n",
      "A ---> C\n",
      "B ---> C\n",
      "B ---> A\n",
      "C ---> A\n",
      "A ---> C\n",
      "A ---> B\n",
      "A ---> C\n",
      "B ---> C\n",
      "A ---> C\n",
      "C ---> A\n",
      "C ---> B\n",
      "A ---> B\n",
      "A ---> C\n",
      "B ---> C\n",
      "B ---> A\n",
      "C ---> A\n",
      "A ---> C\n",
      "A ---> B\n",
      "A ---> C\n",
      "B ---> C\n",
      "A ---> C\n",
      "C ---> A\n",
      "C ---> B\n",
      "A ---> B\n",
      "A ---> C\n",
      "B ---> C\n",
      "B ---> A\n",
      "C ---> A\n",
      "A ---> C\n",
      "A ---> B\n",
      "A ---> C\n",
      "B ---> C\n",
      "A ---> C\n",
      "C ---> A\n",
      "C ---> B\n",
      "A ---> B\n",
      "A ---> C\n",
      "B ---> C\n",
      "B ---> A\n",
      "C ---> A\n",
      "A ---> C\n",
      "A ---> B\n",
      "A ---> C\n",
      "B ---> C\n",
      "A ---> C\n",
      "C ---> A\n",
      "C ---> B\n",
      "A ---> B\n",
      "A ---> C\n",
      "B ---> C\n",
      "B ---> A\n",
      "C ---> A\n",
      "A ---> C\n",
      "A ---> B\n",
      "A ---> C\n",
      "B ---> C\n",
      "A ---> C\n",
      "C ---> A\n",
      "C ---> B\n",
      "A ---> B\n",
      "A ---> C\n",
      "B ---> C\n",
      "B ---> A\n",
      "C ---> A\n",
      "A ---> C\n",
      "A ---> B\n",
      "A ---> C\n",
      "B ---> C\n",
      "A ---> C\n",
      "C ---> A\n",
      "C ---> B\n",
      "A ---> B\n",
      "A ---> C\n",
      "B ---> C\n",
      "B ---> A\n",
      "C ---> A\n",
      "A ---> C\n",
      "A ---> B\n",
      "A ---> C\n",
      "B ---> C\n",
      "A ---> C\n",
      "C ---> A\n",
      "C ---> B\n",
      "A ---> B\n",
      "A ---> C\n",
      "B ---> C\n",
      "B ---> A\n",
      "C ---> A\n",
      "A ---> C\n",
      "A ---> B\n",
      "A ---> C\n",
      "B ---> C\n",
      "A ---> C\n",
      "C ---> A\n",
      "C ---> B\n",
      "A ---> B\n",
      "A ---> C\n",
      "B ---> C\n",
      "B ---> A\n",
      "C ---> A\n",
      "A ---> C\n",
      "A ---> B\n",
      "A ---> C\n",
      "B ---> C\n",
      "A ---> C\n",
      "C ---> A\n",
      "C ---> B\n",
      "A ---> B\n",
      "A ---> C\n",
      "B ---> C\n",
      "B ---> A\n",
      "C ---> A\n",
      "A ---> C\n",
      "A ---> B\n",
      "A ---> C\n",
      "B ---> C\n",
      "A ---> C\n",
      "C ---> A\n",
      "C ---> B\n",
      "A ---> B\n",
      "A ---> C\n",
      "B ---> C\n",
      "B ---> A\n",
      "C ---> A\n",
      "A ---> C\n",
      "A ---> B\n",
      "A ---> C\n",
      "B ---> C\n",
      "A ---> C\n",
      "C ---> A\n",
      "C ---> B\n",
      "A ---> B\n",
      "A ---> C\n",
      "B ---> C\n",
      "B ---> A\n",
      "C ---> A\n",
      "A ---> C\n",
      "A ---> B\n",
      "A ---> C\n",
      "B ---> C\n",
      "A ---> C\n",
      "C ---> A\n",
      "C ---> B\n",
      "A ---> B\n",
      "A ---> C\n",
      "B ---> C\n",
      "B ---> A\n",
      "C ---> A\n",
      "A ---> C\n",
      "A ---> B\n",
      "A ---> C\n",
      "B ---> C\n",
      "A ---> C\n",
      "C ---> A\n",
      "C ---> B\n",
      "A ---> B\n",
      "A ---> C\n",
      "B ---> C\n",
      "B ---> A\n",
      "C ---> A\n",
      "A ---> C\n",
      "A ---> B\n",
      "A ---> C\n",
      "B ---> C\n",
      "A ---> C\n",
      "C ---> A\n",
      "C ---> B\n",
      "A ---> B\n",
      "A ---> C\n",
      "B ---> C\n",
      "B ---> A\n",
      "C ---> A\n",
      "A ---> C\n",
      "A ---> B\n",
      "A ---> C\n",
      "B ---> C\n"
     ]
    }
   ],
   "source": [
    "hanoi(8, L='A', C='B', R='C')"
   ]
  },
  {
   "cell_type": "markdown",
   "metadata": {},
   "source": [
    "上面函数虽然采用递归思想实现了打印汉诺塔移动步骤，但是不够简洁，问题在于我们的边界条件（N=2）选取的不好，那么我们再来重新选择一下边界条件："
   ]
  },
  {
   "cell_type": "markdown",
   "metadata": {},
   "source": [
    "当N =1时，移动路径为**$A ---> C$**"
   ]
  },
  {
   "cell_type": "markdown",
   "metadata": {},
   "source": [
    "当N =2时，移动路径为：\n",
    "\n",
    "- 先把A柱上的1个移动到B柱上；（N = 1）\n",
    "\n",
    "- 再把A柱上的最后（最大）的一个盘移到C柱上；（N=1）\n",
    "\n",
    "- 最后把B柱上的1个移动到C柱上。（N = 1）"
   ]
  },
  {
   "cell_type": "markdown",
   "metadata": {},
   "source": [
    "当N=3时候：\n",
    "\n",
    "- 先把A柱上的2个移动到B柱上；（N = 2）\n",
    "\n",
    "- 再把A柱上的最后（最大）的一个盘移到C柱上；（N=1）\n",
    "\n",
    "- 最后把B柱上的2个移动到C柱上。（N = 2）"
   ]
  },
  {
   "cell_type": "markdown",
   "metadata": {},
   "source": [
    "当N=4时候：\n",
    "\n",
    "- 先把A柱上的3个移动到B柱上；（N = 3）\n",
    "\n",
    "- 再把A柱上的最后（最大）的一个盘移到C柱上；（N=1）\n",
    "\n",
    "- 最后把B柱上的3个移动到C柱上。（N = 3）"
   ]
  },
  {
   "cell_type": "markdown",
   "metadata": {},
   "source": [
    "......"
   ]
  },
  {
   "cell_type": "markdown",
   "metadata": {},
   "source": [
    "当有N个盘子：\n",
    "\n",
    "- 先把A柱上的N-1个移动到B柱上；（N-1）\n",
    "\n",
    "- 再把A柱上的最后（最大）的一个盘移到C柱上；（N=1）\n",
    "\n",
    "- 最后把B柱上的N-1个移动到C柱上。（N-1）"
   ]
  },
  {
   "cell_type": "code",
   "execution_count": 7,
   "metadata": {},
   "outputs": [],
   "source": [
    "def hanoi_new(n, L, C, R):\n",
    "    if n == 1:\n",
    "        print('{} ---> {}'.format(L, R))\n",
    "    else:\n",
    "        hanoi_new(n-1, L, R, C)\n",
    "        hanoi_new(n-1, L, C, R)\n",
    "        hanoi_new(n-1, C, L, R)"
   ]
  },
  {
   "cell_type": "code",
   "execution_count": 8,
   "metadata": {},
   "outputs": [
    {
     "name": "stdout",
     "output_type": "stream",
     "text": [
      "A ---> B\n",
      "A ---> C\n",
      "B ---> C\n"
     ]
    }
   ],
   "source": [
    "hanoi_new(2,'A','B','C')"
   ]
  },
  {
   "cell_type": "code",
   "execution_count": 9,
   "metadata": {},
   "outputs": [
    {
     "name": "stdout",
     "output_type": "stream",
     "text": [
      "A ---> C\n",
      "A ---> B\n",
      "C ---> B\n",
      "A ---> B\n",
      "A ---> C\n",
      "B ---> C\n",
      "B ---> A\n",
      "B ---> C\n",
      "A ---> C\n"
     ]
    }
   ],
   "source": [
    "hanoi_new(3,'A','B','C')"
   ]
  },
  {
   "cell_type": "code",
   "execution_count": 10,
   "metadata": {},
   "outputs": [
    {
     "name": "stdout",
     "output_type": "stream",
     "text": [
      "A ---> B\n",
      "A ---> C\n",
      "B ---> C\n",
      "A ---> C\n",
      "A ---> B\n",
      "C ---> B\n",
      "C ---> A\n",
      "C ---> B\n",
      "A ---> B\n",
      "A ---> C\n",
      "A ---> B\n",
      "C ---> B\n",
      "A ---> B\n",
      "A ---> C\n",
      "B ---> C\n",
      "B ---> A\n",
      "B ---> C\n",
      "A ---> C\n",
      "B ---> C\n",
      "B ---> A\n",
      "C ---> A\n",
      "B ---> A\n",
      "B ---> C\n",
      "A ---> C\n",
      "A ---> B\n",
      "A ---> C\n",
      "B ---> C\n"
     ]
    }
   ],
   "source": [
    "hanoi_new(4,'A','B','C')"
   ]
  },
  {
   "cell_type": "markdown",
   "metadata": {},
   "source": [
    "A--->B\n",
    "A--->C\n",
    "B--->C\n",
    "A--->C第一种写法基础情况（边界条件）是N =1 和 N=2；\n",
    "\n",
    "第二种写法基础情况（边界条件）是N = 1。"
   ]
  },
  {
   "cell_type": "code",
   "execution_count": 11,
   "metadata": {},
   "outputs": [
    {
     "name": "stdout",
     "output_type": "stream",
     "text": [
      "END\n"
     ]
    }
   ],
   "source": [
    "print('END')"
   ]
  }
 ],
 "metadata": {
  "kernelspec": {
   "display_name": "Python 3 (ipykernel)",
   "language": "python",
   "name": "python3"
  },
  "language_info": {
   "codemirror_mode": {
    "name": "ipython",
    "version": 3
   },
   "file_extension": ".py",
   "mimetype": "text/x-python",
   "name": "python",
   "nbconvert_exporter": "python",
   "pygments_lexer": "ipython3",
   "version": "3.9.7"
  }
 },
 "nbformat": 4,
 "nbformat_minor": 4
}
