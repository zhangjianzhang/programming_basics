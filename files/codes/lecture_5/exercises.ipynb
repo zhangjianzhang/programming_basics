{
 "cells": [
  {
   "cell_type": "markdown",
   "metadata": {},
   "source": [
    "## 第五章实训练习"
   ]
  },
  {
   "cell_type": "markdown",
   "metadata": {},
   "source": [
    "<b><font color=red>思考题：</font></b>输出九九乘法表，如下。\n",
    "\n",
    "提示：`print()`函数`end`关键字参数默认为`\\n`，修改为`\\t`"
   ]
  },
  {
   "cell_type": "markdown",
   "metadata": {},
   "source": [
    "<div align=center>\n",
    "<img width=\"750\" height=\"250\" src=\"https://github.com/zhangjianzhang/programming_basics/blob/master/files/codes/lecture_5/chengfa.jpg?raw=true\">\n",
    "\n",
    "<p><center><font><b>九九乘法表</b></font></center></p>\n",
    "</div>"
   ]
  },
  {
   "cell_type": "markdown",
   "metadata": {},
   "source": [
    "<b><font color=red>思考题：</font></b>输出高度为10（行）的等边三角形，如下。"
   ]
  },
  {
   "cell_type": "markdown",
   "metadata": {},
   "source": [
    "<div align=center>\n",
    "<img width=\"250\" height=\"250\" src=\"https://github.com/zhangjianzhang/programming_basics/blob/master/files/codes/lecture_5/dengbian.jpg?raw=true\">\n",
    "\n",
    "<p><center><font><b>等边三角形</b></font></center></p>\n",
    "</div>"
   ]
  },
  {
   "cell_type": "markdown",
   "metadata": {},
   "source": [
    "<b><font color=red>思考题：</font></b>计算圆周率pi的近似值（蒙特卡罗法）"
   ]
  },
  {
   "cell_type": "markdown",
   "metadata": {},
   "source": [
    "**蒙特卡罗方法**是指用随机数通过求解概率而获得近似值的方法，圆周率也可通过此法求解。"
   ]
  },
  {
   "cell_type": "markdown",
   "metadata": {},
   "source": [
    "<div align=center>\n",
    "<img width=\"450\" height=\"450\" src=\"https://github.com/zhangjianzhang/programming_basics/blob/master/files/codes/lecture_5/circle.jpg?raw=true\">\n",
    "\n",
    "<p><center><font><b>圆</b></font></center></p>\n",
    "</div>"
   ]
  },
  {
   "cell_type": "markdown",
   "metadata": {},
   "source": [
    "假设有一个圆，\n",
    "\n",
    "半径： $r$\n",
    "\n",
    "圆的面积： $S_{circle} = \\pi r^2$\n",
    "\n",
    "外接正方形的面积： $S_{square} = {(2r)}^2 = 4r^{2}$ \n",
    "\n",
    "那么，对外接正方形里的任一一个点，它落在圆里的概率为：\n",
    "\n",
    "\\begin{equation}\n",
    "P(in \\ circle) = \\frac{\\;S_{circle}\\;}{\\;S_{square}\\;} = \\frac{\\pi}{4}\n",
    "\\end{equation}"
   ]
  },
  {
   "cell_type": "markdown",
   "metadata": {},
   "source": [
    "通过上述公式，转换得：\n",
    "\n",
    "\\begin{equation}\n",
    "\\pi = 4 \\times P(in \\ circle) = 4 \\times \\frac{m}{n}\n",
    "\\end{equation}"
   ]
  },
  {
   "cell_type": "markdown",
   "metadata": {},
   "source": [
    "其中，\n",
    "\n",
    "$m$表示落在圆内的点的个数；\n",
    "\n",
    "$n$表示从外接正方形中采样的点的个数\n",
    "\n",
    "使用频率近似概率，从外接正方形中采样$n$次，其中有$m$次，点落在了圆内。\n",
    "\n",
    "判断点是否落在圆内，可通过如下公式：\n",
    "\n",
    "$x^2 + y^2 <= r$\n",
    "\n",
    "下面进行实验时，我们设定$r = 1$"
   ]
  },
  {
   "cell_type": "code",
   "execution_count": 1,
   "metadata": {},
   "outputs": [
    {
     "name": "stdout",
     "output_type": "stream",
     "text": [
      "math.pi is                     3.14159265\n",
      "The estimated one is           3.14060400\n"
     ]
    }
   ],
   "source": [
    "import math\n",
    "import random\n",
    "hit = 0 # 点落在圆内的次数\n",
    "number_of_trials = 1000000 # 实验次数\n",
    "for i in range(number_of_trials):\n",
    "    # 从外接正方形中随机选择一个点\n",
    "    x = random.uniform(-1.0,1.0) # 按照均匀分布取横坐标值\n",
    "    y = random.uniform(-1.0,1.0) # 按照均匀分布取纵坐标值\n",
    "    # 如果点落在圆内，增加一次计数\n",
    "    if x**2 + y**2 <= 1:\n",
    "        hit += 1\n",
    "print('math.pi is {:>30.8f}'.format(math.pi))\n",
    "print('The estimated one is {:>20.8f}'.format(4*(hit/number_of_trials)))"
   ]
  },
  {
   "cell_type": "markdown",
   "metadata": {},
   "source": [
    "<b><font color=red>思考题：</font></b>微积分：用微元法计算$f(x)=x^2$ 从0到1的积分，$\\int_{0}^{1} x^2$。\n",
    "\n",
    "将图中曲线下面的部分看做多个小矩形的面积之和（即，分割、近似、求和）"
   ]
  },
  {
   "cell_type": "markdown",
   "metadata": {},
   "source": [
    "<div align=center>\n",
    "<img width=\"450\" height=\"450\" src=\"https://github.com/zhangjianzhang/programming_basics/blob/master/files/codes/lecture_5/integral.png?raw=true\">\n",
    "\n",
    "<p><center><font><b>微元法</b></font></center></p>\n",
    "</div>"
   ]
  },
  {
   "cell_type": "code",
   "execution_count": 2,
   "metadata": {},
   "outputs": [
    {
     "name": "stdout",
     "output_type": "stream",
     "text": [
      "1.0000100000000005\n"
     ]
    }
   ],
   "source": [
    "import math\n",
    "\n",
    "N = 100000 # 分割为100000个小矩形\n",
    "\n",
    "sum_of_area = 0\n",
    "i = 1\n",
    "while i <= N:\n",
    "    small_area =  (1/N) * (i/N)*2 # 宽×高，求小面\n",
    "    sum_of_area += small_area # 小面积累加\n",
    "    i += 1\n",
    "print(sum_of_area)"
   ]
  },
  {
   "cell_type": "code",
   "execution_count": 3,
   "metadata": {},
   "outputs": [
    {
     "name": "stdout",
     "output_type": "stream",
     "text": [
      "END\n"
     ]
    }
   ],
   "source": [
    "print('END')"
   ]
  }
 ],
 "metadata": {
  "kernelspec": {
   "display_name": "Python 3",
   "language": "python",
   "name": "python3"
  },
  "language_info": {
   "codemirror_mode": {
    "name": "ipython",
    "version": 3
   },
   "file_extension": ".py",
   "mimetype": "text/x-python",
   "name": "python",
   "nbconvert_exporter": "python",
   "pygments_lexer": "ipython3",
   "version": "3.7.1"
  }
 },
 "nbformat": 4,
 "nbformat_minor": 2
}
