{
 "cells": [
  {
   "cell_type": "code",
   "execution_count": 1,
   "id": "246cc452-d31b-4192-acfc-2fde2b789b7b",
   "metadata": {},
   "outputs": [],
   "source": [
    "def compute_area_of_circle(a,b,c):\n",
    "    import math\n",
    "    # 将三条边按照长度，从小到大排列\n",
    "    a,b,c = sorted([a,b,c])\n",
    "    # 任意两边之和大于第三边（a<b<c），因此构成三角形\n",
    "    if (a + b) > c:\n",
    "        # 下面用海伦公式求外接圆面积\n",
    "        p = (a + b + c)/2\n",
    "        # 三角形面积\n",
    "        S = float((p*(p-a)*(p-b)*(p-c))**(1/2))\n",
    "        # 外接圆半径\n",
    "        r = (a*b*c)/(4*S)\n",
    "        # 外接圆面积\n",
    "        circle_S = math.pi*r*r\n",
    "        print(\"三条边能构成三角形，其外接圆面积为：{:.2f}\".format(circle_S))\n",
    "    else:\n",
    "        print(\"三条边不能构成三角形\")"
   ]
  },
  {
   "cell_type": "code",
   "execution_count": 2,
   "id": "a1eacf3a-3507-4532-9925-fecad5bd9bf2",
   "metadata": {},
   "outputs": [],
   "source": [
    "a = 3; b = 12; c = 10"
   ]
  },
  {
   "cell_type": "code",
   "execution_count": 3,
   "id": "cf9c0468-f0a3-480a-a7c3-8de789f4008e",
   "metadata": {},
   "outputs": [
    {
     "name": "stdout",
     "output_type": "stream",
     "text": [
      "三条边能构成三角形，其外接圆面积为：171.43\n"
     ]
    }
   ],
   "source": [
    "compute_area_of_circle(a,b,c)"
   ]
  },
  {
   "cell_type": "code",
   "execution_count": 4,
   "id": "db858e96-874f-4d23-840d-34a2053d9fd1",
   "metadata": {},
   "outputs": [],
   "source": [
    "a = 3; b = 4; c = 10"
   ]
  },
  {
   "cell_type": "code",
   "execution_count": 5,
   "id": "b2f02603-7681-489a-966e-d580168f4185",
   "metadata": {},
   "outputs": [
    {
     "name": "stdout",
     "output_type": "stream",
     "text": [
      "三条边不能构成三角形\n"
     ]
    }
   ],
   "source": [
    "compute_area_of_circle(a,b,c)"
   ]
  },
  {
   "cell_type": "code",
   "execution_count": 6,
   "id": "6d07bba4-d8ab-40be-bcc5-06f213015a60",
   "metadata": {},
   "outputs": [
    {
     "data": {
      "text/plain": [
       "1"
      ]
     },
     "execution_count": 6,
     "metadata": {},
     "output_type": "execute_result"
    }
   ],
   "source": [
    "True + False"
   ]
  },
  {
   "cell_type": "code",
   "execution_count": 7,
   "id": "fdbd356d-0d96-452c-b33d-ec9e89369e80",
   "metadata": {},
   "outputs": [],
   "source": [
    "d = {'a':1,'c':2,'b':3}"
   ]
  },
  {
   "cell_type": "code",
   "execution_count": 8,
   "id": "27533469-554a-4e1e-bdae-be83a5b69b47",
   "metadata": {},
   "outputs": [
    {
     "data": {
      "text/plain": [
       "1"
      ]
     },
     "execution_count": 8,
     "metadata": {},
     "output_type": "execute_result"
    }
   ],
   "source": []
  },
  {
   "cell_type": "code",
   "execution_count": 9,
   "id": "0402d4b4-4803-494d-b4dd-d21af0b2ed74",
   "metadata": {},
   "outputs": [
    {
     "data": {
      "text/plain": [
       "{'c': 2, 'b': 3}"
      ]
     },
     "execution_count": 9,
     "metadata": {},
     "output_type": "execute_result"
    }
   ],
   "source": [
    "d"
   ]
  },
  {
   "cell_type": "code",
   "execution_count": 13,
   "id": "eaf5c755-61dd-4f81-b55f-082aab111fe8",
   "metadata": {},
   "outputs": [],
   "source": [
    "l = [6, 3, 8, 4]"
   ]
  },
  {
   "cell_type": "code",
   "execution_count": 14,
   "id": "7e14411b-5682-42c3-8feb-1ad892020cc7",
   "metadata": {},
   "outputs": [
    {
     "data": {
      "text/plain": [
       "[8, 6, 4, 3]"
      ]
     },
     "execution_count": 14,
     "metadata": {},
     "output_type": "execute_result"
    }
   ],
   "source": [
    "sorted(l,reverse=True)"
   ]
  },
  {
   "cell_type": "code",
   "execution_count": 15,
   "id": "92267b8a-59a3-4fa3-a833-63785d5ee332",
   "metadata": {},
   "outputs": [
    {
     "data": {
      "text/plain": [
       "120"
      ]
     },
     "execution_count": 15,
     "metadata": {},
     "output_type": "execute_result"
    }
   ],
   "source": [
    "from functools import reduce;reduce(lambda x,y:x*y, range(2,6))"
   ]
  },
  {
   "cell_type": "code",
   "execution_count": 17,
   "id": "8e8c883c-86aa-4143-957d-974fd42cf848",
   "metadata": {},
   "outputs": [
    {
     "data": {
      "text/plain": [
       "['python']"
      ]
     },
     "execution_count": 17,
     "metadata": {},
     "output_type": "execute_result"
    }
   ],
   "source": [
    "list(filter(lambda item:len(item) > 2, ['I', 'python', 'am', ['good']]))"
   ]
  },
  {
   "cell_type": "code",
   "execution_count": 18,
   "id": "43a4211e-c9cf-4fb1-8879-0cd750222fa2",
   "metadata": {},
   "outputs": [],
   "source": [
    "car_id_1 = '浙A2B95Q' # 区域号牌\n",
    "car_id_2 = '浙A25AD1' # 区域号牌\n",
    "car_id_3 = '浙A135X6' # 非区域号牌\n",
    "car_id_4 = '浙A1354X6' # 新能源号牌\n",
    "car_id_5 = '浙A1234' # 非合法号牌"
   ]
  },
  {
   "cell_type": "markdown",
   "id": "a64db9a1-a8fa-4337-908f-8e0f8bca95f4",
   "metadata": {},
   "source": [
    "字符串text中只有汉字和标点，如下，将其内容写入一个名为poem.txt的文本文件中。\n",
    "\n",
    "`text = \"孤山寺北贾亭西，水面初平云脚低。几处早莺争暖树，谁家新燕啄春泥。乱花渐欲迷人眼，浅草才能没马蹄。最爱湖东行不足，绿杨阴里白沙堤。\"`\n",
    "\n",
    "要求如下：\n",
    "\n",
    "1. 第一行为诗的题目和作者\"钱塘湖春行---白居易\"；\n",
    "2. 从第二行开始，每行一句诗。\n",
    "\n",
    "结果如下图所示"
   ]
  },
  {
   "cell_type": "code",
   "execution_count": 29,
   "id": "79596914-e7cf-4db3-a665-8acb5a09de7e",
   "metadata": {},
   "outputs": [],
   "source": [
    "text = \"孤山寺北贾亭西，水面初平云脚低。几处早莺争暖树，谁家新燕啄春泥。乱花渐欲迷人眼，浅草才能没马蹄。最爱湖东行不足，绿杨阴里白沙堤。\"\n",
    "first_line = \"钱塘湖春行---白居易\"\n",
    "\n",
    "with open('./poem.txt','w') as f:\n",
    "    f.write(first_line+'\\n')\n",
    "    for idx in range(0,len(text),16):\n",
    "        f.write(text[idx:idx+16]+'\\n')"
   ]
  },
  {
   "cell_type": "code",
   "execution_count": null,
   "id": "4c7e5cf2-0c2d-4e3c-a939-37a4f39a2753",
   "metadata": {},
   "outputs": [],
   "source": []
  }
 ],
 "metadata": {
  "kernelspec": {
   "display_name": "Python 3 (ipykernel)",
   "language": "python",
   "name": "python3"
  },
  "language_info": {
   "codemirror_mode": {
    "name": "ipython",
    "version": 3
   },
   "file_extension": ".py",
   "mimetype": "text/x-python",
   "name": "python",
   "nbconvert_exporter": "python",
   "pygments_lexer": "ipython3",
   "version": "3.9.7"
  }
 },
 "nbformat": 4,
 "nbformat_minor": 5
}
