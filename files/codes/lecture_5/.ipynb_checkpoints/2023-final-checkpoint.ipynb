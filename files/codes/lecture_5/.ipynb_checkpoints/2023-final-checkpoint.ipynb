{
 "cells": [
  {
   "cell_type": "markdown",
   "id": "06a1d7e6-3454-4e51-848a-73e8889ee906",
   "metadata": {},
   "source": [
    "### 期末考试A卷"
   ]
  },
  {
   "cell_type": "code",
   "execution_count": 2,
   "id": "a6a487d2-9a25-4c19-ac44-cc7b8ea68c95",
   "metadata": {},
   "outputs": [],
   "source": [
    "with open('./demo.txt','r+') as f:\n",
    "    f.write('This is a sentence.')"
   ]
  },
  {
   "cell_type": "code",
   "execution_count": 34,
   "id": "2a932ca5-36a9-4fe2-b3f8-685cd4ec62d3",
   "metadata": {},
   "outputs": [],
   "source": [
    "f = open('./demo.txt','r+')"
   ]
  },
  {
   "cell_type": "code",
   "execution_count": 35,
   "id": "b9bcb66e-6423-4993-bb86-2ef2ceff7301",
   "metadata": {},
   "outputs": [],
   "source": [
    "f.writelines(['hello', 'Python'])"
   ]
  },
  {
   "cell_type": "code",
   "execution_count": 36,
   "id": "d91f4ceb-c71f-4517-8292-789be94b951a",
   "metadata": {},
   "outputs": [
    {
     "data": {
      "text/plain": [
       "'1\\n'"
      ]
     },
     "execution_count": 36,
     "metadata": {},
     "output_type": "execute_result"
    }
   ],
   "source": [
    "f.readline()"
   ]
  },
  {
   "cell_type": "code",
   "execution_count": 37,
   "id": "084af9da-0cf0-454d-9dde-444b864b5624",
   "metadata": {},
   "outputs": [
    {
     "data": {
      "text/plain": [
       "['2\\n', '3\\n', 'helloPythonhello']"
      ]
     },
     "execution_count": 37,
     "metadata": {},
     "output_type": "execute_result"
    }
   ],
   "source": [
    "f.readlines()"
   ]
  },
  {
   "cell_type": "code",
   "execution_count": 38,
   "id": "ff0617f7-f859-4753-acf1-4e5cb99ce2d5",
   "metadata": {},
   "outputs": [
    {
     "data": {
      "text/plain": [
       "5"
      ]
     },
     "execution_count": 38,
     "metadata": {},
     "output_type": "execute_result"
    }
   ],
   "source": [
    "f.write('hello')"
   ]
  },
  {
   "cell_type": "code",
   "execution_count": 39,
   "id": "d5f94c53-cd56-462e-af88-6103f3973554",
   "metadata": {},
   "outputs": [
    {
     "ename": "AttributeError",
     "evalue": "'_io.TextIOWrapper' object has no attribute 'writeline'",
     "output_type": "error",
     "traceback": [
      "\u001b[0;31m---------------------------------------------------------------------------\u001b[0m",
      "\u001b[0;31mAttributeError\u001b[0m                            Traceback (most recent call last)",
      "\u001b[0;32m/tmp/ipykernel_11821/630813635.py\u001b[0m in \u001b[0;36m<module>\u001b[0;34m\u001b[0m\n\u001b[0;32m----> 1\u001b[0;31m \u001b[0mf\u001b[0m\u001b[0;34m.\u001b[0m\u001b[0mwriteline\u001b[0m\u001b[0;34m(\u001b[0m\u001b[0;34m'hello'\u001b[0m\u001b[0;34m)\u001b[0m\u001b[0;34m\u001b[0m\u001b[0;34m\u001b[0m\u001b[0m\n\u001b[0m",
      "\u001b[0;31mAttributeError\u001b[0m: '_io.TextIOWrapper' object has no attribute 'writeline'"
     ]
    }
   ],
   "source": [
    "f.writeline('hello')"
   ]
  },
  {
   "cell_type": "code",
   "execution_count": 33,
   "id": "880a0898-efe3-4b56-bdef-81718ae6235b",
   "metadata": {},
   "outputs": [],
   "source": [
    "f.close()"
   ]
  },
  {
   "cell_type": "code",
   "execution_count": 27,
   "id": "756686b3-413c-4901-bf15-90a2e899dc29",
   "metadata": {},
   "outputs": [],
   "source": [
    "with open('./demo.txt','r+') as f:\n",
    "    f.write('\\nThis is another sentence.')"
   ]
  },
  {
   "cell_type": "code",
   "execution_count": null,
   "id": "8c78af18-8637-4d03-93f2-94b63feb0d47",
   "metadata": {},
   "outputs": [],
   "source": [
    "my_list = list(range(15))\n",
    "my_list[-16]"
   ]
  },
  {
   "cell_type": "code",
   "execution_count": 6,
   "id": "f377020a-55e3-45ba-b2c7-465110537848",
   "metadata": {},
   "outputs": [
    {
     "name": "stdout",
     "output_type": "stream",
     "text": [
      "[10.0, 5.0, 3.3333333333333335, 'Error', 2.5]\n"
     ]
    }
   ],
   "source": [
    "input_list = [1, 2, 3, 0, 4]\n",
    "result = []\n",
    "\n",
    "for i in input_list:\n",
    "    try:\n",
    "        result.append(10 / i)\n",
    "    except ZeroDivisionError:\n",
    "        result.append(\"Error\")\n",
    "\n",
    "print(result)"
   ]
  },
  {
   "cell_type": "code",
   "execution_count": 20,
   "id": "d9e5abb4-640c-48da-89b4-861cd5f2f10c",
   "metadata": {},
   "outputs": [
    {
     "name": "stdout",
     "output_type": "stream",
     "text": [
      "73\n"
     ]
    }
   ],
   "source": [
    "numbers = [\"10\", \"20\", \"30a\", \"40\", \"50b\"]\n",
    "total = 0\n",
    "\n",
    "for num in numbers:\n",
    "    try:\n",
    "        total += int(num)\n",
    "    except ValueError:\n",
    "        continue\n",
    "    else:\n",
    "        total += 1\n",
    "    finally:\n",
    "        pass\n",
    "\n",
    "print(total)"
   ]
  },
  {
   "cell_type": "code",
   "execution_count": 16,
   "id": "1570aa48-9343-4763-978e-728fdebc4ad2",
   "metadata": {},
   "outputs": [
    {
     "name": "stdout",
     "output_type": "stream",
     "text": [
      "Valid: 4, Invalid: 1, Total: 5\n"
     ]
    }
   ],
   "source": [
    "input_list = [\"8\", 2, \"3\", \"i\", \"5\"]\n",
    "valid_count = 0\n",
    "invalid_count = 0\n",
    "total_count = 0\n",
    "\n",
    "for item in input_list:\n",
    "    try:\n",
    "        int(item)\n",
    "    except ValueError:\n",
    "        invalid_count += 1\n",
    "    else:\n",
    "        valid_count += 1\n",
    "    finally:\n",
    "        total_count += 1\n",
    "\n",
    "print(f\"Valid: {valid_count}, Invalid: {invalid_count}, Total: {total_count}\")"
   ]
  },
  {
   "cell_type": "code",
   "execution_count": 10,
   "id": "299a72f3-90d6-4f30-9ef6-9dc89ef1620a",
   "metadata": {},
   "outputs": [
    {
     "data": {
      "text/plain": [
       "8"
      ]
     },
     "execution_count": 10,
     "metadata": {},
     "output_type": "execute_result"
    }
   ],
   "source": [
    "int(8)"
   ]
  },
  {
   "cell_type": "code",
   "execution_count": 14,
   "id": "9a1ae5c6-25fd-4ade-ac08-6a3a7a71c552",
   "metadata": {},
   "outputs": [
    {
     "ename": "ValueError",
     "evalue": "invalid literal for int() with base 10: '3+2j'",
     "output_type": "error",
     "traceback": [
      "\u001b[0;31m---------------------------------------------------------------------------\u001b[0m",
      "\u001b[0;31mValueError\u001b[0m                                Traceback (most recent call last)",
      "\u001b[0;32m/tmp/ipykernel_11821/3597466518.py\u001b[0m in \u001b[0;36m<module>\u001b[0;34m\u001b[0m\n\u001b[0;32m----> 1\u001b[0;31m \u001b[0mint\u001b[0m\u001b[0;34m(\u001b[0m\u001b[0;34m\"3+2j\"\u001b[0m\u001b[0;34m)\u001b[0m\u001b[0;34m\u001b[0m\u001b[0;34m\u001b[0m\u001b[0m\n\u001b[0m",
      "\u001b[0;31mValueError\u001b[0m: invalid literal for int() with base 10: '3+2j'"
     ]
    }
   ],
   "source": [
    "int(\"3+2j\")"
   ]
  },
  {
   "cell_type": "code",
   "execution_count": 42,
   "id": "6d7aa5ce-216a-45f2-93e8-8919271fc04c",
   "metadata": {},
   "outputs": [
    {
     "data": {
      "text/plain": [
       "24"
      ]
     },
     "execution_count": 42,
     "metadata": {},
     "output_type": "execute_result"
    }
   ],
   "source": [
    "from functools import reduce\n",
    "reduce(lambda x,y:x+y, range(1,10,3),12)"
   ]
  },
  {
   "cell_type": "code",
   "execution_count": 46,
   "id": "99968fed-34dd-4cee-8324-79443847959c",
   "metadata": {},
   "outputs": [
    {
     "data": {
      "text/plain": [
       "45"
      ]
     },
     "execution_count": 46,
     "metadata": {},
     "output_type": "execute_result"
    }
   ],
   "source": [
    "weights = [10, 5, 8, 4, 2]\n",
    "ids = '21018'\n",
    "sum(map(lambda x,y:x*int(y),weights,ids))"
   ]
  },
  {
   "cell_type": "code",
   "execution_count": 51,
   "id": "3ac1ebff-8028-4bcb-a6a0-48a65e35731b",
   "metadata": {},
   "outputs": [
    {
     "ename": "SyntaxError",
     "evalue": "non-default argument follows default argument (3765355715.py, line 1)",
     "output_type": "error",
     "traceback": [
      "\u001b[0;36m  File \u001b[0;32m\"/tmp/ipykernel_11821/3765355715.py\"\u001b[0;36m, line \u001b[0;32m1\u001b[0m\n\u001b[0;31m    def my_power(exponent=2, base):\u001b[0m\n\u001b[0m                                 ^\u001b[0m\n\u001b[0;31mSyntaxError\u001b[0m\u001b[0;31m:\u001b[0m non-default argument follows default argument\n"
     ]
    }
   ],
   "source": [
    "def my_power(exponent=2, base):\n",
    "    return base ** exponent"
   ]
  },
  {
   "cell_type": "code",
   "execution_count": 50,
   "id": "588a9ffe-a016-46cc-8bcc-71234a8a6dac",
   "metadata": {},
   "outputs": [],
   "source": [
    "r"
   ]
  },
  {
   "cell_type": "code",
   "execution_count": 54,
   "id": "fb03fca8-7ad2-4558-bb70-a36cc92ece89",
   "metadata": {},
   "outputs": [
    {
     "name": "stdout",
     "output_type": "stream",
     "text": [
      "30\n"
     ]
    }
   ],
   "source": [
    "word_freq = [('my',30), ('go',45), ('can',29), ('exam',25)]\n",
    "sorted(word_freq, key = lambda item:item[1], reverse=True)\n",
    "print(word_freq[0][1])"
   ]
  },
  {
   "cell_type": "code",
   "execution_count": 64,
   "id": "43594822-02fb-46aa-a91b-9cad5c145cc0",
   "metadata": {},
   "outputs": [
    {
     "data": {
      "text/plain": [
       "2"
      ]
     },
     "execution_count": 64,
     "metadata": {},
     "output_type": "execute_result"
    }
   ],
   "source": [
    "word_list = ['python', 'hi-tech', 'time.', '5G']\n",
    "l = filter(lambda item:item.isalnum(), word_list)\n",
    "len(list(l))"
   ]
  },
  {
   "cell_type": "code",
   "execution_count": 66,
   "id": "1ac1d0f1-cf40-4d82-80be-46b5fc3a02e8",
   "metadata": {},
   "outputs": [
    {
     "data": {
      "text/plain": [
       "False"
      ]
     },
     "execution_count": 66,
     "metadata": {},
     "output_type": "execute_result"
    }
   ],
   "source": [
    "len(set('alibaba')) == len(list('alibaba'))"
   ]
  },
  {
   "cell_type": "code",
   "execution_count": 75,
   "id": "e38b3174-f0d4-41eb-a634-2546577dc395",
   "metadata": {},
   "outputs": [],
   "source": [
    "sales_dict = {'phone':500, 'pad':200, 'laptop':300}"
   ]
  },
  {
   "cell_type": "code",
   "execution_count": 76,
   "id": "c2fdfe21-e5bf-4a6d-b6ba-8a9f6d5cf14b",
   "metadata": {},
   "outputs": [
    {
     "data": {
      "text/plain": [
       "400"
      ]
     },
     "execution_count": 76,
     "metadata": {},
     "output_type": "execute_result"
    }
   ],
   "source": [
    "sales_dict.setdefault('camera', 400)"
   ]
  },
  {
   "cell_type": "code",
   "execution_count": 77,
   "id": "0a516e6f-dedb-4ca5-85e4-27c9e33bf263",
   "metadata": {},
   "outputs": [
    {
     "data": {
      "text/plain": [
       "400"
      ]
     },
     "execution_count": 77,
     "metadata": {},
     "output_type": "execute_result"
    }
   ],
   "source": [
    "sales_dict.get('camera')"
   ]
  },
  {
   "cell_type": "code",
   "execution_count": 78,
   "id": "2430eac4-0114-4f8c-baa4-8f59e47b89ea",
   "metadata": {},
   "outputs": [],
   "source": [
    "data = {'x': 7, 'y': 10}\n",
    "result = eval('x * y', data)"
   ]
  },
  {
   "cell_type": "code",
   "execution_count": 79,
   "id": "c366992d-6dca-43ea-89cf-1c706de25c80",
   "metadata": {},
   "outputs": [
    {
     "data": {
      "text/plain": [
       "70"
      ]
     },
     "execution_count": 79,
     "metadata": {},
     "output_type": "execute_result"
    }
   ],
   "source": [
    "result"
   ]
  },
  {
   "cell_type": "code",
   "execution_count": 81,
   "id": "4bd0178e-37cb-4862-9653-6c422afb97f1",
   "metadata": {},
   "outputs": [
    {
     "data": {
      "text/plain": [
       "17"
      ]
     },
     "execution_count": 81,
     "metadata": {},
     "output_type": "execute_result"
    }
   ],
   "source": [
    "expression = \"3 * 4 + 5\"\n",
    "eval(expression)"
   ]
  },
  {
   "cell_type": "code",
   "execution_count": 85,
   "id": "e3197d49-511e-469b-a9b6-afcbeb477e8c",
   "metadata": {},
   "outputs": [
    {
     "name": "stdout",
     "output_type": "stream",
     "text": [
      "5\n"
     ]
    }
   ],
   "source": [
    "my_sum = 0\n",
    "\n",
    "for i in range(1, 21, 2):\n",
    "    if i % 3 == 0:\n",
    "        continue\n",
    "    elif i % 5 == 0:\n",
    "        my_sum += i\n",
    "    else:\n",
    "        pass\n",
    "\n",
    "print(my_sum)"
   ]
  },
  {
   "cell_type": "code",
   "execution_count": 93,
   "id": "39e52f2e-5d7b-402a-86cc-c2fa95214b48",
   "metadata": {},
   "outputs": [
    {
     "name": "stdout",
     "output_type": "stream",
     "text": [
      "12\n"
     ]
    }
   ],
   "source": [
    "i = 0\n",
    "my_sum = 0\n",
    "while i < 6:\n",
    "    i += 1\n",
    "    if i % 3 == 0:\n",
    "        continue\n",
    "    else: \n",
    "        my_sum += i\n",
    "\n",
    "print(my_sum)"
   ]
  },
  {
   "cell_type": "code",
   "execution_count": 107,
   "id": "feba0fb8-ce83-4d78-9392-7f33de237a3c",
   "metadata": {},
   "outputs": [
    {
     "data": {
      "text/plain": [
       "4"
      ]
     },
     "execution_count": 107,
     "metadata": {},
     "output_type": "execute_result"
    }
   ],
   "source": [
    "tup1 = (1,2,[3,4])\n",
    "tup2 = tup1[:]\n",
    "tup2[2].extend([5,6])\n",
    "len(tup1[2])"
   ]
  },
  {
   "cell_type": "code",
   "execution_count": 108,
   "id": "060533c5-6122-41ba-9cdb-7518c6fb5b3e",
   "metadata": {},
   "outputs": [],
   "source": [
    "true = 1"
   ]
  },
  {
   "cell_type": "code",
   "execution_count": 109,
   "id": "f1122695-5287-4a62-8c11-7325fbd12573",
   "metadata": {},
   "outputs": [
    {
     "ename": "SyntaxError",
     "evalue": "cannot assign to True (1770609971.py, line 1)",
     "output_type": "error",
     "traceback": [
      "\u001b[0;36m  File \u001b[0;32m\"/tmp/ipykernel_11821/1770609971.py\"\u001b[0;36m, line \u001b[0;32m1\u001b[0m\n\u001b[0;31m    True = 1\u001b[0m\n\u001b[0m    ^\u001b[0m\n\u001b[0;31mSyntaxError\u001b[0m\u001b[0;31m:\u001b[0m cannot assign to True\n"
     ]
    }
   ],
   "source": [
    "True = 1"
   ]
  },
  {
   "cell_type": "code",
   "execution_count": 110,
   "id": "72f8c78c-8002-44d6-b9df-829707a4a090",
   "metadata": {},
   "outputs": [
    {
     "ename": "SyntaxError",
     "evalue": "invalid syntax (3883363209.py, line 1)",
     "output_type": "error",
     "traceback": [
      "\u001b[0;36m  File \u001b[0;32m\"/tmp/ipykernel_11821/3883363209.py\"\u001b[0;36m, line \u001b[0;32m1\u001b[0m\n\u001b[0;31m    while = 2\u001b[0m\n\u001b[0m          ^\u001b[0m\n\u001b[0;31mSyntaxError\u001b[0m\u001b[0;31m:\u001b[0m invalid syntax\n"
     ]
    }
   ],
   "source": [
    "while = 2"
   ]
  },
  {
   "cell_type": "code",
   "execution_count": 112,
   "id": "a132596d-a8fc-40e0-af4e-fcca5d53eb9b",
   "metadata": {},
   "outputs": [
    {
     "ename": "SyntaxError",
     "evalue": "invalid syntax (194807293.py, line 1)",
     "output_type": "error",
     "traceback": [
      "\u001b[0;36m  File \u001b[0;32m\"/tmp/ipykernel_11821/194807293.py\"\u001b[0;36m, line \u001b[0;32m1\u001b[0m\n\u001b[0;31m    else = 's'\u001b[0m\n\u001b[0m    ^\u001b[0m\n\u001b[0;31mSyntaxError\u001b[0m\u001b[0;31m:\u001b[0m invalid syntax\n"
     ]
    }
   ],
   "source": [
    "else = 's'"
   ]
  },
  {
   "cell_type": "code",
   "execution_count": 113,
   "id": "c233f5ee-3966-4219-84d6-601ac6882dc4",
   "metadata": {},
   "outputs": [
    {
     "ename": "SyntaxError",
     "evalue": "invalid decimal literal (3675673470.py, line 1)",
     "output_type": "error",
     "traceback": [
      "\u001b[0;36m  File \u001b[0;32m\"/tmp/ipykernel_11821/3675673470.py\"\u001b[0;36m, line \u001b[0;32m1\u001b[0m\n\u001b[0;31m    2_tuple = 1\u001b[0m\n\u001b[0m     ^\u001b[0m\n\u001b[0;31mSyntaxError\u001b[0m\u001b[0;31m:\u001b[0m invalid decimal literal\n"
     ]
    }
   ],
   "source": [
    "2_tuple = 1"
   ]
  },
  {
   "cell_type": "code",
   "execution_count": 114,
   "id": "ab6ad7b9-41b3-481f-b73a-9d9997125d26",
   "metadata": {},
   "outputs": [],
   "source": [
    "_name = 1"
   ]
  },
  {
   "cell_type": "code",
   "execution_count": 120,
   "id": "ccff22cc-1018-429c-ae01-069511fe2484",
   "metadata": {},
   "outputs": [
    {
     "data": {
      "text/plain": [
       "1"
      ]
     },
     "execution_count": 120,
     "metadata": {},
     "output_type": "execute_result"
    }
   ],
   "source": [
    "5 ** 2 % 3"
   ]
  },
  {
   "cell_type": "code",
   "execution_count": null,
   "id": "c8684cca-ad31-46a1-8643-db905a31487a",
   "metadata": {},
   "outputs": [],
   "source": [
    "s1 = {8,2,3,4}"
   ]
  },
  {
   "cell_type": "code",
   "execution_count": 118,
   "id": "5cc2e328-37f1-4617-8ca5-c5ba6c572f0e",
   "metadata": {},
   "outputs": [
    {
     "data": {
      "text/plain": [
       "'m'"
      ]
     },
     "execution_count": 118,
     "metadata": {},
     "output_type": "execute_result"
    }
   ],
   "source": [
    "s = list('programming')\n",
    "s[::-1][3]"
   ]
  },
  {
   "cell_type": "code",
   "execution_count": 119,
   "id": "caf4346b-8373-4203-ae60-efd6727ac1fc",
   "metadata": {},
   "outputs": [
    {
     "data": {
      "text/plain": [
       "True"
      ]
     },
     "execution_count": 119,
     "metadata": {},
     "output_type": "execute_result"
    }
   ],
   "source": [
    "any([True, 0, 'python'])"
   ]
  },
  {
   "cell_type": "code",
   "execution_count": 121,
   "id": "e1379a3d-7680-4b53-8225-347b7b26cd0f",
   "metadata": {},
   "outputs": [
    {
     "data": {
      "text/plain": [
       "True"
      ]
     },
     "execution_count": 121,
     "metadata": {},
     "output_type": "execute_result"
    }
   ],
   "source": [
    "3 < 5 or 5 < 3"
   ]
  },
  {
   "cell_type": "code",
   "execution_count": 122,
   "id": "d9eb45ee-4942-403d-9803-05eb331e9c11",
   "metadata": {},
   "outputs": [
    {
     "data": {
      "text/plain": [
       "False"
      ]
     },
     "execution_count": 122,
     "metadata": {},
     "output_type": "execute_result"
    }
   ],
   "source": [
    "'Business'.islower()"
   ]
  },
  {
   "cell_type": "code",
   "execution_count": 124,
   "id": "b865300a-0200-46fb-b6fe-6be8dc2d63c7",
   "metadata": {},
   "outputs": [
    {
     "data": {
      "text/plain": [
       "4"
      ]
     },
     "execution_count": 124,
     "metadata": {},
     "output_type": "execute_result"
    }
   ],
   "source": [
    "'e-commerce'.index('m')"
   ]
  },
  {
   "cell_type": "code",
   "execution_count": 127,
   "id": "0f3dd532-11ae-4797-9401-db61b31882cb",
   "metadata": {},
   "outputs": [
    {
     "data": {
      "text/plain": [
       "4"
      ]
     },
     "execution_count": 127,
     "metadata": {},
     "output_type": "execute_result"
    }
   ],
   "source": [
    "s1 = set('python')\n",
    "s2 = set('jhon')\n",
    "len(s1 ^ s2)"
   ]
  },
  {
   "cell_type": "code",
   "execution_count": 126,
   "id": "d4aae9dc-16e3-4c32-9108-55e40f6f41ed",
   "metadata": {},
   "outputs": [
    {
     "data": {
      "text/plain": [
       "{'j', 'p', 't', 'y'}"
      ]
     },
     "execution_count": 126,
     "metadata": {},
     "output_type": "execute_result"
    }
   ],
   "source": [
    "s1 ^ s2"
   ]
  },
  {
   "cell_type": "code",
   "execution_count": 131,
   "id": "5dbaae84-4e3c-4cbe-9c12-a06a2b247646",
   "metadata": {},
   "outputs": [
    {
     "data": {
      "text/plain": [
       "2"
      ]
     },
     "execution_count": 131,
     "metadata": {},
     "output_type": "execute_result"
    }
   ],
   "source": [
    "s3 = set('business')\n",
    "s4 = set('alibaba')\n",
    "len(s4 - s3)"
   ]
  },
  {
   "cell_type": "code",
   "execution_count": 133,
   "id": "2e89a8c6-bd9b-4534-b229-e67a5c0e2cbd",
   "metadata": {},
   "outputs": [
    {
     "data": {
      "text/plain": [
       "17"
      ]
     },
     "execution_count": 133,
     "metadata": {},
     "output_type": "execute_result"
    }
   ],
   "source": [
    "sum([len(word) for word in \"I like Python coding\".split()])"
   ]
  },
  {
   "cell_type": "code",
   "execution_count": 134,
   "id": "d979349b-b304-4cd0-af72-6a27a4871beb",
   "metadata": {},
   "outputs": [
    {
     "data": {
      "text/plain": [
       "False"
      ]
     },
     "execution_count": 134,
     "metadata": {},
     "output_type": "execute_result"
    }
   ],
   "source": [
    "products = {101:'phone', 102:'keyboard', 103: 'laptop'}\n",
    "'phone' in products"
   ]
  },
  {
   "cell_type": "code",
   "execution_count": 139,
   "id": "ef56f41a-26d4-4b4e-ba83-9a12898008d3",
   "metadata": {},
   "outputs": [
    {
     "data": {
      "text/plain": [
       "90"
      ]
     },
     "execution_count": 139,
     "metadata": {},
     "output_type": "execute_result"
    }
   ],
   "source": [
    "def avg_grade_mul(english = 80, math = 85, **kwargs):\n",
    "    return (english + math + sum(kwargs.values()))/(2+len(kwargs))\n",
    "\n",
    "int(avg_grade_mul(music = 90, english = 85, math = 90, marketing = 95))"
   ]
  },
  {
   "cell_type": "code",
   "execution_count": 137,
   "id": "6aeae0af-4d82-4398-8782-ead3aa410899",
   "metadata": {},
   "outputs": [
    {
     "data": {
      "text/plain": [
       "90.5"
      ]
     },
     "execution_count": 137,
     "metadata": {},
     "output_type": "execute_result"
    }
   ],
   "source": [
    "'First line\\nSecond line'"
   ]
  },
  {
   "cell_type": "code",
   "execution_count": 143,
   "id": "d0831c4a-3bbd-43e6-8bee-b981222a3a58",
   "metadata": {},
   "outputs": [],
   "source": [
    "def my_multiply(*args):\n",
    "    result = 2\n",
    "    for num in args:\n",
    "        result *= num\n",
    "    return result"
   ]
  },
  {
   "cell_type": "code",
   "execution_count": 144,
   "id": "be3c7755-319d-4c03-a180-6cb8d7b0921c",
   "metadata": {},
   "outputs": [
    {
     "data": {
      "text/plain": [
       "210"
      ]
     },
     "execution_count": 144,
     "metadata": {},
     "output_type": "execute_result"
    }
   ],
   "source": [
    "my_multiply(3,5,7)"
   ]
  },
  {
   "cell_type": "code",
   "execution_count": null,
   "id": "f9af680d-3636-41f8-979b-151b0ddc790b",
   "metadata": {},
   "outputs": [],
   "source": [
    "# strip, == , lambda"
   ]
  },
  {
   "cell_type": "code",
   "execution_count": null,
   "id": "c4aa4ba5-69d8-4b14-baaf-05a9d1b9a966",
   "metadata": {},
   "outputs": [],
   "source": [
    "# 下面代码运行后，变量obj1和变量obj2的值分别是多少："
   ]
  },
  {
   "cell_type": "code",
   "execution_count": 145,
   "id": "36ccbc7c-caa0-4e5e-a7d2-8cadf88c138d",
   "metadata": {},
   "outputs": [
    {
     "data": {
      "text/plain": [
       "True"
      ]
     },
     "execution_count": 145,
     "metadata": {},
     "output_type": "execute_result"
    }
   ],
   "source": [
    "{101:'Python', 102:'Math', 103: 'Biology'} == {102:'Math', 103: 'Biology', 101:'Python'}"
   ]
  },
  {
   "cell_type": "code",
   "execution_count": 146,
   "id": "caa3bb94-0d20-4f55-a817-02b5ed676433",
   "metadata": {},
   "outputs": [
    {
     "data": {
      "text/plain": [
       "2"
      ]
     },
     "execution_count": 146,
     "metadata": {},
     "output_type": "execute_result"
    }
   ],
   "source": [
    "len('\\t\\nData Analysis\\n\\n'.strip().split())"
   ]
  },
  {
   "cell_type": "code",
   "execution_count": 148,
   "id": "e86c0596-df76-4b4a-bb47-921292ed0391",
   "metadata": {},
   "outputs": [
    {
     "ename": "ValueError",
     "evalue": "substring not found",
     "output_type": "error",
     "traceback": [
      "\u001b[0;31m---------------------------------------------------------------------------\u001b[0m",
      "\u001b[0;31mValueError\u001b[0m                                Traceback (most recent call last)",
      "\u001b[0;32m/tmp/ipykernel_11821/1284745568.py\u001b[0m in \u001b[0;36m<module>\u001b[0;34m\u001b[0m\n\u001b[0;32m----> 1\u001b[0;31m \u001b[0;34m'intelligent'\u001b[0m\u001b[0;34m.\u001b[0m\u001b[0mindex\u001b[0m\u001b[0;34m(\u001b[0m\u001b[0;34m'p'\u001b[0m\u001b[0;34m)\u001b[0m\u001b[0;34m\u001b[0m\u001b[0;34m\u001b[0m\u001b[0m\n\u001b[0m",
      "\u001b[0;31mValueError\u001b[0m: substring not found"
     ]
    }
   ],
   "source": [
    "'intelligent'.index('p')"
   ]
  },
  {
   "cell_type": "code",
   "execution_count": 150,
   "id": "1edd5a0d-e2e8-4477-89f8-8eb75e8a72ac",
   "metadata": {},
   "outputs": [],
   "source": [
    "l = [1,2,3,3]"
   ]
  },
  {
   "cell_type": "code",
   "execution_count": 151,
   "id": "a07bf01d-00e0-4acc-92ec-7f6054aa8347",
   "metadata": {},
   "outputs": [],
   "source": [
    "l.remove(3)"
   ]
  },
  {
   "cell_type": "code",
   "execution_count": 152,
   "id": "33687bee-e6b0-4b28-bd11-5deb6067b6a0",
   "metadata": {},
   "outputs": [
    {
     "data": {
      "text/plain": [
       "[1, 2, 3]"
      ]
     },
     "execution_count": 152,
     "metadata": {},
     "output_type": "execute_result"
    }
   ],
   "source": [
    "l"
   ]
  },
  {
   "cell_type": "code",
   "execution_count": 172,
   "id": "109f9e61-a11d-4ff0-a395-50031f140c24",
   "metadata": {},
   "outputs": [
    {
     "data": {
      "text/plain": [
       "(0, 0)"
      ]
     },
     "execution_count": 172,
     "metadata": {},
     "output_type": "execute_result"
    }
   ],
   "source": [
    "def my_funct(my_obj):\n",
    "    my_obj.clear()\n",
    "    \n",
    "\n",
    "s = {1,2,3}\n",
    "d = {101:'phone', 102: 'laptop'}\n",
    "\n",
    "my_funct(s)\n",
    "my_funct(d)\n",
    "\n",
    "len(s), len(d)"
   ]
  },
  {
   "cell_type": "code",
   "execution_count": 162,
   "id": "c1a620cf-b0b5-42b1-9a61-6554a3e23ab2",
   "metadata": {},
   "outputs": [
    {
     "data": {
      "text/plain": [
       "(1, 2, 3, 3, 4)"
      ]
     },
     "execution_count": 162,
     "metadata": {},
     "output_type": "execute_result"
    }
   ],
   "source": [
    "t + (3,4)"
   ]
  },
  {
   "cell_type": "code",
   "execution_count": 163,
   "id": "287fc097-7095-40dd-a63b-7b8143b44487",
   "metadata": {},
   "outputs": [
    {
     "data": {
      "text/plain": [
       "(1, 2, 3)"
      ]
     },
     "execution_count": 163,
     "metadata": {},
     "output_type": "execute_result"
    }
   ],
   "source": [
    "t"
   ]
  },
  {
   "cell_type": "code",
   "execution_count": 188,
   "id": "ff58fb48-b490-4271-a1c5-86a765a03673",
   "metadata": {},
   "outputs": [],
   "source": [
    "# 读取销售数据\n",
    "with open('ecommerce_sales.txt', 'r') as file:\n",
    "    lines = file.readlines()[1:]  # 跳过标题行\n",
    "\n",
    "# 解析数据并计算总销售额\n",
    "sales_data = {}\n",
    "for line in lines:\n",
    "    name, quantity, price = line.strip().split(',')\n",
    "    total = int(quantity) * int(price)\n",
    "    sales_data[name] = sales_data.get(name, 0) + total\n",
    "\n",
    "# 计算总销售额\n",
    "total_sales = sum(sales_data.values())\n",
    "\n",
    "# 写入统计数据\n",
    "with open('sales_analysis.txt', 'w') as file:\n",
    "    file.write('商品名称,总销售额\\n')\n",
    "    for name, total in sales_data.items():\n",
    "        file.write(f'{name},{total}\\n')\n",
    "    file.write(f'总销售额为: {total_sales}\\n')"
   ]
  },
  {
   "cell_type": "code",
   "execution_count": 174,
   "id": "964ad477-46e1-475a-b4a7-f7e71722579b",
   "metadata": {},
   "outputs": [],
   "source": [
    "import random"
   ]
  },
  {
   "cell_type": "code",
   "execution_count": 189,
   "id": "705eea83-5c2f-49d6-a73e-bd951d378076",
   "metadata": {},
   "outputs": [],
   "source": [
    "def summary_statistics(numbers):\n",
    "    # 计算均值\n",
    "    mean = sum(numbers) / len(numbers)\n",
    "\n",
    "    # 计算中位数\n",
    "    sorted_numbers = sorted(numbers)\n",
    "    n = len(sorted_numbers)\n",
    "    if n % 2 == 0:\n",
    "        median = (sorted_numbers[n // 2 - 1] + sorted_numbers[n // 2]) / 2\n",
    "    else:\n",
    "        median = sorted_numbers[n // 2]\n",
    "\n",
    "    # 计算众数\n",
    "    frequency = {}\n",
    "    for number in numbers:\n",
    "        frequency[number] = frequency.get(number, 0) + 1\n",
    "\n",
    "    max_frequency = max(frequency.values())\n",
    "    mode = [number for number, freq in frequency.items() if freq == max_frequency]\n",
    "\n",
    "    return mean, median, mode"
   ]
  },
  {
   "cell_type": "code",
   "execution_count": 190,
   "id": "4bf1c504-1a95-4388-af94-3f76c204cf39",
   "metadata": {},
   "outputs": [
    {
     "name": "stdout",
     "output_type": "stream",
     "text": [
      "均值: 3.6666666666666665\n",
      "中位数: 4\n",
      "众数: [4, 5]\n"
     ]
    }
   ],
   "source": [
    "# 测试函数\n",
    "test_numbers = [1, 2, 3, 4, 4, 4, 5, 5, 5]\n",
    "mean, median, mode = summary_statistics(test_numbers)\n",
    "print(\"均值:\", mean)\n",
    "print(\"中位数:\", median)\n",
    "print(\"众数:\", mode)"
   ]
  },
  {
   "cell_type": "code",
   "execution_count": 191,
   "id": "b5576bcc-72c2-431e-b134-fbb0186dd55b",
   "metadata": {},
   "outputs": [
    {
     "name": "stdout",
     "output_type": "stream",
     "text": [
      "均值: 3.888888888888889\n",
      "中位数: 4\n",
      "众数: [5]\n"
     ]
    }
   ],
   "source": [
    "# 测试函数\n",
    "test_numbers = [6, 3, 2, 4, 4, 5, 5, 5, 1]\n",
    "mean, median, mode = summary_statistics(test_numbers)\n",
    "print(\"均值:\", mean)\n",
    "print(\"中位数:\", median)\n",
    "print(\"众数:\", mode)"
   ]
  },
  {
   "cell_type": "code",
   "execution_count": 192,
   "id": "7a69ae15-59fa-458d-8193-22a1f55bae70",
   "metadata": {},
   "outputs": [
    {
     "name": "stdin",
     "output_type": "stream",
     "text": [
      "请输入楼层 5\n"
     ]
    },
    {
     "name": "stdout",
     "output_type": "stream",
     "text": [
      "一共有8种爬法\n"
     ]
    }
   ],
   "source": [
    "def Climb(n):\n",
    "    if n == 1:\n",
    "        return 1\n",
    "    elif n == 2:\n",
    "        return 2\n",
    "    else:\n",
    "        return Climb(n - 1) + Climb(n - 2)\n",
    "\n",
    "\n",
    "n = int(input('请输入楼层'))\n",
    "print(f'一共有{Climb(n)}种爬法')"
   ]
  },
  {
   "cell_type": "code",
   "execution_count": null,
   "id": "4fbf668f-333c-4cc4-bb27-4c84173c7fd7",
   "metadata": {},
   "outputs": [],
   "source": []
  }
 ],
 "metadata": {
  "kernelspec": {
   "display_name": "Python 3 (ipykernel)",
   "language": "python",
   "name": "python3"
  },
  "language_info": {
   "codemirror_mode": {
    "name": "ipython",
    "version": 3
   },
   "file_extension": ".py",
   "mimetype": "text/x-python",
   "name": "python",
   "nbconvert_exporter": "python",
   "pygments_lexer": "ipython3",
   "version": "3.9.7"
  }
 },
 "nbformat": 4,
 "nbformat_minor": 5
}
