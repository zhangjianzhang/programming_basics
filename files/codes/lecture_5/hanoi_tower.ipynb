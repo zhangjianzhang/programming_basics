{
 "cells": [
  {
   "cell_type": "markdown",
   "metadata": {},
   "source": [
    "## 汉诺塔"
   ]
  },
  {
   "cell_type": "markdown",
   "metadata": {},
   "source": [
    "<div align=center>\n",
    "<img width=\"550\" height=\"750\" src=\"https://raw.githubusercontent.com/zhangjianzhang/programming_basics/master/files/codes/imgs/hannuo_wiki.jpeg?raw=true\">\n",
    "\n",
    "<p><center><font>汉诺塔</font></center></p>\n",
    "</div>"
   ]
  },
  {
   "cell_type": "markdown",
   "metadata": {},
   "source": [
    "汉诺塔（Tower of Hanoi）是根据一个传说形成的数学问题：\n",
    "\n",
    "有三根杆子A，B，C。A杆上有 N 个 (N>1) 穿孔圆盘，盘的尺寸由下到上依次变小。要求按下列规则将所有圆盘移至 C 杆：\n",
    "\n",
    "每次只能移动一个圆盘；\n",
    "大盘不能叠在小盘上面。\n",
    "提示：可将圆盘临时置于 B 杆，也可将从 A 杆移出的圆盘重新移回 A 杆，但都必须遵循上述两条规则。\n",
    "\n",
    "**问**：如何移？最少要移动多少次？"
   ]
  },
  {
   "cell_type": "markdown",
   "metadata": {},
   "source": [
    "**答**：\n",
    "\n",
    "**采用递归思想去移动**：先把 A 塔顶部的 N-1 块盘移动到 B 塔，再把 A 塔剩下的大盘移到 C，最后把 B 塔的 N-1 块盘移到 C。\n",
    "\n",
    "**最少移动**：$2^N - 1$次；\n",
    "\n",
    "如果N=15，最少需移动$32767$次；这就是说，如果一个人从 3 岁到 99 岁，每天移动一块圆盘，他最多仅能移动 15 块；\n",
    "\n",
    "如果 N=20，最少需移动 $1048575$ 次，即超过了一百万次；\n",
    "\n",
    "如果 N=64，最少需移动 $2^{64}−1$ 次。即如果一秒钟能移动一块圆盘，仍将需 5849.42 亿年。目前按照宇宙大爆炸理论的推测，宇宙的年龄仅为 137 亿年。\n",
    "\n",
    "在真实玩具中，一般 N=8，最少需移动 255 次。"
   ]
  },
  {
   "cell_type": "markdown",
   "metadata": {},
   "source": [
    "<div align=center>\n",
    "<img width=\"750\" height=\"550\" src=\"https://raw.githubusercontent.com/zhangjianzhang/programming_basics/master/files/codes/imgs/hanno_3.gif?raw=true\">\n",
    "\n",
    "<p><center><font>汉诺塔（N=3）</font></center></p>\n",
    "</div>"
   ]
  },
  {
   "cell_type": "markdown",
   "metadata": {},
   "source": [
    "当N =1时，移动路径为A->C"
   ]
  },
  {
   "cell_type": "markdown",
   "metadata": {},
   "source": [
    "当N =2时，移动路径为A->B，A->C，B->C"
   ]
  },
  {
   "cell_type": "markdown",
   "metadata": {},
   "source": [
    "当N=3时候：\n",
    "\n",
    "- 先把A柱上的2个移动到B柱上；（N = 2）\n",
    "\n",
    "- 再把A柱上的最后（最大）的一个盘移到C柱上；\n",
    "\n",
    "- 最后把B柱上的2个移动到C柱上。（N = 2）"
   ]
  },
  {
   "cell_type": "markdown",
   "metadata": {},
   "source": [
    "当N=4时候：\n",
    "\n",
    "- 先把A柱上的3个移动到B柱上；（N = 3）\n",
    "\n",
    "- 再把A柱上的最后（最大）的一个盘移到C柱上；\n",
    "\n",
    "- 最后把B柱上的3个移动到C柱上。（N = 3）"
   ]
  },
  {
   "cell_type": "markdown",
   "metadata": {},
   "source": [
    "......"
   ]
  },
  {
   "cell_type": "markdown",
   "metadata": {},
   "source": [
    "当有N个盘子：\n",
    "\n",
    "- 先把A柱上的N-1个移动到B柱上；（N-1）\n",
    "\n",
    "- 再把A柱上的最后（最大）的一个盘移到C柱上；\n",
    "\n",
    "- 最后把B柱上的N-1个移动到C柱上。（N-1）"
   ]
  },
  {
   "cell_type": "code",
   "execution_count": 1,
   "metadata": {},
   "outputs": [],
   "source": [
    "def hanoi(n, L, C, R):\n",
    "    if n == 1:\n",
    "        print('{} ---> {}'.format(L, R))\n",
    "    elif n == 2:\n",
    "        print('{} ---> {}'.format(L, C))\n",
    "        print('{} ---> {}'.format(L, R))\n",
    "        print('{} ---> {}'.format(C, R))\n",
    "    else:\n",
    "        hanoi(n-1, L, R, C)\n",
    "        print('A ---> C')\n",
    "        hanoi(n-1, C, L, R)"
   ]
  },
  {
   "cell_type": "code",
   "execution_count": 2,
   "metadata": {},
   "outputs": [
    {
     "name": "stdout",
     "output_type": "stream",
     "text": [
      "A ---> B\n",
      "A ---> C\n",
      "B ---> C\n"
     ]
    }
   ],
   "source": [
    "hanoi(2, L='A', C='B', R='C')"
   ]
  },
  {
   "cell_type": "code",
   "execution_count": 3,
   "metadata": {},
   "outputs": [
    {
     "name": "stdout",
     "output_type": "stream",
     "text": [
      "A ---> C\n"
     ]
    }
   ],
   "source": [
    "hanoi(1, L='A', C='B', R='C')"
   ]
  },
  {
   "cell_type": "code",
   "execution_count": 4,
   "metadata": {},
   "outputs": [
    {
     "name": "stdout",
     "output_type": "stream",
     "text": [
      "A ---> C\n",
      "A ---> B\n",
      "C ---> B\n",
      "A ---> C\n",
      "B ---> A\n",
      "B ---> C\n",
      "A ---> C\n"
     ]
    }
   ],
   "source": [
    "hanoi(3, L='A', C='B', R='C')"
   ]
  },
  {
   "cell_type": "code",
   "execution_count": 5,
   "metadata": {},
   "outputs": [
    {
     "name": "stdout",
     "output_type": "stream",
     "text": [
      "A ---> B\n",
      "A ---> C\n",
      "B ---> C\n",
      "A ---> C\n",
      "C ---> A\n",
      "C ---> B\n",
      "A ---> B\n",
      "A ---> C\n",
      "B ---> C\n",
      "B ---> A\n",
      "C ---> A\n",
      "A ---> C\n",
      "A ---> B\n",
      "A ---> C\n",
      "B ---> C\n"
     ]
    }
   ],
   "source": [
    "hanoi(4, L='A', C='B', R='C')"
   ]
  },
  {
   "cell_type": "markdown",
   "metadata": {},
   "source": [
    "<div align=center>\n",
    "<img width=\"750\" height=\"550\" src=\"https://raw.githubusercontent.com/zhangjianzhang/programming_basics/master/files/codes/imgs/hannuo_4.gif?raw=true\">\n",
    "\n",
    "<p><center><font>汉诺塔（N=4）</font></center></p>\n",
    "</div>"
   ]
  },
  {
   "cell_type": "code",
   "execution_count": 6,
   "metadata": {},
   "outputs": [
    {
     "name": "stdout",
     "output_type": "stream",
     "text": [
      "A ---> B\n",
      "A ---> C\n",
      "B ---> C\n",
      "A ---> C\n",
      "C ---> A\n",
      "C ---> B\n",
      "A ---> B\n",
      "A ---> C\n",
      "B ---> C\n",
      "B ---> A\n",
      "C ---> A\n",
      "A ---> C\n",
      "A ---> B\n",
      "A ---> C\n",
      "B ---> C\n",
      "A ---> C\n",
      "C ---> A\n",
      "C ---> B\n",
      "A ---> B\n",
      "A ---> C\n",
      "B ---> C\n",
      "B ---> A\n",
      "C ---> A\n",
      "A ---> C\n",
      "A ---> B\n",
      "A ---> C\n",
      "B ---> C\n",
      "A ---> C\n",
      "C ---> A\n",
      "C ---> B\n",
      "A ---> B\n",
      "A ---> C\n",
      "B ---> C\n",
      "B ---> A\n",
      "C ---> A\n",
      "A ---> C\n",
      "A ---> B\n",
      "A ---> C\n",
      "B ---> C\n",
      "A ---> C\n",
      "C ---> A\n",
      "C ---> B\n",
      "A ---> B\n",
      "A ---> C\n",
      "B ---> C\n",
      "B ---> A\n",
      "C ---> A\n",
      "A ---> C\n",
      "A ---> B\n",
      "A ---> C\n",
      "B ---> C\n",
      "A ---> C\n",
      "C ---> A\n",
      "C ---> B\n",
      "A ---> B\n",
      "A ---> C\n",
      "B ---> C\n",
      "B ---> A\n",
      "C ---> A\n",
      "A ---> C\n",
      "A ---> B\n",
      "A ---> C\n",
      "B ---> C\n",
      "A ---> C\n",
      "C ---> A\n",
      "C ---> B\n",
      "A ---> B\n",
      "A ---> C\n",
      "B ---> C\n",
      "B ---> A\n",
      "C ---> A\n",
      "A ---> C\n",
      "A ---> B\n",
      "A ---> C\n",
      "B ---> C\n",
      "A ---> C\n",
      "C ---> A\n",
      "C ---> B\n",
      "A ---> B\n",
      "A ---> C\n",
      "B ---> C\n",
      "B ---> A\n",
      "C ---> A\n",
      "A ---> C\n",
      "A ---> B\n",
      "A ---> C\n",
      "B ---> C\n",
      "A ---> C\n",
      "C ---> A\n",
      "C ---> B\n",
      "A ---> B\n",
      "A ---> C\n",
      "B ---> C\n",
      "B ---> A\n",
      "C ---> A\n",
      "A ---> C\n",
      "A ---> B\n",
      "A ---> C\n",
      "B ---> C\n",
      "A ---> C\n",
      "C ---> A\n",
      "C ---> B\n",
      "A ---> B\n",
      "A ---> C\n",
      "B ---> C\n",
      "B ---> A\n",
      "C ---> A\n",
      "A ---> C\n",
      "A ---> B\n",
      "A ---> C\n",
      "B ---> C\n",
      "A ---> C\n",
      "C ---> A\n",
      "C ---> B\n",
      "A ---> B\n",
      "A ---> C\n",
      "B ---> C\n",
      "B ---> A\n",
      "C ---> A\n",
      "A ---> C\n",
      "A ---> B\n",
      "A ---> C\n",
      "B ---> C\n",
      "A ---> C\n",
      "C ---> A\n",
      "C ---> B\n",
      "A ---> B\n",
      "A ---> C\n",
      "B ---> C\n",
      "B ---> A\n",
      "C ---> A\n",
      "A ---> C\n",
      "A ---> B\n",
      "A ---> C\n",
      "B ---> C\n",
      "A ---> C\n",
      "C ---> A\n",
      "C ---> B\n",
      "A ---> B\n",
      "A ---> C\n",
      "B ---> C\n",
      "B ---> A\n",
      "C ---> A\n",
      "A ---> C\n",
      "A ---> B\n",
      "A ---> C\n",
      "B ---> C\n",
      "A ---> C\n",
      "C ---> A\n",
      "C ---> B\n",
      "A ---> B\n",
      "A ---> C\n",
      "B ---> C\n",
      "B ---> A\n",
      "C ---> A\n",
      "A ---> C\n",
      "A ---> B\n",
      "A ---> C\n",
      "B ---> C\n",
      "A ---> C\n",
      "C ---> A\n",
      "C ---> B\n",
      "A ---> B\n",
      "A ---> C\n",
      "B ---> C\n",
      "B ---> A\n",
      "C ---> A\n",
      "A ---> C\n",
      "A ---> B\n",
      "A ---> C\n",
      "B ---> C\n",
      "A ---> C\n",
      "C ---> A\n",
      "C ---> B\n",
      "A ---> B\n",
      "A ---> C\n",
      "B ---> C\n",
      "B ---> A\n",
      "C ---> A\n",
      "A ---> C\n",
      "A ---> B\n",
      "A ---> C\n",
      "B ---> C\n",
      "A ---> C\n",
      "C ---> A\n",
      "C ---> B\n",
      "A ---> B\n",
      "A ---> C\n",
      "B ---> C\n",
      "B ---> A\n",
      "C ---> A\n",
      "A ---> C\n",
      "A ---> B\n",
      "A ---> C\n",
      "B ---> C\n",
      "A ---> C\n",
      "C ---> A\n",
      "C ---> B\n",
      "A ---> B\n",
      "A ---> C\n",
      "B ---> C\n",
      "B ---> A\n",
      "C ---> A\n",
      "A ---> C\n",
      "A ---> B\n",
      "A ---> C\n",
      "B ---> C\n",
      "A ---> C\n",
      "C ---> A\n",
      "C ---> B\n",
      "A ---> B\n",
      "A ---> C\n",
      "B ---> C\n",
      "B ---> A\n",
      "C ---> A\n",
      "A ---> C\n",
      "A ---> B\n",
      "A ---> C\n",
      "B ---> C\n",
      "A ---> C\n",
      "C ---> A\n",
      "C ---> B\n",
      "A ---> B\n",
      "A ---> C\n",
      "B ---> C\n",
      "B ---> A\n",
      "C ---> A\n",
      "A ---> C\n",
      "A ---> B\n",
      "A ---> C\n",
      "B ---> C\n",
      "A ---> C\n",
      "C ---> A\n",
      "C ---> B\n",
      "A ---> B\n",
      "A ---> C\n",
      "B ---> C\n",
      "B ---> A\n",
      "C ---> A\n",
      "A ---> C\n",
      "A ---> B\n",
      "A ---> C\n",
      "B ---> C\n",
      "A ---> C\n",
      "C ---> A\n",
      "C ---> B\n",
      "A ---> B\n",
      "A ---> C\n",
      "B ---> C\n",
      "B ---> A\n",
      "C ---> A\n",
      "A ---> C\n",
      "A ---> B\n",
      "A ---> C\n",
      "B ---> C\n"
     ]
    }
   ],
   "source": [
    "hanoi(8, L='A', C='B', R='C')"
   ]
  },
  {
   "cell_type": "markdown",
   "metadata": {},
   "source": [
    "上面函数虽然采用递归思想实现了打印汉诺塔移动步骤，但是不够简洁，问题在于我们的边界条件（N=2）选取的不好，那么我们再来重新选择一下边界条件："
   ]
  },
  {
   "cell_type": "markdown",
   "metadata": {},
   "source": [
    "当N =1时，移动路径为**$A ---> C$**"
   ]
  },
  {
   "cell_type": "markdown",
   "metadata": {},
   "source": [
    "当N =2时，移动路径为：\n",
    "\n",
    "- 先把A柱上的1个移动到B柱上；（N = 1）\n",
    "\n",
    "- 再把A柱上的最后（最大）的一个盘移到C柱上；（N=1）\n",
    "\n",
    "- 最后把B柱上的1个移动到C柱上。（N = 1）"
   ]
  },
  {
   "cell_type": "markdown",
   "metadata": {},
   "source": [
    "当N=3时候：\n",
    "\n",
    "- 先把A柱上的2个移动到B柱上；（N = 2）\n",
    "\n",
    "- 再把A柱上的最后（最大）的一个盘移到C柱上；（N=1）\n",
    "\n",
    "- 最后把B柱上的2个移动到C柱上。（N = 2）"
   ]
  },
  {
   "cell_type": "markdown",
   "metadata": {},
   "source": [
    "当N=4时候：\n",
    "\n",
    "- 先把A柱上的3个移动到B柱上；（N = 3）\n",
    "\n",
    "- 再把A柱上的最后（最大）的一个盘移到C柱上；（N=1）\n",
    "\n",
    "- 最后把B柱上的3个移动到C柱上。（N = 3）"
   ]
  },
  {
   "cell_type": "markdown",
   "metadata": {},
   "source": [
    "......"
   ]
  },
  {
   "cell_type": "markdown",
   "metadata": {},
   "source": [
    "当有N个盘子：\n",
    "\n",
    "- 先把A柱上的N-1个移动到B柱上；（N-1）\n",
    "\n",
    "- 再把A柱上的最后（最大）的一个盘移到C柱上；（N=1）\n",
    "\n",
    "- 最后把B柱上的N-1个移动到C柱上。（N-1）"
   ]
  },
  {
   "cell_type": "code",
   "execution_count": 7,
   "metadata": {},
   "outputs": [],
   "source": [
    "def hanoi_new(n, L, C, R):\n",
    "    if n == 1:\n",
    "        print('{} ---> {}'.format(L, R))\n",
    "    else:\n",
    "        hanoi_new(n-1, L, R, C)\n",
    "        hanoi_new(n-1, L, C, R)\n",
    "        hanoi_new(n-1, C, L, R)"
   ]
  },
  {
   "cell_type": "code",
   "execution_count": 8,
   "metadata": {},
   "outputs": [
    {
     "name": "stdout",
     "output_type": "stream",
     "text": [
      "A ---> B\n",
      "A ---> C\n",
      "B ---> C\n"
     ]
    }
   ],
   "source": [
    "hanoi_new(2,'A','B','C')"
   ]
  },
  {
   "cell_type": "code",
   "execution_count": 9,
   "metadata": {},
   "outputs": [
    {
     "name": "stdout",
     "output_type": "stream",
     "text": [
      "A ---> C\n",
      "A ---> B\n",
      "C ---> B\n",
      "A ---> B\n",
      "A ---> C\n",
      "B ---> C\n",
      "B ---> A\n",
      "B ---> C\n",
      "A ---> C\n"
     ]
    }
   ],
   "source": [
    "hanoi_new(3,'A','B','C')"
   ]
  },
  {
   "cell_type": "code",
   "execution_count": 10,
   "metadata": {},
   "outputs": [
    {
     "name": "stdout",
     "output_type": "stream",
     "text": [
      "A ---> B\n",
      "A ---> C\n",
      "B ---> C\n",
      "A ---> C\n",
      "A ---> B\n",
      "C ---> B\n",
      "C ---> A\n",
      "C ---> B\n",
      "A ---> B\n",
      "A ---> C\n",
      "A ---> B\n",
      "C ---> B\n",
      "A ---> B\n",
      "A ---> C\n",
      "B ---> C\n",
      "B ---> A\n",
      "B ---> C\n",
      "A ---> C\n",
      "B ---> C\n",
      "B ---> A\n",
      "C ---> A\n",
      "B ---> A\n",
      "B ---> C\n",
      "A ---> C\n",
      "A ---> B\n",
      "A ---> C\n",
      "B ---> C\n"
     ]
    }
   ],
   "source": [
    "hanoi_new(4,'A','B','C')"
   ]
  },
  {
   "cell_type": "markdown",
   "metadata": {},
   "source": [
    "第一种写法基础情况（边界条件）是N =1 和 N=2；\n",
    "\n",
    "第二种写法基础情况（边界条件）是N = 1。"
   ]
  },
  {
   "cell_type": "code",
   "execution_count": 11,
   "metadata": {},
   "outputs": [
    {
     "name": "stdout",
     "output_type": "stream",
     "text": [
      "END\n"
     ]
    }
   ],
   "source": [
    "print('END')"
   ]
  }
 ],
 "metadata": {
  "kernelspec": {
   "display_name": "Python 3",
   "language": "python",
   "name": "python3"
  },
  "language_info": {
   "codemirror_mode": {
    "name": "ipython",
    "version": 3
   },
   "file_extension": ".py",
   "mimetype": "text/x-python",
   "name": "python",
   "nbconvert_exporter": "python",
   "pygments_lexer": "ipython3",
   "version": "3.7.1"
  }
 },
 "nbformat": 4,
 "nbformat_minor": 2
}
