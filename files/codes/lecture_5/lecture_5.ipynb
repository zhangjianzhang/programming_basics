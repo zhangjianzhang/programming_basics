{
 "cells": [
  {
   "cell_type": "markdown",
   "metadata": {},
   "source": [
    "# 5. Python流程控制"
   ]
  },
  {
   "cell_type": "markdown",
   "metadata": {},
   "source": [
    "## 5.1 三种基本控制结构\n",
    "\n",
    "- 顺序结构：按照书写顺序依次解释执行\n",
    "- 选择结构：按照**一个条件**去选择其中一个分支执行\n",
    "- 循环结构：满足**某些条件**时**反复执行**某些操作"
   ]
  },
  {
   "cell_type": "markdown",
   "metadata": {},
   "source": [
    "## 5.2 选择结构"
   ]
  },
  {
   "cell_type": "markdown",
   "metadata": {},
   "source": [
    "### 单选结构"
   ]
  },
  {
   "cell_type": "markdown",
   "metadata": {},
   "source": [
    "`if <条件>:\n",
    "    <语句块>`"
   ]
  },
  {
   "cell_type": "markdown",
   "metadata": {},
   "source": [
    "**语法**：通过关系运算和逻辑运算的结果（`True`或者`False`）决定是否执行语句块，当条件为真（`True`）则**执行**语句块，当条件为假（`False`）则**跳过**语句块。"
   ]
  },
  {
   "cell_type": "markdown",
   "metadata": {},
   "source": [
    "<div align=center>\n",
    "<img width=\"200\" height=\"350\" src=\"https://github.com/zhangjianzhang/programming_basics/blob/master/files/codes/lecture_5/danxuan.png?raw=true\">\n",
    "\n",
    "<p><center><font><b>单选结构流程</b></font></center></p>\n",
    "</div>"
   ]
  },
  {
   "cell_type": "markdown",
   "metadata": {},
   "source": [
    "<b><font color=blue>牢记“冒号”，“缩进”，“对齐” 三原则！</font></b>"
   ]
  },
  {
   "cell_type": "markdown",
   "metadata": {},
   "source": [
    "**小栗子🌰**：要求用户输入两个数字，按照升序（小在前，大在后）将这两个数字输出。"
   ]
  },
  {
   "cell_type": "code",
   "execution_count": 1,
   "metadata": {},
   "outputs": [],
   "source": [
    "# a = int(input(\"Please input the first integer: \"))\n",
    "# b = int(input(\"Please input the second integer: \"))\n",
    "# print('Before exchange:', a, b)\n",
    "# if a > b: # 条件\n",
    "#     a, b = b, a # 语句块\n",
    "# print('After exchange:', a, b) # 单选结构外的语句"
   ]
  },
  {
   "cell_type": "markdown",
   "metadata": {},
   "source": [
    "语句`a, b = b, a`可以实现变量a和变量b数值的交换。"
   ]
  },
  {
   "cell_type": "markdown",
   "metadata": {},
   "source": [
    "<b><font color=red>思考题：</font></b>\n",
    "\n",
    "已知：`a = 1; b = 2`，请互换变量a和变量b的数值"
   ]
  },
  {
   "cell_type": "markdown",
   "metadata": {},
   "source": [
    "### 双选结构"
   ]
  },
  {
   "cell_type": "markdown",
   "metadata": {},
   "source": [
    "`if <条件>:\n",
    "   <语句块1>\n",
    "else:\n",
    "   <语句块2>`"
   ]
  },
  {
   "cell_type": "markdown",
   "metadata": {},
   "source": [
    "**语法**：当条件为真（True）时执行语句块1，否则执行语句块2。"
   ]
  },
  {
   "cell_type": "markdown",
   "metadata": {},
   "source": [
    "<div align=center>\n",
    "<img width=\"300\" height=\"550\" src=\"https://github.com/zhangjianzhang/programming_basics/blob/master/files/codes/lecture_5/shuangxuan.png?raw=true\">\n",
    "\n",
    "<p><center><font><b>双选结构流程</b></font></center></p>\n",
    "</div>"
   ]
  },
  {
   "cell_type": "markdown",
   "metadata": {},
   "source": [
    "**小栗子🌰**：要求用户输入一个数字，判断该数字的奇偶性。"
   ]
  },
  {
   "cell_type": "code",
   "execution_count": 2,
   "metadata": {},
   "outputs": [],
   "source": [
    "# number = int(input(\"Please input an integer: \"))\n",
    "# if number % 2 == 0: # 条件\n",
    "#     print('{} is even'.format(number)) # 语句块1\n",
    "# else:\n",
    "#     print('{} is odd'.format(number)) # 语句块2"
   ]
  },
  {
   "cell_type": "markdown",
   "metadata": {},
   "source": [
    "### 多选结构"
   ]
  },
  {
   "cell_type": "markdown",
   "metadata": {},
   "source": [
    "`if <条件1>:\n",
    "   <语句块1>\n",
    "elif <条件2>:\n",
    "   <语句块2>\n",
    "elif <条件3>:\n",
    "   <语句块3>\n",
    "   ......\n",
    "   ......\n",
    "elif <条件n-1>:\n",
    "   <语句块n-1> \n",
    "else:\n",
    "   <语句块n>``"
   ]
  },
  {
   "cell_type": "markdown",
   "metadata": {},
   "source": [
    "**语法**：当**条件1为真**则执行**语句块1**，当**条件2为真**则执行**语句块2**，......，当**前n-1个条件都假**则执行**语句块n**。"
   ]
  },
  {
   "cell_type": "code",
   "execution_count": null,
   "metadata": {},
   "outputs": [],
   "source": []
  }
 ],
 "metadata": {
  "kernelspec": {
   "display_name": "Python 3",
   "language": "python",
   "name": "python3"
  },
  "language_info": {
   "codemirror_mode": {
    "name": "ipython",
    "version": 3
   },
   "file_extension": ".py",
   "mimetype": "text/x-python",
   "name": "python",
   "nbconvert_exporter": "python",
   "pygments_lexer": "ipython3",
   "version": "3.7.1"
  }
 },
 "nbformat": 4,
 "nbformat_minor": 2
}
