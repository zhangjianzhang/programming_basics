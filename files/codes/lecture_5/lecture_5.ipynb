{
 "cells": [
  {
   "cell_type": "markdown",
   "metadata": {},
   "source": [
    "# 5. Python流程控制"
   ]
  },
  {
   "cell_type": "markdown",
   "metadata": {},
   "source": [
    "## 5.1 三种基本控制结构\n",
    "\n",
    "- 顺序结构：按照书写顺序依次解释执行\n",
    "- 选择结构：按照**一个条件**去选择其中一个分支执行\n",
    "- 循环结构：满足**某些条件**时**反复执行**某些操作"
   ]
  },
  {
   "cell_type": "markdown",
   "metadata": {},
   "source": [
    "## 5.2 选择结构"
   ]
  },
  {
   "cell_type": "markdown",
   "metadata": {},
   "source": [
    "### 单选结构"
   ]
  },
  {
   "cell_type": "markdown",
   "metadata": {},
   "source": [
    "`if <条件>:\n",
    "    <语句块>`"
   ]
  },
  {
   "cell_type": "markdown",
   "metadata": {},
   "source": [
    "**语法**：通过关系运算和逻辑运算的结果（`True`或者`False`）决定是否执行语句块，当条件为真（`True`）则**执行**语句块，当条件为假（`False`）则**跳过**语句块。"
   ]
  },
  {
   "cell_type": "markdown",
   "metadata": {},
   "source": [
    "<div align=center>\n",
    "<img width=\"200\" height=\"350\" src=\"https://github.com/zhangjianzhang/programming_basics/blob/master/files/codes/lecture_5/danxuan.png?raw=true\">\n",
    "\n",
    "<p><center><font><b>单选结构流程</b></font></center></p>\n",
    "</div>"
   ]
  },
  {
   "cell_type": "markdown",
   "metadata": {},
   "source": [
    "<b><font color=blue>牢记“冒号”，“缩进”，“对齐” 三原则！</font></b>"
   ]
  },
  {
   "cell_type": "markdown",
   "metadata": {},
   "source": [
    "**小栗子🌰**：要求用户输入两个数字，按照升序（小在前，大在后）将这两个数字输出。"
   ]
  },
  {
   "cell_type": "code",
   "execution_count": 1,
   "metadata": {},
   "outputs": [],
   "source": [
    "# a = int(input(\"Please input the first integer: \"))\n",
    "# b = int(input(\"Please input the second integer: \"))\n",
    "# print('Before exchange:', a, b)\n",
    "# if a > b: # 条件\n",
    "#     a, b = b, a # 语句块\n",
    "# print('After exchange:', a, b) # 单选结构外的语句"
   ]
  },
  {
   "cell_type": "markdown",
   "metadata": {},
   "source": [
    "语句`a, b = b, a`可以实现变量a和变量b数值的交换。"
   ]
  },
  {
   "cell_type": "markdown",
   "metadata": {},
   "source": [
    "<b><font color=red>思考题：</font></b>\n",
    "\n",
    "已知：`a = 1; b = 2`，请互换变量a和变量b的数值"
   ]
  },
  {
   "cell_type": "markdown",
   "metadata": {},
   "source": [
    "<b><font color=red>思考题：</font></b>\n",
    "\n",
    "已知：`a = 3; b = 9; c=8`，请互换变量a、变量b、变量c的数值，使a、b、c按照升序（从小到大）排列。"
   ]
  },
  {
   "cell_type": "markdown",
   "metadata": {},
   "source": [
    "### 双选结构"
   ]
  },
  {
   "cell_type": "markdown",
   "metadata": {},
   "source": [
    "`if <条件>:\n",
    "   <语句块1>\n",
    "else:\n",
    "   <语句块2>`"
   ]
  },
  {
   "cell_type": "markdown",
   "metadata": {},
   "source": [
    "**语法**：当条件为真（True）时执行语句块1，否则执行语句块2。"
   ]
  },
  {
   "cell_type": "markdown",
   "metadata": {},
   "source": [
    "<div align=center>\n",
    "<img width=\"300\" height=\"550\" src=\"https://github.com/zhangjianzhang/programming_basics/blob/master/files/codes/lecture_5/shuangxuan.png?raw=true\">\n",
    "\n",
    "<p><center><font><b>双选结构流程</b></font></center></p>\n",
    "</div>"
   ]
  },
  {
   "cell_type": "markdown",
   "metadata": {},
   "source": [
    "**小栗子🌰**：要求用户输入一个数字，判断该数字的奇偶性。"
   ]
  },
  {
   "cell_type": "code",
   "execution_count": 2,
   "metadata": {},
   "outputs": [],
   "source": [
    "# number = int(input(\"Please input an integer: \"))\n",
    "# if number % 2 == 0: # 条件\n",
    "#     print('{} is even'.format(number)) # 语句块1\n",
    "# else:\n",
    "#     print('{} is odd'.format(number)) # 语句块2"
   ]
  },
  {
   "cell_type": "markdown",
   "metadata": {},
   "source": [
    "### 多选结构"
   ]
  },
  {
   "cell_type": "markdown",
   "metadata": {},
   "source": [
    "`if <条件1>:\n",
    "   <语句块1>\n",
    "elif <条件2>:\n",
    "   <语句块2>\n",
    "elif <条件3>:\n",
    "   <语句块3>\n",
    "   ......\n",
    "   ......\n",
    "elif <条件n-1>:\n",
    "   <语句块n-1> \n",
    "else:\n",
    "   <语句块n>``"
   ]
  },
  {
   "cell_type": "markdown",
   "metadata": {},
   "source": [
    "**语法**：当**条件1为真**则执行**语句块1**，当**条件2为真**则执行**语句块2**，......，当**前n-1个条件都假**则执行**语句块n**。"
   ]
  },
  {
   "cell_type": "markdown",
   "metadata": {},
   "source": [
    "<div align=center>\n",
    "<img width=\"650\" height=\"550\" src=\"https://github.com/zhangjianzhang/programming_basics/blob/master/files/codes/lecture_5/duoxuan.png?raw=true\">\n",
    "\n",
    "<p><center><font><b>多选结构流程</b></font></center></p>\n",
    "</div>"
   ]
  },
  {
   "cell_type": "markdown",
   "metadata": {},
   "source": [
    "**小栗子🌰**：将百分制的成绩转换成绩点`{[90~100] : 4, [80~90) : 3, [70~80) : 2, [60~70) : 1, [0~60) : 0}`"
   ]
  },
  {
   "cell_type": "code",
   "execution_count": 3,
   "metadata": {},
   "outputs": [],
   "source": [
    "# score = float(input(\"Please input your score: \"))\n",
    "# if score < 0.0 or score > 100.0:\n",
    "#     gpa = -1\n",
    "# elif score >= 90:\n",
    "#     gpa = 4\n",
    "# elif score >= 80:\n",
    "#     gpa = 3\n",
    "# elif score >= 70:\n",
    "#     gpa = 2\n",
    "# elif score >= 60:\n",
    "#     gpa = 1\n",
    "# else:\n",
    "#     gpa\n",
    "# print(\"Your GPA is {}\".format(gpa))"
   ]
  },
  {
   "cell_type": "code",
   "execution_count": 4,
   "metadata": {},
   "outputs": [],
   "source": [
    "# salary = int(input('输入你工资：'))\n",
    "# if salary >= 30000:\n",
    "#     print('有钱任性')\n",
    "# elif salary >= 20000:\n",
    "#     print('有钱真好')\n",
    "# elif salary >= 10000:\n",
    "#     print('哥也月薪过万了')\n",
    "# elif salary >= 5000:\n",
    "#     print('工资还过的去')\n",
    "# elif salary >= 2000:\n",
    "#     print('活不了了')\n",
    "# else:\n",
    "#     print('吃土吧！')"
   ]
  },
  {
   "cell_type": "markdown",
   "metadata": {},
   "source": [
    "### 选择结构的嵌套"
   ]
  },
  {
   "cell_type": "markdown",
   "metadata": {},
   "source": [
    "`if <条件>:\n",
    "   if <条件>:\n",
    "      <语句1>\n",
    "   elif <条件>:\n",
    "      <语句2>\n",
    "else:\n",
    "   <语句3>`"
   ]
  },
  {
   "cell_type": "markdown",
   "metadata": {},
   "source": [
    "在**选择结构**的**语句块**中包含**另一个选择结构**。"
   ]
  },
  {
   "cell_type": "markdown",
   "metadata": {},
   "source": [
    " `if`、`if else`和`if elif else`，这3种条件语句之间可以**相互嵌套**。在开发程序时，需要根据场景需要，选择合适的嵌套方案，在相互嵌套时，一定要**严格遵守**不同级别代码块的**缩进规范**。"
   ]
  },
  {
   "cell_type": "markdown",
   "metadata": {},
   "source": [
    "**小栗子🌰**：如果规定，车辆驾驶员的血液酒精含量小于20mg/100ml不构成酒驾；酒精含量大于或等于20mg/100ml为酒驾；酒精含量大于或等于 80mg/100ml 为醉驾。编写Python程序判断是否为酒后驾车。"
   ]
  },
  {
   "cell_type": "code",
   "execution_count": 5,
   "metadata": {},
   "outputs": [],
   "source": [
    "# amount = int(input(\"输入驾驶员每100ml血液酒精的含量：\"))\n",
    "# if amount < 20:\n",
    "#     print(\"驾驶员不构成酒驾\")\n",
    "# else:\n",
    "#     if amount < 80:\n",
    "#         print(\"驾驶员已构成酒驾\")\n",
    "#     else:\n",
    "#         print(\"驾驶员已构成醉驾\")"
   ]
  },
  {
   "cell_type": "markdown",
   "metadata": {},
   "source": [
    "**小栗子🌰**：用户输入三角形的边长，判断能否组成三角形；如果能够组成三角形则输出三角形的面积，并判断三角形满足哪个类型（直角，钝角，锐角三角形）。"
   ]
  },
  {
   "cell_type": "markdown",
   "metadata": {},
   "source": [
    "<div align=center>\n",
    "<img width=\"350\" height=\"250\" src=\"https://github.com/zhangjianzhang/programming_basics/blob/master/files/codes/lecture_5/hailun.jpg?raw=true\">\n",
    "\n",
    "<p><center><font><b>海伦公式</b></font></center></p>\n",
    "</div>"
   ]
  },
  {
   "cell_type": "markdown",
   "metadata": {},
   "source": [
    "<div align=center>\n",
    "<img width=\"250\" height=\"350\" src=\"https://github.com/zhangjianzhang/programming_basics/blob/master/files/codes/lecture_5/cos_theorem.png?raw=true\">\n",
    "\n",
    "<p><center><font><b>余弦定理</b></font></center></p>\n",
    "</div>"
   ]
  },
  {
   "attachments": {},
   "cell_type": "markdown",
   "metadata": {},
   "source": [
    "<div align=center>\n",
    "<img width=\"550\" height=\"350\" src=\"https://github.com/zhangjianzhang/programming_basics/blob/master/files/codes/lecture_5/cosine-graph.gif?raw=true\">\n",
    "\n",
    "<p><center><font><b>余弦图像</b></font></center></p>\n",
    "</div>"
   ]
  },
  {
   "cell_type": "code",
   "execution_count": 6,
   "metadata": {},
   "outputs": [],
   "source": [
    "a = 3; b = 10; c = 12"
   ]
  },
  {
   "cell_type": "code",
   "execution_count": 7,
   "metadata": {},
   "outputs": [
    {
     "name": "stdout",
     "output_type": "stream",
     "text": [
      "3 10 12\n"
     ]
    }
   ],
   "source": [
    "# 将三个边的长度按照升序排列\n",
    "\n",
    "# 结果是a<b\n",
    "if a > b:\n",
    "    a, b = b, a\n",
    "    \n",
    "# 结果是a<c\n",
    "if a > c:\n",
    "    a, c = c, a\n",
    "\n",
    "# 结果是b<c\n",
    "# 最终结果为a<b<c\n",
    "if b > c:\n",
    "    b, c = c, b\n",
    "\n",
    "print(a,b,c)"
   ]
  },
  {
   "cell_type": "code",
   "execution_count": 8,
   "metadata": {},
   "outputs": [
    {
     "name": "stdout",
     "output_type": "stream",
     "text": [
      "The area of triangle is 12.18\n",
      "Obtuse triangle\n"
     ]
    }
   ],
   "source": [
    "# 任意两边之和大于第三边（a<b<c），因此构成三角形\n",
    "if (a + b) > c:\n",
    "    # 下面用海伦公式用三边求三角形面积\n",
    "    s = (a + b + c)/2\n",
    "    area = float((s*(s-a)*(s-b)*(s-c))**(1/2))\n",
    "    print(\"The area of triangle is {:.2f}\".format(area))\n",
    "    # 根据“同一个三角形内，长边对大角”，以及余弦定理，计算最大角的余弦值\n",
    "    cos_C = (a**2 + b**2 - c**2)/(2*a*b)\n",
    "    if cos_C == 0:\n",
    "        print(\"Right triangle\") # 直角\n",
    "    elif cos_C < 0:\n",
    "        print(\"Obtuse triangle\") # 钝角\n",
    "    else:\n",
    "        print(\"Acute triangle\") # 锐角\n",
    "else:\n",
    "    print(\"Invalid lengths\")"
   ]
  },
  {
   "cell_type": "markdown",
   "metadata": {},
   "source": [
    "<b><font color=red>思考题：</font></b>\n",
    "\n",
    "编程实现以下所得税计算流程\n",
    "<div align=center>\n",
    "<img width=\"450\" height=\"750\" src=\"https://github.com/zhangjianzhang/programming_basics/blob/master/files/codes/lecture_5/text_exercise.png?raw=true\">\n",
    "\n",
    "<p><center><font><b>所得税计算流程</b></font></center></p>\n",
    "</div>"
   ]
  },
  {
   "cell_type": "markdown",
   "metadata": {},
   "source": [
    "#### <b><font color=red>作业题-1：</font></b>\n",
    "\n",
    "根据下面提供的信息，编程实现以下功能：\n",
    "\n",
    "**输入**：公历出生日期，格式为`xxxx-xx-xx`\n",
    "\n",
    "**输出**：\n",
    "\n",
    "- 虚岁年龄（虚岁从一算起，出生时为1岁，逢春节长一岁）\n",
    "- 属相\n",
    "- 周岁年龄（周岁从零算起，出生时为0岁，逢生日长一岁）\n",
    "- 星座"
   ]
  },
  {
   "cell_type": "markdown",
   "metadata": {},
   "source": [
    "十二属相顺序为：鼠🐀\t牛🐂\t虎🐅\t兔🐇\t龙🐉\t蛇🐍\t马🐎\t羊🐏\t猴🐒\t鸡🐓\t狗🐕\t猪🐖，2021年为牛年"
   ]
  },
  {
   "cell_type": "markdown",
   "metadata": {},
   "source": [
    "<div align=center>\n",
    "<img width=\"450\" height=\"450\" src=\"https://github.com/zhangjianzhang/programming_basics/blob/master/files/codes/lecture_5/shuxiang.gif?raw=true\">\n",
    "\n",
    "<p><center><font><b>十二生肖</b></font></center></p>\n",
    "</div>"
   ]
  },
  {
   "cell_type": "markdown",
   "metadata": {},
   "source": [
    "<div align=center>\n",
    "<img width=\"450\" height=\"650\" src=\"https://github.com/zhangjianzhang/programming_basics/blob/master/files/codes/lecture_5/xingzuo.jpg?raw=true\">\n",
    "\n",
    "<p><center><font><b>星座图</b></font></center></p>\n",
    "</div>"
   ]
  },
  {
   "cell_type": "code",
   "execution_count": 9,
   "metadata": {},
   "outputs": [
    {
     "name": "stdout",
     "output_type": "stream",
     "text": [
      "2021 11 9\n",
      "<class 'int'> <class 'int'> <class 'int'>\n"
     ]
    }
   ],
   "source": [
    "# 获取当前的年月日\n",
    "import datetime\n",
    "year = datetime.datetime.now().year\n",
    "month = datetime.datetime.now().month\n",
    "day = datetime.datetime.now().day\n",
    "print(year, month, day)\n",
    "print(type(year), type(month), type(day))"
   ]
  },
  {
   "cell_type": "markdown",
   "metadata": {},
   "source": [
    "## 5.3 循环结构\n",
    "\n",
    "循环结构是控制**一个语句块重复执行**的结构。\n",
    "\n",
    "`while`循环：通过**条件真假**来控制循环；\n",
    "\n",
    "`for`循环 ：将循环内的语句块重复执行**特定次数**来控制循环。"
   ]
  },
  {
   "cell_type": "markdown",
   "metadata": {},
   "source": [
    "### While循环"
   ]
  },
  {
   "cell_type": "markdown",
   "metadata": {},
   "source": [
    "Python 中 while 语句的一般形式：\n",
    "\n",
    "`while 判断条件(condition)：\n",
    "    执行语句(statements)……`"
   ]
  },
  {
   "cell_type": "code",
   "execution_count": null,
   "metadata": {},
   "outputs": [],
   "source": []
  }
 ],
 "metadata": {
  "kernelspec": {
   "display_name": "Python 3",
   "language": "python",
   "name": "python3"
  },
  "language_info": {
   "codemirror_mode": {
    "name": "ipython",
    "version": 3
   },
   "file_extension": ".py",
   "mimetype": "text/x-python",
   "name": "python",
   "nbconvert_exporter": "python",
   "pygments_lexer": "ipython3",
   "version": "3.7.1"
  }
 },
 "nbformat": 4,
 "nbformat_minor": 2
}
