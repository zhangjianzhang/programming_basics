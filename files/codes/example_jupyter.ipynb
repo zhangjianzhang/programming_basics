{
 "cells": [
  {
   "cell_type": "markdown",
   "metadata": {},
   "source": [
    "# 1. 文字"
   ]
  },
  {
   "cell_type": "markdown",
   "metadata": {},
   "source": [
    "HTML调色板：https://htmlcolorcodes.com/"
   ]
  },
  {
   "cell_type": "markdown",
   "metadata": {},
   "source": [
    "<font size=2 style=\"color:#2ECC71\">**示例**</font>：\n",
    "\n",
    "```html\n",
    "<font size=2 style=\"color:#2ECC71\">**示例**</font>\n",
    "```"
   ]
  },
  {
   "cell_type": "markdown",
   "metadata": {},
   "source": [
    "<font size=2 style=\"color:#2ECC71\">**Example**</font>\n",
    "\n",
    "```html\n",
    "<font size=2 style=\"color:#2ECC71\">**Example**</font>\n",
    "```"
   ]
  },
  {
   "cell_type": "markdown",
   "metadata": {},
   "source": [
    "<font size=2 style=\"color:#FF0000\">**注意**</font>：\n",
    "\n",
    "```html\n",
    "<font size=2 style=\"color:#FF0000\">**注意**</font>\n",
    "```"
   ]
  },
  {
   "cell_type": "markdown",
   "metadata": {},
   "source": [
    "<font size=2 style=\"color:#BA4A00\">**练习**</font>：\n",
    "\n",
    "```html\n",
    "<font size=2 style=\"color:#BA4A00\">**练习**</font>\n",
    "```"
   ]
  },
  {
   "cell_type": "markdown",
   "metadata": {},
   "source": [
    "<font size=2 style=\"color:#9B59B6\">**思考**</font>：\n",
    "\n",
    "```html\n",
    "<font size=2 style=\"color:#9B59B6\">**思考**</font>\n",
    "```"
   ]
  },
  {
   "cell_type": "markdown",
   "metadata": {},
   "source": [
    "<font size=2 style=\"color:#3498DB\">**概念**</font>：\n",
    "\n",
    "```html\n",
    "<font size=2 style=\"color:#3498DB\">**概念**</font>\n",
    "```"
   ]
  },
  {
   "cell_type": "markdown",
   "metadata": {},
   "source": [
    "<font style=\"background:#00FF00\"><strong>这是一个加粗高亮</strong></font>\n",
    "\n",
    "```html\n",
    "<font style=\"background:#00FF00\"><strong>这是一个加粗高亮</strong></font>\n",
    "```"
   ]
  },
  {
   "cell_type": "markdown",
   "metadata": {},
   "source": [
    "<font><em>这是一个斜体</em></font>\n",
    "\n",
    "```html\n",
    "<font><em>这是一个斜体</em></font>\n",
    "```"
   ]
  },
  {
   "cell_type": "markdown",
   "metadata": {},
   "source": [
    "<center>我是居中文字</center>\n",
    "\n",
    "```html\n",
    "<center>我是居中文字</center>\n",
    "```"
   ]
  },
  {
   "cell_type": "markdown",
   "metadata": {},
   "source": [
    "<center><font size=3 style=\"color:#BA4A00\"><strong>我是居中加粗放大带颜色文字</strong></font></center>"
   ]
  },
  {
   "cell_type": "markdown",
   "metadata": {},
   "source": [
    "```html\n",
    "<center><font size=3 style=\"color:#BA4A00\"><strong>我是居中加粗放大带颜色文字</strong></font></center>\n",
    "```"
   ]
  },
  {
   "cell_type": "markdown",
   "metadata": {},
   "source": [
    "# 2. 图片"
   ]
  },
  {
   "cell_type": "markdown",
   "metadata": {},
   "source": [
    "<div align=center>\n",
    "<img width=\"850\" height=\"550\" src=\"https://sparq.stanford.edu/sites/g/files/sbiybj11806/f/styles/8-col-banner-short/public/storybooks_get_kids_to_eat_their_vegetables.jpg\">\n",
    "<br>\n",
    "<center><em><strong>我是放大的图片</strong></em></center>\n",
    "</div>\n",
    "\n",
    "```html\n",
    "<div align=center>\n",
    "<img width=\"850\" height=\"550\" src=\"https://sparq.stanford.edu/sites/g/files/sbiybj11806/f/styles/8-col-banner-short/public/storybooks_get_kids_to_eat_their_vegetables.jpg\">\n",
    "<br>\n",
    "<center><em><strong>我是放大的图片</strong></em></center>\n",
    "</div>\n",
    "```"
   ]
  },
  {
   "cell_type": "markdown",
   "metadata": {},
   "source": [
    "# 3. 超链接"
   ]
  },
  {
   "cell_type": "markdown",
   "metadata": {},
   "source": [
    "<a href=\"https://www.baidu.com/\" target=\"_blank\">点我</a>在 **新页面** 打开百度\n",
    "\n",
    "```html\n",
    "<a href=\"https://www.baidu.com/\" target=\"_blank\">点我</a>在 **新页面** 打开百度\n",
    "```"
   ]
  },
  {
   "cell_type": "markdown",
   "metadata": {},
   "source": [
    "# 4. 公式"
   ]
  },
  {
   "cell_type": "markdown",
   "metadata": {},
   "source": [
    "使用Markdown输出LaTex数学公式：https://zhuanlan.zhihu.com/p/59412540"
   ]
  },
  {
   "cell_type": "markdown",
   "metadata": {},
   "source": [
    "内联输出：$f(x)=\\frac{P(x)}{Q(x)}$\n",
    "\n",
    "`$f(x)=\\frac{P(x)}{Q(x)}$`"
   ]
  },
  {
   "cell_type": "markdown",
   "metadata": {},
   "source": [
    "外联输出：\n",
    "\n",
    "$$f(x)=\\frac{P(x)}{Q(x)}$$\n",
    "\n",
    "`$$f(x)=\\frac{P(x)}{Q(x)}$$`"
   ]
  },
  {
   "cell_type": "markdown",
   "metadata": {},
   "source": [
    "矩阵：\n",
    "\n",
    "$$\n",
    "  \\begin{matrix}\n",
    "   1 & 2 & 3 \\\\\n",
    "   4 & 5 & 6 \\\\\n",
    "   7 & 8 & 9\n",
    "  \\end{matrix} \n",
    "$$\n",
    "\n",
    "```tex\n",
    "$$\n",
    "  \\begin{matrix}\n",
    "   1 & 2 & 3 \\\\\n",
    "   4 & 5 & 6 \\\\\n",
    "   7 & 8 & 9\n",
    "  \\end{matrix} \n",
    "$$\n",
    "```"
   ]
  },
  {
   "cell_type": "markdown",
   "metadata": {},
   "source": [
    "<br>\n",
    "<center><font size=3 style=\"color:#D68910\"><strong>未完待续</strong></font></center>"
   ]
  }
 ],
 "metadata": {
  "kernelspec": {
   "display_name": "Python 3 (ipykernel)",
   "language": "python",
   "name": "python3"
  },
  "language_info": {
   "codemirror_mode": {
    "name": "ipython",
    "version": 3
   },
   "file_extension": ".py",
   "mimetype": "text/x-python",
   "name": "python",
   "nbconvert_exporter": "python",
   "pygments_lexer": "ipython3",
   "version": "3.9.7"
  }
 },
 "nbformat": 4,
 "nbformat_minor": 4
}
