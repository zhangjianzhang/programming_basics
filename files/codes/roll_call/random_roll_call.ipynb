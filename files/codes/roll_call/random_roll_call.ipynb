{
 "cells": [
  {
   "cell_type": "code",
   "execution_count": 1,
   "id": "e2065ffa-1fe1-4457-a28c-f1f9fd95b3fb",
   "metadata": {},
   "outputs": [],
   "source": [
    "import pandas as pd\n",
    "\n",
    "def read_students(file_path):\n",
    "    # 从Excel文件中读取学生信息\n",
    "    df = pd.read_csv(file_path)\n",
    "    return df\n",
    "\n",
    "def random_roll_call(df):\n",
    "    # 找出未被点过名的学生\n",
    "    remaining_students = df[df['Called_Times'] == df['Called_Times'].min()]\n",
    "    if remaining_students.empty:\n",
    "        print(\"All students have been called.\")\n",
    "        return None, None, None\n",
    "    # 从未被点过名的学生中随机选择一个学生\n",
    "    selected_student = remaining_students.sample()\n",
    "    selected_student_id = selected_student['ID'].values[0]\n",
    "    selected_student_name = selected_student['Name'].values[0]\n",
    "    return selected_student_id, selected_student_name, selected_student.index[0]\n",
    "\n",
    "def update_called_times(df, index, file_path):\n",
    "    # 更新被点名学生的被点名次数\n",
    "    df.at[index, 'Called_Times'] += 1\n",
    "    df.to_csv(file_path, index = False)  # 保存更新后的数据到Excel文件"
   ]
  },
  {
   "cell_type": "code",
   "execution_count": 2,
   "id": "96897c3f-5930-4510-8417-40353a8b3bcb",
   "metadata": {},
   "outputs": [],
   "source": [
    "# 从本地Excel文件读取学生信息\n",
    "file_path = './class_1.csv'  # 更新为你的文件路径\n",
    "df = read_students(file_path)"
   ]
  },
  {
   "cell_type": "code",
   "execution_count": 3,
   "id": "e99e486c-3873-4d02-911a-50124966651f",
   "metadata": {},
   "outputs": [
    {
     "name": "stdout",
     "output_type": "stream",
     "text": [
      "The selected student is: 2023XXXXXX010 - stu_name_010\n"
     ]
    }
   ],
   "source": [
    "# 执行随机点名\n",
    "selected_student_id, selected_student_name, index = random_roll_call(df)\n",
    "if selected_student_id and selected_student_name:\n",
    "    print(f\"The selected student is: {selected_student_id} - {selected_student_name}\")\n",
    "    # 更新Excel文件中的被点名次数\n",
    "    update_called_times(df, index, file_path)"
   ]
  }
 ],
 "metadata": {
  "kernelspec": {
   "display_name": "Python 3 (ipykernel)",
   "language": "python",
   "name": "python3"
  },
  "language_info": {
   "codemirror_mode": {
    "name": "ipython",
    "version": 3
   },
   "file_extension": ".py",
   "mimetype": "text/x-python",
   "name": "python",
   "nbconvert_exporter": "python",
   "pygments_lexer": "ipython3",
   "version": "3.9.7"
  }
 },
 "nbformat": 4,
 "nbformat_minor": 5
}
