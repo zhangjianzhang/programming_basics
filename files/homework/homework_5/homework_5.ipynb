{
 "cells": [
  {
   "cell_type": "markdown",
   "id": "cd9aed28-7198-4e62-9812-7623ba619b74",
   "metadata": {},
   "source": [
    "## <center>**身份证号码校验与解析**</center>"
   ]
  },
  {
   "cell_type": "markdown",
   "id": "d19fe9b5-92e6-4e1b-8abf-00246f701740",
   "metadata": {},
   "source": [
    "### **题目背景知识**"
   ]
  },
  {
   "cell_type": "markdown",
   "id": "e092d93f-c17d-4e14-9102-43c226a77ef7",
   "metadata": {},
   "source": [
    "<div align=center>\n",
    "<img width=\"350\" height=\"350\" src=\"https://image.woshipm.com/wp-files/2016/06/210e4e315fcdcb405aae62ee466dfa4e_r-1.png\">\n",
    "<br>\n",
    "<center><strong>身份证样例</strong></center>\n",
    "</div>"
   ]
  },
  {
   "cell_type": "markdown",
   "id": "b6336831-217a-4b8a-b9f0-142724957d3f",
   "metadata": {},
   "source": [
    "公民身份号码包含十八位数字，由前十七位数字本体码和最后一位数字校验码组成。排列顺序从左至右依次为：\n",
    "\n",
    "- 六位数字地址码，前两位表示省份，中间两位表示地级市，最后两位表示区或县级市，如，330102表示浙江省(33)杭州市(01)上城区(02)；\n",
    "- 八位数字出生日期码，如，20020803表示出生年月日；\n",
    "- 三位数字顺序码，表示在同一地址码所标识的区域范围内，对同年、同月、同日出生的人编定的顺序号，顺序码的奇数分配给男性，偶数分配给女性，如，476对应女性；\n",
    "- 一位数字校验码，使用前17位数字，按照下面方式计算校验码；"
   ]
  },
  {
   "cell_type": "markdown",
   "id": "2a22431b-a378-4b79-8353-f41e90b7cef2",
   "metadata": {},
   "source": [
    "按照国标GB11643-1999的规定，中华人民共和国公民身份号码校验码的计算方法为**ISO 7064:1983.MOD 11-2校验码计算法**，计算示例如下：\n",
    "\n",
    "假设某一17位数字是"
   ]
  },
  {
   "cell_type": "markdown",
   "id": "f5109209-b04c-4ed0-bd75-a5c513259994",
   "metadata": {},
   "source": [
    "<table class=\"wikitable\">\n",
    "<tbody><tr>\n",
    "<td><b>17位数字</b></td>\n",
    "<td>1</td>\n",
    "<td>2</td>\n",
    "<td>3</td>\n",
    "<td>4</td>\n",
    "<td>5</td>\n",
    "<td>6</td>\n",
    "<td>7</td>\n",
    "<td>8</td>\n",
    "<td>9</td>\n",
    "<td>0</td>\n",
    "<td>1</td>\n",
    "<td>2</td>\n",
    "<td>3</td>\n",
    "<td>4</td>\n",
    "<td>5</td>\n",
    "<td>6</td>\n",
    "<td>7\n",
    "</td></tr>\n",
    "<tr>\n",
    "<td><b>每个位置的加权因子</b></td>\n",
    "<td>7</td>\n",
    "<td>9</td>\n",
    "<td>10</td>\n",
    "<td>5</td>\n",
    "<td>8</td>\n",
    "<td>4</td>\n",
    "<td>2</td>\n",
    "<td>1</td>\n",
    "<td>6</td>\n",
    "<td>3</td>\n",
    "<td>7</td>\n",
    "<td>9</td>\n",
    "<td>10</td>\n",
    "<td>5</td>\n",
    "<td>8</td>\n",
    "<td>4</td>\n",
    "<td>2\n",
    "</td></tr></tbody></table>"
   ]
  },
  {
   "cell_type": "markdown",
   "id": "567bc9c0-2523-4634-9f18-f6e4d9c97476",
   "metadata": {},
   "source": [
    "(1) 计算17位数字各位数字与对应的加权因子的乘积和$S$："
   ]
  },
  {
   "cell_type": "markdown",
   "id": "34c50e5a-dfdc-485c-9cdd-8a00c1ddc586",
   "metadata": {},
   "source": [
    "$S = 1\\times 7+ 2\\times 9 + ... + 7\\times 2 = 368$"
   ]
  },
  {
   "cell_type": "markdown",
   "id": "ec16787a-85a8-4e59-a336-aa88b9cdc90b",
   "metadata": {},
   "source": [
    "(2) 计算$\\frac{S}{11}$的余数$T$："
   ]
  },
  {
   "cell_type": "markdown",
   "id": "e0690880-9709-4dff-806b-df6bcf7c245c",
   "metadata": {},
   "source": [
    "$T = 368\\ \\%\\ 11 = 5$"
   ]
  },
  {
   "cell_type": "markdown",
   "id": "088f11fd-99ad-41c6-9eca-3fe40b245814",
   "metadata": {},
   "source": [
    "(3) 计算$\\frac{12-T}{11}$的余数$R$，如果$R=10$，校验码为大写字母$X$；如果$R\\ne10$，校验码为数字$R$。"
   ]
  },
  {
   "cell_type": "markdown",
   "id": "5c0ca253-2c56-4058-b9b1-1c51f3ad002f",
   "metadata": {},
   "source": [
    "$R = (12-5)\\ \\%\\ 11 = 7$"
   ]
  },
  {
   "cell_type": "markdown",
   "id": "2c9b0fb6-f4c6-4fdb-9736-aca8e0d517b5",
   "metadata": {},
   "source": [
    "该17位数字的校验码就是7，聚合在一为12345678901234567**7**"
   ]
  },
  {
   "cell_type": "markdown",
   "id": "cbbbe505-9811-476d-85d3-8ccda9bcbace",
   "metadata": {},
   "source": [
    "下载并解压`homework_5.zip`压缩文件包，解压后包含一个json文件`area_dict.json`，一个jupyter文件`homework_5.ipynb`。在jupyter-lab中打开`homework_5.ipynb`查看作业具体要求，并在其中完成作业后提交该文件。"
   ]
  },
  {
   "cell_type": "markdown",
   "id": "b8566d7e-c950-4514-92a0-7c440133cf0d",
   "metadata": {
    "tags": []
   },
   "source": [
    "### **题目要求**:\n",
    "\n",
    "1. 接收键盘输入的身份证号；\n",
    "\n",
    "2. 校验身份证号是否合法：\n",
    "\n",
    "   - 出生年份合法范围为1900-2022；\n",
    "   - 地址码合法范围，请参考《2020年11月中华人民共和国县以上行政区划代码》，https://www.mca.gov.cn/mzsj/xzqh/2020/20201201.html ；\n",
    "\n",
    "\n",
    "\n",
    "3. 如果合法，请根据合法的身份证号信息输出以下信息：\n",
    "\n",
    "   - 地址，必须包含省-市-区或县三级行政区划，直辖市除外，如，浙江省杭州市上城区，北京市西城区；\n",
    "   - 年龄，周岁年龄，婴儿出生时记为零岁，以后每过一个公历的生日，周岁便增加一岁，生日当天周岁不增加，假定程序执行当天为2022年10月25日；\n",
    "   - 性别；\n",
    "   - 星座，星座日期表如下图：\n",
    "  \n",
    "     <div align=center>\n",
    "    <img width=\"550\" height=\"350\" src=\"https://raw.githubusercontent.com/zhangjianzhang/programming_basics/master/files/codes/imgs/xingzuo.jpg\">\n",
    "    <br>\n",
    "    <center><strong>星座日期表</strong></center>\n",
    "    </div>"
   ]
  },
  {
   "cell_type": "code",
   "execution_count": 1,
   "id": "3ec7d1ce-6f93-4238-a39c-ae107029f2d8",
   "metadata": {},
   "outputs": [],
   "source": [
    "# 指定windows平台下Python运行时的默认编码类型为UTF-8\n",
    "import _locale\n",
    "_locale._getdefaultlocale = (lambda *args: ['zh_CN', 'utf8'])"
   ]
  },
  {
   "cell_type": "code",
   "execution_count": 2,
   "id": "0439e6f3-da49-464f-ba79-343b716bf6d6",
   "metadata": {},
   "outputs": [],
   "source": [
    "with open('./area_dict.json',encoding = 'utf-8') as f:\n",
    "    area_dict = eval(f.read())"
   ]
  },
  {
   "cell_type": "markdown",
   "id": "3e9ba957-c090-4a02-ada2-60bae312ea57",
   "metadata": {},
   "source": [
    "变量`area_dict`是一个字典，保存了《2020年11月中华人民共和国县以上行政区划代码》，其中key是行政区划代码，value是行政区划名。"
   ]
  },
  {
   "cell_type": "markdown",
   "id": "63b20308-4ff6-42ac-9241-b2d87ba252f8",
   "metadata": {
    "tags": []
   },
   "source": [
    "### **题目作答区**"
   ]
  },
  {
   "cell_type": "markdown",
   "id": "fa0f6a52-1216-43ec-ad2c-a5f140ad4c27",
   "metadata": {},
   "source": [
    "<b><font color=red>注意</font></b>：请先运行题干代码，然后在下面写你的答案。"
   ]
  },
  {
   "cell_type": "code",
   "execution_count": 3,
   "id": "c21d0b0e-2444-47b1-9446-555008c2e319",
   "metadata": {},
   "outputs": [],
   "source": [
    "# 请自行续行作答"
   ]
  }
 ],
 "metadata": {
  "kernelspec": {
   "display_name": "Python 3 (ipykernel)",
   "language": "python",
   "name": "python3"
  },
  "language_info": {
   "codemirror_mode": {
    "name": "ipython",
    "version": 3
   },
   "file_extension": ".py",
   "mimetype": "text/x-python",
   "name": "python",
   "nbconvert_exporter": "python",
   "pygments_lexer": "ipython3",
   "version": "3.9.7"
  }
 },
 "nbformat": 4,
 "nbformat_minor": 5
}
