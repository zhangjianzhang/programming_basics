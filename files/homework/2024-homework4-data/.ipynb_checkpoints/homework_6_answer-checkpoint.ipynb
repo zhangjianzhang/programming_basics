{
 "cells": [
  {
   "cell_type": "markdown",
   "id": "de2307c8-7ae8-4fc4-92c0-fe08942c4894",
   "metadata": {},
   "source": [
    "## <center>编写Python代码进行对账</center>"
   ]
  },
  {
   "cell_type": "markdown",
   "id": "4d3a8e8f-0e9e-4dcd-981a-df1c5ee45044",
   "metadata": {},
   "source": [
    "### 题目说明"
   ]
  },
  {
   "cell_type": "markdown",
   "id": "9007c33d-6d48-4905-aed2-8cb6b164c333",
   "metadata": {},
   "source": [
    "该文件夹下存在两个文件\n",
    "\n",
    "- `账面.xlsx`，包含三列：日期、凭证号、金额\n",
    "\n",
    "- `流水.xlsx`，包含三列：日期、凭证号、金额"
   ]
  },
  {
   "cell_type": "markdown",
   "id": "9f8f318b-66e9-4ebd-890d-866dc7e2ce9d",
   "metadata": {},
   "source": [
    "### 题目要求"
   ]
  },
  {
   "cell_type": "markdown",
   "id": "623f8ecd-6d15-4ad3-a34e-85421cb2b573",
   "metadata": {},
   "source": [
    "请参考下面读取xlsx文件的代码，然后对两张excel表格进行账目匹配：\n",
    "\n",
    "- 以**年份-月份-记账凭证号**为匹配标准；\n",
    "\n",
    "- 计算`账面.xlsx`中每个月份的每张凭证号对应的总金额；\n",
    "\n",
    "- 计算`流水.xlsx`中每个月份的每张凭证号对应的总金额；\n",
    "\n",
    "- 以`账面.xlsx`为标准，找出`流水.xlsx`中缺失的凭证号；\n",
    "\n",
    "- 以`账面.xlsx`为标准，找出`流水.xlsx`中金额不匹配的凭证号；"
   ]
  },
  {
   "cell_type": "markdown",
   "id": "9c1733b2-ce33-4e6a-b052-e39b95735348",
   "metadata": {},
   "source": [
    "### 结果输出示例"
   ]
  },
  {
   "cell_type": "markdown",
   "id": "3a1921f8-a7a1-4898-88a7-9c3fcc798df5",
   "metadata": {},
   "source": [
    "```\n",
    "缺失: 2022-01-记-86\n",
    "缺失: 2022-01-记-85\n",
    "不匹配: 2022-09-记-648, 账面-1700, 流水-2310\n",
    "不匹配: 2022-03-记-280, 账面-4642, 流水-13926\n",
    "```"
   ]
  },
  {
   "cell_type": "markdown",
   "id": "7baceaf0-3a3a-486c-b19c-3ba7d1fc8977",
   "metadata": {},
   "source": [
    "<font size=2 style=\"color:#FF0000\">**注意：请先参考课件，安装`utils`包，再运行下面代码**</font>"
   ]
  },
  {
   "cell_type": "code",
   "execution_count": 1,
   "id": "3c537a75-b4dd-46c2-95b5-e6c1709958da",
   "metadata": {},
   "outputs": [],
   "source": [
    "# 指定windows平台下Python运行时的默认编码类型为UTF-8\n",
    "import _locale\n",
    "_locale._getdefaultlocale = (lambda *args: ['zh_CN', 'utf8'])"
   ]
  },
  {
   "cell_type": "code",
   "execution_count": 2,
   "id": "bae97437-40c2-423e-8df9-a573de9287cd",
   "metadata": {},
   "outputs": [],
   "source": [
    "from utils.fileUtils import *"
   ]
  },
  {
   "cell_type": "code",
   "execution_count": 3,
   "id": "8c17d768-0790-4850-8252-5ef3498e5921",
   "metadata": {},
   "outputs": [],
   "source": [
    "lines1 = readExcelToList('./账面.xlsx')"
   ]
  },
  {
   "cell_type": "code",
   "execution_count": 4,
   "id": "31cc59e4-e6c9-41e3-a36b-62f8058c0b27",
   "metadata": {},
   "outputs": [
    {
     "data": {
      "text/plain": [
       "240"
      ]
     },
     "execution_count": 4,
     "metadata": {},
     "output_type": "execute_result"
    }
   ],
   "source": [
    "len(lines1)"
   ]
  },
  {
   "cell_type": "code",
   "execution_count": 5,
   "id": "fca2b3d6-1d9e-47f2-9f6f-5c4c1943dd90",
   "metadata": {},
   "outputs": [
    {
     "data": {
      "text/plain": [
       "[['日期', '凭证号', '金额'],\n",
       " ['2022-01-21', '记-83', 9980],\n",
       " ['2022-01-28', '记-161', 9990]]"
      ]
     },
     "execution_count": 5,
     "metadata": {},
     "output_type": "execute_result"
    }
   ],
   "source": [
    "lines1[:3]"
   ]
  },
  {
   "cell_type": "code",
   "execution_count": 6,
   "id": "e5a093b2-853f-4c3d-bf72-404ef57676a8",
   "metadata": {},
   "outputs": [],
   "source": [
    "dict1 = {}\n",
    "for line in lines1[1:]:\n",
    "    date = line[0].strip()[:7]\n",
    "    record_id = line[1].strip()\n",
    "    money = line[2]\n",
    "    key = date + '-' + record_id\n",
    "    dict1.setdefault(key, 0)\n",
    "    dict1[key] += money"
   ]
  },
  {
   "cell_type": "code",
   "execution_count": 7,
   "id": "27337311-69ed-44e3-b270-5f2be46581bb",
   "metadata": {},
   "outputs": [
    {
     "data": {
      "text/plain": [
       "206"
      ]
     },
     "execution_count": 7,
     "metadata": {},
     "output_type": "execute_result"
    }
   ],
   "source": [
    "len(dict1)"
   ]
  },
  {
   "cell_type": "code",
   "execution_count": 8,
   "id": "d3fecbdf-0e5a-4645-b9a9-62f59fdc60ef",
   "metadata": {},
   "outputs": [],
   "source": [
    "lines2 = readExcelToList('./流水.xlsx')"
   ]
  },
  {
   "cell_type": "code",
   "execution_count": 9,
   "id": "2cd567d9-35f2-4921-a48d-ad35c45d9813",
   "metadata": {},
   "outputs": [],
   "source": [
    "dict2 = {}\n",
    "for line in lines2[1:]:\n",
    "    date = line[0].strip()[:7]\n",
    "    record_id = line[1].strip()\n",
    "    money = line[2]\n",
    "    key = date + '-' + record_id\n",
    "    dict2.setdefault(key, 0)\n",
    "    dict2[key] += money"
   ]
  },
  {
   "cell_type": "code",
   "execution_count": 10,
   "id": "6d944655-5cc9-4cb8-8644-56035ff33651",
   "metadata": {},
   "outputs": [
    {
     "name": "stdout",
     "output_type": "stream",
     "text": [
      "缺失: 2022-01-记-86\n",
      "缺失: 2022-01-记-85\n",
      "不匹配: 2022-09-记-648, 账面-1700, 流水-2310\n",
      "不匹配: 2022-03-记-280, 账面-4642, 流水-13926\n",
      "不匹配: 2022-02-记-100, 账面-9779.8, 流水-10452.8\n",
      "不匹配: 2022-01-记-204, 账面-10560, 流水-12565\n",
      "缺失: 2022-04-记-100\n",
      "缺失: 2022-04-记-353\n",
      "缺失: 2022-04-记-427\n",
      "缺失: 2022-06-记-315\n",
      "缺失: 2022-06-记-817\n"
     ]
    }
   ],
   "source": [
    "for key in dict1.keys():\n",
    "    if key not in dict2:\n",
    "        print('缺失:', key)\n",
    "    else:\n",
    "        if dict1[key] != dict2[key]:\n",
    "            print('不匹配: {}, {}-{}, {}-{}'.format(key,'账面', dict1[key], '流水', dict2[key]))"
   ]
  }
 ],
 "metadata": {
  "kernelspec": {
   "display_name": "Python 3 (ipykernel)",
   "language": "python",
   "name": "python3"
  },
  "language_info": {
   "codemirror_mode": {
    "name": "ipython",
    "version": 3
   },
   "file_extension": ".py",
   "mimetype": "text/x-python",
   "name": "python",
   "nbconvert_exporter": "python",
   "pygments_lexer": "ipython3",
   "version": "3.9.7"
  }
 },
 "nbformat": 4,
 "nbformat_minor": 5
}
