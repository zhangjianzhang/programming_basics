{
 "cells": [
  {
   "cell_type": "markdown",
   "metadata": {},
   "source": [
    "## 第一题"
   ]
  },
  {
   "cell_type": "markdown",
   "metadata": {},
   "source": [
    "<b><font color=red>要求</font></b> 用`Python`写一个函数，验证数独计算结果正确性，要求如下：\n",
    "\n",
    "1. 函数名为`check_sudoku`；\n",
    "\n",
    "2. 参数包含（1）数独计算结果`board`，类型为列表；（2）数独中小矩形的高`height`；（3）数独中小矩形的宽`width`；\n",
    "\n",
    "3. 返回结果为`True`或者`False`；\n",
    "\n",
    "4. 函数中判断数独是否满足如下三个条件：\n",
    "\n",
    "  - 数字`1-n`在每一行只能出现一次；\n",
    "  - 数字`1-n`在每一列只能出现一次；\n",
    "  - 数字`1-n`在每一个以粗实线分隔的`nxn`宫内只能出现一次。"
   ]
  },
  {
   "cell_type": "markdown",
   "metadata": {},
   "source": [
    "除了下面两个示例数独，还要考虑到其他尺寸数独测试能否成功哦。"
   ]
  },
  {
   "cell_type": "code",
   "execution_count": 1,
   "metadata": {},
   "outputs": [],
   "source": [
    "# 请在此处写定义你的函数\n",
    "\n",
    "def check_sudoku(board, height, width):\n",
    "    # 加油^_^\n",
    "    \n",
    "    return"
   ]
  },
  {
   "cell_type": "code",
   "execution_count": 2,
   "metadata": {},
   "outputs": [],
   "source": [
    "# 示例输入1，返回结果为True\n",
    "\n",
    "board_1 = [[2, 5, 4, 6, 3, 1],\n",
    "           [6, 1, 3, 5, 2, 4],\n",
    "           [4, 2, 6, 1, 5, 3],\n",
    "           [1, 3, 5, 2, 4, 6],\n",
    "           [5, 4, 1, 3, 6, 2],\n",
    "           [3, 6, 2, 4, 1, 5]]"
   ]
  },
  {
   "cell_type": "code",
   "execution_count": 3,
   "metadata": {},
   "outputs": [],
   "source": [
    "# 示例输入2，返回结果为False\n",
    "\n",
    "board_2 = [[2, 5, 4, 6, 3, 1],\n",
    "           [6, 1, 3, 5, 2, 4],\n",
    "           [4, 2, 6, 1, 5, 2],\n",
    "           [1, 3, 4, 2, 4, 6],\n",
    "           [5, 4, 1, 3, 6, 2],\n",
    "           [3, 6, 2, 4, 1, 5]]"
   ]
  },
  {
   "cell_type": "code",
   "execution_count": 4,
   "metadata": {},
   "outputs": [
    {
     "ename": "AssertionError",
     "evalue": "Sorry, try to refine your function",
     "output_type": "error",
     "traceback": [
      "\u001b[0;31m---------------------------------------------------------------------------\u001b[0m",
      "\u001b[0;31mAssertionError\u001b[0m                            Traceback (most recent call last)",
      "\u001b[0;32m<ipython-input-4-d48184cd1659>\u001b[0m in \u001b[0;36m<module>\u001b[0;34m\u001b[0m\n\u001b[1;32m      5\u001b[0m \u001b[0;34m\u001b[0m\u001b[0m\n\u001b[1;32m      6\u001b[0m \u001b[0;31m# 如果出现如下报错信息，说明你的函数写的不对，需要改正哦\u001b[0m\u001b[0;34m\u001b[0m\u001b[0;34m\u001b[0m\u001b[0;34m\u001b[0m\u001b[0m\n\u001b[0;32m----> 7\u001b[0;31m \u001b[0;32massert\u001b[0m \u001b[0mcheck_sudoku\u001b[0m\u001b[0;34m(\u001b[0m\u001b[0mboard_1\u001b[0m\u001b[0;34m,\u001b[0m \u001b[0mheight\u001b[0m\u001b[0;34m,\u001b[0m \u001b[0mwidth\u001b[0m\u001b[0;34m)\u001b[0m \u001b[0;34m==\u001b[0m \u001b[0;32mTrue\u001b[0m\u001b[0;34m,\u001b[0m \u001b[0;34m'Sorry, try to refine your function'\u001b[0m\u001b[0;34m\u001b[0m\u001b[0;34m\u001b[0m\u001b[0m\n\u001b[0m",
      "\u001b[0;31mAssertionError\u001b[0m: Sorry, try to refine your function"
     ]
    }
   ],
   "source": [
    "# 请在此处测试你的函数\n",
    "\n",
    "height = 2\n",
    "width = 3\n",
    "\n",
    "# 如果出现如下报错信息，说明你的函数写的不对，需要改正哦\n",
    "assert check_sudoku(board_1, height, width) == True, 'Sorry, try to refine your function'"
   ]
  },
  {
   "cell_type": "code",
   "execution_count": null,
   "metadata": {},
   "outputs": [],
   "source": []
  }
 ],
 "metadata": {
  "kernelspec": {
   "display_name": "Python 3 (ipykernel)",
   "language": "python",
   "name": "python3"
  },
  "language_info": {
   "codemirror_mode": {
    "name": "ipython",
    "version": 3
   },
   "file_extension": ".py",
   "mimetype": "text/x-python",
   "name": "python",
   "nbconvert_exporter": "python",
   "pygments_lexer": "ipython3",
   "version": "3.9.7"
  }
 },
 "nbformat": 4,
 "nbformat_minor": 4
}
