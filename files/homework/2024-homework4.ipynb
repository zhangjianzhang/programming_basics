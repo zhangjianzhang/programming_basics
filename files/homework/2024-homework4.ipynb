{
 "cells": [
  {
   "cell_type": "markdown",
   "id": "d70d87cb-86f9-4b18-8261-11f97f8219ee",
   "metadata": {},
   "source": [
    "#### **题目1**\n",
    "\n",
    "一个电商平台的用户评价数据文件为\"reviews.txt\"，每行包含：商品ID 用户ID 评分(1-5) 评价时间 评价内容(以制表符分隔)。\n",
    "\n",
    "示例输入文件`reviews.txt`内容如下：\n",
    "```\n",
    "P001    U1234    4    2023-12-01    商品质量不错，发货速度快\n",
    "P002    U2345    2    2023-12-01    商品与描述不符，物流太慢\n",
    "P001    U3456    5    2023-12-02    非常满意，客服态度很好\n",
    "P003    U1234    3    2023-12-02    一般，符合价位\n",
    "```\n",
    "\n",
    "示例输出文件`booking_stats.txt`内容如下：\n",
    "\n",
    "```\n",
    "商品ID：P001\n",
    "平均评分：4.5\n",
    "评价次数：2\n",
    "好评率：100.0%\n",
    "\n",
    "商品ID：P002\n",
    "平均评分：2.0\n",
    "评价次数：1\n",
    "好评率：0.0%\n",
    "\n",
    "商品ID：P003\n",
    "平均评分：3.0\n",
    "评价次数：1\n",
    "好评率：0.0%\n",
    "```\n",
    "\n",
    "\n",
    "请编写程序完成：\n",
    "1. 定义函数parse_review(line)解析一行评价数据\n",
    "2. 定义函数analyze_reviews(filename)分析商品评价情况\n",
    "3. 将分析结果写入\"review_stats.txt\"，包含每个商品的平均评分、评价次数和好评率(4分及以上为好评)"
   ]
  },
  {
   "cell_type": "code",
   "execution_count": 1,
   "id": "c594ad58-862b-4195-b1ff-804498a4578c",
   "metadata": {
    "execution": {
     "iopub.execute_input": "2024-12-08T07:01:04.066209Z",
     "iopub.status.busy": "2024-12-08T07:01:04.065896Z",
     "iopub.status.idle": "2024-12-08T07:01:04.079267Z",
     "shell.execute_reply": "2024-12-08T07:01:04.078854Z",
     "shell.execute_reply.started": "2024-12-08T07:01:04.066193Z"
    }
   },
   "outputs": [],
   "source": [
    "# 创建示例数据\n",
    "sample_data = \"\"\"P001\tU1234\t4\t2023-12-01\t商品质量不错，发货速度快\n",
    "P002\tU2345\t2\t2023-12-01\t商品与描述不符，物流太慢\n",
    "P001\tU3456\t5\t2023-12-02\t非常满意，客服态度很好\n",
    "P003\tU1234\t3\t2023-12-02\t一般，符合价位\"\"\"\n",
    "\n",
    "# 创建示例数据文件\n",
    "with open('reviews.txt', 'w', encoding='utf-8') as f:\n",
    "    f.write(sample_data)"
   ]
  },
  {
   "cell_type": "code",
   "execution_count": 2,
   "id": "63aa10e7-e59c-43b8-bc85-7dca9694a641",
   "metadata": {
    "ExecutionIndicator": {
     "show": true
    },
    "execution": {
     "iopub.execute_input": "2024-12-08T07:01:04.080330Z",
     "iopub.status.busy": "2024-12-08T07:01:04.080008Z",
     "iopub.status.idle": "2024-12-08T07:01:04.082197Z",
     "shell.execute_reply": "2024-12-08T07:01:04.081801Z",
     "shell.execute_reply.started": "2024-12-08T07:01:04.080316Z"
    },
    "tags": []
   },
   "outputs": [],
   "source": [
    "# 请在下面书写你的答案"
   ]
  },
  {
   "cell_type": "markdown",
   "id": "00e13b99-60a3-4d61-88a2-74a4a031254d",
   "metadata": {},
   "source": [
    "#### **题目2**\n",
    "\n",
    "某旅游网站的酒店预订记录文件`bookings.txt`，每行记录一笔预订，格式为：订单号 酒店名称 客房类型 入住天数 每晚价格（以制表符分隔）。请编写程序分析预订数据，计算各酒店的预订情况。\n",
    "\n",
    "示例输入文件`bookings.txt`内容：\n",
    "```\n",
    "B001    皇冠酒店    标准间    2    488.0\n",
    "B002    海景酒店    豪华间    3    888.0\n",
    "B003    皇冠酒店    豪华间    1    688.0\n",
    "B004    海景酒店    标准间    2    588.0\n",
    "```\n",
    "\n",
    "示例输出文件`booking_stats.txt`内容：\n",
    "```\n",
    "酒店预订统计报告\n",
    "--------------------------\n",
    "\n",
    "酒店：皇冠酒店\n",
    "预订总数：2\n",
    "房晚总数：3\n",
    "营业总额：1664.00元\n",
    "平均每晚价格：554.67元\n",
    "\n",
    "酒店：海景酒店\n",
    "预订总数：2\n",
    "房晚总数：5\n",
    "营业总额：3840.00元\n",
    "平均每晚价格：768.00元\n",
    "```"
   ]
  },
  {
   "cell_type": "code",
   "execution_count": 3,
   "id": "288a8925-7b93-49f6-99ab-771e22fe1c93",
   "metadata": {
    "ExecutionIndicator": {
     "show": true
    },
    "execution": {
     "iopub.execute_input": "2024-12-08T07:01:04.082878Z",
     "iopub.status.busy": "2024-12-08T07:01:04.082671Z",
     "iopub.status.idle": "2024-12-08T07:01:04.095232Z",
     "shell.execute_reply": "2024-12-08T07:01:04.094818Z",
     "shell.execute_reply.started": "2024-12-08T07:01:04.082859Z"
    },
    "tags": []
   },
   "outputs": [],
   "source": [
    "# 创建示例数据\n",
    "sample_data = \"\"\"B001\t皇冠酒店\t标准间\t2\t488.0\n",
    "B002\t海景酒店\t豪华间\t3\t888.0\n",
    "B003\t皇冠酒店\t豪华间\t1\t688.0\n",
    "B004\t海景酒店\t标准间\t2\t588.0\"\"\"\n",
    "\n",
    "# 创建示例数据文件\n",
    "with open('bookings.txt', 'w', encoding='utf-8') as f:\n",
    "    f.write(sample_data)"
   ]
  },
  {
   "cell_type": "code",
   "execution_count": 4,
   "id": "1dfe51a7-1a42-48d0-9ea9-12143175bb66",
   "metadata": {
    "ExecutionIndicator": {
     "show": true
    },
    "execution": {
     "iopub.execute_input": "2024-12-08T07:01:04.095932Z",
     "iopub.status.busy": "2024-12-08T07:01:04.095672Z",
     "iopub.status.idle": "2024-12-08T07:01:04.097763Z",
     "shell.execute_reply": "2024-12-08T07:01:04.097350Z",
     "shell.execute_reply.started": "2024-12-08T07:01:04.095913Z"
    },
    "tags": []
   },
   "outputs": [],
   "source": [
    "# 请在下面书写你的答案"
   ]
  },
  {
   "cell_type": "markdown",
   "id": "12eb8714-6704-4446-b2ab-0ef49eeee6f9",
   "metadata": {},
   "source": [
    "#### **题目3**\n",
    "\n",
    "**本题目所需的两个文件请从课程网站下载；**\n",
    "\n",
    "两个输入文件内容说明如下：\n",
    "\n",
    "- `账面.txt`，包含三列：日期、凭证号、金额（每列之间用水平制表符`\\t`分割）\n",
    "\n",
    "- `流水.txt`，包含三列：日期、凭证号、金额（每列之间用水平制表符`\\t`分割）\n",
    "\n",
    "\n",
    "\n",
    "**要求**：以**年份-月份-记账凭证号**为**计算依据**和**匹配依据**编写Python程序实现以下四个需求：\n",
    "\n",
    "1. 计算`账面.txt`中每个**年份-月份-记账凭证号**对应的总金额；\n",
    "\n",
    "   - 例如，**2022-09-记-648**在`账面.txt`中对应的总金额为1700.0（多笔金额之和）；\n",
    "\n",
    "2. 计算`流水.txt`中每个**年份-月份-记账凭证号**对应的总金额；\n",
    "\n",
    "   - 例如，**2022-09-记-648**在`流水.txt`中对应的总金额为2310.0（多笔金额之和）；\n",
    "\n",
    "3. 匹配：以`账面.txt`为标准，找出`流水.txt`中缺失的**年份-月份-记账凭证号**；\n",
    "\n",
    "   - 例如，**2022-01-记-85**在`账面.txt`中存在记录，在`流水.txt`中不存在记录；\n",
    "\n",
    "4. 匹配：以`账面.txt`为标准，找出`流水.txt`中总金额与`账面.txt`不匹配的**年份-月份-记账凭证号**；\n",
    "\n",
    "   - 例如，**2022-09-记-648**在`账面.txt`中对应的总金额为1700.0, 在`流水.txt`中对应的总金额为2310.0；\n",
    "   \n",
    "**示例输出如下**：\n",
    "\n",
    "```\n",
    "缺失: 2022-01-记-86\n",
    "缺失: 2022-01-记-85\n",
    "不匹配: 2022-09-记-648, 账面-1700, 流水-2310\n",
    "不匹配: 2022-03-记-280, 账面-4642, 流水-13926\n",
    "```"
   ]
  },
  {
   "cell_type": "code",
   "execution_count": 5,
   "id": "d29194a9-88d8-40fa-a853-b97c6837a100",
   "metadata": {
    "execution": {
     "iopub.execute_input": "2024-12-08T07:01:04.098784Z",
     "iopub.status.busy": "2024-12-08T07:01:04.098545Z",
     "iopub.status.idle": "2024-12-08T07:01:04.100603Z",
     "shell.execute_reply": "2024-12-08T07:01:04.100211Z",
     "shell.execute_reply.started": "2024-12-08T07:01:04.098770Z"
    },
    "tags": []
   },
   "outputs": [],
   "source": [
    "# 请在下面书写你的答案"
   ]
  }
 ],
 "metadata": {
  "kernelspec": {
   "display_name": "Python 3 (ipykernel)",
   "language": "python",
   "name": "python3"
  },
  "language_info": {
   "codemirror_mode": {
    "name": "ipython",
    "version": 3
   },
   "file_extension": ".py",
   "mimetype": "text/x-python",
   "name": "python",
   "nbconvert_exporter": "python",
   "pygments_lexer": "ipython3",
   "version": "3.10.14"
  }
 },
 "nbformat": 4,
 "nbformat_minor": 5
}
