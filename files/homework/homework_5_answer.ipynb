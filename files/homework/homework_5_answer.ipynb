{
 "cells": [
  {
   "cell_type": "markdown",
   "id": "d19fe9b5-92e6-4e1b-8abf-00246f701740",
   "metadata": {},
   "source": [
    "### **题目背景知识**"
   ]
  },
  {
   "cell_type": "markdown",
   "id": "e092d93f-c17d-4e14-9102-43c226a77ef7",
   "metadata": {},
   "source": [
    "<div align=center>\n",
    "<img width=\"350\" height=\"350\" src=\"https://image.woshipm.com/wp-files/2016/06/210e4e315fcdcb405aae62ee466dfa4e_r-1.png\">\n",
    "<br>\n",
    "<center><strong>身份证样例</strong></center>\n",
    "</div>"
   ]
  },
  {
   "cell_type": "markdown",
   "id": "b6336831-217a-4b8a-b9f0-142724957d3f",
   "metadata": {},
   "source": [
    "公民身份号码包含十八位数字，由前十七位数字本体码和最后一位数字校验码组成。排列顺序从左至右依次为：\n",
    "\n",
    "- 六位数字地址码，前两位表示省份，中间两位表示地级市，最后两位表示区或县级市，如，330102表示浙江省(33)杭州市(01)上城区(02)；\n",
    "- 八位数字出生日期码，如，20020803表示出生年月日；\n",
    "- 三位数字顺序码，表示在同一地址码所标识的区域范围内，对同年、同月、同日出生的人编定的顺序号，顺序码的奇数分配给男性，偶数分配给女性，如，476对应女性；\n",
    "- 一位数字校验码，使用前17位数字，按照下面方式计算校验码；"
   ]
  },
  {
   "cell_type": "markdown",
   "id": "2a22431b-a378-4b79-8353-f41e90b7cef2",
   "metadata": {},
   "source": [
    "按照国标GB11643-1999的规定，中华人民共和国公民身份号码校验码的计算方法为**ISO 7064:1983.MOD 11-2校验码计算法**，计算示例如下：\n",
    "\n",
    "假设某一17位数字是"
   ]
  },
  {
   "cell_type": "markdown",
   "id": "f5109209-b04c-4ed0-bd75-a5c513259994",
   "metadata": {},
   "source": [
    "<table class=\"wikitable\">\n",
    "<tbody><tr>\n",
    "<td><b>17位数字</b></td>\n",
    "<td>1</td>\n",
    "<td>2</td>\n",
    "<td>3</td>\n",
    "<td>4</td>\n",
    "<td>5</td>\n",
    "<td>6</td>\n",
    "<td>7</td>\n",
    "<td>8</td>\n",
    "<td>9</td>\n",
    "<td>0</td>\n",
    "<td>1</td>\n",
    "<td>2</td>\n",
    "<td>3</td>\n",
    "<td>4</td>\n",
    "<td>5</td>\n",
    "<td>6</td>\n",
    "<td>7\n",
    "</td></tr>\n",
    "<tr>\n",
    "<td><b>每个位置的加权因子</b></td>\n",
    "<td>7</td>\n",
    "<td>9</td>\n",
    "<td>10</td>\n",
    "<td>5</td>\n",
    "<td>8</td>\n",
    "<td>4</td>\n",
    "<td>2</td>\n",
    "<td>1</td>\n",
    "<td>6</td>\n",
    "<td>3</td>\n",
    "<td>7</td>\n",
    "<td>9</td>\n",
    "<td>10</td>\n",
    "<td>5</td>\n",
    "<td>8</td>\n",
    "<td>4</td>\n",
    "<td>2\n",
    "</td></tr></tbody></table>"
   ]
  },
  {
   "cell_type": "markdown",
   "id": "567bc9c0-2523-4634-9f18-f6e4d9c97476",
   "metadata": {},
   "source": [
    "(1) 计算17位数字各位数字与对应的加权因子的乘积和$S$："
   ]
  },
  {
   "cell_type": "markdown",
   "id": "34c50e5a-dfdc-485c-9cdd-8a00c1ddc586",
   "metadata": {},
   "source": [
    "$S = 1\\times 7+ 2\\times 9 + ... + 7\\times 2 = 368$"
   ]
  },
  {
   "cell_type": "markdown",
   "id": "ec16787a-85a8-4e59-a336-aa88b9cdc90b",
   "metadata": {},
   "source": [
    "(2) 计算$\\frac{S}{11}$的余数$T$："
   ]
  },
  {
   "cell_type": "markdown",
   "id": "e0690880-9709-4dff-806b-df6bcf7c245c",
   "metadata": {},
   "source": [
    "$T = 368\\ \\%\\ 11 = 5$"
   ]
  },
  {
   "cell_type": "markdown",
   "id": "088f11fd-99ad-41c6-9eca-3fe40b245814",
   "metadata": {},
   "source": [
    "(3) 计算$\\frac{12-T}{11}$的余数$R$，如果$R=10$，校验码为大写字母$X$；如果$R\\ne10$，校验码为数字$R$。"
   ]
  },
  {
   "cell_type": "markdown",
   "id": "5c0ca253-2c56-4058-b9b1-1c51f3ad002f",
   "metadata": {},
   "source": [
    "$R = (12-5)\\ \\%\\ 11 = 7$"
   ]
  },
  {
   "cell_type": "markdown",
   "id": "2c9b0fb6-f4c6-4fdb-9736-aca8e0d517b5",
   "metadata": {},
   "source": [
    "该17位数字的校验码就是7，聚合在一为12345678901234567**7**"
   ]
  },
  {
   "cell_type": "markdown",
   "id": "b8566d7e-c950-4514-92a0-7c440133cf0d",
   "metadata": {
    "tags": []
   },
   "source": [
    "### **题目要求**:\n",
    "\n",
    "1. 接收键盘输入的身份证号；\n",
    "\n",
    "2. 校验身份证号是否合法：\n",
    "\n",
    "   - 出生年份合法范围为1900-2022；\n",
    "   - 地址码合法范围，请参考《2020年11月中华人民共和国县以上行政区划代码》，https://www.mca.gov.cn/mzsj/xzqh/2020/20201201.html ；\n",
    "\n",
    "\n",
    "\n",
    "3. 如果合法，请根据合法的身份证号信息输出以下信息：\n",
    "\n",
    "   - 地址，必须包含省-市-区或县三级行政区划，直辖市除外，如，浙江省杭州市上城区，北京市西城区；\n",
    "   - 年龄，周岁年龄，婴儿出生时记为零岁，以后每过一个公历的生日，周岁便增加一岁，生日当天周岁不增加，假定程序执行当天为2022年10月25日；\n",
    "   - 性别；\n",
    "   - 星座，星座日期表如下图：\n",
    "  \n",
    "     <div align=center>\n",
    "    <img width=\"550\" height=\"350\" src=\"https://raw.githubusercontent.com/zhangjianzhang/programming_basics/master/files/codes/imgs/xingzuo.jpg\">\n",
    "    <br>\n",
    "    <center><strong>星座日期表</strong></center>\n",
    "    </div>"
   ]
  },
  {
   "cell_type": "code",
   "execution_count": 1,
   "id": "3ec7d1ce-6f93-4238-a39c-ae107029f2d8",
   "metadata": {},
   "outputs": [],
   "source": [
    "# 指定windows平台下Python运行时的默认编码类型为UTF-8\n",
    "import _locale\n",
    "_locale._getdefaultlocale = (lambda *args: ['zh_CN', 'utf8'])"
   ]
  },
  {
   "cell_type": "code",
   "execution_count": 2,
   "id": "0439e6f3-da49-464f-ba79-343b716bf6d6",
   "metadata": {},
   "outputs": [],
   "source": [
    "with open('./area_dict.json') as f:\n",
    "    area_dict = eval(f.read())"
   ]
  },
  {
   "cell_type": "markdown",
   "id": "3e9ba957-c090-4a02-ada2-60bae312ea57",
   "metadata": {},
   "source": [
    "变量`area_dict`是一个字典，保存了《2020年11月中华人民共和国县以上行政区划代码》，其中key是行政区划代码，value是行政区划名。"
   ]
  },
  {
   "cell_type": "code",
   "execution_count": 3,
   "id": "0fecd063-bfba-4c0a-8911-7c96936fdd30",
   "metadata": {},
   "outputs": [],
   "source": [
    "def verify_char_length(ids):\n",
    "    if len(ids) != 18:\n",
    "        return False\n",
    "    if not ids[:-1].isdigit():\n",
    "        return False\n",
    "    if ids[-1] not in '0123456789X':\n",
    "        return False\n",
    "    return True"
   ]
  },
  {
   "cell_type": "code",
   "execution_count": 4,
   "id": "d4f5b9bf-8175-4945-81fc-afffa7be1624",
   "metadata": {},
   "outputs": [],
   "source": [
    "def verify_last_num(ids):\n",
    "    ids_17 = ids[:-1]\n",
    "    weights = [7, 9, 10, 5, 8, 4, 2, 1, 6, 3, 7, 9, 10, 5, 8, 4, 2]\n",
    "    S = sum([int(num)*weight for num,weight in zip(list(ids_17),weights)])\n",
    "    T = S % 11\n",
    "    R = (12 - T) % 11\n",
    "    if R == 10:\n",
    "        last_num = 'X'\n",
    "    else:\n",
    "        last_num = R\n",
    "    if ids[-1] == str(last_num):\n",
    "        return True\n",
    "    else:\n",
    "        return False"
   ]
  },
  {
   "cell_type": "code",
   "execution_count": 5,
   "id": "cbde3db3-e6c1-474a-b5b9-5162b736f771",
   "metadata": {},
   "outputs": [],
   "source": [
    "def verify_area(ids):\n",
    "    import _locale\n",
    "    _locale._getdefaultlocale = (lambda *args: ['zh_CN', 'utf8'])\n",
    "    with open('./area_dict.json') as f:\n",
    "        area_dict = eval(f.read())\n",
    "    if ids[:6] not in area_dict.keys():\n",
    "        return False\n",
    "    else:\n",
    "        return True"
   ]
  },
  {
   "cell_type": "code",
   "execution_count": 6,
   "id": "04151d28-ebbe-4f3a-9a76-1bf476ae323e",
   "metadata": {},
   "outputs": [],
   "source": [
    "def is_leap_year(year):\n",
    "    if (year % 4 == 0 and year % 100 != 0) or (year % 400 == 0):\n",
    "        return True\n",
    "    else:\n",
    "        return False"
   ]
  },
  {
   "cell_type": "code",
   "execution_count": 7,
   "id": "33384d6f-7fe7-431c-9537-7692473d5f4d",
   "metadata": {},
   "outputs": [],
   "source": [
    "def verify_date(ids):\n",
    "    year = int(ids[6:10])\n",
    "    if year > 2022 or year < 1900:\n",
    "        return False\n",
    "    month = int(ids[10:12])\n",
    "    if month > 12 or month < 1:\n",
    "        return False\n",
    "    day = int(ids[12:14])\n",
    "    if month in [1,3,5,7,8,10,12]:\n",
    "        if day > 31 or day < 1:\n",
    "            return False\n",
    "    elif month in [4,6,9,11]:\n",
    "        if day > 30 or day < 1:\n",
    "            return False\n",
    "    else:\n",
    "        if is_leap_year(year):\n",
    "            if day > 29 or day < 1:\n",
    "                return False\n",
    "        else:\n",
    "            if day > 28 or day < 1:\n",
    "                return False\n",
    "    return True"
   ]
  },
  {
   "cell_type": "code",
   "execution_count": 8,
   "id": "876353ec-51cb-4962-b107-1d0ba5a88cf7",
   "metadata": {},
   "outputs": [],
   "source": [
    "def verify_id(ids):\n",
    "    if verify_char_length(ids):\n",
    "        if all([verify_last_num(ids),verify_area(ids),verify_date(ids)]):\n",
    "            print(\"VALID\")\n",
    "            return True\n",
    "        else:\n",
    "            print(\"INVALID\")\n",
    "            return False\n",
    "    else:\n",
    "        print(\"INVALID\")\n",
    "        return False"
   ]
  },
  {
   "cell_type": "code",
   "execution_count": 9,
   "id": "eaebbe28-fb7b-4cb7-a8ab-f03e8a449a10",
   "metadata": {},
   "outputs": [],
   "source": [
    "def full_area(ids):\n",
    "    num = ids[:6]\n",
    "    sheng = ''\n",
    "    shi = ''\n",
    "    xian = ''\n",
    "    # 34个省级行政区\n",
    "    if num[:2] + '0000' in area_dict.keys():\n",
    "        sheng = area_dict[num[:2] + '0000'].strip()\n",
    "    # 某些省级行政区没有下级地级市编码，如澳门特别行政区\n",
    "    if num[:4] + '00' in area_dict.keys():\n",
    "        if num != num[:2] + '0000':\n",
    "            shi = area_dict[num[:4] + '00'].strip()\n",
    "    # 某些地级市没有下级县(区)编码，如中山市，东莞市\n",
    "    if num != num[:4] + '00':\n",
    "        xian = area_dict[num].strip()\n",
    "\n",
    "    area = sheng + shi + xian\n",
    "    \n",
    "    return area"
   ]
  },
  {
   "cell_type": "code",
   "execution_count": 10,
   "id": "c7a410dd-c5d8-4a9e-8dc4-2bf106c7dbe3",
   "metadata": {},
   "outputs": [],
   "source": [
    "def cal_age(ids):\n",
    "    year = 2022\n",
    "    month = 10\n",
    "    day = 25\n",
    "    birth_year = int(ids[6:10])\n",
    "    birth_month = int(ids[10:12])\n",
    "    birth_day = int(ids[12:14])\n",
    "    age = year - birth_year\n",
    "    if birth_month > month:\n",
    "        age = age - 1\n",
    "    elif birth_month < month:\n",
    "        pass\n",
    "    else:\n",
    "        if birth_day <= day:\n",
    "            age = age - 1\n",
    "    return age"
   ]
  },
  {
   "cell_type": "code",
   "execution_count": 11,
   "id": "4b614ea2-fbc4-48ab-8152-b5bc06e2d0f4",
   "metadata": {},
   "outputs": [],
   "source": [
    "def get_gender(ids):\n",
    "    num = int(ids[-4:-1])\n",
    "    if num % 2 == 1:\n",
    "        return '男'\n",
    "    else:\n",
    "        return '女'"
   ]
  },
  {
   "cell_type": "code",
   "execution_count": 12,
   "id": "d794dfe9-a480-4774-bfd1-833c66aa8898",
   "metadata": {},
   "outputs": [],
   "source": [
    "def get_constellation(ids):\n",
    "    month = int(ids[10:12])\n",
    "    day = int(ids[12:14])\n",
    "    if month == 12:\n",
    "        astro_sign = '射手' if (day < 22) else '摩羯'\n",
    "    elif month == 1:\n",
    "        astro_sign = '摩羯' if (day < 20) else '水瓶'\n",
    "    elif month == 2:\n",
    "        astro_sign = '水瓶' if (day < 19) else '双鱼'\n",
    "    elif month == 3:\n",
    "        astro_sign = '双鱼' if (day < 21) else '白羊'\n",
    "    elif month == 4:\n",
    "        astro_sign = '白羊' if (day < 20) else '金牛'\n",
    "    elif month == 5:\n",
    "        astro_sign = '金牛' if (day < 21) else '双子'\n",
    "    elif month == 6:\n",
    "        astro_sign = '双子' if (day < 21) else '巨蟹'\n",
    "    elif month == 7:\n",
    "        astro_sign = '巨蟹' if (day < 23) else '狮子'\n",
    "    elif month == 8:\n",
    "        astro_sign = '狮子' if (day < 23) else '处女'\n",
    "    elif month == 9:\n",
    "        astro_sign = '处女' if (day < 23) else '天秤'\n",
    "    elif month == 10:\n",
    "        astro_sign = '天秤' if (day < 23) else '天蝎'\n",
    "    elif month == 11:\n",
    "        astro_sign = '天蝎' if (day < 22) else '射手'\n",
    "    return astro_sign"
   ]
  },
  {
   "cell_type": "code",
   "execution_count": 13,
   "id": "e8e289ea-0d08-460c-ae37-9a1453e25dd7",
   "metadata": {},
   "outputs": [],
   "source": [
    "def getinfo(ids):\n",
    "    area = full_area(ids)\n",
    "    age = cal_age(ids)\n",
    "    gender = get_gender(ids)\n",
    "    astro = get_constellation(ids)\n",
    "    print(\"性别: {}\\n年龄: {}\\n星座: {}\\n地址: {}\".format(gender, age, astro, area))"
   ]
  },
  {
   "cell_type": "code",
   "execution_count": 14,
   "id": "8d0253d7-5df2-4830-923f-62d6aadfe086",
   "metadata": {},
   "outputs": [],
   "source": [
    "def main(ids):\n",
    "    flag = verify_id(ids)\n",
    "    if flag:\n",
    "        getinfo(ids)"
   ]
  },
  {
   "cell_type": "code",
   "execution_count": 15,
   "id": "b8161824-aff7-4ae9-801d-ad51a4cca086",
   "metadata": {},
   "outputs": [
    {
     "name": "stdout",
     "output_type": "stream",
     "text": [
      "VALID\n",
      "性别: 女\n",
      "年龄: 20\n",
      "星座: 水瓶\n",
      "地址: 浙江省宁波市慈溪市\n",
      "VALID\n",
      "性别: 男\n",
      "年龄: 20\n",
      "星座: 射手\n",
      "地址: 湖南省株洲市天元区\n",
      "INVALID\n",
      "INVALID\n"
     ]
    }
   ],
   "source": [
    "# https://www.dute.org/fake-id-card-number\n",
    "# https://www.zuhedaikuan.com/date/nianling.aspx\n",
    "ids1 = '33028220020218410X'\n",
    "ids2 = '430211200112011537'\n",
    "ids3 = '930211200112011537'\n",
    "ids4 = '123'\n",
    "main(ids1)\n",
    "main(ids2)\n",
    "main(ids3)\n",
    "main(ids4)"
   ]
  },
  {
   "cell_type": "code",
   "execution_count": null,
   "id": "d6ea1767-d6fc-4f01-866f-83f847486397",
   "metadata": {},
   "outputs": [],
   "source": []
  }
 ],
 "metadata": {
  "kernelspec": {
   "display_name": "Python 3 (ipykernel)",
   "language": "python",
   "name": "python3"
  },
  "language_info": {
   "codemirror_mode": {
    "name": "ipython",
    "version": 3
   },
   "file_extension": ".py",
   "mimetype": "text/x-python",
   "name": "python",
   "nbconvert_exporter": "python",
   "pygments_lexer": "ipython3",
   "version": "3.9.7"
  }
 },
 "nbformat": 4,
 "nbformat_minor": 5
}
