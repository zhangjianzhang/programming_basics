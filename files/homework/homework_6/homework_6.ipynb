{
 "cells": [
  {
   "cell_type": "markdown",
   "id": "de2307c8-7ae8-4fc4-92c0-fe08942c4894",
   "metadata": {},
   "source": [
    "## <center>**编写Python代码进行对账**</center>"
   ]
  },
  {
   "cell_type": "markdown",
   "id": "4d3a8e8f-0e9e-4dcd-981a-df1c5ee45044",
   "metadata": {},
   "source": [
    "### **题目背景知识**"
   ]
  },
  {
   "cell_type": "markdown",
   "id": "9007c33d-6d48-4905-aed2-8cb6b164c333",
   "metadata": {},
   "source": [
    "该文件夹下存在两个文件\n",
    "\n",
    "- `账面.txt`，包含三列：日期、凭证号、金额\n",
    "\n",
    "- `流水.txt`，包含三列：日期、凭证号、金额"
   ]
  },
  {
   "cell_type": "markdown",
   "id": "765fd38c-1fea-4c73-8cb7-d828fb7bdebf",
   "metadata": {},
   "source": [
    "下载并解压`homework_6.zip`压缩文件包，解压后包含两个文本文件`流水.txt`和`账面.txt`。在jupyter-lab中打开`homework_6.ipynb`查看作业具体要求，并在其中完成作业后提交该文件。"
   ]
  },
  {
   "cell_type": "markdown",
   "id": "9f8f318b-66e9-4ebd-890d-866dc7e2ce9d",
   "metadata": {},
   "source": [
    "### **题目要求**"
   ]
  },
  {
   "cell_type": "markdown",
   "id": "623f8ecd-6d15-4ad3-a34e-85421cb2b573",
   "metadata": {},
   "source": [
    "对`账面.txt`和`流水.txt`两份财务报表进行账目匹配：\n",
    "\n",
    "- 以**年份-月份-记账凭证号**为匹配标准；\n",
    "\n",
    "- 计算`账面.txt`中每个月份的每张凭证号对应的总金额；\n",
    "\n",
    "- 计算`流水.txt`中每个月份的每张凭证号对应的总金额；\n",
    "\n",
    "- 以`账面.txt`为标准，找出`流水.txt`中缺失的凭证号；\n",
    "\n",
    "- 以`账面.txt`为标准，找出`流水.txt`中金额不匹配的凭证号；"
   ]
  },
  {
   "cell_type": "markdown",
   "id": "9c1733b2-ce33-4e6a-b052-e39b95735348",
   "metadata": {},
   "source": [
    "### 结果输出示例"
   ]
  },
  {
   "cell_type": "markdown",
   "id": "3a1921f8-a7a1-4898-88a7-9c3fcc798df5",
   "metadata": {},
   "source": [
    "```\n",
    "缺失: 2022-01-记-86\n",
    "缺失: 2022-01-记-85\n",
    "不匹配: 2022-09-记-648, 账面-1700, 流水-2310\n",
    "不匹配: 2022-03-记-280, 账面-4642, 流水-13926\n",
    "```"
   ]
  },
  {
   "cell_type": "markdown",
   "id": "16321c6f-f7b6-4803-a3b5-502a1b8b3034",
   "metadata": {},
   "source": [
    "**提示**：文本文件内容解析参见第六讲课件`6-Files.pdf`19页的示例。"
   ]
  },
  {
   "cell_type": "markdown",
   "id": "57e7438f-cf1a-4cbf-981b-8c6bca4d2606",
   "metadata": {
    "tags": []
   },
   "source": [
    "### **题目作答区**"
   ]
  },
  {
   "cell_type": "markdown",
   "id": "2970ff7d-ae1b-4ab4-be35-364a20f17536",
   "metadata": {},
   "source": [
    "<b><font color=red>注意</font></b>：请先运行题干代码，然后在下面写你的答案。"
   ]
  },
  {
   "cell_type": "code",
   "execution_count": 1,
   "id": "643b9c08-c048-4b06-8f2b-3da589d7dd7b",
   "metadata": {},
   "outputs": [],
   "source": [
    "# 请在下面继续写你的代码"
   ]
  }
 ],
 "metadata": {
  "kernelspec": {
   "display_name": "Python 3 (ipykernel)",
   "language": "python",
   "name": "python3"
  },
  "language_info": {
   "codemirror_mode": {
    "name": "ipython",
    "version": 3
   },
   "file_extension": ".py",
   "mimetype": "text/x-python",
   "name": "python",
   "nbconvert_exporter": "python",
   "pygments_lexer": "ipython3",
   "version": "3.9.7"
  }
 },
 "nbformat": 4,
 "nbformat_minor": 5
}
