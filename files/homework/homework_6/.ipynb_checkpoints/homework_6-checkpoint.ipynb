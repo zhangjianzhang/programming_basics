{
 "cells": [
  {
   "cell_type": "markdown",
   "id": "de2307c8-7ae8-4fc4-92c0-fe08942c4894",
   "metadata": {},
   "source": [
    "## <center>编写Python代码进行对账</center>"
   ]
  },
  {
   "cell_type": "markdown",
   "id": "4d3a8e8f-0e9e-4dcd-981a-df1c5ee45044",
   "metadata": {},
   "source": [
    "### 题目说明"
   ]
  },
  {
   "cell_type": "markdown",
   "id": "9007c33d-6d48-4905-aed2-8cb6b164c333",
   "metadata": {},
   "source": [
    "该文件夹下存在两个文件\n",
    "\n",
    "- `账面.xlsx`，包含三列：日期、凭证号、金额\n",
    "\n",
    "- `流水.xlsx`，包含三列：日期、凭证号、金额"
   ]
  },
  {
   "cell_type": "markdown",
   "id": "9f8f318b-66e9-4ebd-890d-866dc7e2ce9d",
   "metadata": {},
   "source": [
    "### 题目要求"
   ]
  },
  {
   "cell_type": "markdown",
   "id": "623f8ecd-6d15-4ad3-a34e-85421cb2b573",
   "metadata": {},
   "source": [
    "请参考下面读取xlsx文件的代码，然后对两张excel表格进行账目匹配：\n",
    "\n",
    "- 以**年份-月份-记账凭证号**为匹配标准；\n",
    "\n",
    "- 计算`账面.xlsx`中每个月份的每张凭证号对应的总金额；\n",
    "\n",
    "- 计算`流水.xlsx`中每个月份的每张凭证号对应的总金额；\n",
    "\n",
    "- 以`账面.xlsx`为标准，找出`流水.xlsx`中缺失的凭证号；\n",
    "\n",
    "- 以`账面.xlsx`为标准，找出`流水.xlsx`中金额不匹配的凭证号；"
   ]
  },
  {
   "cell_type": "markdown",
   "id": "9c1733b2-ce33-4e6a-b052-e39b95735348",
   "metadata": {},
   "source": [
    "### 结果输出示例"
   ]
  },
  {
   "cell_type": "markdown",
   "id": "3a1921f8-a7a1-4898-88a7-9c3fcc798df5",
   "metadata": {},
   "source": [
    "```\n",
    "缺失: 2022-01-记-86\n",
    "缺失: 2022-01-记-85\n",
    "不匹配: 2022-09-记-648, 账面-1700, 流水-2310\n",
    "不匹配: 2022-03-记-280, 账面-4642, 流水-13926\n",
    "```"
   ]
  },
  {
   "cell_type": "markdown",
   "id": "cd0c4a7b-f060-40ca-8849-815eab2733d2",
   "metadata": {},
   "source": [
    "<font size=2 style=\"color:#FF0000\">**注意：请先参考课件，安装`utils`包，再运行下面代码**</font>"
   ]
  },
  {
   "cell_type": "code",
   "execution_count": 1,
   "id": "3c537a75-b4dd-46c2-95b5-e6c1709958da",
   "metadata": {},
   "outputs": [],
   "source": [
    "# 指定windows平台下Python运行时的默认编码类型为UTF-8\n",
    "import _locale\n",
    "_locale._getdefaultlocale = (lambda *args: ['zh_CN', 'utf8'])"
   ]
  },
  {
   "cell_type": "code",
   "execution_count": 2,
   "id": "47b09e25-0ff3-4198-a8c6-ffe6b3a06757",
   "metadata": {},
   "outputs": [],
   "source": [
    "from utils.fileUtils import *"
   ]
  },
  {
   "cell_type": "code",
   "execution_count": 3,
   "id": "2a699991-1783-4898-9e9f-83152378fafb",
   "metadata": {},
   "outputs": [],
   "source": [
    "lines1 = readExcelToList('./账面.xlsx')"
   ]
  },
  {
   "cell_type": "code",
   "execution_count": 4,
   "id": "cc5f9cbc-0616-468c-b816-09923e1bc003",
   "metadata": {},
   "outputs": [
    {
     "data": {
      "text/plain": [
       "240"
      ]
     },
     "execution_count": 4,
     "metadata": {},
     "output_type": "execute_result"
    }
   ],
   "source": [
    "len(lines1)"
   ]
  },
  {
   "cell_type": "code",
   "execution_count": 5,
   "id": "20c7452e-1f20-4260-9065-6dc375b98244",
   "metadata": {},
   "outputs": [
    {
     "data": {
      "text/plain": [
       "[['日期', '凭证号', '金额'],\n",
       " ['2022-01-21', '记-83', 9980],\n",
       " ['2022-01-28', '记-161', 9990]]"
      ]
     },
     "execution_count": 5,
     "metadata": {},
     "output_type": "execute_result"
    }
   ],
   "source": [
    "lines1[:3]"
   ]
  },
  {
   "cell_type": "code",
   "execution_count": null,
   "id": "643b9c08-c048-4b06-8f2b-3da589d7dd7b",
   "metadata": {},
   "outputs": [],
   "source": [
    "# 请在下面继续写你的代码"
   ]
  },
  {
   "cell_type": "code",
   "execution_count": null,
   "id": "984ec77c-1375-4667-b146-7da684a2a416",
   "metadata": {},
   "outputs": [],
   "source": []
  },
  {
   "cell_type": "code",
   "execution_count": null,
   "id": "1680e724-b85a-4183-a93b-131773e429db",
   "metadata": {},
   "outputs": [],
   "source": []
  },
  {
   "cell_type": "code",
   "execution_count": null,
   "id": "4adb0eae-3639-4bab-a035-f3c72cd90bed",
   "metadata": {},
   "outputs": [],
   "source": []
  }
 ],
 "metadata": {
  "kernelspec": {
   "display_name": "Python 3 (ipykernel)",
   "language": "python",
   "name": "python3"
  },
  "language_info": {
   "codemirror_mode": {
    "name": "ipython",
    "version": 3
   },
   "file_extension": ".py",
   "mimetype": "text/x-python",
   "name": "python",
   "nbconvert_exporter": "python",
   "pygments_lexer": "ipython3",
   "version": "3.9.7"
  }
 },
 "nbformat": 4,
 "nbformat_minor": 5
}
