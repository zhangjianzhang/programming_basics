{
 "cells": [
  {
   "cell_type": "markdown",
   "id": "de2307c8-7ae8-4fc4-92c0-fe08942c4894",
   "metadata": {},
   "source": [
    "## <center>编写Python代码进行对账</center>"
   ]
  },
  {
   "cell_type": "markdown",
   "id": "4d3a8e8f-0e9e-4dcd-981a-df1c5ee45044",
   "metadata": {},
   "source": [
    "### 题目说明"
   ]
  },
  {
   "cell_type": "markdown",
   "id": "9007c33d-6d48-4905-aed2-8cb6b164c333",
   "metadata": {},
   "source": [
    "该文件夹下存在两个文件\n",
    "\n",
    "- `账面.xlsx`，包含三列：日期、凭证号、金额\n",
    "\n",
    "- `流水.xlsx`，包含三列：日期、凭证号、金额"
   ]
  },
  {
   "cell_type": "markdown",
   "id": "9f8f318b-66e9-4ebd-890d-866dc7e2ce9d",
   "metadata": {},
   "source": [
    "### 题目要求"
   ]
  },
  {
   "cell_type": "markdown",
   "id": "623f8ecd-6d15-4ad3-a34e-85421cb2b573",
   "metadata": {},
   "source": [
    "请参考下面读取xlsx文件的代码，然后对两张excel表格进行账目匹配：\n",
    "\n",
    "- 以**年份-月份-记账凭证号**为匹配标准；\n",
    "\n",
    "- 计算`账面.xlsx`中每个月份的每张凭证号对应的总金额；\n",
    "\n",
    "- 计算`流水.xlsx`中每个月份的每张凭证号对应的总金额；\n",
    "\n",
    "- 以`账面.xlsx`为标准，找出`流水.xlsx`中缺失的凭证号；\n",
    "\n",
    "- 以`账面.xlsx`为标准，找出`流水.xlsx`中金额不匹配的凭证号；"
   ]
  },
  {
   "cell_type": "markdown",
   "id": "9c1733b2-ce33-4e6a-b052-e39b95735348",
   "metadata": {},
   "source": [
    "### 结果输出示例"
   ]
  },
  {
   "cell_type": "markdown",
   "id": "3a1921f8-a7a1-4898-88a7-9c3fcc798df5",
   "metadata": {},
   "source": [
    "```\n",
    "缺失: 2022-01-记-86\n",
    "缺失: 2022-01-记-85\n",
    "不匹配: 2022-09-记-648, 账面-1700, 流水-2310\n",
    "不匹配: 2022-03-记-280, 账面-4642, 流水-13926\n",
    "```"
   ]
  },
  {
   "cell_type": "markdown",
   "id": "7baceaf0-3a3a-486c-b19c-3ba7d1fc8977",
   "metadata": {},
   "source": [
    "<font size=2 style=\"color:#FF0000\">**注意：请先参考课件，安装`utils`包，再运行下面代码**</font>"
   ]
  },
  {
   "cell_type": "code",
   "execution_count": 1,
   "id": "3c537a75-b4dd-46c2-95b5-e6c1709958da",
   "metadata": {},
   "outputs": [],
   "source": [
    "# 指定windows平台下Python运行时的默认编码类型为UTF-8\n",
    "import _locale\n",
    "_locale._getdefaultlocale = (lambda *args: ['zh_CN', 'utf8'])"
   ]
  },
  {
   "cell_type": "code",
   "execution_count": 2,
   "id": "9a11dd66-e157-4eec-9ea3-a679b312742d",
   "metadata": {},
   "outputs": [],
   "source": [
    "def my_parse(file_path):\n",
    "    data = []\n",
    "    with open(file_path, encoding='UTF-8') as f:\n",
    "        lines = f.readlines()\n",
    "    for line in lines[1:]:\n",
    "        line_list = line.strip().split('\\t')\n",
    "        line_list[-1] = float(line_list[-1].replace(',',''))\n",
    "        data.append(line_list)\n",
    "    return data"
   ]
  },
  {
   "cell_type": "code",
   "execution_count": 3,
   "id": "e70e5d69-e8f3-4d6d-a172-80aead0b170f",
   "metadata": {},
   "outputs": [],
   "source": [
    "lines1 = my_parse('./账面.txt')\n",
    "lines2 = my_parse('./流水.txt')"
   ]
  },
  {
   "cell_type": "code",
   "execution_count": 4,
   "id": "ba28c9d5-1f7b-4b5e-9880-2a6553fb057c",
   "metadata": {},
   "outputs": [],
   "source": [
    "dict1 = {}\n",
    "for line in lines1:\n",
    "    date = line[0].strip()[:7]\n",
    "    record_id = line[1].strip()\n",
    "    money = line[2]\n",
    "    key = date + '-' + record_id\n",
    "    dict1.setdefault(key, 0)\n",
    "    dict1[key] += money"
   ]
  },
  {
   "cell_type": "code",
   "execution_count": 5,
   "id": "062e8e3e-aace-4fed-8b54-703d0397b25e",
   "metadata": {},
   "outputs": [
    {
     "data": {
      "text/plain": [
       "206"
      ]
     },
     "execution_count": 5,
     "metadata": {},
     "output_type": "execute_result"
    }
   ],
   "source": [
    "len(dict1)"
   ]
  },
  {
   "cell_type": "code",
   "execution_count": 6,
   "id": "0df14ace-c020-4172-8f71-79557805f68b",
   "metadata": {},
   "outputs": [],
   "source": [
    "dict2 = {}\n",
    "for line in lines2:\n",
    "    date = line[0].strip()[:7]\n",
    "    record_id = line[1].strip()\n",
    "    money = line[2]\n",
    "    key = date + '-' + record_id\n",
    "    dict2.setdefault(key, 0)\n",
    "    dict2[key] += money"
   ]
  },
  {
   "cell_type": "code",
   "execution_count": 7,
   "id": "e4c066bd-84d4-4b84-9acd-5a6d19bf78b3",
   "metadata": {},
   "outputs": [
    {
     "data": {
      "text/plain": [
       "200"
      ]
     },
     "execution_count": 7,
     "metadata": {},
     "output_type": "execute_result"
    }
   ],
   "source": [
    "len(dict2)"
   ]
  },
  {
   "cell_type": "code",
   "execution_count": 8,
   "id": "0aacd353-45cb-4102-9167-0015a9cbed33",
   "metadata": {},
   "outputs": [
    {
     "name": "stdout",
     "output_type": "stream",
     "text": [
      "缺失: 2022-01-记-86\n",
      "缺失: 2022-01-记-85\n",
      "不匹配: 2022-09-记-648, 账面-1700.0, 流水-2310.0\n",
      "不匹配: 2022-03-记-280, 账面-4642.0, 流水-13926.0\n",
      "不匹配: 2022-02-记-100, 账面-9779.8, 流水-10452.8\n",
      "不匹配: 2022-01-记-204, 账面-10560.0, 流水-12565.0\n",
      "缺失: 2022-04-记-100\n",
      "缺失: 2022-04-记-353\n",
      "缺失: 2022-04-记-427\n",
      "缺失: 2022-06-记-315\n",
      "缺失: 2022-06-记-817\n"
     ]
    }
   ],
   "source": [
    "for key in dict1.keys():\n",
    "    if key not in dict2:\n",
    "        print('缺失:', key)\n",
    "    else:\n",
    "        if dict1[key] != dict2[key]:\n",
    "            print('不匹配: {}, {}-{}, {}-{}'.format(key,'账面', dict1[key], '流水', dict2[key]))"
   ]
  }
 ],
 "metadata": {
  "kernelspec": {
   "display_name": "Python 3 (ipykernel)",
   "language": "python",
   "name": "python3"
  },
  "language_info": {
   "codemirror_mode": {
    "name": "ipython",
    "version": 3
   },
   "file_extension": ".py",
   "mimetype": "text/x-python",
   "name": "python",
   "nbconvert_exporter": "python",
   "pygments_lexer": "ipython3",
   "version": "3.9.7"
  }
 },
 "nbformat": 4,
 "nbformat_minor": 5
}
