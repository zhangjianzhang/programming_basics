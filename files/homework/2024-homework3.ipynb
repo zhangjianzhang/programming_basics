{
 "cells": [
  {
   "cell_type": "markdown",
   "id": "4d60608d-4be1-4bc7-826c-a2e456bbbad6",
   "metadata": {},
   "source": [
    "#### **题目1**  \n",
    "\n",
    "定义一个名为`calculate_moving_average`的函数，用于计算给定数据序列的简单移动平均值（Simple Moving Average，SMA）。\n",
    "\n",
    "**函数要求如下**：  \n",
    "- 函数接收两个参数：`prices`（价格序列，为列表类型，如\\[100, 102, 101, 105, 110\\]）、`window_size`（滑动窗口大小，为整数类型）。  \n",
    "- 若`window_size`大于价格列表长度，函数应返回一个空列表。  \n",
    "- 若`window_size`小于或等于0，函数应抛出`ValueError`异常，并在异常信息中说明窗口大小无效。  \n",
    "- 否则，根据`window_size`计算从左到右的简单移动平均值，并返回对应的平均值列表（如：给定\\[100, 102, 101, 105\\]和`window_size=2`，则移动平均值为\\[(100+102)/2, (102+101)/2, (101+105)/2\\] = \\[101.0, 101.5, 103.0\\]）。  \n",
    "\n",
    "**请定义函数并进行如下测试调用**：  \n",
    "- `(prices=[100, 102, 101, 105, 110], window_size=3)`，预期返回\\[101.0, 102.6666666667, 105.3333333333\\]（允许一定的浮点误差）。  \n",
    "- `(prices=[200, 210], window_size=5)`，预期返回空列表 `[]`。  \n",
    "- `(prices=[50, 60, 70], window_size=-1)`，应抛出`ValueError`异常。\n"
   ]
  },
  {
   "cell_type": "markdown",
   "id": "125bd5af-38fb-4105-84c9-636f70d39772",
   "metadata": {},
   "source": [
    "#### **题目2**  \n",
    "\n",
    "定义一个名为`filter_and_sort_products`的函数，用于对一组产品和价格数据进行筛选和排序。\n",
    "\n",
    "**要求如下**：  \n",
    "- 函数接收两个参数：`products`（字典类型，如`{\"A100\": 120, \"B200\": 300, \"C300\": 250}`）和`min_price`（数值类型）。  \n",
    "- 函数应返回一个列表，其中包含所有价格大于`min_price`的产品编号。返回的列表按对应产品价格从低到高排序。  \n",
    "\n",
    "示例：若`products = {\"A100\": 120, \"B200\": 300, \"C300\": 250}`且`min_price=200`，则满足条件的产品为`\"C300\":250`与`\"B200\":300`，排序后返回`[\"C300\", \"B200\"]`。\n",
    "\n",
    "**请定义函数并测试如下调用**：  \n",
    "- `products = {\"A100\": 120, \"B200\": 300, \"C300\": 250}`  \n",
    "- `min_price = 200`  \n",
    "预期返回`[\"C300\", \"B200\"]`。"
   ]
  },
  {
   "cell_type": "markdown",
   "id": "e20bd494-63cf-4053-a08f-ec265d51c070",
   "metadata": {
    "tags": []
   },
   "source": [
    "#### **题目3**  \n",
    "\n",
    "定义一个名为`summarize_sales`的函数，用于对指定产品的销售数据进行汇总。\n",
    "\n",
    "**要求如下**：  \n",
    "- 函数接收两个参数：`product_sales`（字典类型，其键为产品ID字符串，如`\"P001\"`，值为另一个字典，表示日期与销量映射，如`{\"2021-01-01\": 10, \"2021-01-02\": 5}`）和`product_id`（字符串）。  \n",
    "- 若`product_id`在`product_sales`字典中不存在，返回`(0, 0)`表示总销量为0、平均销量为0。  \n",
    "- 若存在该`product_id`的销售数据，则计算该产品总销量（所有日期销量之和）和平均每日销量（总销量除以有销量记录的日期数）。  \n",
    "- 返回一个元组`(total_sales, average_sales)`，其中`average_sales`保留两位小数。\n",
    "\n",
    "**请定义函数并测试如下调用**：  \n",
    "- `product_sales = {\"P001\": {\"2021-01-01\": 10, \"2021-01-02\": 5}, \"P002\": {\"2021-01-01\":20}}`  \n",
    "- 对`\"P001\"`调用，应返回(15, 7.50)  \n",
    "- 对`\"P002\"`调用，应返回(20, 20.00)  \n",
    "- 对`\"P999\"`调用，不存在此产品ID，应返回(0, 0)"
   ]
  }
 ],
 "metadata": {
  "kernelspec": {
   "display_name": "Python 3 (ipykernel)",
   "language": "python",
   "name": "python3"
  },
  "language_info": {
   "codemirror_mode": {
    "name": "ipython",
    "version": 3
   },
   "file_extension": ".py",
   "mimetype": "text/x-python",
   "name": "python",
   "nbconvert_exporter": "python",
   "pygments_lexer": "ipython3",
   "version": "3.10.14"
  }
 },
 "nbformat": 4,
 "nbformat_minor": 5
}
