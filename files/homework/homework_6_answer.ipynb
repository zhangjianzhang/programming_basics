{
 "cells": [
  {
   "cell_type": "markdown",
   "metadata": {},
   "source": [
    "#### <b><font color=red>作业题-1：</font></b>\n",
    "\n",
    "根据下面提供的信息，编程实现以下功能：\n",
    "\n",
    "**输入**：公历出生日期，格式为`xxxx-xx-xx`\n",
    "\n",
    "**输出**：\n",
    "\n",
    "- 虚岁年龄（虚岁从一算起，出生时为1岁，逢春节长一岁）\n",
    "- 属相\n",
    "- 周岁年龄（周岁从零算起，出生时为0岁，逢生日长一岁）\n",
    "- 星座"
   ]
  },
  {
   "cell_type": "markdown",
   "metadata": {},
   "source": [
    "十二属相顺序为：鼠🐀\t牛🐂\t虎🐅\t兔🐇\t龙🐉\t蛇🐍\t马🐎\t羊🐏\t猴🐒\t鸡🐓\t狗🐕\t猪🐖；\n",
    "\n",
    "2021年为牛年🐂。"
   ]
  },
  {
   "cell_type": "markdown",
   "metadata": {},
   "source": [
    "<div align=center>\n",
    "<img width=\"450\" height=\"450\" src=\"https://github.com/zhangjianzhang/programming_basics/blob/master/files/codes/lecture_5/shuxiang.gif?raw=true\">\n",
    "\n",
    "<p><center><font><b>十二生肖</b></font></center></p>\n",
    "</div>"
   ]
  },
  {
   "cell_type": "markdown",
   "metadata": {},
   "source": [
    "<div align=center>\n",
    "<img width=\"450\" height=\"650\" src=\"https://github.com/zhangjianzhang/programming_basics/blob/master/files/codes/lecture_5/xingzuo.jpg?raw=true\">\n",
    "\n",
    "<p><center><font><b>星座图</b></font></center></p>\n",
    "</div>"
   ]
  },
  {
   "cell_type": "code",
   "execution_count": 1,
   "metadata": {},
   "outputs": [
    {
     "name": "stdout",
     "output_type": "stream",
     "text": [
      "2021 11 23\n",
      "<class 'int'> <class 'int'> <class 'int'>\n"
     ]
    }
   ],
   "source": [
    "# 获取当前的年月日\n",
    "import datetime\n",
    "year = datetime.datetime.now().year\n",
    "month = datetime.datetime.now().month\n",
    "day = datetime.datetime.now().day\n",
    "print(year, month, day)\n",
    "print(type(year), type(month), type(day))"
   ]
  },
  {
   "cell_type": "markdown",
   "metadata": {},
   "source": [
    "<b><font color=red>注意</font></b>：\n",
    "\n",
    "- 就在该jupyter文件内作答；\n",
    "\n",
    "- 可以使用input函数进行交互输入，也可以不使用input函数，直接将日期赋值给一个变量，如`my_date = '1998-06-18'`。"
   ]
  },
  {
   "cell_type": "markdown",
   "metadata": {},
   "source": [
    "**输入公历生日**："
   ]
  },
  {
   "cell_type": "code",
   "execution_count": 2,
   "metadata": {},
   "outputs": [],
   "source": [
    "my_date = '2021-01-30'"
   ]
  },
  {
   "cell_type": "markdown",
   "metadata": {},
   "source": [
    "**计算周岁**："
   ]
  },
  {
   "cell_type": "code",
   "execution_count": 3,
   "metadata": {},
   "outputs": [],
   "source": [
    "# 抽取公历生日的年月日，并转换为整数\n",
    "my_year, my_month, my_day = map(int, my_date.split('-'))"
   ]
  },
  {
   "cell_type": "code",
   "execution_count": 4,
   "metadata": {},
   "outputs": [
    {
     "name": "stdout",
     "output_type": "stream",
     "text": [
      "周岁 0\n"
     ]
    }
   ],
   "source": [
    "# 计算周岁\n",
    "zhou_age = year - my_year\n",
    "\n",
    "# 如果当前月份小于生日月份，减1\n",
    "if month < my_month:\n",
    "    zhou_age -= 1\n",
    "# 如果当前月份等于生日月份，但day小于生日的day，减1\n",
    "elif month == my_month:\n",
    "    if day < my_day:\n",
    "        zhou_age -= 1\n",
    "# 其他情况，都表明当年已经过了生日\n",
    "print('周岁',zhou_age)"
   ]
  },
  {
   "cell_type": "markdown",
   "metadata": {},
   "source": [
    "**计算虚岁**："
   ]
  },
  {
   "cell_type": "code",
   "execution_count": 5,
   "metadata": {},
   "outputs": [],
   "source": [
    "import sxtwl"
   ]
  },
  {
   "cell_type": "code",
   "execution_count": 6,
   "metadata": {},
   "outputs": [],
   "source": [
    "# 获取公历生日对应的农历信息\n",
    "lunar_birth_info = sxtwl.fromSolar(my_year, my_month, my_day)"
   ]
  },
  {
   "cell_type": "code",
   "execution_count": 7,
   "metadata": {},
   "outputs": [],
   "source": [
    "# 获取生日对应的农历年份\n",
    "my_lunar_year = lunar_birth_info.getLunarYear()"
   ]
  },
  {
   "cell_type": "code",
   "execution_count": 8,
   "metadata": {},
   "outputs": [],
   "source": [
    "# 获取当前日期对应的农历信息\n",
    "today_info = sxtwl.fromSolar(year, month, day)"
   ]
  },
  {
   "cell_type": "code",
   "execution_count": 9,
   "metadata": {},
   "outputs": [],
   "source": [
    "# 获取当前的农历年份\n",
    "lunar_year = today_info.getLunarYear()"
   ]
  },
  {
   "cell_type": "code",
   "execution_count": 10,
   "metadata": {},
   "outputs": [],
   "source": [
    "xu_age = lunar_year - my_lunar_year + 1"
   ]
  },
  {
   "cell_type": "code",
   "execution_count": 11,
   "metadata": {},
   "outputs": [
    {
     "name": "stdout",
     "output_type": "stream",
     "text": [
      "虚岁 2\n"
     ]
    }
   ],
   "source": [
    "print('虚岁', xu_age)"
   ]
  },
  {
   "cell_type": "markdown",
   "metadata": {},
   "source": [
    "**计算属相**："
   ]
  },
  {
   "cell_type": "code",
   "execution_count": 12,
   "metadata": {},
   "outputs": [],
   "source": [
    "shu_list = ['牛', '虎', '兔', '龙', '蛇', '马', '羊', '猴', '鸡', '狗', '猪', '鼠']"
   ]
  },
  {
   "cell_type": "code",
   "execution_count": 13,
   "metadata": {},
   "outputs": [],
   "source": [
    "# 计算属相\n",
    "if my_year > 2021:\n",
    "    shuxiang = shu_list[(my_lunar_year - 2021)%12]\n",
    "else:\n",
    "    shuxiang = shu_list[-((2021 - my_lunar_year)%12)]"
   ]
  },
  {
   "cell_type": "code",
   "execution_count": 14,
   "metadata": {},
   "outputs": [
    {
     "name": "stdout",
     "output_type": "stream",
     "text": [
      "属相 鼠\n"
     ]
    }
   ],
   "source": [
    "print('属相', shuxiang)"
   ]
  },
  {
   "cell_type": "markdown",
   "metadata": {},
   "source": [
    "**计算星座**："
   ]
  },
  {
   "cell_type": "code",
   "execution_count": 15,
   "metadata": {},
   "outputs": [],
   "source": [
    "xing_list = ['摩羯','水瓶','双鱼','白羊','金牛','双子','巨蟹','狮子','处女','天秤','天蝎','射手']\n",
    "day_list = [19, 18, 20, 19, 20, 21, 22, 22, 22, 23, 22, 21]"
   ]
  },
  {
   "cell_type": "code",
   "execution_count": 16,
   "metadata": {},
   "outputs": [],
   "source": [
    "if my_day <= day_list[my_month-1]:\n",
    "    my_xing = xing_list[my_month-1]\n",
    "else:\n",
    "    my_xing = xing_list[my_month]"
   ]
  },
  {
   "cell_type": "code",
   "execution_count": 17,
   "metadata": {},
   "outputs": [
    {
     "name": "stdout",
     "output_type": "stream",
     "text": [
      "星座 水瓶\n"
     ]
    }
   ],
   "source": [
    "print('星座', my_xing)"
   ]
  },
  {
   "cell_type": "markdown",
   "metadata": {},
   "source": [
    "**汇总打印结果**："
   ]
  },
  {
   "cell_type": "code",
   "execution_count": 18,
   "metadata": {},
   "outputs": [
    {
     "name": "stdout",
     "output_type": "stream",
     "text": [
      "0 2 鼠 水瓶\n"
     ]
    }
   ],
   "source": [
    "print(zhou_age, xu_age, shuxiang, my_xing)"
   ]
  },
  {
   "cell_type": "markdown",
   "metadata": {},
   "source": [
    "测试日期：\n",
    "\n",
    "1. 1955-01-30，66，67，羊，水瓶\n",
    "2. 1987-09-10，34，35，兔，处女\n",
    "3. 2020-01-18，1，3，猪，摩羯\n",
    "4. 2025-01-19，龙，摩羯\n",
    "5. 2021-02-25，0，1，牛，双鱼\n",
    "6. 2021-01-30，0，2，鼠，水瓶\n",
    "\n",
    "<b><font color=Chocolate>测试网址：</font></b>\n",
    "\n",
    "- <a href=\"https://shijisuishu.bmcx.com/20210225__shijisuishu/\" target=\"_blank\">测试网址1</a>\n",
    "\n",
    "- <a href=\"https://cn.calcuworld.com/%E4%B8%AD%E5%9B%BD%E7%94%9F%E8%82%96%E8%AE%A1%E7%AE%97%E5%99%A8\" target=\"_blank\">测试网址2</a>"
   ]
  },
  {
   "cell_type": "markdown",
   "metadata": {},
   "source": [
    "测试完毕后，将上述功能封装到函数中："
   ]
  },
  {
   "cell_type": "code",
   "execution_count": 19,
   "metadata": {},
   "outputs": [],
   "source": [
    "import sxtwl\n",
    "import datetime\n",
    "\n",
    "\n",
    "def age_calculator(solar_birth_date):\n",
    "    '''\n",
    "    功能：根据公历生日，计算周岁、虚岁、星座、属相并返回\n",
    "    \n",
    "    参数\n",
    "    ----------\n",
    "    solar_birth_date : str\n",
    "        格式为XXXX-XX-XX的公历生日字符串\n",
    "    \n",
    "    返回\n",
    "    ----------\n",
    "    result: tuple\n",
    "        (周岁, 虚岁, 属相, 星座) 元组\n",
    "    '''\n",
    "    # 定义计算过程中需要使用的列表\n",
    "    shu_list = ['牛', '虎', '兔', '龙', '蛇', '马', '羊', '猴', '鸡', '狗', '猪', '鼠']\n",
    "    xing_list = ['摩羯','水瓶','双鱼','白羊','金牛','双子','巨蟹','狮子','处女','天秤','天蝎','射手']\n",
    "    day_list = [19, 18, 20, 19, 20, 21, 22, 22, 22, 23, 22, 21]\n",
    "    \n",
    "    # 获取当前的年月日\n",
    "    year = datetime.datetime.now().year\n",
    "    month = datetime.datetime.now().month\n",
    "    day = datetime.datetime.now().day\n",
    "    \n",
    "    # 解析函数的输入参数\n",
    "    my_year, my_month, my_day = map(int, solar_birth_date.split('-'))\n",
    "    \n",
    "    # 计算周岁\n",
    "    zhou_age = year - my_year\n",
    "    if month < my_month:\n",
    "        zhou_age -= 1\n",
    "    elif month == my_month:\n",
    "        if day < my_day:\n",
    "            zhou_age -= 1\n",
    "    \n",
    "    # 计算星座\n",
    "    if my_day <= day_list[my_month-1]:\n",
    "        my_xing = xing_list[my_month-1]\n",
    "    else:\n",
    "        my_xing = xing_list[my_month]\n",
    "        \n",
    "    # 计算虚岁\n",
    "    lunar_birth_info = sxtwl.fromSolar(my_year, my_month, my_day)\n",
    "    my_lunar_year = lunar_birth_info.getLunarYear()\n",
    "    today_info = sxtwl.fromSolar(year, month, day)\n",
    "    lunar_year = today_info.getLunarYear()\n",
    "    xu_age = lunar_year - my_lunar_year + 1\n",
    "    \n",
    "    # 计算属相\n",
    "    if my_year > 2021:\n",
    "        shuxiang = shu_list[(my_lunar_year - 2021)%12]\n",
    "    else:\n",
    "        shuxiang = shu_list[-((2021 - my_lunar_year)%12)]\n",
    "    \n",
    "    return zhou_age, xu_age, shuxiang, my_xing"
   ]
  },
  {
   "cell_type": "code",
   "execution_count": 20,
   "metadata": {},
   "outputs": [
    {
     "data": {
      "text/plain": [
       "(66, 67, '羊', '水瓶')"
      ]
     },
     "execution_count": 20,
     "metadata": {},
     "output_type": "execute_result"
    }
   ],
   "source": [
    "age_calculator('1955-01-30')"
   ]
  },
  {
   "cell_type": "code",
   "execution_count": 21,
   "metadata": {},
   "outputs": [
    {
     "data": {
      "text/plain": [
       "(1, 3, '猪', '摩羯')"
      ]
     },
     "execution_count": 21,
     "metadata": {},
     "output_type": "execute_result"
    }
   ],
   "source": [
    "age_calculator('2020-01-18')"
   ]
  },
  {
   "cell_type": "code",
   "execution_count": null,
   "metadata": {},
   "outputs": [],
   "source": []
  }
 ],
 "metadata": {
  "kernelspec": {
   "display_name": "Python 3",
   "language": "python",
   "name": "python3"
  },
  "language_info": {
   "codemirror_mode": {
    "name": "ipython",
    "version": 3
   },
   "file_extension": ".py",
   "mimetype": "text/x-python",
   "name": "python",
   "nbconvert_exporter": "python",
   "pygments_lexer": "ipython3",
   "version": "3.7.1"
  }
 },
 "nbformat": 4,
 "nbformat_minor": 2
}
