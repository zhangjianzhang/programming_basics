{
 "cells": [
  {
   "cell_type": "code",
   "execution_count": 1,
   "metadata": {},
   "outputs": [],
   "source": [
    "# 指定windows平台下Python运行时的默认编码类型为UTF-8\n",
    "import _locale\n",
    "_locale._getdefaultlocale = (lambda *args: ['zh_CN', 'utf8'])"
   ]
  },
  {
   "cell_type": "code",
   "execution_count": 2,
   "metadata": {},
   "outputs": [],
   "source": [
    "# 导入os模块\n",
    "import os"
   ]
  },
  {
   "cell_type": "code",
   "execution_count": 3,
   "metadata": {},
   "outputs": [],
   "source": [
    "# 使用相对路径指定文件夹路径\n",
    "data_dir = './cet-4-txt/'"
   ]
  },
  {
   "cell_type": "code",
   "execution_count": 4,
   "metadata": {},
   "outputs": [],
   "source": [
    "# 使用os模块的listdir函数返回文件夹中的所有文件\n",
    "files = os.listdir(data_dir)"
   ]
  },
  {
   "cell_type": "code",
   "execution_count": 5,
   "metadata": {},
   "outputs": [
    {
     "data": {
      "text/plain": [
       "['2015年06月四级真题第1套.txt',\n",
       " '2015年06月四级真题第2套.txt',\n",
       " '2015年06月四级真题第3套.txt',\n",
       " '2015年12月四级真题第1套.txt',\n",
       " '2015年12月四级真题第2套.txt',\n",
       " '2015年12月四级真题第3套.txt',\n",
       " '2016年06月四级真题第1套.txt',\n",
       " '2016年06月四级真题第2套.txt',\n",
       " '2016年06月四级真题第3套.txt',\n",
       " '2016年12月四级真题第1套.txt',\n",
       " '2016年12月四级真题第2套.txt',\n",
       " '2016年12月四级真题第3套.txt',\n",
       " '2017年06月四级真题第1套.txt',\n",
       " '2017年06月四级真题第2套.txt',\n",
       " '2017年06月四级真题第3套.txt',\n",
       " '2017年12月四级真题第1套.txt',\n",
       " '2017年12月四级真题第2套.txt',\n",
       " '2017年12月四级真题第3套.txt',\n",
       " '2018年06月四级真题第1套.txt',\n",
       " '2018年06月四级真题第2套.txt',\n",
       " '2018年06月四级真题第3套.txt',\n",
       " '2018年12月四级真题第1套.txt',\n",
       " '2018年12月四级真题第2套.txt',\n",
       " '2018年12月四级真题第3套.txt',\n",
       " '2019年12月四级真题第1套.txt',\n",
       " '2019年12月四级真题第2套.txt',\n",
       " '2019年12月四级真题第3套.txt',\n",
       " '2019年6月四级真题第1套.txt',\n",
       " '2019年6月四级真题第2套.txt',\n",
       " '2019年6月四级真题第3套.txt',\n",
       " '2020年07月四级真题全1套.txt',\n",
       " '2020年09月四级真题第1套.txt',\n",
       " '2020年09月四级真题第2套.txt',\n",
       " '2020年09月四级真题第3套.txt',\n",
       " '2020年12月四级真题第1套.txt',\n",
       " '2020年12月四级真题第2套.txt',\n",
       " '2020年12月四级真题第3套.txt']"
      ]
     },
     "execution_count": 5,
     "metadata": {},
     "output_type": "execute_result"
    }
   ],
   "source": [
    "files"
   ]
  },
  {
   "cell_type": "code",
   "execution_count": 6,
   "metadata": {},
   "outputs": [
    {
     "data": {
      "text/plain": [
       "'2015年06月四级真题第1套.txt'"
      ]
     },
     "execution_count": 6,
     "metadata": {},
     "output_type": "execute_result"
    }
   ],
   "source": [
    "files[0]"
   ]
  },
  {
   "cell_type": "code",
   "execution_count": 7,
   "metadata": {},
   "outputs": [],
   "source": [
    "# 指定文件路径\n",
    "file_path = data_dir + files[0]"
   ]
  },
  {
   "cell_type": "code",
   "execution_count": 8,
   "metadata": {},
   "outputs": [
    {
     "data": {
      "text/plain": [
       "'./cet-4-txt/2015年06月四级真题第1套.txt'"
      ]
     },
     "execution_count": 8,
     "metadata": {},
     "output_type": "execute_result"
    }
   ],
   "source": [
    "file_path"
   ]
  },
  {
   "cell_type": "code",
   "execution_count": 9,
   "metadata": {},
   "outputs": [],
   "source": [
    "# 使用open函数打开文本文件，r表示以阅读模式打开\n",
    "f = open(file_path, 'r')"
   ]
  },
  {
   "cell_type": "code",
   "execution_count": 10,
   "metadata": {},
   "outputs": [],
   "source": [
    "# 调用read方法读取文件中的全部内容\n",
    "content = f.read()"
   ]
  },
  {
   "cell_type": "code",
   "execution_count": 11,
   "metadata": {},
   "outputs": [],
   "source": [
    "# 关闭文本文件\n",
    "f.close()"
   ]
  },
  {
   "cell_type": "code",
   "execution_count": 12,
   "metadata": {},
   "outputs": [
    {
     "data": {
      "text/plain": [
       "str"
      ]
     },
     "execution_count": 12,
     "metadata": {},
     "output_type": "execute_result"
    }
   ],
   "source": [
    "type(content)"
   ]
  },
  {
   "cell_type": "code",
   "execution_count": 13,
   "metadata": {},
   "outputs": [
    {
     "data": {
      "text/plain": [
       "'机密*启用前\\n大 学 英 语 四 级 考 试\\nCOLLEGE ENGLISH TEST\\n—Band Four—\\n(2015年6月第1套)\\n试 题 册\\n\\n敬 告 考 生\\n\\n一、在答题前，请认真完成以下内容:\\n1. 请检查试题册背面条形码粘贴条、答题卡的印刷质量，如有问题及时向监考员反映，确认无误后完成以下两点要求。\\n2. 请将试题册背面条形码粘贴条揭下后粘贴在答题卡1的条形码粘贴框内，并将姓名和准考证号填写在试题册背面相应位置。\\n3. 请在答题卡1和答题卡2指定位置用黑色签字笔填写准考证号、姓名和学校名称，并用HB-2B铅笔将对应准考证号的信息点涂黑。\\n二、在考试过程中，请注意以下内容:\\n1. 所有题目必须在答题卡上规定位置作答，在试题册上或答题卡上非规定位置的作答一律无效。\\n2. 请在规定时间内在答题卡指定位置依次完成作文、听力、阅读、翻译各部分考试，作答作文期间不得翻阅该试题册。听力录音播放完毕后，请立即停止作答，监考员将立即收回答题卡1，得到监考员指令后方可继续作答。\\n3. 作文题内容印在试题册背面，作文题及其他主观题必须用黑色签字笔在答题卡指定区域内作答。\\n4. 选择题均为单选题'"
      ]
     },
     "execution_count": 13,
     "metadata": {},
     "output_type": "execute_result"
    }
   ],
   "source": [
    "# 查看文本内容的前500个字符\n",
    "content[:500]"
   ]
  },
  {
   "cell_type": "code",
   "execution_count": 14,
   "metadata": {},
   "outputs": [
    {
     "data": {
      "text/plain": [
       "'the modem world are derived. Now China has the world’s fastest growing economy and is experiencing a new industrial revolution. It has also launched an ambitious space exploration plan, including the building of a space station by 2020. Currently, being one of the largest exporters in the world, China is attracting massive foreign investment. Meanwhile, it has invested billions of dollars overseas as well. In 2011, China surpassed Japan, becoming the second largest economic entity in the world.\\n'"
      ]
     },
     "execution_count": 14,
     "metadata": {},
     "output_type": "execute_result"
    }
   ],
   "source": [
    "# 查看文本内容的后500个字符\n",
    "content[-500:]"
   ]
  },
  {
   "cell_type": "code",
   "execution_count": 15,
   "metadata": {},
   "outputs": [
    {
     "name": "stdout",
     "output_type": "stream",
     "text": [
      "机密*启用前\n",
      "大 学 英 语 四 级 考 试\n",
      "COLLEGE ENGLISH TEST\n",
      "—Band Four—\n",
      "(2015年6月第1套)\n",
      "试 题 册\n",
      "\n",
      "敬 告 考 生\n",
      "\n",
      "一、在答题前，请认真完成以下内容:\n",
      "1. 请检查试题册背面条形码粘贴条、答题卡的印刷质量，如有问题及时向监考员反映，确认无误后完成以下两点要求。\n",
      "2. 请将试题册背面条形码粘贴条揭下后粘贴在答题卡1的条形码粘贴框内，并将姓名和准考证号填写在试题册背面相应位置。\n",
      "3. 请在答题卡1和答题卡2指定位置用黑色签字笔填写准考证号、姓名和学校名称，并用HB-2B铅笔将对应准考证号的信息点涂黑。\n",
      "二、在考试过程中，请注意以下内容:\n",
      "1. 所有题目必须在答题卡上规定位置作答，在试题册上或答题卡上非规定位置的作答一律无效。\n",
      "2. 请在规定时间内在答题卡指定位置依次完成作文、听力、阅读、翻译各部分考试，作答作文期间不得翻阅该试题册。听力录音播放完毕后，请立即停止作答，监考员将立即收回答题卡1，得到监考员指令后方可继续作答。\n",
      "3. 作文题内容印在试题册背面，作文题及其他主观题必须用黑色签字笔在答题卡指定区域内作答。\n",
      "4. 选择题均为单选题，错选、不选或多选将不得分，作答时必须使用HB-2B铅笔在答题卡上相应位置填涂，修改时须用橡皮擦净。\n",
      "三、以下情况按违规处理:\n",
      "1. 未正确填写(涂)个人信息，错贴、不贴、毁损条形码粘贴条。\n",
      "2. 未按规定翻阅试题册、提前阅读试题、提前或在收答题卡期间作答。\n",
      "3. 未用所规定的笔作答、折叠成毁损答题卡导致无法评卷。\n",
      "4. 考试期间在非听力考试时间佩戴耳机。\n",
      "\n",
      "\n",
      "全国大学英语四、六级考试委员会\n",
      "Part I                Writing               (30 minutes)\n",
      "\n",
      "Directions: For this part, you are allowed 30 minutes to write an essay based on the picture below.You should start your essay with a brief description of the picture and then comment on the kid’s understanding of going to school. You should write at least 120 words but no more than 180 words.\n",
      "\n",
      "“Why am I going to school if my phone already knows everything?”\n",
      "\n",
      "Part II   Listening Comprehension             (30 minutes)\n",
      "Section A\n",
      "Directions: In this section, you will hear 8 short conversations and 2 long conversations. At the end of each conversation, one or more questions will be asked about what was said. Both the conversation and the questions will be spoken only once. After each question there will be a pause. During the pause, you must read the four choices marked A), B), C) and D), and decide which is the best answer. Then mark the corresponding letter on Answer Sheet 1 with a single line through the centre.\n",
      "\n",
      "Question 1 to 8 are based on the short conversation you have just heard.\n",
      "\n",
      "A) He will give the woman some tips on the game.\n",
      "The woman has good reason to quit the game.\n",
      "He is willing to play chess with the woman.\n",
      "The woman should go on playing chess.\n",
      "A) The man can forward the mail to Mary.\n",
      "B) She can call Mary to take care of the mail.\n",
      "C) Mary probably knows Sally’s new address.\n",
      "D) She would like to resume contact with Sally.\n",
      "3. A) His handwriting has a unique style.\n",
      "B) His notes are not easy to read.\n",
      "C) He did not attend today’s class.\n",
      "D) He is very pleased to be able to help.\n",
      "4. A) The man had better choose another restaurant.\n",
      "B) The new restaurant is a perfect place for dating.\n",
      "C) The new restaurant caught her fancy immediately.\n",
      "D) The man has good taste in choosing the restaurant.\n",
      "5. A) He has been looking forward to spring.\n",
      "B) He has been waiting for the winter sale.\n",
      "C) He will clean the woman’s boots for spring.\n",
      "D) He will help the woman put things away.\n",
      "6. A) The woman is rather forgetful.\n",
      "B) The man appreciates the woman’s help.\n",
      "C) The man often lends books to the woman.\n",
      "D) The woman often works overtime at weekends.\n",
      "7. A) Go to work on foot.\n",
      "B) Take a sightseeing trip.\n",
      "C) Start work earlier than usual.\n",
      "D) Take a walk when the weather is nice.\n",
      "8. A) The plane is going to land at another airport.\n",
      "B) All flights have been delayed due to bad weather.\n",
      "C) Temporary closing has disturbed the airport’s operation.\n",
      "D) The airport’s management is in real need of improvement.\n",
      "\n",
      "Question 9 to 12 are based on the conversation you have just heard.\n",
      "\n",
      "A) It specializes in safety from leaks.        C) It has a partnership with LCP.\n",
      "B) It is headquartered in London.           D) It has a chemical processing plant.\n",
      "10. A) He is Mr. Grants friend.               C) He is a salesman.\n",
      "B) He is a safety inspector.                D) He is a chemist.\n",
      "11. A) Director of the safety department.       C) Head of the personnel department.\n",
      "B) Mr. Grand’s personal assistant.          D) The public relations officer.\n",
      "12. A) Wait for Mr. Grand to call back.\n",
      "B) Leave a message for Mr. Grand.\n",
      "C) Provide details of their products and services.\n",
      "D) Send a comprehensive description of their work.\n",
      "\n",
      "Question 13 to 15 are based on the conversation you have just heard.\n",
      "\n",
      "13. A) She learned playing the violin from a famous French musician.\n",
      "B) She dreamed of working and living in a European country.\n",
      "C) She read a lot about European musicians and their music.\n",
      "D) She listened to recordings of many European orchestras.\n",
      "14. A) She began taking violin lessons as a small child.\n",
      "B) She was a pupil of a famous European violinist.\n",
      "C) She gave her first performance with her father.\n",
      "D) She became a professional violinist at fifteen.\n",
      "15. A) It gave her a chance to explore the city.\tC) It was a great challenge to her.\n",
      "B) It was the chance of a lifetime.\t        D) It helped her learn classical French music.\n",
      "\n",
      "Section B\n",
      "Directions: In this section, you will hear 3 short passages. At the end of each passage, you will hear some questions. Both the passage and the questions will be spoken only once. After you hear a question, you must choose the best answer from the four choices marked A), B), C) and D). Then mark the corresponding letter on Answer Sheet 1 with a single line through the centre.\n",
      "\n",
      "Passage One\n",
      "Question 16 to 18 are based on the passage you have just heard.\n",
      "\n",
      "16. A) There are mysterious stories behind his works.  C) His works have no match worldwide.\n",
      "B) There are many misunderstandings about him.   D) His personal history is little known.\n",
      "17. A) He moved to Stratford-on-Avon in his childhood.\n",
      "B) He failed to go beyond grammar school.\n",
      "C) He was a member of the town council.\n",
      "D) He once worked in a well-known acting company.\n",
      "18. A) Writers of his time had no means to protect their works.\n",
      "B) Possible sources of clues about him were lost in a fire.\n",
      "C) His works were adapted beyond recognition.\n",
      "D) People of his time had little interest in him.\n",
      "\n",
      "Passage Two\n",
      "Question 19 to 21 are based on the passage you have just heard.\n",
      "\n",
      "A) Theft.\t   B) Cheating.    C) Air crash.    D) Road accidents.\n",
      "20. A) Learn the local customs.          C) Book tickets well in advance.\n",
      "B) Make hotel reservations.          D) Have the right documents.\n",
      "21. A) Contact your agent.              C) Use official transport.\n",
      "B) Get a lift if possible.             D) Have a friend meet you.\n",
      "\n",
      "Passage Three\n",
      "Question 22 to 25 are based on the passage you have just heard.\n",
      "\n",
      "A) Cut down production cost.         C) Specialise in gold ornaments.\n",
      "B) Sell inexpensive products.         D) Refine the taste of his goods.\n",
      "23. A) At a national press conference.      C) During a local sales promotion campaign.\n",
      "B) During a live television interview.    D) At a meeting of top British businesspeople.\n",
      "24. A) Insulted.\t   B) Puzzled.        C) Distressed.\t       D) Discouraged.\n",
      "25. A) The words of some businesspeople are just rubbish.\n",
      "B) He who never learns from the past is bound to fail.\n",
      "C) There should be a limit to one’s sense of humour.\n",
      "D) He is not laughed at, that laughs at himself first.\n",
      "\n",
      "Section C\n",
      "Directions: In this section, you will hear a passage three times. When the passage is read for the first time, you should listen carefully for its general idea. When the passage is read for the second time, you are required to fill in the blanks with the exact words you have just heard. Finally, when the passage is read for the third time, you should check what you have written.\n",
      "\n",
      "Looking at the basic biological systems, the world is not doing very well. Yet economic indicators show the world is   26     . Despite a slow start at the beginning of the eighties, global economic output increased by more than a fifth during the   27   . The economy grew, trade increased, and millions of new jobs were created. How can biological indicators show the    28    of economic indicators?\n",
      "The answer is that the economic indicators have a basic fault; they show no difference between resource uses that   29   progress and those uses that will hurt it. The main measure of economic progress is the gross national product (GNP). \t30   , this totals the value of all goods and services produced and subtracts loss in value of factories and equipment. Developed a half-century ago, GNP helped    31   a common way among countries of measuring change in economic output. For some time, this seemed to work   32   well, but serious weaknesses are now appearing. As indicated earlier, GNP includes loss in value of factories and equipment, but it does not   33   the loss of natural resources, including nonrenewable resources such as oil or renewable resources such as forests.\n",
      "This basic fault can produce a   34   sense of national economic health. According to GNP, for example, countries that overcut forests actually do better than those that preserve their forests. The trees cut down are counted as income but no subtraction is made for   35   the forests.\n",
      "\n",
      "Part III     Reading Comprehension           (40 minutes)\n",
      "\n",
      "Section A\n",
      "Directions: In this section, there is a passage with ten blanks. You are required to select one word for each blank from a list of choices given in a word bank following the passage. Read the passage through carefully before making your choices. Each choice in the bank is identified by a letter. Please mark the corresponding letter for each item on Answer Sheet 2 with a single line through the centre. You may not use any of the words in the bank more than once.\n",
      "\n",
      "Question 36 to 45 are based on the following passage.\n",
      "\n",
      "The U. S. Department of Education is making efforts to ensure that all students have equal access to a quality education. Today it is   36    the launch of the Excellent Educators for All Initiative. The initiative will help states and school districts support great educators for the students who need them most.\n",
      "“All children are   37   to a high-quality education regardless of their race, zip code or family income. It is   38   important that we provide teachers and principals the support they need to help students reach their full    39   ” U. S. Secretary of Education Arne Duncan said. “Despite the excellent work and deep   40   of our nation’s teachers and principals, students in high-poverty, high-minority schools are unfairly treated across our country. We have to do better. Local leaders and educators will   41   their own creative solutions, but we must work together to   42   our focus on how to better recruit, support and   43    effective teachers and principals for all students, especially the kids who need them most.”\n",
      "Today’s announcement is another important step forward in improving access to a quality education, a   44   of President Obama’s year of action. Later today, Secretary Duncan will lead a round table discussion with principals and school teachers from across the country about the   45   of working in high-need schools and how to adopt promising practices for supporting great educators in these schools.\n",
      "\n",
      "Section B\n",
      "Directions: In this section, you are going to read a passage with ten statements attached to it. Each statement contains information given in one of the paragraphs. Identify the paragraph from which the information is derived. You may choose a paragraph more than once. Each paragraph is marked with a letter. Answer the questions by marking the corresponding letter on Answer Sheet 2.\n",
      "\n",
      "The Changes Facing Fast Food\n",
      "Fast-food firms have to be a thick-skinned bunch. Health experts regularly criticise them severely for selling food that makes people fat. Critics even complain that McDonald’s, whose logo symbolises calorie excess, should not have been allowed to sponsor the World Cup. These are things fast-food firms have learnt to cope with. But not perhaps for much longer. The burger business faces more pressure from regulators at a time when it is already adapting strategies in response to shifts in the global economy.\n",
      "\n",
      "Fast food was once thought to be recession-proof. When consumers need to cut spending, the logic goes, cheap meals like Big Macs and Whoppers become even more attractive. Such “trading down” proved true for much of the latest recession, when fast-food companies picked up customers who could no longer afford to eat at casual restaurants. Traffic was boosted in America, the home of fast food, with discounts and promotions, such as $ 1 menus and cheap combination meals.\n",
      "\n",
      "As a result, fast-food chains have weathered the recession better than their more expensive competitors. In 2009 sales at full-service restaurants in America fell by more than 6%, but total sales remained about the same at fast-food chains. In some markets, such as Japan, France and Britain, total spending on fast food increased. Same-store sales in America at McDonald’s, the world’s largest fast-food company, did not decline throughout the downturn. Panera Bread, an American fast-food chain known for its fresh ingredients, performed well, too, because it offers higher-quality food at lower prices than restaurants.\n",
      "\n",
      "But not all fast-food companies have been as fortunate. Many, such as Burger King, have seen sales fall. In a severe recession, while some people trade down to fast food, many others eat at home more frequently to save money. David Palmer, an analyst at UBS, a bank, says smaller fast-food chains in America, such as Jack in the Box and Carl’s Jr., have been hit particularly hard in this downturn because they are competing with the global giant McDonald, which increased spending on advertising by more than 7% last year as others cut back.\n",
      "\n",
      "Some fast-food companies also sacrificed their own profits by trying to give customers better value. During the recession companies set prices low, hoping that once they had tempted customers through the door they would be persuaded to order more expensive items. But in many cases that strategy did not work. Last year Burger franchisees（特许经营人）sued（起诉） the company over its double-cheeseburger promotion, claiming it was unfair for them to be required to sell these for $ 1 when they cost $ 1.10 to make. In May a judge ruled in favour of Burger King. Nevertheless, the company may still be cursing its decision to promote cheap choices over more expensive ones because items on its “value menu” now account for around 20% of all sales, up from 12% last October.\n",
      "\n",
      "Analysts expect the fast-food industry to grow modestly this year. But the downturn is making companies rethink their strategies. Many are now introducing higher-priced items to entice （引诱） consumers away from $ 1 specials. RFC, a division of Yum! Brands, which also owns Taco Bell and Pizza Hut, has launched a chicken sandwich that costs around $ 5. And in May Burger King introduced barbecue（烧烤）pork ribs at $ 7 for eight.\n",
      "\n",
      "Companies are also trying to get customers to buy new and more items, including drinks. McDonald’s started selling better coffee as a challenge to Starbucks. Its “McCafe” line now accounts for an estimated 6% of sales in America. Starbucks has sold rights to its Seattle’s Best coffee brand to Burger King, which will start selling it later this year.\n",
      "\n",
      "As fast-food companies shift from “super-size” to “more buys”, they need to keep customer traffic high throughout the day. Many see breakfast as a big opportunity, and not just for fatty food. McDonald’s will start selling porridge（粥）in America next year. Breakfast has the potential to be very profitable, says Sara Senatore of Bernstein, a research firm, because the margins can be high. Fast-food companies are also adding midday and late-night snacks, such as blended drinks and wraps. The idea is that by having a greater range of things on the menu, “we can sell to consumers products they want all day,” says Rick Carucci, the chief financial officer of Yum! Brands.\n",
      "\n",
      "But what about those growing waistlines? So far, fast-food firms have cleverly avoided government regulation. By providing healthy options, like salads and low-calorie sandwiches, they have at least given the impression of doing something about helping to fight obesity (肥胖症）. These offerings are not necessarily loss-leaders, as they broaden the appeal of outlets to groups of diners that include some people who don’t want to eat a burger. But customers cannot be forced to order salads instead of fries.\n",
      "\n",
      "In the future, simply offering a healthy option may not be good enough. “Every packaged-food and restaurant company I know is concerned about regulation right now,” says Mr. Palmer of UBS. America’s health-reform bill, which Congress passed this year, requires restaurant chains with 20 or more outlets to put the calorie-content of items they serve on the menu. A study by the National Bureau of Economic Research, which tracked the effects on Starbucks of a similar calorie-posting law in New York City in 2007, found that the average calorie-count per transaction fell 6% and revenue increased 3% at Starbucks stores where a Dunkin Donuts outlet was nearby—a sign, it is said, that menu-labelling could favour chains that have more healthy offerings.\n",
      "\n",
      "In order to avoid other legislation in America and elsewhere, fast-food companies will have to continue innovating (创新). Walt Riker of McDonald’s claims the change it has made in its menu means it offers more healthy items than it did a few years ago. “We probably sell more vegetables, more milk, more salads, more apples than any restaurant business in the world,” he says. But the recent proposal by a county in California to ban McDonald’s from including toys in its high-calorie “Happy Meals”, because legislators believe it attracts children to unhealthy food, suggests there is a lot more left to do.\n",
      "\n",
      "Some people propose laws be made to stop McDonald’s from attaching toys to its food specials for children.\n",
      "\n",
      "Fast-food firms may not be able to cope with pressures from food regulation in the near future.\n",
      "\n",
      "Burger King will start to sell Seattle’s Best coffee to increase sales.\n",
      "\n",
      "Some fast-food firms provide healthy food to give the impression they are helping to tackle the obesity problem.\n",
      "\n",
      "During the recession, many customers turned to fast food to save money.\n",
      "\n",
      "Many people eat out less often to save money in times of recession.\n",
      "\n",
      "During the recession, Burger King’s promotional strategy of offering low-priced items often proved ineffective.\n",
      "\n",
      "Fast-food restaurants can make a lot of money by selling breakfast.\n",
      "\n",
      "Many fast-food companies now expect to increase their revenue by introducing higher-priced items.\n",
      "\n",
      "A newly-passed law asks big fast-food chains to specify the calorie count of what they serve on the menu.\n",
      "\n",
      "Section C\n",
      "Directions: There are 2 passages in this section. Each passage is followed by some questions or unfinished statements. For each of them there are four choices marked A), B), C) and D). You should decide on the best choice and mark the corresponding letter on Answer Sheet 2 with a single line through the centre.\n",
      "\n",
      "Passage One\n",
      "Questions 56 to 60 are based on the following passage.\n",
      "\n",
      "If you think a high-factor sunscreen (防晒霜) keeps you safe from harmful rays, you may be wrong. Research in this week Nature shows that while factor 50 reduces the number of melanomas (黑瘤）and delays their occurrence, it can’t prevent them. Melanomas are the most aggressive skin cancers. You have a higher risk if you have red or blond hair, fair skin, blue or green eyes, or sunburn easily, or if a close relative has had one. Melanomas are more common if you have periodic intense exposure to the sun. Other skin cancers are increasingly likely with long-term exposure.\n",
      "There is continuing debate as to how effective sunscreen is in reducing melanomas—the evidence is weaker than it is for preventing other types of skin cancer. A 2011 Australian study of 1, 621 people found that people randomly selected to apply sunscreen daily had half the rate of melanomas of people who used cream as needed. A second study, comparing 1, 167 people with melanomas to 1, 101 who didn’t have the cancer, found that using sunscreen routinely, alongside other protection such as hats, long sleeves or staying in the shade, did give some protection. This study said other forms of sun protection—not sunscreen—seemed most beneficial. The study relied on people remembering what they had done over each decade of their lives, so it’s not entirely reliable. But it seems reasonable to think sunscreen gives people a false sense of security in the sun.\n",
      "Many people also don’t use sunscreen properly—applying insufficient amounts, failing to reapply after a couple of hours and staying in the sun too long. It is sunburn that is most worrying—recent research shows five episodes of sunburn in the teenage years increases the risk of all skin cancers.\n",
      "The good news is that a combination of sunscreen and covering up can reduce melanoma rates, as shown by Australian figures from their slip-slop-slap campaign. So if there is a heat wave this summer, it would be best for us, too, to slip on a shirt, slop on (补上) sunscreen and slap on a hat.\n",
      "\n",
      "What is peopled common expectation of a high-factor sunscreen?\n",
      "It will delay the occurrence of skin cancer.\n",
      "It will protect them from sunburn.\n",
      "C) It will keep their skin smooth and fair.\n",
      "D) It will work for people of any skin color.\n",
      "\n",
      "57. What does the research in Nature say about a high-factor sunscreen?\n",
      "A) It is ineffective in preventing melanomas.\n",
      "B) It is ineffective in case of intense sunlight.\n",
      "C) It is ineffective with long-term exposure.\n",
      "D) It is ineffective for people with fair skin.\n",
      "\n",
      "58. What do we learn from the 2011 Australian study of 1, 621 people?\n",
      "A) Sunscreen should be applied alongside other protection measures.\n",
      "B) High-risk people benefit the most from the application of sunscreen.\n",
      "C) Irregular application of sunscreen does women more harm than good.\n",
      "D) Daily application of sunscreen helps reduce the incidence of melanomas.\n",
      "\n",
      "59. What does the author say about the second Australian study?\n",
      "A) It misleads people to rely on sunscreen for protection.\n",
      "B) It helps people to select the most effective sunscreen.\n",
      "C) It is not based on direct observation of the subjects.\n",
      "D) It confirms the results of the first Australian study.\n",
      "\n",
      "60. What does the author suggest to reduce melanoma rates?\n",
      "A) Using both covering up and sunscreen.\n",
      "B ) Staying in the shade whenever possible.\n",
      "C) Using covering up instead of sunscreen.\n",
      "D) Applying the right amount of sunscreen.\n",
      "\n",
      "Passage Two\n",
      "Questions 61 to 65 are based on the following passage.\n",
      "\n",
      "Across the rich world, well-educated people increasingly work longer than the less-skilled. Some 65% of American men aged 62-74 with a professional degree are in the workforce, compared with 32% of men with only a high-school certificate. This gap is part of a deepening divide between the well-educated well-off and the unskilled poor. Rapid technological advance has raised the incomes of the highly skilled while squeezing those of the unskilled. The consequences, for individuals and society, are profound.\n",
      "The world is facing an astonishing rise in the number of old people, and they will live longer than ever before. Over the next 20 years the global population of those aged 65 or more will almost double, from 600 million to 1. 1 billion. The experience of the 20th century, when greater longevity (长寿）translated into more years in retirement rather than more years at work, has persuaded many observers that this shift will lead to slower economic growth, while the swelling ranks of pensioners will create government budget problems.\n",
      "But the notion of a sharp division between the working young and the idle old misses a new trend, the growing gap between the skilled and the unskilled. Employment rates are falling among younger unskilled people, whereas older skilled folk are working longer. The divide is most extreme in America, where well-educated baby-boomers (二战后生育高峰期出生的美国人）are putting off retirement while many less-skilled younger people have dropped out of the workforce.\n",
      "Policy is partly responsible. Many European governments have abandoned policies that used to encourage people to retire early. Rising life expectancy (预期寿命), combined with the replacement of generous defined-benefit pension plans with less generous defined-contribution ones, means that even the better-off must work longer to have a comfortable retirement. But the changing nature of work also plays a big role. Pay has risen sharply for the highly educated, and those people continue to reap rich rewards into old age because these days the educated elderly are more productive than the preceding generation. Technological change may well reinforce that shift: the skills that complement computers, from management know-how to creativity, do not necessarily decline with age.\n",
      "What is happening in the workforce in rich countries?\n",
      "Younger people are replacing the elderly.\n",
      "Well-educated people tend to work longer.\n",
      "Unemployment rates are rising year after year.\n",
      "People with no college degree do not easily find work.\n",
      "\n",
      "What has helped deepen the divide between the well-off and the poor?\n",
      "Longer life expectancies.\n",
      "A rapid technological advance.\n",
      "C) Profound changes in the workforce.\n",
      "D) A growing number of the well-educated.\n",
      "\n",
      "63. What do many observers predict in view of the experience of the 20th century?\n",
      "A) Economic growth will slow down.\n",
      "B) Government budgets will increase.\n",
      "C) More people will try to pursue higher education.\n",
      "D) There will be more competition in the job market.\n",
      "\n",
      "64. What is the result of policy changes in European countries?\n",
      "A) Unskilled workers may choose to retire early.\n",
      "B) More people have to receive in-service training.\n",
      "C) Even wealthy people must work longer to live comfortably in retirement.\n",
      "D) People may be able to enjoy generous defined-benefits from pension plans.\n",
      "\n",
      "65. What is characteristic of work in the 21st century?\n",
      "A) Computers will do more complicated work.\n",
      "B) More will be taken by the educated young.\n",
      "C) Most jobs to be done will be the creative ones.\n",
      "D) Skills are highly valued regardless of age.\n",
      "\n",
      "Part IV       Translation                     (30 minutes)\n",
      "\n",
      "Section A\n",
      "Directions: For this part, you are allowed 30 minutes to translate a passage from Chinese into English. You should write your answer on Answer Sheet 2.\n",
      "\n",
      "中国是世界上最古老的文明之一。构成现代世界基础的许多元素都起源于中国。中国现在拥有世界上发展最快的经济，并正经历着一次新的工业革命。中国还启动了雄心勃勃的太空探索计划，其中包括到 2020年建成一个太空站。目前,中国是世界最大的出口国之一，并正在吸引大量外国投资。同时,它也在海外投资数十亿美元。2011年，中国超越日本成为世界第二大经济体。\n",
      "\n",
      "\n",
      "\n",
      "\n",
      "\n",
      "\n",
      "\n",
      "\n",
      "\n",
      "\n",
      "参 考 答 案\n",
      "\n",
      "Part Ⅰ  Writing\n",
      "\n",
      "The Role of Phones in Study\n",
      "What the drawing vividly depicts is that a pupil asks his mother why he is going to school since his phone already knows everything. The picture illustrates that some students are highly dependent on their phones, overlooking the importance of personal study. However, as far as I am concerned, phones play an important but not indispensable role in students’ learning.\n",
      "There is no denying that mobile phones have brought much convenience, but we are not supposed to rely on them too much in the process of study. In the first place, we should have a good command of knowledge on our own to cope with various situations without phones at hand. In the second place, it is our personal knowledge that promotes the development of phones. Without the basic education at school, phones would not be invented.\n",
      "All in all, over-dependence on phones does more harm than good. Therefore, we should properly balance the relationship between phones and study. Only in this way can we benefit most from our learning process.\n",
      "\n",
      "Part II   Listening Comprehension\n",
      "Section A\n",
      "1-5 DCBAA\n",
      "6-8 BAC\n",
      "9-12 DCBC\n",
      "13-15 DAB\n",
      "\n",
      "Section B\n",
      "16-18 DCB\n",
      "19-21 ADC\n",
      "22-25 BDAC\n",
      "\n",
      "Section C\n",
      "26. prospering\n",
      "27. decade\n",
      "28. opposite\n",
      "29. sustain\n",
      "30. In simple terms\n",
      "31. establish\n",
      "32. reasonably\n",
      "33. take into account\n",
      "34. misleading\n",
      "35. using up\n",
      "\n",
      "Part III   Reading Comprehension\n",
      "Section A\n",
      "A) announcing\n",
      "K) entitled\n",
      "G) critically\n",
      "L) potential\n",
      "D) commitment\n",
      "H) develop\n",
      "J) enhance\n",
      "O) retain\n",
      "E) component\n",
      "C) challenges\n",
      "\n",
      "Section B\n",
      "K) Some people propose laws be made to stop McDonald's from attaching toys to its food specials for children.\n",
      "A) Fast-food firms may not be able to cope with pressures from food regulation in the near future.\n",
      "G) Burger King will start to sell Seattle^ Best coffee to increase sales.\n",
      "I) Some fast-food firms provide healthy food to give the impression they are helping to tackle the obesity problem.\n",
      "B) During the recession, many customers turned to fast food to save money.\n",
      "D) Many people eat out less often to save money in times of recession.\n",
      "E) During the recession, Burger King’s promotional strategy of offering low-priced items often proved ineffective.\n",
      "H) Fast-food restaurants can make a lot of money by selling breakfast.\n",
      "F) Many fast-food companies now expect to increase their revenue by introducing higher-priced items.\n",
      "J) A newly-passed law asks big fast-food chains to specify the calorie count of what they serve on the menu.\n",
      "\n",
      "Section C\n",
      "56-60 BADCA\n",
      "61-65 BBACD\n",
      "\n",
      "Part IV   Translation\n",
      "China is one of the most ancient civilizations across the world, from which many elements that construct the foundation of the modem world are derived. Now China has the world’s fastest growing economy and is experiencing a new industrial revolution. It has also launched an ambitious space exploration plan, including the building of a space station by 2020. Currently, being one of the largest exporters in the world, China is attracting massive foreign investment. Meanwhile, it has invested billions of dollars overseas as well. In 2011, China surpassed Japan, becoming the second largest economic entity in the world.\n",
      "\n"
     ]
    }
   ],
   "source": [
    "# 打印输出文本的全部内容\n",
    "print(content)"
   ]
  },
  {
   "cell_type": "code",
   "execution_count": 16,
   "metadata": {},
   "outputs": [],
   "source": [
    "# 遍历文件夹中的全部英语四级试题文件，读取其中的文本内容，以字符串形式赋值给变量cet4_text\n",
    "cet4_text = ''\n",
    "for txt_file in files:\n",
    "    txt_path = data_dir + txt_file\n",
    "    f = open(txt_path, 'r')\n",
    "    txt_str = f.read()\n",
    "    f.close()\n",
    "    cet4_text += txt_str + '\\n'"
   ]
  },
  {
   "cell_type": "code",
   "execution_count": 17,
   "metadata": {},
   "outputs": [
    {
     "data": {
      "text/plain": [
       "str"
      ]
     },
     "execution_count": 17,
     "metadata": {},
     "output_type": "execute_result"
    }
   ],
   "source": [
    "type(cet4_text)"
   ]
  },
  {
   "cell_type": "code",
   "execution_count": 18,
   "metadata": {},
   "outputs": [
    {
     "data": {
      "text/plain": [
       "842360"
      ]
     },
     "execution_count": 18,
     "metadata": {},
     "output_type": "execute_result"
    }
   ],
   "source": [
    "# 查看一下全部试题文本的字符长度\n",
    "len(cet4_text)"
   ]
  },
  {
   "cell_type": "code",
   "execution_count": 19,
   "metadata": {},
   "outputs": [],
   "source": [
    "# 从stopwords文件中读取英语中的停用词，赋值给列表变量stopwords_list\n",
    "f = open('./stopwords.txt')\n",
    "stopwords_str = f.read()\n",
    "stopwords_list = eval(stopwords_str)"
   ]
  },
  {
   "cell_type": "code",
   "execution_count": 20,
   "metadata": {},
   "outputs": [
    {
     "data": {
      "text/plain": [
       "list"
      ]
     },
     "execution_count": 20,
     "metadata": {},
     "output_type": "execute_result"
    }
   ],
   "source": [
    "type(stopwords_list)"
   ]
  },
  {
   "cell_type": "code",
   "execution_count": 21,
   "metadata": {
    "scrolled": true
   },
   "outputs": [
    {
     "data": {
      "text/plain": [
       "179"
      ]
     },
     "execution_count": 21,
     "metadata": {},
     "output_type": "execute_result"
    }
   ],
   "source": [
    "len(stopwords_list)"
   ]
  },
  {
   "cell_type": "markdown",
   "metadata": {},
   "source": [
    "**停用词**：语言中包含的功能词，这些功能词极其普遍，与其他词相比，功能词没有什么实际含义，如系动词、助动词、介词、代词等。"
   ]
  },
  {
   "cell_type": "code",
   "execution_count": 22,
   "metadata": {},
   "outputs": [
    {
     "data": {
      "text/plain": [
       "['i',\n",
       " 'me',\n",
       " 'my',\n",
       " 'myself',\n",
       " 'we',\n",
       " 'our',\n",
       " 'ours',\n",
       " 'ourselves',\n",
       " 'you',\n",
       " \"you're\",\n",
       " \"you've\",\n",
       " \"you'll\",\n",
       " \"you'd\",\n",
       " 'your',\n",
       " 'yours',\n",
       " 'yourself',\n",
       " 'yourselves',\n",
       " 'he',\n",
       " 'him',\n",
       " 'his',\n",
       " 'himself',\n",
       " 'she',\n",
       " \"she's\",\n",
       " 'her',\n",
       " 'hers',\n",
       " 'herself',\n",
       " 'it',\n",
       " \"it's\",\n",
       " 'its',\n",
       " 'itself',\n",
       " 'they',\n",
       " 'them',\n",
       " 'their',\n",
       " 'theirs',\n",
       " 'themselves',\n",
       " 'what',\n",
       " 'which',\n",
       " 'who',\n",
       " 'whom',\n",
       " 'this',\n",
       " 'that',\n",
       " \"that'll\",\n",
       " 'these',\n",
       " 'those',\n",
       " 'am',\n",
       " 'is',\n",
       " 'are',\n",
       " 'was',\n",
       " 'were',\n",
       " 'be',\n",
       " 'been',\n",
       " 'being',\n",
       " 'have',\n",
       " 'has',\n",
       " 'had',\n",
       " 'having',\n",
       " 'do',\n",
       " 'does',\n",
       " 'did',\n",
       " 'doing',\n",
       " 'a',\n",
       " 'an',\n",
       " 'the',\n",
       " 'and',\n",
       " 'but',\n",
       " 'if',\n",
       " 'or',\n",
       " 'because',\n",
       " 'as',\n",
       " 'until',\n",
       " 'while',\n",
       " 'of',\n",
       " 'at',\n",
       " 'by',\n",
       " 'for',\n",
       " 'with',\n",
       " 'about',\n",
       " 'against',\n",
       " 'between',\n",
       " 'into',\n",
       " 'through',\n",
       " 'during',\n",
       " 'before',\n",
       " 'after',\n",
       " 'above',\n",
       " 'below',\n",
       " 'to',\n",
       " 'from',\n",
       " 'up',\n",
       " 'down',\n",
       " 'in',\n",
       " 'out',\n",
       " 'on',\n",
       " 'off',\n",
       " 'over',\n",
       " 'under',\n",
       " 'again',\n",
       " 'further',\n",
       " 'then',\n",
       " 'once',\n",
       " 'here',\n",
       " 'there',\n",
       " 'when',\n",
       " 'where',\n",
       " 'why',\n",
       " 'how',\n",
       " 'all',\n",
       " 'any',\n",
       " 'both',\n",
       " 'each',\n",
       " 'few',\n",
       " 'more',\n",
       " 'most',\n",
       " 'other',\n",
       " 'some',\n",
       " 'such',\n",
       " 'no',\n",
       " 'nor',\n",
       " 'not',\n",
       " 'only',\n",
       " 'own',\n",
       " 'same',\n",
       " 'so',\n",
       " 'than',\n",
       " 'too',\n",
       " 'very',\n",
       " 's',\n",
       " 't',\n",
       " 'can',\n",
       " 'will',\n",
       " 'just',\n",
       " 'don',\n",
       " \"don't\",\n",
       " 'should',\n",
       " \"should've\",\n",
       " 'now',\n",
       " 'd',\n",
       " 'll',\n",
       " 'm',\n",
       " 'o',\n",
       " 're',\n",
       " 've',\n",
       " 'y',\n",
       " 'ain',\n",
       " 'aren',\n",
       " \"aren't\",\n",
       " 'couldn',\n",
       " \"couldn't\",\n",
       " 'didn',\n",
       " \"didn't\",\n",
       " 'doesn',\n",
       " \"doesn't\",\n",
       " 'hadn',\n",
       " \"hadn't\",\n",
       " 'hasn',\n",
       " \"hasn't\",\n",
       " 'haven',\n",
       " \"haven't\",\n",
       " 'isn',\n",
       " \"isn't\",\n",
       " 'ma',\n",
       " 'mightn',\n",
       " \"mightn't\",\n",
       " 'mustn',\n",
       " \"mustn't\",\n",
       " 'needn',\n",
       " \"needn't\",\n",
       " 'shan',\n",
       " \"shan't\",\n",
       " 'shouldn',\n",
       " \"shouldn't\",\n",
       " 'wasn',\n",
       " \"wasn't\",\n",
       " 'weren',\n",
       " \"weren't\",\n",
       " 'won',\n",
       " \"won't\",\n",
       " 'wouldn',\n",
       " \"wouldn't\"]"
      ]
     },
     "execution_count": 22,
     "metadata": {},
     "output_type": "execute_result"
    }
   ],
   "source": [
    "# 看一下停用词表包含哪些词语\n",
    "stopwords_list"
   ]
  },
  {
   "cell_type": "markdown",
   "metadata": {},
   "source": [
    "### 题目要求\n",
    "\n",
    "应用所学知识，从2015年6月-2020年12月的大学英语四级考试真题中找出前300个高频英文单词，上面代码已经把试题文本保存在变量`cet4_text`中，请你在变量`cet4_text`的基础上进行后续操作。\n",
    "\n",
    "<b><font color=red>注意</font></b>：\n",
    "\n",
    "- 就在该jupyter文件内作答；\n",
    "- 可以使用课上未讲授过的python知识，如python的字典数据类型\n",
    "- 不要把全部代码写在一个cell里；\n",
    "- 为你的代码添加适当的注释；\n",
    "- 最后的高频词表里不能包含停用词；\n",
    "- 最后的高频词表既要给出单词，也要给出该单词的出现频率；\n",
    "- 最后结果以列表形式呈现，如，`freq_300 = [(word_1, frequency_1), (word_1, frequency_1), ...]`。"
   ]
  }
 ],
 "metadata": {
  "kernelspec": {
   "display_name": "Python 3 (ipykernel)",
   "language": "python",
   "name": "python3"
  },
  "language_info": {
   "codemirror_mode": {
    "name": "ipython",
    "version": 3
   },
   "file_extension": ".py",
   "mimetype": "text/x-python",
   "name": "python",
   "nbconvert_exporter": "python",
   "pygments_lexer": "ipython3",
   "version": "3.9.7"
  }
 },
 "nbformat": 4,
 "nbformat_minor": 4
}
