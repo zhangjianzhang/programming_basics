{
 "cells": [
  {
   "cell_type": "markdown",
   "metadata": {},
   "source": [
    "#### <b><font color=red>作业题-1：</font></b>\n",
    "\n",
    "根据下面提供的信息，编程实现以下功能：\n",
    "\n",
    "**输入**：公历出生日期，格式为`xxxx-xx-xx`\n",
    "\n",
    "**输出**：\n",
    "\n",
    "- 虚岁年龄（虚岁从一算起，出生时为1岁，逢春节长一岁）\n",
    "- 属相\n",
    "- 周岁年龄（周岁从零算起，出生时为0岁，逢生日长一岁）\n",
    "- 星座"
   ]
  },
  {
   "cell_type": "markdown",
   "metadata": {},
   "source": [
    "十二属相顺序为：鼠🐀\t牛🐂\t虎🐅\t兔🐇\t龙🐉\t蛇🐍\t马🐎\t羊🐏\t猴🐒\t鸡🐓\t狗🐕\t猪🐖；\n",
    "\n",
    "2021年为牛年🐂。"
   ]
  },
  {
   "cell_type": "markdown",
   "metadata": {},
   "source": [
    "<div align=center>\n",
    "<img width=\"450\" height=\"450\" src=\"https://github.com/zhangjianzhang/programming_basics/blob/master/files/codes/lecture_5/shuxiang.gif?raw=true\">\n",
    "\n",
    "<p><center><font><b>十二生肖</b></font></center></p>\n",
    "</div>"
   ]
  },
  {
   "cell_type": "markdown",
   "metadata": {},
   "source": [
    "<div align=center>\n",
    "<img width=\"450\" height=\"650\" src=\"https://github.com/zhangjianzhang/programming_basics/blob/master/files/codes/lecture_5/xingzuo.jpg?raw=true\">\n",
    "\n",
    "<p><center><font><b>星座图</b></font></center></p>\n",
    "</div>"
   ]
  },
  {
   "cell_type": "code",
   "execution_count": 1,
   "metadata": {},
   "outputs": [
    {
     "name": "stdout",
     "output_type": "stream",
     "text": [
      "2021 11 23\n",
      "<class 'int'> <class 'int'> <class 'int'>\n"
     ]
    }
   ],
   "source": [
    "# 获取当前的年月日\n",
    "import datetime\n",
    "year = datetime.datetime.now().year\n",
    "month = datetime.datetime.now().month\n",
    "day = datetime.datetime.now().day\n",
    "print(year, month, day)\n",
    "print(type(year), type(month), type(day))"
   ]
  },
  {
   "cell_type": "markdown",
   "metadata": {},
   "source": [
    "打开`CMD`命令行，使用`pip`命令安装`sxtwl`包，用于根据公历日期获取农历日期信息，在联网状态下，执行如下命令\n",
    "\n",
    "`pip install sxtwl -i https://pypi.tuna.tsinghua.edu.cn/simple`\n",
    "\n",
    "<b><font color=red>一定要安装上面的包，才能正确执行下面的代码</font></b>"
   ]
  },
  {
   "cell_type": "code",
   "execution_count": 2,
   "metadata": {},
   "outputs": [
    {
     "name": "stdout",
     "output_type": "stream",
     "text": [
      "2021\n",
      "<class 'int'>\n"
     ]
    }
   ],
   "source": [
    "# 获取当前的农历年份\n",
    "import sxtwl\n",
    "today_info = sxtwl.fromSolar(year, month, day)\n",
    "lunar_year = today_info.getLunarYear()\n",
    "print(lunar_year)\n",
    "print(type(lunar_year))"
   ]
  },
  {
   "cell_type": "markdown",
   "metadata": {},
   "source": [
    "<b><font color=red>注意</font></b>：\n",
    "\n",
    "- 就在该jupyter文件内作答；\n",
    "\n",
    "- 可以使用input函数进行交互输入，也可以不使用input函数，直接将日期赋值给一个变量，如`my_date = '1998-06-18'`；\n",
    "\n",
    "- 不可以直接使用`sxtwl`中的相关函数直接获取属相和星座，要自己编代码计算。"
   ]
  },
  {
   "cell_type": "code",
   "execution_count": null,
   "metadata": {},
   "outputs": [],
   "source": []
  }
 ],
 "metadata": {
  "kernelspec": {
   "display_name": "Python 3",
   "language": "python",
   "name": "python3"
  },
  "language_info": {
   "codemirror_mode": {
    "name": "ipython",
    "version": 3
   },
   "file_extension": ".py",
   "mimetype": "text/x-python",
   "name": "python",
   "nbconvert_exporter": "python",
   "pygments_lexer": "ipython3",
   "version": "3.7.1"
  }
 },
 "nbformat": 4,
 "nbformat_minor": 2
}
