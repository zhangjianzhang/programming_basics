{
 "cells": [
  {
   "cell_type": "markdown",
   "metadata": {},
   "source": [
    "## 第一题"
   ]
  },
  {
   "cell_type": "markdown",
   "metadata": {},
   "source": [
    "<b><font color=red>要求</font></b> 用`Python`写一个函数，验证数独计算结果正确性，要求如下：\n",
    "\n",
    "1. 函数名为`check_sudoku`；\n",
    "\n",
    "2. 参数包含（1）数独计算结果`board`，类型为列表；（2）数独中小矩形的高`height`；（3）数独中小矩形的宽`width`；\n",
    "\n",
    "3. 返回结果为`True`或者`False`；\n",
    "\n",
    "4. 函数中判断数独是否满足如下三个条件：\n",
    "\n",
    "  - 数字`1-n`在每一行只能出现一次；\n",
    "  - 数字`1-n`在每一列只能出现一次；\n",
    "  - 数字`1-n`在每一个以粗实线分隔的`nxn`宫内只能出现一次。"
   ]
  },
  {
   "cell_type": "markdown",
   "metadata": {},
   "source": [
    "除了下面两个示例数独，还要考虑到其他尺寸数独测试能否成功哦。"
   ]
  },
  {
   "cell_type": "code",
   "execution_count": 1,
   "metadata": {},
   "outputs": [],
   "source": [
    "# 请在此处写定义你的函数\n",
    "\n",
    "def check_sudoku(board, height, width):\n",
    "    \n",
    "    # 使用布尔变量result保存默认结果（True）\n",
    "    result = True\n",
    "    # 确定数独的边长\n",
    "    n = len(board)\n",
    "    \n",
    "    # 判断每一行是否有重复元素\n",
    "    for line in board:\n",
    "        tmp_list = []\n",
    "        for item in line:\n",
    "            if item in tmp_list:\n",
    "                print(line)\n",
    "                return False\n",
    "            else:\n",
    "                tmp_list.append(item)\n",
    "    \n",
    "    # 判断每一列是否有重复元素\n",
    "    for i in range(n):\n",
    "        tmp_list = []\n",
    "        for line in board:\n",
    "            if line[i] in tmp_list:\n",
    "                print(i,line[i],tmp_list)\n",
    "                return False\n",
    "            else:\n",
    "                tmp_list.append(line[i])\n",
    "    \n",
    "    # 下面代码要注意，横坐标对应行索引，纵坐标对应列索引\n",
    "    \n",
    "    # 确定每一个小矩形左上角的坐标值\n",
    "    start_points = []\n",
    "    x_list = []\n",
    "    y_list = []\n",
    "    for x in range(0, n, height):\n",
    "        x_list.append(x)\n",
    "    for y in range(0, n, width):\n",
    "        y_list.append(y)\n",
    "    for x in x_list:\n",
    "        for y in y_list:\n",
    "            start_points.append((x, y))\n",
    "    \n",
    "    # 判断每一个小矩形中是否有重复元素\n",
    "    for start_point in start_points:\n",
    "        tmp_list = []\n",
    "        x, y = start_point\n",
    "        for i in range(x, x + height):\n",
    "            for j in range(y, y + width):\n",
    "                if board[i][j] in tmp_list:\n",
    "                    print(start_point)\n",
    "                    return False\n",
    "                else:\n",
    "                    tmp_list.append(board[i][j])\n",
    "        \n",
    "        \n",
    "    \n",
    "    \n",
    "    return result"
   ]
  },
  {
   "cell_type": "code",
   "execution_count": 2,
   "metadata": {},
   "outputs": [],
   "source": [
    "# 示例输入1，返回结果为True\n",
    "\n",
    "board_1 = [[2, 5, 4, 6, 3, 1],\n",
    "           [6, 1, 3, 5, 2, 4],\n",
    "           [4, 2, 6, 1, 5, 3],\n",
    "           [1, 3, 5, 2, 4, 6],\n",
    "           [5, 4, 1, 3, 6, 2],\n",
    "           [3, 6, 2, 4, 1, 5]]"
   ]
  },
  {
   "cell_type": "code",
   "execution_count": 3,
   "metadata": {},
   "outputs": [],
   "source": [
    "# 示例输入2，返回结果为False\n",
    "\n",
    "board_2 = [[2, 5, 4, 6, 3, 1],\n",
    "           [6, 1, 3, 5, 2, 4],\n",
    "           [4, 2, 6, 1, 5, 2],\n",
    "           [1, 3, 4, 2, 4, 6],\n",
    "           [5, 4, 1, 3, 6, 2],\n",
    "           [3, 6, 2, 4, 1, 5]]"
   ]
  },
  {
   "cell_type": "code",
   "execution_count": 4,
   "metadata": {},
   "outputs": [],
   "source": [
    "# 请在此处测试你的函数\n",
    "\n",
    "height = 2\n",
    "width = 3\n",
    "\n",
    "# 如果出现如下报错信息，说明你的函数写的不对，需要改正哦\n",
    "assert check_sudoku(board_1, height, width) == True, 'Sorry, try to refine your function'"
   ]
  },
  {
   "cell_type": "code",
   "execution_count": 5,
   "metadata": {},
   "outputs": [
    {
     "name": "stdout",
     "output_type": "stream",
     "text": [
      "[4, 2, 6, 1, 5, 2]\n"
     ]
    }
   ],
   "source": [
    "assert check_sudoku(board_2, height, width) == False, 'Sorry, try to refine your function'"
   ]
  },
  {
   "cell_type": "code",
   "execution_count": null,
   "metadata": {},
   "outputs": [],
   "source": []
  }
 ],
 "metadata": {
  "kernelspec": {
   "display_name": "Python 3",
   "language": "python",
   "name": "python3"
  },
  "language_info": {
   "codemirror_mode": {
    "name": "ipython",
    "version": 3
   },
   "file_extension": ".py",
   "mimetype": "text/x-python",
   "name": "python",
   "nbconvert_exporter": "python",
   "pygments_lexer": "ipython3",
   "version": "3.7.1"
  }
 },
 "nbformat": 4,
 "nbformat_minor": 2
}
