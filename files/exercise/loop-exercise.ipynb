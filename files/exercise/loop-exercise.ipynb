{
 "cells": [
  {
   "cell_type": "markdown",
   "id": "e03cf4c3-aa7e-446f-b7b3-e261f7bf173e",
   "metadata": {},
   "source": [
    "### 1. 查找列表中的特定元素\n",
    "\n",
    "编写一个程序，使用 while 循环和 break 语句在一个列表中搜索特定元素。当找到该元素时，打印其索引并退出循环。"
   ]
  },
  {
   "cell_type": "code",
   "execution_count": 1,
   "id": "f8092a39-852e-4ad3-8330-6a8ea322d7a8",
   "metadata": {},
   "outputs": [
    {
     "name": "stdout",
     "output_type": "stream",
     "text": [
      "找到 'cherry' 在索引 2\n"
     ]
    }
   ],
   "source": [
    "elements = [\"apple\", \"banana\", \"cherry\", \"date\"]\n",
    "target = \"cherry\"\n",
    "i = 0\n",
    "\n",
    "while i < len(elements):\n",
    "    if elements[i] == target:\n",
    "        print(f\"找到 '{target}' 在索引 {i}\")\n",
    "        break\n",
    "    i += 1"
   ]
  },
  {
   "cell_type": "markdown",
   "id": "6818b505-5c71-4b7e-a31b-6f3bd840c552",
   "metadata": {},
   "source": [
    "上述参考答案使用while循环，请你使用for循环（可以结合enumerate）尝试实现相同功能。"
   ]
  },
  {
   "cell_type": "markdown",
   "id": "2eb947c1-3d82-49c7-b276-85fb88aec56a",
   "metadata": {},
   "source": [
    "### 2. 商品库存管理\n",
    "\n",
    "编写一个程序来管理商品库存。首先创建一个字典，其中包含若干商品及其库存量。程序允许用户通过输入商品名称来查找其库存量。如果该商品不存在，则提示用户商品不存在。使用 while 循环，直到用户输入“退出”为止。"
   ]
  },
  {
   "cell_type": "code",
   "execution_count": 2,
   "id": "a510758b-7f61-4ccf-a814-510ee9525deb",
   "metadata": {},
   "outputs": [
    {
     "name": "stdin",
     "output_type": "stream",
     "text": [
      "请输入要查询的商品名称（输入'退出'结束程序）： 手机\n"
     ]
    },
    {
     "name": "stdout",
     "output_type": "stream",
     "text": [
      "手机的库存量为：100\n"
     ]
    },
    {
     "name": "stdin",
     "output_type": "stream",
     "text": [
      "请输入要查询的商品名称（输入'退出'结束程序）： 退出\n"
     ]
    }
   ],
   "source": [
    "inventory = {'笔记本电脑': 50, '手机': 100, '耳机': 200, '相机': 30}\n",
    "while True:\n",
    "    product = input(\"请输入要查询的商品名称（输入'退出'结束程序）：\")\n",
    "    if product == '退出':\n",
    "        break\n",
    "    if product in inventory:\n",
    "        print(f\"{product}的库存量为：{inventory[product]}\")\n",
    "    else:\n",
    "        print(\"商品不存在。\")"
   ]
  },
  {
   "cell_type": "markdown",
   "id": "15c2c8eb-e485-4c69-a8db-a186db66a7dd",
   "metadata": {},
   "source": [
    "### 3. 客户消费分析\n",
    "\n",
    "给定一个包含客户消费额的列表（例如：[120, 55, 300, 200, 400, 150, 80]）。使用 for 循环计算平均消费额。同时，使用 continue 来跳过任何超过 300 的消费额（视为异常值），不将其纳入平均值计算。"
   ]
  },
  {
   "cell_type": "code",
   "execution_count": 3,
   "id": "b115deab-c13c-4f04-993e-0f6d260833f2",
   "metadata": {},
   "outputs": [
    {
     "name": "stdout",
     "output_type": "stream",
     "text": [
      "平均消费额（排除异常值）为: 150.83333333333334\n"
     ]
    }
   ],
   "source": [
    "consumption = [120, 55, 300, 200, 400, 150, 80]\n",
    "total = 0\n",
    "count = 0\n",
    "\n",
    "for amount in consumption:\n",
    "    if amount > 300:\n",
    "        continue\n",
    "    total += amount\n",
    "    count += 1\n",
    "\n",
    "average = total / count\n",
    "print(\"平均消费额（排除异常值）为:\", average)"
   ]
  },
  {
   "cell_type": "markdown",
   "id": "11cab075-f267-45c2-8fe0-14ba72805e1d",
   "metadata": {},
   "source": [
    "### 4. 股票价格监测\n",
    "\n",
    "编写一个程序来模拟监控股票价格。程序包含一个包含一周内股票价格的列表（例如：[220, 234, 280, 200, 210, 205, 198]）。使用 while 循环和 break 来检测股票价格何时跌破 200。当这种情况发生时，打印出发生的天数并退出循环。"
   ]
  },
  {
   "cell_type": "code",
   "execution_count": 5,
   "id": "11ee2989-6635-4210-a7d1-79ef34dea0de",
   "metadata": {},
   "outputs": [
    {
     "name": "stdout",
     "output_type": "stream",
     "text": [
      "股价在第 4 天跌破 200\n"
     ]
    }
   ],
   "source": [
    "prices = [220, 234, 280, 198, 200, 210, 205]\n",
    "day = 0\n",
    "\n",
    "while day < len(prices):\n",
    "    if prices[day] < 200:\n",
    "        print(f\"股价在第 {day + 1} 天跌破 200\")\n",
    "        break\n",
    "    day += 1"
   ]
  },
  {
   "cell_type": "markdown",
   "id": "ba9f4901-9d55-442a-96da-349bbdd7d038",
   "metadata": {},
   "source": [
    "### 5. 年度财务报告生成\n",
    "\n",
    "给定一个字典，包含一家公司各季度的收入和支出（例如：{'Q1': (30000, 15000), 'Q2': (40000, 20000), 'Q3': (35000, 17000), 'Q4': (45000, 22000)}）。编写一个程序，使用 for 循环计算每个季度的利润，使用print语句打印输出利润低于20000的季度信息和利润信息。"
   ]
  },
  {
   "cell_type": "code",
   "execution_count": 8,
   "id": "75847fb6-28d8-47a3-abac-953bfcc48acb",
   "metadata": {},
   "outputs": [
    {
     "name": "stdout",
     "output_type": "stream",
     "text": [
      "Q1 季度的利润为：15000\n",
      "Q2 季度的利润为：20000\n",
      "Q3 季度的利润为：18000\n"
     ]
    }
   ],
   "source": [
    "financials = {'Q1': (30000, 15000), 'Q2': (40000, 20000), 'Q3': (35000, 17000), 'Q4': (45000, 22000)}\n",
    "\n",
    "for quarter, (revenue, expense) in financials.items():\n",
    "    profit = revenue - expense\n",
    "    if profit > 20000:\n",
    "        pass\n",
    "    else:\n",
    "        print(f\"{quarter} 季度的利润为：{profit}\")\n"
   ]
  },
  {
   "cell_type": "markdown",
   "id": "e78dbad9-a2f0-4fe2-972c-cc9d8f703e3b",
   "metadata": {},
   "source": [
    "### 6. 复合利息计算器\n",
    "\n",
    "编写一个程序来计算复合利息。程序询问用户本金金额、年利率和投资年数。使用 for 循环计算到每一年末的账户总额，并将每年的结果存储在一个列表中。"
   ]
  },
  {
   "cell_type": "code",
   "execution_count": 9,
   "id": "8c224c0f-5dcd-4482-acb6-1829eba84d7a",
   "metadata": {},
   "outputs": [
    {
     "name": "stdin",
     "output_type": "stream",
     "text": [
      "请输入本金金额： 120000\n",
      "请输入年利率（如10%请输入0.1）： 0.035\n",
      "请输入投资年数： 5\n"
     ]
    },
    {
     "name": "stdout",
     "output_type": "stream",
     "text": [
      "每年末的账户总额： [124200.0, 128547.0, 133046.14, 137702.76, 142522.36]\n"
     ]
    }
   ],
   "source": [
    "principal = float(input(\"请输入本金金额：\"))\n",
    "rate = float(input(\"请输入年利率（如10%请输入0.1）：\"))\n",
    "years = int(input(\"请输入投资年数：\"))\n",
    "balances = []\n",
    "\n",
    "for year in range(1, years + 1):\n",
    "    principal *= (1 + rate)\n",
    "    balances.append(round(principal, 2))\n",
    "\n",
    "print(\"每年末的账户总额：\", balances)"
   ]
  },
  {
   "cell_type": "markdown",
   "id": "596b9796-19a7-4fda-8159-f1ac27aa6a71",
   "metadata": {},
   "source": [
    "### 7. 智能餐厅点餐系统\n",
    "\n",
    "**题目描述**：\n",
    "你需要为一家餐厅设计一个简单的点餐系统。这个系统应该允许用户从菜单中选择不同的菜品，并在最后提供订单总结和总金额。系统应该能够处理用户输入的无效选项，并允许用户在完成点餐后选择是否添加更多菜品。\n",
    "\n",
    "**系统要求**：\n",
    "\n",
    "首先显示一个菜单，例如：1. 汉堡 2. 薯条 3. 可乐 4. 冰淇淋；\n",
    "\n",
    "用户可以输入他们想要的菜品编号。如果输入无效（不是菜单上的数字），则提示错误并再次请求输入；\n",
    "\n",
    "每选择一个有效菜品，系统询问用户是否继续点餐；\n",
    "\n",
    "如果用户完成点餐，显示所有选定的菜品和总价；\n",
    "\n",
    "可以使用循环来处理用户的点餐过程，并用选择结构来处理不同的输入情况。"
   ]
  },
  {
   "cell_type": "code",
   "execution_count": 10,
   "id": "80560364-abe4-4435-8083-59079d2610ba",
   "metadata": {},
   "outputs": [
    {
     "name": "stdout",
     "output_type": "stream",
     "text": [
      "欢迎光临智能餐厅！请根据下列菜单进行点餐：\n",
      "1. 汉堡 - 30元\n",
      "2. 薯条 - 15元\n",
      "3. 可乐 - 10元\n",
      "4. 冰淇淋 - 20元\n"
     ]
    },
    {
     "name": "stdin",
     "output_type": "stream",
     "text": [
      "请输入您选择的菜品编号： 3\n",
      "您想再点些什么吗？(是/否)： 是\n",
      "请输入您选择的菜品编号： 1\n",
      "您想再点些什么吗？(是/否)： 否\n"
     ]
    },
    {
     "name": "stdout",
     "output_type": "stream",
     "text": [
      "\n",
      "您的订单：\n",
      "- 可乐 - 10元\n",
      "- 汉堡 - 30元\n",
      "总计：40元\n"
     ]
    }
   ],
   "source": [
    "menu = {\"1\": (\"汉堡\", 30), \"2\": (\"薯条\", 15), \"3\": (\"可乐\", 10), \"4\": (\"冰淇淋\", 20)}\n",
    "order = []\n",
    "total_cost = 0\n",
    "\n",
    "print(\"欢迎光临智能餐厅！请根据下列菜单进行点餐：\")\n",
    "for key, (item, price) in menu.items():\n",
    "    print(f\"{key}. {item} - {price}元\")\n",
    "\n",
    "while True:\n",
    "    choice = input(\"请输入您选择的菜品编号：\")\n",
    "    if choice in menu:\n",
    "        item, price = menu[choice]\n",
    "        order.append((item, price))\n",
    "        total_cost += price\n",
    "        more = input(\"您想再点些什么吗？(是/否)：\")\n",
    "        if more.lower() != '是':\n",
    "            break\n",
    "    else:\n",
    "        print(\"无效选项，请重新选择。\")\n",
    "\n",
    "print(\"\\n您的订单：\")\n",
    "for item, price in order:\n",
    "    print(f\"- {item} - {price}元\")\n",
    "print(f\"总计：{total_cost}元\")"
   ]
  }
 ],
 "metadata": {
  "kernelspec": {
   "display_name": "Python 3 (ipykernel)",
   "language": "python",
   "name": "python3"
  },
  "language_info": {
   "codemirror_mode": {
    "name": "ipython",
    "version": 3
   },
   "file_extension": ".py",
   "mimetype": "text/x-python",
   "name": "python",
   "nbconvert_exporter": "python",
   "pygments_lexer": "ipython3",
   "version": "3.9.7"
  }
 },
 "nbformat": 4,
 "nbformat_minor": 5
}
