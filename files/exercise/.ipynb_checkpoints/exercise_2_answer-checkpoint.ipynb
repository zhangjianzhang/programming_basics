{
 "cells": [
  {
   "cell_type": "markdown",
   "id": "39ec37a6-79e2-4ff7-9ff1-212c72a55c84",
   "metadata": {},
   "source": [
    "<center><font size=3 style=\"color:#BA4A00\"><strong>练习题</strong></font></center>"
   ]
  },
  {
   "cell_type": "markdown",
   "id": "72da5e1f-a6c0-4850-b2c9-1921f842adc3",
   "metadata": {},
   "source": [
    "### 1. 给定一个整数，计算其阶乘。"
   ]
  },
  {
   "cell_type": "code",
   "execution_count": 1,
   "id": "a737bac5-456a-45a9-8b10-e1e9894d4f39",
   "metadata": {},
   "outputs": [
    {
     "name": "stdout",
     "output_type": "stream",
     "text": [
      "The factorial of 9 is 362880\n"
     ]
    }
   ],
   "source": [
    "num = 9\n",
    "factorial = 1\n",
    "if num < 0:\n",
    "    print(\"Factorial does not exist for negative numbers\")\n",
    "elif num == 0:\n",
    "    print(\"The factorial of 0 is 1\")\n",
    "else:\n",
    "    # run loop 5 times\n",
    "    for i in range(1, num + 1):\n",
    "        # multiply factorial by current number\n",
    "        factorial = factorial * i\n",
    "    print(\"The factorial of\", num, \"is\", factorial)"
   ]
  },
  {
   "cell_type": "markdown",
   "id": "94845b52-6a83-478e-922c-ee4daca59062",
   "metadata": {},
   "source": [
    "### 2. 计算斐波那契数列中的前n个值（第一个值为0）\n",
    "\n",
    "斐波那契数列是这样的数列：\n",
    "\n",
    "0、1、1、2、3、5, 8、13、21、34 ……\n",
    "\n",
    "下一项是上两项的和。"
   ]
  },
  {
   "cell_type": "code",
   "execution_count": 2,
   "id": "70bbf6e3-58d1-43cd-95b1-c51da10ad6f0",
   "metadata": {},
   "outputs": [
    {
     "name": "stdout",
     "output_type": "stream",
     "text": [
      "Fibonacci sequence:\n",
      "0  1  1  2  3  5  8  13  21  34  55  89  144  233  377  610  987  1597  2584  4181  "
     ]
    }
   ],
   "source": [
    "n = 20\n",
    "# first two numbers\n",
    "num1, num2 = 0, 1\n",
    "\n",
    "print(\"Fibonacci sequence:\")\n",
    "# run loop 10 times\n",
    "for i in range(n):\n",
    "    # print next number of a series\n",
    "    print(num1, end=\"  \")\n",
    "    # add last two numbers to get next number\n",
    "    res = num1 + num2\n",
    "\n",
    "    # update values\n",
    "    num1 = num2\n",
    "    num2 = res"
   ]
  },
  {
   "cell_type": "markdown",
   "id": "21b34076-4643-499a-8194-329ef3496062",
   "metadata": {},
   "source": [
    "### 3. 编写一个 Python 程序，将两个数字 m（行数）和 n（列数）作为输入，并生成一个二维列表，二维列表的第 i 行第 j 列的元素值应该是 i*j，i = 0,1.., m-1；j = 0,1, n-1。"
   ]
  },
  {
   "cell_type": "markdown",
   "id": "9f050652-482d-4dfd-841e-baab190fa2ef",
   "metadata": {},
   "source": [
    "<div align=center>\n",
    "<img width=\"350\" height=\"350\" src=\"https://www.w3resource.com/w3r_images/python-conditional-image-exercise-11.png\">\n",
    "<br>\n",
    "</div>"
   ]
  },
  {
   "cell_type": "code",
   "execution_count": 3,
   "id": "03c9da7b-6922-454a-908f-77a7b268d0bc",
   "metadata": {},
   "outputs": [
    {
     "name": "stdin",
     "output_type": "stream",
     "text": [
      "Input number of rows:  3\n",
      "Input number of columns:  4\n"
     ]
    },
    {
     "name": "stdout",
     "output_type": "stream",
     "text": [
      "[[0, 0, 0, 0], [0, 1, 2, 3], [0, 2, 4, 6]]\n"
     ]
    }
   ],
   "source": [
    "row_num = int(input(\"Input number of rows: \"))\n",
    "col_num = int(input(\"Input number of columns: \"))\n",
    "multi_list = [[0 for col in range(col_num)] for row in range(row_num)]\n",
    "\n",
    "for row in range(row_num):\n",
    "    for col in range(col_num):\n",
    "        multi_list[row][col]= row*col\n",
    "\n",
    "print(multi_list)"
   ]
  },
  {
   "cell_type": "markdown",
   "id": "e52e34e6-7253-45ee-a6e7-4960b754db8f",
   "metadata": {},
   "source": [
    "### 4. 编写一个 Python 程序来显示给定出生日期的星座"
   ]
  },
  {
   "cell_type": "markdown",
   "id": "88900519-8e15-4b19-a05a-1f964bf72760",
   "metadata": {},
   "source": [
    "<div align=center>\n",
    "<img width=\"550\" height=\"550\" src=\"https://p.d1xz.net/2014/5/22/145051935193.jpg_art\">\n",
    "<br>\n",
    "</div>"
   ]
  },
  {
   "cell_type": "code",
   "execution_count": 4,
   "id": "4b366f9c-e6e3-42b0-9c78-dfcb46d87320",
   "metadata": {},
   "outputs": [
    {
     "name": "stdin",
     "output_type": "stream",
     "text": [
      "Input birthday (day, e.g. 30, 05, 11 etc):  18\n",
      "Input month of birth (e.g. march, july etc):  june\n"
     ]
    },
    {
     "name": "stdout",
     "output_type": "stream",
     "text": [
      "Your Astrological sign is : Gemini\n"
     ]
    }
   ],
   "source": [
    "day = int(input(\"Input birthday (day, e.g. 30, 05, 11 etc): \"))\n",
    "month = input(\"Input month of birth (e.g. march, july etc): \")\n",
    "if month == 'december':\n",
    "\tastro_sign = 'Sagittarius' if (day < 22) else 'capricorn'\n",
    "elif month == 'january':\n",
    "\tastro_sign = 'Capricorn' if (day < 20) else 'aquarius'\n",
    "elif month == 'february':\n",
    "\tastro_sign = 'Aquarius' if (day < 19) else 'pisces'\n",
    "elif month == 'march':\n",
    "\tastro_sign = 'Pisces' if (day < 21) else 'aries'\n",
    "elif month == 'april':\n",
    "\tastro_sign = 'Aries' if (day < 20) else 'taurus'\n",
    "elif month == 'may':\n",
    "\tastro_sign = 'Taurus' if (day < 21) else 'gemini'\n",
    "elif month == 'june':\n",
    "\tastro_sign = 'Gemini' if (day < 21) else 'cancer'\n",
    "elif month == 'july':\n",
    "\tastro_sign = 'Cancer' if (day < 23) else 'leo'\n",
    "elif month == 'august':\n",
    "\tastro_sign = 'Leo' if (day < 23) else 'virgo'\n",
    "elif month == 'september':\n",
    "\tastro_sign = 'Virgo' if (day < 23) else 'libra'\n",
    "elif month == 'october':\n",
    "\tastro_sign = 'Libra' if (day < 23) else 'scorpio'\n",
    "elif month == 'november':\n",
    "\tastro_sign = 'scorpio' if (day < 22) else 'sagittarius'\n",
    "print(\"Your Astrological sign is :\",astro_sign)"
   ]
  },
  {
   "cell_type": "markdown",
   "id": "c638584a-595f-4e6d-a065-341563976ad8",
   "metadata": {},
   "source": [
    "### 5. 编写Python程序检查用户输入密码的有效性，要求如下:"
   ]
  },
  {
   "cell_type": "markdown",
   "id": "06eb063c-854c-4d3c-ab98-3caa6c304d53",
   "metadata": {},
   "source": [
    "- 至少包含一个大写字母；\n",
    "\n",
    "- 至少包含一个小写字母；\n",
    "\n",
    "- 至少包含一个数字；\n",
    "\n",
    "- 至少包含一个标点符号`!\"#$%&\\'()*+,-./:;<=>?@[\\\\]^_`{|}~；\n",
    "\n",
    "- 不能包含空格\n",
    "\n",
    "- 长度不小于6；\n",
    "\n",
    "- 长度不大于16。"
   ]
  },
  {
   "cell_type": "code",
   "execution_count": 16,
   "id": "53691702-b134-49db-a468-ce80dfab5146",
   "metadata": {},
   "outputs": [
    {
     "name": "stdin",
     "output_type": "stream",
     "text": [
      "Input your password kdjnvckd4L.\n"
     ]
    },
    {
     "name": "stdout",
     "output_type": "stream",
     "text": [
      "Valid Password\n"
     ]
    }
   ],
   "source": [
    "import string\n",
    "p = input(\"Input your password\")\n",
    "flag = True\n",
    "while flag:  \n",
    "    if (len(p)<6 or len(p)>12):\n",
    "        break\n",
    "    elif not set(p) & set(string.ascii_lowercase):\n",
    "        break\n",
    "    elif not set(p) & set(string.digits):\n",
    "        break\n",
    "    elif not set(p) & set(string.ascii_uppercase):\n",
    "        break\n",
    "    elif not set(p) & set(string.punctuation):\n",
    "        break\n",
    "    elif len(p.split()) != 1:\n",
    "        break\n",
    "    else:\n",
    "        print(\"Valid Password\")\n",
    "        flag = False\n",
    "        break\n",
    "\n",
    "if flag:\n",
    "    print(\"Not a Valid Password\")"
   ]
  },
  {
   "cell_type": "code",
   "execution_count": null,
   "id": "086bf2fe-0e30-428b-b259-e0b5404d91f1",
   "metadata": {},
   "outputs": [],
   "source": []
  }
 ],
 "metadata": {
  "kernelspec": {
   "display_name": "Python 3 (ipykernel)",
   "language": "python",
   "name": "python3"
  },
  "language_info": {
   "codemirror_mode": {
    "name": "ipython",
    "version": 3
   },
   "file_extension": ".py",
   "mimetype": "text/x-python",
   "name": "python",
   "nbconvert_exporter": "python",
   "pygments_lexer": "ipython3",
   "version": "3.9.7"
  }
 },
 "nbformat": 4,
 "nbformat_minor": 5
}
