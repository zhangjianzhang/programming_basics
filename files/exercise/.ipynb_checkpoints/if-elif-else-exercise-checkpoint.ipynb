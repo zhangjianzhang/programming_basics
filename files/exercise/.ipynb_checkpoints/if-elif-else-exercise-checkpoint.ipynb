{
 "cells": [
  {
   "cell_type": "markdown",
   "id": "cafe975e-63cf-49a6-86f9-2e33483fa749",
   "metadata": {},
   "source": [
    "### 1. **折扣计算器**：\n",
    "\n",
    "编写一个程序，根据客户的购买金额计算折扣。如果购买金额超过1000元，则提供10%的折扣；如果超过5000元，则提供15%的折扣。程序应输出原始金额、折扣金额和最终支付金额。"
   ]
  },
  {
   "cell_type": "code",
   "execution_count": 1,
   "id": "f75530ae-563d-4b89-b58a-862709840979",
   "metadata": {},
   "outputs": [
    {
     "name": "stdin",
     "output_type": "stream",
     "text": [
      "请输入购买金额:  10000\n"
     ]
    },
    {
     "name": "stdout",
     "output_type": "stream",
     "text": [
      "原始金额: 10000.0, 折扣金额: 1500.0, 最终支付金额: 8500.0\n"
     ]
    }
   ],
   "source": [
    "purchase_amount = float(input(\"请输入购买金额: \"))\n",
    "\n",
    "if purchase_amount > 5000:\n",
    "    discount = purchase_amount * 0.15\n",
    "elif purchase_amount > 1000:\n",
    "    discount = purchase_amount * 0.10\n",
    "else:\n",
    "    discount = 0\n",
    "\n",
    "final_amount = purchase_amount - discount\n",
    "\n",
    "print(f\"原始金额: {purchase_amount}, 折扣金额: {discount}, 最终支付金额: {final_amount}\")"
   ]
  },
  {
   "cell_type": "markdown",
   "id": "c24b9120-ce14-44d2-a50b-cfc9b4031039",
   "metadata": {},
   "source": [
    "### 2. **股票交易决策**：\n",
    "设计一个程序，帮助用户决定是否应该买入或卖出股票。用户输入股票的当前价格和他们购买时的价格。如果当前价格比购买价格高出10%，建议卖出；如果当前价格比购买价格低20%，建议买入；否则，建议持有。"
   ]
  },
  {
   "cell_type": "code",
   "execution_count": 2,
   "id": "95d99dd8-80d7-44b2-be60-cd4b306ed0d8",
   "metadata": {},
   "outputs": [
    {
     "name": "stdin",
     "output_type": "stream",
     "text": [
      "请输入当前股票价格:  5\n",
      "请输入购买时的股票价格:  3.8\n"
     ]
    },
    {
     "name": "stdout",
     "output_type": "stream",
     "text": [
      "建议卖出\n"
     ]
    }
   ],
   "source": [
    "current_price = float(input(\"请输入当前股票价格: \"))\n",
    "purchase_price = float(input(\"请输入购买时的股票价格: \"))\n",
    "\n",
    "if current_price >= 1.10 * purchase_price:\n",
    "    print(\"建议卖出\")\n",
    "elif current_price <= 0.80 * purchase_price:\n",
    "    print(\"建议买入\")\n",
    "else:\n",
    "    print(\"建议持有\")"
   ]
  },
  {
   "cell_type": "markdown",
   "id": "12cffcce-8fd7-4366-930e-fd72635f8b57",
   "metadata": {},
   "source": [
    "### 3. **预算超支警报**：\n",
    "创建一个程序来帮助企业监控预算。程序接受两个输入：预算限额和当前支出。如果当前支出超过预算的80%，则显示警告信息；如果超支，则显示超支的金额。"
   ]
  },
  {
   "cell_type": "code",
   "execution_count": 3,
   "id": "51e78230-db22-46e3-bb21-16d821766893",
   "metadata": {},
   "outputs": [
    {
     "name": "stdin",
     "output_type": "stream",
     "text": [
      "请输入预算限额:  10000\n",
      "请输入当前支出:  7869\n"
     ]
    },
    {
     "name": "stdout",
     "output_type": "stream",
     "text": [
      "预算正常\n"
     ]
    }
   ],
   "source": [
    "budget = float(input(\"请输入预算限额: \"))\n",
    "expenditure = float(input(\"请输入当前支出: \"))\n",
    "\n",
    "if expenditure > budget:\n",
    "    print(f\"超支金额: {expenditure - budget}\")\n",
    "elif expenditure > 0.8 * budget:\n",
    "    print(\"警告：接近预算限额\")\n",
    "else:\n",
    "    print(\"预算正常\")"
   ]
  },
  {
   "cell_type": "markdown",
   "id": "7068c417-ef09-46b9-b6c7-a448b9a1165d",
   "metadata": {},
   "source": [
    "### 4. **奖金分配**：\n",
    "编写一个程序计算员工的年终奖。如果员工的年销售额超过50万，则奖金为销售额的5%；如果销售额超过100万，则奖金为销售额的10%。程序应输出员工的销售额和奖金金额。"
   ]
  },
  {
   "cell_type": "code",
   "execution_count": 6,
   "id": "32ec07f7-2a25-44fc-805e-93c469abdf24",
   "metadata": {},
   "outputs": [
    {
     "name": "stdin",
     "output_type": "stream",
     "text": [
      "请输入员工的年销售额:  783765\n"
     ]
    },
    {
     "name": "stdout",
     "output_type": "stream",
     "text": [
      "销售额: 783765.00, 奖金: 39188.25\n"
     ]
    }
   ],
   "source": [
    "sales = float(input(\"请输入员工的年销售额: \"))\n",
    "\n",
    "if sales > 1000000:\n",
    "    bonus = sales * 0.10\n",
    "elif sales > 500000:\n",
    "    bonus = sales * 0.05\n",
    "else:\n",
    "    bonus = 0\n",
    "\n",
    "print(\"销售额: {:.2f}, 奖金: {:.2f}\".format(sales,bonus))"
   ]
  },
  {
   "cell_type": "markdown",
   "id": "423fab7c-8cea-4c0c-88dd-d8b3e1b1908a",
   "metadata": {},
   "source": [
    "### 5. **信用等级判断**：\n",
    "为贷款申请编写一个程序，根据客户的年收入和信用评分判断其信用等级。如果年收入超过10万且信用评分超过700，则为A级；如果收入在5万至10万之间且信用评分超过650，则为B级；否则为C级。"
   ]
  },
  {
   "cell_type": "code",
   "execution_count": 7,
   "id": "bbdb18d6-9287-46e6-9de5-92a85cbcbeb0",
   "metadata": {},
   "outputs": [
    {
     "name": "stdin",
     "output_type": "stream",
     "text": [
      "请输入年收入:  150000\n",
      "请输入信用评分:  630\n"
     ]
    },
    {
     "name": "stdout",
     "output_type": "stream",
     "text": [
      "信用等级: C\n"
     ]
    }
   ],
   "source": [
    "income = float(input(\"请输入年收入: \"))\n",
    "credit_score = int(input(\"请输入信用评分: \"))\n",
    "\n",
    "if income > 100000 and credit_score > 700:\n",
    "    credit_class = 'A'\n",
    "elif 50000 < income <= 100000 and credit_score > 650:\n",
    "    credit_class = 'B'\n",
    "else:\n",
    "    credit_class = 'C'\n",
    "\n",
    "print(\"信用等级: {}\".format(credit_class))"
   ]
  },
  {
   "cell_type": "code",
   "execution_count": null,
   "id": "350ca908-1c93-45b7-8e0b-24f8db7b7469",
   "metadata": {},
   "outputs": [],
   "source": []
  }
 ],
 "metadata": {
  "kernelspec": {
   "display_name": "Python 3 (ipykernel)",
   "language": "python",
   "name": "python3"
  },
  "language_info": {
   "codemirror_mode": {
    "name": "ipython",
    "version": 3
   },
   "file_extension": ".py",
   "mimetype": "text/x-python",
   "name": "python",
   "nbconvert_exporter": "python",
   "pygments_lexer": "ipython3",
   "version": "3.9.7"
  }
 },
 "nbformat": 4,
 "nbformat_minor": 5
}
