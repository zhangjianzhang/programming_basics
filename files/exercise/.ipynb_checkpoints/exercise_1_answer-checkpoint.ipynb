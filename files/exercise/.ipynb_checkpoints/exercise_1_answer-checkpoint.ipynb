{
 "cells": [
  {
   "cell_type": "markdown",
   "id": "39ec37a6-79e2-4ff7-9ff1-212c72a55c84",
   "metadata": {},
   "source": [
    "<center><font size=3 style=\"color:#BA4A00\"><strong>练习题</strong></font></center>"
   ]
  },
  {
   "cell_type": "markdown",
   "id": "72da5e1f-a6c0-4850-b2c9-1921f842adc3",
   "metadata": {},
   "source": [
    "1. 请回答下面两段代码的返回值：\n",
    "\n",
    "- `[1,2] in [1,2,3]`;\n",
    "- `'喜欢' in '喜欢看你紧紧皱眉'`;"
   ]
  },
  {
   "cell_type": "markdown",
   "id": "94845b52-6a83-478e-922c-ee4daca59062",
   "metadata": {},
   "source": [
    "2. 已知`s = set([1,2])`请分别回答下面两段代码运行后变量s的值：\n",
    "\n",
    "- `s.add((1,2))`;\n",
    "\n",
    "- `s.add([1,2])`;"
   ]
  },
  {
   "cell_type": "markdown",
   "id": "1ad5ce63-6a83-4876-8ef8-1120a48f0e11",
   "metadata": {},
   "source": [
    "3. 已知`l = list('programming')`，请回答下面代码的运行结果：\n",
    "\n",
    "- `l[-3:2:-2]`\n",
    "\n",
    "- `l[2:-3:2]`\n",
    "\n",
    "- `l[2:-3:-2]`"
   ]
  },
  {
   "cell_type": "markdown",
   "id": "9fe6ffb3-4fee-4a63-9efb-f95feaa1156a",
   "metadata": {},
   "source": [
    "4. 已知`x = [1,2,3]`，`y = x`，`z = y[:]`，请回答下面代码的运行结果：\n",
    "\n",
    "- `x is y`;\n",
    "\n",
    "- `x is z`;\n",
    "\n",
    "- `y == z`;\n",
    "\n",
    "- `(id(x) == id(y)) and (x is y)`"
   ]
  },
  {
   "cell_type": "markdown",
   "id": "38f96fc4-ec20-4501-9716-37a9a9db7566",
   "metadata": {},
   "source": [
    "5. 已知\n",
    "\n",
    "```\n",
    "lyrics = \"Near far wherever you are I believe that the heart does go on Once more you open the door And you are here in my heart And my heart will go on and on\"\n",
    "```\n",
    "\n",
    "请结合列表和字符串相关方法和操作，统计`lyrics`中长度大于3个字符的单词，返回结果中不包含重复单词，且要求返回的单词首字母大写。"
   ]
  },
  {
   "cell_type": "code",
   "execution_count": 1,
   "id": "71c44b03-29c1-4e4a-bf3c-db58612dc94f",
   "metadata": {},
   "outputs": [],
   "source": [
    "lyrics = \"Near far wherever you are I believe that the heart does go on Once more you\\\n",
    " open the door And you are here in my heart And my heart will go on and on\""
   ]
  },
  {
   "cell_type": "code",
   "execution_count": 2,
   "id": "c0b8bb9b-3bc7-43ca-99d6-e2d31932ed8f",
   "metadata": {},
   "outputs": [],
   "source": [
    "word_list = lyrics.lower().strip().split()"
   ]
  },
  {
   "cell_type": "code",
   "execution_count": 3,
   "id": "1c1cb118-3382-4ca4-be07-ce294dfa72cc",
   "metadata": {},
   "outputs": [
    {
     "name": "stdout",
     "output_type": "stream",
     "text": [
      "['near', 'far', 'wherever', 'you', 'are', 'i', 'believe', 'that', 'the', 'heart', 'does', 'go', 'on', 'once', 'more', 'you', 'open', 'the', 'door', 'and', 'you', 'are', 'here', 'in', 'my', 'heart', 'and', 'my', 'heart', 'will', 'go', 'on', 'and', 'on']\n"
     ]
    }
   ],
   "source": [
    "print(word_list)"
   ]
  },
  {
   "cell_type": "code",
   "execution_count": 4,
   "id": "4a656a08-d92a-44a2-a72e-946955ff4acd",
   "metadata": {},
   "outputs": [],
   "source": [
    "word_set = set(word_list)"
   ]
  },
  {
   "cell_type": "code",
   "execution_count": 5,
   "id": "22293fdd-4ec4-4afb-8fbf-a93d781f00aa",
   "metadata": {},
   "outputs": [
    {
     "name": "stdout",
     "output_type": "stream",
     "text": [
      "{'will', 'far', 'go', 'here', 'open', 'once', 'the', 'i', 'heart', 'and', 'in', 'my', 'more', 'does', 'door', 'wherever', 'are', 'that', 'you', 'near', 'believe', 'on'}\n"
     ]
    }
   ],
   "source": [
    "print(word_set)"
   ]
  },
  {
   "cell_type": "code",
   "execution_count": 6,
   "id": "0bad8a1d-bd4a-41a8-b524-0790b63cdc17",
   "metadata": {},
   "outputs": [],
   "source": [
    "result_list = [word.title() for word in word_set if len(word) > 3]"
   ]
  },
  {
   "cell_type": "code",
   "execution_count": 7,
   "id": "4b80be2f-0e17-4a94-94e7-a9ba362b3f2e",
   "metadata": {},
   "outputs": [
    {
     "name": "stdout",
     "output_type": "stream",
     "text": [
      "['Will', 'Here', 'Open', 'Once', 'Heart', 'More', 'Does', 'Door', 'Wherever', 'That', 'Near', 'Believe']\n"
     ]
    }
   ],
   "source": [
    "print(result_list)"
   ]
  },
  {
   "cell_type": "markdown",
   "id": "8ff78ada-faf2-4e56-822b-6fc147a64e0d",
   "metadata": {},
   "source": [
    "6. 找出 1-100中所有能被 7 整除的数，请使用列表推导式。"
   ]
  },
  {
   "cell_type": "code",
   "execution_count": 8,
   "id": "9526b31a-40e5-4cb7-90dd-1b2cd0f9c3b4",
   "metadata": {},
   "outputs": [],
   "source": [
    "result = [number for number in range(1, 101) if number%7 == 0]"
   ]
  },
  {
   "cell_type": "code",
   "execution_count": 9,
   "id": "b339f6ca-8341-4ae8-8223-3743fe6c3042",
   "metadata": {},
   "outputs": [
    {
     "name": "stdout",
     "output_type": "stream",
     "text": [
      "[7, 14, 21, 28, 35, 42, 49, 56, 63, 70, 77, 84, 91, 98]\n"
     ]
    }
   ],
   "source": [
    "print(result)"
   ]
  },
  {
   "cell_type": "markdown",
   "id": "9092cfa0-d53d-48ad-89f0-078f18de44a1",
   "metadata": {},
   "source": [
    "7. 找出 1-100 中包含 3 的所有数字，请使用列表推导式。"
   ]
  },
  {
   "cell_type": "code",
   "execution_count": 10,
   "id": "3664906a-6d07-4888-9a5e-74ca4e928f94",
   "metadata": {},
   "outputs": [],
   "source": [
    "result = [number for number in range(1, 101) if '3' in str(number)]"
   ]
  },
  {
   "cell_type": "code",
   "execution_count": 11,
   "id": "e3843e94-211d-4bb4-a0f4-30175d5b37a4",
   "metadata": {},
   "outputs": [
    {
     "name": "stdout",
     "output_type": "stream",
     "text": [
      "[3, 13, 23, 30, 31, 32, 33, 34, 35, 36, 37, 38, 39, 43, 53, 63, 73, 83, 93]\n"
     ]
    }
   ],
   "source": [
    "print(result)"
   ]
  },
  {
   "cell_type": "markdown",
   "id": "06a24f9e-8fd3-44f8-8818-b41644cd6a7f",
   "metadata": {},
   "source": [
    "8. 抽取出字符串s中的所有辅音字母，`s=\"Yellow Yaks like yelling and yawning and yesturday they yodled while eating yuky yams\"`"
   ]
  },
  {
   "cell_type": "code",
   "execution_count": 12,
   "id": "c8a5ebde-02e7-439a-96fd-ffb2028ae29e",
   "metadata": {},
   "outputs": [],
   "source": [
    "s=\"Yellow Yaks like yelling and yawning and yesturday they yodled while eating yuky yams\""
   ]
  },
  {
   "cell_type": "code",
   "execution_count": 13,
   "id": "658f7c1b-1467-4ff9-8a4f-7938a4f5a0e6",
   "metadata": {},
   "outputs": [],
   "source": [
    "vowels = ['a','e','i','o','u']"
   ]
  },
  {
   "cell_type": "code",
   "execution_count": 14,
   "id": "00733c49-34cb-4f63-ab9b-ff0e9ab13c5d",
   "metadata": {},
   "outputs": [],
   "source": [
    "char_list = list(s.lower())"
   ]
  },
  {
   "cell_type": "code",
   "execution_count": 15,
   "id": "9711940e-a711-4b7e-a660-b68057d92715",
   "metadata": {},
   "outputs": [
    {
     "name": "stdout",
     "output_type": "stream",
     "text": [
      "['y', 'e', 'l', 'l', 'o', 'w', ' ', 'y', 'a', 'k', 's', ' ', 'l', 'i', 'k', 'e', ' ', 'y', 'e', 'l', 'l', 'i', 'n', 'g', ' ', 'a', 'n', 'd', ' ', 'y', 'a', 'w', 'n', 'i', 'n', 'g', ' ', 'a', 'n', 'd', ' ', 'y', 'e', 's', 't', 'u', 'r', 'd', 'a', 'y', ' ', 't', 'h', 'e', 'y', ' ', 'y', 'o', 'd', 'l', 'e', 'd', ' ', 'w', 'h', 'i', 'l', 'e', ' ', 'e', 'a', 't', 'i', 'n', 'g', ' ', 'y', 'u', 'k', 'y', ' ', 'y', 'a', 'm', 's']\n"
     ]
    }
   ],
   "source": [
    "print(char_list)"
   ]
  },
  {
   "cell_type": "code",
   "execution_count": 16,
   "id": "8368a211-fa42-4e4c-9653-9b953803e13b",
   "metadata": {},
   "outputs": [],
   "source": [
    "char_set = set(char_list)"
   ]
  },
  {
   "cell_type": "code",
   "execution_count": 17,
   "id": "e8bc0279-2e98-433f-8c8e-09ecffa9de20",
   "metadata": {},
   "outputs": [],
   "source": [
    "char_set.remove(' ')"
   ]
  },
  {
   "cell_type": "code",
   "execution_count": 18,
   "id": "c5e07725-a81b-473a-bc9b-32da1d1ab79c",
   "metadata": {},
   "outputs": [],
   "source": [
    "result = [char for char in char_set if char not in vowels]"
   ]
  },
  {
   "cell_type": "code",
   "execution_count": 19,
   "id": "78b8292e-0138-44ef-88f4-8a025b5f4bc6",
   "metadata": {},
   "outputs": [
    {
     "name": "stdout",
     "output_type": "stream",
     "text": [
      "['r', 'w', 'd', 'h', 'y', 'g', 'n', 'k', 't', 's', 'm', 'l']\n"
     ]
    }
   ],
   "source": [
    "print(result)"
   ]
  },
  {
   "cell_type": "markdown",
   "id": "e453e41d-e776-466f-9349-326fbbcfda22",
   "metadata": {},
   "source": [
    "9. 已知`l = ['hi', 4, 8.99, 'apple', ('t,b','n')].`请书写代码以元组形式`(0, 'hi')`返回该列表中的元素和对应的索引。"
   ]
  },
  {
   "cell_type": "code",
   "execution_count": 20,
   "id": "32eeb259-f3cc-4576-a826-aa8526f9face",
   "metadata": {},
   "outputs": [],
   "source": [
    "l = ['hi', 4, 8.99, 'apple', ('t,b','n')]"
   ]
  },
  {
   "cell_type": "code",
   "execution_count": 21,
   "id": "f9869639-2e67-49da-ac3b-40846576e4ad",
   "metadata": {},
   "outputs": [],
   "source": [
    "result = [(idx,item) for idx,item in enumerate(l)]"
   ]
  },
  {
   "cell_type": "code",
   "execution_count": 22,
   "id": "d3c6f6be-d6ff-4d47-983d-7cd4be662a4b",
   "metadata": {},
   "outputs": [
    {
     "name": "stdout",
     "output_type": "stream",
     "text": [
      "[(0, 'hi'), (1, 4), (2, 8.99), (3, 'apple'), (4, ('t,b', 'n'))]\n"
     ]
    }
   ],
   "source": [
    "print(result)"
   ]
  },
  {
   "cell_type": "markdown",
   "id": "c6adb91c-5627-4c9c-b6f3-e378dbc3066a",
   "metadata": {},
   "source": [
    "10. 将字符串s中的数字抽取出来，`s=\"In 1984 there were 13 instances of a protest with over 1000 people attending\"`"
   ]
  },
  {
   "cell_type": "code",
   "execution_count": 23,
   "id": "f8963dfe-7e6a-4d16-9c3c-36e0e064de2f",
   "metadata": {},
   "outputs": [],
   "source": [
    "s=\"In 1984 there were 13 instances of a protest with over 1000 people attending\""
   ]
  },
  {
   "cell_type": "code",
   "execution_count": 24,
   "id": "fffd56c4-93ae-4135-b8c6-0be775f045bb",
   "metadata": {},
   "outputs": [],
   "source": [
    "word_list = s.strip().split()"
   ]
  },
  {
   "cell_type": "code",
   "execution_count": 25,
   "id": "77963318-2a03-44ea-a2d7-770952d17402",
   "metadata": {},
   "outputs": [
    {
     "name": "stdout",
     "output_type": "stream",
     "text": [
      "['In', '1984', 'there', 'were', '13', 'instances', 'of', 'a', 'protest', 'with', 'over', '1000', 'people', 'attending']\n"
     ]
    }
   ],
   "source": [
    "print(word_list)"
   ]
  },
  {
   "cell_type": "code",
   "execution_count": 26,
   "id": "cb09e108-eb95-4e13-a688-73e79701bc32",
   "metadata": {},
   "outputs": [],
   "source": [
    "result = [word for word in word_list if word.isdigit()]"
   ]
  },
  {
   "cell_type": "code",
   "execution_count": 27,
   "id": "02dcad26-ce17-4d43-871d-6c7ff63ad582",
   "metadata": {},
   "outputs": [
    {
     "name": "stdout",
     "output_type": "stream",
     "text": [
      "['1984', '13', '1000']\n"
     ]
    }
   ],
   "source": [
    "print(result)"
   ]
  },
  {
   "cell_type": "code",
   "execution_count": 28,
   "id": "00b7a188-1d08-4baf-830b-0c527d4d0ce9",
   "metadata": {},
   "outputs": [
    {
     "data": {
      "text/plain": [
       "False"
      ]
     },
     "execution_count": 28,
     "metadata": {},
     "output_type": "execute_result"
    }
   ],
   "source": [
    "# 注意，如果是小数就不能用.isdigit()方法判断了\n",
    "'100.0'.isdigit()"
   ]
  },
  {
   "cell_type": "markdown",
   "id": "06645db3-031b-4680-afc5-c8cf2588e7eb",
   "metadata": {},
   "source": [
    "11. 下面代码会生成一个包含10个1-30之间随机整数的列表`randomlist`，请写列表推导式生成一个与`randomlist`长度一样的列表，使得生成的列表只包含'even'和'odd'两种元素，要求`randomlist`中偶数在新列表中对应'even'，奇数对应'odd'"
   ]
  },
  {
   "cell_type": "markdown",
   "id": "3dd08b21-2183-4eb1-8153-b9801a2ce99e",
   "metadata": {},
   "source": [
    "```python\n",
    "import random\n",
    "randomlist = random.sample(range(1, 30), 5)\n",
    "print(randomlist)\n",
    "```"
   ]
  },
  {
   "cell_type": "markdown",
   "id": "e31496f2-489a-4ef3-ac24-1b0b5d249bc4",
   "metadata": {},
   "source": [
    "例如，`randomlist = [27, 18, 9, 22, 4]`，则生成的新列表应该是`['odd','even','odd','even','even']`"
   ]
  },
  {
   "cell_type": "code",
   "execution_count": 29,
   "id": "f54bae60-a76c-4f66-9614-506bcb2d9ca7",
   "metadata": {},
   "outputs": [
    {
     "name": "stdout",
     "output_type": "stream",
     "text": [
      "Random int list [7, 6, 28, 5, 21]\n",
      "Result list ['odd', 'even', 'even', 'odd', 'odd']\n"
     ]
    }
   ],
   "source": [
    "import random\n",
    "randomlist = random.sample(range(1, 30), 5)\n",
    "print('Random int list',randomlist)\n",
    "result = ['odd'if item%2 else 'even' for item in randomlist]\n",
    "print('Result list',result)"
   ]
  },
  {
   "cell_type": "markdown",
   "id": "66fb9d00-01c1-4416-89cf-195d5aaefefa",
   "metadata": {},
   "source": [
    "12. 使用嵌套列表推导式查找 1-100中所有单个数字(1除外，即能被2-9中的一个数字整除)整除的数。"
   ]
  },
  {
   "cell_type": "code",
   "execution_count": 30,
   "id": "93d3a4f9-f25a-4551-a5de-579646b81dd6",
   "metadata": {},
   "outputs": [
    {
     "name": "stdout",
     "output_type": "stream",
     "text": [
      "[2, 3, 4, 5, 6, 7, 8, 9, 10, 12, 14, 15, 16, 18, 20, 21, 22, 24, 25, 26, 27, 28, 30, 32, 33, 34, 35, 36, 38, 39, 40, 42, 44, 45, 46, 48, 49, 50, 51, 52, 54, 55, 56, 57, 58, 60, 62, 63, 64, 65, 66, 68, 69, 70, 72, 74, 75, 76, 77, 78, 80, 81, 82, 84, 85, 86, 87, 88, 90, 91, 92, 93, 94, 95, 96, 98, 99, 100]\n"
     ]
    }
   ],
   "source": [
    "result = [number for number in range(1,101) if any([True for x in range(2,10) if number % x == 0])]\n",
    "print(result)"
   ]
  },
  {
   "cell_type": "markdown",
   "id": "0ac4ba29-6fd2-4789-aed4-851698e88806",
   "metadata": {},
   "source": [
    "13. 编写一个Python程序来替换列表中元组的最后一个值，例如：\n",
    "\n",
    "输入：`[(10, 20, 40), (40, 50, 60), (70, 80, 90)]`；\n",
    "\n",
    "输出：`[(10, 20, 100), (40, 50, 100), (70, 80, 100)]`；"
   ]
  },
  {
   "cell_type": "code",
   "execution_count": 31,
   "id": "0641fe8f-ca62-4614-8995-a449bff4412a",
   "metadata": {},
   "outputs": [
    {
     "name": "stdout",
     "output_type": "stream",
     "text": [
      "[(10, 20, 100), (40, 50, 100), (70, 80, 100)]\n"
     ]
    }
   ],
   "source": [
    "l = [(10, 20, 40), (40, 50, 60), (70, 80, 90)]\n",
    "print([t[:-1] + (100,) for t in l])"
   ]
  },
  {
   "cell_type": "markdown",
   "id": "b54fc0b9-48bd-4c16-a68d-49015a01c685",
   "metadata": {},
   "source": [
    "14. 编写一个 Python 程序，通过其浮点元素对元组进行排序。\n",
    "\n",
    "示例输入: `[('item1', '12.20'), ('item2', '15.10'), ('item3', '24.5')]`\n",
    "\n",
    "示例输出: `[('item3', '24.5'), ('item2', '15.10'), ('item1', '12.20')]`"
   ]
  },
  {
   "cell_type": "code",
   "execution_count": 32,
   "id": "c49f5a77-71ce-493f-9335-12b6bae11155",
   "metadata": {},
   "outputs": [
    {
     "name": "stdout",
     "output_type": "stream",
     "text": [
      "[('item3', '24.5'), ('item2', '15.10'), ('item1', '12.20')]\n"
     ]
    }
   ],
   "source": [
    "price = [('item1', '12.20'), ('item2', '15.10'), ('item3', '24.5')]\n",
    "print( sorted(price, key=lambda x: float(x[1]), reverse=True))"
   ]
  },
  {
   "cell_type": "markdown",
   "id": "8e3c2331-ec5a-4780-82f0-f7c49407581a",
   "metadata": {},
   "source": [
    "15. 编写一个 Python 程序计算乘积，将给定元组的所有数字相乘。\n",
    "\n",
    "示例输入：`(4, 3, 2, 2, -1, 18)`\n",
    "\n",
    "示例输出: `-864`"
   ]
  },
  {
   "cell_type": "code",
   "execution_count": 33,
   "id": "9a0cde81-e62b-43b5-bf96-176a2afa4264",
   "metadata": {},
   "outputs": [],
   "source": [
    "t = (4, 3, 2, 2, -1, 18)"
   ]
  },
  {
   "cell_type": "code",
   "execution_count": 34,
   "id": "ca15a4f9-705a-49d8-acdc-a919791a6dd1",
   "metadata": {},
   "outputs": [
    {
     "name": "stdout",
     "output_type": "stream",
     "text": [
      "-864\n"
     ]
    }
   ],
   "source": [
    "product = 1\n",
    "for item in t:\n",
    "    product *= item\n",
    "print(product)"
   ]
  },
  {
   "cell_type": "markdown",
   "id": "5d144c4e-dda2-4401-86f0-8704be1e7aff",
   "metadata": {},
   "source": [
    "16. 编写一个 Python 程序，将字符串值的元组转换为整数值的元组。\n",
    "\n",
    "示例输入: `(('333', '33'), ('1416', '55'))`\n",
    "\n",
    "示例输出: `((333, 33), (1416, 55))`"
   ]
  },
  {
   "cell_type": "code",
   "execution_count": 35,
   "id": "0b97d83f-d80c-4286-8c7f-10b3f193d901",
   "metadata": {},
   "outputs": [],
   "source": [
    "t = (('333', '33'), ('1416', '55'))"
   ]
  },
  {
   "cell_type": "code",
   "execution_count": 36,
   "id": "3ba4bd73-c459-4c45-a34a-8ace8054e9db",
   "metadata": {},
   "outputs": [],
   "source": [
    "new_t = tuple([(int(item[0]),int(item[1])) for item in t])"
   ]
  },
  {
   "cell_type": "code",
   "execution_count": 37,
   "id": "3679e935-490f-4ea1-8c9f-fa5d21b2018e",
   "metadata": {},
   "outputs": [
    {
     "data": {
      "text/plain": [
       "((333, 33), (1416, 55))"
      ]
     },
     "execution_count": 37,
     "metadata": {},
     "output_type": "execute_result"
    }
   ],
   "source": [
    "new_t"
   ]
  },
  {
   "cell_type": "markdown",
   "id": "4b4813bb-f3bd-4197-be20-6655e2c0d853",
   "metadata": {},
   "source": [
    "17. 已知列表`l = list('Python Programming')`，请回答`l[:7][-1]`的结果是什么。"
   ]
  },
  {
   "cell_type": "markdown",
   "id": "c71868f9-008d-4539-8bb7-f056f6cd051f",
   "metadata": {},
   "source": [
    "18. 已知元组`t = tuple('Python')`，请回答`t[:100]`的结果是什么，请回答`t[:-2]`的结果是什么，请回答`t[-100:]`的结果是什么。"
   ]
  },
  {
   "cell_type": "markdown",
   "id": "da8b7cb4-57f0-473f-a430-12115c75d164",
   "metadata": {},
   "source": [
    "19. 已知字符串`s=\"僧游云隐寺\"`，请写程序将该字符串倒过来，即输出`\"寺隐云游僧\"`"
   ]
  },
  {
   "cell_type": "code",
   "execution_count": 38,
   "id": "b7d6db31-0209-4453-ab0c-dac93f7dfb69",
   "metadata": {},
   "outputs": [],
   "source": [
    "s=\"僧游云隐寺\""
   ]
  },
  {
   "cell_type": "code",
   "execution_count": 39,
   "id": "8035ea16-a1ab-463d-a508-89a33d19943c",
   "metadata": {},
   "outputs": [],
   "source": [
    "new_s = s[::-1]"
   ]
  },
  {
   "cell_type": "code",
   "execution_count": 40,
   "id": "39164b48-c3b3-403e-89e5-88eb48fd71d7",
   "metadata": {},
   "outputs": [
    {
     "name": "stdout",
     "output_type": "stream",
     "text": [
      "寺隐云游僧\n"
     ]
    }
   ],
   "source": [
    "print(new_s)"
   ]
  },
  {
   "cell_type": "code",
   "execution_count": 41,
   "id": "f4f257e5-138b-4759-bb38-8d7fddb8115c",
   "metadata": {},
   "outputs": [
    {
     "name": "stdout",
     "output_type": "stream",
     "text": [
      "僧游云隐寺\n"
     ]
    }
   ],
   "source": [
    "print(s)"
   ]
  },
  {
   "cell_type": "markdown",
   "id": "eb0da590-e42d-4e8c-b0cd-fa31c2092b63",
   "metadata": {},
   "source": [
    "20. 已知字符串`s=\"鸟宿池边树，僧推月下门\"`，请写程序将该字符串中的“推”字换为“敲”字。"
   ]
  },
  {
   "cell_type": "code",
   "execution_count": 42,
   "id": "58c5e310-e96a-4992-9f2b-8ef615fcfee0",
   "metadata": {},
   "outputs": [],
   "source": [
    "s=\"鸟宿池边树，僧推月下门\""
   ]
  },
  {
   "cell_type": "code",
   "execution_count": 43,
   "id": "4ee4666d-1ee6-45be-9682-38f048f0e9fb",
   "metadata": {},
   "outputs": [],
   "source": [
    "new_s = s.replace('推','敲')"
   ]
  },
  {
   "cell_type": "code",
   "execution_count": 44,
   "id": "6215643b-cb08-4481-a0b0-ce8dc2d8d15d",
   "metadata": {},
   "outputs": [
    {
     "name": "stdout",
     "output_type": "stream",
     "text": [
      "鸟宿池边树，僧敲月下门\n"
     ]
    }
   ],
   "source": [
    "print(new_s)"
   ]
  },
  {
   "cell_type": "code",
   "execution_count": 45,
   "id": "58afa119-a448-4376-bfac-07e8c7a4c306",
   "metadata": {},
   "outputs": [
    {
     "name": "stdout",
     "output_type": "stream",
     "text": [
      "鸟宿池边树，僧推月下门\n"
     ]
    }
   ],
   "source": [
    "print(s)"
   ]
  },
  {
   "cell_type": "markdown",
   "id": "fe3b0729-5f0b-47d9-87e8-5dbe6035ee8b",
   "metadata": {},
   "source": [
    "21. 请使用字符串格式化打印输出一副对联，要求上联在左，下联在右，竖版输出显示。\n",
    "\n",
    "上联：星河层里星河转\n",
    "\n",
    "下联：日月楼中日月长\n",
    "\n",
    "——丰子恺自题联"
   ]
  },
  {
   "cell_type": "code",
   "execution_count": 46,
   "id": "c0aa7028-0f31-424b-9596-1a29c6dde7e1",
   "metadata": {},
   "outputs": [],
   "source": [
    "left = '星河层里星河转'"
   ]
  },
  {
   "cell_type": "code",
   "execution_count": 47,
   "id": "c6852d83-7a10-482e-acef-6e3ad6cf7cd1",
   "metadata": {},
   "outputs": [],
   "source": [
    "right = '日月楼中日月长'"
   ]
  },
  {
   "cell_type": "code",
   "execution_count": 48,
   "id": "d04868c7-de25-4328-a740-981b86918367",
   "metadata": {},
   "outputs": [
    {
     "name": "stdout",
     "output_type": "stream",
     "text": [
      "星\t\t日\n",
      "河\t\t月\n",
      "层\t\t楼\n",
      "里\t\t中\n",
      "星\t\t日\n",
      "河\t\t月\n",
      "转\t\t长\n"
     ]
    }
   ],
   "source": [
    "for item in zip(left, right):\n",
    "    print('%s\\t\\t%s'%item)"
   ]
  },
  {
   "cell_type": "markdown",
   "id": "5d82d272-d2bb-4008-b8ab-7307c74b51a0",
   "metadata": {},
   "source": [
    "22. 请回答下面语句的返回结果：\n",
    "\n",
    "`list(\"python\") > list(\"pythoner\")`"
   ]
  },
  {
   "cell_type": "markdown",
   "id": "ace7a7df-bccf-4e85-bb4b-3e701b355492",
   "metadata": {},
   "source": [
    "23. 请回答下面语句的返回结果：\n",
    "\n",
    "`'Alibaba' > 'Tencent'`"
   ]
  },
  {
   "cell_type": "markdown",
   "id": "f881b581-7659-4064-a3ba-bb7a554038c1",
   "metadata": {},
   "source": [
    "24. 已知列表`l = list('王中王')`，请回答下面语句的最终运行结果：\n",
    "\n",
    "```python\n",
    "l1 = list(reversed(l))\n",
    "l2 = l[::-1]\n",
    "id(l1) == id(l2)\n",
    "```"
   ]
  },
  {
   "cell_type": "markdown",
   "id": "65d3e253-2c21-43d3-8ffa-d5046155968a",
   "metadata": {},
   "source": [
    "25. 请回答下面语句的最终运行结果：\n",
    "\n",
    "```python\n",
    "mylist = [0, 1, 1]\n",
    "x = all(mylist)\n",
    "print(x)\n",
    "```"
   ]
  },
  {
   "cell_type": "markdown",
   "id": "a2a0862d-489b-4a6c-971d-b3b6206efbf3",
   "metadata": {},
   "source": [
    "26. 请回答下面语句的最终运行结果：\n",
    "\n",
    "```python\n",
    "mydict = {1 : \"Apple\", '' : \"Orange\"}\n",
    "x = all(mydict)\n",
    "print(x)\n",
    "```"
   ]
  },
  {
   "cell_type": "markdown",
   "id": "9069d34c-20e4-4c4c-bdad-56be11ab349f",
   "metadata": {},
   "source": [
    "27. 请回答下面语句的最终运行结果：\n",
    "\n",
    "```python\n",
    "any([None,'',0,False]) # 第二个元素是空字符串\n",
    "```"
   ]
  },
  {
   "cell_type": "markdown",
   "id": "33eecfd1-c2ff-4305-bf39-00c4bb749113",
   "metadata": {},
   "source": [
    "28. 请回答下面语句的最终运行结果：\n",
    "\n",
    "```python\n",
    "any([None,' ',0,False]) # 第二个元素是一个空格\n",
    "```"
   ]
  },
  {
   "cell_type": "markdown",
   "id": "b3fefbe6-2b36-471c-9f7f-7a9609a9bbd9",
   "metadata": {},
   "source": [
    "29. 请回答下面语句的最终运行结果：\n",
    "\n",
    "```python\n",
    "l = list('Python'*2)\n",
    "l[3:3] = list('good')\n",
    "l.index('g')\n",
    "```"
   ]
  },
  {
   "cell_type": "markdown",
   "id": "6bdd0c77-425a-470d-a1bd-c2087bd19a43",
   "metadata": {},
   "source": [
    "30. 请回答下面语句的最终运行结果：\n",
    "\n",
    "```python\n",
    "l = list('Python'*2)\n",
    "l.extend(['good'])\n",
    "len(l)\n",
    "```"
   ]
  },
  {
   "cell_type": "markdown",
   "id": "720a8741-c061-4f09-b3ec-33389c7bec2c",
   "metadata": {},
   "source": [
    "31. 请回答下面语句的最终运行结果：\n",
    "\n",
    "```python\n",
    "l = list('Python'*2)\n",
    "l.insert(-2,'g')\n",
    "l.index('g')\n",
    "```"
   ]
  },
  {
   "cell_type": "markdown",
   "id": "349084cb-f473-44e5-b9fc-d4a871f48dec",
   "metadata": {},
   "source": [
    "31. 请回答下面语句的最终运行结果：\n",
    "\n",
    "```python\n",
    "l = list('Python'*2)\n",
    "l.reverse()\n",
    "l.remove('t')\n",
    "l.count(l[4].lower())\n",
    "```"
   ]
  },
  {
   "cell_type": "markdown",
   "id": "1a5a23ef-e43e-4b32-b10b-75b884bcc9f9",
   "metadata": {},
   "source": [
    "32. 请回答下面语句的最终运行结果：\n",
    "\n",
    "```python\n",
    "tuple4 = tuple([1,2] + [list('Python')] + ['Python'])\n",
    "len(tuple4)\n",
    "```"
   ]
  },
  {
   "cell_type": "code",
   "execution_count": 49,
   "id": "c5ad2bea-f630-4683-ade8-1ca12fb1c995",
   "metadata": {},
   "outputs": [
    {
     "name": "stdout",
     "output_type": "stream",
     "text": [
      "未完待续！！！\n"
     ]
    }
   ],
   "source": [
    "print('未完待续！！！')"
   ]
  }
 ],
 "metadata": {
  "kernelspec": {
   "display_name": "Python 3 (ipykernel)",
   "language": "python",
   "name": "python3"
  },
  "language_info": {
   "codemirror_mode": {
    "name": "ipython",
    "version": 3
   },
   "file_extension": ".py",
   "mimetype": "text/x-python",
   "name": "python",
   "nbconvert_exporter": "python",
   "pygments_lexer": "ipython3",
   "version": "3.9.7"
  }
 },
 "nbformat": 4,
 "nbformat_minor": 5
}
