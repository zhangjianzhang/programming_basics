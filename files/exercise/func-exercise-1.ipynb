{
 "cells": [
  {
   "cell_type": "markdown",
   "id": "e0890e6e-51e3-462b-be92-7deb68c77f14",
   "metadata": {},
   "source": [
    "### 1. 计算圆的面积\n",
    "\n",
    "编写一个名为 calculate_circle_area 的函数，它接收圆的半径（一个数值型参数）作为输入，并返回圆的面积。圆的面积计算公式为 $\\pi r^2$，其中 r是半径，$\\pi$ 可以使用 math.pi。\n"
   ]
  },
  {
   "cell_type": "code",
   "execution_count": 1,
   "id": "7ee15bd0-d900-4d1e-9e6d-58a904400bd8",
   "metadata": {},
   "outputs": [],
   "source": [
    "import math\n",
    "\n",
    "def calculate_circle_area(radius):\n",
    "    return round(math.pi * radius ** 2, 2)"
   ]
  },
  {
   "cell_type": "code",
   "execution_count": 2,
   "id": "8496ce61-2cb7-420d-9076-a42b898aab3f",
   "metadata": {},
   "outputs": [
    {
     "name": "stdout",
     "output_type": "stream",
     "text": [
      "圆的面积是: 78.54\n"
     ]
    }
   ],
   "source": [
    "# 调用函数\n",
    "area = calculate_circle_area(5)\n",
    "print(\"圆的面积是:\", area)"
   ]
  },
  {
   "cell_type": "markdown",
   "id": "c75d4c2d-25ff-4f83-8b65-fa23a987e55f",
   "metadata": {},
   "source": [
    "### 2. 计算总分和平均分\n",
    "\n",
    "编写一个名为 calculate_total_and_average 的函数，它接收一系列分数作为参数，并返回这些分数的总和和平均值。"
   ]
  },
  {
   "cell_type": "code",
   "execution_count": 3,
   "id": "ab5cef51-8da7-4f9f-962b-d1faefa69e60",
   "metadata": {},
   "outputs": [],
   "source": [
    "# *参数名 表示个数不确定的参数元组\n",
    "def calculate_total_and_average(*scores):\n",
    "    total = sum(scores)\n",
    "    average = total / len(scores)\n",
    "    return total, average"
   ]
  },
  {
   "cell_type": "code",
   "execution_count": 4,
   "id": "18931754-e665-45cd-9aef-7a0aed42b45d",
   "metadata": {},
   "outputs": [
    {
     "name": "stdout",
     "output_type": "stream",
     "text": [
      "总分是: 433 平均分是: 86.6\n"
     ]
    }
   ],
   "source": [
    "# 调用函数\n",
    "total, average = calculate_total_and_average(90, 85, 78, 92, 88)\n",
    "print(\"总分是:\", total, \"平均分是:\", average)"
   ]
  },
  {
   "cell_type": "markdown",
   "id": "121466c4-96e0-45e7-aed9-1faf97742440",
   "metadata": {},
   "source": [
    "### 3. 计算两点之间的距离\n",
    "\n",
    "编写一个名为 calculate_distance 的函数，它接收两个点的坐标作为参数（每个点的坐标由一个包含 x 和 y 的元组表示），并返回这两点间的距离。距离可以通过公式 $\\sqrt{(x_2 - x_1)^2 + (y_2 - y_1)^2}$计算。"
   ]
  },
  {
   "cell_type": "code",
   "execution_count": 5,
   "id": "67b77ace-e1e3-4b92-9672-2b70b976636e",
   "metadata": {},
   "outputs": [],
   "source": [
    "import math\n",
    "\n",
    "def calculate_distance(point1, point2):\n",
    "    return math.sqrt((point2[0] - point1[0])**2 + (point2[1] - point1[1])**2)"
   ]
  },
  {
   "cell_type": "code",
   "execution_count": 6,
   "id": "3b1cc39f-4cc3-45a7-86fd-48f5e838c286",
   "metadata": {},
   "outputs": [
    {
     "name": "stdout",
     "output_type": "stream",
     "text": [
      "两点间的距离是: 5.0\n"
     ]
    }
   ],
   "source": [
    "# 调用函数\n",
    "distance = calculate_distance((1, 2), (4, 6))\n",
    "print(\"两点间的距离是:\", distance)"
   ]
  },
  {
   "cell_type": "markdown",
   "id": "e1976b75-7187-441a-96ca-91453144010d",
   "metadata": {},
   "source": [
    "### 4. 折扣价格计算器\n",
    "\n",
    "编写一个名为 apply_discount 的函数，该函数接收商品的原价 price 和折扣比率 discount_rate（例如，0.2 表示 20% 的折扣）。函数应该返回打折后的价格。然后使用该函数计算并打印出原价 500 元、折扣率 20% 的商品的折扣后价格。"
   ]
  },
  {
   "cell_type": "code",
   "execution_count": 7,
   "id": "892262f9-37c5-4184-8f3c-585c113532cd",
   "metadata": {},
   "outputs": [],
   "source": [
    "def apply_discount(price, discount_rate):\n",
    "    return price * (1 - discount_rate)"
   ]
  },
  {
   "cell_type": "code",
   "execution_count": 8,
   "id": "4891378c-8cc5-4414-bc9b-c6b05392bc47",
   "metadata": {},
   "outputs": [
    {
     "name": "stdout",
     "output_type": "stream",
     "text": [
      "折扣后的价格是: 400.0\n"
     ]
    }
   ],
   "source": [
    "# 调用函数\n",
    "discounted_price = apply_discount(500, 0.2)\n",
    "print(\"折扣后的价格是:\", discounted_price)"
   ]
  },
  {
   "cell_type": "markdown",
   "id": "b21120b0-115b-43dc-bdab-eb8deb95cf8f",
   "metadata": {},
   "source": [
    "### 5. 股票收益率计算器\n",
    "\n",
    "编写一个名为 calculate_return 的函数，该函数接收两个参数：initial_investment（初始投资额）和 current_value（当前价值）。函数应返回投资的收益率，即 (当前价值 - 初始投资额) / 初始投资额 的值。然后使用该函数计算并打印出初始投资额 1000 元、当前价值 1200 元的投资收益率。"
   ]
  },
  {
   "cell_type": "code",
   "execution_count": 9,
   "id": "d4fbe168-fdbd-448e-a905-f9235c4ace42",
   "metadata": {},
   "outputs": [],
   "source": [
    "def calculate_return(initial_investment, current_value):\n",
    "    return (current_value - initial_investment) / initial_investment"
   ]
  },
  {
   "cell_type": "code",
   "execution_count": 10,
   "id": "0d0f6bf3-7bfe-4841-9583-bd20be5a296a",
   "metadata": {},
   "outputs": [
    {
     "name": "stdout",
     "output_type": "stream",
     "text": [
      "投资收益率是: 0.2\n"
     ]
    }
   ],
   "source": [
    "# 调用函数\n",
    "return_rate = calculate_return(1000, 1200)\n",
    "print(\"投资收益率是:\", return_rate)"
   ]
  },
  {
   "cell_type": "markdown",
   "id": "3767d0d1-4026-4ca8-885a-27fe60d148e5",
   "metadata": {},
   "source": [
    "### 6. 年度财务报告分析系统\n",
    "\n",
    "为一家公司创建一个年度财务报告分析系统。系统将包含多个函数，每个函数负责不同的财务分析任务。具体要求如下：\n",
    "\n",
    "函数1 - 收入录入： 编写一个名为 record_revenue 的函数，接收一个月份和该月份的收入金额，返回一个包含月份和收入的元组。\n",
    "\n",
    "函数2 - 成本录入： 编写一个名为 record_cost 的函数，操作类似于 record_revenue，但用于记录成本。\n",
    "\n",
    "函数3 - 年度总结： 编写一个名为 annual_summary 的函数，接收一系列收入和成本的元组，计算并返回总收入、总成本和总利润。\n",
    "\n",
    "系统运行： 使用这些函数记录一年中每个月的收入和成本，然后生成年度总结报告。"
   ]
  },
  {
   "cell_type": "code",
   "execution_count": 11,
   "id": "313d89bf-8923-4062-b628-557555304596",
   "metadata": {},
   "outputs": [],
   "source": [
    "def record_revenue(month, amount):\n",
    "    return (month, amount)\n",
    "\n",
    "def record_cost(month, amount):\n",
    "    return (month, amount)\n",
    "\n",
    "def annual_summary(revenues, costs):\n",
    "    total_revenue = sum(amount for month, amount in revenues)\n",
    "    total_cost = sum(amount for month, amount in costs)\n",
    "    total_profit = total_revenue - total_cost\n",
    "    return total_revenue, total_cost, total_profit"
   ]
  },
  {
   "cell_type": "code",
   "execution_count": 12,
   "id": "5ce1f8dc-e333-48a0-a0b9-f71091deb611",
   "metadata": {},
   "outputs": [
    {
     "name": "stdout",
     "output_type": "stream",
     "text": [
      "总收入: 32000, 总成本: 9000, 总利润: 23000\n"
     ]
    }
   ],
   "source": [
    "# 调用函数\n",
    "\n",
    "# 记录收入和成本\n",
    "monthly_revenues = [record_revenue(\"January\", 20000), record_revenue(\"February\", 12000)]\n",
    "monthly_costs = [record_cost(\"January\", 5000), record_cost(\"February\", 4000)]\n",
    "\n",
    "# 计算年度总结\n",
    "total_revenue, total_cost, total_profit = annual_summary(monthly_revenues, monthly_costs)\n",
    "\n",
    "print(f\"总收入: {total_revenue}, 总成本: {total_cost}, 总利润: {total_profit}\")"
   ]
  },
  {
   "cell_type": "markdown",
   "id": "18f35cd2-429d-4b38-a674-5b484a281a7c",
   "metadata": {},
   "source": [
    "### 7. 产品销售分析系统\n",
    "\n",
    "你需要为一家公司开发一个产品销售分析系统。该系统将涉及多个函数，以处理和分析不同的销售数据：\n",
    "\n",
    "函数1 - 销售记录： 编写一个名为 record_sale 的函数，它接收产品名称、售出数量和单价，返回一个记录了这些信息的字典；\n",
    "\n",
    "函数2 - 销售统计： 编写一个名为 calculate_sales 的函数，该函数接收一系列销售记录的字典，并计算每个产品的总销售额；\n",
    "\n",
    "函数3 - 最佳表现产品： 编写一个名为 best_performing_product 的函数，它基于销售额确定表现最佳的产品；\n",
    "\n",
    "函数4 - 销售报告： 编写一个名为 generate_report 的函数，它使用以上函数的输出生成一个包含总销售额和最佳表现产品的报告；\n",
    "\n",
    "系统运行： 使用这些函数处理一系列销售数据，并生成最终报告。"
   ]
  },
  {
   "cell_type": "code",
   "execution_count": 13,
   "id": "b310643c-a63b-43a0-9193-db8351750eed",
   "metadata": {},
   "outputs": [],
   "source": [
    "def record_sale(product_name, quantity, price):\n",
    "    return {\"product\": product_name, \"quantity\": quantity, \"price\": price}\n",
    "\n",
    "def calculate_sales(sales_records):\n",
    "    sales_totals = {}\n",
    "    for record in sales_records:\n",
    "        product = record[\"product\"]\n",
    "        total_sale = record[\"quantity\"] * record[\"price\"]\n",
    "        if product in sales_totals:\n",
    "            sales_totals[product] += total_sale\n",
    "        else:\n",
    "            sales_totals[product] = total_sale\n",
    "    return sales_totals\n",
    "\n",
    "def best_performing_product(sales_totals):\n",
    "    # 按照字典中的值进行排序，返回最大值对应的key\n",
    "    return max(sales_totals, key=sales_totals.get)\n",
    "\n",
    "def generate_report(sales_records):\n",
    "    sales_totals = calculate_sales(sales_records)\n",
    "    best_product = best_performing_product(sales_totals)\n",
    "    total_revenue = sum(sales_totals.values())\n",
    "    return f\"总销售额: {total_revenue}\\n最佳表现产品: {best_product}\""
   ]
  },
  {
   "cell_type": "code",
   "execution_count": 14,
   "id": "68d6cd02-97ab-47fa-b7e4-5d979b104cc7",
   "metadata": {},
   "outputs": [
    {
     "name": "stdout",
     "output_type": "stream",
     "text": [
      "总销售额: 27500\n",
      "最佳表现产品: 智能手机\n"
     ]
    }
   ],
   "source": [
    "# 调用函数\n",
    "\n",
    "# 示例销售数据\n",
    "sales_data = [\n",
    "    record_sale(\"笔记本电脑\", 10, 500),\n",
    "    record_sale(\"智能手机\", 30, 300),\n",
    "    record_sale(\"耳机\", 50, 50),\n",
    "    record_sale(\"智能手表\", 20, 200),\n",
    "    record_sale(\"笔记本电脑\", 5, 500),\n",
    "    record_sale(\"智能手机\", 15, 300)\n",
    "]\n",
    "\n",
    "# 生成报告\n",
    "report = generate_report(sales_data)\n",
    "print(report)"
   ]
  }
 ],
 "metadata": {
  "kernelspec": {
   "display_name": "Python 3 (ipykernel)",
   "language": "python",
   "name": "python3"
  },
  "language_info": {
   "codemirror_mode": {
    "name": "ipython",
    "version": 3
   },
   "file_extension": ".py",
   "mimetype": "text/x-python",
   "name": "python",
   "nbconvert_exporter": "python",
   "pygments_lexer": "ipython3",
   "version": "3.9.7"
  }
 },
 "nbformat": 4,
 "nbformat_minor": 5
}
