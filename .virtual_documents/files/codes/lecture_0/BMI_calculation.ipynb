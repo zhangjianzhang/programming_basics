# 计算BMI指数


Height = float(input("请输入身高(m): "))


Weight = float(input("请输入体重(kg): "))


BMI = round(Weight/Height**2, 2)


if BMI>=23.9:
    print("BMI指数为", BMI, "体质偏重")
elif BMI<=18.5:
    print("BMI指数为", BMI, "体质偏轻")
else:
    print("BMI指数为", BMI, "正常")
